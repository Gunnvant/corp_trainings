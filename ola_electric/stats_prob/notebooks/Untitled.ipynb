{
 "cells": [
  {
   "cell_type": "code",
   "execution_count": 1,
   "id": "30b0b38e-6dae-4da3-894c-87dd3be7d991",
   "metadata": {},
   "outputs": [],
   "source": [
    "from scipy.stats import f_oneway"
   ]
  },
  {
   "cell_type": "code",
   "execution_count": 2,
   "id": "88a95285-f9df-4b59-83d9-aca7379ecc6e",
   "metadata": {},
   "outputs": [],
   "source": [
    "g1 = [2.20,2.40,2.10,2.70,2.25]\n",
    "g2 = [2,4,5,6,7]\n",
    "g3 = [5,7,8,9,11]"
   ]
  },
  {
   "cell_type": "code",
   "execution_count": 3,
   "id": "e6b25c83-bec7-4666-9390-1f96c978a608",
   "metadata": {},
   "outputs": [
    {
     "data": {
      "text/plain": [
       "F_onewayResult(statistic=13.847107202010402, pvalue=0.0007633508777981094)"
      ]
     },
     "execution_count": 3,
     "metadata": {},
     "output_type": "execute_result"
    }
   ],
   "source": [
    "f_oneway(g1,g2,g3)"
   ]
  },
  {
   "cell_type": "code",
   "execution_count": 5,
   "id": "c21d2229-e3c4-4f9b-bb7b-0aaaccaed100",
   "metadata": {},
   "outputs": [],
   "source": [
    "import statsmodels.api as sm\n",
    "from statsmodels.formula.api import ols\n",
    "import pandas as pd"
   ]
  },
  {
   "cell_type": "code",
   "execution_count": 7,
   "id": "5e6d0e85-3f02-44ac-b75b-db9e4f407264",
   "metadata": {},
   "outputs": [],
   "source": [
    "url = \"https://raw.githubusercontent.com/Gunnvant/corp_trainings/main/ola_electric/stats_prob/psets/data1.csv\""
   ]
  },
  {
   "cell_type": "code",
   "execution_count": 8,
   "id": "61ee5044-6201-4f5d-bb48-802ec12d05e0",
   "metadata": {},
   "outputs": [],
   "source": [
    "data = pd.read_csv(url)"
   ]
  },
  {
   "cell_type": "code",
   "execution_count": 9,
   "id": "836394d1-6746-4af8-b558-fde517bc2034",
   "metadata": {},
   "outputs": [
    {
     "data": {
      "text/html": [
       "<div>\n",
       "<style scoped>\n",
       "    .dataframe tbody tr th:only-of-type {\n",
       "        vertical-align: middle;\n",
       "    }\n",
       "\n",
       "    .dataframe tbody tr th {\n",
       "        vertical-align: top;\n",
       "    }\n",
       "\n",
       "    .dataframe thead th {\n",
       "        text-align: right;\n",
       "    }\n",
       "</style>\n",
       "<table border=\"1\" class=\"dataframe\">\n",
       "  <thead>\n",
       "    <tr style=\"text-align: right;\">\n",
       "      <th></th>\n",
       "      <th>Platform</th>\n",
       "      <th>City</th>\n",
       "      <th>Bouncerate</th>\n",
       "    </tr>\n",
       "  </thead>\n",
       "  <tbody>\n",
       "    <tr>\n",
       "      <th>0</th>\n",
       "      <td>android</td>\n",
       "      <td>San Jose</td>\n",
       "      <td>0.196951</td>\n",
       "    </tr>\n",
       "    <tr>\n",
       "      <th>1</th>\n",
       "      <td>android</td>\n",
       "      <td>San Jose</td>\n",
       "      <td>0.225292</td>\n",
       "    </tr>\n",
       "  </tbody>\n",
       "</table>\n",
       "</div>"
      ],
      "text/plain": [
       "  Platform      City  Bouncerate\n",
       "0  android  San Jose    0.196951\n",
       "1  android  San Jose    0.225292"
      ]
     },
     "execution_count": 9,
     "metadata": {},
     "output_type": "execute_result"
    }
   ],
   "source": [
    "data.head(2)"
   ]
  },
  {
   "cell_type": "code",
   "execution_count": 11,
   "id": "27e47c18-94a6-483c-bef6-946069924025",
   "metadata": {},
   "outputs": [],
   "source": [
    "model = ols(\"Bouncerate~C(Platform)+C(City)+C(Platform):C(City)\",data=data).fit()"
   ]
  },
  {
   "cell_type": "code",
   "execution_count": 12,
   "id": "69a36b5c-9b5f-4e9a-94f3-3a15c98269d0",
   "metadata": {},
   "outputs": [
    {
     "data": {
      "text/html": [
       "<div>\n",
       "<style scoped>\n",
       "    .dataframe tbody tr th:only-of-type {\n",
       "        vertical-align: middle;\n",
       "    }\n",
       "\n",
       "    .dataframe tbody tr th {\n",
       "        vertical-align: top;\n",
       "    }\n",
       "\n",
       "    .dataframe thead th {\n",
       "        text-align: right;\n",
       "    }\n",
       "</style>\n",
       "<table border=\"1\" class=\"dataframe\">\n",
       "  <thead>\n",
       "    <tr style=\"text-align: right;\">\n",
       "      <th></th>\n",
       "      <th>sum_sq</th>\n",
       "      <th>df</th>\n",
       "      <th>F</th>\n",
       "      <th>PR(&gt;F)</th>\n",
       "    </tr>\n",
       "  </thead>\n",
       "  <tbody>\n",
       "    <tr>\n",
       "      <th>C(Platform)</th>\n",
       "      <td>0.038444</td>\n",
       "      <td>1.0</td>\n",
       "      <td>2.342189</td>\n",
       "      <td>0.145443</td>\n",
       "    </tr>\n",
       "    <tr>\n",
       "      <th>C(City)</th>\n",
       "      <td>0.000433</td>\n",
       "      <td>1.0</td>\n",
       "      <td>0.026383</td>\n",
       "      <td>0.873003</td>\n",
       "    </tr>\n",
       "    <tr>\n",
       "      <th>C(Platform):C(City)</th>\n",
       "      <td>0.000398</td>\n",
       "      <td>1.0</td>\n",
       "      <td>0.024278</td>\n",
       "      <td>0.878130</td>\n",
       "    </tr>\n",
       "    <tr>\n",
       "      <th>Residual</th>\n",
       "      <td>0.262621</td>\n",
       "      <td>16.0</td>\n",
       "      <td>NaN</td>\n",
       "      <td>NaN</td>\n",
       "    </tr>\n",
       "  </tbody>\n",
       "</table>\n",
       "</div>"
      ],
      "text/plain": [
       "                       sum_sq    df         F    PR(>F)\n",
       "C(Platform)          0.038444   1.0  2.342189  0.145443\n",
       "C(City)              0.000433   1.0  0.026383  0.873003\n",
       "C(Platform):C(City)  0.000398   1.0  0.024278  0.878130\n",
       "Residual             0.262621  16.0       NaN       NaN"
      ]
     },
     "execution_count": 12,
     "metadata": {},
     "output_type": "execute_result"
    }
   ],
   "source": [
    "sm.stats.anova_lm(model, typ=2)"
   ]
  },
  {
   "cell_type": "code",
   "execution_count": 13,
   "id": "ba887e27-ae6c-4778-afdd-2b3fe446d071",
   "metadata": {},
   "outputs": [
    {
     "data": {
      "text/html": [
       "<div>\n",
       "<style scoped>\n",
       "    .dataframe tbody tr th:only-of-type {\n",
       "        vertical-align: middle;\n",
       "    }\n",
       "\n",
       "    .dataframe tbody tr th {\n",
       "        vertical-align: top;\n",
       "    }\n",
       "\n",
       "    .dataframe thead th {\n",
       "        text-align: right;\n",
       "    }\n",
       "</style>\n",
       "<table border=\"1\" class=\"dataframe\">\n",
       "  <thead>\n",
       "    <tr style=\"text-align: right;\">\n",
       "      <th></th>\n",
       "      <th>YouTube</th>\n",
       "      <th>Unnamed: 1</th>\n",
       "      <th>Facebook</th>\n",
       "      <th>Unnamed: 3</th>\n",
       "      <th>Unnamed: 4</th>\n",
       "      <th>Unnamed: 5</th>\n",
       "      <th>Google</th>\n",
       "      <th>Unnamed: 7</th>\n",
       "      <th>Yahoo</th>\n",
       "    </tr>\n",
       "  </thead>\n",
       "  <tbody>\n",
       "    <tr>\n",
       "      <th>0</th>\n",
       "      <td>0.201947</td>\n",
       "      <td>NaN</td>\n",
       "      <td>0.162873</td>\n",
       "      <td>NaN</td>\n",
       "      <td>NaN</td>\n",
       "      <td>NaN</td>\n",
       "      <td>0.348631</td>\n",
       "      <td>NaN</td>\n",
       "      <td>0.052876</td>\n",
       "    </tr>\n",
       "    <tr>\n",
       "      <th>1</th>\n",
       "      <td>0.230060</td>\n",
       "      <td>NaN</td>\n",
       "      <td>0.191531</td>\n",
       "      <td>NaN</td>\n",
       "      <td>NaN</td>\n",
       "      <td>NaN</td>\n",
       "      <td>0.178958</td>\n",
       "      <td>NaN</td>\n",
       "      <td>0.096790</td>\n",
       "    </tr>\n",
       "    <tr>\n",
       "      <th>2</th>\n",
       "      <td>0.346935</td>\n",
       "      <td>NaN</td>\n",
       "      <td>0.174132</td>\n",
       "      <td>NaN</td>\n",
       "      <td>NaN</td>\n",
       "      <td>NaN</td>\n",
       "      <td>0.213008</td>\n",
       "      <td>NaN</td>\n",
       "      <td>0.066650</td>\n",
       "    </tr>\n",
       "    <tr>\n",
       "      <th>3</th>\n",
       "      <td>0.079646</td>\n",
       "      <td>NaN</td>\n",
       "      <td>0.221786</td>\n",
       "      <td>NaN</td>\n",
       "      <td>NaN</td>\n",
       "      <td>NaN</td>\n",
       "      <td>0.334882</td>\n",
       "      <td>NaN</td>\n",
       "      <td>0.081001</td>\n",
       "    </tr>\n",
       "    <tr>\n",
       "      <th>4</th>\n",
       "      <td>0.219418</td>\n",
       "      <td>NaN</td>\n",
       "      <td>0.236989</td>\n",
       "      <td>NaN</td>\n",
       "      <td>NaN</td>\n",
       "      <td>NaN</td>\n",
       "      <td>0.300493</td>\n",
       "      <td>NaN</td>\n",
       "      <td>0.017403</td>\n",
       "    </tr>\n",
       "  </tbody>\n",
       "</table>\n",
       "</div>"
      ],
      "text/plain": [
       "    YouTube  Unnamed: 1  Facebook  Unnamed: 3  Unnamed: 4  Unnamed: 5  \\\n",
       "0  0.201947         NaN  0.162873         NaN         NaN         NaN   \n",
       "1  0.230060         NaN  0.191531         NaN         NaN         NaN   \n",
       "2  0.346935         NaN  0.174132         NaN         NaN         NaN   \n",
       "3  0.079646         NaN  0.221786         NaN         NaN         NaN   \n",
       "4  0.219418         NaN  0.236989         NaN         NaN         NaN   \n",
       "\n",
       "     Google  Unnamed: 7     Yahoo  \n",
       "0  0.348631         NaN  0.052876  \n",
       "1  0.178958         NaN  0.096790  \n",
       "2  0.213008         NaN  0.066650  \n",
       "3  0.334882         NaN  0.081001  \n",
       "4  0.300493         NaN  0.017403  "
      ]
     },
     "execution_count": 13,
     "metadata": {},
     "output_type": "execute_result"
    }
   ],
   "source": [
    "path = \"/Users/gunnvantsaini/Downloads/df1.csv\"\n",
    "data1 = pd.read_csv(path)\n",
    "data1.head()"
   ]
  },
  {
   "cell_type": "code",
   "execution_count": 14,
   "id": "3ff7f8eb-8c02-4c6b-a633-b81dd78707b7",
   "metadata": {},
   "outputs": [],
   "source": [
    "yt = data1['YouTube']\n",
    "fb = data1['Facebook']\n",
    "g = data1['Google']\n",
    "y = data1['Yahoo']"
   ]
  },
  {
   "cell_type": "code",
   "execution_count": 15,
   "id": "31bba340-3fff-41da-9922-00af71ef2a1e",
   "metadata": {},
   "outputs": [
    {
     "data": {
      "text/plain": [
       "F_onewayResult(statistic=14.479865227399385, pvalue=4.255045103401773e-07)"
      ]
     },
     "execution_count": 15,
     "metadata": {},
     "output_type": "execute_result"
    }
   ],
   "source": [
    "f_oneway(yt,fb,g,y)"
   ]
  },
  {
   "cell_type": "code",
   "execution_count": 16,
   "id": "e07030f3-a5c7-4fc9-938e-b02765fdd7b2",
   "metadata": {},
   "outputs": [
    {
     "data": {
      "text/html": [
       "<div>\n",
       "<style scoped>\n",
       "    .dataframe tbody tr th:only-of-type {\n",
       "        vertical-align: middle;\n",
       "    }\n",
       "\n",
       "    .dataframe tbody tr th {\n",
       "        vertical-align: top;\n",
       "    }\n",
       "\n",
       "    .dataframe thead th {\n",
       "        text-align: right;\n",
       "    }\n",
       "</style>\n",
       "<table border=\"1\" class=\"dataframe\">\n",
       "  <thead>\n",
       "    <tr style=\"text-align: right;\">\n",
       "      <th></th>\n",
       "      <th>Session_id</th>\n",
       "      <th>City</th>\n",
       "      <th>Device</th>\n",
       "    </tr>\n",
       "  </thead>\n",
       "  <tbody>\n",
       "    <tr>\n",
       "      <th>0</th>\n",
       "      <td>aaa.ccqrt 10000.74</td>\n",
       "      <td>LA</td>\n",
       "      <td>iphone</td>\n",
       "    </tr>\n",
       "    <tr>\n",
       "      <th>1</th>\n",
       "      <td>aaa.ccqrt 9999.16</td>\n",
       "      <td>Kentucky</td>\n",
       "      <td>android</td>\n",
       "    </tr>\n",
       "  </tbody>\n",
       "</table>\n",
       "</div>"
      ],
      "text/plain": [
       "           Session_id      City   Device\n",
       "0  aaa.ccqrt 10000.74        LA   iphone\n",
       "1   aaa.ccqrt 9999.16  Kentucky  android"
      ]
     },
     "execution_count": 16,
     "metadata": {},
     "output_type": "execute_result"
    }
   ],
   "source": [
    "url = \"https://raw.githubusercontent.com/Gunnvant/corp_trainings/main/ola_electric/stats_prob/psets/data3.csv\"\n",
    "data3 = pd.read_csv(url)\n",
    "data3.head(2)"
   ]
  },
  {
   "cell_type": "code",
   "execution_count": 18,
   "id": "f8a722b7-99a9-40a3-96e1-a36bcbb7797d",
   "metadata": {},
   "outputs": [
    {
     "data": {
      "text/html": [
       "<div>\n",
       "<style scoped>\n",
       "    .dataframe tbody tr th:only-of-type {\n",
       "        vertical-align: middle;\n",
       "    }\n",
       "\n",
       "    .dataframe tbody tr th {\n",
       "        vertical-align: top;\n",
       "    }\n",
       "\n",
       "    .dataframe thead th {\n",
       "        text-align: right;\n",
       "    }\n",
       "</style>\n",
       "<table border=\"1\" class=\"dataframe\">\n",
       "  <thead>\n",
       "    <tr style=\"text-align: right;\">\n",
       "      <th></th>\n",
       "      <th></th>\n",
       "      <th>City</th>\n",
       "    </tr>\n",
       "    <tr>\n",
       "      <th>City</th>\n",
       "      <th>Device</th>\n",
       "      <th></th>\n",
       "    </tr>\n",
       "  </thead>\n",
       "  <tbody>\n",
       "    <tr>\n",
       "      <th>Alabama</th>\n",
       "      <th>android</th>\n",
       "      <td>140</td>\n",
       "    </tr>\n",
       "    <tr>\n",
       "      <th rowspan=\"2\" valign=\"top\">Kentucky</th>\n",
       "      <th>android</th>\n",
       "      <td>42</td>\n",
       "    </tr>\n",
       "    <tr>\n",
       "      <th>iphone</th>\n",
       "      <td>43</td>\n",
       "    </tr>\n",
       "    <tr>\n",
       "      <th>LA</th>\n",
       "      <th>iphone</th>\n",
       "      <td>175</td>\n",
       "    </tr>\n",
       "  </tbody>\n",
       "</table>\n",
       "</div>"
      ],
      "text/plain": [
       "                  City\n",
       "City     Device       \n",
       "Alabama  android   140\n",
       "Kentucky android    42\n",
       "         iphone     43\n",
       "LA       iphone    175"
      ]
     },
     "execution_count": 18,
     "metadata": {},
     "output_type": "execute_result"
    }
   ],
   "source": [
    "data3.groupby(['City','Device']).agg({'City':'count'})"
   ]
  },
  {
   "cell_type": "code",
   "execution_count": 22,
   "id": "65d116b8-307d-419b-825a-2a09343e4b37",
   "metadata": {},
   "outputs": [
    {
     "data": {
      "text/html": [
       "<div>\n",
       "<style scoped>\n",
       "    .dataframe tbody tr th:only-of-type {\n",
       "        vertical-align: middle;\n",
       "    }\n",
       "\n",
       "    .dataframe tbody tr th {\n",
       "        vertical-align: top;\n",
       "    }\n",
       "\n",
       "    .dataframe thead th {\n",
       "        text-align: right;\n",
       "    }\n",
       "</style>\n",
       "<table border=\"1\" class=\"dataframe\">\n",
       "  <thead>\n",
       "    <tr style=\"text-align: right;\">\n",
       "      <th>Device</th>\n",
       "      <th>android</th>\n",
       "      <th>iphone</th>\n",
       "    </tr>\n",
       "    <tr>\n",
       "      <th>City</th>\n",
       "      <th></th>\n",
       "      <th></th>\n",
       "    </tr>\n",
       "  </thead>\n",
       "  <tbody>\n",
       "    <tr>\n",
       "      <th>Alabama</th>\n",
       "      <td>140</td>\n",
       "      <td>0</td>\n",
       "    </tr>\n",
       "    <tr>\n",
       "      <th>Kentucky</th>\n",
       "      <td>42</td>\n",
       "      <td>43</td>\n",
       "    </tr>\n",
       "    <tr>\n",
       "      <th>LA</th>\n",
       "      <td>0</td>\n",
       "      <td>175</td>\n",
       "    </tr>\n",
       "  </tbody>\n",
       "</table>\n",
       "</div>"
      ],
      "text/plain": [
       "Device    android  iphone\n",
       "City                     \n",
       "Alabama       140       0\n",
       "Kentucky       42      43\n",
       "LA              0     175"
      ]
     },
     "execution_count": 22,
     "metadata": {},
     "output_type": "execute_result"
    }
   ],
   "source": [
    "pd.crosstab(data3['City'],data3['Device'])"
   ]
  },
  {
   "cell_type": "code",
   "execution_count": 23,
   "id": "bb337d5a-5a46-4d31-9d4d-00e30fa89268",
   "metadata": {},
   "outputs": [],
   "source": [
    "from scipy.stats import chi2_contingency"
   ]
  },
  {
   "cell_type": "code",
   "execution_count": 25,
   "id": "a661f222-3339-457d-8720-cdccc541d218",
   "metadata": {},
   "outputs": [
    {
     "data": {
      "text/plain": [
       "(314.3177383868155,\n",
       " 5.581749307221087e-69,\n",
       " 2,\n",
       " array([[63.7  , 76.3  ],\n",
       "        [38.675, 46.325],\n",
       "        [79.625, 95.375]]))"
      ]
     },
     "execution_count": 25,
     "metadata": {},
     "output_type": "execute_result"
    }
   ],
   "source": [
    "chi2_contingency(pd.crosstab(data3['City'],data3['Device']))"
   ]
  },
  {
   "cell_type": "code",
   "execution_count": 27,
   "id": "7c7bea56-a7c4-423e-98d7-2df6cb1eb83a",
   "metadata": {},
   "outputs": [
    {
     "data": {
      "text/plain": [
       "\u001b[0;31mSignature:\u001b[0m \u001b[0mchi2_contingency\u001b[0m\u001b[0;34m(\u001b[0m\u001b[0mobserved\u001b[0m\u001b[0;34m,\u001b[0m \u001b[0mcorrection\u001b[0m\u001b[0;34m=\u001b[0m\u001b[0;32mTrue\u001b[0m\u001b[0;34m,\u001b[0m \u001b[0mlambda_\u001b[0m\u001b[0;34m=\u001b[0m\u001b[0;32mNone\u001b[0m\u001b[0;34m)\u001b[0m\u001b[0;34m\u001b[0m\u001b[0;34m\u001b[0m\u001b[0m\n",
       "\u001b[0;31mDocstring:\u001b[0m\n",
       "Chi-square test of independence of variables in a contingency table.\n",
       "\n",
       "This function computes the chi-square statistic and p-value for the\n",
       "hypothesis test of independence of the observed frequencies in the\n",
       "contingency table [1]_ `observed`.  The expected frequencies are computed\n",
       "based on the marginal sums under the assumption of independence; see\n",
       "`scipy.stats.contingency.expected_freq`.  The number of degrees of\n",
       "freedom is (expressed using numpy functions and attributes)::\n",
       "\n",
       "    dof = observed.size - sum(observed.shape) + observed.ndim - 1\n",
       "\n",
       "\n",
       "Parameters\n",
       "----------\n",
       "observed : array_like\n",
       "    The contingency table. The table contains the observed frequencies\n",
       "    (i.e. number of occurrences) in each category.  In the two-dimensional\n",
       "    case, the table is often described as an \"R x C table\".\n",
       "correction : bool, optional\n",
       "    If True, *and* the degrees of freedom is 1, apply Yates' correction\n",
       "    for continuity.  The effect of the correction is to adjust each\n",
       "    observed value by 0.5 towards the corresponding expected value.\n",
       "lambda_ : float or str, optional\n",
       "    By default, the statistic computed in this test is Pearson's\n",
       "    chi-squared statistic [2]_.  `lambda_` allows a statistic from the\n",
       "    Cressie-Read power divergence family [3]_ to be used instead.  See\n",
       "    `scipy.stats.power_divergence` for details.\n",
       "\n",
       "Returns\n",
       "-------\n",
       "chi2 : float\n",
       "    The test statistic.\n",
       "p : float\n",
       "    The p-value of the test\n",
       "dof : int\n",
       "    Degrees of freedom\n",
       "expected : ndarray, same shape as `observed`\n",
       "    The expected frequencies, based on the marginal sums of the table.\n",
       "\n",
       "See Also\n",
       "--------\n",
       "scipy.stats.contingency.expected_freq\n",
       "scipy.stats.fisher_exact\n",
       "scipy.stats.chisquare\n",
       "scipy.stats.power_divergence\n",
       "scipy.stats.barnard_exact\n",
       "scipy.stats.boschloo_exact\n",
       "\n",
       "Notes\n",
       "-----\n",
       "An often quoted guideline for the validity of this calculation is that\n",
       "the test should be used only if the observed and expected frequencies\n",
       "in each cell are at least 5.\n",
       "\n",
       "This is a test for the independence of different categories of a\n",
       "population. The test is only meaningful when the dimension of\n",
       "`observed` is two or more.  Applying the test to a one-dimensional\n",
       "table will always result in `expected` equal to `observed` and a\n",
       "chi-square statistic equal to 0.\n",
       "\n",
       "This function does not handle masked arrays, because the calculation\n",
       "does not make sense with missing values.\n",
       "\n",
       "Like stats.chisquare, this function computes a chi-square statistic;\n",
       "the convenience this function provides is to figure out the expected\n",
       "frequencies and degrees of freedom from the given contingency table.\n",
       "If these were already known, and if the Yates' correction was not\n",
       "required, one could use stats.chisquare.  That is, if one calls::\n",
       "\n",
       "    chi2, p, dof, ex = chi2_contingency(obs, correction=False)\n",
       "\n",
       "then the following is true::\n",
       "\n",
       "    (chi2, p) == stats.chisquare(obs.ravel(), f_exp=ex.ravel(),\n",
       "                                 ddof=obs.size - 1 - dof)\n",
       "\n",
       "The `lambda_` argument was added in version 0.13.0 of scipy.\n",
       "\n",
       "References\n",
       "----------\n",
       ".. [1] \"Contingency table\",\n",
       "       https://en.wikipedia.org/wiki/Contingency_table\n",
       ".. [2] \"Pearson's chi-squared test\",\n",
       "       https://en.wikipedia.org/wiki/Pearson%27s_chi-squared_test\n",
       ".. [3] Cressie, N. and Read, T. R. C., \"Multinomial Goodness-of-Fit\n",
       "       Tests\", J. Royal Stat. Soc. Series B, Vol. 46, No. 3 (1984),\n",
       "       pp. 440-464.\n",
       "\n",
       "Examples\n",
       "--------\n",
       "A two-way example (2 x 3):\n",
       "\n",
       ">>> from scipy.stats import chi2_contingency\n",
       ">>> obs = np.array([[10, 10, 20], [20, 20, 20]])\n",
       ">>> chi2_contingency(obs)\n",
       "(2.7777777777777777,\n",
       " 0.24935220877729619,\n",
       " 2,\n",
       " array([[ 12.,  12.,  16.],\n",
       "        [ 18.,  18.,  24.]]))\n",
       "\n",
       "Perform the test using the log-likelihood ratio (i.e. the \"G-test\")\n",
       "instead of Pearson's chi-squared statistic.\n",
       "\n",
       ">>> g, p, dof, expctd = chi2_contingency(obs, lambda_=\"log-likelihood\")\n",
       ">>> g, p\n",
       "(2.7688587616781319, 0.25046668010954165)\n",
       "\n",
       "A four-way example (2 x 2 x 2 x 2):\n",
       "\n",
       ">>> obs = np.array(\n",
       "...     [[[[12, 17],\n",
       "...        [11, 16]],\n",
       "...       [[11, 12],\n",
       "...        [15, 16]]],\n",
       "...      [[[23, 15],\n",
       "...        [30, 22]],\n",
       "...       [[14, 17],\n",
       "...        [15, 16]]]])\n",
       ">>> chi2_contingency(obs)\n",
       "(8.7584514426741897,\n",
       " 0.64417725029295503,\n",
       " 11,\n",
       " array([[[[ 14.15462386,  14.15462386],\n",
       "          [ 16.49423111,  16.49423111]],\n",
       "         [[ 11.2461395 ,  11.2461395 ],\n",
       "          [ 13.10500554,  13.10500554]]],\n",
       "        [[[ 19.5591166 ,  19.5591166 ],\n",
       "          [ 22.79202844,  22.79202844]],\n",
       "         [[ 15.54012004,  15.54012004],\n",
       "          [ 18.10873492,  18.10873492]]]]))\n",
       "\u001b[0;31mFile:\u001b[0m      ~/miniforge3/lib/python3.9/site-packages/scipy/stats/contingency.py\n",
       "\u001b[0;31mType:\u001b[0m      function\n"
      ]
     },
     "metadata": {},
     "output_type": "display_data"
    }
   ],
   "source": [
    "?chi2_contingency"
   ]
  },
  {
   "cell_type": "code",
   "execution_count": 28,
   "id": "b06de6cf-56f6-4a86-a081-c9a388481ad3",
   "metadata": {},
   "outputs": [],
   "source": [
    "r1 = [30,43,46,46,62]\n",
    "r2 = [45,32,29,29,13]"
   ]
  },
  {
   "cell_type": "code",
   "execution_count": 30,
   "id": "f01824e2-6725-457d-a974-6571ef80997b",
   "metadata": {},
   "outputs": [],
   "source": [
    "import numpy as np\n",
    "arr = np.array([r1,r2])"
   ]
  },
  {
   "cell_type": "code",
   "execution_count": 31,
   "id": "29897074-8c80-4f2d-8798-7f139bcf946a",
   "metadata": {},
   "outputs": [
    {
     "data": {
      "text/plain": [
       "(28.976663888558164,\n",
       " 7.903182894287741e-06,\n",
       " 4,\n",
       " array([[45.4, 45.4, 45.4, 45.4, 45.4],\n",
       "        [29.6, 29.6, 29.6, 29.6, 29.6]]))"
      ]
     },
     "execution_count": 31,
     "metadata": {},
     "output_type": "execute_result"
    }
   ],
   "source": [
    "chi2_contingency(arr)"
   ]
  },
  {
   "cell_type": "code",
   "execution_count": null,
   "id": "952ae2c7-5b8e-4f78-83f7-62e7e83212bb",
   "metadata": {},
   "outputs": [],
   "source": []
  }
 ],
 "metadata": {
  "kernelspec": {
   "display_name": "Python 3 (ipykernel)",
   "language": "python",
   "name": "python3"
  },
  "language_info": {
   "codemirror_mode": {
    "name": "ipython",
    "version": 3
   },
   "file_extension": ".py",
   "mimetype": "text/x-python",
   "name": "python",
   "nbconvert_exporter": "python",
   "pygments_lexer": "ipython3",
   "version": "3.9.10"
  }
 },
 "nbformat": 4,
 "nbformat_minor": 5
}
