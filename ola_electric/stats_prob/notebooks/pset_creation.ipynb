{
 "cells": [
  {
   "cell_type": "code",
   "execution_count": 1,
   "id": "7833bc00-2ac2-4247-b557-cc60463ed738",
   "metadata": {},
   "outputs": [],
   "source": [
    "import numpy as np\n",
    "import pandas as pd\n",
    "import json"
   ]
  },
  {
   "cell_type": "code",
   "execution_count": 2,
   "id": "0a706bb1-305c-4aec-a9c7-9095dd7121fc",
   "metadata": {},
   "outputs": [],
   "source": [
    "have_tv = np.random.binomial(1,0.8,780)\n",
    "have_car = np.random.binomial(1,0.3,780)\n",
    "own_home = np.random.binomial(1,0.2,780)\n",
    "survey = pd.DataFrame({'own_tv':have_tv,'own_car':have_car,'own_house':own_home})"
   ]
  },
  {
   "cell_type": "code",
   "execution_count": 3,
   "id": "17607f9b-bd4b-4194-ad86-f45448ace897",
   "metadata": {},
   "outputs": [],
   "source": [
    "def resp(x):\n",
    "    if x == 1:\n",
    "        r = \"yes\"\n",
    "    else:\n",
    "        r = \"no\"\n",
    "    return r\n",
    "for col_name in ['own_tv','own_car','own_house']:\n",
    "    survey[col_name]=survey[col_name].map(resp)"
   ]
  },
  {
   "cell_type": "code",
   "execution_count": 4,
   "id": "5ba6fdff-e7b4-4683-9e98-6764ce5aa5a4",
   "metadata": {},
   "outputs": [
    {
     "data": {
      "text/html": [
       "<div>\n",
       "<style scoped>\n",
       "    .dataframe tbody tr th:only-of-type {\n",
       "        vertical-align: middle;\n",
       "    }\n",
       "\n",
       "    .dataframe tbody tr th {\n",
       "        vertical-align: top;\n",
       "    }\n",
       "\n",
       "    .dataframe thead th {\n",
       "        text-align: right;\n",
       "    }\n",
       "</style>\n",
       "<table border=\"1\" class=\"dataframe\">\n",
       "  <thead>\n",
       "    <tr style=\"text-align: right;\">\n",
       "      <th></th>\n",
       "      <th>own_tv</th>\n",
       "      <th>own_car</th>\n",
       "      <th>own_house</th>\n",
       "    </tr>\n",
       "  </thead>\n",
       "  <tbody>\n",
       "    <tr>\n",
       "      <th>0</th>\n",
       "      <td>yes</td>\n",
       "      <td>no</td>\n",
       "      <td>no</td>\n",
       "    </tr>\n",
       "    <tr>\n",
       "      <th>1</th>\n",
       "      <td>yes</td>\n",
       "      <td>no</td>\n",
       "      <td>no</td>\n",
       "    </tr>\n",
       "  </tbody>\n",
       "</table>\n",
       "</div>"
      ],
      "text/plain": [
       "  own_tv own_car own_house\n",
       "0    yes      no        no\n",
       "1    yes      no        no"
      ]
     },
     "execution_count": 4,
     "metadata": {},
     "output_type": "execute_result"
    }
   ],
   "source": [
    "survey.head(2)"
   ]
  },
  {
   "cell_type": "code",
   "execution_count": 7,
   "id": "dd6885a9-c486-4dc6-a129-932a510e1493",
   "metadata": {},
   "outputs": [],
   "source": [
    "data = []\n",
    "for idx,row in survey.iterrows():\n",
    "    resp = f\"respondent_{idx+1}\"\n",
    "    d = {resp : {'owns_tv':row['own_tv'],\n",
    "                'owns_car':row['own_car'],\n",
    "                'owns_house':row['own_house']}}\n",
    "    data.append(d)\n",
    "res = {'results':data}"
   ]
  },
  {
   "cell_type": "code",
   "execution_count": 10,
   "id": "7bf9b3bc-dd33-458f-90d4-be97e7d60333",
   "metadata": {},
   "outputs": [],
   "source": [
    "with open('../psets/survey_prosperity.json','w') as con:\n",
    "    json.dump(res,con)"
   ]
  },
  {
   "cell_type": "code",
   "execution_count": null,
   "id": "e8076998-b7a8-4a83-8d55-d9005cac1a7b",
   "metadata": {},
   "outputs": [],
   "source": [
    "### website sessions\n",
    "\n"
   ]
  }
 ],
 "metadata": {
  "kernelspec": {
   "display_name": "Python 3 (ipykernel)",
   "language": "python",
   "name": "python3"
  },
  "language_info": {
   "codemirror_mode": {
    "name": "ipython",
    "version": 3
   },
   "file_extension": ".py",
   "mimetype": "text/x-python",
   "name": "python",
   "nbconvert_exporter": "python",
   "pygments_lexer": "ipython3",
   "version": "3.9.10"
  }
 },
 "nbformat": 4,
 "nbformat_minor": 5
}
