{
 "cells": [
  {
   "cell_type": "code",
   "execution_count": 1,
   "id": "c662da80-7586-42ad-90d8-8ed65f6b04a1",
   "metadata": {},
   "outputs": [],
   "source": [
    "import json\n",
    "import pandas as pd"
   ]
  },
  {
   "cell_type": "code",
   "execution_count": 2,
   "id": "e659ad57-ab8a-467e-bec3-d9fcca72b2f6",
   "metadata": {},
   "outputs": [],
   "source": [
    "with open(\"survey.json\",\"r\") as con:\n",
    "    data = json.loads(con.read())"
   ]
  },
  {
   "cell_type": "code",
   "execution_count": 4,
   "id": "4a428d67-985a-46a1-a2bb-f58f9fc335cd",
   "metadata": {},
   "outputs": [],
   "source": [
    "helmet = []\n",
    "seatbelt = []\n",
    "for idx,resp in enumerate(data['results']):\n",
    "    k = f\"respondent_{idx+1}\"\n",
    "    h = int(resp[k]['wears_helmet'])\n",
    "    s = int(resp[k]['wears_seatbelt'])\n",
    "    helmet.append(h)\n",
    "    seatbelt.append(s)"
   ]
  },
  {
   "cell_type": "code",
   "execution_count": 6,
   "id": "489887d2-0f67-4bac-b14b-de73e7cf9173",
   "metadata": {},
   "outputs": [],
   "source": [
    "result = pd.DataFrame({'helmets':helmet,'seatbelts':seatbelt})"
   ]
  },
  {
   "cell_type": "code",
   "execution_count": 7,
   "id": "5ecad20b-3cd8-4cb3-b939-2589fa695ca8",
   "metadata": {},
   "outputs": [
    {
     "data": {
      "text/plain": [
       "0.708"
      ]
     },
     "execution_count": 7,
     "metadata": {},
     "output_type": "execute_result"
    }
   ],
   "source": [
    "result['helmets'].mean()"
   ]
  },
  {
   "cell_type": "code",
   "execution_count": 8,
   "id": "9781a616-96f3-4a77-9e21-db656a267ee7",
   "metadata": {},
   "outputs": [
    {
     "data": {
      "text/plain": [
       "0.596"
      ]
     },
     "execution_count": 8,
     "metadata": {},
     "output_type": "execute_result"
    }
   ],
   "source": [
    "result['seatbelts'].mean()"
   ]
  },
  {
   "cell_type": "code",
   "execution_count": null,
   "id": "fabecca3-b72c-4dee-b438-290dd929c6c1",
   "metadata": {},
   "outputs": [],
   "source": []
  }
 ],
 "metadata": {
  "kernelspec": {
   "display_name": "Python 3 (ipykernel)",
   "language": "python",
   "name": "python3"
  },
  "language_info": {
   "codemirror_mode": {
    "name": "ipython",
    "version": 3
   },
   "file_extension": ".py",
   "mimetype": "text/x-python",
   "name": "python",
   "nbconvert_exporter": "python",
   "pygments_lexer": "ipython3",
   "version": "3.9.10"
  }
 },
 "nbformat": 4,
 "nbformat_minor": 5
}
