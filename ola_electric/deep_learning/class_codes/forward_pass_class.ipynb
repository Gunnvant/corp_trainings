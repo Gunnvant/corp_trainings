{
 "cells": [
  {
   "cell_type": "code",
   "execution_count": 1,
   "id": "ce986c33-b231-457a-b815-e9b45e439a68",
   "metadata": {},
   "outputs": [],
   "source": [
    "import numpy as np"
   ]
  },
  {
   "cell_type": "code",
   "execution_count": 2,
   "id": "ef60be57-6f78-4099-a341-22472141e99c",
   "metadata": {},
   "outputs": [],
   "source": [
    "X = np.array([[5],[10]])"
   ]
  },
  {
   "cell_type": "code",
   "execution_count": 3,
   "id": "3dbadb6e-1b42-4a22-b4ed-f29e6ea53cb6",
   "metadata": {},
   "outputs": [
    {
     "data": {
      "text/plain": [
       "(2, 1)"
      ]
     },
     "execution_count": 3,
     "metadata": {},
     "output_type": "execute_result"
    }
   ],
   "source": [
    "X.shape"
   ]
  },
  {
   "cell_type": "code",
   "execution_count": 4,
   "id": "55ef9bc7-8f24-4b92-87ae-1ec48c52b6a9",
   "metadata": {},
   "outputs": [
    {
     "data": {
      "text/plain": [
       "(4, 2)"
      ]
     },
     "execution_count": 4,
     "metadata": {},
     "output_type": "execute_result"
    }
   ],
   "source": [
    "W = np.array([[1,1],[1,2],[-1,-1],[-2,-2]])\n",
    "W.shape"
   ]
  },
  {
   "cell_type": "code",
   "execution_count": 7,
   "id": "3e13dfa5-eb89-45c0-83e8-ead13245a90f",
   "metadata": {},
   "outputs": [
    {
     "data": {
      "text/plain": [
       "(4, 1)"
      ]
     },
     "execution_count": 7,
     "metadata": {},
     "output_type": "execute_result"
    }
   ],
   "source": [
    "W0 = np.array([[1,1,1,1]]).T\n",
    "W0.shape"
   ]
  },
  {
   "cell_type": "code",
   "execution_count": 8,
   "id": "1e62b1d4-e737-4431-8168-9eb7d1d3c845",
   "metadata": {},
   "outputs": [
    {
     "data": {
      "text/plain": [
       "array([[ 16],\n",
       "       [ 26],\n",
       "       [-14],\n",
       "       [-29]])"
      ]
     },
     "execution_count": 8,
     "metadata": {},
     "output_type": "execute_result"
    }
   ],
   "source": [
    "(W@X+W0)"
   ]
  },
  {
   "cell_type": "code",
   "execution_count": 13,
   "id": "c8c19997-4938-45b6-94c3-ad9fdfd3b029",
   "metadata": {},
   "outputs": [],
   "source": [
    "Z1 = (W@X+W0)"
   ]
  },
  {
   "cell_type": "code",
   "execution_count": 9,
   "id": "4ce36edf-af14-443f-8a6e-2bf87b5b27d6",
   "metadata": {},
   "outputs": [
    {
     "data": {
      "text/plain": [
       "(4, 1)"
      ]
     },
     "execution_count": 9,
     "metadata": {},
     "output_type": "execute_result"
    }
   ],
   "source": [
    "(W@X+W0).shape"
   ]
  },
  {
   "cell_type": "code",
   "execution_count": 10,
   "id": "80f15b5c-94cd-4bad-9a20-b36aaa8bd4b6",
   "metadata": {},
   "outputs": [],
   "source": [
    "V = np.array([[1,1,1,1],[-1,-1,-1,-1]])"
   ]
  },
  {
   "cell_type": "code",
   "execution_count": 11,
   "id": "e816078d-4422-4904-adec-c9058377717c",
   "metadata": {},
   "outputs": [
    {
     "data": {
      "text/plain": [
       "(2, 4)"
      ]
     },
     "execution_count": 11,
     "metadata": {},
     "output_type": "execute_result"
    }
   ],
   "source": [
    "V.shape"
   ]
  },
  {
   "cell_type": "code",
   "execution_count": 12,
   "id": "160bb5ab-6c70-4259-b11a-167eafd6a4f3",
   "metadata": {},
   "outputs": [
    {
     "data": {
      "text/plain": [
       "(2, 1)"
      ]
     },
     "execution_count": 12,
     "metadata": {},
     "output_type": "execute_result"
    }
   ],
   "source": [
    "V0 = np.array([[2],[-2]])\n",
    "V0.shape"
   ]
  },
  {
   "cell_type": "code",
   "execution_count": 14,
   "id": "578b3b59-c3b0-410d-a3a1-d1bc66e063c5",
   "metadata": {},
   "outputs": [
    {
     "data": {
      "text/plain": [
       "array([[ 1],\n",
       "       [-1]])"
      ]
     },
     "execution_count": 14,
     "metadata": {},
     "output_type": "execute_result"
    }
   ],
   "source": [
    "V@Z1+V0"
   ]
  },
  {
   "cell_type": "code",
   "execution_count": 40,
   "id": "c9eb4a24-73f0-4de6-8db5-1a2b2a444e01",
   "metadata": {},
   "outputs": [],
   "source": [
    "class NN():\n",
    "    def __init__(self,X):\n",
    "        self.X = X\n",
    "        self.W = np.random.randn(4,X.shape[0])\n",
    "        self.W0 = np.array([[1,1,1,1]]).T\n",
    "        self.V = np.random.randn(2,(self.W@self.X).shape[0])## don't do this\n",
    "        self.V0 = np.array([[2],[-2]])\n",
    "    \n",
    "    def relu(self,z):\n",
    "        z[z<0]=0\n",
    "        return z\n",
    "    \n",
    "    def softmax(self, z):\n",
    "        return np.exp(z)/np.sum(np.exp(z))\n",
    "    \n",
    "    def forward_z(self):\n",
    "        Z1 = self.W@self.X+self.W0\n",
    "        Z2 = self.V@Z1+self.V0\n",
    "        return {'z1':Z1,'z2':Z2}\n",
    "    def forward(self):\n",
    "        Z1 = self.W@self.X+self.W0\n",
    "        A1 = self.relu(Z1)\n",
    "        Z2 = self.V@A1+self.V0\n",
    "        A2 = self.softmax(Z2)\n",
    "        return A2"
   ]
  },
  {
   "cell_type": "code",
   "execution_count": 41,
   "id": "d3f3c221-9d64-4bd8-9806-f6a1f44df3da",
   "metadata": {},
   "outputs": [],
   "source": [
    "n = NN(X)"
   ]
  },
  {
   "cell_type": "code",
   "execution_count": 44,
   "id": "40e969b1-44d6-4948-b810-2bf7c93e8790",
   "metadata": {},
   "outputs": [
    {
     "data": {
      "text/plain": [
       "array([[0.99406654],\n",
       "       [0.00593346]])"
      ]
     },
     "execution_count": 44,
     "metadata": {},
     "output_type": "execute_result"
    }
   ],
   "source": [
    "n.forward()"
   ]
  },
  {
   "cell_type": "code",
   "execution_count": 54,
   "id": "43fa6c41-0831-4568-a4ad-1d92452493a7",
   "metadata": {},
   "outputs": [
    {
     "data": {
      "text/plain": [
       "116.73869256213639"
      ]
     },
     "execution_count": 54,
     "metadata": {},
     "output_type": "execute_result"
    }
   ],
   "source": [
    "predictions = [[0.80],[0.20]]\n",
    "labels = [[0],[1]]\n",
    "tol = 1e-50\n",
    "loss = []\n",
    "for pred,act in zip(predictions,labels):\n",
    "    loss.append(-1*np.log(pred[0]*act[0]+tol))\n",
    "sum(loss)"
   ]
  },
  {
   "cell_type": "code",
   "execution_count": 61,
   "id": "cfc9f398-6deb-4d50-ae1b-c1e80efdae7a",
   "metadata": {},
   "outputs": [],
   "source": [
    "predictions = [[0.80],[0.20]]\n",
    "labels = [[1],[0]]\n",
    "def ce(preds,actuals):\n",
    "    tol = 1e-50\n",
    "    loss = []\n",
    "    for pred,act in zip(preds,actuals):\n",
    "        loss.append(-1*np.log(pred[0]*act[0]+tol))\n",
    "    return sum(loss)   "
   ]
  },
  {
   "cell_type": "code",
   "execution_count": 62,
   "id": "f5dc4ae8-281b-44b4-beb7-d8746ec572bc",
   "metadata": {},
   "outputs": [
    {
     "data": {
      "text/plain": [
       "115.3523982010165"
      ]
     },
     "execution_count": 62,
     "metadata": {},
     "output_type": "execute_result"
    }
   ],
   "source": [
    "ce(predictions,labels)"
   ]
  },
  {
   "cell_type": "markdown",
   "id": "b6fa7b18-e82c-427e-afdd-f8b5587f9b61",
   "metadata": {},
   "source": [
    "**Grad Descent**\n",
    "\n",
    "Minimize: $f(x) = x^2+4x$\n",
    "\n",
    "- Start with x = -3, $x_old$\n",
    "- Find grad of f\n",
    "- x_new = x_old-grad*lr -> A\n",
    "- Continue to do A for a large number of times or till the time the value of f(x) doesn't change much from one iter to another\n"
   ]
  },
  {
   "cell_type": "code",
   "execution_count": 63,
   "id": "7194ea2e-afff-40fc-9125-b065aefa438e",
   "metadata": {},
   "outputs": [],
   "source": [
    "def grad(x):\n",
    "    return 2*x+4"
   ]
  },
  {
   "cell_type": "code",
   "execution_count": 65,
   "id": "fe7fab71-c950-442c-b6bf-09932db42394",
   "metadata": {},
   "outputs": [
    {
     "name": "stdout",
     "output_type": "stream",
     "text": [
      "-2.0000000000011102\n"
     ]
    }
   ],
   "source": [
    "x = -3\n",
    "lr = 0.0001\n",
    "for i in range(10000000):\n",
    "    g = grad(x)\n",
    "    x_new = x-g*lr###\n",
    "    x = x_new\n",
    "print(x)"
   ]
  },
  {
   "cell_type": "markdown",
   "id": "e2781e00-6bcf-4da5-b20e-5795513f4195",
   "metadata": {},
   "source": [
    "**minimize**\n",
    "\n",
    "$$(w-0)^2+(w-0.2)^2+(w-0.4)^2+(w-0.9)^2+(w-1)^2$$"
   ]
  },
  {
   "cell_type": "code",
   "execution_count": 66,
   "id": "a73ae5bd-51af-4c33-baf8-644f082b9bee",
   "metadata": {},
   "outputs": [
    {
     "name": "stdout",
     "output_type": "stream",
     "text": [
      "0.5000000000000028\n"
     ]
    }
   ],
   "source": [
    "def grad(w):\n",
    "    return 10*w-5\n",
    "w = 1\n",
    "lr = 0.002\n",
    "for i in range(10000):\n",
    "    g = grad(w)\n",
    "    w_new = w-lr*g\n",
    "    w = w_new\n",
    "print(w)"
   ]
  },
  {
   "cell_type": "code",
   "execution_count": 70,
   "id": "c1a2d251-f559-488a-b0c6-0b45b4830c07",
   "metadata": {},
   "outputs": [],
   "source": [
    "import pandas as pd\n",
    "data = pd.read_csv(\"../data/regression.csv\")"
   ]
  },
  {
   "cell_type": "code",
   "execution_count": 71,
   "id": "ee2abc06-ffe7-4b0b-8585-e574a710917e",
   "metadata": {},
   "outputs": [
    {
     "data": {
      "text/html": [
       "<div>\n",
       "<style scoped>\n",
       "    .dataframe tbody tr th:only-of-type {\n",
       "        vertical-align: middle;\n",
       "    }\n",
       "\n",
       "    .dataframe tbody tr th {\n",
       "        vertical-align: top;\n",
       "    }\n",
       "\n",
       "    .dataframe thead th {\n",
       "        text-align: right;\n",
       "    }\n",
       "</style>\n",
       "<table border=\"1\" class=\"dataframe\">\n",
       "  <thead>\n",
       "    <tr style=\"text-align: right;\">\n",
       "      <th></th>\n",
       "      <th>mpg</th>\n",
       "      <th>cylinders</th>\n",
       "      <th>displacement</th>\n",
       "      <th>horsepower</th>\n",
       "      <th>weight</th>\n",
       "      <th>acceleration</th>\n",
       "      <th>year</th>\n",
       "      <th>origin</th>\n",
       "    </tr>\n",
       "  </thead>\n",
       "  <tbody>\n",
       "    <tr>\n",
       "      <th>0</th>\n",
       "      <td>18.0</td>\n",
       "      <td>8.0</td>\n",
       "      <td>307.0</td>\n",
       "      <td>130.0</td>\n",
       "      <td>3504.0</td>\n",
       "      <td>12.0</td>\n",
       "      <td>70.0</td>\n",
       "      <td>1.0</td>\n",
       "    </tr>\n",
       "    <tr>\n",
       "      <th>1</th>\n",
       "      <td>15.0</td>\n",
       "      <td>8.0</td>\n",
       "      <td>350.0</td>\n",
       "      <td>165.0</td>\n",
       "      <td>3693.0</td>\n",
       "      <td>11.5</td>\n",
       "      <td>70.0</td>\n",
       "      <td>1.0</td>\n",
       "    </tr>\n",
       "  </tbody>\n",
       "</table>\n",
       "</div>"
      ],
      "text/plain": [
       "    mpg  cylinders  displacement  horsepower  weight  acceleration  year  \\\n",
       "0  18.0        8.0         307.0       130.0  3504.0          12.0  70.0   \n",
       "1  15.0        8.0         350.0       165.0  3693.0          11.5  70.0   \n",
       "\n",
       "   origin  \n",
       "0     1.0  \n",
       "1     1.0  "
      ]
     },
     "execution_count": 71,
     "metadata": {},
     "output_type": "execute_result"
    }
   ],
   "source": [
    "data.head(2)"
   ]
  },
  {
   "cell_type": "code",
   "execution_count": 76,
   "id": "c3fc2f0a-9321-43d0-ba80-049ebd862192",
   "metadata": {},
   "outputs": [],
   "source": [
    "X = data[['cylinders']].copy()\n",
    "X['ones'] = 1\n",
    "X = X[['ones','cylinders']]\n",
    "X.head(2)\n",
    "y = data['mpg'].values"
   ]
  },
  {
   "cell_type": "code",
   "execution_count": 80,
   "id": "3f628c8a-9ea7-4702-a821-17df091cf047",
   "metadata": {},
   "outputs": [
    {
     "data": {
      "text/plain": [
       "(398,)"
      ]
     },
     "execution_count": 80,
     "metadata": {},
     "output_type": "execute_result"
    }
   ],
   "source": [
    "y.shape"
   ]
  },
  {
   "cell_type": "code",
   "execution_count": 81,
   "id": "22f162e7-9398-4f1e-a29b-f9bd5d1afff7",
   "metadata": {},
   "outputs": [],
   "source": [
    "y = y.reshape((y.shape[0],1))"
   ]
  },
  {
   "cell_type": "code",
   "execution_count": 82,
   "id": "78f6dfa9-fc29-492d-b8b5-8951e93d0ec9",
   "metadata": {},
   "outputs": [
    {
     "data": {
      "text/plain": [
       "(398, 1)"
      ]
     },
     "execution_count": 82,
     "metadata": {},
     "output_type": "execute_result"
    }
   ],
   "source": [
    "y.shape"
   ]
  },
  {
   "cell_type": "code",
   "execution_count": 77,
   "id": "1a9090a9-fa18-4e02-a252-b69db20ee2da",
   "metadata": {},
   "outputs": [],
   "source": [
    "X = X.values"
   ]
  },
  {
   "cell_type": "code",
   "execution_count": 78,
   "id": "718e0707-4745-4861-b3d6-ebc0c24e7a87",
   "metadata": {},
   "outputs": [
    {
     "data": {
      "text/plain": [
       "(398, 2)"
      ]
     },
     "execution_count": 78,
     "metadata": {},
     "output_type": "execute_result"
    }
   ],
   "source": [
    "X.shape"
   ]
  },
  {
   "cell_type": "code",
   "execution_count": 79,
   "id": "fd77cdd9-64fe-4f0b-b269-d6b64380de59",
   "metadata": {},
   "outputs": [
    {
     "data": {
      "text/plain": [
       "(2, 1)"
      ]
     },
     "execution_count": 79,
     "metadata": {},
     "output_type": "execute_result"
    }
   ],
   "source": [
    "W = np.array([[0.2],[0.3]])\n",
    "W.shape"
   ]
  },
  {
   "cell_type": "code",
   "execution_count": 83,
   "id": "376bba06-b341-42b6-a369-9fa2bd9abdb1",
   "metadata": {},
   "outputs": [],
   "source": [
    "def grad(W):\n",
    "    g = -2*X.T@(X@W-y)\n",
    "    return g/y.shape[0]"
   ]
  },
  {
   "cell_type": "code",
   "execution_count": 95,
   "id": "f841e496-9fe9-4543-a059-3963798c8aab",
   "metadata": {},
   "outputs": [
    {
     "name": "stdout",
     "output_type": "stream",
     "text": [
      "[[0.15541734]\n",
      " [0.07848364]]\n"
     ]
    }
   ],
   "source": [
    "W = np.array([[0.2],[0.3]])##\n",
    "lr = 0.00001\n",
    "for i in range(100):\n",
    "    g = grad(W)\n",
    "    W_new = W-lr*g\n",
    "    W = W_new\n",
    "print(W)"
   ]
  },
  {
   "cell_type": "code",
   "execution_count": 100,
   "id": "5472f350-48f5-4996-898c-25f94898ce06",
   "metadata": {},
   "outputs": [],
   "source": [
    "X_one = X[:,1]"
   ]
  },
  {
   "cell_type": "code",
   "execution_count": 102,
   "id": "f8473378-ce1d-4d07-826b-c37bb607dfa0",
   "metadata": {},
   "outputs": [],
   "source": [
    "X_one = X_one.reshape((398,1))"
   ]
  },
  {
   "cell_type": "code",
   "execution_count": 104,
   "id": "588d408b-552c-4462-adf1-f8b942202fff",
   "metadata": {},
   "outputs": [],
   "source": [
    "data = pd.read_csv(\"../data/classification.csv\")"
   ]
  },
  {
   "cell_type": "code",
   "execution_count": 105,
   "id": "dde4dbc5-fe5d-4666-8bea-46a94a329f50",
   "metadata": {},
   "outputs": [
    {
     "data": {
      "text/html": [
       "<div>\n",
       "<style scoped>\n",
       "    .dataframe tbody tr th:only-of-type {\n",
       "        vertical-align: middle;\n",
       "    }\n",
       "\n",
       "    .dataframe tbody tr th {\n",
       "        vertical-align: top;\n",
       "    }\n",
       "\n",
       "    .dataframe thead th {\n",
       "        text-align: right;\n",
       "    }\n",
       "</style>\n",
       "<table border=\"1\" class=\"dataframe\">\n",
       "  <thead>\n",
       "    <tr style=\"text-align: right;\">\n",
       "      <th></th>\n",
       "      <th>No_pregnant</th>\n",
       "      <th>Plasma_glucose</th>\n",
       "      <th>Blood_pres</th>\n",
       "      <th>Skin_thick</th>\n",
       "      <th>Serum_insu</th>\n",
       "      <th>BMI</th>\n",
       "      <th>Diabetes_func</th>\n",
       "      <th>Age</th>\n",
       "      <th>Class</th>\n",
       "    </tr>\n",
       "  </thead>\n",
       "  <tbody>\n",
       "    <tr>\n",
       "      <th>0</th>\n",
       "      <td>6</td>\n",
       "      <td>148</td>\n",
       "      <td>72</td>\n",
       "      <td>35</td>\n",
       "      <td>0</td>\n",
       "      <td>33.6</td>\n",
       "      <td>0.627</td>\n",
       "      <td>50</td>\n",
       "      <td>1</td>\n",
       "    </tr>\n",
       "    <tr>\n",
       "      <th>1</th>\n",
       "      <td>1</td>\n",
       "      <td>85</td>\n",
       "      <td>66</td>\n",
       "      <td>29</td>\n",
       "      <td>0</td>\n",
       "      <td>26.6</td>\n",
       "      <td>0.351</td>\n",
       "      <td>31</td>\n",
       "      <td>0</td>\n",
       "    </tr>\n",
       "  </tbody>\n",
       "</table>\n",
       "</div>"
      ],
      "text/plain": [
       "   No_pregnant  Plasma_glucose  Blood_pres  Skin_thick  Serum_insu   BMI  \\\n",
       "0            6             148          72          35           0  33.6   \n",
       "1            1              85          66          29           0  26.6   \n",
       "\n",
       "   Diabetes_func  Age  Class  \n",
       "0          0.627   50      1  \n",
       "1          0.351   31      0  "
      ]
     },
     "execution_count": 105,
     "metadata": {},
     "output_type": "execute_result"
    }
   ],
   "source": [
    "data.head(2)"
   ]
  },
  {
   "cell_type": "code",
   "execution_count": null,
   "id": "fac522a5-46e6-4ff1-955b-b2bdeb58ec96",
   "metadata": {},
   "outputs": [],
   "source": [
    "## No_pregnant-x1\n",
    "## y - > class"
   ]
  },
  {
   "cell_type": "markdown",
   "id": "a4560fa0-1285-4cc0-ab9f-268463b07159",
   "metadata": {},
   "source": [
    "$grad = X^T(p-y)\\frac{1}{n}$\n",
    "\n",
    "$p = \\frac{1}{1+e^-z}$\n",
    "\n",
    "$z = XW$"
   ]
  },
  {
   "cell_type": "code",
   "execution_count": 106,
   "id": "77ce24eb-e9dd-4ef8-ac60-25fb6526f792",
   "metadata": {},
   "outputs": [],
   "source": [
    "X = data[['No_pregnant']].copy()\n",
    "X['Ones'] = 1\n",
    "X = X[['Ones','No_pregnant']].values"
   ]
  },
  {
   "cell_type": "code",
   "execution_count": 107,
   "id": "2990f573-3fe4-4b59-af8a-4124eaa594b0",
   "metadata": {},
   "outputs": [],
   "source": [
    "y = data['Class'].values"
   ]
  },
  {
   "cell_type": "code",
   "execution_count": 108,
   "id": "819af764-2986-4c25-9c98-5f23891e9699",
   "metadata": {},
   "outputs": [
    {
     "data": {
      "text/plain": [
       "(768,)"
      ]
     },
     "execution_count": 108,
     "metadata": {},
     "output_type": "execute_result"
    }
   ],
   "source": [
    "y.shape"
   ]
  },
  {
   "cell_type": "code",
   "execution_count": 109,
   "id": "f8add0ee-3102-42cd-bd18-b2c2c8d4af71",
   "metadata": {},
   "outputs": [],
   "source": [
    "y = y.reshape((768,1))"
   ]
  },
  {
   "cell_type": "code",
   "execution_count": 110,
   "id": "df6cbca9-480f-4110-bed8-1623a27b5b70",
   "metadata": {},
   "outputs": [],
   "source": [
    "def probs(X,W):\n",
    "    z = X@W\n",
    "    return 1/(1+np.exp(-z))"
   ]
  },
  {
   "cell_type": "code",
   "execution_count": 111,
   "id": "70e2aead-2081-4e49-bc91-04899338bea3",
   "metadata": {},
   "outputs": [],
   "source": [
    "def grad(W):\n",
    "    p = probs(X,W)\n",
    "    return X.T@(p-y)/y.shape[0]"
   ]
  },
  {
   "cell_type": "code",
   "execution_count": 112,
   "id": "f40c060a-f0cc-4d1c-bc23-87be85108270",
   "metadata": {},
   "outputs": [
    {
     "name": "stdout",
     "output_type": "stream",
     "text": [
      "[[-0.49863269]\n",
      " [ 0.03724324]]\n"
     ]
    }
   ],
   "source": [
    "W = np.array([[1],[2]])\n",
    "lr = 0.01\n",
    "for i in range(1000):\n",
    "    g = grad(W)\n",
    "    W_n = W-g*lr\n",
    "    W = W_n\n",
    "print(W)"
   ]
  },
  {
   "cell_type": "markdown",
   "id": "a6df0a3f-a900-425f-97e7-7d28d6e74205",
   "metadata": {},
   "source": [
    "### Autograd"
   ]
  },
  {
   "cell_type": "code",
   "execution_count": 113,
   "id": "e5e9f68f-fcfe-4ee8-83e9-8888cfbe89b6",
   "metadata": {},
   "outputs": [
    {
     "name": "stderr",
     "output_type": "stream",
     "text": [
      "/Users/gunnvantsaini/miniforge3/envs/dl/lib/python3.8/site-packages/tqdm/auto.py:22: TqdmWarning: IProgress not found. Please update jupyter and ipywidgets. See https://ipywidgets.readthedocs.io/en/stable/user_install.html\n",
      "  from .autonotebook import tqdm as notebook_tqdm\n"
     ]
    }
   ],
   "source": [
    "import torch"
   ]
  },
  {
   "cell_type": "markdown",
   "id": "1e6bcc02-7d96-4459-869c-6195c230821b",
   "metadata": {},
   "source": [
    "$x^2+4x$"
   ]
  },
  {
   "cell_type": "code",
   "execution_count": 115,
   "id": "72dd8b1a-d0d2-40a2-aa22-ee7ed644c254",
   "metadata": {},
   "outputs": [],
   "source": [
    "x = torch.tensor(0.0,requires_grad=True)"
   ]
  },
  {
   "cell_type": "code",
   "execution_count": 116,
   "id": "df7732b0-ea20-408f-ab59-c069e4543e79",
   "metadata": {},
   "outputs": [],
   "source": [
    "z = x**2+4*x"
   ]
  },
  {
   "cell_type": "code",
   "execution_count": 117,
   "id": "f2fdf13c-e169-4cb9-9a58-77f2969ad457",
   "metadata": {},
   "outputs": [],
   "source": [
    "z.backward()"
   ]
  },
  {
   "cell_type": "code",
   "execution_count": 119,
   "id": "65b03426-aaad-4d93-8e19-967e7f17d6f5",
   "metadata": {},
   "outputs": [
    {
     "data": {
      "text/plain": [
       "tensor(4.)"
      ]
     },
     "execution_count": 119,
     "metadata": {},
     "output_type": "execute_result"
    }
   ],
   "source": [
    "x.grad"
   ]
  },
  {
   "cell_type": "code",
   "execution_count": 121,
   "id": "efb8d234-f12b-47a6-8a8a-c92d4a50d00f",
   "metadata": {},
   "outputs": [],
   "source": [
    "z = x**2+4*x\n",
    "z.backward()"
   ]
  },
  {
   "cell_type": "code",
   "execution_count": 122,
   "id": "66cec4eb-a224-44c8-95b4-c6abad35a19a",
   "metadata": {},
   "outputs": [
    {
     "data": {
      "text/plain": [
       "tensor(8.)"
      ]
     },
     "execution_count": 122,
     "metadata": {},
     "output_type": "execute_result"
    }
   ],
   "source": [
    "x.grad"
   ]
  },
  {
   "cell_type": "code",
   "execution_count": 128,
   "id": "5c711490-16e8-4c06-b944-ce3ba00e6c70",
   "metadata": {},
   "outputs": [
    {
     "data": {
      "text/plain": [
       "tensor(0.)"
      ]
     },
     "execution_count": 128,
     "metadata": {},
     "output_type": "execute_result"
    }
   ],
   "source": [
    "x.grad.zero_()"
   ]
  },
  {
   "cell_type": "code",
   "execution_count": 129,
   "id": "def950f5-3cce-4795-81a5-490eccf4ef62",
   "metadata": {},
   "outputs": [],
   "source": [
    "### Write gradient descent code of minimizing x**2+4x\n",
    "x = torch.tensor(0.0,requires_grad=True)\n",
    "lr = 0.01\n",
    "for i in range(100):\n",
    "    z = x**2+4*x ## forward pass\n",
    "    z.backward()\n",
    "    with torch.no_grad():\n",
    "        x-=x.grad*lr\n",
    "        x.grad.zero_()"
   ]
  },
  {
   "cell_type": "code",
   "execution_count": 130,
   "id": "4cd83024-7b08-4e22-8b3a-f8255f7caf88",
   "metadata": {},
   "outputs": [
    {
     "data": {
      "text/plain": [
       "tensor(-1.7348, requires_grad=True)"
      ]
     },
     "execution_count": 130,
     "metadata": {},
     "output_type": "execute_result"
    }
   ],
   "source": [
    "x"
   ]
  },
  {
   "cell_type": "code",
   "execution_count": 131,
   "id": "004d87fd-ff71-443d-9145-7566dee2a268",
   "metadata": {},
   "outputs": [
    {
     "data": {
      "text/html": [
       "<div>\n",
       "<style scoped>\n",
       "    .dataframe tbody tr th:only-of-type {\n",
       "        vertical-align: middle;\n",
       "    }\n",
       "\n",
       "    .dataframe tbody tr th {\n",
       "        vertical-align: top;\n",
       "    }\n",
       "\n",
       "    .dataframe thead th {\n",
       "        text-align: right;\n",
       "    }\n",
       "</style>\n",
       "<table border=\"1\" class=\"dataframe\">\n",
       "  <thead>\n",
       "    <tr style=\"text-align: right;\">\n",
       "      <th></th>\n",
       "      <th>mpg</th>\n",
       "      <th>cylinders</th>\n",
       "      <th>displacement</th>\n",
       "      <th>horsepower</th>\n",
       "      <th>weight</th>\n",
       "      <th>acceleration</th>\n",
       "      <th>year</th>\n",
       "      <th>origin</th>\n",
       "    </tr>\n",
       "  </thead>\n",
       "  <tbody>\n",
       "    <tr>\n",
       "      <th>0</th>\n",
       "      <td>18.0</td>\n",
       "      <td>8.0</td>\n",
       "      <td>307.0</td>\n",
       "      <td>130.0</td>\n",
       "      <td>3504.0</td>\n",
       "      <td>12.0</td>\n",
       "      <td>70.0</td>\n",
       "      <td>1.0</td>\n",
       "    </tr>\n",
       "    <tr>\n",
       "      <th>1</th>\n",
       "      <td>15.0</td>\n",
       "      <td>8.0</td>\n",
       "      <td>350.0</td>\n",
       "      <td>165.0</td>\n",
       "      <td>3693.0</td>\n",
       "      <td>11.5</td>\n",
       "      <td>70.0</td>\n",
       "      <td>1.0</td>\n",
       "    </tr>\n",
       "  </tbody>\n",
       "</table>\n",
       "</div>"
      ],
      "text/plain": [
       "    mpg  cylinders  displacement  horsepower  weight  acceleration  year  \\\n",
       "0  18.0        8.0         307.0       130.0  3504.0          12.0  70.0   \n",
       "1  15.0        8.0         350.0       165.0  3693.0          11.5  70.0   \n",
       "\n",
       "   origin  \n",
       "0     1.0  \n",
       "1     1.0  "
      ]
     },
     "execution_count": 131,
     "metadata": {},
     "output_type": "execute_result"
    }
   ],
   "source": [
    "data = pd.read_csv(\"../data/regression.csv\")\n",
    "data.head(2)"
   ]
  },
  {
   "cell_type": "code",
   "execution_count": 161,
   "id": "ad04c800-8f6a-4825-b644-cb5db36d6cc0",
   "metadata": {},
   "outputs": [],
   "source": [
    "X = data[['cylinders']].copy()\n",
    "X['Ones'] = 1\n",
    "X = X[['Ones','cylinders']].values\n",
    "y = data['mpg'].values"
   ]
  },
  {
   "cell_type": "code",
   "execution_count": 162,
   "id": "6ec0c387-8e79-4030-bb11-4c8c6c517777",
   "metadata": {},
   "outputs": [],
   "source": [
    "X = torch.tensor(X,dtype=torch.int64)\n",
    "y = torch.tensor(y,dtype=torch.int64)"
   ]
  },
  {
   "cell_type": "code",
   "execution_count": 163,
   "id": "56d9e492-96bd-46cd-805e-b64f65a569fb",
   "metadata": {},
   "outputs": [],
   "source": [
    "W = torch.tensor([[1.0],[1.0]],requires_grad=True)\n",
    "pred=torch.matmul(X.float(),W)"
   ]
  },
  {
   "cell_type": "code",
   "execution_count": 164,
   "id": "cc03c74f-6ca0-4507-906c-092e128ad824",
   "metadata": {},
   "outputs": [],
   "source": [
    "loss = torch.sum((pred-y)**2)/len(y)"
   ]
  },
  {
   "cell_type": "code",
   "execution_count": 165,
   "id": "0d467b01-5d17-4d12-8030-62335937b441",
   "metadata": {},
   "outputs": [
    {
     "data": {
      "text/plain": [
       "tensor(138607.5781, grad_fn=<DivBackward0>)"
      ]
     },
     "execution_count": 165,
     "metadata": {},
     "output_type": "execute_result"
    }
   ],
   "source": [
    "loss"
   ]
  },
  {
   "cell_type": "code",
   "execution_count": 166,
   "id": "f821fabd-50ab-4ca7-8960-591cfbcdbdce",
   "metadata": {},
   "outputs": [],
   "source": [
    "loss.backward()"
   ]
  },
  {
   "cell_type": "code",
   "execution_count": 167,
   "id": "9e1b6eb3-c247-4c51-baf1-b07a4dfaa3d8",
   "metadata": {},
   "outputs": [
    {
     "data": {
      "text/plain": [
       "tensor([[-13447.9902],\n",
       "        [-71058.4844]])"
      ]
     },
     "execution_count": 167,
     "metadata": {},
     "output_type": "execute_result"
    }
   ],
   "source": [
    "W.grad"
   ]
  },
  {
   "cell_type": "code",
   "execution_count": 170,
   "id": "f882f413-9d4a-49b5-a06c-6dddf4e49333",
   "metadata": {},
   "outputs": [
    {
     "name": "stdout",
     "output_type": "stream",
     "text": [
      "tensor([[1.5669],\n",
      "        [3.4667]], requires_grad=True)\n"
     ]
    }
   ],
   "source": [
    "W = torch.tensor([[1.0],[1.0]],requires_grad=True)\n",
    "lr = 0.000001\n",
    "for i in range(100):\n",
    "    pred=torch.matmul(X.float(),W)\n",
    "    loss=torch.sum((pred-y)**2)/len(y)\n",
    "    loss.backward()\n",
    "    with torch.no_grad():\n",
    "        W-=lr*W.grad\n",
    "        W.grad.zero_()\n",
    "print(W)"
   ]
  },
  {
   "cell_type": "code",
   "execution_count": 171,
   "id": "ceb67dd2-af3c-46c9-b340-d7cf148c39f4",
   "metadata": {},
   "outputs": [],
   "source": [
    "data = pd.read_csv(\"../data/classification.csv\")"
   ]
  },
  {
   "cell_type": "code",
   "execution_count": 172,
   "id": "1b1702e5-946c-4601-84fb-59d2f8cd68b3",
   "metadata": {},
   "outputs": [],
   "source": [
    "X = data[['No_pregnant']].copy()\n",
    "X['Ones'] = 1\n",
    "X = X[['Ones','No_pregnant']].values\n",
    "y = data['Class'].values\n",
    "X = torch.tensor(X,dtype=torch.int64)\n",
    "y = torch.tensor(y,dtype=torch.int64)"
   ]
  },
  {
   "cell_type": "code",
   "execution_count": 184,
   "id": "1e8fadf3-9fc5-41b3-9c72-c0fa94b2d90c",
   "metadata": {},
   "outputs": [
    {
     "data": {
      "text/plain": [
       "tensor(-3.2408, grad_fn=<MeanBackward0>)"
      ]
     },
     "execution_count": 184,
     "metadata": {},
     "output_type": "execute_result"
    }
   ],
   "source": [
    "tol=0.0000000000001\n",
    "W = torch.tensor([[1.0],[1.0]],requires_grad=True)\n",
    "z = torch.matmul(X.float(),W)\n",
    "p = 1.0/(1+torch.exp(-z))\n",
    "loss = (y*torch.log(p+tol)+(1-y)*torch.log(1-p+tol)).mean()"
   ]
  },
  {
   "cell_type": "code",
   "execution_count": 181,
   "id": "b481b928-0c64-4d5a-828f-cc7a29801760",
   "metadata": {},
   "outputs": [
    {
     "data": {
      "text/plain": [
       "torch.Size([768, 768])"
      ]
     },
     "execution_count": 181,
     "metadata": {},
     "output_type": "execute_result"
    }
   ],
   "source": []
  },
  {
   "cell_type": "code",
   "execution_count": 185,
   "id": "0e819ed9-fe93-4af3-98ff-bdb934b542ef",
   "metadata": {},
   "outputs": [
    {
     "data": {
      "text/plain": [
       "tensor([[0.9814],\n",
       "        [0.7562]], requires_grad=True)"
      ]
     },
     "execution_count": 185,
     "metadata": {},
     "output_type": "execute_result"
    }
   ],
   "source": [
    "tol=0.0000000000001\n",
    "W = torch.tensor([[1.0],[1.0]],requires_grad=True)\n",
    "lr = 0.0001\n",
    "for i in range(100):\n",
    "    z = torch.matmul(X.float(),W)\n",
    "    p = 1.0/(1+torch.exp(-z))\n",
    "    loss = -1*(y*torch.log(p+tol)+(1-y)*torch.log(1-p+tol)).mean()\n",
    "    loss.backward()\n",
    "    with torch.no_grad():\n",
    "        W-=lr*W.grad\n",
    "        W.grad.zero_()\n",
    "W"
   ]
  },
  {
   "cell_type": "code",
   "execution_count": 186,
   "id": "eae5bff3-99d6-49e7-b7e5-40ef13422a23",
   "metadata": {},
   "outputs": [],
   "source": [
    "local_path_mnist_train = \"/Users/gunnvantsaini/OneDrive/project_codes/content/dl_basics/vision/sony/data/mnist_train.csv\"\n",
    "local_path_mnist_test = \"/Users/gunnvantsaini/OneDrive/project_codes/content/dl_basics/vision/sony/data/mnist_test.csv\""
   ]
  },
  {
   "cell_type": "code",
   "execution_count": 187,
   "id": "e6c1468f-b84a-474c-9044-4ac39aba1e82",
   "metadata": {},
   "outputs": [],
   "source": [
    "mnist_train = pd.read_csv(local_path_mnist_train)\n",
    "mnist_test = pd.read_csv(local_path_mnist_test)"
   ]
  },
  {
   "cell_type": "code",
   "execution_count": 189,
   "id": "f37e0948-a329-4bda-9c76-123136411141",
   "metadata": {},
   "outputs": [
    {
     "data": {
      "text/plain": [
       "(42000, 785)"
      ]
     },
     "execution_count": 189,
     "metadata": {},
     "output_type": "execute_result"
    }
   ],
   "source": [
    "mnist_train.shape"
   ]
  },
  {
   "cell_type": "code",
   "execution_count": 188,
   "id": "2a1cfb63-6854-42fd-8fee-e00db80728ee",
   "metadata": {},
   "outputs": [],
   "source": [
    "from torch import nn"
   ]
  },
  {
   "cell_type": "code",
   "execution_count": 229,
   "id": "c05e46df-feb1-4762-8f26-2d2b71d311eb",
   "metadata": {},
   "outputs": [],
   "source": [
    "class Mod(nn.Module):\n",
    "    def __init__(self):\n",
    "        super().__init__()\n",
    "        self.layer1 = nn.Linear(784,3)\n",
    "        self.relu = nn.ReLU()\n",
    "        self.layer2 = nn.Linear(3,10)\n",
    "        self.softmax = nn.Softmax()\n",
    "    def forward(self,x):\n",
    "        x = self.layer1(x)\n",
    "        x = self.relu(x)\n",
    "        x = self.layer2(x)\n",
    "        x = self.softmax(x)\n",
    "        return x\n",
    "        "
   ]
  },
  {
   "cell_type": "code",
   "execution_count": 230,
   "id": "3de57fe6-4343-428f-98a4-04d4c0eadce7",
   "metadata": {},
   "outputs": [],
   "source": [
    "model = Mod()"
   ]
  },
  {
   "cell_type": "code",
   "execution_count": 202,
   "id": "9645315c-6c81-4e77-9ef3-94c1f4346c9e",
   "metadata": {},
   "outputs": [
    {
     "data": {
      "text/plain": [
       "[Parameter containing:\n",
       " tensor([[-0.0199, -0.0245, -0.0211,  ..., -0.0312,  0.0098,  0.0181],\n",
       "         [ 0.0166, -0.0228, -0.0267,  ..., -0.0217, -0.0205,  0.0065],\n",
       "         [-0.0300,  0.0327, -0.0339,  ...,  0.0164, -0.0135,  0.0206]],\n",
       "        requires_grad=True),\n",
       " Parameter containing:\n",
       " tensor([ 0.0293, -0.0159, -0.0084], requires_grad=True),\n",
       " Parameter containing:\n",
       " tensor([[ 0.2328, -0.0020,  0.2247],\n",
       "         [ 0.2015, -0.3035, -0.4244],\n",
       "         [-0.5117,  0.1465,  0.0755],\n",
       "         [-0.0398,  0.0123,  0.2932],\n",
       "         [ 0.3793,  0.0928, -0.5581],\n",
       "         [ 0.3465,  0.1177, -0.4535],\n",
       "         [-0.0839,  0.3049,  0.0086],\n",
       "         [-0.0598,  0.1644,  0.1615],\n",
       "         [-0.3422,  0.4285,  0.5558],\n",
       "         [-0.1740, -0.3695,  0.2924]], requires_grad=True),\n",
       " Parameter containing:\n",
       " tensor([-0.0331,  0.0233, -0.4222, -0.4142, -0.0436, -0.4742, -0.4731,  0.0416,\n",
       "         -0.1151, -0.2387], requires_grad=True)]"
      ]
     },
     "execution_count": 202,
     "metadata": {},
     "output_type": "execute_result"
    }
   ],
   "source": [
    "[p for p in model.parameters()]"
   ]
  },
  {
   "cell_type": "code",
   "execution_count": 203,
   "id": "70ac2d07-0bd5-4379-8cc4-70b7048ddca8",
   "metadata": {},
   "outputs": [],
   "source": [
    "loss_fn=nn.CrossEntropyLoss()"
   ]
  },
  {
   "cell_type": "code",
   "execution_count": 204,
   "id": "99d57cea-fbc0-4094-8a6a-72a8872af532",
   "metadata": {},
   "outputs": [],
   "source": [
    "from torch.utils.data import Dataset, DataLoader"
   ]
  },
  {
   "cell_type": "code",
   "execution_count": 205,
   "id": "b5695b2a-4002-4586-8334-2d5fb06de8cd",
   "metadata": {},
   "outputs": [],
   "source": [
    "l = [1,2,3,4,5]"
   ]
  },
  {
   "cell_type": "code",
   "execution_count": 206,
   "id": "823d3363-9784-41ff-aad9-7e67cbad50b2",
   "metadata": {},
   "outputs": [
    {
     "data": {
      "text/plain": [
       "1"
      ]
     },
     "execution_count": 206,
     "metadata": {},
     "output_type": "execute_result"
    }
   ],
   "source": [
    "l[0]"
   ]
  },
  {
   "cell_type": "code",
   "execution_count": 207,
   "id": "4d32241c-e98b-4298-9eab-9ff404f40347",
   "metadata": {},
   "outputs": [
    {
     "data": {
      "text/plain": [
       "5"
      ]
     },
     "execution_count": 207,
     "metadata": {},
     "output_type": "execute_result"
    }
   ],
   "source": [
    "len(l)"
   ]
  },
  {
   "cell_type": "code",
   "execution_count": 208,
   "id": "1e5a4e6b-723c-4cc7-acaf-c61d3aab2b56",
   "metadata": {},
   "outputs": [],
   "source": [
    "class mnist(Dataset):\n",
    "    def __init__(self,X,y):\n",
    "        self.X = X\n",
    "        self.y = y\n",
    "    def __len__(self):\n",
    "        return self.X.shape[0]\n",
    "    \n",
    "    def __getitem__(self,idx):\n",
    "        x = self.X[idx]\n",
    "        y = self.y[idx]\n",
    "        return {'X':x,'y':y}\n",
    "        "
   ]
  },
  {
   "cell_type": "code",
   "execution_count": 212,
   "id": "de751468-79bf-49f4-88e2-f71915ba08a7",
   "metadata": {},
   "outputs": [],
   "source": [
    "X = mnist_train.drop('label',axis=1).values"
   ]
  },
  {
   "cell_type": "code",
   "execution_count": 213,
   "id": "a37aa997-21a8-4368-b242-e92eac812dfe",
   "metadata": {},
   "outputs": [],
   "source": [
    "y = mnist_train['label'].values"
   ]
  },
  {
   "cell_type": "code",
   "execution_count": 214,
   "id": "f5584ef6-8c41-471c-bf67-21c0df0c8e57",
   "metadata": {},
   "outputs": [],
   "source": [
    "m = mnist(X,y)"
   ]
  },
  {
   "cell_type": "code",
   "execution_count": 215,
   "id": "557be1f6-4750-42a8-b555-02bb1ad5eb9f",
   "metadata": {},
   "outputs": [],
   "source": [
    "mnist_batched_data = DataLoader(m,batch_size=2)"
   ]
  },
  {
   "cell_type": "code",
   "execution_count": 222,
   "id": "078d7785-cd15-4a78-84ce-ff14e444488a",
   "metadata": {},
   "outputs": [
    {
     "data": {
      "text/plain": [
       "{'X': tensor([[0, 0, 0,  ..., 0, 0, 0],\n",
       "         [0, 0, 0,  ..., 0, 0, 0]]),\n",
       " 'y': tensor([1, 0])}"
      ]
     },
     "execution_count": 222,
     "metadata": {},
     "output_type": "execute_result"
    }
   ],
   "source": [
    "next(iter(mnist_batched_data))"
   ]
  },
  {
   "cell_type": "code",
   "execution_count": 232,
   "id": "158a1e8e-4003-4c1a-b74a-f88da3927bf1",
   "metadata": {},
   "outputs": [
    {
     "name": "stderr",
     "output_type": "stream",
     "text": [
      "/var/folders/7h/01sjg2sx6tl3y72r2klm24c80000gn/T/ipykernel_20222/2792426290.py:12: UserWarning: Implicit dimension choice for softmax has been deprecated. Change the call to include dim=X as an argument.\n",
      "  x = self.softmax(x)\n"
     ]
    }
   ],
   "source": [
    "num_epochs = 10\n",
    "lr = 10\n",
    "for i in range(num_epochs):\n",
    "    for batch in mnist_batched_data:\n",
    "        x = batch['X'].float()\n",
    "        y = batch['y']\n",
    "        p=model(x)\n",
    "        loss = loss_fn(p,y)\n",
    "        loss.backward()\n",
    "        with torch.no_grad():\n",
    "            for param in model.parameters():\n",
    "                param-=lr*param.grad\n",
    "                param.grad.zero_()"
   ]
  },
  {
   "cell_type": "code",
   "execution_count": null,
   "id": "2fcab03d-27a8-41d7-a5c8-b36e201c1a86",
   "metadata": {},
   "outputs": [],
   "source": []
  }
 ],
 "metadata": {
  "kernelspec": {
   "display_name": "Python 3 (ipykernel)",
   "language": "python",
   "name": "python3"
  },
  "language_info": {
   "codemirror_mode": {
    "name": "ipython",
    "version": 3
   },
   "file_extension": ".py",
   "mimetype": "text/x-python",
   "name": "python",
   "nbconvert_exporter": "python",
   "pygments_lexer": "ipython3",
   "version": "3.8.13"
  }
 },
 "nbformat": 4,
 "nbformat_minor": 5
}
