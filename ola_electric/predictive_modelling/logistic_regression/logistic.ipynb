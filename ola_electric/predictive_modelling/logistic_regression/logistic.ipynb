{
 "cells": [
  {
   "cell_type": "code",
   "execution_count": 1,
   "id": "74688fb6-c9da-46f3-8088-77d503fa92d4",
   "metadata": {},
   "outputs": [],
   "source": [
    "import pandas as pd\n",
    "url=\"https://raw.githubusercontent.com/Gunnvant/corp_trainings/main/ola_electric/predictive_modelling/data/dm.csv\"\n",
    "dm = pd.read_csv(url)"
   ]
  },
  {
   "cell_type": "code",
   "execution_count": 2,
   "id": "df556047-24be-4991-9920-108e1276a15f",
   "metadata": {},
   "outputs": [
    {
     "data": {
      "text/html": [
       "<div>\n",
       "<style scoped>\n",
       "    .dataframe tbody tr th:only-of-type {\n",
       "        vertical-align: middle;\n",
       "    }\n",
       "\n",
       "    .dataframe tbody tr th {\n",
       "        vertical-align: top;\n",
       "    }\n",
       "\n",
       "    .dataframe thead th {\n",
       "        text-align: right;\n",
       "    }\n",
       "</style>\n",
       "<table border=\"1\" class=\"dataframe\">\n",
       "  <thead>\n",
       "    <tr style=\"text-align: right;\">\n",
       "      <th></th>\n",
       "      <th>Age</th>\n",
       "      <th>Gender</th>\n",
       "      <th>OwnHome</th>\n",
       "      <th>Married</th>\n",
       "      <th>Location</th>\n",
       "      <th>Salary</th>\n",
       "      <th>Children</th>\n",
       "      <th>History</th>\n",
       "      <th>Catalogs</th>\n",
       "      <th>AmountSpent</th>\n",
       "      <th>Cust_Id</th>\n",
       "    </tr>\n",
       "  </thead>\n",
       "  <tbody>\n",
       "    <tr>\n",
       "      <th>0</th>\n",
       "      <td>Old</td>\n",
       "      <td>Female</td>\n",
       "      <td>Own</td>\n",
       "      <td>Single</td>\n",
       "      <td>Far</td>\n",
       "      <td>47500</td>\n",
       "      <td>0</td>\n",
       "      <td>High</td>\n",
       "      <td>6</td>\n",
       "      <td>755</td>\n",
       "      <td>247</td>\n",
       "    </tr>\n",
       "    <tr>\n",
       "      <th>1</th>\n",
       "      <td>Middle</td>\n",
       "      <td>Male</td>\n",
       "      <td>Rent</td>\n",
       "      <td>Single</td>\n",
       "      <td>Close</td>\n",
       "      <td>63600</td>\n",
       "      <td>0</td>\n",
       "      <td>High</td>\n",
       "      <td>6</td>\n",
       "      <td>1318</td>\n",
       "      <td>127</td>\n",
       "    </tr>\n",
       "  </tbody>\n",
       "</table>\n",
       "</div>"
      ],
      "text/plain": [
       "      Age  Gender OwnHome Married Location  Salary  Children History  \\\n",
       "0     Old  Female     Own  Single      Far   47500         0    High   \n",
       "1  Middle    Male    Rent  Single    Close   63600         0    High   \n",
       "\n",
       "   Catalogs  AmountSpent  Cust_Id  \n",
       "0         6          755      247  \n",
       "1         6         1318      127  "
      ]
     },
     "execution_count": 2,
     "metadata": {},
     "output_type": "execute_result"
    }
   ],
   "source": [
    "dm.head(2)"
   ]
  },
  {
   "cell_type": "code",
   "execution_count": 3,
   "id": "8d4e8647-5fae-4c82-a20a-740eaf5ba8aa",
   "metadata": {},
   "outputs": [
    {
     "data": {
      "text/plain": [
       "1216.77"
      ]
     },
     "execution_count": 3,
     "metadata": {},
     "output_type": "execute_result"
    }
   ],
   "source": [
    "dm['AmountSpent'].mean()"
   ]
  },
  {
   "cell_type": "code",
   "execution_count": 5,
   "id": "b75af522-18f9-48c2-a313-83a04f411d82",
   "metadata": {},
   "outputs": [],
   "source": [
    "def create_target(x):\n",
    "    if x >= dm['AmountSpent'].mean():\n",
    "        res = 1\n",
    "    else:\n",
    "        res = 0\n",
    "    return res"
   ]
  },
  {
   "cell_type": "code",
   "execution_count": 6,
   "id": "1b3b501b-4be3-4b3d-9a93-46b5f2e79333",
   "metadata": {},
   "outputs": [],
   "source": [
    "dm['target'] = dm['AmountSpent'].map(create_target)"
   ]
  },
  {
   "cell_type": "code",
   "execution_count": 7,
   "id": "5ccd345a-4c74-4c53-ae54-c3950f0d331d",
   "metadata": {},
   "outputs": [
    {
     "data": {
      "text/html": [
       "<div>\n",
       "<style scoped>\n",
       "    .dataframe tbody tr th:only-of-type {\n",
       "        vertical-align: middle;\n",
       "    }\n",
       "\n",
       "    .dataframe tbody tr th {\n",
       "        vertical-align: top;\n",
       "    }\n",
       "\n",
       "    .dataframe thead th {\n",
       "        text-align: right;\n",
       "    }\n",
       "</style>\n",
       "<table border=\"1\" class=\"dataframe\">\n",
       "  <thead>\n",
       "    <tr style=\"text-align: right;\">\n",
       "      <th></th>\n",
       "      <th>Age</th>\n",
       "      <th>Gender</th>\n",
       "      <th>OwnHome</th>\n",
       "      <th>Married</th>\n",
       "      <th>Location</th>\n",
       "      <th>Salary</th>\n",
       "      <th>Children</th>\n",
       "      <th>History</th>\n",
       "      <th>Catalogs</th>\n",
       "      <th>AmountSpent</th>\n",
       "      <th>Cust_Id</th>\n",
       "      <th>target</th>\n",
       "    </tr>\n",
       "  </thead>\n",
       "  <tbody>\n",
       "    <tr>\n",
       "      <th>0</th>\n",
       "      <td>Old</td>\n",
       "      <td>Female</td>\n",
       "      <td>Own</td>\n",
       "      <td>Single</td>\n",
       "      <td>Far</td>\n",
       "      <td>47500</td>\n",
       "      <td>0</td>\n",
       "      <td>High</td>\n",
       "      <td>6</td>\n",
       "      <td>755</td>\n",
       "      <td>247</td>\n",
       "      <td>0</td>\n",
       "    </tr>\n",
       "    <tr>\n",
       "      <th>1</th>\n",
       "      <td>Middle</td>\n",
       "      <td>Male</td>\n",
       "      <td>Rent</td>\n",
       "      <td>Single</td>\n",
       "      <td>Close</td>\n",
       "      <td>63600</td>\n",
       "      <td>0</td>\n",
       "      <td>High</td>\n",
       "      <td>6</td>\n",
       "      <td>1318</td>\n",
       "      <td>127</td>\n",
       "      <td>1</td>\n",
       "    </tr>\n",
       "  </tbody>\n",
       "</table>\n",
       "</div>"
      ],
      "text/plain": [
       "      Age  Gender OwnHome Married Location  Salary  Children History  \\\n",
       "0     Old  Female     Own  Single      Far   47500         0    High   \n",
       "1  Middle    Male    Rent  Single    Close   63600         0    High   \n",
       "\n",
       "   Catalogs  AmountSpent  Cust_Id  target  \n",
       "0         6          755      247       0  \n",
       "1         6         1318      127       1  "
      ]
     },
     "execution_count": 7,
     "metadata": {},
     "output_type": "execute_result"
    }
   ],
   "source": [
    "dm.head(2)"
   ]
  },
  {
   "cell_type": "code",
   "execution_count": 8,
   "id": "ce70b072-eb1f-4808-8014-c1b055cdd777",
   "metadata": {},
   "outputs": [],
   "source": [
    "def combine_age(x):\n",
    "    if x==\"Middle\" or x==\"Old\":\n",
    "        res = \"Middle-Old\"\n",
    "    else:\n",
    "        res = \"Young\"\n",
    "    return res\n",
    "dm['Age_N']=dm['Age'].map(combine_age)"
   ]
  },
  {
   "cell_type": "code",
   "execution_count": 9,
   "id": "bd0d9bae-ca5d-4ff4-a798-eee561894a86",
   "metadata": {},
   "outputs": [],
   "source": [
    "def combine_kids(x):\n",
    "    if x==2 or x==3:\n",
    "        res = \"2-3\"\n",
    "    else:\n",
    "        res = str(x)\n",
    "    return res\n",
    "dm['Children_N'] = dm['Children'].map(combine_kids)"
   ]
  },
  {
   "cell_type": "code",
   "execution_count": 11,
   "id": "41e59d66-1313-4e42-b783-1e55019f037b",
   "metadata": {},
   "outputs": [],
   "source": [
    "dm['History'] = dm['History'].fillna('NewCust')"
   ]
  },
  {
   "cell_type": "code",
   "execution_count": 12,
   "id": "fa2d5350-c4b1-4a29-8f0c-cb502ee36171",
   "metadata": {},
   "outputs": [],
   "source": [
    "dm['Catalogs'] = dm['Catalogs'].astype('str')"
   ]
  },
  {
   "cell_type": "code",
   "execution_count": 13,
   "id": "bd7d8ea7-9301-4780-82e0-c3ce453a755e",
   "metadata": {},
   "outputs": [],
   "source": [
    "train = dm.sample(frac=0.70,random_state=2)\n",
    "test = dm.drop(train.index)"
   ]
  },
  {
   "cell_type": "code",
   "execution_count": 14,
   "id": "63d281d9-9a4d-4cd2-a6c8-afdd4cfdceca",
   "metadata": {},
   "outputs": [
    {
     "data": {
      "text/html": [
       "<div>\n",
       "<style scoped>\n",
       "    .dataframe tbody tr th:only-of-type {\n",
       "        vertical-align: middle;\n",
       "    }\n",
       "\n",
       "    .dataframe tbody tr th {\n",
       "        vertical-align: top;\n",
       "    }\n",
       "\n",
       "    .dataframe thead th {\n",
       "        text-align: right;\n",
       "    }\n",
       "</style>\n",
       "<table border=\"1\" class=\"dataframe\">\n",
       "  <thead>\n",
       "    <tr style=\"text-align: right;\">\n",
       "      <th></th>\n",
       "      <th>Age</th>\n",
       "      <th>Gender</th>\n",
       "      <th>OwnHome</th>\n",
       "      <th>Married</th>\n",
       "      <th>Location</th>\n",
       "      <th>Salary</th>\n",
       "      <th>Children</th>\n",
       "      <th>History</th>\n",
       "      <th>Catalogs</th>\n",
       "      <th>AmountSpent</th>\n",
       "      <th>Cust_Id</th>\n",
       "      <th>target</th>\n",
       "      <th>Age_N</th>\n",
       "      <th>Children_N</th>\n",
       "    </tr>\n",
       "  </thead>\n",
       "  <tbody>\n",
       "    <tr>\n",
       "      <th>37</th>\n",
       "      <td>Middle</td>\n",
       "      <td>Male</td>\n",
       "      <td>Rent</td>\n",
       "      <td>Single</td>\n",
       "      <td>Close</td>\n",
       "      <td>47000</td>\n",
       "      <td>1</td>\n",
       "      <td>Medium</td>\n",
       "      <td>12</td>\n",
       "      <td>584</td>\n",
       "      <td>745</td>\n",
       "      <td>0</td>\n",
       "      <td>Middle-Old</td>\n",
       "      <td>1</td>\n",
       "    </tr>\n",
       "    <tr>\n",
       "      <th>726</th>\n",
       "      <td>Middle</td>\n",
       "      <td>Female</td>\n",
       "      <td>Rent</td>\n",
       "      <td>Single</td>\n",
       "      <td>Close</td>\n",
       "      <td>26200</td>\n",
       "      <td>1</td>\n",
       "      <td>Low</td>\n",
       "      <td>12</td>\n",
       "      <td>381</td>\n",
       "      <td>105</td>\n",
       "      <td>0</td>\n",
       "      <td>Middle-Old</td>\n",
       "      <td>1</td>\n",
       "    </tr>\n",
       "  </tbody>\n",
       "</table>\n",
       "</div>"
      ],
      "text/plain": [
       "        Age  Gender OwnHome Married Location  Salary  Children History  \\\n",
       "37   Middle    Male    Rent  Single    Close   47000         1  Medium   \n",
       "726  Middle  Female    Rent  Single    Close   26200         1     Low   \n",
       "\n",
       "    Catalogs  AmountSpent  Cust_Id  target       Age_N Children_N  \n",
       "37        12          584      745       0  Middle-Old          1  \n",
       "726       12          381      105       0  Middle-Old          1  "
      ]
     },
     "execution_count": 14,
     "metadata": {},
     "output_type": "execute_result"
    }
   ],
   "source": [
    "### Model ###\n",
    "train.head(2)"
   ]
  },
  {
   "cell_type": "code",
   "execution_count": 15,
   "id": "5c9a8546-0d13-4452-bd77-9ca69f308ffd",
   "metadata": {},
   "outputs": [],
   "source": [
    "import statsmodels.formula.api as smf"
   ]
  },
  {
   "cell_type": "code",
   "execution_count": 16,
   "id": "55c329f2-870c-4cc6-ae2e-ce8d1e0d320d",
   "metadata": {},
   "outputs": [],
   "source": [
    "formula = '''target~C(Age_N)+C(Children_N)+C(Catalogs)+C(Married)+C(OwnHome)\n",
    "+C(Gender)+C(History)+C(Location)+Salary\n",
    "'''"
   ]
  },
  {
   "cell_type": "code",
   "execution_count": 17,
   "id": "2ba6be37-35cd-4080-9933-b915480433f3",
   "metadata": {},
   "outputs": [],
   "source": [
    "import statsmodels.api as sm\n",
    "model1 = smf.glm(formula,data=train,family=sm.families.Binomial()).fit()"
   ]
  },
  {
   "cell_type": "code",
   "execution_count": 18,
   "id": "ff5984fa-eb1c-41ce-9760-02f19360e27d",
   "metadata": {},
   "outputs": [
    {
     "name": "stdout",
     "output_type": "stream",
     "text": [
      "                 Generalized Linear Model Regression Results                  \n",
      "==============================================================================\n",
      "Dep. Variable:                 target   No. Observations:                  700\n",
      "Model:                            GLM   Df Residuals:                      685\n",
      "Model Family:                Binomial   Df Model:                           14\n",
      "Link Function:                  Logit   Scale:                          1.0000\n",
      "Method:                          IRLS   Log-Likelihood:                -159.42\n",
      "Date:                Tue, 28 Jun 2022   Deviance:                       318.84\n",
      "Time:                        15:28:18   Pearson chi2:                     418.\n",
      "No. Iterations:                    24   Pseudo R-squ. (CS):             0.5919\n",
      "Covariance Type:            nonrobust                                         \n",
      "=========================================================================================\n",
      "                            coef    std err          z      P>|z|      [0.025      0.975]\n",
      "-----------------------------------------------------------------------------------------\n",
      "Intercept                -4.3850      1.017     -4.310      0.000      -6.379      -2.391\n",
      "C(Age_N)[T.Young]        -0.6790      0.451     -1.505      0.132      -1.563       0.205\n",
      "C(Children_N)[T.1]       -0.6303      0.372     -1.696      0.090      -1.359       0.098\n",
      "C(Children_N)[T.2-3]     -2.1707      0.480     -4.520      0.000      -3.112      -1.229\n",
      "C(Catalogs)[T.18]         1.3321      0.390      3.420      0.001       0.569       2.096\n",
      "C(Catalogs)[T.24]         2.1285      0.407      5.227      0.000       1.330       2.927\n",
      "C(Catalogs)[T.6]         -1.5216      0.462     -3.295      0.001      -2.427      -0.617\n",
      "C(Married)[T.Single]     -0.4575      0.349     -1.312      0.189      -1.141       0.226\n",
      "C(OwnHome)[T.Rent]       -0.3881      0.310     -1.253      0.210      -0.995       0.219\n",
      "C(Gender)[T.Male]         0.0378      0.305      0.124      0.901      -0.561       0.636\n",
      "C(History)[T.Low]       -24.0340   1.35e+04     -0.002      0.999   -2.65e+04    2.65e+04\n",
      "C(History)[T.Medium]     -1.4458      0.468     -3.088      0.002      -2.363      -0.528\n",
      "C(History)[T.NewCust]     0.5946      0.502      1.186      0.236      -0.388       1.578\n",
      "C(Location)[T.Far]        1.4509      0.360      4.028      0.000       0.745       2.157\n",
      "Salary                     8e-05   1.21e-05      6.599      0.000    5.62e-05       0.000\n",
      "=========================================================================================\n"
     ]
    }
   ],
   "source": [
    "print(model1.summary())"
   ]
  },
  {
   "cell_type": "code",
   "execution_count": 19,
   "id": "7cf8e582-dc38-4550-95f2-6761e098a133",
   "metadata": {},
   "outputs": [
    {
     "data": {
      "text/html": [
       "<div>\n",
       "<style scoped>\n",
       "    .dataframe tbody tr th:only-of-type {\n",
       "        vertical-align: middle;\n",
       "    }\n",
       "\n",
       "    .dataframe tbody tr th {\n",
       "        vertical-align: top;\n",
       "    }\n",
       "\n",
       "    .dataframe thead th {\n",
       "        text-align: right;\n",
       "    }\n",
       "</style>\n",
       "<table border=\"1\" class=\"dataframe\">\n",
       "  <thead>\n",
       "    <tr style=\"text-align: right;\">\n",
       "      <th></th>\n",
       "      <th>Age</th>\n",
       "      <th>Gender</th>\n",
       "      <th>OwnHome</th>\n",
       "      <th>Married</th>\n",
       "      <th>Location</th>\n",
       "      <th>Salary</th>\n",
       "      <th>Children</th>\n",
       "      <th>History</th>\n",
       "      <th>Catalogs</th>\n",
       "      <th>AmountSpent</th>\n",
       "      <th>Cust_Id</th>\n",
       "      <th>target</th>\n",
       "      <th>Age_N</th>\n",
       "      <th>Children_N</th>\n",
       "    </tr>\n",
       "  </thead>\n",
       "  <tbody>\n",
       "    <tr>\n",
       "      <th>37</th>\n",
       "      <td>Middle</td>\n",
       "      <td>Male</td>\n",
       "      <td>Rent</td>\n",
       "      <td>Single</td>\n",
       "      <td>Close</td>\n",
       "      <td>47000</td>\n",
       "      <td>1</td>\n",
       "      <td>Medium</td>\n",
       "      <td>12</td>\n",
       "      <td>584</td>\n",
       "      <td>745</td>\n",
       "      <td>0</td>\n",
       "      <td>Middle-Old</td>\n",
       "      <td>1</td>\n",
       "    </tr>\n",
       "    <tr>\n",
       "      <th>726</th>\n",
       "      <td>Middle</td>\n",
       "      <td>Female</td>\n",
       "      <td>Rent</td>\n",
       "      <td>Single</td>\n",
       "      <td>Close</td>\n",
       "      <td>26200</td>\n",
       "      <td>1</td>\n",
       "      <td>Low</td>\n",
       "      <td>12</td>\n",
       "      <td>381</td>\n",
       "      <td>105</td>\n",
       "      <td>0</td>\n",
       "      <td>Middle-Old</td>\n",
       "      <td>1</td>\n",
       "    </tr>\n",
       "  </tbody>\n",
       "</table>\n",
       "</div>"
      ],
      "text/plain": [
       "        Age  Gender OwnHome Married Location  Salary  Children History  \\\n",
       "37   Middle    Male    Rent  Single    Close   47000         1  Medium   \n",
       "726  Middle  Female    Rent  Single    Close   26200         1     Low   \n",
       "\n",
       "    Catalogs  AmountSpent  Cust_Id  target       Age_N Children_N  \n",
       "37        12          584      745       0  Middle-Old          1  \n",
       "726       12          381      105       0  Middle-Old          1  "
      ]
     },
     "execution_count": 19,
     "metadata": {},
     "output_type": "execute_result"
    }
   ],
   "source": [
    "train.head(2)"
   ]
  },
  {
   "cell_type": "code",
   "execution_count": 20,
   "id": "4ae22a7c-e29c-49eb-a0b4-a5d3929bcb9d",
   "metadata": {},
   "outputs": [],
   "source": [
    "def child_d(x):\n",
    "    if x==\"2-3\":\n",
    "        res = 1\n",
    "    else:\n",
    "        res = 0\n",
    "    return res\n",
    "def hist_d(x):\n",
    "    if x==\"Medium\":\n",
    "        res = 1\n",
    "    else:\n",
    "        res = 0 \n",
    "    return res\n",
    "train['Child_2_3'] = train['Children_N'].map(child_d)\n",
    "train['Hist_M'] = train['History'].map(hist_d)\n",
    "test['Child_2_3'] = test['Children_N'].map(child_d)\n",
    "test['Hist_M'] = test['History'].map(hist_d)"
   ]
  },
  {
   "cell_type": "code",
   "execution_count": 23,
   "id": "c682b546-8547-4e95-b9e0-6b59a4957e98",
   "metadata": {},
   "outputs": [],
   "source": [
    "formula2 = '''target~Child_2_3+C(Catalogs)+Hist_M+C(Location)+Salary'''\n",
    "model2 = smf.glm(formula2,data=train,family=sm.families.Binomial()).fit()"
   ]
  },
  {
   "cell_type": "code",
   "execution_count": 24,
   "id": "1cbcffdc-c944-4a36-b0cc-713a42fd7a71",
   "metadata": {},
   "outputs": [
    {
     "name": "stdout",
     "output_type": "stream",
     "text": [
      "                 Generalized Linear Model Regression Results                  \n",
      "==============================================================================\n",
      "Dep. Variable:                 target   No. Observations:                  700\n",
      "Model:                            GLM   Df Residuals:                      692\n",
      "Model Family:                Binomial   Df Model:                            7\n",
      "Link Function:                  Logit   Scale:                          1.0000\n",
      "Method:                          IRLS   Log-Likelihood:                -189.42\n",
      "Date:                Tue, 28 Jun 2022   Deviance:                       378.84\n",
      "Time:                        15:38:29   Pearson chi2:                     719.\n",
      "No. Iterations:                     7   Pseudo R-squ. (CS):             0.5553\n",
      "Covariance Type:            nonrobust                                         \n",
      "======================================================================================\n",
      "                         coef    std err          z      P>|z|      [0.025      0.975]\n",
      "--------------------------------------------------------------------------------------\n",
      "Intercept             -5.9133      0.546    -10.836      0.000      -6.983      -4.844\n",
      "C(Catalogs)[T.18]      1.3494      0.359      3.758      0.000       0.646       2.053\n",
      "C(Catalogs)[T.24]      2.2099      0.374      5.913      0.000       1.477       2.942\n",
      "C(Catalogs)[T.6]      -1.2389      0.420     -2.952      0.003      -2.061      -0.416\n",
      "C(Location)[T.Far]     1.5424      0.306      5.037      0.000       0.942       2.143\n",
      "Child_2_3             -2.6976      0.376     -7.184      0.000      -3.434      -1.962\n",
      "Hist_M                -1.2488      0.288     -4.329      0.000      -1.814      -0.683\n",
      "Salary              9.281e-05   7.66e-06     12.113      0.000    7.78e-05       0.000\n",
      "======================================================================================\n"
     ]
    }
   ],
   "source": [
    "print(model2.summary())"
   ]
  },
  {
   "cell_type": "code",
   "execution_count": 25,
   "id": "1e27b393-a2f6-4410-8cf8-4301cd0a5bde",
   "metadata": {},
   "outputs": [
    {
     "data": {
      "text/plain": [
       "array(['12', '18', '6', '24'], dtype=object)"
      ]
     },
     "execution_count": 25,
     "metadata": {},
     "output_type": "execute_result"
    }
   ],
   "source": [
    "train['Catalogs'].unique()"
   ]
  },
  {
   "cell_type": "code",
   "execution_count": 30,
   "id": "b3cfe977-0c80-4756-a20b-eb6015f4a1aa",
   "metadata": {},
   "outputs": [
    {
     "data": {
      "text/html": [
       "<div>\n",
       "<style scoped>\n",
       "    .dataframe tbody tr th:only-of-type {\n",
       "        vertical-align: middle;\n",
       "    }\n",
       "\n",
       "    .dataframe tbody tr th {\n",
       "        vertical-align: top;\n",
       "    }\n",
       "\n",
       "    .dataframe thead th {\n",
       "        text-align: right;\n",
       "    }\n",
       "</style>\n",
       "<table border=\"1\" class=\"dataframe\">\n",
       "  <thead>\n",
       "    <tr style=\"text-align: right;\">\n",
       "      <th></th>\n",
       "      <th>target</th>\n",
       "    </tr>\n",
       "    <tr>\n",
       "      <th>Catalogs</th>\n",
       "      <th></th>\n",
       "    </tr>\n",
       "  </thead>\n",
       "  <tbody>\n",
       "    <tr>\n",
       "      <th>12</th>\n",
       "      <td>0.313433</td>\n",
       "    </tr>\n",
       "    <tr>\n",
       "      <th>18</th>\n",
       "      <td>0.543860</td>\n",
       "    </tr>\n",
       "    <tr>\n",
       "      <th>24</th>\n",
       "      <td>0.660494</td>\n",
       "    </tr>\n",
       "    <tr>\n",
       "      <th>6</th>\n",
       "      <td>0.132530</td>\n",
       "    </tr>\n",
       "  </tbody>\n",
       "</table>\n",
       "</div>"
      ],
      "text/plain": [
       "            target\n",
       "Catalogs          \n",
       "12        0.313433\n",
       "18        0.543860\n",
       "24        0.660494\n",
       "6         0.132530"
      ]
     },
     "execution_count": 30,
     "metadata": {},
     "output_type": "execute_result"
    }
   ],
   "source": [
    "train.groupby(['Catalogs']).agg({'target':'mean'})"
   ]
  },
  {
   "cell_type": "code",
   "execution_count": 33,
   "id": "62a819ce-4743-4af1-b51a-5c01888cd5a7",
   "metadata": {},
   "outputs": [
    {
     "data": {
      "text/html": [
       "<div>\n",
       "<style scoped>\n",
       "    .dataframe tbody tr th:only-of-type {\n",
       "        vertical-align: middle;\n",
       "    }\n",
       "\n",
       "    .dataframe tbody tr th {\n",
       "        vertical-align: top;\n",
       "    }\n",
       "\n",
       "    .dataframe thead tr th {\n",
       "        text-align: left;\n",
       "    }\n",
       "\n",
       "    .dataframe thead tr:last-of-type th {\n",
       "        text-align: right;\n",
       "    }\n",
       "</style>\n",
       "<table border=\"1\" class=\"dataframe\">\n",
       "  <thead>\n",
       "    <tr>\n",
       "      <th></th>\n",
       "      <th colspan=\"3\" halign=\"left\">target</th>\n",
       "    </tr>\n",
       "    <tr>\n",
       "      <th></th>\n",
       "      <th>mean</th>\n",
       "      <th>sum</th>\n",
       "      <th>count</th>\n",
       "    </tr>\n",
       "    <tr>\n",
       "      <th>Location</th>\n",
       "      <th></th>\n",
       "      <th></th>\n",
       "      <th></th>\n",
       "    </tr>\n",
       "  </thead>\n",
       "  <tbody>\n",
       "    <tr>\n",
       "      <th>Close</th>\n",
       "      <td>0.354508</td>\n",
       "      <td>173</td>\n",
       "      <td>488</td>\n",
       "    </tr>\n",
       "    <tr>\n",
       "      <th>Far</th>\n",
       "      <td>0.528302</td>\n",
       "      <td>112</td>\n",
       "      <td>212</td>\n",
       "    </tr>\n",
       "  </tbody>\n",
       "</table>\n",
       "</div>"
      ],
      "text/plain": [
       "            target           \n",
       "              mean  sum count\n",
       "Location                     \n",
       "Close     0.354508  173   488\n",
       "Far       0.528302  112   212"
      ]
     },
     "execution_count": 33,
     "metadata": {},
     "output_type": "execute_result"
    }
   ],
   "source": [
    "train.groupby(['Location']).agg({'target':['mean','sum','count']})"
   ]
  },
  {
   "cell_type": "code",
   "execution_count": 34,
   "id": "57b7cbd5-e709-4cdb-b0cb-7eb8d137cfd2",
   "metadata": {},
   "outputs": [
    {
     "data": {
      "text/html": [
       "<div>\n",
       "<style scoped>\n",
       "    .dataframe tbody tr th:only-of-type {\n",
       "        vertical-align: middle;\n",
       "    }\n",
       "\n",
       "    .dataframe tbody tr th {\n",
       "        vertical-align: top;\n",
       "    }\n",
       "\n",
       "    .dataframe thead tr th {\n",
       "        text-align: left;\n",
       "    }\n",
       "\n",
       "    .dataframe thead tr:last-of-type th {\n",
       "        text-align: right;\n",
       "    }\n",
       "</style>\n",
       "<table border=\"1\" class=\"dataframe\">\n",
       "  <thead>\n",
       "    <tr>\n",
       "      <th></th>\n",
       "      <th colspan=\"3\" halign=\"left\">target</th>\n",
       "    </tr>\n",
       "    <tr>\n",
       "      <th></th>\n",
       "      <th>mean</th>\n",
       "      <th>sum</th>\n",
       "      <th>count</th>\n",
       "    </tr>\n",
       "    <tr>\n",
       "      <th>Children_N</th>\n",
       "      <th></th>\n",
       "      <th></th>\n",
       "      <th></th>\n",
       "    </tr>\n",
       "  </thead>\n",
       "  <tbody>\n",
       "    <tr>\n",
       "      <th>0</th>\n",
       "      <td>0.498489</td>\n",
       "      <td>165</td>\n",
       "      <td>331</td>\n",
       "    </tr>\n",
       "    <tr>\n",
       "      <th>1</th>\n",
       "      <td>0.406417</td>\n",
       "      <td>76</td>\n",
       "      <td>187</td>\n",
       "    </tr>\n",
       "    <tr>\n",
       "      <th>2-3</th>\n",
       "      <td>0.241758</td>\n",
       "      <td>44</td>\n",
       "      <td>182</td>\n",
       "    </tr>\n",
       "  </tbody>\n",
       "</table>\n",
       "</div>"
      ],
      "text/plain": [
       "              target           \n",
       "                mean  sum count\n",
       "Children_N                     \n",
       "0           0.498489  165   331\n",
       "1           0.406417   76   187\n",
       "2-3         0.241758   44   182"
      ]
     },
     "execution_count": 34,
     "metadata": {},
     "output_type": "execute_result"
    }
   ],
   "source": [
    "train.groupby(['Children_N']).agg({'target':['mean','sum','count']})"
   ]
  },
  {
   "cell_type": "code",
   "execution_count": 35,
   "id": "8f272e11-d6d8-4c47-8bf2-7568364a224f",
   "metadata": {},
   "outputs": [
    {
     "data": {
      "text/html": [
       "<div>\n",
       "<style scoped>\n",
       "    .dataframe tbody tr th:only-of-type {\n",
       "        vertical-align: middle;\n",
       "    }\n",
       "\n",
       "    .dataframe tbody tr th {\n",
       "        vertical-align: top;\n",
       "    }\n",
       "\n",
       "    .dataframe thead tr th {\n",
       "        text-align: left;\n",
       "    }\n",
       "\n",
       "    .dataframe thead tr:last-of-type th {\n",
       "        text-align: right;\n",
       "    }\n",
       "</style>\n",
       "<table border=\"1\" class=\"dataframe\">\n",
       "  <thead>\n",
       "    <tr>\n",
       "      <th></th>\n",
       "      <th colspan=\"3\" halign=\"left\">target</th>\n",
       "    </tr>\n",
       "    <tr>\n",
       "      <th></th>\n",
       "      <th>mean</th>\n",
       "      <th>sum</th>\n",
       "      <th>count</th>\n",
       "    </tr>\n",
       "    <tr>\n",
       "      <th>History</th>\n",
       "      <th></th>\n",
       "      <th></th>\n",
       "      <th></th>\n",
       "    </tr>\n",
       "  </thead>\n",
       "  <tbody>\n",
       "    <tr>\n",
       "      <th>High</th>\n",
       "      <td>0.915730</td>\n",
       "      <td>163</td>\n",
       "      <td>178</td>\n",
       "    </tr>\n",
       "    <tr>\n",
       "      <th>Low</th>\n",
       "      <td>0.000000</td>\n",
       "      <td>0</td>\n",
       "      <td>159</td>\n",
       "    </tr>\n",
       "    <tr>\n",
       "      <th>Medium</th>\n",
       "      <td>0.224359</td>\n",
       "      <td>35</td>\n",
       "      <td>156</td>\n",
       "    </tr>\n",
       "    <tr>\n",
       "      <th>NewCust</th>\n",
       "      <td>0.420290</td>\n",
       "      <td>87</td>\n",
       "      <td>207</td>\n",
       "    </tr>\n",
       "  </tbody>\n",
       "</table>\n",
       "</div>"
      ],
      "text/plain": [
       "           target           \n",
       "             mean  sum count\n",
       "History                     \n",
       "High     0.915730  163   178\n",
       "Low      0.000000    0   159\n",
       "Medium   0.224359   35   156\n",
       "NewCust  0.420290   87   207"
      ]
     },
     "execution_count": 35,
     "metadata": {},
     "output_type": "execute_result"
    }
   ],
   "source": [
    "train.groupby(['History']).agg({'target':['mean','sum','count']})"
   ]
  },
  {
   "cell_type": "code",
   "execution_count": 36,
   "id": "681c7fcc-9e8d-4a51-97b0-7c560a558899",
   "metadata": {},
   "outputs": [
    {
     "data": {
      "text/plain": [
       "0.45955882352941174"
      ]
     },
     "execution_count": 36,
     "metadata": {},
     "output_type": "execute_result"
    }
   ],
   "source": [
    "(163+87)/(178+159+207)"
   ]
  },
  {
   "cell_type": "code",
   "execution_count": 37,
   "id": "f0430637-1703-4901-8785-6a2c50accbd5",
   "metadata": {},
   "outputs": [],
   "source": [
    "train['Salary_qtr']=pd.qcut(train['Salary'],4)"
   ]
  },
  {
   "cell_type": "code",
   "execution_count": 39,
   "id": "71d50cc3-8122-4434-99a4-e1533b442c9c",
   "metadata": {},
   "outputs": [
    {
     "data": {
      "text/html": [
       "<div>\n",
       "<style scoped>\n",
       "    .dataframe tbody tr th:only-of-type {\n",
       "        vertical-align: middle;\n",
       "    }\n",
       "\n",
       "    .dataframe tbody tr th {\n",
       "        vertical-align: top;\n",
       "    }\n",
       "\n",
       "    .dataframe thead tr th {\n",
       "        text-align: left;\n",
       "    }\n",
       "</style>\n",
       "<table border=\"1\" class=\"dataframe\">\n",
       "  <thead>\n",
       "    <tr>\n",
       "      <th></th>\n",
       "      <th>Salary_qtr</th>\n",
       "      <th colspan=\"3\" halign=\"left\">target</th>\n",
       "    </tr>\n",
       "    <tr>\n",
       "      <th></th>\n",
       "      <th></th>\n",
       "      <th>mean</th>\n",
       "      <th>sum</th>\n",
       "      <th>count</th>\n",
       "    </tr>\n",
       "  </thead>\n",
       "  <tbody>\n",
       "    <tr>\n",
       "      <th>0</th>\n",
       "      <td>(10099.999, 29975.0]</td>\n",
       "      <td>0.000000</td>\n",
       "      <td>0</td>\n",
       "      <td>175</td>\n",
       "    </tr>\n",
       "    <tr>\n",
       "      <th>1</th>\n",
       "      <td>(29975.0, 52850.0]</td>\n",
       "      <td>0.251429</td>\n",
       "      <td>44</td>\n",
       "      <td>175</td>\n",
       "    </tr>\n",
       "    <tr>\n",
       "      <th>2</th>\n",
       "      <td>(52850.0, 77150.0]</td>\n",
       "      <td>0.560000</td>\n",
       "      <td>98</td>\n",
       "      <td>175</td>\n",
       "    </tr>\n",
       "    <tr>\n",
       "      <th>3</th>\n",
       "      <td>(77150.0, 168800.0]</td>\n",
       "      <td>0.817143</td>\n",
       "      <td>143</td>\n",
       "      <td>175</td>\n",
       "    </tr>\n",
       "  </tbody>\n",
       "</table>\n",
       "</div>"
      ],
      "text/plain": [
       "             Salary_qtr    target           \n",
       "                             mean  sum count\n",
       "0  (10099.999, 29975.0]  0.000000    0   175\n",
       "1    (29975.0, 52850.0]  0.251429   44   175\n",
       "2    (52850.0, 77150.0]  0.560000   98   175\n",
       "3   (77150.0, 168800.0]  0.817143  143   175"
      ]
     },
     "execution_count": 39,
     "metadata": {},
     "output_type": "execute_result"
    }
   ],
   "source": [
    "train.groupby(['Salary_qtr']).agg({'target':['mean','sum','count']}).reset_index()"
   ]
  },
  {
   "cell_type": "code",
   "execution_count": 40,
   "id": "6e41ca7b-d7ec-457a-b97b-b6e93a066231",
   "metadata": {},
   "outputs": [
    {
     "data": {
      "text/html": [
       "<div>\n",
       "<style scoped>\n",
       "    .dataframe tbody tr th:only-of-type {\n",
       "        vertical-align: middle;\n",
       "    }\n",
       "\n",
       "    .dataframe tbody tr th {\n",
       "        vertical-align: top;\n",
       "    }\n",
       "\n",
       "    .dataframe thead th {\n",
       "        text-align: right;\n",
       "    }\n",
       "</style>\n",
       "<table border=\"1\" class=\"dataframe\">\n",
       "  <thead>\n",
       "    <tr style=\"text-align: right;\">\n",
       "      <th></th>\n",
       "      <th>Unnamed: 0</th>\n",
       "      <th>destinationCountry</th>\n",
       "      <th>roomCount</th>\n",
       "      <th>udid</th>\n",
       "      <th>email</th>\n",
       "      <th>phone</th>\n",
       "      <th>guest_country_code</th>\n",
       "      <th>is_cardless</th>\n",
       "      <th>stars</th>\n",
       "      <th>type</th>\n",
       "      <th>NormalizedTotalBookingPrice</th>\n",
       "      <th>NormalizedLowRate</th>\n",
       "      <th>numberOfBookedNights</th>\n",
       "      <th>numberOfReviews</th>\n",
       "      <th>AvgUserRating</th>\n",
       "      <th>hotel_id</th>\n",
       "      <th>hasSpecialRequest</th>\n",
       "      <th>hasFreeCancellation</th>\n",
       "      <th>cancelledOrNoShow</th>\n",
       "    </tr>\n",
       "  </thead>\n",
       "  <tbody>\n",
       "    <tr>\n",
       "      <th>0</th>\n",
       "      <td>1</td>\n",
       "      <td>0</td>\n",
       "      <td>1</td>\n",
       "      <td>0</td>\n",
       "      <td>0</td>\n",
       "      <td>0</td>\n",
       "      <td>0</td>\n",
       "      <td>1</td>\n",
       "      <td>4.5</td>\n",
       "      <td>HOTEL</td>\n",
       "      <td>104</td>\n",
       "      <td>97</td>\n",
       "      <td>3</td>\n",
       "      <td>220</td>\n",
       "      <td>4.0580</td>\n",
       "      <td>0</td>\n",
       "      <td>0</td>\n",
       "      <td>0</td>\n",
       "      <td>1</td>\n",
       "    </tr>\n",
       "    <tr>\n",
       "      <th>1</th>\n",
       "      <td>2</td>\n",
       "      <td>1</td>\n",
       "      <td>1</td>\n",
       "      <td>1</td>\n",
       "      <td>1</td>\n",
       "      <td>1</td>\n",
       "      <td>0</td>\n",
       "      <td>0</td>\n",
       "      <td>3.0</td>\n",
       "      <td>HOTEL</td>\n",
       "      <td>107</td>\n",
       "      <td>99</td>\n",
       "      <td>8</td>\n",
       "      <td>47</td>\n",
       "      <td>2.5556</td>\n",
       "      <td>1</td>\n",
       "      <td>0</td>\n",
       "      <td>1</td>\n",
       "      <td>1</td>\n",
       "    </tr>\n",
       "  </tbody>\n",
       "</table>\n",
       "</div>"
      ],
      "text/plain": [
       "   Unnamed: 0  destinationCountry  roomCount  udid  email  phone  \\\n",
       "0           1                   0          1     0      0      0   \n",
       "1           2                   1          1     1      1      1   \n",
       "\n",
       "   guest_country_code  is_cardless  stars   type  NormalizedTotalBookingPrice  \\\n",
       "0                   0            1    4.5  HOTEL                          104   \n",
       "1                   0            0    3.0  HOTEL                          107   \n",
       "\n",
       "   NormalizedLowRate  numberOfBookedNights  numberOfReviews  AvgUserRating  \\\n",
       "0                 97                     3              220         4.0580   \n",
       "1                 99                     8               47         2.5556   \n",
       "\n",
       "   hotel_id  hasSpecialRequest  hasFreeCancellation  cancelledOrNoShow  \n",
       "0         0                  0                    0                  1  \n",
       "1         1                  0                    1                  1  "
      ]
     },
     "execution_count": 40,
     "metadata": {},
     "output_type": "execute_result"
    }
   ],
   "source": [
    "url = \"https://raw.githubusercontent.com/Gunnvant/corp_trainings/main/ola_electric/predictive_modelling/data/order_cancellation.csv\"\n",
    "cancellation = pd.read_csv(url)\n",
    "cancellation.head(2)"
   ]
  },
  {
   "cell_type": "code",
   "execution_count": 42,
   "id": "27219f8e-0364-402b-8026-c532f354cea2",
   "metadata": {},
   "outputs": [],
   "source": [
    "probs = model2.predict(test)\n",
    "act_y = test['target']"
   ]
  },
  {
   "cell_type": "code",
   "execution_count": 43,
   "id": "1f8f30b9-38c7-4a93-9143-54d67cabf145",
   "metadata": {},
   "outputs": [],
   "source": [
    "table = pd.DataFrame({'y':act_y,'prob':probs})"
   ]
  },
  {
   "cell_type": "code",
   "execution_count": 45,
   "id": "541a95ad-1817-4941-be86-55aca1c5273d",
   "metadata": {},
   "outputs": [
    {
     "data": {
      "text/html": [
       "<div>\n",
       "<style scoped>\n",
       "    .dataframe tbody tr th:only-of-type {\n",
       "        vertical-align: middle;\n",
       "    }\n",
       "\n",
       "    .dataframe tbody tr th {\n",
       "        vertical-align: top;\n",
       "    }\n",
       "\n",
       "    .dataframe thead th {\n",
       "        text-align: right;\n",
       "    }\n",
       "</style>\n",
       "<table border=\"1\" class=\"dataframe\">\n",
       "  <thead>\n",
       "    <tr style=\"text-align: right;\">\n",
       "      <th></th>\n",
       "      <th>y</th>\n",
       "      <th>prob</th>\n",
       "    </tr>\n",
       "  </thead>\n",
       "  <tbody>\n",
       "    <tr>\n",
       "      <th>0</th>\n",
       "      <td>0</td>\n",
       "      <td>0.231222</td>\n",
       "    </tr>\n",
       "    <tr>\n",
       "      <th>8</th>\n",
       "      <td>0</td>\n",
       "      <td>0.006477</td>\n",
       "    </tr>\n",
       "  </tbody>\n",
       "</table>\n",
       "</div>"
      ],
      "text/plain": [
       "   y      prob\n",
       "0  0  0.231222\n",
       "8  0  0.006477"
      ]
     },
     "execution_count": 45,
     "metadata": {},
     "output_type": "execute_result"
    }
   ],
   "source": [
    "table.head(2)"
   ]
  },
  {
   "cell_type": "code",
   "execution_count": 47,
   "id": "72acef0a-9b66-4942-b969-e071278c929e",
   "metadata": {},
   "outputs": [],
   "source": [
    "table['prob_deciles']=pd.qcut(table['prob'],10)"
   ]
  },
  {
   "cell_type": "code",
   "execution_count": 48,
   "id": "6096168d-6d39-4dfc-bea5-6652b5e80e63",
   "metadata": {},
   "outputs": [
    {
     "data": {
      "text/html": [
       "<div>\n",
       "<style scoped>\n",
       "    .dataframe tbody tr th:only-of-type {\n",
       "        vertical-align: middle;\n",
       "    }\n",
       "\n",
       "    .dataframe tbody tr th {\n",
       "        vertical-align: top;\n",
       "    }\n",
       "\n",
       "    .dataframe thead th {\n",
       "        text-align: right;\n",
       "    }\n",
       "</style>\n",
       "<table border=\"1\" class=\"dataframe\">\n",
       "  <thead>\n",
       "    <tr style=\"text-align: right;\">\n",
       "      <th></th>\n",
       "      <th>y</th>\n",
       "      <th>prob</th>\n",
       "      <th>prob_deciles</th>\n",
       "    </tr>\n",
       "  </thead>\n",
       "  <tbody>\n",
       "    <tr>\n",
       "      <th>0</th>\n",
       "      <td>0</td>\n",
       "      <td>0.231222</td>\n",
       "      <td>(0.219, 0.544]</td>\n",
       "    </tr>\n",
       "    <tr>\n",
       "      <th>8</th>\n",
       "      <td>0</td>\n",
       "      <td>0.006477</td>\n",
       "      <td>(0.00398, 0.0192]</td>\n",
       "    </tr>\n",
       "  </tbody>\n",
       "</table>\n",
       "</div>"
      ],
      "text/plain": [
       "   y      prob       prob_deciles\n",
       "0  0  0.231222     (0.219, 0.544]\n",
       "8  0  0.006477  (0.00398, 0.0192]"
      ]
     },
     "execution_count": 48,
     "metadata": {},
     "output_type": "execute_result"
    }
   ],
   "source": [
    "table.head(2)"
   ]
  },
  {
   "cell_type": "code",
   "execution_count": 53,
   "id": "48f3dfb4-be45-4596-9708-3493236aab3f",
   "metadata": {},
   "outputs": [],
   "source": [
    "gains = table.groupby('prob_deciles')['y'].agg(['sum','count']).\\\n",
    "                    sort_values('prob_deciles',ascending=False).reset_index()"
   ]
  },
  {
   "cell_type": "code",
   "execution_count": 56,
   "id": "a6527ba3-ef8c-48be-b19a-6e0e44b95f55",
   "metadata": {},
   "outputs": [],
   "source": [
    "gains=gains.rename(columns={'sum':'#events','count':'no_obs'})"
   ]
  },
  {
   "cell_type": "code",
   "execution_count": 58,
   "id": "83822605-56f6-4169-9004-2ff903001915",
   "metadata": {},
   "outputs": [],
   "source": [
    "gains['perc_events']=gains['#events']/gains['#events'].sum()"
   ]
  },
  {
   "cell_type": "code",
   "execution_count": 60,
   "id": "50d2f26c-d5e2-4ef5-9447-d85728705ed5",
   "metadata": {},
   "outputs": [],
   "source": [
    "gains['cumulative_perc_events']=gains['perc_events'].cumsum()"
   ]
  },
  {
   "cell_type": "code",
   "execution_count": 61,
   "id": "536346c2-bc35-4ea5-90e2-f95a17e975d9",
   "metadata": {},
   "outputs": [
    {
     "data": {
      "text/html": [
       "<div>\n",
       "<style scoped>\n",
       "    .dataframe tbody tr th:only-of-type {\n",
       "        vertical-align: middle;\n",
       "    }\n",
       "\n",
       "    .dataframe tbody tr th {\n",
       "        vertical-align: top;\n",
       "    }\n",
       "\n",
       "    .dataframe thead th {\n",
       "        text-align: right;\n",
       "    }\n",
       "</style>\n",
       "<table border=\"1\" class=\"dataframe\">\n",
       "  <thead>\n",
       "    <tr style=\"text-align: right;\">\n",
       "      <th></th>\n",
       "      <th>prob_deciles</th>\n",
       "      <th>#events</th>\n",
       "      <th>no_obs</th>\n",
       "      <th>perc_events</th>\n",
       "      <th>cumulative_perc_events</th>\n",
       "    </tr>\n",
       "  </thead>\n",
       "  <tbody>\n",
       "    <tr>\n",
       "      <th>0</th>\n",
       "      <td>(0.982, 1.0]</td>\n",
       "      <td>30</td>\n",
       "      <td>30</td>\n",
       "      <td>0.263158</td>\n",
       "      <td>0.263158</td>\n",
       "    </tr>\n",
       "    <tr>\n",
       "      <th>1</th>\n",
       "      <td>(0.921, 0.982]</td>\n",
       "      <td>25</td>\n",
       "      <td>30</td>\n",
       "      <td>0.219298</td>\n",
       "      <td>0.482456</td>\n",
       "    </tr>\n",
       "    <tr>\n",
       "      <th>2</th>\n",
       "      <td>(0.828, 0.921]</td>\n",
       "      <td>24</td>\n",
       "      <td>30</td>\n",
       "      <td>0.210526</td>\n",
       "      <td>0.692982</td>\n",
       "    </tr>\n",
       "    <tr>\n",
       "      <th>3</th>\n",
       "      <td>(0.544, 0.828]</td>\n",
       "      <td>18</td>\n",
       "      <td>30</td>\n",
       "      <td>0.157895</td>\n",
       "      <td>0.850877</td>\n",
       "    </tr>\n",
       "    <tr>\n",
       "      <th>4</th>\n",
       "      <td>(0.219, 0.544]</td>\n",
       "      <td>11</td>\n",
       "      <td>30</td>\n",
       "      <td>0.096491</td>\n",
       "      <td>0.947368</td>\n",
       "    </tr>\n",
       "    <tr>\n",
       "      <th>5</th>\n",
       "      <td>(0.0955, 0.219]</td>\n",
       "      <td>3</td>\n",
       "      <td>30</td>\n",
       "      <td>0.026316</td>\n",
       "      <td>0.973684</td>\n",
       "    </tr>\n",
       "    <tr>\n",
       "      <th>6</th>\n",
       "      <td>(0.0363, 0.0955]</td>\n",
       "      <td>2</td>\n",
       "      <td>30</td>\n",
       "      <td>0.017544</td>\n",
       "      <td>0.991228</td>\n",
       "    </tr>\n",
       "    <tr>\n",
       "      <th>7</th>\n",
       "      <td>(0.0192, 0.0363]</td>\n",
       "      <td>1</td>\n",
       "      <td>30</td>\n",
       "      <td>0.008772</td>\n",
       "      <td>1.000000</td>\n",
       "    </tr>\n",
       "    <tr>\n",
       "      <th>8</th>\n",
       "      <td>(0.00398, 0.0192]</td>\n",
       "      <td>0</td>\n",
       "      <td>30</td>\n",
       "      <td>0.000000</td>\n",
       "      <td>1.000000</td>\n",
       "    </tr>\n",
       "    <tr>\n",
       "      <th>9</th>\n",
       "      <td>(-0.000847, 0.00398]</td>\n",
       "      <td>0</td>\n",
       "      <td>30</td>\n",
       "      <td>0.000000</td>\n",
       "      <td>1.000000</td>\n",
       "    </tr>\n",
       "  </tbody>\n",
       "</table>\n",
       "</div>"
      ],
      "text/plain": [
       "           prob_deciles  #events  no_obs  perc_events  cumulative_perc_events\n",
       "0          (0.982, 1.0]       30      30     0.263158                0.263158\n",
       "1        (0.921, 0.982]       25      30     0.219298                0.482456\n",
       "2        (0.828, 0.921]       24      30     0.210526                0.692982\n",
       "3        (0.544, 0.828]       18      30     0.157895                0.850877\n",
       "4        (0.219, 0.544]       11      30     0.096491                0.947368\n",
       "5       (0.0955, 0.219]        3      30     0.026316                0.973684\n",
       "6      (0.0363, 0.0955]        2      30     0.017544                0.991228\n",
       "7      (0.0192, 0.0363]        1      30     0.008772                1.000000\n",
       "8     (0.00398, 0.0192]        0      30     0.000000                1.000000\n",
       "9  (-0.000847, 0.00398]        0      30     0.000000                1.000000"
      ]
     },
     "execution_count": 61,
     "metadata": {},
     "output_type": "execute_result"
    }
   ],
   "source": [
    "gains"
   ]
  },
  {
   "cell_type": "code",
   "execution_count": null,
   "id": "3ad143e0-8186-4505-b8ab-078342a6cf54",
   "metadata": {},
   "outputs": [],
   "source": [
    "`"
   ]
  }
 ],
 "metadata": {
  "kernelspec": {
   "display_name": "Python 3 (ipykernel)",
   "language": "python",
   "name": "python3"
  },
  "language_info": {
   "codemirror_mode": {
    "name": "ipython",
    "version": 3
   },
   "file_extension": ".py",
   "mimetype": "text/x-python",
   "name": "python",
   "nbconvert_exporter": "python",
   "pygments_lexer": "ipython3",
   "version": "3.9.10"
  }
 },
 "nbformat": 4,
 "nbformat_minor": 5
}
