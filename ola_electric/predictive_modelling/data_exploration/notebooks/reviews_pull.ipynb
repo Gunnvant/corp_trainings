{
 "cells": [
  {
   "cell_type": "markdown",
   "id": "bb7908df-e7ba-4745-9a60-4f704ffcebb9",
   "metadata": {},
   "source": [
    "## Data pull from Reviews table\n",
    "- What features can be derived from the reviews table?"
   ]
  },
  {
   "cell_type": "code",
   "execution_count": 1,
   "id": "299b6493-36bf-4ee1-b797-4da52ea32a64",
   "metadata": {},
   "outputs": [
    {
     "data": {
      "text/plain": [
       "'Connected: @../data/sample_db/airbnb.db'"
      ]
     },
     "execution_count": 1,
     "metadata": {},
     "output_type": "execute_result"
    }
   ],
   "source": [
    "%load_ext sql\n",
    "%sql sqlite:///../data/sample_db/airbnb.db"
   ]
  },
  {
   "cell_type": "code",
   "execution_count": 2,
   "id": "941cfbf4-ca57-44d6-b8e4-bd1ee0ee6cf4",
   "metadata": {},
   "outputs": [
    {
     "name": "stdout",
     "output_type": "stream",
     "text": [
      " * sqlite:///../data/sample_db/airbnb.db\n",
      "Done.\n"
     ]
    },
    {
     "data": {
      "text/html": [
       "<table>\n",
       "    <thead>\n",
       "        <tr>\n",
       "            <th>review_id</th>\n",
       "            <th>listing_id</th>\n",
       "            <th>date</th>\n",
       "            <th>reviewer_id</th>\n",
       "            <th>reviewer_name</th>\n",
       "            <th>comments</th>\n",
       "        </tr>\n",
       "    </thead>\n",
       "    <tbody>\n",
       "        <tr>\n",
       "            <td>1</td>\n",
       "            <td>50904</td>\n",
       "            <td>2015-05-06 00:00:00.000000</td>\n",
       "            <td>19482395</td>\n",
       "            <td>Jihae</td>\n",
       "            <td>Karin’s “Aplace” is absolutely beautiful and cozy boutique hotel in the center of Antwerp. The Host, Karin is an amazing, warm and kind person who truly puts her hearts and soul into making her guests feel like at home. The apartment is beautifully furnished with mix of retro and modern style - I was so amazed about all of elegant details. The place is very close to almost everything in Antwerp. I highly recommend!</td>\n",
       "        </tr>\n",
       "        <tr>\n",
       "            <td>2</td>\n",
       "            <td>50904</td>\n",
       "            <td>2021-10-10 00:00:00.000000</td>\n",
       "            <td>333559</td>\n",
       "            <td>Emilie</td>\n",
       "            <td>Karin is a wonderful host, she was really helpful ! Highly recommended for a stay in Antwerp.</td>\n",
       "        </tr>\n",
       "        <tr>\n",
       "            <td>3</td>\n",
       "            <td>116134</td>\n",
       "            <td>2012-03-05 00:00:00.000000</td>\n",
       "            <td>928644</td>\n",
       "            <td>Aurélien</td>\n",
       "            <td>Amazing flat, really close from the MAS Musem, and 15 minutes walking from the Cathedral. \r",
       "&lt;br/&gt;Really calm, many space and light, perfect for 2 couples, perfect for a weekend.\r",
       "&lt;br/&gt;Antwerpen is a really nice city to walk around and chill in cosy cafés.\r",
       "&lt;br/&gt;Check out the coolest places here: (Website hidden by Airbnb) \r",
       "&lt;br/&gt;</td>\n",
       "        </tr>\n",
       "        <tr>\n",
       "            <td>4</td>\n",
       "            <td>116134</td>\n",
       "            <td>2012-05-25 00:00:00.000000</td>\n",
       "            <td>231288</td>\n",
       "            <td>Gail</td>\n",
       "            <td>This is a well equipped, very comfortable apartment --- the host has thought of everything.... all the kitchen equipment imaginable.  The apartment is very convenient to the old city, cathedral, museums, and restaurants.  Works very well for a family - clean, well kept, plenty of room and bathrooms.  Our host, Paul, was very responsive to us and very helpful.  Convenient grocery store, close to the river for walking.  There is a convenient bus for getting to central station for day trips in Belgium.  This was a very enjoyable experience.</td>\n",
       "        </tr>\n",
       "        <tr>\n",
       "            <td>5</td>\n",
       "            <td>116134</td>\n",
       "            <td>2013-09-03 00:00:00.000000</td>\n",
       "            <td>7984251</td>\n",
       "            <td>Marcel</td>\n",
       "            <td>This is a very nice appartement. We really liked the the modern interior of the appartement. It&#x27;s a clean, pleasant and very comfortable place to stay. \r",
       "&lt;br/&gt;\r",
       "&lt;br/&gt;We could park our car in the private indoor parking place and hired our bikes just around the corner.\r",
       "&lt;br/&gt;\r",
       "&lt;br/&gt;Paul is a great host. It was a pleasure to stay in this apartment.\r",
       "&lt;br/&gt;\r",
       "&lt;br/&gt;Regards,\r",
       "&lt;br/&gt;\r",
       "&lt;br/&gt;Marcel</td>\n",
       "        </tr>\n",
       "    </tbody>\n",
       "</table>"
      ],
      "text/plain": [
       "[(1, 50904, '2015-05-06 00:00:00.000000', 19482395, 'Jihae', 'Karin’s “Aplace” is absolutely beautiful and cozy boutique hotel in the center of Antwerp. The Host, Karin is an amazing, warm and kind person who tr ... (120 characters truncated) ... f retro and modern style - I was so amazed about all of elegant details. The place is very close to almost everything in Antwerp. I highly recommend!'),\n",
       " (2, 50904, '2021-10-10 00:00:00.000000', 333559, 'Emilie', 'Karin is a wonderful host, she was really helpful ! Highly recommended for a stay in Antwerp.'),\n",
       " (3, 116134, '2012-03-05 00:00:00.000000', 928644, 'Aurélien', 'Amazing flat, really close from the MAS Musem, and 15 minutes walking from the Cathedral. \\r<br/>Really calm, many space and light, perfect for 2 cou ... (33 characters truncated) ... />Antwerpen is a really nice city to walk around and chill in cosy cafés.\\r<br/>Check out the coolest places here: (Website hidden by Airbnb) \\r<br/>'),\n",
       " (4, 116134, '2012-05-25 00:00:00.000000', 231288, 'Gail', 'This is a well equipped, very comfortable apartment --- the host has thought of everything.... all the kitchen equipment imaginable.  The apartment i ... (245 characters truncated) ...  to the river for walking.  There is a convenient bus for getting to central station for day trips in Belgium.  This was a very enjoyable experience.'),\n",
       " (5, 116134, '2013-09-03 00:00:00.000000', 7984251, 'Marcel', \"This is a very nice appartement. We really liked the the modern interior of the appartement. It's a clean, pleasant and very comfortable place to sta ... (91 characters truncated) ... kes just around the corner.\\r<br/>\\r<br/>Paul is a great host. It was a pleasure to stay in this apartment.\\r<br/>\\r<br/>Regards,\\r<br/>\\r<br/>Marcel\")]"
      ]
     },
     "execution_count": 2,
     "metadata": {},
     "output_type": "execute_result"
    }
   ],
   "source": [
    "%%sql\n",
    "select * from reviews limit 5;"
   ]
  },
  {
   "cell_type": "markdown",
   "id": "c3da6261-76ce-4a85-a05a-52ce779f5372",
   "metadata": {},
   "source": [
    "#### One feature could be to look at the total number of reviews per listing till date"
   ]
  },
  {
   "cell_type": "code",
   "execution_count": 3,
   "id": "4f555905-67b0-45ce-99dc-b4c2642e4bb3",
   "metadata": {},
   "outputs": [
    {
     "name": "stdout",
     "output_type": "stream",
     "text": [
      " * sqlite:///../data/sample_db/airbnb.db\n",
      "Done.\n"
     ]
    },
    {
     "data": {
      "text/html": [
       "<table>\n",
       "    <thead>\n",
       "        <tr>\n",
       "            <th>listing_id</th>\n",
       "            <th>tot_reviews</th>\n",
       "        </tr>\n",
       "    </thead>\n",
       "    <tbody>\n",
       "        <tr>\n",
       "            <td>4502646</td>\n",
       "            <td>648</td>\n",
       "        </tr>\n",
       "        <tr>\n",
       "            <td>8766126</td>\n",
       "            <td>564</td>\n",
       "        </tr>\n",
       "        <tr>\n",
       "            <td>1901179</td>\n",
       "            <td>463</td>\n",
       "        </tr>\n",
       "        <tr>\n",
       "            <td>8587634</td>\n",
       "            <td>447</td>\n",
       "        </tr>\n",
       "        <tr>\n",
       "            <td>28693154</td>\n",
       "            <td>394</td>\n",
       "        </tr>\n",
       "    </tbody>\n",
       "</table>"
      ],
      "text/plain": [
       "[(4502646, 648),\n",
       " (8766126, 564),\n",
       " (1901179, 463),\n",
       " (8587634, 447),\n",
       " (28693154, 394)]"
      ]
     },
     "execution_count": 3,
     "metadata": {},
     "output_type": "execute_result"
    }
   ],
   "source": [
    "%%sql\n",
    "select\n",
    "    listing_id,\n",
    "    count(listing_id) as tot_reviews\n",
    "    from reviews\n",
    "group by listing_id\n",
    "order by tot_reviews\n",
    "desc\n",
    "limit 5;"
   ]
  },
  {
   "cell_type": "markdown",
   "id": "769cfe73-d18c-45ce-9793-e23b36fe7145",
   "metadata": {},
   "source": [
    "#### Another feature could be to look at the numner of reviews per listing in past 30 days"
   ]
  },
  {
   "cell_type": "code",
   "execution_count": 4,
   "id": "11460afd-1037-4c89-9dc3-008a58dca9de",
   "metadata": {},
   "outputs": [
    {
     "name": "stdout",
     "output_type": "stream",
     "text": [
      " * sqlite:///../data/sample_db/airbnb.db\n",
      "Done.\n"
     ]
    },
    {
     "data": {
      "text/html": [
       "<table>\n",
       "    <thead>\n",
       "        <tr>\n",
       "            <th>listing_id</th>\n",
       "            <th>date</th>\n",
       "            <th>diff</th>\n",
       "        </tr>\n",
       "    </thead>\n",
       "    <tbody>\n",
       "        <tr>\n",
       "            <td>116134</td>\n",
       "            <td>2021-12-18 00:00:00.000000</td>\n",
       "            <td>22.0</td>\n",
       "        </tr>\n",
       "        <tr>\n",
       "            <td>224682</td>\n",
       "            <td>2021-12-05 00:00:00.000000</td>\n",
       "            <td>9.0</td>\n",
       "        </tr>\n",
       "        <tr>\n",
       "            <td>224682</td>\n",
       "            <td>2021-12-14 00:00:00.000000</td>\n",
       "            <td>18.0</td>\n",
       "        </tr>\n",
       "        <tr>\n",
       "            <td>224682</td>\n",
       "            <td>2021-12-17 00:00:00.000000</td>\n",
       "            <td>21.0</td>\n",
       "        </tr>\n",
       "        <tr>\n",
       "            <td>224682</td>\n",
       "            <td>2021-12-19 00:00:00.000000</td>\n",
       "            <td>23.0</td>\n",
       "        </tr>\n",
       "    </tbody>\n",
       "</table>"
      ],
      "text/plain": [
       "[(116134, '2021-12-18 00:00:00.000000', 22.0),\n",
       " (224682, '2021-12-05 00:00:00.000000', 9.0),\n",
       " (224682, '2021-12-14 00:00:00.000000', 18.0),\n",
       " (224682, '2021-12-17 00:00:00.000000', 21.0),\n",
       " (224682, '2021-12-19 00:00:00.000000', 23.0)]"
      ]
     },
     "execution_count": 4,
     "metadata": {},
     "output_type": "execute_result"
    }
   ],
   "source": [
    "%%sql\n",
    "with table_diff as\n",
    "    (select\n",
    "         review_id,\n",
    "         listing_id,\n",
    "         date,\n",
    "         julianday(date) -julianday(strftime(\"%Y-%m-%d\",\"2021-11-26\"))as diff\n",
    "     from reviews)\n",
    "select \n",
    "    listing_id,\n",
    "    date,\n",
    "    diff\n",
    "from table_diff\n",
    "where diff<=30 and diff>0\n",
    "limit 5;"
   ]
  },
  {
   "cell_type": "markdown",
   "id": "485e1e7a-527b-4efe-924c-90aa4a802e06",
   "metadata": {},
   "source": [
    "#### Use the snippet above to build on a query that can fetch the required information"
   ]
  },
  {
   "cell_type": "code",
   "execution_count": 5,
   "id": "e9d0c046-934e-4e7d-aeb8-47db6488219d",
   "metadata": {},
   "outputs": [
    {
     "name": "stdout",
     "output_type": "stream",
     "text": [
      " * sqlite:///../data/sample_db/airbnb.db\n",
      "Done.\n"
     ]
    },
    {
     "data": {
      "text/html": [
       "<table>\n",
       "    <thead>\n",
       "        <tr>\n",
       "            <th>listing_id</th>\n",
       "            <th>num_reviews_30</th>\n",
       "        </tr>\n",
       "    </thead>\n",
       "    <tbody>\n",
       "        <tr>\n",
       "            <td>50455820</td>\n",
       "            <td>11</td>\n",
       "        </tr>\n",
       "        <tr>\n",
       "            <td>47593160</td>\n",
       "            <td>11</td>\n",
       "        </tr>\n",
       "        <tr>\n",
       "            <td>29683668</td>\n",
       "            <td>11</td>\n",
       "        </tr>\n",
       "        <tr>\n",
       "            <td>28693154</td>\n",
       "            <td>11</td>\n",
       "        </tr>\n",
       "        <tr>\n",
       "            <td>53250815</td>\n",
       "            <td>10</td>\n",
       "        </tr>\n",
       "    </tbody>\n",
       "</table>"
      ],
      "text/plain": [
       "[(50455820, 11),\n",
       " (47593160, 11),\n",
       " (29683668, 11),\n",
       " (28693154, 11),\n",
       " (53250815, 10)]"
      ]
     },
     "execution_count": 5,
     "metadata": {},
     "output_type": "execute_result"
    }
   ],
   "source": [
    "%%sql\n",
    "with table_diff as\n",
    "    (select\n",
    "         review_id,\n",
    "         listing_id,\n",
    "         date,\n",
    "         julianday(date) - julianday(strftime(\"%Y-%m-%d\",\"2021-11-26\"))as diff\n",
    "     from reviews)\n",
    "select \n",
    "    listing_id,\n",
    "    count(listing_id) as num_reviews_30\n",
    "from table_diff\n",
    "where diff<=30 and diff>0\n",
    "group by listing_id\n",
    "order by num_reviews_30 desc\n",
    "limit 5;"
   ]
  },
  {
   "cell_type": "code",
   "execution_count": null,
   "id": "a3bc14a8-63c0-48d7-94a2-86720c0b693c",
   "metadata": {},
   "outputs": [],
   "source": []
  },
  {
   "cell_type": "code",
   "execution_count": null,
   "id": "616c7ac1-4781-4fc5-82ff-ce9cd4666113",
   "metadata": {},
   "outputs": [],
   "source": []
  }
 ],
 "metadata": {
  "kernelspec": {
   "display_name": "Python 3 (ipykernel)",
   "language": "python",
   "name": "python3"
  },
  "language_info": {
   "codemirror_mode": {
    "name": "ipython",
    "version": 3
   },
   "file_extension": ".py",
   "mimetype": "text/x-python",
   "name": "python",
   "nbconvert_exporter": "python",
   "pygments_lexer": "ipython3",
   "version": "3.10.2"
  }
 },
 "nbformat": 4,
 "nbformat_minor": 5
}
