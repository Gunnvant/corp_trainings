{
 "cells": [
  {
   "cell_type": "markdown",
   "id": "9d8ceb9f-a897-4f89-98b6-260942b3f154",
   "metadata": {},
   "source": [
    "## Data Pull from Hosts and Listings Table\n",
    "- Find out the number of listings by host, hosts with more listings have better experience and hence are price setters or help with price discovery."
   ]
  },
  {
   "cell_type": "code",
   "execution_count": 1,
   "id": "2cb11f33-d04a-4c2e-962d-f31ffd1659d5",
   "metadata": {},
   "outputs": [
    {
     "data": {
      "text/plain": [
       "'Connected: @../data/sample_db/airbnb.db'"
      ]
     },
     "execution_count": 1,
     "metadata": {},
     "output_type": "execute_result"
    }
   ],
   "source": [
    "%load_ext sql\n",
    "%sql sqlite:///../data/sample_db/airbnb.db"
   ]
  },
  {
   "cell_type": "code",
   "execution_count": 3,
   "id": "69fe1c73-8bdc-47e3-a9b2-4e3f24d9ae14",
   "metadata": {},
   "outputs": [
    {
     "name": "stdout",
     "output_type": "stream",
     "text": [
      " * sqlite:///../data/sample_db/airbnb.db\n",
      "Done.\n"
     ]
    },
    {
     "data": {
      "text/html": [
       "<table>\n",
       "    <thead>\n",
       "        <tr>\n",
       "            <th>listing_id</th>\n",
       "            <th>listing_url</th>\n",
       "            <th>name</th>\n",
       "            <th>description</th>\n",
       "            <th>latitude</th>\n",
       "            <th>longitude</th>\n",
       "            <th>property_type</th>\n",
       "            <th>room_type</th>\n",
       "            <th>accomodates</th>\n",
       "            <th>bathrooms_text</th>\n",
       "            <th>bedrooms</th>\n",
       "            <th>beds</th>\n",
       "            <th>amenities</th>\n",
       "            <th>host_id</th>\n",
       "            <th>host_id_1</th>\n",
       "            <th>host_name</th>\n",
       "            <th>host_since</th>\n",
       "            <th>host_location</th>\n",
       "            <th>host_about</th>\n",
       "        </tr>\n",
       "    </thead>\n",
       "    <tbody>\n",
       "        <tr>\n",
       "            <td>50904</td>\n",
       "            <td>https://www.airbnb.com/rooms/50904</td>\n",
       "            <td>aplace/antwerp: cosy suite - fashion district</td>\n",
       "            <td>Decorated in a vintage style combined with a few new objects which quarantees you a warm and cosy room.&lt;br /&gt;&lt;br /&gt;&lt;b&gt;The space&lt;/b&gt;&lt;br /&gt;Aplace Antwerp is located on a charming little square in the very center of Antwerp (fashion district area). Literally around the corner of everything you want to see in this beautifull city.&lt;br /&gt;&lt;br /&gt;This suite has been completely renovated since december 2012. It is being decorated in a vintage style combined with a few new objects which quarantees you a warm and cosy room.&lt;br /&gt;&lt;br /&gt;It has a small sitting corner with sofa, digital tv, a docking station, dvd-player, a shared kitchinette with Illy espresso machine, a perculator and a little fridge and a microwave. The bathroom has a walk-in / rainshower.&lt;br /&gt;&lt;br /&gt;&lt;br /&gt;This suite is situated in the back of the building and is extremely cosy.&lt;br /&gt;&lt;br /&gt;Aplace is situated in the middle of the old town of Antwerp. On the corner of ‘de Groenplaats’ and the Big Market, the designer shops and the ‘Kl</td>\n",
       "            <td>51.218575</td>\n",
       "            <td>4.398631</td>\n",
       "            <td>Room in boutique hotel</td>\n",
       "            <td>Hotel room</td>\n",
       "            <td>2</td>\n",
       "            <td>1 private bath</td>\n",
       "            <td>1</td>\n",
       "            <td>1</td>\n",
       "            <td>[&quot;Kitchen&quot;, &quot;Smoke alarm&quot;, &quot;Hair dryer&quot;, &quot;Keypad&quot;, &quot;Carbon monoxide alarm&quot;, &quot;Mini fridge&quot;, &quot;Wifi&quot;, &quot;Dishes and silverware&quot;, &quot;Security cameras on property&quot;, &quot;Clothing storage&quot;, &quot;Luggage dropoff allowed&quot;, &quot;Bed linens&quot;, &quot;Iron&quot;, &quot;Dedicated workspace&quot;, &quot;Microwave&quot;, &quot;Molton Brown body soap&quot;, &quot;Essentials&quot;, &quot;Hot water kettle&quot;, &quot;Long term stays allowed&quot;, &quot;Portable fans&quot;, &quot;Wine glasses&quot;, &quot;Heating&quot;, &quot;Paid parking off premises&quot;, &quot;Hot water&quot;, &quot;Fire extinguisher&quot;, &quot;Bluetooth sound system&quot;, &quot;Coffee maker&quot;, &quot;Molton Brown shampoo&quot;, &quot;Safe&quot;, &quot;Hangers&quot;, &quot;Cable TV&quot;, &quot;TV with standard cable&quot;, &quot;Shower gel&quot;]</td>\n",
       "            <td>234077</td>\n",
       "            <td>234077</td>\n",
       "            <td>Karin</td>\n",
       "            <td>2010-09-14 00:00:00.000000</td>\n",
       "            <td>Antwerp, Flanders, Belgium</td>\n",
       "            <td>Ever since my childhood I dreamt of having my own small/tiny &#x27;hotel&#x27; and my dream became real. In combination with my passion for designing interiors, I&#x27;m absolutely doing what I like to do most: hosting &amp; decorating, an ideal match.</td>\n",
       "        </tr>\n",
       "        <tr>\n",
       "            <td>116134</td>\n",
       "            <td>https://www.airbnb.com/rooms/116134</td>\n",
       "            <td>Spacious apartment nearby Mas</td>\n",
       "            <td>Enjoy your stay at our 4 person apartment in the trendy old harbour of Antwerp. It entails all the luxury and comfort you need for a short or longer stay in the vibrant city.&lt;br /&gt;&lt;br /&gt;&lt;b&gt;The space&lt;/b&gt;&lt;br /&gt;You&#x27;ll have the chance to stay in a very nice, new modern apartment, for 4 guests, ideally located, at the Antwerp Marina (neighbourhood &#x27;t Eilandje), between the new MAS museum and the Red Star Line museum. It is located 15 minutes walk to the historic city center, in a lively trendy, upcoming neighbourhood, with plenty of restaurants, cafés, art galleries, ... We&#x27;ll be glad to advice you on the nice places in this area. &lt;br /&gt;&lt;br /&gt;A spacious, completely new apartment, with all amenities : 2 bedrooms, each with a kingsize boxspring bed, 2 bathrooms, 2 terraces, 2 toilets, a spacious living room, a fully equipped kitchen (microwave, oven, dishwasher, Nespresso machine, etc, ...&lt;br /&gt;Flatscreen tv, stereo, dvd, ipod connection, wireless WiFi internet, , &lt;br /&gt;&lt;br /&gt;There is a parki</td>\n",
       "            <td>51.23051</td>\n",
       "            <td>4.40593</td>\n",
       "            <td>Entire rental unit</td>\n",
       "            <td>Entire home/apt</td>\n",
       "            <td>4</td>\n",
       "            <td>2.5 baths</td>\n",
       "            <td>2</td>\n",
       "            <td>2</td>\n",
       "            <td>[&quot;Refrigerator&quot;, &quot;Elevator&quot;, &quot;Paid street parking off premises&quot;, &quot;Kitchen&quot;, &quot;Smoke alarm&quot;, &quot;Shampoo&quot;, &quot;Hair dryer&quot;, &quot;Outdoor furniture&quot;, &quot;Stove&quot;, &quot;Carbon monoxide alarm&quot;, &quot;Oven&quot;, &quot;Wifi&quot;, &quot;Cooking basics&quot;, &quot;Clothing storage: dresser, wardrobe, and closet&quot;, &quot;Dishes and silverware&quot;, &quot;Toaster&quot;, &quot;Washer&quot;, &quot;Window guards&quot;, &quot;Freezer&quot;, &quot;Iron&quot;, &quot;Dedicated workspace&quot;, &quot;Microwave&quot;, &quot;Essentials&quot;, &quot;Hot water kettle&quot;, &quot;Long term stays allowed&quot;, &quot;Waterfront&quot;, &quot;Paid parking garage on premises \\u2013 1 space&quot;, &quot;Bathtub&quot;, &quot;Room-darkening shades&quot;, &quot;Portable fans&quot;, &quot;First aid kit&quot;, &quot;Wine glasses&quot;, &quot;Drying rack for clothing&quot;, &quot;Heating&quot;, &quot;Hot water&quot;, &quot;Private patio or balcony&quot;, &quot;Private entrance&quot;, &quot;Fire extinguisher&quot;, &quot;Dishwasher&quot;, &quot;Coffee maker&quot;, &quot;Changing table&quot;, &quot;Hangers&quot;, &quot;Cable TV&quot;, &quot;TV with standard cable&quot;, &quot;Cleaning products&quot;]</td>\n",
       "            <td>586942</td>\n",
       "            <td>586942</td>\n",
       "            <td>Paul</td>\n",
       "            <td>2011-05-14 00:00:00.000000</td>\n",
       "            <td>Kapellen, Flanders, Belgium</td>\n",
       "            <td>My wife Gina and I will be glad to welcome you and help you have a great stay in Antwerp. </td>\n",
       "        </tr>\n",
       "    </tbody>\n",
       "</table>"
      ],
      "text/plain": [
       "[(50904, 'https://www.airbnb.com/rooms/50904', 'aplace/antwerp: cosy suite - fashion district', 'Decorated in a vintage style combined with a few new objects which quarantees you a warm and cosy room.<br /><br /><b>The space</b><br />Aplace Antwe ... (702 characters truncated) ... r />Aplace is situated in the middle of the old town of Antwerp. On the corner of ‘de Groenplaats’ and the Big Market, the designer shops and the ‘Kl', 51.218575, 4.398631, 'Room in boutique hotel', 'Hotel room', 2, '1 private bath', 1, 1, '[\"Kitchen\", \"Smoke alarm\", \"Hair dryer\", \"Keypad\", \"Carbon monoxide alarm\", \"Mini fridge\", \"Wifi\", \"Dishes and silverware\", \"Security cameras on prop ... (293 characters truncated) ... tinguisher\", \"Bluetooth sound system\", \"Coffee maker\", \"Molton Brown shampoo\", \"Safe\", \"Hangers\", \"Cable TV\", \"TV with standard cable\", \"Shower gel\"]', 234077, 234077, 'Karin', '2010-09-14 00:00:00.000000', 'Antwerp, Flanders, Belgium', \"Ever since my childhood I dreamt of having my own small/tiny 'hotel' and my dream became real. In combination with my passion for designing interiors, I'm absolutely doing what I like to do most: hosting & decorating, an ideal match.\"),\n",
       " (116134, 'https://www.airbnb.com/rooms/116134', 'Spacious apartment nearby Mas', \"Enjoy your stay at our 4 person apartment in the trendy old harbour of Antwerp. It entails all the luxury and comfort you need for a short or longer  ... (702 characters truncated) ... ven, dishwasher, Nespresso machine, etc, ...<br />Flatscreen tv, stereo, dvd, ipod connection, wireless WiFi internet, , <br /><br />There is a parki\", 51.23051, 4.40593, 'Entire rental unit', 'Entire home/apt', 4, '2.5 baths', 2, 2, '[\"Refrigerator\", \"Elevator\", \"Paid street parking off premises\", \"Kitchen\", \"Smoke alarm\", \"Shampoo\", \"Hair dryer\", \"Outdoor furniture\", \"Stove\", \"Ca ... (526 characters truncated) ... entrance\", \"Fire extinguisher\", \"Dishwasher\", \"Coffee maker\", \"Changing table\", \"Hangers\", \"Cable TV\", \"TV with standard cable\", \"Cleaning products\"]', 586942, 586942, 'Paul', '2011-05-14 00:00:00.000000', 'Kapellen, Flanders, Belgium', 'My wife Gina and I will be glad to welcome you and help you have a great stay in Antwerp. ')]"
      ]
     },
     "execution_count": 3,
     "metadata": {},
     "output_type": "execute_result"
    }
   ],
   "source": [
    "%%sql\n",
    "select * \n",
    "from \n",
    "listings\n",
    "inner join \n",
    "hosts \n",
    "on listings.host_id=hosts.host_id\n",
    "limit 2;"
   ]
  },
  {
   "cell_type": "code",
   "execution_count": 4,
   "id": "5b7d6036-ec44-4c73-80ea-38896b2595a6",
   "metadata": {},
   "outputs": [
    {
     "name": "stdout",
     "output_type": "stream",
     "text": [
      " * sqlite:///../data/sample_db/airbnb.db\n",
      "Done.\n"
     ]
    },
    {
     "data": {
      "text/html": [
       "<table>\n",
       "    <thead>\n",
       "        <tr>\n",
       "            <th>host_id</th>\n",
       "            <th>cnt</th>\n",
       "        </tr>\n",
       "    </thead>\n",
       "    <tbody>\n",
       "        <tr>\n",
       "            <td>317037207</td>\n",
       "            <td>64</td>\n",
       "        </tr>\n",
       "        <tr>\n",
       "            <td>165436938</td>\n",
       "            <td>63</td>\n",
       "        </tr>\n",
       "        <tr>\n",
       "            <td>110993942</td>\n",
       "            <td>16</td>\n",
       "        </tr>\n",
       "        <tr>\n",
       "            <td>43247005</td>\n",
       "            <td>16</td>\n",
       "        </tr>\n",
       "        <tr>\n",
       "            <td>244272948</td>\n",
       "            <td>11</td>\n",
       "        </tr>\n",
       "    </tbody>\n",
       "</table>"
      ],
      "text/plain": [
       "[(317037207, 64),\n",
       " (165436938, 63),\n",
       " (110993942, 16),\n",
       " (43247005, 16),\n",
       " (244272948, 11)]"
      ]
     },
     "execution_count": 4,
     "metadata": {},
     "output_type": "execute_result"
    }
   ],
   "source": [
    "%%sql\n",
    "with combined as\n",
    "(select * from listings\n",
    "inner join hosts \n",
    "on listings.host_id=hosts.host_id)\n",
    "select host_id,count(host_id) as cnt\n",
    "from combined\n",
    "group by host_id\n",
    "order by cnt desc\n",
    "limit 5;"
   ]
  },
  {
   "cell_type": "code",
   "execution_count": null,
   "id": "f825ae79-56d7-459d-832e-f02fda16941c",
   "metadata": {},
   "outputs": [],
   "source": []
  }
 ],
 "metadata": {
  "kernelspec": {
   "display_name": "Python 3 (ipykernel)",
   "language": "python",
   "name": "python3"
  },
  "language_info": {
   "codemirror_mode": {
    "name": "ipython",
    "version": 3
   },
   "file_extension": ".py",
   "mimetype": "text/x-python",
   "name": "python",
   "nbconvert_exporter": "python",
   "pygments_lexer": "ipython3",
   "version": "3.9.10"
  }
 },
 "nbformat": 4,
 "nbformat_minor": 5
}
