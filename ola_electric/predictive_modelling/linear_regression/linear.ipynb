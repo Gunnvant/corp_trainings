{
 "cells": [
  {
   "cell_type": "code",
   "execution_count": 1,
   "id": "46416509-9d83-4610-bef5-34a08ee7f601",
   "metadata": {},
   "outputs": [],
   "source": [
    "url = \"https://raw.githubusercontent.com/Gunnvant/corp_trainings/main/ola_electric/predictive_modelling/data/dm.csv\"\n",
    "import pandas as pd"
   ]
  },
  {
   "cell_type": "code",
   "execution_count": 2,
   "id": "9a29301c-a496-409c-b422-31cda7fbd4fb",
   "metadata": {},
   "outputs": [],
   "source": [
    "data = pd.read_csv(url)"
   ]
  },
  {
   "cell_type": "code",
   "execution_count": 3,
   "id": "8f051dee-64f1-4aee-97c5-cccdd018b891",
   "metadata": {},
   "outputs": [
    {
     "data": {
      "text/html": [
       "<div>\n",
       "<style scoped>\n",
       "    .dataframe tbody tr th:only-of-type {\n",
       "        vertical-align: middle;\n",
       "    }\n",
       "\n",
       "    .dataframe tbody tr th {\n",
       "        vertical-align: top;\n",
       "    }\n",
       "\n",
       "    .dataframe thead th {\n",
       "        text-align: right;\n",
       "    }\n",
       "</style>\n",
       "<table border=\"1\" class=\"dataframe\">\n",
       "  <thead>\n",
       "    <tr style=\"text-align: right;\">\n",
       "      <th></th>\n",
       "      <th>Age</th>\n",
       "      <th>Gender</th>\n",
       "      <th>OwnHome</th>\n",
       "      <th>Married</th>\n",
       "      <th>Location</th>\n",
       "      <th>Salary</th>\n",
       "      <th>Children</th>\n",
       "      <th>History</th>\n",
       "      <th>Catalogs</th>\n",
       "      <th>AmountSpent</th>\n",
       "      <th>Cust_Id</th>\n",
       "    </tr>\n",
       "  </thead>\n",
       "  <tbody>\n",
       "    <tr>\n",
       "      <th>0</th>\n",
       "      <td>Old</td>\n",
       "      <td>Female</td>\n",
       "      <td>Own</td>\n",
       "      <td>Single</td>\n",
       "      <td>Far</td>\n",
       "      <td>47500</td>\n",
       "      <td>0</td>\n",
       "      <td>High</td>\n",
       "      <td>6</td>\n",
       "      <td>755</td>\n",
       "      <td>247</td>\n",
       "    </tr>\n",
       "    <tr>\n",
       "      <th>1</th>\n",
       "      <td>Middle</td>\n",
       "      <td>Male</td>\n",
       "      <td>Rent</td>\n",
       "      <td>Single</td>\n",
       "      <td>Close</td>\n",
       "      <td>63600</td>\n",
       "      <td>0</td>\n",
       "      <td>High</td>\n",
       "      <td>6</td>\n",
       "      <td>1318</td>\n",
       "      <td>127</td>\n",
       "    </tr>\n",
       "  </tbody>\n",
       "</table>\n",
       "</div>"
      ],
      "text/plain": [
       "      Age  Gender OwnHome Married Location  Salary  Children History  \\\n",
       "0     Old  Female     Own  Single      Far   47500         0    High   \n",
       "1  Middle    Male    Rent  Single    Close   63600         0    High   \n",
       "\n",
       "   Catalogs  AmountSpent  Cust_Id  \n",
       "0         6          755      247  \n",
       "1         6         1318      127  "
      ]
     },
     "execution_count": 3,
     "metadata": {},
     "output_type": "execute_result"
    }
   ],
   "source": [
    "data.head(2)"
   ]
  },
  {
   "cell_type": "markdown",
   "id": "1b1345b6-2595-4be6-84c9-930715a07c98",
   "metadata": {},
   "source": [
    "- Variable Profiling\n",
    "- Data prep\n",
    "- Model"
   ]
  },
  {
   "cell_type": "code",
   "execution_count": 4,
   "id": "744b361a-2d59-4f73-a34f-b71d4a850a4d",
   "metadata": {},
   "outputs": [
    {
     "data": {
      "text/plain": [
       "Age\n",
       "Middle    1501.690945\n",
       "Old       1432.126829\n",
       "Young      558.623693\n",
       "Name: AmountSpent, dtype: float64"
      ]
     },
     "execution_count": 4,
     "metadata": {},
     "output_type": "execute_result"
    }
   ],
   "source": [
    "data.groupby('Age')['AmountSpent'].mean()"
   ]
  },
  {
   "cell_type": "code",
   "execution_count": 5,
   "id": "3fd43831-57e4-42e7-bf5c-326f0d224025",
   "metadata": {},
   "outputs": [],
   "source": [
    "import matplotlib.pyplot as plt\n",
    "%matplotlib inline"
   ]
  },
  {
   "cell_type": "code",
   "execution_count": 6,
   "id": "db8d34eb-fd98-4cad-88db-b0dc2085f227",
   "metadata": {},
   "outputs": [
    {
     "data": {
      "text/plain": [
       "<AxesSubplot:title={'center':'AmountSpent'}, xlabel='Age'>"
      ]
     },
     "execution_count": 6,
     "metadata": {},
     "output_type": "execute_result"
    },
    {
     "data": {
      "image/png": "[encoded data removed]",
      "text/plain": [
       "<Figure size 432x288 with 1 Axes>"
      ]
     },
     "metadata": {
      "needs_background": "light"
     },
     "output_type": "display_data"
    }
   ],
   "source": [
    "data.boxplot(by=\"Age\",column='AmountSpent')"
   ]
  },
  {
   "cell_type": "code",
   "execution_count": 7,
   "id": "f27dbf4f-bfa1-457b-ad5e-599e943fd16a",
   "metadata": {},
   "outputs": [],
   "source": [
    "def combine_age(x):\n",
    "    if x==\"Middle\" or x==\"Old\":\n",
    "        res = \"Middle-Old\"\n",
    "    else:\n",
    "        res = x\n",
    "    return res"
   ]
  },
  {
   "cell_type": "code",
   "execution_count": 9,
   "id": "0638df50-c0f2-4b0b-a9cf-cb0a44421469",
   "metadata": {},
   "outputs": [],
   "source": [
    "data['Age_N']=data['Age'].map(combine_age)"
   ]
  },
  {
   "cell_type": "code",
   "execution_count": 10,
   "id": "c7a74eb5-eee1-47df-9f54-37275d20a1fe",
   "metadata": {},
   "outputs": [
    {
     "data": {
      "text/plain": [
       "<AxesSubplot:title={'center':'AmountSpent'}, xlabel='Gender'>"
      ]
     },
     "execution_count": 10,
     "metadata": {},
     "output_type": "execute_result"
    },
    {
     "data": {
      "image/png": "[encoded data removed]",
      "text/plain": [
       "<Figure size 432x288 with 1 Axes>"
      ]
     },
     "metadata": {
      "needs_background": "light"
     },
     "output_type": "display_data"
    }
   ],
   "source": [
    "data.boxplot(by=\"Gender\",column='AmountSpent')"
   ]
  },
  {
   "cell_type": "code",
   "execution_count": 11,
   "id": "4fa24132-a43c-44a0-bb13-2f1ff5399648",
   "metadata": {},
   "outputs": [
    {
     "data": {
      "text/plain": [
       "<AxesSubplot:title={'center':'AmountSpent'}, xlabel='OwnHome'>"
      ]
     },
     "execution_count": 11,
     "metadata": {},
     "output_type": "execute_result"
    },
    {
     "data": {
      "image/png": "[encoded data removed]",
      "text/plain": [
       "<Figure size 432x288 with 1 Axes>"
      ]
     },
     "metadata": {
      "needs_background": "light"
     },
     "output_type": "display_data"
    }
   ],
   "source": [
    "data.boxplot(by=\"OwnHome\",column='AmountSpent')"
   ]
  },
  {
   "cell_type": "code",
   "execution_count": 12,
   "id": "4c609b5c-6605-48e0-bf33-d9a4d347ffe5",
   "metadata": {},
   "outputs": [
    {
     "data": {
      "text/plain": [
       "<AxesSubplot:title={'center':'AmountSpent'}, xlabel='Married'>"
      ]
     },
     "execution_count": 12,
     "metadata": {},
     "output_type": "execute_result"
    },
    {
     "data": {
      "image/png": "[encoded data removed]",
      "text/plain": [
       "<Figure size 432x288 with 1 Axes>"
      ]
     },
     "metadata": {
      "needs_background": "light"
     },
     "output_type": "display_data"
    }
   ],
   "source": [
    "data.boxplot(by=\"Married\",column='AmountSpent')"
   ]
  },
  {
   "cell_type": "code",
   "execution_count": 14,
   "id": "68b136fd-c98d-4499-9972-eb6ca7a97124",
   "metadata": {},
   "outputs": [
    {
     "data": {
      "text/plain": [
       "<AxesSubplot:title={'center':'AmountSpent'}, xlabel='Location'>"
      ]
     },
     "execution_count": 14,
     "metadata": {},
     "output_type": "execute_result"
    },
    {
     "data": {
      "image/png": "[encoded data removed]",
      "text/plain": [
       "<Figure size 432x288 with 1 Axes>"
      ]
     },
     "metadata": {
      "needs_background": "light"
     },
     "output_type": "display_data"
    }
   ],
   "source": [
    "data.boxplot(by=\"Location\",column='AmountSpent')"
   ]
  },
  {
   "cell_type": "code",
   "execution_count": 15,
   "id": "0bce189b-83f0-4c2f-b404-83ff2668bf59",
   "metadata": {},
   "outputs": [
    {
     "data": {
      "text/plain": [
       "<AxesSubplot:title={'center':'AmountSpent'}, xlabel='Children'>"
      ]
     },
     "execution_count": 15,
     "metadata": {},
     "output_type": "execute_result"
    },
    {
     "data": {
      "image/png": "[encoded data removed]",
      "text/plain": [
       "<Figure size 432x288 with 1 Axes>"
      ]
     },
     "metadata": {
      "needs_background": "light"
     },
     "output_type": "display_data"
    }
   ],
   "source": [
    "data.boxplot(by=\"Children\",column='AmountSpent')"
   ]
  },
  {
   "cell_type": "code",
   "execution_count": 16,
   "id": "3df7860f-e68d-4be9-adc1-ec6b64ea29a8",
   "metadata": {},
   "outputs": [],
   "source": [
    "def combine_kids(x):\n",
    "    if x==2 or x==3:\n",
    "        res = \"2-3\"\n",
    "    else:\n",
    "        res = str(x)\n",
    "    return res"
   ]
  },
  {
   "cell_type": "code",
   "execution_count": 19,
   "id": "2f3c5ecb-cf9b-4c00-b85f-8f0ad5ff4158",
   "metadata": {},
   "outputs": [],
   "source": [
    "data['Children_N']=data['Children'].map(combine_kids)"
   ]
  },
  {
   "cell_type": "code",
   "execution_count": 20,
   "id": "9e1c119c-be53-4b6f-a655-c9a196847c6b",
   "metadata": {},
   "outputs": [
    {
     "data": {
      "text/plain": [
       "<AxesSubplot:title={'center':'AmountSpent'}, xlabel='Catalogs'>"
      ]
     },
     "execution_count": 20,
     "metadata": {},
     "output_type": "execute_result"
    },
    {
     "data": {
      "image/png": "[encoded data removed]",
      "text/plain": [
       "<Figure size 432x288 with 1 Axes>"
      ]
     },
     "metadata": {
      "needs_background": "light"
     },
     "output_type": "display_data"
    }
   ],
   "source": [
    "data.boxplot(by=\"Catalogs\",column='AmountSpent')"
   ]
  },
  {
   "cell_type": "code",
   "execution_count": 21,
   "id": "ab80bd11-4559-482a-b2d7-63126cd3e29d",
   "metadata": {},
   "outputs": [
    {
     "data": {
      "text/plain": [
       "[<matplotlib.lines.Line2D at 0x13d7ecd00>]"
      ]
     },
     "execution_count": 21,
     "metadata": {},
     "output_type": "execute_result"
    },
    {
     "data": {
      "image/png": "[encoded data removed]",
      "text/plain": [
       "<Figure size 432x288 with 1 Axes>"
      ]
     },
     "metadata": {
      "needs_background": "light"
     },
     "output_type": "display_data"
    }
   ],
   "source": [
    "plt.plot(data['Salary'],data['AmountSpent'],\"*\")"
   ]
  },
  {
   "cell_type": "code",
   "execution_count": 23,
   "id": "04234117-9f2a-44f5-b170-8a7539b189eb",
   "metadata": {},
   "outputs": [
    {
     "data": {
      "text/plain": [
       "<AxesSubplot:title={'center':'AmountSpent'}, xlabel='History'>"
      ]
     },
     "execution_count": 23,
     "metadata": {},
     "output_type": "execute_result"
    },
    {
     "data": {
      "image/png": "[encoded data removed]",
      "text/plain": [
       "<Figure size 432x288 with 1 Axes>"
      ]
     },
     "metadata": {
      "needs_background": "light"
     },
     "output_type": "display_data"
    }
   ],
   "source": [
    "data.boxplot(by=\"History\",column='AmountSpent')"
   ]
  },
  {
   "cell_type": "code",
   "execution_count": 24,
   "id": "f68aa77e-8c18-4ddb-9441-436dd9959e76",
   "metadata": {},
   "outputs": [
    {
     "data": {
      "text/plain": [
       "Age              0\n",
       "Gender           0\n",
       "OwnHome          0\n",
       "Married          0\n",
       "Location         0\n",
       "Salary           0\n",
       "Children         0\n",
       "History        303\n",
       "Catalogs         0\n",
       "AmountSpent      0\n",
       "Cust_Id          0\n",
       "Age_N            0\n",
       "Children_N       0\n",
       "dtype: int64"
      ]
     },
     "execution_count": 24,
     "metadata": {},
     "output_type": "execute_result"
    }
   ],
   "source": [
    "data.isnull().sum()"
   ]
  },
  {
   "cell_type": "code",
   "execution_count": 26,
   "id": "8b38230f-33db-409b-8e4e-8899367d5442",
   "metadata": {},
   "outputs": [
    {
     "data": {
      "text/plain": [
       "<AxesSubplot:title={'center':'AmountSpent'}, xlabel='History'>"
      ]
     },
     "execution_count": 26,
     "metadata": {},
     "output_type": "execute_result"
    },
    {
     "data": {
      "image/png": "[encoded data removed]",
      "text/plain": [
       "<Figure size 432x288 with 1 Axes>"
      ]
     },
     "metadata": {
      "needs_background": "light"
     },
     "output_type": "display_data"
    }
   ],
   "source": [
    "data.boxplot(by=\"History\",column='AmountSpent')"
   ]
  },
  {
   "cell_type": "code",
   "execution_count": 27,
   "id": "e008abeb-789c-4f38-99bd-de8c616cab7b",
   "metadata": {},
   "outputs": [],
   "source": [
    "rel_cols = ['Age_N',\"Gender\",\"OwnHome\",\"Married\",\"Location\",\n",
    "           \"Salary\",\"Children_N\",\"AmountSpent\",\"Catalogs\",\"History\"]"
   ]
  },
  {
   "cell_type": "code",
   "execution_count": 28,
   "id": "aa3f3760-e849-4e1a-8f34-dd74e9568847",
   "metadata": {},
   "outputs": [],
   "source": [
    "data_new = data[rel_cols]"
   ]
  },
  {
   "cell_type": "code",
   "execution_count": 36,
   "id": "4328264d-f37a-4d58-8f67-110c4abee1f9",
   "metadata": {},
   "outputs": [
    {
     "name": "stderr",
     "output_type": "stream",
     "text": [
      "/var/folders/7h/01sjg2sx6tl3y72r2klm24c80000gn/T/ipykernel_40522/1357420123.py:1: SettingWithCopyWarning: \n",
      "A value is trying to be set on a copy of a slice from a DataFrame.\n",
      "Try using .loc[row_indexer,col_indexer] = value instead\n",
      "\n",
      "See the caveats in the documentation: https://pandas.pydata.org/pandas-docs/stable/user_guide/indexing.html#returning-a-view-versus-a-copy\n",
      "  data_new['Catalogs']=data_new['Catalogs'].astype('str')\n"
     ]
    }
   ],
   "source": [
    "data_new['Catalogs']=data_new['Catalogs'].astype('str')"
   ]
  },
  {
   "cell_type": "code",
   "execution_count": 37,
   "id": "bc6f9451-9b68-4390-a04e-856f5a22734d",
   "metadata": {},
   "outputs": [
    {
     "data": {
      "text/plain": [
       "Age_N          0\n",
       "Gender         0\n",
       "OwnHome        0\n",
       "Married        0\n",
       "Location       0\n",
       "Salary         0\n",
       "Children_N     0\n",
       "AmountSpent    0\n",
       "Catalogs       0\n",
       "History        0\n",
       "dtype: int64"
      ]
     },
     "execution_count": 37,
     "metadata": {},
     "output_type": "execute_result"
    }
   ],
   "source": [
    "data_new.isnull().sum()"
   ]
  },
  {
   "cell_type": "code",
   "execution_count": 38,
   "id": "1da3177b-1889-40ae-9d22-59225f050e25",
   "metadata": {},
   "outputs": [],
   "source": [
    "train = data_new.sample(frac=0.70,random_state=200)"
   ]
  },
  {
   "cell_type": "code",
   "execution_count": 39,
   "id": "dccbae4f-f05a-445b-a328-f447fd261740",
   "metadata": {},
   "outputs": [],
   "source": [
    "test = data_new.drop(train.index)"
   ]
  },
  {
   "cell_type": "code",
   "execution_count": 40,
   "id": "7d4c2afa-5d1d-4a16-a358-ecbb6903a6a6",
   "metadata": {},
   "outputs": [
    {
     "data": {
      "text/html": [
       "<div>\n",
       "<style scoped>\n",
       "    .dataframe tbody tr th:only-of-type {\n",
       "        vertical-align: middle;\n",
       "    }\n",
       "\n",
       "    .dataframe tbody tr th {\n",
       "        vertical-align: top;\n",
       "    }\n",
       "\n",
       "    .dataframe thead th {\n",
       "        text-align: right;\n",
       "    }\n",
       "</style>\n",
       "<table border=\"1\" class=\"dataframe\">\n",
       "  <thead>\n",
       "    <tr style=\"text-align: right;\">\n",
       "      <th></th>\n",
       "      <th>Age_N</th>\n",
       "      <th>Gender</th>\n",
       "      <th>OwnHome</th>\n",
       "      <th>Married</th>\n",
       "      <th>Location</th>\n",
       "      <th>Salary</th>\n",
       "      <th>Children_N</th>\n",
       "      <th>AmountSpent</th>\n",
       "      <th>Catalogs</th>\n",
       "      <th>History</th>\n",
       "    </tr>\n",
       "  </thead>\n",
       "  <tbody>\n",
       "    <tr>\n",
       "      <th>0</th>\n",
       "      <td>Middle-Old</td>\n",
       "      <td>Female</td>\n",
       "      <td>Own</td>\n",
       "      <td>Single</td>\n",
       "      <td>Far</td>\n",
       "      <td>47500</td>\n",
       "      <td>0</td>\n",
       "      <td>755</td>\n",
       "      <td>6</td>\n",
       "      <td>High</td>\n",
       "    </tr>\n",
       "    <tr>\n",
       "      <th>2</th>\n",
       "      <td>Young</td>\n",
       "      <td>Female</td>\n",
       "      <td>Rent</td>\n",
       "      <td>Single</td>\n",
       "      <td>Close</td>\n",
       "      <td>13500</td>\n",
       "      <td>0</td>\n",
       "      <td>296</td>\n",
       "      <td>18</td>\n",
       "      <td>Low</td>\n",
       "    </tr>\n",
       "  </tbody>\n",
       "</table>\n",
       "</div>"
      ],
      "text/plain": [
       "        Age_N  Gender OwnHome Married Location  Salary Children_N  \\\n",
       "0  Middle-Old  Female     Own  Single      Far   47500          0   \n",
       "2       Young  Female    Rent  Single    Close   13500          0   \n",
       "\n",
       "   AmountSpent Catalogs History  \n",
       "0          755        6    High  \n",
       "2          296       18     Low  "
      ]
     },
     "execution_count": 40,
     "metadata": {},
     "output_type": "execute_result"
    }
   ],
   "source": [
    "test.head(2)"
   ]
  },
  {
   "cell_type": "code",
   "execution_count": 41,
   "id": "4d52e869-2da9-47aa-8a49-1e90ca62940a",
   "metadata": {},
   "outputs": [
    {
     "data": {
      "text/html": [
       "<div>\n",
       "<style scoped>\n",
       "    .dataframe tbody tr th:only-of-type {\n",
       "        vertical-align: middle;\n",
       "    }\n",
       "\n",
       "    .dataframe tbody tr th {\n",
       "        vertical-align: top;\n",
       "    }\n",
       "\n",
       "    .dataframe thead th {\n",
       "        text-align: right;\n",
       "    }\n",
       "</style>\n",
       "<table border=\"1\" class=\"dataframe\">\n",
       "  <thead>\n",
       "    <tr style=\"text-align: right;\">\n",
       "      <th></th>\n",
       "      <th>Age_N</th>\n",
       "      <th>Gender</th>\n",
       "      <th>OwnHome</th>\n",
       "      <th>Married</th>\n",
       "      <th>Location</th>\n",
       "      <th>Salary</th>\n",
       "      <th>Children_N</th>\n",
       "      <th>AmountSpent</th>\n",
       "      <th>Catalogs</th>\n",
       "      <th>History</th>\n",
       "    </tr>\n",
       "  </thead>\n",
       "  <tbody>\n",
       "    <tr>\n",
       "      <th>674</th>\n",
       "      <td>Middle-Old</td>\n",
       "      <td>Female</td>\n",
       "      <td>Own</td>\n",
       "      <td>Married</td>\n",
       "      <td>Close</td>\n",
       "      <td>85500</td>\n",
       "      <td>2-3</td>\n",
       "      <td>895</td>\n",
       "      <td>18</td>\n",
       "      <td>Medium</td>\n",
       "    </tr>\n",
       "    <tr>\n",
       "      <th>233</th>\n",
       "      <td>Middle-Old</td>\n",
       "      <td>Female</td>\n",
       "      <td>Own</td>\n",
       "      <td>Married</td>\n",
       "      <td>Close</td>\n",
       "      <td>74400</td>\n",
       "      <td>0</td>\n",
       "      <td>2479</td>\n",
       "      <td>18</td>\n",
       "      <td>High</td>\n",
       "    </tr>\n",
       "  </tbody>\n",
       "</table>\n",
       "</div>"
      ],
      "text/plain": [
       "          Age_N  Gender OwnHome  Married Location  Salary Children_N  \\\n",
       "674  Middle-Old  Female     Own  Married    Close   85500        2-3   \n",
       "233  Middle-Old  Female     Own  Married    Close   74400          0   \n",
       "\n",
       "     AmountSpent Catalogs History  \n",
       "674          895       18  Medium  \n",
       "233         2479       18    High  "
      ]
     },
     "execution_count": 41,
     "metadata": {},
     "output_type": "execute_result"
    }
   ],
   "source": [
    "train.head(2)"
   ]
  },
  {
   "cell_type": "code",
   "execution_count": 42,
   "id": "a021cd10-e8b4-4d73-aae3-4c84f3c49f0c",
   "metadata": {},
   "outputs": [],
   "source": [
    "import statsmodels.formula.api as smf"
   ]
  },
  {
   "cell_type": "code",
   "execution_count": 45,
   "id": "e263f5f0-de64-4888-a2a1-ab289bea2086",
   "metadata": {},
   "outputs": [],
   "source": [
    "formula = '''AmountSpent~C(Age_N)+C(Gender)+C(OwnHome)+C(Location)\n",
    "            +C(Children_N)+C(History)+C(Married)+C(Catalogs)+Salary'''"
   ]
  },
  {
   "cell_type": "code",
   "execution_count": 46,
   "id": "243d9248-3a57-420c-bc9a-a0daf47edf01",
   "metadata": {},
   "outputs": [],
   "source": [
    "model1 = smf.ols(formula,data=train).fit()"
   ]
  },
  {
   "cell_type": "code",
   "execution_count": 47,
   "id": "d8145bc0-a579-43ed-bdf5-6bd35d7d8b22",
   "metadata": {},
   "outputs": [
    {
     "name": "stdout",
     "output_type": "stream",
     "text": [
      "                            OLS Regression Results                            \n",
      "==============================================================================\n",
      "Dep. Variable:            AmountSpent   R-squared:                       0.755\n",
      "Model:                            OLS   Adj. R-squared:                  0.750\n",
      "Method:                 Least Squares   F-statistic:                     150.6\n",
      "Date:                Tue, 28 Jun 2022   Prob (F-statistic):          3.48e-198\n",
      "Time:                        10:55:34   Log-Likelihood:                -5317.9\n",
      "No. Observations:                 700   AIC:                         1.067e+04\n",
      "Df Residuals:                     685   BIC:                         1.073e+04\n",
      "Df Model:                          14                                         \n",
      "Covariance Type:            nonrobust                                         \n",
      "==========================================================================================\n",
      "                             coef    std err          t      P>|t|      [0.025      0.975]\n",
      "------------------------------------------------------------------------------------------\n",
      "Intercept                295.3050    120.782      2.445      0.015      58.158     532.452\n",
      "C(Age_N)[T.Young]         23.0144     55.252      0.417      0.677     -85.470     131.498\n",
      "C(Gender)[T.Male]        -55.4754     39.286     -1.412      0.158    -132.610      21.659\n",
      "C(OwnHome)[T.Rent]       -40.6263     43.942     -0.925      0.356    -126.904      45.651\n",
      "C(Location)[T.Far]       447.1551     43.283     10.331      0.000     362.172     532.138\n",
      "C(Children_N)[T.1]      -164.4610     47.225     -3.483      0.001    -257.184     -71.738\n",
      "C(Children_N)[T.2-3]    -459.6127     50.695     -9.066      0.000    -559.148    -360.077\n",
      "C(History)[T.Low]       -417.0454     77.634     -5.372      0.000    -569.474    -264.616\n",
      "C(History)[T.Medium]    -445.4231     63.882     -6.973      0.000    -570.852    -319.994\n",
      "C(History)[T.New_Cust]   -27.9952     61.816     -0.453      0.651    -149.366      93.376\n",
      "C(Married)[T.Single]      15.2643     50.774      0.301      0.764     -84.427     114.955\n",
      "C(Catalogs)[T.18]        272.6584     52.641      5.180      0.000     169.301     376.016\n",
      "C(Catalogs)[T.24]        533.3657     52.788     10.104      0.000     429.720     637.011\n",
      "C(Catalogs)[T.6]        -193.1598     51.376     -3.760      0.000    -294.034     -92.286\n",
      "Salary                     0.0190      0.001     15.798      0.000       0.017       0.021\n",
      "==============================================================================\n",
      "Omnibus:                      202.013   Durbin-Watson:                   2.087\n",
      "Prob(Omnibus):                  0.000   Jarque-Bera (JB):              876.083\n",
      "Skew:                           1.261   Prob(JB):                    5.77e-191\n",
      "Kurtosis:                       7.866   Cond. No.                     5.20e+05\n",
      "==============================================================================\n",
      "\n",
      "Notes:\n",
      "[1] Standard Errors assume that the covariance matrix of the errors is correctly specified.\n",
      "[2] The condition number is large, 5.2e+05. This might indicate that there are\n",
      "strong multicollinearity or other numerical problems.\n"
     ]
    }
   ],
   "source": [
    "print(model1.summary())"
   ]
  },
  {
   "cell_type": "code",
   "execution_count": 48,
   "id": "8afcd6bb-f2eb-40a2-9610-e21314ecd3f6",
   "metadata": {},
   "outputs": [
    {
     "data": {
      "text/html": [
       "<div>\n",
       "<style scoped>\n",
       "    .dataframe tbody tr th:only-of-type {\n",
       "        vertical-align: middle;\n",
       "    }\n",
       "\n",
       "    .dataframe tbody tr th {\n",
       "        vertical-align: top;\n",
       "    }\n",
       "\n",
       "    .dataframe thead th {\n",
       "        text-align: right;\n",
       "    }\n",
       "</style>\n",
       "<table border=\"1\" class=\"dataframe\">\n",
       "  <thead>\n",
       "    <tr style=\"text-align: right;\">\n",
       "      <th></th>\n",
       "      <th>Age_N</th>\n",
       "      <th>Gender</th>\n",
       "      <th>OwnHome</th>\n",
       "      <th>Married</th>\n",
       "      <th>Location</th>\n",
       "      <th>Salary</th>\n",
       "      <th>Children_N</th>\n",
       "      <th>AmountSpent</th>\n",
       "      <th>Catalogs</th>\n",
       "      <th>History</th>\n",
       "    </tr>\n",
       "  </thead>\n",
       "  <tbody>\n",
       "    <tr>\n",
       "      <th>674</th>\n",
       "      <td>Middle-Old</td>\n",
       "      <td>Female</td>\n",
       "      <td>Own</td>\n",
       "      <td>Married</td>\n",
       "      <td>Close</td>\n",
       "      <td>85500</td>\n",
       "      <td>2-3</td>\n",
       "      <td>895</td>\n",
       "      <td>18</td>\n",
       "      <td>Medium</td>\n",
       "    </tr>\n",
       "    <tr>\n",
       "      <th>233</th>\n",
       "      <td>Middle-Old</td>\n",
       "      <td>Female</td>\n",
       "      <td>Own</td>\n",
       "      <td>Married</td>\n",
       "      <td>Close</td>\n",
       "      <td>74400</td>\n",
       "      <td>0</td>\n",
       "      <td>2479</td>\n",
       "      <td>18</td>\n",
       "      <td>High</td>\n",
       "    </tr>\n",
       "    <tr>\n",
       "      <th>739</th>\n",
       "      <td>Middle-Old</td>\n",
       "      <td>Male</td>\n",
       "      <td>Rent</td>\n",
       "      <td>Single</td>\n",
       "      <td>Close</td>\n",
       "      <td>45900</td>\n",
       "      <td>0</td>\n",
       "      <td>716</td>\n",
       "      <td>12</td>\n",
       "      <td>Medium</td>\n",
       "    </tr>\n",
       "    <tr>\n",
       "      <th>865</th>\n",
       "      <td>Middle-Old</td>\n",
       "      <td>Male</td>\n",
       "      <td>Own</td>\n",
       "      <td>Married</td>\n",
       "      <td>Close</td>\n",
       "      <td>96100</td>\n",
       "      <td>0</td>\n",
       "      <td>1588</td>\n",
       "      <td>6</td>\n",
       "      <td>High</td>\n",
       "    </tr>\n",
       "    <tr>\n",
       "      <th>523</th>\n",
       "      <td>Middle-Old</td>\n",
       "      <td>Female</td>\n",
       "      <td>Rent</td>\n",
       "      <td>Married</td>\n",
       "      <td>Far</td>\n",
       "      <td>72200</td>\n",
       "      <td>0</td>\n",
       "      <td>3069</td>\n",
       "      <td>24</td>\n",
       "      <td>High</td>\n",
       "    </tr>\n",
       "  </tbody>\n",
       "</table>\n",
       "</div>"
      ],
      "text/plain": [
       "          Age_N  Gender OwnHome  Married Location  Salary Children_N  \\\n",
       "674  Middle-Old  Female     Own  Married    Close   85500        2-3   \n",
       "233  Middle-Old  Female     Own  Married    Close   74400          0   \n",
       "739  Middle-Old    Male    Rent   Single    Close   45900          0   \n",
       "865  Middle-Old    Male     Own  Married    Close   96100          0   \n",
       "523  Middle-Old  Female    Rent  Married      Far   72200          0   \n",
       "\n",
       "     AmountSpent Catalogs History  \n",
       "674          895       18  Medium  \n",
       "233         2479       18    High  \n",
       "739          716       12  Medium  \n",
       "865         1588        6    High  \n",
       "523         3069       24    High  "
      ]
     },
     "execution_count": 48,
     "metadata": {},
     "output_type": "execute_result"
    }
   ],
   "source": [
    "train.head()"
   ]
  },
  {
   "cell_type": "code",
   "execution_count": 49,
   "id": "4bc1c297-f8c2-496f-b663-ad7c945c78a7",
   "metadata": {},
   "outputs": [],
   "source": [
    "def create_hist_low(x):\n",
    "    if x==\"Low\":\n",
    "        return 1\n",
    "    else:\n",
    "        return 0\n",
    "def create_hist_med(x):\n",
    "    if x==\"Medium\":\n",
    "        return 1\n",
    "    else:\n",
    "        return 0\n",
    "train['Hist_low'] = train['History'].map(create_hist_low)\n",
    "test['Hist_low'] = test['History'].map(create_hist_low) \n",
    "train['Hist_med'] = train['History'].map(create_hist_med)\n",
    "test['Hist_med'] = test['History'].map(create_hist_med)"
   ]
  },
  {
   "cell_type": "code",
   "execution_count": 51,
   "id": "3bf3ddea-1461-40e5-a52e-b20d7a05af30",
   "metadata": {},
   "outputs": [
    {
     "data": {
      "text/html": [
       "<div>\n",
       "<style scoped>\n",
       "    .dataframe tbody tr th:only-of-type {\n",
       "        vertical-align: middle;\n",
       "    }\n",
       "\n",
       "    .dataframe tbody tr th {\n",
       "        vertical-align: top;\n",
       "    }\n",
       "\n",
       "    .dataframe thead th {\n",
       "        text-align: right;\n",
       "    }\n",
       "</style>\n",
       "<table border=\"1\" class=\"dataframe\">\n",
       "  <thead>\n",
       "    <tr style=\"text-align: right;\">\n",
       "      <th></th>\n",
       "      <th>Age_N</th>\n",
       "      <th>Gender</th>\n",
       "      <th>OwnHome</th>\n",
       "      <th>Married</th>\n",
       "      <th>Location</th>\n",
       "      <th>Salary</th>\n",
       "      <th>Children_N</th>\n",
       "      <th>AmountSpent</th>\n",
       "      <th>Catalogs</th>\n",
       "      <th>History</th>\n",
       "      <th>Hist_low</th>\n",
       "      <th>Hist_med</th>\n",
       "    </tr>\n",
       "  </thead>\n",
       "  <tbody>\n",
       "    <tr>\n",
       "      <th>674</th>\n",
       "      <td>Middle-Old</td>\n",
       "      <td>Female</td>\n",
       "      <td>Own</td>\n",
       "      <td>Married</td>\n",
       "      <td>Close</td>\n",
       "      <td>85500</td>\n",
       "      <td>2-3</td>\n",
       "      <td>895</td>\n",
       "      <td>18</td>\n",
       "      <td>Medium</td>\n",
       "      <td>0</td>\n",
       "      <td>1</td>\n",
       "    </tr>\n",
       "    <tr>\n",
       "      <th>233</th>\n",
       "      <td>Middle-Old</td>\n",
       "      <td>Female</td>\n",
       "      <td>Own</td>\n",
       "      <td>Married</td>\n",
       "      <td>Close</td>\n",
       "      <td>74400</td>\n",
       "      <td>0</td>\n",
       "      <td>2479</td>\n",
       "      <td>18</td>\n",
       "      <td>High</td>\n",
       "      <td>0</td>\n",
       "      <td>0</td>\n",
       "    </tr>\n",
       "  </tbody>\n",
       "</table>\n",
       "</div>"
      ],
      "text/plain": [
       "          Age_N  Gender OwnHome  Married Location  Salary Children_N  \\\n",
       "674  Middle-Old  Female     Own  Married    Close   85500        2-3   \n",
       "233  Middle-Old  Female     Own  Married    Close   74400          0   \n",
       "\n",
       "     AmountSpent Catalogs History  Hist_low  Hist_med  \n",
       "674          895       18  Medium         0         1  \n",
       "233         2479       18    High         0         0  "
      ]
     },
     "execution_count": 51,
     "metadata": {},
     "output_type": "execute_result"
    }
   ],
   "source": [
    "train.head(2)"
   ]
  },
  {
   "cell_type": "code",
   "execution_count": 56,
   "id": "a37f4dd6-29b5-4ab1-8854-125348bd5db4",
   "metadata": {},
   "outputs": [],
   "source": [
    "formula1 = '''AmountSpent~C(Location)+C(Children_N)+Hist_low+Hist_med+C(Catalogs)+Salary'''\n",
    "model2 = smf.ols(formula1,data=train).fit()"
   ]
  },
  {
   "cell_type": "code",
   "execution_count": 57,
   "id": "751ca569-7d78-4315-9814-070d277fd0f8",
   "metadata": {},
   "outputs": [
    {
     "name": "stdout",
     "output_type": "stream",
     "text": [
      "                            OLS Regression Results                            \n",
      "==============================================================================\n",
      "Dep. Variable:            AmountSpent   R-squared:                       0.754\n",
      "Model:                            OLS   Adj. R-squared:                  0.750\n",
      "Method:                 Least Squares   F-statistic:                     234.6\n",
      "Date:                Tue, 28 Jun 2022   Prob (F-statistic):          3.01e-203\n",
      "Time:                        11:08:32   Log-Likelihood:                -5319.6\n",
      "No. Observations:                 700   AIC:                         1.066e+04\n",
      "Df Residuals:                     690   BIC:                         1.070e+04\n",
      "Df Model:                           9                                         \n",
      "Covariance Type:            nonrobust                                         \n",
      "========================================================================================\n",
      "                           coef    std err          t      P>|t|      [0.025      0.975]\n",
      "----------------------------------------------------------------------------------------\n",
      "Intercept              248.4500     64.483      3.853      0.000     121.843     375.057\n",
      "C(Location)[T.Far]     447.7513     42.180     10.615      0.000     364.935     530.567\n",
      "C(Children_N)[T.1]    -162.9301     45.405     -3.588      0.000    -252.078     -73.782\n",
      "C(Children_N)[T.2-3]  -458.3832     47.127     -9.726      0.000    -550.913    -365.853\n",
      "C(Catalogs)[T.18]      276.8669     52.088      5.315      0.000     174.598     379.136\n",
      "C(Catalogs)[T.24]      537.5458     51.777     10.382      0.000     435.887     639.205\n",
      "C(Catalogs)[T.6]      -191.5158     51.122     -3.746      0.000    -291.889     -91.143\n",
      "Hist_low              -391.7090     55.201     -7.096      0.000    -500.092    -283.326\n",
      "Hist_med              -432.6702     47.911     -9.031      0.000    -526.739    -338.602\n",
      "Salary                   0.0189      0.001     26.507      0.000       0.017       0.020\n",
      "==============================================================================\n",
      "Omnibus:                      203.162   Durbin-Watson:                   2.079\n",
      "Prob(Omnibus):                  0.000   Jarque-Bera (JB):              892.712\n",
      "Skew:                           1.264   Prob(JB):                    1.41e-194\n",
      "Kurtosis:                       7.921   Cond. No.                     3.02e+05\n",
      "==============================================================================\n",
      "\n",
      "Notes:\n",
      "[1] Standard Errors assume that the covariance matrix of the errors is correctly specified.\n",
      "[2] The condition number is large, 3.02e+05. This might indicate that there are\n",
      "strong multicollinearity or other numerical problems.\n"
     ]
    }
   ],
   "source": [
    "print(model2.summary())"
   ]
  },
  {
   "cell_type": "code",
   "execution_count": 60,
   "id": "a98ba21d-caf5-4bb9-bb92-1d69f313a889",
   "metadata": {},
   "outputs": [],
   "source": [
    "resid = (train['AmountSpent']-model1.fittedvalues)"
   ]
  },
  {
   "cell_type": "code",
   "execution_count": 62,
   "id": "54317d06-c161-4c5a-8c9a-f5f5edf699ad",
   "metadata": {},
   "outputs": [
    {
     "data": {
      "text/plain": [
       "<AxesSubplot:ylabel='Frequency'>"
      ]
     },
     "execution_count": 62,
     "metadata": {},
     "output_type": "execute_result"
    },
    {
     "data": {
      "image/png": "[encoded data removed]",
      "text/plain": [
       "<Figure size 432x288 with 1 Axes>"
      ]
     },
     "metadata": {
      "needs_background": "light"
     },
     "output_type": "display_data"
    }
   ],
   "source": [
    "resid.plot(kind='hist')"
   ]
  },
  {
   "cell_type": "code",
   "execution_count": 63,
   "id": "e73ec8d8-2773-4957-a43d-2388b81292a7",
   "metadata": {},
   "outputs": [
    {
     "data": {
      "text/plain": [
       "-6.4435701980463425e-09"
      ]
     },
     "execution_count": 63,
     "metadata": {},
     "output_type": "execute_result"
    }
   ],
   "source": [
    "resid.mean()"
   ]
  },
  {
   "cell_type": "code",
   "execution_count": 68,
   "id": "0c566145-b164-4ad8-a6d5-16d21064522e",
   "metadata": {},
   "outputs": [
    {
     "data": {
      "text/plain": [
       "[<matplotlib.lines.Line2D at 0x17b579ca0>]"
      ]
     },
     "execution_count": 68,
     "metadata": {},
     "output_type": "execute_result"
    },
    {
     "data": {
      "image/png": "[encoded data removed]",
      "text/plain": [
       "<Figure size 432x288 with 1 Axes>"
      ]
     },
     "metadata": {
      "needs_background": "light"
     },
     "output_type": "display_data"
    }
   ],
   "source": [
    "##check non-constant variation\n",
    "plt.plot(train['AmountSpent'],resid,\"*\")"
   ]
  },
  {
   "cell_type": "code",
   "execution_count": 69,
   "id": "7dc25392-eb2f-4f0e-a285-1347b4713b78",
   "metadata": {},
   "outputs": [],
   "source": [
    "from statsmodels.stats.outliers_influence import variance_inflation_factor"
   ]
  },
  {
   "cell_type": "code",
   "execution_count": 71,
   "id": "85288136-87ed-43df-ae72-014214563ac6",
   "metadata": {},
   "outputs": [],
   "source": [
    "from patsy import dmatrices"
   ]
  },
  {
   "cell_type": "code",
   "execution_count": 72,
   "id": "2d680aeb-7b8c-4f42-86ce-326625dd986f",
   "metadata": {},
   "outputs": [],
   "source": [
    "y,X=dmatrices(formula1,data=train,return_type='dataframe')"
   ]
  },
  {
   "cell_type": "code",
   "execution_count": 75,
   "id": "1f7e9677-f779-4c41-8411-ae3d0b9e6e67",
   "metadata": {},
   "outputs": [
    {
     "data": {
      "text/plain": [
       "'AmountSpent~C(Location)+C(Children_N)+Hist_low+Hist_med+C(Catalogs)+Salary'"
      ]
     },
     "execution_count": 75,
     "metadata": {},
     "output_type": "execute_result"
    }
   ],
   "source": [
    "formula1"
   ]
  },
  {
   "cell_type": "code",
   "execution_count": 79,
   "id": "2364fece-e6c6-4606-a555-bbad0477b771",
   "metadata": {},
   "outputs": [
    {
     "data": {
      "text/plain": [
       "1.3312794657519549"
      ]
     },
     "execution_count": 79,
     "metadata": {},
     "output_type": "execute_result"
    }
   ],
   "source": [
    "variance_inflation_factor(X,3)"
   ]
  },
  {
   "cell_type": "code",
   "execution_count": 85,
   "id": "c7254c50-4d39-4e2f-9ae1-e38ae026959a",
   "metadata": {},
   "outputs": [],
   "source": [
    "vif = []\n",
    "for i,col in enumerate(X.columns):\n",
    "    vif.append((variance_inflation_factor(X,i),col))"
   ]
  },
  {
   "cell_type": "code",
   "execution_count": 86,
   "id": "589a198b-a6a8-409c-ba41-61d89f0290c1",
   "metadata": {},
   "outputs": [
    {
     "data": {
      "text/plain": [
       "[(12.287004024076221, 'Intercept'),\n",
       " (1.0598589483597727, 'C(Location)[T.Far]'),\n",
       " (1.180378796330559, 'C(Children_N)[T.1]'),\n",
       " (1.3312794657519549, 'C(Children_N)[T.2-3]'),\n",
       " (1.4198348159728713, 'C(Catalogs)[T.18]'),\n",
       " (1.4390295583494832, 'C(Catalogs)[T.24]'),\n",
       " (1.4424521511797805, 'C(Catalogs)[T.6]'),\n",
       " (1.6490514369199452, 'Hist_low'),\n",
       " (1.1854405148909442, 'Hist_med'),\n",
       " (1.353359345889976, 'Salary')]"
      ]
     },
     "execution_count": 86,
     "metadata": {},
     "output_type": "execute_result"
    }
   ],
   "source": [
    "vif"
   ]
  },
  {
   "cell_type": "code",
   "execution_count": 88,
   "id": "8ce6a465-04ca-4643-be88-2385d49ea6f5",
   "metadata": {},
   "outputs": [],
   "source": [
    "import numpy as np\n",
    "formula2 = '''np.sqrt(AmountSpent)~C(Location)+C(Children_N)+Hist_low+Hist_med+C(Catalogs)+Salary'''\n",
    "model2 = smf.ols(formula2,data=train).fit()"
   ]
  },
  {
   "cell_type": "code",
   "execution_count": 89,
   "id": "09493956-2661-4a7d-bfab-6bad386e9794",
   "metadata": {},
   "outputs": [
    {
     "name": "stdout",
     "output_type": "stream",
     "text": [
      "                             OLS Regression Results                             \n",
      "================================================================================\n",
      "Dep. Variable:     np.sqrt(AmountSpent)   R-squared:                       0.836\n",
      "Model:                              OLS   Adj. R-squared:                  0.834\n",
      "Method:                   Least Squares   F-statistic:                     391.3\n",
      "Date:                  Tue, 28 Jun 2022   Prob (F-statistic):          3.26e-264\n",
      "Time:                          12:07:03   Log-Likelihood:                -2165.9\n",
      "No. Observations:                   700   AIC:                             4352.\n",
      "Df Residuals:                       690   BIC:                             4397.\n",
      "Df Model:                             9                                         \n",
      "Covariance Type:              nonrobust                                         \n",
      "========================================================================================\n",
      "                           coef    std err          t      P>|t|      [0.025      0.975]\n",
      "----------------------------------------------------------------------------------------\n",
      "Intercept               20.1662      0.713     28.301      0.000      18.767      21.565\n",
      "C(Location)[T.Far]       5.4022      0.466     11.590      0.000       4.487       6.317\n",
      "C(Children_N)[T.1]      -2.2661      0.502     -4.516      0.000      -3.251      -1.281\n",
      "C(Children_N)[T.2-3]    -6.5089      0.521    -12.499      0.000      -7.531      -5.486\n",
      "C(Catalogs)[T.18]        4.0743      0.576      7.078      0.000       2.944       5.204\n",
      "C(Catalogs)[T.24]        7.0324      0.572     12.291      0.000       5.909       8.156\n",
      "C(Catalogs)[T.6]        -3.1863      0.565     -5.640      0.000      -4.295      -2.077\n",
      "Hist_low                -8.0893      0.610    -13.261      0.000      -9.287      -6.892\n",
      "Hist_med                -4.6393      0.529     -8.763      0.000      -5.679      -3.600\n",
      "Salary                   0.0003   7.86e-06     32.102      0.000       0.000       0.000\n",
      "==============================================================================\n",
      "Omnibus:                        7.630   Durbin-Watson:                   2.089\n",
      "Prob(Omnibus):                  0.022   Jarque-Bera (JB):                7.699\n",
      "Skew:                           0.216   Prob(JB):                       0.0213\n",
      "Kurtosis:                       3.279   Cond. No.                     3.02e+05\n",
      "==============================================================================\n",
      "\n",
      "Notes:\n",
      "[1] Standard Errors assume that the covariance matrix of the errors is correctly specified.\n",
      "[2] The condition number is large, 3.02e+05. This might indicate that there are\n",
      "strong multicollinearity or other numerical problems.\n"
     ]
    }
   ],
   "source": [
    "print(model2.summary())"
   ]
  },
  {
   "cell_type": "code",
   "execution_count": 92,
   "id": "1365770e-4979-4f69-8fbc-b4464e0b0f52",
   "metadata": {},
   "outputs": [
    {
     "data": {
      "text/plain": [
       "[<matplotlib.lines.Line2D at 0x17b7c6670>]"
      ]
     },
     "execution_count": 92,
     "metadata": {},
     "output_type": "execute_result"
    },
    {
     "data": {
      "image/png": "[encoded data removed]",
      "text/plain": [
       "<Figure size 432x288 with 1 Axes>"
      ]
     },
     "metadata": {
      "needs_background": "light"
     },
     "output_type": "display_data"
    }
   ],
   "source": [
    "plt.plot(train['AmountSpent'],model2.resid,\"*\")"
   ]
  },
  {
   "cell_type": "code",
   "execution_count": 93,
   "id": "1f1dbafc-f031-4d24-a2b5-a917febe15f4",
   "metadata": {},
   "outputs": [
    {
     "data": {
      "text/plain": [
       "(array([  8.,  31.,  72., 135., 182., 149.,  75.,  29.,  12.,   7.]),\n",
       " array([-15.10177046, -11.81732778,  -8.5328851 ,  -5.24844242,\n",
       "         -1.96399974,   1.32044294,   4.60488562,   7.8893283 ,\n",
       "         11.17377098,  14.45821366,  17.74265634]),\n",
       " <BarContainer object of 10 artists>)"
      ]
     },
     "execution_count": 93,
     "metadata": {},
     "output_type": "execute_result"
    },
    {
     "data": {
      "image/png": "[encoded data removed]",
      "text/plain": [
       "<Figure size 432x288 with 1 Axes>"
      ]
     },
     "metadata": {
      "needs_background": "light"
     },
     "output_type": "display_data"
    }
   ],
   "source": [
    "plt.hist(model2.resid)"
   ]
  },
  {
   "cell_type": "code",
   "execution_count": 94,
   "id": "0463ab28-96cd-4bad-9fc5-96871c9498b4",
   "metadata": {},
   "outputs": [
    {
     "data": {
      "text/plain": [
       "1.2841682511017488e-10"
      ]
     },
     "execution_count": 94,
     "metadata": {},
     "output_type": "execute_result"
    }
   ],
   "source": [
    "model2.resid.mean()"
   ]
  },
  {
   "cell_type": "code",
   "execution_count": 95,
   "id": "f4cd78dc-2acd-4266-b683-162b3192e59b",
   "metadata": {},
   "outputs": [],
   "source": [
    "url = \"https://raw.githubusercontent.com/Gunnvant/corp_trainings/main/ola_electric/predictive_modelling/data/dataTrain_carListings.csv\"\n",
    "cars = pd.read_csv(url)"
   ]
  },
  {
   "cell_type": "code",
   "execution_count": 96,
   "id": "5b399ba2-83be-4e0c-a648-294f93d5f3ce",
   "metadata": {},
   "outputs": [
    {
     "data": {
      "text/plain": [
       "(500000, 6)"
      ]
     },
     "execution_count": 96,
     "metadata": {},
     "output_type": "execute_result"
    }
   ],
   "source": [
    "cars.shape"
   ]
  },
  {
   "cell_type": "code",
   "execution_count": 97,
   "id": "ff9f48e8-1048-469c-a446-6c490a761a60",
   "metadata": {},
   "outputs": [
    {
     "data": {
      "text/html": [
       "<div>\n",
       "<style scoped>\n",
       "    .dataframe tbody tr th:only-of-type {\n",
       "        vertical-align: middle;\n",
       "    }\n",
       "\n",
       "    .dataframe tbody tr th {\n",
       "        vertical-align: top;\n",
       "    }\n",
       "\n",
       "    .dataframe thead th {\n",
       "        text-align: right;\n",
       "    }\n",
       "</style>\n",
       "<table border=\"1\" class=\"dataframe\">\n",
       "  <thead>\n",
       "    <tr style=\"text-align: right;\">\n",
       "      <th></th>\n",
       "      <th>Price</th>\n",
       "      <th>Year</th>\n",
       "      <th>Mileage</th>\n",
       "      <th>State</th>\n",
       "      <th>Make</th>\n",
       "      <th>Model</th>\n",
       "    </tr>\n",
       "  </thead>\n",
       "  <tbody>\n",
       "    <tr>\n",
       "      <th>0</th>\n",
       "      <td>21490</td>\n",
       "      <td>2014</td>\n",
       "      <td>31909</td>\n",
       "      <td>MD</td>\n",
       "      <td>Nissan</td>\n",
       "      <td>MuranoAWD</td>\n",
       "    </tr>\n",
       "    <tr>\n",
       "      <th>1</th>\n",
       "      <td>21250</td>\n",
       "      <td>2016</td>\n",
       "      <td>25741</td>\n",
       "      <td>KY</td>\n",
       "      <td>Chevrolet</td>\n",
       "      <td>CamaroCoupe</td>\n",
       "    </tr>\n",
       "  </tbody>\n",
       "</table>\n",
       "</div>"
      ],
      "text/plain": [
       "   Price  Year  Mileage State       Make        Model\n",
       "0  21490  2014    31909    MD     Nissan    MuranoAWD\n",
       "1  21250  2016    25741    KY  Chevrolet  CamaroCoupe"
      ]
     },
     "execution_count": 97,
     "metadata": {},
     "output_type": "execute_result"
    }
   ],
   "source": [
    "cars.head(2)"
   ]
  },
  {
   "cell_type": "code",
   "execution_count": 98,
   "id": "d8c9b069-0f4c-4df2-9de5-0bf892845cc3",
   "metadata": {},
   "outputs": [
    {
     "data": {
      "text/plain": [
       "38"
      ]
     },
     "execution_count": 98,
     "metadata": {},
     "output_type": "execute_result"
    }
   ],
   "source": [
    "len(cars['Make'].unique())"
   ]
  },
  {
   "cell_type": "code",
   "execution_count": 100,
   "id": "8387e7a0-cf6c-42d2-bcf2-25a9d9ca797a",
   "metadata": {},
   "outputs": [
    {
     "data": {
      "text/plain": [
       "525"
      ]
     },
     "execution_count": 100,
     "metadata": {},
     "output_type": "execute_result"
    }
   ],
   "source": [
    "len(cars['Model'].unique())"
   ]
  },
  {
   "cell_type": "code",
   "execution_count": 101,
   "id": "c3c70e01-01bf-451b-a410-873a0dbc2548",
   "metadata": {},
   "outputs": [
    {
     "data": {
      "text/plain": [
       "Make\n",
       "Acura            21403.549498\n",
       "Audi             19640.258929\n",
       "BMW              25272.708661\n",
       "Bentley          57455.095890\n",
       "Buick            21220.334312\n",
       "Cadillac         25568.179727\n",
       "Chevrolet        23373.090960\n",
       "Chrysler         16707.204262\n",
       "Dodge            18074.691991\n",
       "FIAT              9060.147929\n",
       "Ford             22550.601028\n",
       "Freightliner     26209.142857\n",
       "GMC              28546.075338\n",
       "Honda            17025.912871\n",
       "Hyundai          14758.422306\n",
       "INFINITI         16492.736426\n",
       "Jaguar           19547.286730\n",
       "Jeep             23378.251965\n",
       "Kia              15913.867007\n",
       "Land             36232.099500\n",
       "Lexus            25861.963158\n",
       "Lincoln          22906.473247\n",
       "MINI             15213.863311\n",
       "Mazda            14098.436653\n",
       "Mercedes-Benz    30087.658629\n",
       "Mercury           7767.018462\n",
       "Mitsubishi       13494.956254\n",
       "Nissan           16254.156744\n",
       "Pontiac           7160.559194\n",
       "Porsche          34534.385000\n",
       "Ram              31420.468584\n",
       "Scion             9556.065000\n",
       "Subaru           19163.805154\n",
       "Suzuki            8173.265306\n",
       "Tesla            55040.780749\n",
       "Toyota           18696.779960\n",
       "Volkswagen       13929.223551\n",
       "Volvo            24646.495137\n",
       "Name: Price, dtype: float64"
      ]
     },
     "execution_count": 101,
     "metadata": {},
     "output_type": "execute_result"
    }
   ],
   "source": [
    "cars.groupby('Make')['Price'].mean()"
   ]
  },
  {
   "cell_type": "code",
   "execution_count": 103,
   "id": "fb3e1fd2-af35-4549-a582-fd361e42b560",
   "metadata": {},
   "outputs": [],
   "source": [
    "cars['price_qtr']=pd.qcut(cars['Price'],4)"
   ]
  },
  {
   "cell_type": "code",
   "execution_count": 104,
   "id": "ed0a8dae-a6c4-4e01-b5e5-2f5f448271bc",
   "metadata": {},
   "outputs": [
    {
     "data": {
      "text/html": [
       "<div>\n",
       "<style scoped>\n",
       "    .dataframe tbody tr th:only-of-type {\n",
       "        vertical-align: middle;\n",
       "    }\n",
       "\n",
       "    .dataframe tbody tr th {\n",
       "        vertical-align: top;\n",
       "    }\n",
       "\n",
       "    .dataframe thead th {\n",
       "        text-align: right;\n",
       "    }\n",
       "</style>\n",
       "<table border=\"1\" class=\"dataframe\">\n",
       "  <thead>\n",
       "    <tr style=\"text-align: right;\">\n",
       "      <th></th>\n",
       "      <th>Price</th>\n",
       "      <th>Year</th>\n",
       "      <th>Mileage</th>\n",
       "      <th>State</th>\n",
       "      <th>Make</th>\n",
       "      <th>Model</th>\n",
       "      <th>price_qtr</th>\n",
       "    </tr>\n",
       "  </thead>\n",
       "  <tbody>\n",
       "    <tr>\n",
       "      <th>0</th>\n",
       "      <td>21490</td>\n",
       "      <td>2014</td>\n",
       "      <td>31909</td>\n",
       "      <td>MD</td>\n",
       "      <td>Nissan</td>\n",
       "      <td>MuranoAWD</td>\n",
       "      <td>(18450.0, 26998.0]</td>\n",
       "    </tr>\n",
       "    <tr>\n",
       "      <th>1</th>\n",
       "      <td>21250</td>\n",
       "      <td>2016</td>\n",
       "      <td>25741</td>\n",
       "      <td>KY</td>\n",
       "      <td>Chevrolet</td>\n",
       "      <td>CamaroCoupe</td>\n",
       "      <td>(18450.0, 26998.0]</td>\n",
       "    </tr>\n",
       "  </tbody>\n",
       "</table>\n",
       "</div>"
      ],
      "text/plain": [
       "   Price  Year  Mileage State       Make        Model           price_qtr\n",
       "0  21490  2014    31909    MD     Nissan    MuranoAWD  (18450.0, 26998.0]\n",
       "1  21250  2016    25741    KY  Chevrolet  CamaroCoupe  (18450.0, 26998.0]"
      ]
     },
     "execution_count": 104,
     "metadata": {},
     "output_type": "execute_result"
    }
   ],
   "source": [
    "cars.head(2)"
   ]
  },
  {
   "cell_type": "code",
   "execution_count": 105,
   "id": "3a3c182b-6ced-4ec8-ab78-191084e4087e",
   "metadata": {},
   "outputs": [
    {
     "data": {
      "text/html": [
       "<div>\n",
       "<style scoped>\n",
       "    .dataframe tbody tr th:only-of-type {\n",
       "        vertical-align: middle;\n",
       "    }\n",
       "\n",
       "    .dataframe tbody tr th {\n",
       "        vertical-align: top;\n",
       "    }\n",
       "\n",
       "    .dataframe thead th {\n",
       "        text-align: right;\n",
       "    }\n",
       "</style>\n",
       "<table border=\"1\" class=\"dataframe\">\n",
       "  <thead>\n",
       "    <tr style=\"text-align: right;\">\n",
       "      <th></th>\n",
       "      <th></th>\n",
       "      <th>Make</th>\n",
       "    </tr>\n",
       "    <tr>\n",
       "      <th>Make</th>\n",
       "      <th>price_qtr</th>\n",
       "      <th></th>\n",
       "    </tr>\n",
       "  </thead>\n",
       "  <tbody>\n",
       "    <tr>\n",
       "      <th rowspan=\"4\" valign=\"top\">Acura</th>\n",
       "      <th>(5000.999, 13499.0]</th>\n",
       "      <td>808</td>\n",
       "    </tr>\n",
       "    <tr>\n",
       "      <th>(13499.0, 18450.0]</th>\n",
       "      <td>532</td>\n",
       "    </tr>\n",
       "    <tr>\n",
       "      <th>(18450.0, 26998.0]</th>\n",
       "      <td>654</td>\n",
       "    </tr>\n",
       "    <tr>\n",
       "      <th>(26998.0, 79999.0]</th>\n",
       "      <td>996</td>\n",
       "    </tr>\n",
       "    <tr>\n",
       "      <th>Audi</th>\n",
       "      <th>(5000.999, 13499.0]</th>\n",
       "      <td>653</td>\n",
       "    </tr>\n",
       "    <tr>\n",
       "      <th>...</th>\n",
       "      <th>...</th>\n",
       "      <td>...</td>\n",
       "    </tr>\n",
       "    <tr>\n",
       "      <th>Volkswagen</th>\n",
       "      <th>(26998.0, 79999.0]</th>\n",
       "      <td>147</td>\n",
       "    </tr>\n",
       "    <tr>\n",
       "      <th rowspan=\"4\" valign=\"top\">Volvo</th>\n",
       "      <th>(5000.999, 13499.0]</th>\n",
       "      <td>473</td>\n",
       "    </tr>\n",
       "    <tr>\n",
       "      <th>(13499.0, 18450.0]</th>\n",
       "      <td>306</td>\n",
       "    </tr>\n",
       "    <tr>\n",
       "      <th>(18450.0, 26998.0]</th>\n",
       "      <td>621</td>\n",
       "    </tr>\n",
       "    <tr>\n",
       "      <th>(26998.0, 79999.0]</th>\n",
       "      <td>759</td>\n",
       "    </tr>\n",
       "  </tbody>\n",
       "</table>\n",
       "<p>152 rows × 1 columns</p>\n",
       "</div>"
      ],
      "text/plain": [
       "                                Make\n",
       "Make       price_qtr                \n",
       "Acura      (5000.999, 13499.0]   808\n",
       "           (13499.0, 18450.0]    532\n",
       "           (18450.0, 26998.0]    654\n",
       "           (26998.0, 79999.0]    996\n",
       "Audi       (5000.999, 13499.0]   653\n",
       "...                              ...\n",
       "Volkswagen (26998.0, 79999.0]    147\n",
       "Volvo      (5000.999, 13499.0]   473\n",
       "           (13499.0, 18450.0]    306\n",
       "           (18450.0, 26998.0]    621\n",
       "           (26998.0, 79999.0]    759\n",
       "\n",
       "[152 rows x 1 columns]"
      ]
     },
     "execution_count": 105,
     "metadata": {},
     "output_type": "execute_result"
    }
   ],
   "source": [
    "cars.groupby(['Make','price_qtr']).agg({'Make':'count'})"
   ]
  },
  {
   "cell_type": "code",
   "execution_count": null,
   "id": "818eddfd-a5e4-4165-973f-74d47e5d0e5f",
   "metadata": {},
   "outputs": [],
   "source": []
  }
 ],
 "metadata": {
  "kernelspec": {
   "display_name": "Python 3 (ipykernel)",
   "language": "python",
   "name": "python3"
  },
  "language_info": {
   "codemirror_mode": {
    "name": "ipython",
    "version": 3
   },
   "file_extension": ".py",
   "mimetype": "text/x-python",
   "name": "python",
   "nbconvert_exporter": "python",
   "pygments_lexer": "ipython3",
   "version": "3.9.10"
  }
 },
 "nbformat": 4,
 "nbformat_minor": 5
}
