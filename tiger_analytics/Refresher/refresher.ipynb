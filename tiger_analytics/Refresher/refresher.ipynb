{
 "cells": [
  {
   "cell_type": "markdown",
   "id": "707eac68-aab8-4b4a-a899-1acd3506bb05",
   "metadata": {},
   "source": [
    "## How to store files to a local computer"
   ]
  },
  {
   "cell_type": "code",
   "execution_count": 1,
   "id": "0b0bfed0-cb8b-454d-b07d-65f9a6be2e36",
   "metadata": {},
   "outputs": [],
   "source": [
    "import pandas as pd\n",
    "path= \"../data/athlete_events.csv\"\n",
    "data = pd.read_csv(path)"
   ]
  },
  {
   "cell_type": "code",
   "execution_count": 2,
   "id": "b8d48d83-ef36-4098-8683-159a24c31f68",
   "metadata": {},
   "outputs": [
    {
     "data": {
      "text/html": [
       "<div>\n",
       "<style scoped>\n",
       "    .dataframe tbody tr th:only-of-type {\n",
       "        vertical-align: middle;\n",
       "    }\n",
       "\n",
       "    .dataframe tbody tr th {\n",
       "        vertical-align: top;\n",
       "    }\n",
       "\n",
       "    .dataframe thead th {\n",
       "        text-align: right;\n",
       "    }\n",
       "</style>\n",
       "<table border=\"1\" class=\"dataframe\">\n",
       "  <thead>\n",
       "    <tr style=\"text-align: right;\">\n",
       "      <th></th>\n",
       "      <th>ID</th>\n",
       "      <th>Name</th>\n",
       "      <th>Sex</th>\n",
       "      <th>Age</th>\n",
       "      <th>Height</th>\n",
       "      <th>Weight</th>\n",
       "      <th>Team</th>\n",
       "      <th>NOC</th>\n",
       "      <th>Games</th>\n",
       "      <th>Year</th>\n",
       "      <th>Season</th>\n",
       "      <th>City</th>\n",
       "      <th>Sport</th>\n",
       "      <th>Event</th>\n",
       "      <th>Medal</th>\n",
       "    </tr>\n",
       "  </thead>\n",
       "  <tbody>\n",
       "    <tr>\n",
       "      <th>0</th>\n",
       "      <td>1</td>\n",
       "      <td>A Dijiang</td>\n",
       "      <td>M</td>\n",
       "      <td>24.0</td>\n",
       "      <td>180.0</td>\n",
       "      <td>80.0</td>\n",
       "      <td>China</td>\n",
       "      <td>CHN</td>\n",
       "      <td>1992 Summer</td>\n",
       "      <td>1992</td>\n",
       "      <td>Summer</td>\n",
       "      <td>Barcelona</td>\n",
       "      <td>Basketball</td>\n",
       "      <td>Basketball Men's Basketball</td>\n",
       "      <td>NaN</td>\n",
       "    </tr>\n",
       "    <tr>\n",
       "      <th>1</th>\n",
       "      <td>2</td>\n",
       "      <td>A Lamusi</td>\n",
       "      <td>M</td>\n",
       "      <td>23.0</td>\n",
       "      <td>170.0</td>\n",
       "      <td>60.0</td>\n",
       "      <td>China</td>\n",
       "      <td>CHN</td>\n",
       "      <td>2012 Summer</td>\n",
       "      <td>2012</td>\n",
       "      <td>Summer</td>\n",
       "      <td>London</td>\n",
       "      <td>Judo</td>\n",
       "      <td>Judo Men's Extra-Lightweight</td>\n",
       "      <td>NaN</td>\n",
       "    </tr>\n",
       "  </tbody>\n",
       "</table>\n",
       "</div>"
      ],
      "text/plain": [
       "   ID       Name Sex   Age  Height  Weight   Team  NOC        Games  Year  \\\n",
       "0   1  A Dijiang   M  24.0   180.0    80.0  China  CHN  1992 Summer  1992   \n",
       "1   2   A Lamusi   M  23.0   170.0    60.0  China  CHN  2012 Summer  2012   \n",
       "\n",
       "   Season       City       Sport                         Event Medal  \n",
       "0  Summer  Barcelona  Basketball   Basketball Men's Basketball   NaN  \n",
       "1  Summer     London        Judo  Judo Men's Extra-Lightweight   NaN  "
      ]
     },
     "execution_count": 2,
     "metadata": {},
     "output_type": "execute_result"
    }
   ],
   "source": [
    "data.head(2)"
   ]
  },
  {
   "cell_type": "code",
   "execution_count": 3,
   "id": "e110dd84-d7c0-4838-81d9-841e556e4f2b",
   "metadata": {},
   "outputs": [],
   "source": [
    "path_to_write = \"/Users/gunnvantsaini/Library/CloudStorage/OneDrive-Personal/test.csv\""
   ]
  },
  {
   "cell_type": "code",
   "execution_count": 12,
   "id": "75adf5cf-eb9e-43c2-8587-78633d605d2a",
   "metadata": {},
   "outputs": [],
   "source": [
    "data.to_csv(path_to_write,index=True)"
   ]
  },
  {
   "cell_type": "code",
   "execution_count": 5,
   "id": "98d3d8df-f12a-4b39-a6a6-120c25e4b234",
   "metadata": {},
   "outputs": [],
   "source": [
    "string = \"this is a string\"\n",
    "with open(\"/Users/gunnvantsaini/Library/CloudStorage/OneDrive-Personal/test1.csv\",\"w\") as f:\n",
    "    f.write(string)"
   ]
  },
  {
   "cell_type": "code",
   "execution_count": 8,
   "id": "f45527bb-83c2-4182-8a9b-a50b95697918",
   "metadata": {},
   "outputs": [],
   "source": [
    "l1 =['a',['b','c','d'],['e','f'],'h','g'] \n",
    "l2 = ['a','b','c','d','e','f','h','g']"
   ]
  },
  {
   "cell_type": "code",
   "execution_count": 9,
   "id": "8d7701c7-8847-409a-8ed7-6baaec3d358d",
   "metadata": {},
   "outputs": [],
   "source": [
    "def check_list(obj):\n",
    "    return type(obj)!=list    \n",
    "              "
   ]
  },
  {
   "cell_type": "code",
   "execution_count": 10,
   "id": "dca34cc2-359a-446b-b7ee-3544a0aeaf87",
   "metadata": {},
   "outputs": [],
   "source": [
    "L = []\n",
    "for l in l1:\n",
    "    if check_list(l):\n",
    "        L.append(l)\n",
    "    else:\n",
    "        for i in range(len(l)):\n",
    "            if check_list(l[i]):\n",
    "                L.append(l[i])     "
   ]
  },
  {
   "cell_type": "code",
   "execution_count": 11,
   "id": "b2fee256-879a-4388-afca-178419b9ff1d",
   "metadata": {},
   "outputs": [
    {
     "data": {
      "text/plain": [
       "['a', 'b', 'c', 'd', 'e', 'f', 'h', 'g']"
      ]
     },
     "execution_count": 11,
     "metadata": {},
     "output_type": "execute_result"
    }
   ],
   "source": [
    "L"
   ]
  },
  {
   "cell_type": "code",
   "execution_count": 13,
   "id": "a2f52cf0-474f-47c0-8afe-3854d54f5981",
   "metadata": {},
   "outputs": [],
   "source": [
    "s = '''Python \n",
    "\n",
    "Python is a cross-platform programming language,\n",
    "which means that it can run on multiple platforms like Windows,\n",
    "macOS, Linux, and has even been ported to the Java and .NET virtual machines. It is free and open-source.\n",
    "'''"
   ]
  },
  {
   "cell_type": "code",
   "execution_count": 14,
   "id": "7070359c-2369-4034-9987-e0a26f430b85",
   "metadata": {},
   "outputs": [
    {
     "data": {
      "text/plain": [
       "'P'"
      ]
     },
     "execution_count": 14,
     "metadata": {},
     "output_type": "execute_result"
    }
   ],
   "source": [
    "s[0]"
   ]
  },
  {
   "cell_type": "code",
   "execution_count": 15,
   "id": "99d13732-08f4-4fa4-b391-261c20019e8d",
   "metadata": {},
   "outputs": [
    {
     "data": {
      "text/plain": [
       "'y'"
      ]
     },
     "execution_count": 15,
     "metadata": {},
     "output_type": "execute_result"
    }
   ],
   "source": [
    "s[1]"
   ]
  },
  {
   "cell_type": "code",
   "execution_count": 16,
   "id": "73a9cec8-bb61-438b-83f6-4a3152d5f9e1",
   "metadata": {},
   "outputs": [
    {
     "data": {
      "text/plain": [
       "'t'"
      ]
     },
     "execution_count": 16,
     "metadata": {},
     "output_type": "execute_result"
    }
   ],
   "source": [
    "s[2]"
   ]
  },
  {
   "cell_type": "code",
   "execution_count": 18,
   "id": "3e6775b8-ba7e-48fa-8546-230f4dee491e",
   "metadata": {},
   "outputs": [
    {
     "data": {
      "text/html": [
       "<div>\n",
       "<style scoped>\n",
       "    .dataframe tbody tr th:only-of-type {\n",
       "        vertical-align: middle;\n",
       "    }\n",
       "\n",
       "    .dataframe tbody tr th {\n",
       "        vertical-align: top;\n",
       "    }\n",
       "\n",
       "    .dataframe thead th {\n",
       "        text-align: right;\n",
       "    }\n",
       "</style>\n",
       "<table border=\"1\" class=\"dataframe\">\n",
       "  <thead>\n",
       "    <tr style=\"text-align: right;\">\n",
       "      <th></th>\n",
       "      <th>ID</th>\n",
       "      <th>Name</th>\n",
       "      <th>Sex</th>\n",
       "      <th>Age</th>\n",
       "      <th>Height</th>\n",
       "      <th>Weight</th>\n",
       "      <th>Team</th>\n",
       "      <th>NOC</th>\n",
       "      <th>Games</th>\n",
       "      <th>Year</th>\n",
       "      <th>Season</th>\n",
       "      <th>City</th>\n",
       "      <th>Sport</th>\n",
       "      <th>Event</th>\n",
       "      <th>Medal</th>\n",
       "    </tr>\n",
       "  </thead>\n",
       "  <tbody>\n",
       "    <tr>\n",
       "      <th>0</th>\n",
       "      <td>1</td>\n",
       "      <td>A Dijiang</td>\n",
       "      <td>M</td>\n",
       "      <td>24.0</td>\n",
       "      <td>180.0</td>\n",
       "      <td>80.0</td>\n",
       "      <td>China</td>\n",
       "      <td>CHN</td>\n",
       "      <td>1992 Summer</td>\n",
       "      <td>1992</td>\n",
       "      <td>Summer</td>\n",
       "      <td>Barcelona</td>\n",
       "      <td>Basketball</td>\n",
       "      <td>Basketball Men's Basketball</td>\n",
       "      <td>NaN</td>\n",
       "    </tr>\n",
       "    <tr>\n",
       "      <th>1</th>\n",
       "      <td>2</td>\n",
       "      <td>A Lamusi</td>\n",
       "      <td>M</td>\n",
       "      <td>23.0</td>\n",
       "      <td>170.0</td>\n",
       "      <td>60.0</td>\n",
       "      <td>China</td>\n",
       "      <td>CHN</td>\n",
       "      <td>2012 Summer</td>\n",
       "      <td>2012</td>\n",
       "      <td>Summer</td>\n",
       "      <td>London</td>\n",
       "      <td>Judo</td>\n",
       "      <td>Judo Men's Extra-Lightweight</td>\n",
       "      <td>NaN</td>\n",
       "    </tr>\n",
       "  </tbody>\n",
       "</table>\n",
       "</div>"
      ],
      "text/plain": [
       "   ID       Name Sex   Age  Height  Weight   Team  NOC        Games  Year  \\\n",
       "0   1  A Dijiang   M  24.0   180.0    80.0  China  CHN  1992 Summer  1992   \n",
       "1   2   A Lamusi   M  23.0   170.0    60.0  China  CHN  2012 Summer  2012   \n",
       "\n",
       "   Season       City       Sport                         Event Medal  \n",
       "0  Summer  Barcelona  Basketball   Basketball Men's Basketball   NaN  \n",
       "1  Summer     London        Judo  Judo Men's Extra-Lightweight   NaN  "
      ]
     },
     "execution_count": 18,
     "metadata": {},
     "output_type": "execute_result"
    }
   ],
   "source": [
    "data.head(2)"
   ]
  },
  {
   "cell_type": "code",
   "execution_count": 19,
   "id": "9d16a683-0da9-4e48-a58b-24ce3453e8fd",
   "metadata": {},
   "outputs": [
    {
     "data": {
      "text/plain": [
       "RangeIndex(start=0, stop=271116, step=1)"
      ]
     },
     "execution_count": 19,
     "metadata": {},
     "output_type": "execute_result"
    }
   ],
   "source": [
    "data.index"
   ]
  },
  {
   "cell_type": "markdown",
   "id": "76e9551d-ff6f-42cd-a19b-669d5df6073c",
   "metadata": {},
   "source": [
    "\n",
    "\n",
    "Use the dataset stored [here](https://drive.google.com/file/d/1YUXYe4L82S3SQW-UETHU85e3vgihCZLC/view?usp=sharing). The description of this dataset can be read from [here](https://drive.google.com/file/d/12HdKoPBbTzgRCIMmYC-ZvCi3328DkuEN/view?usp=sharing)\n",
    "\n",
    "Answer the questions raised below:\n",
    "1. How many incidents were reported for the month of March?\n",
    "    \n",
    "    A.  54\n",
    "    B.\t45\n",
    "    C.\t35\n",
    "    D.\t25\n",
    "\n",
    "2. On an average how many hectares of area was destroyed by the fires in the month of August? \n",
    "   \n",
    "    A.\t12.48\n",
    "    B.\t12.67\n",
    "    C.\t12.40\n",
    "    D.\t11.48\n",
    "\n",
    "3. In the month of August, what was the week-day, when the area destroyed in the fires was maximum but the temperature was least.\n",
    "   \n",
    "    A.\tMonday\n",
    "    B.\tTuesday\n",
    "    C.\tThursday\n",
    "    D.\tWednesday\n",
    "\n",
    "4. In the month of August, what is the maximum value of ‘rain’ in the 7th decile of wind speed column\n",
    "   \n",
    "    A.\t5.4\n",
    "    B.\t6.4\n",
    "    C.\t7.2\n",
    "    D.\t5.6\n",
    "\n",
    "5. Maximum rainfall happened on:\n",
    "   \n",
    "    A.\tTuesday\n",
    "    B.\tMonday\n",
    "    C.\tSunday\n",
    "    D.\tFriday\n",
    "\n"
   ]
  },
  {
   "cell_type": "code",
   "execution_count": 2,
   "id": "3638a773-574b-4485-9218-c1a23a05ffc7",
   "metadata": {},
   "outputs": [],
   "source": [
    "import pandas as pd\n",
    "path = \"/Users/gunnvantsaini/Downloads/forest_fires.csv\"\n",
    "forest = pd.read_csv(path)"
   ]
  },
  {
   "cell_type": "code",
   "execution_count": 3,
   "id": "4e49446d-ccc7-45b6-ad59-047461cbf0f7",
   "metadata": {},
   "outputs": [
    {
     "data": {
      "text/html": [
       "<div>\n",
       "<style scoped>\n",
       "    .dataframe tbody tr th:only-of-type {\n",
       "        vertical-align: middle;\n",
       "    }\n",
       "\n",
       "    .dataframe tbody tr th {\n",
       "        vertical-align: top;\n",
       "    }\n",
       "\n",
       "    .dataframe thead th {\n",
       "        text-align: right;\n",
       "    }\n",
       "</style>\n",
       "<table border=\"1\" class=\"dataframe\">\n",
       "  <thead>\n",
       "    <tr style=\"text-align: right;\">\n",
       "      <th></th>\n",
       "      <th>X</th>\n",
       "      <th>Y</th>\n",
       "      <th>month</th>\n",
       "      <th>day</th>\n",
       "      <th>FFMC</th>\n",
       "      <th>DMC</th>\n",
       "      <th>DC</th>\n",
       "      <th>ISI</th>\n",
       "      <th>temp</th>\n",
       "      <th>RH</th>\n",
       "      <th>wind</th>\n",
       "      <th>rain</th>\n",
       "      <th>area</th>\n",
       "    </tr>\n",
       "  </thead>\n",
       "  <tbody>\n",
       "    <tr>\n",
       "      <th>0</th>\n",
       "      <td>7</td>\n",
       "      <td>5</td>\n",
       "      <td>mar</td>\n",
       "      <td>fri</td>\n",
       "      <td>86.2</td>\n",
       "      <td>26.2</td>\n",
       "      <td>94.3</td>\n",
       "      <td>5.1</td>\n",
       "      <td>8.2</td>\n",
       "      <td>51</td>\n",
       "      <td>6.7</td>\n",
       "      <td>0.0</td>\n",
       "      <td>0.0</td>\n",
       "    </tr>\n",
       "    <tr>\n",
       "      <th>1</th>\n",
       "      <td>7</td>\n",
       "      <td>4</td>\n",
       "      <td>oct</td>\n",
       "      <td>tue</td>\n",
       "      <td>90.6</td>\n",
       "      <td>35.4</td>\n",
       "      <td>669.1</td>\n",
       "      <td>6.7</td>\n",
       "      <td>18.0</td>\n",
       "      <td>33</td>\n",
       "      <td>0.9</td>\n",
       "      <td>0.0</td>\n",
       "      <td>0.0</td>\n",
       "    </tr>\n",
       "  </tbody>\n",
       "</table>\n",
       "</div>"
      ],
      "text/plain": [
       "   X  Y month  day  FFMC   DMC     DC  ISI  temp  RH  wind  rain  area\n",
       "0  7  5   mar  fri  86.2  26.2   94.3  5.1   8.2  51   6.7   0.0   0.0\n",
       "1  7  4   oct  tue  90.6  35.4  669.1  6.7  18.0  33   0.9   0.0   0.0"
      ]
     },
     "execution_count": 3,
     "metadata": {},
     "output_type": "execute_result"
    }
   ],
   "source": [
    "forest.head(2)"
   ]
  },
  {
   "cell_type": "code",
   "execution_count": 5,
   "id": "5474a234-ed63-4a20-bae3-38045e1b1295",
   "metadata": {},
   "outputs": [
    {
     "data": {
      "text/plain": [
       "54"
      ]
     },
     "execution_count": 5,
     "metadata": {},
     "output_type": "execute_result"
    }
   ],
   "source": [
    "## Q1\n",
    "forest.query(\"month=='mar'\").shape[0]"
   ]
  },
  {
   "cell_type": "code",
   "execution_count": 7,
   "id": "48e5b50d-0445-4ee3-af56-c2753fe98620",
   "metadata": {},
   "outputs": [
    {
     "data": {
      "text/plain": [
       "12.489076086956521"
      ]
     },
     "execution_count": 7,
     "metadata": {},
     "output_type": "execute_result"
    }
   ],
   "source": [
    "## Q2\n",
    "forest.query(\"month=='aug'\")['area'].mean()"
   ]
  },
  {
   "cell_type": "code",
   "execution_count": 9,
   "id": "4118a241-87db-471d-b509-a3239c8aa455",
   "metadata": {},
   "outputs": [
    {
     "data": {
      "text/html": [
       "<div>\n",
       "<style scoped>\n",
       "    .dataframe tbody tr th:only-of-type {\n",
       "        vertical-align: middle;\n",
       "    }\n",
       "\n",
       "    .dataframe tbody tr th {\n",
       "        vertical-align: top;\n",
       "    }\n",
       "\n",
       "    .dataframe thead th {\n",
       "        text-align: right;\n",
       "    }\n",
       "</style>\n",
       "<table border=\"1\" class=\"dataframe\">\n",
       "  <thead>\n",
       "    <tr style=\"text-align: right;\">\n",
       "      <th></th>\n",
       "      <th>X</th>\n",
       "      <th>Y</th>\n",
       "      <th>month</th>\n",
       "      <th>day</th>\n",
       "      <th>FFMC</th>\n",
       "      <th>DMC</th>\n",
       "      <th>DC</th>\n",
       "      <th>ISI</th>\n",
       "      <th>temp</th>\n",
       "      <th>RH</th>\n",
       "      <th>wind</th>\n",
       "      <th>rain</th>\n",
       "      <th>area</th>\n",
       "    </tr>\n",
       "  </thead>\n",
       "  <tbody>\n",
       "    <tr>\n",
       "      <th>415</th>\n",
       "      <td>8</td>\n",
       "      <td>6</td>\n",
       "      <td>aug</td>\n",
       "      <td>thu</td>\n",
       "      <td>94.8</td>\n",
       "      <td>222.4</td>\n",
       "      <td>698.6</td>\n",
       "      <td>13.9</td>\n",
       "      <td>27.5</td>\n",
       "      <td>27</td>\n",
       "      <td>4.9</td>\n",
       "      <td>0.0</td>\n",
       "      <td>746.28</td>\n",
       "    </tr>\n",
       "    <tr>\n",
       "      <th>420</th>\n",
       "      <td>8</td>\n",
       "      <td>8</td>\n",
       "      <td>aug</td>\n",
       "      <td>wed</td>\n",
       "      <td>91.7</td>\n",
       "      <td>191.4</td>\n",
       "      <td>635.9</td>\n",
       "      <td>7.8</td>\n",
       "      <td>26.2</td>\n",
       "      <td>36</td>\n",
       "      <td>4.5</td>\n",
       "      <td>0.0</td>\n",
       "      <td>185.76</td>\n",
       "    </tr>\n",
       "    <tr>\n",
       "      <th>457</th>\n",
       "      <td>1</td>\n",
       "      <td>4</td>\n",
       "      <td>aug</td>\n",
       "      <td>wed</td>\n",
       "      <td>91.7</td>\n",
       "      <td>191.4</td>\n",
       "      <td>635.9</td>\n",
       "      <td>7.8</td>\n",
       "      <td>19.9</td>\n",
       "      <td>50</td>\n",
       "      <td>4.0</td>\n",
       "      <td>0.0</td>\n",
       "      <td>82.75</td>\n",
       "    </tr>\n",
       "    <tr>\n",
       "      <th>504</th>\n",
       "      <td>4</td>\n",
       "      <td>3</td>\n",
       "      <td>aug</td>\n",
       "      <td>wed</td>\n",
       "      <td>94.5</td>\n",
       "      <td>139.4</td>\n",
       "      <td>689.1</td>\n",
       "      <td>20.0</td>\n",
       "      <td>28.9</td>\n",
       "      <td>29</td>\n",
       "      <td>4.9</td>\n",
       "      <td>0.0</td>\n",
       "      <td>49.59</td>\n",
       "    </tr>\n",
       "    <tr>\n",
       "      <th>488</th>\n",
       "      <td>4</td>\n",
       "      <td>4</td>\n",
       "      <td>aug</td>\n",
       "      <td>tue</td>\n",
       "      <td>95.1</td>\n",
       "      <td>141.3</td>\n",
       "      <td>605.8</td>\n",
       "      <td>17.7</td>\n",
       "      <td>19.4</td>\n",
       "      <td>71</td>\n",
       "      <td>7.6</td>\n",
       "      <td>0.0</td>\n",
       "      <td>46.70</td>\n",
       "    </tr>\n",
       "  </tbody>\n",
       "</table>\n",
       "</div>"
      ],
      "text/plain": [
       "     X  Y month  day  FFMC    DMC     DC   ISI  temp  RH  wind  rain    area\n",
       "415  8  6   aug  thu  94.8  222.4  698.6  13.9  27.5  27   4.9   0.0  746.28\n",
       "420  8  8   aug  wed  91.7  191.4  635.9   7.8  26.2  36   4.5   0.0  185.76\n",
       "457  1  4   aug  wed  91.7  191.4  635.9   7.8  19.9  50   4.0   0.0   82.75\n",
       "504  4  3   aug  wed  94.5  139.4  689.1  20.0  28.9  29   4.9   0.0   49.59\n",
       "488  4  4   aug  tue  95.1  141.3  605.8  17.7  19.4  71   7.6   0.0   46.70"
      ]
     },
     "execution_count": 9,
     "metadata": {},
     "output_type": "execute_result"
    }
   ],
   "source": [
    "## ## Q3\n",
    "forest.query(\"month=='aug' and day not in ('sat','sun')\").sort_values(by=['area','temp'],ascending=[False,True]).head()"
   ]
  },
  {
   "cell_type": "code",
   "execution_count": 10,
   "id": "b5011d2e-faa2-4ba5-9849-918c0df177c9",
   "metadata": {},
   "outputs": [
    {
     "data": {
      "text/plain": [
       "4.9"
      ]
     },
     "execution_count": 10,
     "metadata": {},
     "output_type": "execute_result"
    }
   ],
   "source": [
    "## Q4\n",
    "forest['wind'].quantile(0.7)"
   ]
  },
  {
   "cell_type": "code",
   "execution_count": 11,
   "id": "103c5a1d-fd9f-4a34-94c0-49f7f3aa24c8",
   "metadata": {},
   "outputs": [
    {
     "data": {
      "text/plain": [
       "4.5"
      ]
     },
     "execution_count": 11,
     "metadata": {},
     "output_type": "execute_result"
    }
   ],
   "source": [
    "forest['wind'].quantile(0.6)"
   ]
  },
  {
   "cell_type": "code",
   "execution_count": 14,
   "id": "27fe3ebf-b68d-4d4d-9631-ab2d4f683263",
   "metadata": {},
   "outputs": [
    {
     "data": {
      "text/plain": [
       "6.4"
      ]
     },
     "execution_count": 14,
     "metadata": {},
     "output_type": "execute_result"
    }
   ],
   "source": [
    "forest.query(\"wind>4.5 or wind<=4.9 and month=='aug'\")['rain'].max()"
   ]
  },
  {
   "cell_type": "code",
   "execution_count": 15,
   "id": "05776067-e80e-49e2-bcd1-b67d536dd628",
   "metadata": {},
   "outputs": [
    {
     "data": {
      "text/html": [
       "<div>\n",
       "<style scoped>\n",
       "    .dataframe tbody tr th:only-of-type {\n",
       "        vertical-align: middle;\n",
       "    }\n",
       "\n",
       "    .dataframe tbody tr th {\n",
       "        vertical-align: top;\n",
       "    }\n",
       "\n",
       "    .dataframe thead th {\n",
       "        text-align: right;\n",
       "    }\n",
       "</style>\n",
       "<table border=\"1\" class=\"dataframe\">\n",
       "  <thead>\n",
       "    <tr style=\"text-align: right;\">\n",
       "      <th></th>\n",
       "      <th>rain</th>\n",
       "    </tr>\n",
       "    <tr>\n",
       "      <th>day</th>\n",
       "      <th></th>\n",
       "    </tr>\n",
       "  </thead>\n",
       "  <tbody>\n",
       "    <tr>\n",
       "      <th>fri</th>\n",
       "      <td>1.4</td>\n",
       "    </tr>\n",
       "    <tr>\n",
       "      <th>mon</th>\n",
       "      <td>0.0</td>\n",
       "    </tr>\n",
       "    <tr>\n",
       "      <th>sat</th>\n",
       "      <td>0.0</td>\n",
       "    </tr>\n",
       "    <tr>\n",
       "      <th>sun</th>\n",
       "      <td>1.0</td>\n",
       "    </tr>\n",
       "    <tr>\n",
       "      <th>thu</th>\n",
       "      <td>0.0</td>\n",
       "    </tr>\n",
       "    <tr>\n",
       "      <th>tue</th>\n",
       "      <td>6.4</td>\n",
       "    </tr>\n",
       "    <tr>\n",
       "      <th>wed</th>\n",
       "      <td>0.2</td>\n",
       "    </tr>\n",
       "  </tbody>\n",
       "</table>\n",
       "</div>"
      ],
      "text/plain": [
       "     rain\n",
       "day      \n",
       "fri   1.4\n",
       "mon   0.0\n",
       "sat   0.0\n",
       "sun   1.0\n",
       "thu   0.0\n",
       "tue   6.4\n",
       "wed   0.2"
      ]
     },
     "execution_count": 15,
     "metadata": {},
     "output_type": "execute_result"
    }
   ],
   "source": [
    "## Q5\n",
    "forest.groupby('day').agg({'rain':'max'})"
   ]
  },
  {
   "cell_type": "code",
   "execution_count": 17,
   "id": "2edc2380-09fe-4c92-9346-5884a4ae7daa",
   "metadata": {},
   "outputs": [
    {
     "data": {
      "text/plain": [
       "499    tue\n",
       "509    fri\n",
       "243    sun\n",
       "500    tue\n",
       "501    tue\n",
       "Name: day, dtype: object"
      ]
     },
     "execution_count": 17,
     "metadata": {},
     "output_type": "execute_result"
    }
   ],
   "source": [
    "forest.sort_values(by='rain',ascending=False)['day'].head(5)"
   ]
  },
  {
   "cell_type": "markdown",
   "id": "b9e482c7-f5e6-4991-987b-1ce5ee5b617d",
   "metadata": {},
   "source": [
    "## Problem 2\n",
    "\n",
    "Use the dataset stored [here](https://drive.google.com/file/d/1WShGELaUTe_NsMvLfDl10OVQJgNgkFwg/view?usp=sharing)\n",
    "\n",
    "Once you download the data you will end up with a zip file. You will need to unzip it and you will find that there are several csv files. These files contain the data on pollution level collected by IOT sensors. You will observe that many files have same latitude and longitude data. Your task is the following:\n",
    "\n",
    "1. Find out how many total csv files are there?\n",
    "2. Club all the files that belong to each location together. One simple way to do this is to generate a dictionary that has lat-longs as keys and files with same location as values.\n",
    "3. Find out which location has the maximum number of files clubbed together. "
   ]
  },
  {
   "cell_type": "code",
   "execution_count": 26,
   "id": "f85e01d3-5ee7-432d-a127-d7ae1e3c5252",
   "metadata": {},
   "outputs": [],
   "source": [
    "import os\n",
    "import re\n",
    "pattern = re.compile(r\"\\.csv$\")"
   ]
  },
  {
   "cell_type": "code",
   "execution_count": 27,
   "id": "55bfe4a6-b052-4d5f-8b31-47d6604d56d7",
   "metadata": {},
   "outputs": [],
   "source": [
    "path = \"/Users/gunnvantsaini/Downloads/pollution\"\n",
    "counter = 0\n",
    "for file_name in os.listdir(path):\n",
    "    if len(re.findall(pattern,file_name))!=0:\n",
    "        counter=counter+1"
   ]
  },
  {
   "cell_type": "code",
   "execution_count": 28,
   "id": "349fde83-3c6d-40e4-96d4-432ddba7652b",
   "metadata": {},
   "outputs": [
    {
     "name": "stdout",
     "output_type": "stream",
     "text": [
      "449\n"
     ]
    }
   ],
   "source": [
    "print(counter)"
   ]
  },
  {
   "cell_type": "markdown",
   "id": "c6eed9c5-0a59-4203-8c72-7991f604373b",
   "metadata": {},
   "source": [
    "**Create code to print full path to each file**"
   ]
  },
  {
   "cell_type": "markdown",
   "id": "9e6ad66e-c1bc-4ecf-80ef-7049bf7b93f5",
   "metadata": {},
   "source": [
    "**Write a function which can read the first line of each file, print out the first line of each file and its name**"
   ]
  },
  {
   "cell_type": "code",
   "execution_count": 30,
   "id": "3337b534-d126-4b88-b127-7df657eacc2f",
   "metadata": {},
   "outputs": [
    {
     "data": {
      "text/plain": [
       "['pollutionData188013.csv',\n",
       " 'pollutionData190853.csv',\n",
       " 'pollutionData190338.csv',\n",
       " 'pollutionData209748.csv']"
      ]
     },
     "execution_count": 30,
     "metadata": {},
     "output_type": "execute_result"
    }
   ],
   "source": [
    "os.listdir(path)[0:4]"
   ]
  },
  {
   "cell_type": "code",
   "execution_count": 31,
   "id": "cc411e11-e6ec-42ca-ab99-ba9bf04f3259",
   "metadata": {},
   "outputs": [
    {
     "data": {
      "text/plain": [
       "'abcdef'"
      ]
     },
     "execution_count": 31,
     "metadata": {},
     "output_type": "execute_result"
    }
   ],
   "source": [
    "\"abc\"+\"def\""
   ]
  },
  {
   "cell_type": "code",
   "execution_count": 32,
   "id": "ebda01bd-5d9d-401c-b533-543a75b7bb28",
   "metadata": {},
   "outputs": [
    {
     "name": "stdout",
     "output_type": "stream",
     "text": [
      "/Users/gunnvantsaini/Downloads/pollution/pollutionData188013.csv\n",
      "/Users/gunnvantsaini/Downloads/pollution/pollutionData190853.csv\n",
      "/Users/gunnvantsaini/Downloads/pollution/pollutionData190338.csv\n",
      "/Users/gunnvantsaini/Downloads/pollution/pollutionData209748.csv\n"
     ]
    }
   ],
   "source": [
    "for file_name in os.listdir(path)[0:4]:\n",
    "    print(path+\"/\"+file_name)"
   ]
  },
  {
   "cell_type": "code",
   "execution_count": 33,
   "id": "ca326593-a4be-4d39-8106-73b5d4c80ef5",
   "metadata": {},
   "outputs": [
    {
     "data": {
      "text/plain": [
       "'/Users/gunnvantsaini/Downloads/pollution/pollutionData188013.csv'"
      ]
     },
     "execution_count": 33,
     "metadata": {},
     "output_type": "execute_result"
    }
   ],
   "source": [
    "os.path.join(path,'pollutionData188013.csv')"
   ]
  },
  {
   "cell_type": "code",
   "execution_count": 48,
   "id": "c26638b3-2c10-4fb6-ba9d-ec4b00f0087a",
   "metadata": {},
   "outputs": [],
   "source": [
    "sensor_map = {}\n",
    "for file_name in os.listdir(path):\n",
    "    path_file = os.path.join(path,file_name)\n",
    "    with open(path_file,\"r\") as f:\n",
    "        file_contents = f.readlines()\n",
    "        lat = file_contents[1].split(\",\")[5]\n",
    "        lon = file_contents[1].split(\",\")[6]\n",
    "        lat_lon = lat+\"_\"+lon\n",
    "        if lat_lon not in sensor_map:\n",
    "            sensor_map[lat_lon] = []\n",
    "            sensor_map[lat_lon].append(file_name)\n",
    "        else:\n",
    "            sensor_map[lat_lon].append(file_name)"
   ]
  },
  {
   "cell_type": "markdown",
   "id": "d2c32ade-02b3-4ee1-acf0-4034f93aba7c",
   "metadata": {},
   "source": [
    "```python\n",
    "{\"lat-long_1\":[\"name1\",\"name2\"],\n",
    "\"lat_long_2\":[\"name3\",\"name4\"]}\n",
    "```"
   ]
  },
  {
   "cell_type": "code",
   "execution_count": 49,
   "id": "3398bb8e-9749-4e26-a401-d8ba10319fe6",
   "metadata": {},
   "outputs": [
    {
     "data": {
      "text/plain": [
       "{'10.182944170639075_56.1589844936963': ['pollutionData188013.csv',\n",
       "  'pollutionData188066.csv',\n",
       "  'pollutionData181006.csv'],\n",
       " '10.267762215938546_56.22020076302727': ['pollutionData190853.csv',\n",
       "  'pollutionData190825.csv',\n",
       "  'pollutionData209907.csv'],\n",
       " '10.179336344162948_56.138322977998705': ['pollutionData190338.csv',\n",
       "  'pollutionData184703.csv',\n",
       "  'pollutionData190232.csv'],\n",
       " '10.189980711639464_56.13458495857738': ['pollutionData209748.csv',\n",
       "  'pollutionData209721.csv'],\n",
       " '10.192906038028696_56.141835968071454': ['pollutionData209774.csv',\n",
       "  'pollutionData206051.csv',\n",
       "  'pollutionData206104.csv'],\n",
       " '10.179150601188667_56.13844851575673': ['pollutionData209827.csv',\n",
       "  'pollutionData184675.csv',\n",
       "  'pollutionData203795.csv'],\n",
       " '10.149547918402732_56.170886798880105': ['pollutionData195446.csv',\n",
       "  'pollutionData195499.csv'],\n",
       " '10.176133542327875_56.15591411050229': ['pollutionData188198.csv',\n",
       "  'pollutionData183117.csv',\n",
       "  'pollutionData188145.csv'],\n",
       " '10.173161614749915_56.210756242190286': ['pollutionData158805.csv'],\n",
       " '10.158060728836062_56.14774074192765': ['pollutionData187297.csv',\n",
       "  'pollutionData184758.csv',\n",
       "  'pollutionData187244.csv'],\n",
       " '10.19604842460626_56.184659561973874': ['pollutionData210146.csv',\n",
       "  'pollutionData192653.csv'],\n",
       " '10.212341355819717_56.187071255964284': ['pollutionData179148.csv'],\n",
       " '10.200790644180302_56.18324423193787': ['pollutionData179174.csv'],\n",
       " '10.182841611114554_56.15499691392427': ['pollutionData188172.csv',\n",
       "  'pollutionData181060.csv'],\n",
       " '10.141663381614649_56.124304277059785': ['pollutionData197734.csv',\n",
       "  'pollutionData201749.csv',\n",
       "  'pollutionData201802.csv'],\n",
       " '10.183499758266407_56.149807565419565': ['pollutionData181142.csv'],\n",
       " '10.215389695770227_56.161597269074186': ['pollutionData190073.csv',\n",
       "  'pollutionData178929.csv',\n",
       "  'pollutionData178901.csv'],\n",
       " '10.187763760747885_56.159418709313904': ['pollutionData182846.csv',\n",
       "  'pollutionData188092.csv',\n",
       "  'pollutionData187986.csv'],\n",
       " '10.206927436840033_56.105069529457616': ['pollutionData201507.csv',\n",
       "  'pollutionData204166.csv',\n",
       "  'pollutionData201535.csv'],\n",
       " '10.177203408737114_56.13953206657349': ['pollutionData190259.csv',\n",
       "  'pollutionData190312.csv',\n",
       "  'pollutionData179119.csv'],\n",
       " '10.17926542270186_56.2049938543326': ['pollutionData192466.csv',\n",
       "  'pollutionData192438.csv'],\n",
       " '10.200700790178303_56.1833360361296': ['pollutionData179202.csv',\n",
       "  'pollutionData185025.csv',\n",
       "  'pollutionData184972.csv'],\n",
       " '10.218120143516558_56.16631645387974': ['pollutionData178875.csv'],\n",
       " '10.148353690807198_56.118198830180894': ['pollutionData201881.csv',\n",
       "  'pollutionData201908.csv',\n",
       "  'pollutionData197760.csv'],\n",
       " '10.241989084655756_56.20043625463636': ['pollutionData190663.csv'],\n",
       " '10.182659856483497_56.15898299999999': ['pollutionData181034.csv',\n",
       "  'pollutionData188119.csv'],\n",
       " '10.11966875826647_56.169454614092764': ['pollutionData195041.csv',\n",
       "  'pollutionData206396.csv',\n",
       "  'pollutionData206369.csv'],\n",
       " '10.130153804893553_56.17941549701764': ['pollutionData193430.csv',\n",
       "  'pollutionData195843.csv',\n",
       "  'pollutionData193402.csv'],\n",
       " '10.17948788343233_56.13417989322382': ['pollutionData203716.csv',\n",
       "  'pollutionData203822.csv',\n",
       "  'pollutionData203769.csv',\n",
       "  'pollutionData198330.csv',\n",
       "  'pollutionData203875.csv'],\n",
       " '10.109984271163967_56.16459887184971': ['pollutionData195096.csv',\n",
       "  'pollutionData195124.csv',\n",
       "  'pollutionData206343.csv',\n",
       "  'pollutionData195896.csv'],\n",
       " '10.277436490737955_56.21163929866206': ['pollutionData190475.csv',\n",
       "  'pollutionData192760.csv'],\n",
       " '10.192906008598356_56.181353258286634': ['pollutionData185078.csv',\n",
       "  'pollutionData179228.csv',\n",
       "  'pollutionData185131.csv'],\n",
       " '10.1515794551907_56.167867187555736': ['pollutionData195525.csv',\n",
       "  'pollutionData186953.csv',\n",
       "  'pollutionData185396.csv',\n",
       "  'pollutionData179444.csv'],\n",
       " '10.18461071717934_56.178623267668705': ['pollutionData204247.csv',\n",
       "  'pollutionData179282.csv'],\n",
       " '10.267323856483472_56.206985193530365': ['pollutionData190501.csv',\n",
       "  'pollutionData192813.csv'],\n",
       " '10.267205839286817_56.207098572394976': ['pollutionData190529.csv'],\n",
       " '10.104986076057457_56.23172069428216': ['pollutionData158386.csv',\n",
       "  'pollutionData158324.csv'],\n",
       " '10.186944694442786_56.1457221852484': ['pollutionData181168.csv'],\n",
       " '10.228639215938529_56.19765179702361': ['pollutionData190717.csv',\n",
       "  'pollutionData192972.csv'],\n",
       " '10.157709017196566_56.125829583613914': ['pollutionData201934.csv',\n",
       "  'pollutionData201828.csv',\n",
       "  'pollutionData197705.csv'],\n",
       " '10.167441665012348_56.12004117576438': ['pollutionData203689.csv',\n",
       "  'pollutionData198167.csv',\n",
       "  'pollutionData198113.csv',\n",
       "  'pollutionData203583.csv',\n",
       "  'pollutionData198085.csv'],\n",
       " '10.195804343585905_56.18461478101305': ['pollutionData181197.csv',\n",
       "  'pollutionData184998.csv',\n",
       "  'pollutionData185104.csv'],\n",
       " '10.096344851520598_56.18546282170713': ['pollutionData195684.csv',\n",
       "  'pollutionData193322.csv',\n",
       "  'pollutionData193294.csv'],\n",
       " '10.212459373016372_56.18696229571611': ['pollutionData184945.csv',\n",
       "  'pollutionData192707.csv',\n",
       "  'pollutionData184892.csv'],\n",
       " '10.246642527612721_56.20913963031665': ['pollutionData192840.csv',\n",
       "  'pollutionData192546.csv',\n",
       "  'pollutionData210173.csv'],\n",
       " '10.162728804893504_56.10986429894997': ['pollutionData203663.csv',\n",
       "  'pollutionData197814.csv',\n",
       "  'pollutionData203636.csv',\n",
       "  'pollutionData197842.csv'],\n",
       " '10.10711200000003_56.21731711429131': ['pollutionData158595.csv',\n",
       "  'pollutionData158446.csv'],\n",
       " '10.246299305557386_56.22521120818609': ['pollutionData209986.csv',\n",
       "  'pollutionData209933.csv'],\n",
       " '10.19893292642405_56.1803125039424': ['pollutionData185051.csv',\n",
       "  'pollutionData181223.csv',\n",
       "  'pollutionData185157.csv'],\n",
       " '10.161757688325906_56.17312782176926': ['pollutionData185290.csv',\n",
       "  'pollutionData185343.csv',\n",
       "  'pollutionData179418.csv',\n",
       "  'pollutionData195472.csv'],\n",
       " '10.269670626983498_56.210806441766366': ['pollutionData190879.csv'],\n",
       " '10.145073305557275_56.21399075104399': ['pollutionData172156.csv',\n",
       "  'pollutionData158624.csv',\n",
       "  'pollutionData171969.csv',\n",
       "  'pollutionData158565.csv'],\n",
       " '10.143036390212956_56.11906158966682': ['pollutionData201855.csv',\n",
       "  'pollutionData197679.csv',\n",
       "  'pollutionData201775.csv'],\n",
       " '10.20776318039134_56.136738858609256': ['pollutionData204087.csv',\n",
       "  'pollutionData204034.csv',\n",
       "  'pollutionData201291.csv',\n",
       "  'pollutionData201319.csv'],\n",
       " '10.178335597553314_56.162369287665825': ['pollutionData188039.csv',\n",
       "  'pollutionData182820.csv',\n",
       "  'pollutionData187933.csv'],\n",
       " '10.161157250404358_56.208646307573304': ['pollutionData158744.csv',\n",
       "  'pollutionData172602.csv'],\n",
       " '10.21197608217426_56.161017815103236': ['pollutionData190100.csv',\n",
       "  'pollutionData190047.csv'],\n",
       " '10.192723647815683_56.1417522836526': ['pollutionData206131.csv',\n",
       "  'pollutionData206184.csv'],\n",
       " '10.157454995037142_56.13199024175818': ['pollutionData187483.csv',\n",
       "  'pollutionData187430.csv'],\n",
       " '10.161062711639374_56.169148028055325': ['pollutionData186979.csv',\n",
       "  'pollutionData182738.csv',\n",
       "  'pollutionData185369.csv',\n",
       "  'pollutionData182766.csv'],\n",
       " '10.209219127208598_56.17243586196818': ['pollutionData187642.csv',\n",
       "  'pollutionData180818.csv',\n",
       "  'pollutionData187589.csv'],\n",
       " '10.153436152114864_56.17262995803033': ['pollutionData182712.csv',\n",
       "  'pollutionData185422.csv',\n",
       "  'pollutionData185316.csv'],\n",
       " '10.201447428241636_56.171122550932225': ['pollutionData187695.csv',\n",
       "  'pollutionData180844.csv',\n",
       "  'pollutionData187748.csv'],\n",
       " '10.093612498182324_56.16718933444926': ['pollutionData194986.csv'],\n",
       " '10.202164315973278_56.11692219631463': ['pollutionData206290.csv',\n",
       "  'pollutionData201237.csv',\n",
       "  'pollutionData206263.csv'],\n",
       " '10.236217525131224_56.205074': ['pollutionData192893.csv',\n",
       "  'pollutionData190934.csv',\n",
       "  'pollutionData192946.csv'],\n",
       " '10.233619432540877_56.21728389714838': ['pollutionData190908.csv',\n",
       "  'pollutionData209854.csv'],\n",
       " '10.093516609210042_56.16716656043954': ['pollutionData195870.csv',\n",
       "  'pollutionData195923.csv'],\n",
       " '10.186880262565637_56.14251885276732': ['pollutionData206078.csv',\n",
       "  'pollutionData190020.csv'],\n",
       " '10.166163050262412_56.131053962866226': ['pollutionData187509.csv',\n",
       "  'pollutionData184621.csv'],\n",
       " '10.139025504299298_56.153267352820414': ['pollutionData183009.csv'],\n",
       " '10.171526038028787_56.17505006362324': ['pollutionData179364.csv'],\n",
       " '10.189355309192706_56.18210217593679': ['pollutionData205997.csv',\n",
       "  'pollutionData204273.csv'],\n",
       " '10.062790576721227_56.100713387988804': ['pollutionData197518.csv'],\n",
       " '10.116589665412903_56.22579478256016': ['pollutionData158355.csv',\n",
       "  'pollutionData171572.csv'],\n",
       " '10.140579996364522_56.10097260933967': ['pollutionData198005.csv',\n",
       "  'pollutionData197977.csv'],\n",
       " '10.241876431877131_56.20056009742038': ['pollutionData192919.csv',\n",
       "  'pollutionData190691.csv'],\n",
       " '10.142859364417973_56.11919616177176': ['pollutionData197652.csv'],\n",
       " '10.113531440475526_56.182637286706964': ['pollutionData195737.csv',\n",
       "  'pollutionData195790.csv',\n",
       "  'pollutionData193348.csv',\n",
       "  'pollutionData193376.csv'],\n",
       " '10.1989185595246_56.14063267124548': ['pollutionData179038.csv',\n",
       "  'pollutionData204113.csv'],\n",
       " '10.087895233135214_56.15286327729632': ['pollutionData195286.csv'],\n",
       " '10.218303812914883_56.186546268439095': ['pollutionData193185.csv',\n",
       "  'pollutionData184919.csv',\n",
       "  'pollutionData178600.csv'],\n",
       " '10.228593618385275_56.19774431284465': ['pollutionData193026.csv',\n",
       "  'pollutionData190744.csv'],\n",
       " '10.201616660049467_56.176038754874654': ['pollutionData187721.csv',\n",
       "  'pollutionData181305.csv',\n",
       "  'pollutionData187615.csv'],\n",
       " '10.208600965029746_56.14472622987757': ['pollutionData201265.csv',\n",
       "  'pollutionData206449.csv'],\n",
       " '10.139060373016491_56.153135887760996': ['pollutionData183037.csv',\n",
       "  'pollutionData187032.csv',\n",
       "  'pollutionData187138.csv'],\n",
       " '10.21780255092608_56.18290049276627': ['pollutionData187536.csv',\n",
       "  'pollutionData178767.csv'],\n",
       " '10.185844404928275_56.163969409207326': ['pollutionData187907.csv',\n",
       "  'pollutionData187960.csv',\n",
       "  'pollutionData180980.csv'],\n",
       " '10.157440224536913_56.154610138216704': ['pollutionData187085.csv',\n",
       "  'pollutionData183091.csv',\n",
       "  'pollutionData187191.csv',\n",
       "  'pollutionData183063.csv'],\n",
       " '10.194338714120931_56.16945046812791': ['pollutionData180926.csv',\n",
       "  'pollutionData187801.csv'],\n",
       " '10.207060089618722_56.16816672029917': ['pollutionData187668.csv',\n",
       "  'pollutionData181331.csv',\n",
       "  'pollutionData187774.csv'],\n",
       " '10.15788067857352_56.125743621869944': ['pollutionData187456.csv',\n",
       "  'pollutionData184595.csv'],\n",
       " '10.154132957008414_56.1404960893661': ['pollutionData187324.csv',\n",
       "  'pollutionData180709.csv'],\n",
       " '10.190940219574031_56.18950967440927': ['pollutionData210093.csv',\n",
       "  'pollutionData192627.csv'],\n",
       " '10.303667644180337_56.25625595964834': ['pollutionData190367.csv'],\n",
       " '10.072391914016862_56.15457258895634': ['pollutionData197408.csv',\n",
       "  'pollutionData197355.csv'],\n",
       " '10.087875116567602_56.1529230346212': ['pollutionData197434.csv',\n",
       "  'pollutionData195259.csv'],\n",
       " '10.221273033065813_56.175432085860464': ['pollutionData178793.csv'],\n",
       " '10.144907008598352_56.21385651069573': ['pollutionData158655.csv',\n",
       "  'pollutionData158715.csv'],\n",
       " '10.198804084655762_56.10480213435411': ['pollutionData204193.csv',\n",
       "  'pollutionData204140.csv',\n",
       "  'pollutionData197922.csv'],\n",
       " '10.207113017196662_56.117828971777826': ['pollutionData206237.csv',\n",
       "  'pollutionData201399.csv',\n",
       "  'pollutionData201427.csv'],\n",
       " '10.171611868717264_56.174917180024806': ['pollutionData195418.csv',\n",
       "  'pollutionData185237.csv',\n",
       "  'pollutionData179336.csv'],\n",
       " '10.186632644180236_56.13959744418457': ['pollutionData190206.csv',\n",
       "  'pollutionData190153.csv',\n",
       "  'pollutionData179093.csv'],\n",
       " '10.125013142824173_56.23489759702643': ['pollutionData158536.csv',\n",
       "  'pollutionData172329.csv',\n",
       "  'pollutionData158475.csv',\n",
       "  'pollutionData173225.csv'],\n",
       " '10.151387677246134_56.16798814878688': ['pollutionData195578.csv',\n",
       "  'pollutionData180547.csv'],\n",
       " '10.166318618385276_56.13096577062022': ['pollutionData184649.csv',\n",
       "  'pollutionData203742.csv'],\n",
       " '10.198852845403735_56.1407940671622': ['pollutionData206157.csv'],\n",
       " '10.139154364418005_56.162574351819416': ['pollutionData195552.csv',\n",
       "  'pollutionData195605.csv'],\n",
       " '10.184485323907893_56.17871060412596': ['pollutionData185184.csv',\n",
       "  'pollutionData179310.csv',\n",
       "  'pollutionData195365.csv'],\n",
       " '10.143520804893456_56.16018043015113': ['pollutionData180573.csv',\n",
       "  'pollutionData195631.csv'],\n",
       " '10.186756880950952_56.14258759218248': ['pollutionData184729.csv',\n",
       "  'pollutionData190179.csv',\n",
       "  'pollutionData190285.csv'],\n",
       " '10.175406949737521_56.20417258212644': ['pollutionData158865.csv',\n",
       "  'pollutionData158954.csv'],\n",
       " '10.12084169080731_56.178402535294865': ['pollutionData195817.csv',\n",
       "  'pollutionData195015.csv',\n",
       "  'pollutionData195764.csv'],\n",
       " '10.189857330024779_56.13458495857738': ['pollutionData198301.csv'],\n",
       " '10.07666460978703_56.18959388227456': ['pollutionData193268.csv'],\n",
       " '10.17614185152047_56.151949698562795': ['pollutionData189967.csv',\n",
       "  'pollutionData188251.csv',\n",
       "  'pollutionData184784.csv'],\n",
       " '10.213484466270415_56.17405423428392': ['pollutionData180764.csv',\n",
       "  'pollutionData187562.csv'],\n",
       " '10.209020390213027_56.09926842434083': ['pollutionData204219.csv',\n",
       "  'pollutionData201589.csv',\n",
       "  'pollutionData201561.csv'],\n",
       " '10.187329678573633_56.12994000000001': ['pollutionData198275.csv',\n",
       "  'pollutionData204007.csv',\n",
       "  'pollutionData198247.csv',\n",
       "  'pollutionData203901.csv'],\n",
       " '10.204370307865133_56.141823496238665': ['pollutionData179064.csv'],\n",
       " '10.154807944774575_55.988031499663315': ['pollutionData201615.csv'],\n",
       " '10.218878251485876_56.19371107014121': ['pollutionData193132.csv',\n",
       "  'pollutionData184866.csv',\n",
       "  'pollutionData178548.csv'],\n",
       " '10.13978019262504_56.21508593264829': ['pollutionData173011.csv',\n",
       "  'pollutionData158505.csv',\n",
       "  'pollutionData158415.csv'],\n",
       " '10.125912580356612_56.16254304778694': ['pollutionData206422.csv',\n",
       "  'pollutionData195150.csv',\n",
       "  'pollutionData195178.csv'],\n",
       " '10.175338207340246_56.179322409643085': ['pollutionData195392.csv',\n",
       "  'pollutionData193213.csv',\n",
       "  'pollutionData195339.csv'],\n",
       " '10.185914784061424_56.12391430736949': ['pollutionData201211.csv',\n",
       "  'pollutionData203981.csv',\n",
       "  'pollutionData203954.csv',\n",
       "  'pollutionData201183.csv'],\n",
       " '10.191119927578029_56.18958131478287': ['pollutionData192600.csv'],\n",
       " '10.246154466270468_56.22537224883195': ['pollutionData158684.csv',\n",
       "  'pollutionData209880.csv'],\n",
       " '10.153714822090137_56.1102508220387': ['pollutionData203610.csv',\n",
       "  'pollutionData198059.csv',\n",
       "  'pollutionData203530.csv'],\n",
       " '10.21908612268453_56.19369241581476': ['pollutionData190770.csv',\n",
       "  'pollutionData193079.csv'],\n",
       " '10.149694601188685_56.148158423711955': ['pollutionData187218.csv',\n",
       "  'pollutionData180655.csv'],\n",
       " '10.18616224669654_56.16389697427008': ['pollutionData180952.csv',\n",
       "  'pollutionData187854.csv'],\n",
       " '10.175128_56.20391': ['pollutionData159014.csv'],\n",
       " '10.216211542327983_56.19677547153966': ['pollutionData193053.csv',\n",
       "  'pollutionData193000.csv'],\n",
       " '10.143257948409996_56.1601908856982': ['pollutionData180601.csv',\n",
       "  'pollutionData187006.csv',\n",
       "  'pollutionData187059.csv'],\n",
       " '10.198778699405693_56.18028339302693': ['pollutionData181251.csv'],\n",
       " '10.177235595245293_56.13962771141822': ['pollutionData187350.csv',\n",
       "  'pollutionData187403.csv'],\n",
       " '10.131331836805202_56.152757286457955': ['pollutionData182955.csv',\n",
       "  'pollutionData182983.csv'],\n",
       " '10.153508571758266_56.17267848588397': ['pollutionData194931.csv'],\n",
       " '10.261365288360594_56.242032790256985': ['pollutionData190799.csv',\n",
       "  'pollutionData209960.csv'],\n",
       " '10.186762304229774_56.14563850929': ['pollutionData206025.csv',\n",
       "  'pollutionData189994.csv',\n",
       "  'pollutionData206502.csv'],\n",
       " '10.216251775463206_56.196878435033454': ['pollutionData210120.csv',\n",
       "  'pollutionData210067.csv',\n",
       "  'pollutionData210013.csv'],\n",
       " '10.174677478504236_56.13241046310714': ['pollutionData198139.csv',\n",
       "  'pollutionData209801.csv'],\n",
       " '10.114700495700845_56.10806431410453': ['pollutionData197544.csv',\n",
       "  'pollutionData197572.csv',\n",
       "  'pollutionData201669.csv'],\n",
       " '10.211722754631069_56.13236396838821': ['pollutionData201373.csv',\n",
       "  'pollutionData201345.csv'],\n",
       " '10.138403402446784_56.17741297116948': ['pollutionData194878.csv'],\n",
       " '10.064734635581999_56.152447520476194': ['pollutionData197381.csv',\n",
       "  'pollutionData195233.csv'],\n",
       " '10.182238219573946_56.19920218884512': ['pollutionData192574.csv'],\n",
       " '10.182444749668093_56.19922307868954': ['pollutionData210040.csv',\n",
       "  'pollutionData159043.csv'],\n",
       " '10.122408752149568_56.110590119560015': ['pollutionData197626.csv'],\n",
       " '10.149874309192683_56.148242094184255': ['pollutionData180627.csv',\n",
       "  'pollutionData187165.csv',\n",
       "  'pollutionData187112.csv'],\n",
       " '10.201770887067823_56.17606861552515': ['pollutionData181277.csv'],\n",
       " '10.259470361936565_56.20496203409241': ['pollutionData190583.csv',\n",
       "  'pollutionData192866.csv'],\n",
       " '10.209275766864721_56.17235120664372': ['pollutionData180790.csv'],\n",
       " '10.148131067458962_56.11814500000001': ['pollutionData201961.csv',\n",
       "  'pollutionData197788.csv',\n",
       "  'pollutionData203557.csv'],\n",
       " '10.124126151537894_56.0855852379219': ['pollutionData197951.csv'],\n",
       " '10.183679466270405_56.14984790483175': ['pollutionData181114.csv',\n",
       "  'pollutionData189941.csv'],\n",
       " '10.259584355819698_56.20482701617347': ['pollutionData190555.csv'],\n",
       " '10.293740482139583_56.230013292978384': ['pollutionData190421.csv'],\n",
       " '10.157658842922274_56.13203209461566': ['pollutionData187377.csv',\n",
       "  'pollutionData180735.csv'],\n",
       " '10.25068287483407_56.2026461982616': ['pollutionData190637.csv'],\n",
       " '10.250786139881143_56.20251117218925': ['pollutionData190609.csv',\n",
       "  'pollutionData210199.csv'],\n",
       " '10.182183959489976_56.17389164456407': ['pollutionData185210.csv',\n",
       "  'pollutionData184813.csv',\n",
       "  'pollutionData185263.csv',\n",
       "  'pollutionData193239.csv'],\n",
       " '10.269519082174156_56.2107989833621': ['pollutionData192787.csv',\n",
       "  'pollutionData192734.csv'],\n",
       " '10.161186577298167_56.20869704245814': ['pollutionData158924.csv'],\n",
       " '10.221176473541277_56.17540521083046': ['pollutionData178821.csv'],\n",
       " '10.192792014715224_56.181459995226994': ['pollutionData179256.csv',\n",
       "  'pollutionData204300.csv'],\n",
       " '10.209599775463175_56.14892750591274': ['pollutionData178955.csv',\n",
       "  'pollutionData178983.csv',\n",
       "  'pollutionData190126.csv'],\n",
       " '10.293955058860774_56.229971546821645': ['pollutionData190393.csv'],\n",
       " '10.182616305557303_56.15498346925998': ['pollutionData181088.csv',\n",
       "  'pollutionData188225.csv'],\n",
       " '10.139116813491796_56.1627072781356': ['pollutionData195204.csv'],\n",
       " '10.186652602364234_56.170278565367': ['pollutionData187827.csv',\n",
       "  'pollutionData187880.csv',\n",
       "  'pollutionData184839.csv'],\n",
       " '10.12228671163939_56.11067162844458': ['pollutionData197598.csv',\n",
       "  'pollutionData201722.csv'],\n",
       " '10.169078780426162_56.20103008023493': ['pollutionData190963.csv'],\n",
       " '10.186664830688414_56.139477887997344': ['pollutionData206210.csv'],\n",
       " '10.17839594725615_56.162446952950255': ['pollutionData182792.csv'],\n",
       " '10.223110775463056_56.190387445286476': ['pollutionData193106.csv',\n",
       "  'pollutionData192681.csv',\n",
       "  'pollutionData193159.csv'],\n",
       " '10.13969570304107_56.2149789163549': ['pollutionData158895.csv',\n",
       "  'pollutionData173118.csv'],\n",
       " '10.138347076057471_56.17734056158762': ['pollutionData194905.csv'],\n",
       " '10.180056017196648_56.12437832738177': ['pollutionData198221.csv',\n",
       "  'pollutionData203848.csv',\n",
       "  'pollutionData198193.csv',\n",
       "  'pollutionData203928.csv'],\n",
       " '10.101720288360639_56.18271715899992': ['pollutionData195711.csv',\n",
       "  'pollutionData195658.csv'],\n",
       " '10.083678288360602_56.11996007421442': ['pollutionData197489.csv',\n",
       "  'pollutionData201643.csv',\n",
       "  'pollutionData201696.csv'],\n",
       " '10.207854230653766_56.114487000000004': ['pollutionData201453.csv',\n",
       "  'pollutionData206316.csv',\n",
       "  'pollutionData201481.csv'],\n",
       " '10.218124775463139_56.18655111946821': ['pollutionData178713.csv'],\n",
       " '10.2121812711639_56.16107681293822': ['pollutionData182683.csv'],\n",
       " '10.066129804893535_56.121379546124246': ['pollutionData197463.csv'],\n",
       " '10.20872971106246_56.144719132186395': ['pollutionData179009.csv'],\n",
       " '10.167189431877205_56.21831017223658': ['pollutionData158776.csv'],\n",
       " '10.21333293005955_56.210237386910975': ['pollutionData192492.csv',\n",
       "  'pollutionData192520.csv'],\n",
       " '10.217978235616556_56.18290049276627': ['pollutionData178739.csv'],\n",
       " '10.101564720237775_56.18277313796047': ['pollutionData194960.csv'],\n",
       " '10.20690854480938_56.16813760017301': ['pollutionData182657.csv'],\n",
       " '10.182395559524593_56.108951357622736': ['pollutionData197896.csv',\n",
       "  'pollutionData197868.csv'],\n",
       " '10.072890804893518_56.15469209819657': ['pollutionData197302.csv'],\n",
       " '10.153642402446735_56.110288211786354': ['pollutionData198031.csv'],\n",
       " '10.218226090772646_56.166317200585326': ['pollutionData178847.csv'],\n",
       " '10.154338145998054_56.14051551675728': ['pollutionData180681.csv',\n",
       "  'pollutionData187271.csv'],\n",
       " '10.173023480985648_56.21071820426365': ['pollutionData158836.csv'],\n",
       " '10.110953550926183_56.15328110479527': ['pollutionData182875.csv',\n",
       "  'pollutionData195312.csv'],\n",
       " '10.123139046627102_56.15256095040008': ['pollutionData182929.csv',\n",
       "  'pollutionData182901.csv'],\n",
       " '10.204415905418273_56.14171141881423': ['pollutionData206475.csv',\n",
       "  'pollutionData204060.csv'],\n",
       " '10.077223474868788_56.15962240514419': ['pollutionData195070.csv',\n",
       "  'pollutionData197274.csv'],\n",
       " '10.201380373016264_56.17122707649042': ['pollutionData180872.csv'],\n",
       " '10.161823402446771_56.17304495205962': ['pollutionData179390.csv'],\n",
       " '10.194526468751974_56.16929516572502': ['pollutionData180898.csv'],\n",
       " '10.07716983068849_56.15966870893221': ['pollutionData197328.csv'],\n",
       " '10.27770202943043_56.21155278296297': ['pollutionData190447.csv'],\n",
       " '10.161038385250095_56.20852026816215': ['pollutionData158983.csv']}"
      ]
     },
     "execution_count": 49,
     "metadata": {},
     "output_type": "execute_result"
    }
   ],
   "source": [
    "sensor_map"
   ]
  },
  {
   "cell_type": "code",
   "execution_count": null,
   "id": "f1d2d445-f298-48a5-9b93-2c4afe58e23f",
   "metadata": {},
   "outputs": [],
   "source": []
  }
 ],
 "metadata": {
  "kernelspec": {
   "display_name": "Python 3 (ipykernel)",
   "language": "python",
   "name": "python3"
  },
  "language_info": {
   "codemirror_mode": {
    "name": "ipython",
    "version": 3
   },
   "file_extension": ".py",
   "mimetype": "text/x-python",
   "name": "python",
   "nbconvert_exporter": "python",
   "pygments_lexer": "ipython3",
   "version": "3.9.10"
  }
 },
 "nbformat": 4,
 "nbformat_minor": 5
}
