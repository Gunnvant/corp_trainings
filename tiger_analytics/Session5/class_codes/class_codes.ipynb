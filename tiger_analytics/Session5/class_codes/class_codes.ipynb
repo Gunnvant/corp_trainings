{
 "cells": [
  {
   "cell_type": "markdown",
   "id": "8a2a5a37-ab5c-46da-91e4-35fc27dd6283",
   "metadata": {},
   "source": [
    "Consider the data set [audit.csv](https://raw.githubusercontent.com/Gunnvant/PythonForModellers/master/Data/audit.csv), it has characteristics of 2000 tax returns, the data set includes the following variables:\n",
    "- ID: Unique Identifier for each person\n",
    "- Age: Age of person\n",
    "- Employment: Type of Employment\n",
    "- Education: Highest level of education\n",
    "- Marital: Current Marital Status\n",
    "- Occupation: Type of occupation\n",
    "- Income: Amount of Income declared\n",
    "- Gender: Gender of Person\n",
    "- Deductions: Total amount of expenses that a person claims in their financial statements\n",
    "- Hours: Average hours worked on a weekly basis\n",
    "- RISK_Adjustment: The continuous target variable; this variable records the monetary amount of any adjustment to the person’s financial claims as a result of a productive audit. This variable is a measure of the size of the risk associated with the person.\n",
    "- TARGET_Adjusted: The binary target variable for classification modeling (0/1), indicating nonproductive and productive audits, respectively. Productive audits are those that result in an adjustment being made to a client’s financial statement.\n",
    "\n",
    "**Q1. Compute the %age of productive audits across**\n",
    "\n",
    "(a) Gender\n",
    "(b) Marital Status\n",
    "(c) Education level\n",
    "\n",
    "**Q2: Find the quartiles for**: \n",
    "\n",
    "(a) Age\n",
    "(b) Income\n",
    "\n"
   ]
  },
  {
   "cell_type": "code",
   "execution_count": 1,
   "id": "c18058bd-5b35-46a6-b9eb-c6d7b7359233",
   "metadata": {},
   "outputs": [],
   "source": [
    "path = \"https://raw.githubusercontent.com/Gunnvant/PythonForModellers/master/Data/audit.csv\"\n",
    "import pandas as pd\n",
    "data = pd.read_csv(path)"
   ]
  },
  {
   "cell_type": "code",
   "execution_count": 2,
   "id": "e58cc801-3854-4ac8-b90f-98234577870b",
   "metadata": {},
   "outputs": [
    {
     "data": {
      "text/html": [
       "<div>\n",
       "<style scoped>\n",
       "    .dataframe tbody tr th:only-of-type {\n",
       "        vertical-align: middle;\n",
       "    }\n",
       "\n",
       "    .dataframe tbody tr th {\n",
       "        vertical-align: top;\n",
       "    }\n",
       "\n",
       "    .dataframe thead th {\n",
       "        text-align: right;\n",
       "    }\n",
       "</style>\n",
       "<table border=\"1\" class=\"dataframe\">\n",
       "  <thead>\n",
       "    <tr style=\"text-align: right;\">\n",
       "      <th></th>\n",
       "      <th>ID</th>\n",
       "      <th>Age</th>\n",
       "      <th>Employment</th>\n",
       "      <th>Education</th>\n",
       "      <th>Marital</th>\n",
       "      <th>Occupation</th>\n",
       "      <th>Income</th>\n",
       "      <th>Gender</th>\n",
       "      <th>Deductions</th>\n",
       "      <th>Hours</th>\n",
       "      <th>RISK_Adjustment</th>\n",
       "      <th>TARGET_Adjusted</th>\n",
       "    </tr>\n",
       "  </thead>\n",
       "  <tbody>\n",
       "    <tr>\n",
       "      <th>0</th>\n",
       "      <td>1004641</td>\n",
       "      <td>38</td>\n",
       "      <td>Private</td>\n",
       "      <td>College</td>\n",
       "      <td>Unmarried</td>\n",
       "      <td>Service</td>\n",
       "      <td>81838.0</td>\n",
       "      <td>Female</td>\n",
       "      <td>0.0</td>\n",
       "      <td>72</td>\n",
       "      <td>0</td>\n",
       "      <td>0</td>\n",
       "    </tr>\n",
       "    <tr>\n",
       "      <th>1</th>\n",
       "      <td>1010229</td>\n",
       "      <td>35</td>\n",
       "      <td>Private</td>\n",
       "      <td>Associate</td>\n",
       "      <td>Absent</td>\n",
       "      <td>Transport</td>\n",
       "      <td>72099.0</td>\n",
       "      <td>Male</td>\n",
       "      <td>0.0</td>\n",
       "      <td>30</td>\n",
       "      <td>0</td>\n",
       "      <td>0</td>\n",
       "    </tr>\n",
       "  </tbody>\n",
       "</table>\n",
       "</div>"
      ],
      "text/plain": [
       "        ID  Age Employment  Education    Marital Occupation   Income  Gender  \\\n",
       "0  1004641   38    Private    College  Unmarried    Service  81838.0  Female   \n",
       "1  1010229   35    Private  Associate     Absent  Transport  72099.0    Male   \n",
       "\n",
       "   Deductions  Hours  RISK_Adjustment  TARGET_Adjusted  \n",
       "0         0.0     72                0                0  \n",
       "1         0.0     30                0                0  "
      ]
     },
     "execution_count": 2,
     "metadata": {},
     "output_type": "execute_result"
    }
   ],
   "source": [
    "data.head(2)"
   ]
  },
  {
   "cell_type": "code",
   "execution_count": 3,
   "id": "c582a07c-c7b7-4973-95cd-c0822a01932f",
   "metadata": {},
   "outputs": [
    {
     "data": {
      "text/html": [
       "<div>\n",
       "<style scoped>\n",
       "    .dataframe tbody tr th:only-of-type {\n",
       "        vertical-align: middle;\n",
       "    }\n",
       "\n",
       "    .dataframe tbody tr th {\n",
       "        vertical-align: top;\n",
       "    }\n",
       "\n",
       "    .dataframe thead th {\n",
       "        text-align: right;\n",
       "    }\n",
       "</style>\n",
       "<table border=\"1\" class=\"dataframe\">\n",
       "  <thead>\n",
       "    <tr style=\"text-align: right;\">\n",
       "      <th></th>\n",
       "      <th>TARGET_Adjusted</th>\n",
       "    </tr>\n",
       "    <tr>\n",
       "      <th>Gender</th>\n",
       "      <th></th>\n",
       "    </tr>\n",
       "  </thead>\n",
       "  <tbody>\n",
       "    <tr>\n",
       "      <th>Female</th>\n",
       "      <td>0.107595</td>\n",
       "    </tr>\n",
       "    <tr>\n",
       "      <th>Male</th>\n",
       "      <td>0.288743</td>\n",
       "    </tr>\n",
       "  </tbody>\n",
       "</table>\n",
       "</div>"
      ],
      "text/plain": [
       "        TARGET_Adjusted\n",
       "Gender                 \n",
       "Female         0.107595\n",
       "Male           0.288743"
      ]
     },
     "execution_count": 3,
     "metadata": {},
     "output_type": "execute_result"
    }
   ],
   "source": [
    "data.groupby('Gender').agg({'TARGET_Adjusted':'mean'})"
   ]
  },
  {
   "cell_type": "code",
   "execution_count": 4,
   "id": "7397c24d-6efb-4412-aaa6-50a207afe610",
   "metadata": {},
   "outputs": [
    {
     "data": {
      "text/html": [
       "<div>\n",
       "<style scoped>\n",
       "    .dataframe tbody tr th:only-of-type {\n",
       "        vertical-align: middle;\n",
       "    }\n",
       "\n",
       "    .dataframe tbody tr th {\n",
       "        vertical-align: top;\n",
       "    }\n",
       "\n",
       "    .dataframe thead th {\n",
       "        text-align: right;\n",
       "    }\n",
       "</style>\n",
       "<table border=\"1\" class=\"dataframe\">\n",
       "  <thead>\n",
       "    <tr style=\"text-align: right;\">\n",
       "      <th></th>\n",
       "      <th>TARGET_Adjusted</th>\n",
       "    </tr>\n",
       "    <tr>\n",
       "      <th>Marital</th>\n",
       "      <th></th>\n",
       "    </tr>\n",
       "  </thead>\n",
       "  <tbody>\n",
       "    <tr>\n",
       "      <th>Absent</th>\n",
       "      <td>0.044843</td>\n",
       "    </tr>\n",
       "    <tr>\n",
       "      <th>Divorced</th>\n",
       "      <td>0.075188</td>\n",
       "    </tr>\n",
       "    <tr>\n",
       "      <th>Married</th>\n",
       "      <td>0.438386</td>\n",
       "    </tr>\n",
       "    <tr>\n",
       "      <th>Married-spouse-absent</th>\n",
       "      <td>0.090909</td>\n",
       "    </tr>\n",
       "    <tr>\n",
       "      <th>Unmarried</th>\n",
       "      <td>0.074627</td>\n",
       "    </tr>\n",
       "    <tr>\n",
       "      <th>Widowed</th>\n",
       "      <td>0.067797</td>\n",
       "    </tr>\n",
       "  </tbody>\n",
       "</table>\n",
       "</div>"
      ],
      "text/plain": [
       "                       TARGET_Adjusted\n",
       "Marital                               \n",
       "Absent                        0.044843\n",
       "Divorced                      0.075188\n",
       "Married                       0.438386\n",
       "Married-spouse-absent         0.090909\n",
       "Unmarried                     0.074627\n",
       "Widowed                       0.067797"
      ]
     },
     "execution_count": 4,
     "metadata": {},
     "output_type": "execute_result"
    }
   ],
   "source": [
    "data.groupby('Marital').agg({'TARGET_Adjusted':'mean'})"
   ]
  },
  {
   "cell_type": "code",
   "execution_count": 5,
   "id": "cb1cfe0a-59a9-4339-80ce-4831a284964b",
   "metadata": {},
   "outputs": [
    {
     "data": {
      "text/html": [
       "<div>\n",
       "<style scoped>\n",
       "    .dataframe tbody tr th:only-of-type {\n",
       "        vertical-align: middle;\n",
       "    }\n",
       "\n",
       "    .dataframe tbody tr th {\n",
       "        vertical-align: top;\n",
       "    }\n",
       "\n",
       "    .dataframe thead th {\n",
       "        text-align: right;\n",
       "    }\n",
       "</style>\n",
       "<table border=\"1\" class=\"dataframe\">\n",
       "  <thead>\n",
       "    <tr style=\"text-align: right;\">\n",
       "      <th></th>\n",
       "      <th>TARGET_Adjusted</th>\n",
       "    </tr>\n",
       "    <tr>\n",
       "      <th>Education</th>\n",
       "      <th></th>\n",
       "    </tr>\n",
       "  </thead>\n",
       "  <tbody>\n",
       "    <tr>\n",
       "      <th>Associate</th>\n",
       "      <td>0.304348</td>\n",
       "    </tr>\n",
       "    <tr>\n",
       "      <th>Bachelor</th>\n",
       "      <td>0.423188</td>\n",
       "    </tr>\n",
       "    <tr>\n",
       "      <th>College</th>\n",
       "      <td>0.178733</td>\n",
       "    </tr>\n",
       "    <tr>\n",
       "      <th>Doctorate</th>\n",
       "      <td>0.629630</td>\n",
       "    </tr>\n",
       "    <tr>\n",
       "      <th>HSgrad</th>\n",
       "      <td>0.151515</td>\n",
       "    </tr>\n",
       "    <tr>\n",
       "      <th>Master</th>\n",
       "      <td>0.558824</td>\n",
       "    </tr>\n",
       "    <tr>\n",
       "      <th>Preschool</th>\n",
       "      <td>0.000000</td>\n",
       "    </tr>\n",
       "    <tr>\n",
       "      <th>Professional</th>\n",
       "      <td>0.708333</td>\n",
       "    </tr>\n",
       "    <tr>\n",
       "      <th>Vocational</th>\n",
       "      <td>0.174419</td>\n",
       "    </tr>\n",
       "    <tr>\n",
       "      <th>Yr10</th>\n",
       "      <td>0.068966</td>\n",
       "    </tr>\n",
       "    <tr>\n",
       "      <th>Yr11</th>\n",
       "      <td>0.040541</td>\n",
       "    </tr>\n",
       "    <tr>\n",
       "      <th>Yr12</th>\n",
       "      <td>0.058824</td>\n",
       "    </tr>\n",
       "    <tr>\n",
       "      <th>Yr1t4</th>\n",
       "      <td>0.000000</td>\n",
       "    </tr>\n",
       "    <tr>\n",
       "      <th>Yr5t6</th>\n",
       "      <td>0.086957</td>\n",
       "    </tr>\n",
       "    <tr>\n",
       "      <th>Yr7t8</th>\n",
       "      <td>0.000000</td>\n",
       "    </tr>\n",
       "    <tr>\n",
       "      <th>Yr9</th>\n",
       "      <td>0.037037</td>\n",
       "    </tr>\n",
       "  </tbody>\n",
       "</table>\n",
       "</div>"
      ],
      "text/plain": [
       "              TARGET_Adjusted\n",
       "Education                    \n",
       "Associate            0.304348\n",
       "Bachelor             0.423188\n",
       "College              0.178733\n",
       "Doctorate            0.629630\n",
       "HSgrad               0.151515\n",
       "Master               0.558824\n",
       "Preschool            0.000000\n",
       "Professional         0.708333\n",
       "Vocational           0.174419\n",
       "Yr10                 0.068966\n",
       "Yr11                 0.040541\n",
       "Yr12                 0.058824\n",
       "Yr1t4                0.000000\n",
       "Yr5t6                0.086957\n",
       "Yr7t8                0.000000\n",
       "Yr9                  0.037037"
      ]
     },
     "execution_count": 5,
     "metadata": {},
     "output_type": "execute_result"
    }
   ],
   "source": [
    "data.groupby('Education').agg({'TARGET_Adjusted':'mean'})"
   ]
  },
  {
   "cell_type": "code",
   "execution_count": 6,
   "id": "e3cc804e-5376-4e1e-9aeb-df7d69d2e404",
   "metadata": {},
   "outputs": [
    {
     "data": {
      "text/html": [
       "<div>\n",
       "<style scoped>\n",
       "    .dataframe tbody tr th:only-of-type {\n",
       "        vertical-align: middle;\n",
       "    }\n",
       "\n",
       "    .dataframe tbody tr th {\n",
       "        vertical-align: top;\n",
       "    }\n",
       "\n",
       "    .dataframe thead th {\n",
       "        text-align: right;\n",
       "    }\n",
       "</style>\n",
       "<table border=\"1\" class=\"dataframe\">\n",
       "  <thead>\n",
       "    <tr style=\"text-align: right;\">\n",
       "      <th></th>\n",
       "      <th>ID</th>\n",
       "      <th>Age</th>\n",
       "      <th>Employment</th>\n",
       "      <th>Education</th>\n",
       "      <th>Marital</th>\n",
       "      <th>Occupation</th>\n",
       "      <th>Income</th>\n",
       "      <th>Gender</th>\n",
       "      <th>Deductions</th>\n",
       "      <th>Hours</th>\n",
       "      <th>RISK_Adjustment</th>\n",
       "      <th>TARGET_Adjusted</th>\n",
       "    </tr>\n",
       "  </thead>\n",
       "  <tbody>\n",
       "    <tr>\n",
       "      <th>0</th>\n",
       "      <td>1004641</td>\n",
       "      <td>38</td>\n",
       "      <td>Private</td>\n",
       "      <td>College</td>\n",
       "      <td>Unmarried</td>\n",
       "      <td>Service</td>\n",
       "      <td>81838.0</td>\n",
       "      <td>Female</td>\n",
       "      <td>0.0</td>\n",
       "      <td>72</td>\n",
       "      <td>0</td>\n",
       "      <td>0</td>\n",
       "    </tr>\n",
       "    <tr>\n",
       "      <th>1</th>\n",
       "      <td>1010229</td>\n",
       "      <td>35</td>\n",
       "      <td>Private</td>\n",
       "      <td>Associate</td>\n",
       "      <td>Absent</td>\n",
       "      <td>Transport</td>\n",
       "      <td>72099.0</td>\n",
       "      <td>Male</td>\n",
       "      <td>0.0</td>\n",
       "      <td>30</td>\n",
       "      <td>0</td>\n",
       "      <td>0</td>\n",
       "    </tr>\n",
       "  </tbody>\n",
       "</table>\n",
       "</div>"
      ],
      "text/plain": [
       "        ID  Age Employment  Education    Marital Occupation   Income  Gender  \\\n",
       "0  1004641   38    Private    College  Unmarried    Service  81838.0  Female   \n",
       "1  1010229   35    Private  Associate     Absent  Transport  72099.0    Male   \n",
       "\n",
       "   Deductions  Hours  RISK_Adjustment  TARGET_Adjusted  \n",
       "0         0.0     72                0                0  \n",
       "1         0.0     30                0                0  "
      ]
     },
     "execution_count": 6,
     "metadata": {},
     "output_type": "execute_result"
    }
   ],
   "source": [
    "data.head(2)"
   ]
  },
  {
   "cell_type": "code",
   "execution_count": 9,
   "id": "f89ccf74-8fc0-4f2a-b066-bbae336a48db",
   "metadata": {},
   "outputs": [
    {
     "data": {
      "text/plain": [
       "28.0"
      ]
     },
     "execution_count": 9,
     "metadata": {},
     "output_type": "execute_result"
    }
   ],
   "source": [
    "## Q1, <=25%\n",
    "## Q2, <=50%-Median\n",
    "## Q3, <=75%\n",
    "data['Age'].quantile(0.25)"
   ]
  },
  {
   "cell_type": "code",
   "execution_count": 11,
   "id": "502faef0-735b-4a77-8b3c-7e37114ce08f",
   "metadata": {},
   "outputs": [
    {
     "data": {
      "text/plain": [
       "37.0"
      ]
     },
     "execution_count": 11,
     "metadata": {},
     "output_type": "execute_result"
    }
   ],
   "source": [
    "data['Age'].quantile(0.5)"
   ]
  },
  {
   "cell_type": "code",
   "execution_count": 12,
   "id": "646d12f7-6cc0-431d-bdff-7155513e5cea",
   "metadata": {},
   "outputs": [
    {
     "data": {
      "text/plain": [
       "48.0"
      ]
     },
     "execution_count": 12,
     "metadata": {},
     "output_type": "execute_result"
    }
   ],
   "source": [
    "data['Age'].quantile(0.75)"
   ]
  },
  {
   "cell_type": "markdown",
   "id": "ed49a16f-43a8-4e32-bba9-ab2d8f679afc",
   "metadata": {},
   "source": [
    "### Tabular Data Manipulation\n",
    "- Filter\n",
    "- Sort\n",
    "- Groupby tasks\n",
    "\n",
    "### Today\n",
    "\n",
    "- Date information (how to deal with dates)\n",
    "- Loop through a df or a column of a dataframe and clean data/do some operations\n",
    "- How to join the dataframes in a style similar to sql"
   ]
  },
  {
   "cell_type": "code",
   "execution_count": 13,
   "id": "83e0205d-92a1-4f9e-a5bf-bec383c77593",
   "metadata": {},
   "outputs": [],
   "source": [
    "path = \"/Users/gunnvantsaini/Library/CloudStorage/OneDrive-Personal/Work/Vired/Content/corp_trainings/tiger_analytics/data/stores.csv\"\n",
    "stores = pd.read_csv(path)"
   ]
  },
  {
   "cell_type": "code",
   "execution_count": 15,
   "id": "7f4bb4e4-3089-43fe-bc76-45e902818b50",
   "metadata": {},
   "outputs": [
    {
     "data": {
      "text/html": [
       "<div>\n",
       "<style scoped>\n",
       "    .dataframe tbody tr th:only-of-type {\n",
       "        vertical-align: middle;\n",
       "    }\n",
       "\n",
       "    .dataframe tbody tr th {\n",
       "        vertical-align: top;\n",
       "    }\n",
       "\n",
       "    .dataframe thead th {\n",
       "        text-align: right;\n",
       "    }\n",
       "</style>\n",
       "<table border=\"1\" class=\"dataframe\">\n",
       "  <thead>\n",
       "    <tr style=\"text-align: right;\">\n",
       "      <th></th>\n",
       "      <th>Row ID</th>\n",
       "      <th>Order ID</th>\n",
       "      <th>Order Date</th>\n",
       "      <th>Ship Date</th>\n",
       "      <th>Ship Mode</th>\n",
       "      <th>Customer ID</th>\n",
       "      <th>Customer Name</th>\n",
       "      <th>Segment</th>\n",
       "      <th>Country</th>\n",
       "      <th>City</th>\n",
       "      <th>...</th>\n",
       "      <th>Postal Code</th>\n",
       "      <th>Region</th>\n",
       "      <th>Product ID</th>\n",
       "      <th>Category</th>\n",
       "      <th>Sub-Category</th>\n",
       "      <th>Product Name</th>\n",
       "      <th>Sales</th>\n",
       "      <th>Quantity</th>\n",
       "      <th>Discount</th>\n",
       "      <th>Profit</th>\n",
       "    </tr>\n",
       "  </thead>\n",
       "  <tbody>\n",
       "    <tr>\n",
       "      <th>0</th>\n",
       "      <td>1</td>\n",
       "      <td>CA-2013-152156</td>\n",
       "      <td>11-09-2013</td>\n",
       "      <td>11-12-2013</td>\n",
       "      <td>Second Class</td>\n",
       "      <td>CG-12520</td>\n",
       "      <td>Claire Gute</td>\n",
       "      <td>Consumer</td>\n",
       "      <td>United States</td>\n",
       "      <td>Henderson</td>\n",
       "      <td>...</td>\n",
       "      <td>42420</td>\n",
       "      <td>South</td>\n",
       "      <td>FUR-BO-10001798</td>\n",
       "      <td>Furniture</td>\n",
       "      <td>Bookcases</td>\n",
       "      <td>Bush Somerset Collection Bookcase</td>\n",
       "      <td>261.96</td>\n",
       "      <td>2</td>\n",
       "      <td>0.0</td>\n",
       "      <td>41.9136</td>\n",
       "    </tr>\n",
       "    <tr>\n",
       "      <th>1</th>\n",
       "      <td>2</td>\n",
       "      <td>CA-2013-152156</td>\n",
       "      <td>11-09-2013</td>\n",
       "      <td>11-12-2013</td>\n",
       "      <td>Second Class</td>\n",
       "      <td>CG-12520</td>\n",
       "      <td>Claire Gute</td>\n",
       "      <td>Consumer</td>\n",
       "      <td>United States</td>\n",
       "      <td>Henderson</td>\n",
       "      <td>...</td>\n",
       "      <td>42420</td>\n",
       "      <td>South</td>\n",
       "      <td>FUR-CH-10000454</td>\n",
       "      <td>Furniture</td>\n",
       "      <td>Chairs</td>\n",
       "      <td>Hon Deluxe Fabric Upholstered Stacking Chairs,...</td>\n",
       "      <td>731.94</td>\n",
       "      <td>3</td>\n",
       "      <td>0.0</td>\n",
       "      <td>219.5820</td>\n",
       "    </tr>\n",
       "  </tbody>\n",
       "</table>\n",
       "<p>2 rows × 21 columns</p>\n",
       "</div>"
      ],
      "text/plain": [
       "   Row ID        Order ID  Order Date   Ship Date     Ship Mode Customer ID  \\\n",
       "0       1  CA-2013-152156  11-09-2013  11-12-2013  Second Class    CG-12520   \n",
       "1       2  CA-2013-152156  11-09-2013  11-12-2013  Second Class    CG-12520   \n",
       "\n",
       "  Customer Name   Segment        Country       City  ... Postal Code  Region  \\\n",
       "0   Claire Gute  Consumer  United States  Henderson  ...       42420   South   \n",
       "1   Claire Gute  Consumer  United States  Henderson  ...       42420   South   \n",
       "\n",
       "        Product ID   Category Sub-Category  \\\n",
       "0  FUR-BO-10001798  Furniture    Bookcases   \n",
       "1  FUR-CH-10000454  Furniture       Chairs   \n",
       "\n",
       "                                        Product Name   Sales  Quantity  \\\n",
       "0                  Bush Somerset Collection Bookcase  261.96         2   \n",
       "1  Hon Deluxe Fabric Upholstered Stacking Chairs,...  731.94         3   \n",
       "\n",
       "   Discount    Profit  \n",
       "0       0.0   41.9136  \n",
       "1       0.0  219.5820  \n",
       "\n",
       "[2 rows x 21 columns]"
      ]
     },
     "execution_count": 15,
     "metadata": {},
     "output_type": "execute_result"
    }
   ],
   "source": [
    "stores.head(2)"
   ]
  },
  {
   "cell_type": "code",
   "execution_count": 21,
   "id": "b2907efa-e8d7-4802-a6e7-dc0ca1a872ec",
   "metadata": {},
   "outputs": [],
   "source": [
    "stores['Order Date']=pd.to_datetime(stores['Order Date'])"
   ]
  },
  {
   "cell_type": "code",
   "execution_count": 23,
   "id": "5eccd3db-e089-4455-9254-a7ae39b0dd08",
   "metadata": {},
   "outputs": [],
   "source": [
    "stores['Ship Date'] = pd.to_datetime(stores['Ship Date'])"
   ]
  },
  {
   "cell_type": "code",
   "execution_count": 24,
   "id": "e734d76d-10e6-42fd-a159-04feb4c59019",
   "metadata": {},
   "outputs": [
    {
     "data": {
      "text/plain": [
       "Row ID                    int64\n",
       "Order ID                 object\n",
       "Order Date       datetime64[ns]\n",
       "Ship Date        datetime64[ns]\n",
       "Ship Mode                object\n",
       "Customer ID              object\n",
       "Customer Name            object\n",
       "Segment                  object\n",
       "Country                  object\n",
       "City                     object\n",
       "State                    object\n",
       "Postal Code               int64\n",
       "Region                   object\n",
       "Product ID               object\n",
       "Category                 object\n",
       "Sub-Category             object\n",
       "Product Name             object\n",
       "Sales                   float64\n",
       "Quantity                  int64\n",
       "Discount                float64\n",
       "Profit                  float64\n",
       "dtype: object"
      ]
     },
     "execution_count": 24,
     "metadata": {},
     "output_type": "execute_result"
    }
   ],
   "source": [
    "stores.dtypes"
   ]
  },
  {
   "cell_type": "code",
   "execution_count": 26,
   "id": "843bfe4a-b800-49f7-874b-49564fa8c870",
   "metadata": {},
   "outputs": [
    {
     "data": {
      "text/plain": [
       "0       11\n",
       "1       11\n",
       "2        6\n",
       "3       10\n",
       "4       10\n",
       "        ..\n",
       "9989     1\n",
       "9990     2\n",
       "9991     2\n",
       "9992     2\n",
       "9993     5\n",
       "Name: Order Date, Length: 9994, dtype: int64"
      ]
     },
     "execution_count": 26,
     "metadata": {},
     "output_type": "execute_result"
    }
   ],
   "source": [
    "stores['Order Date'].dt.month"
   ]
  },
  {
   "cell_type": "code",
   "execution_count": 27,
   "id": "d0647974-8694-47a5-af63-287e60aadd77",
   "metadata": {},
   "outputs": [
    {
     "data": {
      "text/plain": [
       "0       2013\n",
       "1       2013\n",
       "2       2013\n",
       "3       2012\n",
       "4       2012\n",
       "        ... \n",
       "9989    2011\n",
       "9990    2014\n",
       "9991    2014\n",
       "9992    2014\n",
       "9993    2014\n",
       "Name: Order Date, Length: 9994, dtype: int64"
      ]
     },
     "execution_count": 27,
     "metadata": {},
     "output_type": "execute_result"
    }
   ],
   "source": [
    "stores['Order Date'].dt.year"
   ]
  },
  {
   "cell_type": "code",
   "execution_count": 28,
   "id": "2ce42f3b-3807-4a50-8a1e-7b36cbcad77c",
   "metadata": {},
   "outputs": [
    {
     "name": "stderr",
     "output_type": "stream",
     "text": [
      "/var/folders/7h/01sjg2sx6tl3y72r2klm24c80000gn/T/ipykernel_23590/3474227015.py:1: FutureWarning: Series.dt.weekofyear and Series.dt.week have been deprecated.  Please use Series.dt.isocalendar().week instead.\n",
      "  stores['Order Date'].dt.week\n"
     ]
    },
    {
     "data": {
      "text/plain": [
       "0       45\n",
       "1       45\n",
       "2       24\n",
       "3       41\n",
       "4       41\n",
       "        ..\n",
       "9989     3\n",
       "9990     9\n",
       "9991     9\n",
       "9992     9\n",
       "9993    19\n",
       "Name: Order Date, Length: 9994, dtype: int64"
      ]
     },
     "execution_count": 28,
     "metadata": {},
     "output_type": "execute_result"
    }
   ],
   "source": [
    "stores['Order Date'].dt.week"
   ]
  },
  {
   "cell_type": "code",
   "execution_count": 31,
   "id": "f5a1dda5-91cf-49fe-b250-a4b16ab712f7",
   "metadata": {},
   "outputs": [
    {
     "data": {
      "text/plain": [
       "0       5\n",
       "1       5\n",
       "2       3\n",
       "3       3\n",
       "4       3\n",
       "       ..\n",
       "9989    5\n",
       "9990    3\n",
       "9991    3\n",
       "9992    3\n",
       "9993    0\n",
       "Name: Order Date, Length: 9994, dtype: int64"
      ]
     },
     "execution_count": 31,
     "metadata": {},
     "output_type": "execute_result"
    }
   ],
   "source": [
    "stores['Order Date'].dt.weekday ## Monday 0, Sunday 6"
   ]
  },
  {
   "cell_type": "markdown",
   "id": "1dffec2a-812a-4d58-8aa8-d3d3a3ed1b8c",
   "metadata": {},
   "source": [
    "### Class Excercise: Flight Delays Dataset\n",
    "\n",
    "**Load the data set FlightDelays, the data has information on the flights over the year 2004 and if a particular flight was delayed or not.**\n",
    "1. Find out the number of delayed flights for all weekdays\n",
    "2. Find the average distance, total distance and count for all delayed flights on Friday.\n",
    "3. Find out how many flights were on time on Week days and Weekends (Consider Saturday and Sunday as weekends)\n",
    "4. Find out the number of flights for each destination across all weekdays\n",
    "5. Find out the number of times weather was bad across all weekdays. (1 indicates bad weather)\n"
   ]
  },
  {
   "cell_type": "code",
   "execution_count": 32,
   "id": "11ac2639-fac8-46a0-a514-ceeb6d904499",
   "metadata": {},
   "outputs": [],
   "source": [
    "path = \"/Users/gunnvantsaini/Library/CloudStorage/OneDrive-Personal/Work/Vired/Content/corp_trainings/tiger_analytics/data/FlightDelays.csv\""
   ]
  },
  {
   "cell_type": "code",
   "execution_count": 33,
   "id": "7e36a473-51a1-409e-b247-fe5643c06d16",
   "metadata": {},
   "outputs": [
    {
     "data": {
      "text/html": [
       "<div>\n",
       "<style scoped>\n",
       "    .dataframe tbody tr th:only-of-type {\n",
       "        vertical-align: middle;\n",
       "    }\n",
       "\n",
       "    .dataframe tbody tr th {\n",
       "        vertical-align: top;\n",
       "    }\n",
       "\n",
       "    .dataframe thead th {\n",
       "        text-align: right;\n",
       "    }\n",
       "</style>\n",
       "<table border=\"1\" class=\"dataframe\">\n",
       "  <thead>\n",
       "    <tr style=\"text-align: right;\">\n",
       "      <th></th>\n",
       "      <th>schedtime</th>\n",
       "      <th>carrier</th>\n",
       "      <th>deptime</th>\n",
       "      <th>dest</th>\n",
       "      <th>distance</th>\n",
       "      <th>date</th>\n",
       "      <th>flightnumber</th>\n",
       "      <th>origin</th>\n",
       "      <th>weather</th>\n",
       "      <th>tailnu</th>\n",
       "      <th>delay</th>\n",
       "    </tr>\n",
       "  </thead>\n",
       "  <tbody>\n",
       "    <tr>\n",
       "      <th>0</th>\n",
       "      <td>1455</td>\n",
       "      <td>OH</td>\n",
       "      <td>1455</td>\n",
       "      <td>JFK</td>\n",
       "      <td>184</td>\n",
       "      <td>01-01-2004</td>\n",
       "      <td>5935</td>\n",
       "      <td>BWI</td>\n",
       "      <td>0</td>\n",
       "      <td>N940CA</td>\n",
       "      <td>ontime</td>\n",
       "    </tr>\n",
       "    <tr>\n",
       "      <th>1</th>\n",
       "      <td>1640</td>\n",
       "      <td>DH</td>\n",
       "      <td>1640</td>\n",
       "      <td>JFK</td>\n",
       "      <td>213</td>\n",
       "      <td>01-01-2004</td>\n",
       "      <td>6155</td>\n",
       "      <td>DCA</td>\n",
       "      <td>0</td>\n",
       "      <td>N405FJ</td>\n",
       "      <td>ontime</td>\n",
       "    </tr>\n",
       "  </tbody>\n",
       "</table>\n",
       "</div>"
      ],
      "text/plain": [
       "   schedtime carrier  deptime dest  distance        date  flightnumber origin  \\\n",
       "0       1455      OH     1455  JFK       184  01-01-2004          5935    BWI   \n",
       "1       1640      DH     1640  JFK       213  01-01-2004          6155    DCA   \n",
       "\n",
       "   weather  tailnu   delay  \n",
       "0        0  N940CA  ontime  \n",
       "1        0  N405FJ  ontime  "
      ]
     },
     "execution_count": 33,
     "metadata": {},
     "output_type": "execute_result"
    }
   ],
   "source": [
    "fd = pd.read_csv(path)\n",
    "fd.head(2)"
   ]
  },
  {
   "cell_type": "code",
   "execution_count": 34,
   "id": "3d560067-45e3-4eea-bfb0-ae7bc80efc16",
   "metadata": {},
   "outputs": [],
   "source": [
    "fd['date'] = pd.to_datetime(fd['date'])"
   ]
  },
  {
   "cell_type": "code",
   "execution_count": 37,
   "id": "f6ad49dd-074f-4671-88ee-9bc5d4967138",
   "metadata": {},
   "outputs": [],
   "source": [
    "fd['dayofweek'] = fd['date'].dt.weekday"
   ]
  },
  {
   "cell_type": "code",
   "execution_count": 38,
   "id": "294d9e35-c3cd-49f4-8725-d309785c94f1",
   "metadata": {},
   "outputs": [
    {
     "data": {
      "text/html": [
       "<div>\n",
       "<style scoped>\n",
       "    .dataframe tbody tr th:only-of-type {\n",
       "        vertical-align: middle;\n",
       "    }\n",
       "\n",
       "    .dataframe tbody tr th {\n",
       "        vertical-align: top;\n",
       "    }\n",
       "\n",
       "    .dataframe thead th {\n",
       "        text-align: right;\n",
       "    }\n",
       "</style>\n",
       "<table border=\"1\" class=\"dataframe\">\n",
       "  <thead>\n",
       "    <tr style=\"text-align: right;\">\n",
       "      <th></th>\n",
       "      <th>schedtime</th>\n",
       "      <th>carrier</th>\n",
       "      <th>deptime</th>\n",
       "      <th>dest</th>\n",
       "      <th>distance</th>\n",
       "      <th>date</th>\n",
       "      <th>flightnumber</th>\n",
       "      <th>origin</th>\n",
       "      <th>weather</th>\n",
       "      <th>tailnu</th>\n",
       "      <th>delay</th>\n",
       "      <th>dayofweek</th>\n",
       "    </tr>\n",
       "  </thead>\n",
       "  <tbody>\n",
       "    <tr>\n",
       "      <th>0</th>\n",
       "      <td>1455</td>\n",
       "      <td>OH</td>\n",
       "      <td>1455</td>\n",
       "      <td>JFK</td>\n",
       "      <td>184</td>\n",
       "      <td>2004-01-01</td>\n",
       "      <td>5935</td>\n",
       "      <td>BWI</td>\n",
       "      <td>0</td>\n",
       "      <td>N940CA</td>\n",
       "      <td>ontime</td>\n",
       "      <td>3</td>\n",
       "    </tr>\n",
       "    <tr>\n",
       "      <th>1</th>\n",
       "      <td>1640</td>\n",
       "      <td>DH</td>\n",
       "      <td>1640</td>\n",
       "      <td>JFK</td>\n",
       "      <td>213</td>\n",
       "      <td>2004-01-01</td>\n",
       "      <td>6155</td>\n",
       "      <td>DCA</td>\n",
       "      <td>0</td>\n",
       "      <td>N405FJ</td>\n",
       "      <td>ontime</td>\n",
       "      <td>3</td>\n",
       "    </tr>\n",
       "  </tbody>\n",
       "</table>\n",
       "</div>"
      ],
      "text/plain": [
       "   schedtime carrier  deptime dest  distance       date  flightnumber origin  \\\n",
       "0       1455      OH     1455  JFK       184 2004-01-01          5935    BWI   \n",
       "1       1640      DH     1640  JFK       213 2004-01-01          6155    DCA   \n",
       "\n",
       "   weather  tailnu   delay  dayofweek  \n",
       "0        0  N940CA  ontime          3  \n",
       "1        0  N405FJ  ontime          3  "
      ]
     },
     "execution_count": 38,
     "metadata": {},
     "output_type": "execute_result"
    }
   ],
   "source": [
    "fd.head(2)"
   ]
  },
  {
   "cell_type": "code",
   "execution_count": 41,
   "id": "d0367ac3-b934-44fa-b9ff-04544e8cf1d7",
   "metadata": {},
   "outputs": [
    {
     "data": {
      "text/plain": [
       "array(['ontime', 'delayed'], dtype=object)"
      ]
     },
     "execution_count": 41,
     "metadata": {},
     "output_type": "execute_result"
    }
   ],
   "source": [
    "fd['delay'].unique()"
   ]
  },
  {
   "cell_type": "code",
   "execution_count": 45,
   "id": "677976a7-50a3-447c-a8d9-eac2e330191d",
   "metadata": {},
   "outputs": [
    {
     "data": {
      "text/plain": [
       "336"
      ]
     },
     "execution_count": 45,
     "metadata": {},
     "output_type": "execute_result"
    }
   ],
   "source": [
    "## Q1\n",
    "fd.query(\"dayofweek<5 and delay=='delayed'\").shape[0]"
   ]
  },
  {
   "cell_type": "code",
   "execution_count": 50,
   "id": "81921819-3dc8-4088-9820-ea21c627ed05",
   "metadata": {},
   "outputs": [
    {
     "data": {
      "text/plain": [
       "210.28"
      ]
     },
     "execution_count": 50,
     "metadata": {},
     "output_type": "execute_result"
    }
   ],
   "source": [
    "## Q2\n",
    "fd.query(\"dayofweek==4 and delay == 'delayed'\")['distance'].mean()"
   ]
  },
  {
   "cell_type": "code",
   "execution_count": 51,
   "id": "603b24d3-98e7-4b1e-8e71-1d821be02e69",
   "metadata": {},
   "outputs": [
    {
     "data": {
      "text/plain": [
       "15771"
      ]
     },
     "execution_count": 51,
     "metadata": {},
     "output_type": "execute_result"
    }
   ],
   "source": [
    "fd.query(\"dayofweek==4 and delay == 'delayed'\")['distance'].sum()"
   ]
  },
  {
   "cell_type": "code",
   "execution_count": 53,
   "id": "09a0520a-9ff8-479a-9daf-596779f024a1",
   "metadata": {},
   "outputs": [
    {
     "data": {
      "text/plain": [
       "75"
      ]
     },
     "execution_count": 53,
     "metadata": {},
     "output_type": "execute_result"
    }
   ],
   "source": [
    "fd.query(\"dayofweek==4 and delay == 'delayed'\")['distance'].shape[0]"
   ]
  },
  {
   "cell_type": "code",
   "execution_count": 58,
   "id": "60a26b74-7598-4cde-92ba-bcc91c64fe5f",
   "metadata": {},
   "outputs": [
    {
     "data": {
      "text/plain": [
       "1362"
      ]
     },
     "execution_count": 58,
     "metadata": {},
     "output_type": "execute_result"
    }
   ],
   "source": [
    "## Q3 (Weekdays)\n",
    "fd.query(\"dayofweek<5 and delay == 'ontime'\").shape[0]"
   ]
  },
  {
   "cell_type": "code",
   "execution_count": 56,
   "id": "be4e77a5-56a6-4326-8f0c-0a4fd5ad3af1",
   "metadata": {},
   "outputs": [
    {
     "data": {
      "text/plain": [
       "411"
      ]
     },
     "execution_count": 56,
     "metadata": {},
     "output_type": "execute_result"
    }
   ],
   "source": [
    "## Q3 (Weekends)\n",
    "fd.query(\"dayofweek>=5 and delay == 'ontime'\").shape[0]"
   ]
  },
  {
   "cell_type": "code",
   "execution_count": 62,
   "id": "024304b7-2944-42a6-92a4-0869fabae313",
   "metadata": {},
   "outputs": [
    {
     "data": {
      "text/html": [
       "<div>\n",
       "<style scoped>\n",
       "    .dataframe tbody tr th:only-of-type {\n",
       "        vertical-align: middle;\n",
       "    }\n",
       "\n",
       "    .dataframe tbody tr th {\n",
       "        vertical-align: top;\n",
       "    }\n",
       "\n",
       "    .dataframe thead th {\n",
       "        text-align: right;\n",
       "    }\n",
       "</style>\n",
       "<table border=\"1\" class=\"dataframe\">\n",
       "  <thead>\n",
       "    <tr style=\"text-align: right;\">\n",
       "      <th></th>\n",
       "      <th>dest</th>\n",
       "    </tr>\n",
       "    <tr>\n",
       "      <th>dest</th>\n",
       "      <th></th>\n",
       "    </tr>\n",
       "  </thead>\n",
       "  <tbody>\n",
       "    <tr>\n",
       "      <th>EWR</th>\n",
       "      <td>507</td>\n",
       "    </tr>\n",
       "    <tr>\n",
       "      <th>JFK</th>\n",
       "      <td>272</td>\n",
       "    </tr>\n",
       "    <tr>\n",
       "      <th>LGA</th>\n",
       "      <td>919</td>\n",
       "    </tr>\n",
       "  </tbody>\n",
       "</table>\n",
       "</div>"
      ],
      "text/plain": [
       "      dest\n",
       "dest      \n",
       "EWR    507\n",
       "JFK    272\n",
       "LGA    919"
      ]
     },
     "execution_count": 62,
     "metadata": {},
     "output_type": "execute_result"
    }
   ],
   "source": [
    "## Q4\n",
    "fd.query(\"dayofweek<5\").groupby('dest').agg({'dest':'count'})\n",
    "## select count(col),sum(col)"
   ]
  },
  {
   "cell_type": "code",
   "execution_count": 63,
   "id": "349a8e39-6bcc-480e-943b-38e3027d19e1",
   "metadata": {},
   "outputs": [
    {
     "data": {
      "text/plain": [
       "distance    211.871422\n",
       "dtype: float64"
      ]
     },
     "execution_count": 63,
     "metadata": {},
     "output_type": "execute_result"
    }
   ],
   "source": [
    "fd.agg({'distance':'mean'})"
   ]
  },
  {
   "cell_type": "code",
   "execution_count": 65,
   "id": "a060a06a-3be1-49ad-a16e-6d0c09f01b5a",
   "metadata": {},
   "outputs": [
    {
     "data": {
      "text/plain": [
       "30"
      ]
     },
     "execution_count": 65,
     "metadata": {},
     "output_type": "execute_result"
    }
   ],
   "source": [
    "fd.query(\"dayofweek<5 and weather==1\").shape[0] ## count(*)"
   ]
  },
  {
   "cell_type": "code",
   "execution_count": 67,
   "id": "25bacb62-b196-4ec6-b629-b2e1b6f231f8",
   "metadata": {},
   "outputs": [
    {
     "data": {
      "text/plain": [
       "weather    30\n",
       "dtype: int64"
      ]
     },
     "execution_count": 67,
     "metadata": {},
     "output_type": "execute_result"
    }
   ],
   "source": [
    "fd.query(\"dayofweek<5 and weather==1\").agg({'weather':'count'})"
   ]
  },
  {
   "cell_type": "code",
   "execution_count": 68,
   "id": "d5cbd741-ea59-4926-a611-4ecc70592cd2",
   "metadata": {},
   "outputs": [
    {
     "data": {
      "text/html": [
       "<div>\n",
       "<style scoped>\n",
       "    .dataframe tbody tr th:only-of-type {\n",
       "        vertical-align: middle;\n",
       "    }\n",
       "\n",
       "    .dataframe tbody tr th {\n",
       "        vertical-align: top;\n",
       "    }\n",
       "\n",
       "    .dataframe thead th {\n",
       "        text-align: right;\n",
       "    }\n",
       "</style>\n",
       "<table border=\"1\" class=\"dataframe\">\n",
       "  <thead>\n",
       "    <tr style=\"text-align: right;\">\n",
       "      <th></th>\n",
       "      <th>dayofweek</th>\n",
       "    </tr>\n",
       "    <tr>\n",
       "      <th>dayofweek</th>\n",
       "      <th></th>\n",
       "    </tr>\n",
       "  </thead>\n",
       "  <tbody>\n",
       "    <tr>\n",
       "      <th>0</th>\n",
       "      <td>308</td>\n",
       "    </tr>\n",
       "    <tr>\n",
       "      <th>1</th>\n",
       "      <td>307</td>\n",
       "    </tr>\n",
       "    <tr>\n",
       "      <th>2</th>\n",
       "      <td>320</td>\n",
       "    </tr>\n",
       "    <tr>\n",
       "      <th>3</th>\n",
       "      <td>372</td>\n",
       "    </tr>\n",
       "    <tr>\n",
       "      <th>4</th>\n",
       "      <td>391</td>\n",
       "    </tr>\n",
       "    <tr>\n",
       "      <th>5</th>\n",
       "      <td>250</td>\n",
       "    </tr>\n",
       "    <tr>\n",
       "      <th>6</th>\n",
       "      <td>253</td>\n",
       "    </tr>\n",
       "  </tbody>\n",
       "</table>\n",
       "</div>"
      ],
      "text/plain": [
       "           dayofweek\n",
       "dayofweek           \n",
       "0                308\n",
       "1                307\n",
       "2                320\n",
       "3                372\n",
       "4                391\n",
       "5                250\n",
       "6                253"
      ]
     },
     "execution_count": 68,
     "metadata": {},
     "output_type": "execute_result"
    }
   ],
   "source": [
    "fd.groupby(\"dayofweek\").agg({\"dayofweek\":\"count\"})"
   ]
  },
  {
   "cell_type": "code",
   "execution_count": 69,
   "id": "2dcd90bd-483e-4f38-9e21-b94fb147d058",
   "metadata": {},
   "outputs": [
    {
     "data": {
      "text/plain": [
       "4    391\n",
       "3    372\n",
       "2    320\n",
       "0    308\n",
       "1    307\n",
       "6    253\n",
       "5    250\n",
       "Name: dayofweek, dtype: int64"
      ]
     },
     "execution_count": 69,
     "metadata": {},
     "output_type": "execute_result"
    }
   ],
   "source": [
    "fd['dayofweek'].value_counts()"
   ]
  },
  {
   "cell_type": "code",
   "execution_count": 71,
   "id": "e21e6acc-60a1-4c80-8bb3-efa4767d277a",
   "metadata": {},
   "outputs": [
    {
     "data": {
      "text/html": [
       "<div>\n",
       "<style scoped>\n",
       "    .dataframe tbody tr th:only-of-type {\n",
       "        vertical-align: middle;\n",
       "    }\n",
       "\n",
       "    .dataframe tbody tr th {\n",
       "        vertical-align: top;\n",
       "    }\n",
       "\n",
       "    .dataframe thead th {\n",
       "        text-align: right;\n",
       "    }\n",
       "</style>\n",
       "<table border=\"1\" class=\"dataframe\">\n",
       "  <thead>\n",
       "    <tr style=\"text-align: right;\">\n",
       "      <th></th>\n",
       "      <th>dayofweek</th>\n",
       "    </tr>\n",
       "    <tr>\n",
       "      <th>dayofweek</th>\n",
       "      <th></th>\n",
       "    </tr>\n",
       "  </thead>\n",
       "  <tbody>\n",
       "    <tr>\n",
       "      <th>0</th>\n",
       "      <td>14</td>\n",
       "    </tr>\n",
       "    <tr>\n",
       "      <th>1</th>\n",
       "      <td>15</td>\n",
       "    </tr>\n",
       "    <tr>\n",
       "      <th>4</th>\n",
       "      <td>1</td>\n",
       "    </tr>\n",
       "  </tbody>\n",
       "</table>\n",
       "</div>"
      ],
      "text/plain": [
       "           dayofweek\n",
       "dayofweek           \n",
       "0                 14\n",
       "1                 15\n",
       "4                  1"
      ]
     },
     "execution_count": 71,
     "metadata": {},
     "output_type": "execute_result"
    }
   ],
   "source": [
    "fd.query(\"dayofweek<5 and weather==1\").groupby('dayofweek').agg({'dayofweek':'count'})"
   ]
  },
  {
   "cell_type": "code",
   "execution_count": 72,
   "id": "312072c7-cd23-44ee-9b0c-34be57d1c1bf",
   "metadata": {},
   "outputs": [
    {
     "data": {
      "text/html": [
       "<div>\n",
       "<style scoped>\n",
       "    .dataframe tbody tr th:only-of-type {\n",
       "        vertical-align: middle;\n",
       "    }\n",
       "\n",
       "    .dataframe tbody tr th {\n",
       "        vertical-align: top;\n",
       "    }\n",
       "\n",
       "    .dataframe thead th {\n",
       "        text-align: right;\n",
       "    }\n",
       "</style>\n",
       "<table border=\"1\" class=\"dataframe\">\n",
       "  <thead>\n",
       "    <tr style=\"text-align: right;\">\n",
       "      <th></th>\n",
       "      <th>Row ID</th>\n",
       "      <th>Order ID</th>\n",
       "      <th>Order Date</th>\n",
       "      <th>Ship Date</th>\n",
       "      <th>Ship Mode</th>\n",
       "      <th>Customer ID</th>\n",
       "      <th>Customer Name</th>\n",
       "      <th>Segment</th>\n",
       "      <th>Country</th>\n",
       "      <th>City</th>\n",
       "      <th>...</th>\n",
       "      <th>Postal Code</th>\n",
       "      <th>Region</th>\n",
       "      <th>Product ID</th>\n",
       "      <th>Category</th>\n",
       "      <th>Sub-Category</th>\n",
       "      <th>Product Name</th>\n",
       "      <th>Sales</th>\n",
       "      <th>Quantity</th>\n",
       "      <th>Discount</th>\n",
       "      <th>Profit</th>\n",
       "    </tr>\n",
       "  </thead>\n",
       "  <tbody>\n",
       "    <tr>\n",
       "      <th>0</th>\n",
       "      <td>1</td>\n",
       "      <td>CA-2013-152156</td>\n",
       "      <td>2013-11-09</td>\n",
       "      <td>2013-11-12</td>\n",
       "      <td>Second Class</td>\n",
       "      <td>CG-12520</td>\n",
       "      <td>Claire Gute</td>\n",
       "      <td>Consumer</td>\n",
       "      <td>United States</td>\n",
       "      <td>Henderson</td>\n",
       "      <td>...</td>\n",
       "      <td>42420</td>\n",
       "      <td>South</td>\n",
       "      <td>FUR-BO-10001798</td>\n",
       "      <td>Furniture</td>\n",
       "      <td>Bookcases</td>\n",
       "      <td>Bush Somerset Collection Bookcase</td>\n",
       "      <td>261.96</td>\n",
       "      <td>2</td>\n",
       "      <td>0.0</td>\n",
       "      <td>41.9136</td>\n",
       "    </tr>\n",
       "    <tr>\n",
       "      <th>1</th>\n",
       "      <td>2</td>\n",
       "      <td>CA-2013-152156</td>\n",
       "      <td>2013-11-09</td>\n",
       "      <td>2013-11-12</td>\n",
       "      <td>Second Class</td>\n",
       "      <td>CG-12520</td>\n",
       "      <td>Claire Gute</td>\n",
       "      <td>Consumer</td>\n",
       "      <td>United States</td>\n",
       "      <td>Henderson</td>\n",
       "      <td>...</td>\n",
       "      <td>42420</td>\n",
       "      <td>South</td>\n",
       "      <td>FUR-CH-10000454</td>\n",
       "      <td>Furniture</td>\n",
       "      <td>Chairs</td>\n",
       "      <td>Hon Deluxe Fabric Upholstered Stacking Chairs,...</td>\n",
       "      <td>731.94</td>\n",
       "      <td>3</td>\n",
       "      <td>0.0</td>\n",
       "      <td>219.5820</td>\n",
       "    </tr>\n",
       "  </tbody>\n",
       "</table>\n",
       "<p>2 rows × 21 columns</p>\n",
       "</div>"
      ],
      "text/plain": [
       "   Row ID        Order ID Order Date  Ship Date     Ship Mode Customer ID  \\\n",
       "0       1  CA-2013-152156 2013-11-09 2013-11-12  Second Class    CG-12520   \n",
       "1       2  CA-2013-152156 2013-11-09 2013-11-12  Second Class    CG-12520   \n",
       "\n",
       "  Customer Name   Segment        Country       City  ... Postal Code  Region  \\\n",
       "0   Claire Gute  Consumer  United States  Henderson  ...       42420   South   \n",
       "1   Claire Gute  Consumer  United States  Henderson  ...       42420   South   \n",
       "\n",
       "        Product ID   Category Sub-Category  \\\n",
       "0  FUR-BO-10001798  Furniture    Bookcases   \n",
       "1  FUR-CH-10000454  Furniture       Chairs   \n",
       "\n",
       "                                        Product Name   Sales  Quantity  \\\n",
       "0                  Bush Somerset Collection Bookcase  261.96         2   \n",
       "1  Hon Deluxe Fabric Upholstered Stacking Chairs,...  731.94         3   \n",
       "\n",
       "   Discount    Profit  \n",
       "0       0.0   41.9136  \n",
       "1       0.0  219.5820  \n",
       "\n",
       "[2 rows x 21 columns]"
      ]
     },
     "execution_count": 72,
     "metadata": {},
     "output_type": "execute_result"
    }
   ],
   "source": [
    "stores.head(2)"
   ]
  },
  {
   "cell_type": "markdown",
   "id": "105ba267-ec7d-4d2e-b636-6013b00ba574",
   "metadata": {},
   "source": [
    " Categorize sales based on its magnitude as given below:\n",
    "- if sales> 5000, high\n",
    "- if 2000<sales<=5000, medium\n",
    "- if sales<2000, low"
   ]
  },
  {
   "cell_type": "code",
   "execution_count": 74,
   "id": "f9570b5f-89aa-4273-aa65-57a58745dcca",
   "metadata": {},
   "outputs": [
    {
     "data": {
      "text/html": [
       "<div>\n",
       "<style scoped>\n",
       "    .dataframe tbody tr th:only-of-type {\n",
       "        vertical-align: middle;\n",
       "    }\n",
       "\n",
       "    .dataframe tbody tr th {\n",
       "        vertical-align: top;\n",
       "    }\n",
       "\n",
       "    .dataframe thead th {\n",
       "        text-align: right;\n",
       "    }\n",
       "</style>\n",
       "<table border=\"1\" class=\"dataframe\">\n",
       "  <thead>\n",
       "    <tr style=\"text-align: right;\">\n",
       "      <th></th>\n",
       "      <th>Row ID</th>\n",
       "      <th>Order ID</th>\n",
       "      <th>Order Date</th>\n",
       "      <th>Ship Date</th>\n",
       "      <th>Ship Mode</th>\n",
       "      <th>Customer ID</th>\n",
       "      <th>Customer Name</th>\n",
       "      <th>Segment</th>\n",
       "      <th>Country</th>\n",
       "      <th>City</th>\n",
       "      <th>...</th>\n",
       "      <th>Postal Code</th>\n",
       "      <th>Region</th>\n",
       "      <th>Product ID</th>\n",
       "      <th>Category</th>\n",
       "      <th>Sub-Category</th>\n",
       "      <th>Product Name</th>\n",
       "      <th>Sales</th>\n",
       "      <th>Quantity</th>\n",
       "      <th>Discount</th>\n",
       "      <th>Profit</th>\n",
       "    </tr>\n",
       "  </thead>\n",
       "  <tbody>\n",
       "    <tr>\n",
       "      <th>0</th>\n",
       "      <td>1</td>\n",
       "      <td>CA-2013-152156</td>\n",
       "      <td>2013-11-09</td>\n",
       "      <td>2013-11-12</td>\n",
       "      <td>Second Class</td>\n",
       "      <td>CG-12520</td>\n",
       "      <td>Claire Gute</td>\n",
       "      <td>Consumer</td>\n",
       "      <td>United States</td>\n",
       "      <td>Henderson</td>\n",
       "      <td>...</td>\n",
       "      <td>42420</td>\n",
       "      <td>South</td>\n",
       "      <td>FUR-BO-10001798</td>\n",
       "      <td>Furniture</td>\n",
       "      <td>Bookcases</td>\n",
       "      <td>Bush Somerset Collection Bookcase</td>\n",
       "      <td>261.96</td>\n",
       "      <td>2</td>\n",
       "      <td>0.0</td>\n",
       "      <td>41.9136</td>\n",
       "    </tr>\n",
       "  </tbody>\n",
       "</table>\n",
       "<p>1 rows × 21 columns</p>\n",
       "</div>"
      ],
      "text/plain": [
       "   Row ID        Order ID Order Date  Ship Date     Ship Mode Customer ID  \\\n",
       "0       1  CA-2013-152156 2013-11-09 2013-11-12  Second Class    CG-12520   \n",
       "\n",
       "  Customer Name   Segment        Country       City  ... Postal Code  Region  \\\n",
       "0   Claire Gute  Consumer  United States  Henderson  ...       42420   South   \n",
       "\n",
       "        Product ID   Category Sub-Category                       Product Name  \\\n",
       "0  FUR-BO-10001798  Furniture    Bookcases  Bush Somerset Collection Bookcase   \n",
       "\n",
       "    Sales  Quantity  Discount   Profit  \n",
       "0  261.96         2       0.0  41.9136  \n",
       "\n",
       "[1 rows x 21 columns]"
      ]
     },
     "execution_count": 74,
     "metadata": {},
     "output_type": "execute_result"
    }
   ],
   "source": [
    "stores.head(1)"
   ]
  },
  {
   "cell_type": "markdown",
   "id": "b21acd4b-1ac5-4afd-b794-39ebeaaba87e",
   "metadata": {},
   "source": [
    "```python\n",
    "stores['Sales'].map(func)\n",
    "```"
   ]
  },
  {
   "cell_type": "code",
   "execution_count": 78,
   "id": "e46d0402-af3b-40d5-8597-2b1ee8b65ba1",
   "metadata": {},
   "outputs": [],
   "source": [
    "from utils import get_cat"
   ]
  },
  {
   "cell_type": "code",
   "execution_count": null,
   "id": "8da90b59-f0d7-4777-9182-8bce6b38f8b4",
   "metadata": {},
   "outputs": [],
   "source": [
    "def get_cat(val):\n",
    "    if val > 5000:\n",
    "        return \"high\"\n",
    "    elif val<=5000 and val>2000:\n",
    "        return \"medium\"\n",
    "    else:\n",
    "        return \"low\""
   ]
  },
  {
   "cell_type": "code",
   "execution_count": 79,
   "id": "73886d61-b3e1-4663-9f83-8b3681ad15f4",
   "metadata": {},
   "outputs": [
    {
     "data": {
      "text/plain": [
       "0       low\n",
       "1       low\n",
       "2       low\n",
       "3       low\n",
       "4       low\n",
       "       ... \n",
       "9989    low\n",
       "9990    low\n",
       "9991    low\n",
       "9992    low\n",
       "9993    low\n",
       "Name: Sales, Length: 9994, dtype: object"
      ]
     },
     "execution_count": 79,
     "metadata": {},
     "output_type": "execute_result"
    }
   ],
   "source": [
    "stores['Sales'].map(get_cat)"
   ]
  },
  {
   "cell_type": "markdown",
   "id": "1a0b84c5-79b3-4b3b-9d10-18804115de16",
   "metadata": {},
   "source": [
    "### Class Excercise: Comey Dataset\n",
    "\n",
    "Use the dataset names `comey.csv`. You need to use the idea of map and find out the length of each response and each question. The you need to see if there is any difference between the lengths by party affiliattion. You can read more about the testimony of James Comey (former FBI director) [here](https://www.intelligence.senate.gov/sites/default/files/documents/os-jcomey-060817.pdf?)"
   ]
  },
  {
   "cell_type": "code",
   "execution_count": 82,
   "id": "ee9e8dae-3f7c-431b-817d-5076e958022e",
   "metadata": {},
   "outputs": [],
   "source": [
    "path = \"https://raw.githubusercontent.com/Gunnvant/corp_trainings/main/tiger_analytics/data/comey.csv\"\n",
    "comey = pd.read_csv(path,encoding=\"latin1\")"
   ]
  },
  {
   "cell_type": "code",
   "execution_count": 89,
   "id": "e24bab3b-4e0d-4388-bdda-05bef98d642c",
   "metadata": {},
   "outputs": [
    {
     "data": {
      "text/html": [
       "<div>\n",
       "<style scoped>\n",
       "    .dataframe tbody tr th:only-of-type {\n",
       "        vertical-align: middle;\n",
       "    }\n",
       "\n",
       "    .dataframe tbody tr th {\n",
       "        vertical-align: top;\n",
       "    }\n",
       "\n",
       "    .dataframe thead th {\n",
       "        text-align: right;\n",
       "    }\n",
       "</style>\n",
       "<table border=\"1\" class=\"dataframe\">\n",
       "  <thead>\n",
       "    <tr style=\"text-align: right;\">\n",
       "      <th></th>\n",
       "      <th>Senator</th>\n",
       "      <th>Party Affiliation</th>\n",
       "      <th>Full Question</th>\n",
       "      <th>Comey</th>\n",
       "      <th>Comey Response</th>\n",
       "    </tr>\n",
       "  </thead>\n",
       "  <tbody>\n",
       "    <tr>\n",
       "      <th>0</th>\n",
       "      <td>BURR</td>\n",
       "      <td>Republican</td>\n",
       "      <td>Do you have any doubt that Russia attempted to...</td>\n",
       "      <td>COMEY</td>\n",
       "      <td>None.</td>\n",
       "    </tr>\n",
       "    <tr>\n",
       "      <th>1</th>\n",
       "      <td>BURR</td>\n",
       "      <td>Republican</td>\n",
       "      <td>Do you have any doubt that the Russian governm...</td>\n",
       "      <td>COMEY</td>\n",
       "      <td>No, no doubt.</td>\n",
       "    </tr>\n",
       "  </tbody>\n",
       "</table>\n",
       "</div>"
      ],
      "text/plain": [
       "  Senator Party Affiliation  \\\n",
       "0    BURR        Republican   \n",
       "1    BURR        Republican   \n",
       "\n",
       "                                       Full Question  Comey Comey Response  \n",
       "0  Do you have any doubt that Russia attempted to...  COMEY          None.  \n",
       "1  Do you have any doubt that the Russian governm...  COMEY  No, no doubt.  "
      ]
     },
     "execution_count": 89,
     "metadata": {},
     "output_type": "execute_result"
    }
   ],
   "source": [
    "comey.head(2)"
   ]
  },
  {
   "cell_type": "code",
   "execution_count": 90,
   "id": "1e19f6b8-17a6-40f5-a639-8ff4f68b065c",
   "metadata": {},
   "outputs": [
    {
     "data": {
      "text/plain": [
       "18"
      ]
     },
     "execution_count": 90,
     "metadata": {},
     "output_type": "execute_result"
    }
   ],
   "source": [
    "s = \"This is a sentence\"\n",
    "len(s)"
   ]
  },
  {
   "cell_type": "code",
   "execution_count": 91,
   "id": "657f7f59-cbb6-4be8-8982-a0409c3b1fcc",
   "metadata": {},
   "outputs": [
    {
     "data": {
      "text/plain": [
       "['This', 'is', 'a', 'sentence']"
      ]
     },
     "execution_count": 91,
     "metadata": {},
     "output_type": "execute_result"
    }
   ],
   "source": [
    "s.split()"
   ]
  },
  {
   "cell_type": "code",
   "execution_count": 92,
   "id": "4db6e798-0ea1-49a8-bc54-23fdc310d76b",
   "metadata": {},
   "outputs": [
    {
     "data": {
      "text/plain": [
       "4"
      ]
     },
     "execution_count": 92,
     "metadata": {},
     "output_type": "execute_result"
    }
   ],
   "source": [
    "len(s.split())"
   ]
  },
  {
   "cell_type": "code",
   "execution_count": 93,
   "id": "30ba525c-f396-431e-a87e-ad5c2399e477",
   "metadata": {},
   "outputs": [],
   "source": [
    "def get_len(s):\n",
    "    return len(s.split())"
   ]
  },
  {
   "cell_type": "code",
   "execution_count": 95,
   "id": "d138224b-849d-4db3-92da-8a32212a1bbd",
   "metadata": {},
   "outputs": [],
   "source": [
    "comey['ques_len'] = comey['Full Question'].map(get_len)"
   ]
  },
  {
   "cell_type": "code",
   "execution_count": 96,
   "id": "a363c826-c7c9-43ab-87c9-b47bb1c80eeb",
   "metadata": {},
   "outputs": [],
   "source": [
    "comey['ans_len'] = comey['Comey Response'].map(get_len)"
   ]
  },
  {
   "cell_type": "code",
   "execution_count": 97,
   "id": "b03561d4-8989-4aa6-b64d-302c225cc931",
   "metadata": {},
   "outputs": [
    {
     "data": {
      "text/html": [
       "<div>\n",
       "<style scoped>\n",
       "    .dataframe tbody tr th:only-of-type {\n",
       "        vertical-align: middle;\n",
       "    }\n",
       "\n",
       "    .dataframe tbody tr th {\n",
       "        vertical-align: top;\n",
       "    }\n",
       "\n",
       "    .dataframe thead th {\n",
       "        text-align: right;\n",
       "    }\n",
       "</style>\n",
       "<table border=\"1\" class=\"dataframe\">\n",
       "  <thead>\n",
       "    <tr style=\"text-align: right;\">\n",
       "      <th></th>\n",
       "      <th>Senator</th>\n",
       "      <th>Party Affiliation</th>\n",
       "      <th>Full Question</th>\n",
       "      <th>Comey</th>\n",
       "      <th>Comey Response</th>\n",
       "      <th>ques_len</th>\n",
       "      <th>ans_len</th>\n",
       "    </tr>\n",
       "  </thead>\n",
       "  <tbody>\n",
       "    <tr>\n",
       "      <th>0</th>\n",
       "      <td>BURR</td>\n",
       "      <td>Republican</td>\n",
       "      <td>Do you have any doubt that Russia attempted to...</td>\n",
       "      <td>COMEY</td>\n",
       "      <td>None.</td>\n",
       "      <td>14</td>\n",
       "      <td>1</td>\n",
       "    </tr>\n",
       "    <tr>\n",
       "      <th>1</th>\n",
       "      <td>BURR</td>\n",
       "      <td>Republican</td>\n",
       "      <td>Do you have any doubt that the Russian governm...</td>\n",
       "      <td>COMEY</td>\n",
       "      <td>No, no doubt.</td>\n",
       "      <td>26</td>\n",
       "      <td>3</td>\n",
       "    </tr>\n",
       "  </tbody>\n",
       "</table>\n",
       "</div>"
      ],
      "text/plain": [
       "  Senator Party Affiliation  \\\n",
       "0    BURR        Republican   \n",
       "1    BURR        Republican   \n",
       "\n",
       "                                       Full Question  Comey Comey Response  \\\n",
       "0  Do you have any doubt that Russia attempted to...  COMEY          None.   \n",
       "1  Do you have any doubt that the Russian governm...  COMEY  No, no doubt.   \n",
       "\n",
       "   ques_len  ans_len  \n",
       "0        14        1  \n",
       "1        26        3  "
      ]
     },
     "execution_count": 97,
     "metadata": {},
     "output_type": "execute_result"
    }
   ],
   "source": [
    "comey.head(2)"
   ]
  },
  {
   "cell_type": "code",
   "execution_count": 101,
   "id": "c135499e-27f4-4ba4-98ef-17f82c83a171",
   "metadata": {},
   "outputs": [
    {
     "data": {
      "text/html": [
       "<div>\n",
       "<style scoped>\n",
       "    .dataframe tbody tr th:only-of-type {\n",
       "        vertical-align: middle;\n",
       "    }\n",
       "\n",
       "    .dataframe tbody tr th {\n",
       "        vertical-align: top;\n",
       "    }\n",
       "\n",
       "    .dataframe thead th {\n",
       "        text-align: right;\n",
       "    }\n",
       "</style>\n",
       "<table border=\"1\" class=\"dataframe\">\n",
       "  <thead>\n",
       "    <tr style=\"text-align: right;\">\n",
       "      <th></th>\n",
       "      <th>ques_len</th>\n",
       "      <th>ans_len</th>\n",
       "    </tr>\n",
       "    <tr>\n",
       "      <th>Party Affiliation</th>\n",
       "      <th></th>\n",
       "      <th></th>\n",
       "    </tr>\n",
       "  </thead>\n",
       "  <tbody>\n",
       "    <tr>\n",
       "      <th>Democrat</th>\n",
       "      <td>37.236364</td>\n",
       "      <td>43.309091</td>\n",
       "    </tr>\n",
       "    <tr>\n",
       "      <th>Independent</th>\n",
       "      <td>29.500000</td>\n",
       "      <td>23.350000</td>\n",
       "    </tr>\n",
       "    <tr>\n",
       "      <th>Republican</th>\n",
       "      <td>39.839286</td>\n",
       "      <td>25.875000</td>\n",
       "    </tr>\n",
       "  </tbody>\n",
       "</table>\n",
       "</div>"
      ],
      "text/plain": [
       "                    ques_len    ans_len\n",
       "Party Affiliation                      \n",
       "Democrat           37.236364  43.309091\n",
       "Independent        29.500000  23.350000\n",
       "Republican         39.839286  25.875000"
      ]
     },
     "execution_count": 101,
     "metadata": {},
     "output_type": "execute_result"
    }
   ],
   "source": [
    "comey.groupby('Party Affiliation').agg({'ques_len':'mean','ans_len':'mean'})"
   ]
  },
  {
   "cell_type": "code",
   "execution_count": 102,
   "id": "7aa53f42-ff88-4e0e-a00d-d3ee1540de20",
   "metadata": {},
   "outputs": [
    {
     "data": {
      "text/html": [
       "<div>\n",
       "<style scoped>\n",
       "    .dataframe tbody tr th:only-of-type {\n",
       "        vertical-align: middle;\n",
       "    }\n",
       "\n",
       "    .dataframe tbody tr th {\n",
       "        vertical-align: top;\n",
       "    }\n",
       "\n",
       "    .dataframe thead th {\n",
       "        text-align: right;\n",
       "    }\n",
       "</style>\n",
       "<table border=\"1\" class=\"dataframe\">\n",
       "  <thead>\n",
       "    <tr style=\"text-align: right;\">\n",
       "      <th></th>\n",
       "      <th>Row ID</th>\n",
       "      <th>Order ID</th>\n",
       "      <th>Order Date</th>\n",
       "      <th>Ship Date</th>\n",
       "      <th>Ship Mode</th>\n",
       "      <th>Customer ID</th>\n",
       "      <th>Customer Name</th>\n",
       "      <th>Segment</th>\n",
       "      <th>Country</th>\n",
       "      <th>City</th>\n",
       "      <th>...</th>\n",
       "      <th>Postal Code</th>\n",
       "      <th>Region</th>\n",
       "      <th>Product ID</th>\n",
       "      <th>Category</th>\n",
       "      <th>Sub-Category</th>\n",
       "      <th>Product Name</th>\n",
       "      <th>Sales</th>\n",
       "      <th>Quantity</th>\n",
       "      <th>Discount</th>\n",
       "      <th>Profit</th>\n",
       "    </tr>\n",
       "  </thead>\n",
       "  <tbody>\n",
       "    <tr>\n",
       "      <th>0</th>\n",
       "      <td>1</td>\n",
       "      <td>CA-2013-152156</td>\n",
       "      <td>2013-11-09</td>\n",
       "      <td>2013-11-12</td>\n",
       "      <td>Second Class</td>\n",
       "      <td>CG-12520</td>\n",
       "      <td>Claire Gute</td>\n",
       "      <td>Consumer</td>\n",
       "      <td>United States</td>\n",
       "      <td>Henderson</td>\n",
       "      <td>...</td>\n",
       "      <td>42420</td>\n",
       "      <td>South</td>\n",
       "      <td>FUR-BO-10001798</td>\n",
       "      <td>Furniture</td>\n",
       "      <td>Bookcases</td>\n",
       "      <td>Bush Somerset Collection Bookcase</td>\n",
       "      <td>261.96</td>\n",
       "      <td>2</td>\n",
       "      <td>0.0</td>\n",
       "      <td>41.9136</td>\n",
       "    </tr>\n",
       "    <tr>\n",
       "      <th>1</th>\n",
       "      <td>2</td>\n",
       "      <td>CA-2013-152156</td>\n",
       "      <td>2013-11-09</td>\n",
       "      <td>2013-11-12</td>\n",
       "      <td>Second Class</td>\n",
       "      <td>CG-12520</td>\n",
       "      <td>Claire Gute</td>\n",
       "      <td>Consumer</td>\n",
       "      <td>United States</td>\n",
       "      <td>Henderson</td>\n",
       "      <td>...</td>\n",
       "      <td>42420</td>\n",
       "      <td>South</td>\n",
       "      <td>FUR-CH-10000454</td>\n",
       "      <td>Furniture</td>\n",
       "      <td>Chairs</td>\n",
       "      <td>Hon Deluxe Fabric Upholstered Stacking Chairs,...</td>\n",
       "      <td>731.94</td>\n",
       "      <td>3</td>\n",
       "      <td>0.0</td>\n",
       "      <td>219.5820</td>\n",
       "    </tr>\n",
       "  </tbody>\n",
       "</table>\n",
       "<p>2 rows × 21 columns</p>\n",
       "</div>"
      ],
      "text/plain": [
       "   Row ID        Order ID Order Date  Ship Date     Ship Mode Customer ID  \\\n",
       "0       1  CA-2013-152156 2013-11-09 2013-11-12  Second Class    CG-12520   \n",
       "1       2  CA-2013-152156 2013-11-09 2013-11-12  Second Class    CG-12520   \n",
       "\n",
       "  Customer Name   Segment        Country       City  ... Postal Code  Region  \\\n",
       "0   Claire Gute  Consumer  United States  Henderson  ...       42420   South   \n",
       "1   Claire Gute  Consumer  United States  Henderson  ...       42420   South   \n",
       "\n",
       "        Product ID   Category Sub-Category  \\\n",
       "0  FUR-BO-10001798  Furniture    Bookcases   \n",
       "1  FUR-CH-10000454  Furniture       Chairs   \n",
       "\n",
       "                                        Product Name   Sales  Quantity  \\\n",
       "0                  Bush Somerset Collection Bookcase  261.96         2   \n",
       "1  Hon Deluxe Fabric Upholstered Stacking Chairs,...  731.94         3   \n",
       "\n",
       "   Discount    Profit  \n",
       "0       0.0   41.9136  \n",
       "1       0.0  219.5820  \n",
       "\n",
       "[2 rows x 21 columns]"
      ]
     },
     "execution_count": 102,
     "metadata": {},
     "output_type": "execute_result"
    }
   ],
   "source": [
    "stores.head(2)"
   ]
  },
  {
   "cell_type": "markdown",
   "id": "24ada53d-fcde-4a70-8d7a-b4456842593d",
   "metadata": {},
   "source": [
    "if the ship mode is first class then we incur an additional cost of 200 and this should be subtracted from the sales"
   ]
  },
  {
   "cell_type": "markdown",
   "id": "6291f387-9e50-4e90-a7ba-cff29d5339f0",
   "metadata": {},
   "source": [
    "apply() method in a dataframe"
   ]
  },
  {
   "cell_type": "code",
   "execution_count": 103,
   "id": "36d5382a-d056-4c06-a091-e580744c4f00",
   "metadata": {},
   "outputs": [],
   "source": [
    "def correct(row):\n",
    "    if row['Ship Mode'] == \"First Class\":\n",
    "        return row['Sales'] - 200\n",
    "    else:\n",
    "        return row['Sales']\n",
    "        "
   ]
  },
  {
   "cell_type": "code",
   "execution_count": 105,
   "id": "df0339bc-1083-4da1-9c6a-0dbbb2c17d09",
   "metadata": {},
   "outputs": [
    {
     "data": {
      "text/plain": [
       "0       261.9600\n",
       "1       731.9400\n",
       "2        14.6200\n",
       "3       957.5775\n",
       "4        22.3680\n",
       "          ...   \n",
       "9989     25.2480\n",
       "9990     91.9600\n",
       "9991    258.5760\n",
       "9992     29.6000\n",
       "9993    243.1600\n",
       "Length: 9994, dtype: float64"
      ]
     },
     "execution_count": 105,
     "metadata": {},
     "output_type": "execute_result"
    }
   ],
   "source": [
    "stores.apply(correct,axis=1) ### axis=1, mean we are iterating over each row"
   ]
  },
  {
   "cell_type": "code",
   "execution_count": 106,
   "id": "5d334c09-68ec-4032-a691-f6fe6fcb02df",
   "metadata": {},
   "outputs": [
    {
     "data": {
      "text/plain": [
       "Row ID                    int64\n",
       "Order ID                 object\n",
       "Order Date       datetime64[ns]\n",
       "Ship Date        datetime64[ns]\n",
       "Ship Mode                object\n",
       "Customer ID              object\n",
       "Customer Name            object\n",
       "Segment                  object\n",
       "Country                  object\n",
       "City                     object\n",
       "State                    object\n",
       "Postal Code               int64\n",
       "Region                   object\n",
       "Product ID               object\n",
       "Category                 object\n",
       "Sub-Category             object\n",
       "Product Name             object\n",
       "Sales                   float64\n",
       "Quantity                  int64\n",
       "Discount                float64\n",
       "Profit                  float64\n",
       "dtype: object"
      ]
     },
     "execution_count": 106,
     "metadata": {},
     "output_type": "execute_result"
    }
   ],
   "source": [
    "stores.dtypes"
   ]
  },
  {
   "cell_type": "code",
   "execution_count": 107,
   "id": "a6d7f9ba-46db-4386-9e7a-e0ed3f0c94cf",
   "metadata": {},
   "outputs": [],
   "source": [
    "cols = ['Sales',\"Quantity\",\"Discount\",\"Profit\"]"
   ]
  },
  {
   "cell_type": "code",
   "execution_count": 108,
   "id": "85d1b85f-0785-475b-9eea-8af7c2109d91",
   "metadata": {},
   "outputs": [
    {
     "data": {
      "text/html": [
       "<div>\n",
       "<style scoped>\n",
       "    .dataframe tbody tr th:only-of-type {\n",
       "        vertical-align: middle;\n",
       "    }\n",
       "\n",
       "    .dataframe tbody tr th {\n",
       "        vertical-align: top;\n",
       "    }\n",
       "\n",
       "    .dataframe thead th {\n",
       "        text-align: right;\n",
       "    }\n",
       "</style>\n",
       "<table border=\"1\" class=\"dataframe\">\n",
       "  <thead>\n",
       "    <tr style=\"text-align: right;\">\n",
       "      <th></th>\n",
       "      <th>Sales</th>\n",
       "      <th>Quantity</th>\n",
       "      <th>Discount</th>\n",
       "      <th>Profit</th>\n",
       "    </tr>\n",
       "  </thead>\n",
       "  <tbody>\n",
       "    <tr>\n",
       "      <th>0</th>\n",
       "      <td>261.9600</td>\n",
       "      <td>2</td>\n",
       "      <td>0.00</td>\n",
       "      <td>41.9136</td>\n",
       "    </tr>\n",
       "    <tr>\n",
       "      <th>1</th>\n",
       "      <td>731.9400</td>\n",
       "      <td>3</td>\n",
       "      <td>0.00</td>\n",
       "      <td>219.5820</td>\n",
       "    </tr>\n",
       "    <tr>\n",
       "      <th>2</th>\n",
       "      <td>14.6200</td>\n",
       "      <td>2</td>\n",
       "      <td>0.00</td>\n",
       "      <td>6.8714</td>\n",
       "    </tr>\n",
       "    <tr>\n",
       "      <th>3</th>\n",
       "      <td>957.5775</td>\n",
       "      <td>5</td>\n",
       "      <td>0.45</td>\n",
       "      <td>-383.0310</td>\n",
       "    </tr>\n",
       "    <tr>\n",
       "      <th>4</th>\n",
       "      <td>22.3680</td>\n",
       "      <td>2</td>\n",
       "      <td>0.20</td>\n",
       "      <td>2.5164</td>\n",
       "    </tr>\n",
       "    <tr>\n",
       "      <th>...</th>\n",
       "      <td>...</td>\n",
       "      <td>...</td>\n",
       "      <td>...</td>\n",
       "      <td>...</td>\n",
       "    </tr>\n",
       "    <tr>\n",
       "      <th>9989</th>\n",
       "      <td>25.2480</td>\n",
       "      <td>3</td>\n",
       "      <td>0.20</td>\n",
       "      <td>4.1028</td>\n",
       "    </tr>\n",
       "    <tr>\n",
       "      <th>9990</th>\n",
       "      <td>91.9600</td>\n",
       "      <td>2</td>\n",
       "      <td>0.00</td>\n",
       "      <td>15.6332</td>\n",
       "    </tr>\n",
       "    <tr>\n",
       "      <th>9991</th>\n",
       "      <td>258.5760</td>\n",
       "      <td>2</td>\n",
       "      <td>0.20</td>\n",
       "      <td>19.3932</td>\n",
       "    </tr>\n",
       "    <tr>\n",
       "      <th>9992</th>\n",
       "      <td>29.6000</td>\n",
       "      <td>4</td>\n",
       "      <td>0.00</td>\n",
       "      <td>13.3200</td>\n",
       "    </tr>\n",
       "    <tr>\n",
       "      <th>9993</th>\n",
       "      <td>243.1600</td>\n",
       "      <td>2</td>\n",
       "      <td>0.00</td>\n",
       "      <td>72.9480</td>\n",
       "    </tr>\n",
       "  </tbody>\n",
       "</table>\n",
       "<p>9994 rows × 4 columns</p>\n",
       "</div>"
      ],
      "text/plain": [
       "         Sales  Quantity  Discount    Profit\n",
       "0     261.9600         2      0.00   41.9136\n",
       "1     731.9400         3      0.00  219.5820\n",
       "2      14.6200         2      0.00    6.8714\n",
       "3     957.5775         5      0.45 -383.0310\n",
       "4      22.3680         2      0.20    2.5164\n",
       "...        ...       ...       ...       ...\n",
       "9989   25.2480         3      0.20    4.1028\n",
       "9990   91.9600         2      0.00   15.6332\n",
       "9991  258.5760         2      0.20   19.3932\n",
       "9992   29.6000         4      0.00   13.3200\n",
       "9993  243.1600         2      0.00   72.9480\n",
       "\n",
       "[9994 rows x 4 columns]"
      ]
     },
     "execution_count": 108,
     "metadata": {},
     "output_type": "execute_result"
    }
   ],
   "source": [
    "stores[cols]"
   ]
  },
  {
   "cell_type": "code",
   "execution_count": 109,
   "id": "4cda6c0e-f6ad-422f-b124-795c882a1ba3",
   "metadata": {},
   "outputs": [],
   "source": [
    "def Sum(C):\n",
    "    return C.sum()"
   ]
  },
  {
   "cell_type": "code",
   "execution_count": 113,
   "id": "ceab9428-a514-41d1-8383-4dfb949871e4",
   "metadata": {},
   "outputs": [
    {
     "data": {
      "text/plain": [
       "Sales       2.297201e+06\n",
       "Quantity    3.787300e+04\n",
       "Discount    1.561090e+03\n",
       "Profit      2.863970e+05\n",
       "dtype: float64"
      ]
     },
     "execution_count": 113,
     "metadata": {},
     "output_type": "execute_result"
    }
   ],
   "source": [
    "stores[cols].apply(Sum,axis=0)"
   ]
  },
  {
   "cell_type": "markdown",
   "id": "3ba72329-bb07-4850-aaf9-53de45ca6535",
   "metadata": {},
   "source": [
    "## Joins"
   ]
  },
  {
   "cell_type": "code",
   "execution_count": 114,
   "id": "f4311363-aa7e-4875-b475-58989514d244",
   "metadata": {},
   "outputs": [],
   "source": [
    "path = \"/Users/gunnvantsaini/Library/CloudStorage/OneDrive-Personal/Work/Vired/Content/corp_trainings/tiger_analytics/data/customers.csv\"\n",
    "customers = pd.read_csv(path)\n",
    "path = \"/Users/gunnvantsaini/Library/CloudStorage/OneDrive-Personal/Work/Vired/Content/corp_trainings/tiger_analytics/data/accounts.csv\"\n",
    "accounts = pd.read_csv(path)"
   ]
  },
  {
   "cell_type": "code",
   "execution_count": 116,
   "id": "6050f21c-0d75-445c-9c25-fc1075b87f49",
   "metadata": {},
   "outputs": [
    {
     "data": {
      "text/html": [
       "<div>\n",
       "<style scoped>\n",
       "    .dataframe tbody tr th:only-of-type {\n",
       "        vertical-align: middle;\n",
       "    }\n",
       "\n",
       "    .dataframe tbody tr th {\n",
       "        vertical-align: top;\n",
       "    }\n",
       "\n",
       "    .dataframe thead th {\n",
       "        text-align: right;\n",
       "    }\n",
       "</style>\n",
       "<table border=\"1\" class=\"dataframe\">\n",
       "  <thead>\n",
       "    <tr style=\"text-align: right;\">\n",
       "      <th></th>\n",
       "      <th>Cust_id</th>\n",
       "      <th>Age</th>\n",
       "    </tr>\n",
       "  </thead>\n",
       "  <tbody>\n",
       "    <tr>\n",
       "      <th>0</th>\n",
       "      <td>AA1</td>\n",
       "      <td>17</td>\n",
       "    </tr>\n",
       "    <tr>\n",
       "      <th>1</th>\n",
       "      <td>AA2</td>\n",
       "      <td>18</td>\n",
       "    </tr>\n",
       "    <tr>\n",
       "      <th>2</th>\n",
       "      <td>AA3</td>\n",
       "      <td>33</td>\n",
       "    </tr>\n",
       "    <tr>\n",
       "      <th>3</th>\n",
       "      <td>AA4</td>\n",
       "      <td>21</td>\n",
       "    </tr>\n",
       "    <tr>\n",
       "      <th>4</th>\n",
       "      <td>AA5</td>\n",
       "      <td>14</td>\n",
       "    </tr>\n",
       "    <tr>\n",
       "      <th>5</th>\n",
       "      <td>AA6</td>\n",
       "      <td>81</td>\n",
       "    </tr>\n",
       "  </tbody>\n",
       "</table>\n",
       "</div>"
      ],
      "text/plain": [
       "  Cust_id  Age\n",
       "0     AA1   17\n",
       "1     AA2   18\n",
       "2     AA3   33\n",
       "3     AA4   21\n",
       "4     AA5   14\n",
       "5     AA6   81"
      ]
     },
     "execution_count": 116,
     "metadata": {},
     "output_type": "execute_result"
    }
   ],
   "source": [
    "customers"
   ]
  },
  {
   "cell_type": "code",
   "execution_count": 117,
   "id": "10f16d4d-d344-4ffd-b14a-86b961e5f5bd",
   "metadata": {},
   "outputs": [
    {
     "data": {
      "text/html": [
       "<div>\n",
       "<style scoped>\n",
       "    .dataframe tbody tr th:only-of-type {\n",
       "        vertical-align: middle;\n",
       "    }\n",
       "\n",
       "    .dataframe tbody tr th {\n",
       "        vertical-align: top;\n",
       "    }\n",
       "\n",
       "    .dataframe thead th {\n",
       "        text-align: right;\n",
       "    }\n",
       "</style>\n",
       "<table border=\"1\" class=\"dataframe\">\n",
       "  <thead>\n",
       "    <tr style=\"text-align: right;\">\n",
       "      <th></th>\n",
       "      <th>CustID</th>\n",
       "      <th>Account Type</th>\n",
       "    </tr>\n",
       "  </thead>\n",
       "  <tbody>\n",
       "    <tr>\n",
       "      <th>0</th>\n",
       "      <td>AA1</td>\n",
       "      <td>AAA</td>\n",
       "    </tr>\n",
       "    <tr>\n",
       "      <th>1</th>\n",
       "      <td>AA6</td>\n",
       "      <td>AA</td>\n",
       "    </tr>\n",
       "    <tr>\n",
       "      <th>2</th>\n",
       "      <td>AA4</td>\n",
       "      <td>B</td>\n",
       "    </tr>\n",
       "    <tr>\n",
       "      <th>3</th>\n",
       "      <td>AA7</td>\n",
       "      <td>CCC</td>\n",
       "    </tr>\n",
       "    <tr>\n",
       "      <th>4</th>\n",
       "      <td>AA12</td>\n",
       "      <td>AAA</td>\n",
       "    </tr>\n",
       "    <tr>\n",
       "      <th>5</th>\n",
       "      <td>AA10</td>\n",
       "      <td>DDD</td>\n",
       "    </tr>\n",
       "  </tbody>\n",
       "</table>\n",
       "</div>"
      ],
      "text/plain": [
       "  CustID Account Type\n",
       "0    AA1          AAA\n",
       "1    AA6           AA\n",
       "2    AA4            B\n",
       "3    AA7          CCC\n",
       "4   AA12          AAA\n",
       "5   AA10          DDD"
      ]
     },
     "execution_count": 117,
     "metadata": {},
     "output_type": "execute_result"
    }
   ],
   "source": [
    "accounts"
   ]
  },
  {
   "cell_type": "code",
   "execution_count": 118,
   "id": "79a320c7-441b-40ce-815f-debbbaf27197",
   "metadata": {},
   "outputs": [
    {
     "data": {
      "text/html": [
       "<div>\n",
       "<style scoped>\n",
       "    .dataframe tbody tr th:only-of-type {\n",
       "        vertical-align: middle;\n",
       "    }\n",
       "\n",
       "    .dataframe tbody tr th {\n",
       "        vertical-align: top;\n",
       "    }\n",
       "\n",
       "    .dataframe thead th {\n",
       "        text-align: right;\n",
       "    }\n",
       "</style>\n",
       "<table border=\"1\" class=\"dataframe\">\n",
       "  <thead>\n",
       "    <tr style=\"text-align: right;\">\n",
       "      <th></th>\n",
       "      <th>Cust_id</th>\n",
       "      <th>Age</th>\n",
       "      <th>CustID</th>\n",
       "      <th>Account Type</th>\n",
       "    </tr>\n",
       "  </thead>\n",
       "  <tbody>\n",
       "    <tr>\n",
       "      <th>0</th>\n",
       "      <td>AA1</td>\n",
       "      <td>17</td>\n",
       "      <td>AA1</td>\n",
       "      <td>AAA</td>\n",
       "    </tr>\n",
       "    <tr>\n",
       "      <th>1</th>\n",
       "      <td>AA4</td>\n",
       "      <td>21</td>\n",
       "      <td>AA4</td>\n",
       "      <td>B</td>\n",
       "    </tr>\n",
       "    <tr>\n",
       "      <th>2</th>\n",
       "      <td>AA6</td>\n",
       "      <td>81</td>\n",
       "      <td>AA6</td>\n",
       "      <td>AA</td>\n",
       "    </tr>\n",
       "  </tbody>\n",
       "</table>\n",
       "</div>"
      ],
      "text/plain": [
       "  Cust_id  Age CustID Account Type\n",
       "0     AA1   17    AA1          AAA\n",
       "1     AA4   21    AA4            B\n",
       "2     AA6   81    AA6           AA"
      ]
     },
     "execution_count": 118,
     "metadata": {},
     "output_type": "execute_result"
    }
   ],
   "source": [
    "## Inner\n",
    "pd.merge(customers,accounts,how=\"inner\",left_on=\"Cust_id\",right_on=\"CustID\")"
   ]
  },
  {
   "cell_type": "code",
   "execution_count": 119,
   "id": "60ab91e0-1cee-4c3a-9fe3-01fa0224774a",
   "metadata": {},
   "outputs": [
    {
     "data": {
      "text/html": [
       "<div>\n",
       "<style scoped>\n",
       "    .dataframe tbody tr th:only-of-type {\n",
       "        vertical-align: middle;\n",
       "    }\n",
       "\n",
       "    .dataframe tbody tr th {\n",
       "        vertical-align: top;\n",
       "    }\n",
       "\n",
       "    .dataframe thead th {\n",
       "        text-align: right;\n",
       "    }\n",
       "</style>\n",
       "<table border=\"1\" class=\"dataframe\">\n",
       "  <thead>\n",
       "    <tr style=\"text-align: right;\">\n",
       "      <th></th>\n",
       "      <th>Cust_id</th>\n",
       "      <th>Age</th>\n",
       "      <th>CustID</th>\n",
       "      <th>Account Type</th>\n",
       "    </tr>\n",
       "  </thead>\n",
       "  <tbody>\n",
       "    <tr>\n",
       "      <th>0</th>\n",
       "      <td>AA1</td>\n",
       "      <td>17</td>\n",
       "      <td>AA1</td>\n",
       "      <td>AAA</td>\n",
       "    </tr>\n",
       "    <tr>\n",
       "      <th>1</th>\n",
       "      <td>AA2</td>\n",
       "      <td>18</td>\n",
       "      <td>NaN</td>\n",
       "      <td>NaN</td>\n",
       "    </tr>\n",
       "    <tr>\n",
       "      <th>2</th>\n",
       "      <td>AA3</td>\n",
       "      <td>33</td>\n",
       "      <td>NaN</td>\n",
       "      <td>NaN</td>\n",
       "    </tr>\n",
       "    <tr>\n",
       "      <th>3</th>\n",
       "      <td>AA4</td>\n",
       "      <td>21</td>\n",
       "      <td>AA4</td>\n",
       "      <td>B</td>\n",
       "    </tr>\n",
       "    <tr>\n",
       "      <th>4</th>\n",
       "      <td>AA5</td>\n",
       "      <td>14</td>\n",
       "      <td>NaN</td>\n",
       "      <td>NaN</td>\n",
       "    </tr>\n",
       "    <tr>\n",
       "      <th>5</th>\n",
       "      <td>AA6</td>\n",
       "      <td>81</td>\n",
       "      <td>AA6</td>\n",
       "      <td>AA</td>\n",
       "    </tr>\n",
       "  </tbody>\n",
       "</table>\n",
       "</div>"
      ],
      "text/plain": [
       "  Cust_id  Age CustID Account Type\n",
       "0     AA1   17    AA1          AAA\n",
       "1     AA2   18    NaN          NaN\n",
       "2     AA3   33    NaN          NaN\n",
       "3     AA4   21    AA4            B\n",
       "4     AA5   14    NaN          NaN\n",
       "5     AA6   81    AA6           AA"
      ]
     },
     "execution_count": 119,
     "metadata": {},
     "output_type": "execute_result"
    }
   ],
   "source": [
    "## Left Outer Join\n",
    "pd.merge(customers,accounts,how=\"left\",left_on=\"Cust_id\",right_on=\"CustID\")"
   ]
  },
  {
   "cell_type": "code",
   "execution_count": 120,
   "id": "44efe41f-02f3-4c78-912a-c4bd642a76da",
   "metadata": {},
   "outputs": [
    {
     "data": {
      "text/html": [
       "<div>\n",
       "<style scoped>\n",
       "    .dataframe tbody tr th:only-of-type {\n",
       "        vertical-align: middle;\n",
       "    }\n",
       "\n",
       "    .dataframe tbody tr th {\n",
       "        vertical-align: top;\n",
       "    }\n",
       "\n",
       "    .dataframe thead th {\n",
       "        text-align: right;\n",
       "    }\n",
       "</style>\n",
       "<table border=\"1\" class=\"dataframe\">\n",
       "  <thead>\n",
       "    <tr style=\"text-align: right;\">\n",
       "      <th></th>\n",
       "      <th>Cust_id</th>\n",
       "      <th>Age</th>\n",
       "      <th>CustID</th>\n",
       "      <th>Account Type</th>\n",
       "    </tr>\n",
       "  </thead>\n",
       "  <tbody>\n",
       "    <tr>\n",
       "      <th>0</th>\n",
       "      <td>AA1</td>\n",
       "      <td>17.0</td>\n",
       "      <td>AA1</td>\n",
       "      <td>AAA</td>\n",
       "    </tr>\n",
       "    <tr>\n",
       "      <th>1</th>\n",
       "      <td>AA6</td>\n",
       "      <td>81.0</td>\n",
       "      <td>AA6</td>\n",
       "      <td>AA</td>\n",
       "    </tr>\n",
       "    <tr>\n",
       "      <th>2</th>\n",
       "      <td>AA4</td>\n",
       "      <td>21.0</td>\n",
       "      <td>AA4</td>\n",
       "      <td>B</td>\n",
       "    </tr>\n",
       "    <tr>\n",
       "      <th>3</th>\n",
       "      <td>NaN</td>\n",
       "      <td>NaN</td>\n",
       "      <td>AA7</td>\n",
       "      <td>CCC</td>\n",
       "    </tr>\n",
       "    <tr>\n",
       "      <th>4</th>\n",
       "      <td>NaN</td>\n",
       "      <td>NaN</td>\n",
       "      <td>AA12</td>\n",
       "      <td>AAA</td>\n",
       "    </tr>\n",
       "    <tr>\n",
       "      <th>5</th>\n",
       "      <td>NaN</td>\n",
       "      <td>NaN</td>\n",
       "      <td>AA10</td>\n",
       "      <td>DDD</td>\n",
       "    </tr>\n",
       "  </tbody>\n",
       "</table>\n",
       "</div>"
      ],
      "text/plain": [
       "  Cust_id   Age CustID Account Type\n",
       "0     AA1  17.0    AA1          AAA\n",
       "1     AA6  81.0    AA6           AA\n",
       "2     AA4  21.0    AA4            B\n",
       "3     NaN   NaN    AA7          CCC\n",
       "4     NaN   NaN   AA12          AAA\n",
       "5     NaN   NaN   AA10          DDD"
      ]
     },
     "execution_count": 120,
     "metadata": {},
     "output_type": "execute_result"
    }
   ],
   "source": [
    "## Right Outer Join\n",
    "pd.merge(customers,accounts,how=\"right\",left_on=\"Cust_id\",right_on=\"CustID\")"
   ]
  },
  {
   "cell_type": "code",
   "execution_count": 121,
   "id": "1309a755-8720-4260-ab4b-baa8471560b6",
   "metadata": {},
   "outputs": [
    {
     "data": {
      "text/html": [
       "<div>\n",
       "<style scoped>\n",
       "    .dataframe tbody tr th:only-of-type {\n",
       "        vertical-align: middle;\n",
       "    }\n",
       "\n",
       "    .dataframe tbody tr th {\n",
       "        vertical-align: top;\n",
       "    }\n",
       "\n",
       "    .dataframe thead th {\n",
       "        text-align: right;\n",
       "    }\n",
       "</style>\n",
       "<table border=\"1\" class=\"dataframe\">\n",
       "  <thead>\n",
       "    <tr style=\"text-align: right;\">\n",
       "      <th></th>\n",
       "      <th>Cust_id</th>\n",
       "      <th>Age</th>\n",
       "      <th>CustID</th>\n",
       "      <th>Account Type</th>\n",
       "    </tr>\n",
       "  </thead>\n",
       "  <tbody>\n",
       "    <tr>\n",
       "      <th>0</th>\n",
       "      <td>AA1</td>\n",
       "      <td>17.0</td>\n",
       "      <td>AA1</td>\n",
       "      <td>AAA</td>\n",
       "    </tr>\n",
       "    <tr>\n",
       "      <th>1</th>\n",
       "      <td>AA2</td>\n",
       "      <td>18.0</td>\n",
       "      <td>NaN</td>\n",
       "      <td>NaN</td>\n",
       "    </tr>\n",
       "    <tr>\n",
       "      <th>2</th>\n",
       "      <td>AA3</td>\n",
       "      <td>33.0</td>\n",
       "      <td>NaN</td>\n",
       "      <td>NaN</td>\n",
       "    </tr>\n",
       "    <tr>\n",
       "      <th>3</th>\n",
       "      <td>AA4</td>\n",
       "      <td>21.0</td>\n",
       "      <td>AA4</td>\n",
       "      <td>B</td>\n",
       "    </tr>\n",
       "    <tr>\n",
       "      <th>4</th>\n",
       "      <td>AA5</td>\n",
       "      <td>14.0</td>\n",
       "      <td>NaN</td>\n",
       "      <td>NaN</td>\n",
       "    </tr>\n",
       "    <tr>\n",
       "      <th>5</th>\n",
       "      <td>AA6</td>\n",
       "      <td>81.0</td>\n",
       "      <td>AA6</td>\n",
       "      <td>AA</td>\n",
       "    </tr>\n",
       "    <tr>\n",
       "      <th>6</th>\n",
       "      <td>NaN</td>\n",
       "      <td>NaN</td>\n",
       "      <td>AA7</td>\n",
       "      <td>CCC</td>\n",
       "    </tr>\n",
       "    <tr>\n",
       "      <th>7</th>\n",
       "      <td>NaN</td>\n",
       "      <td>NaN</td>\n",
       "      <td>AA12</td>\n",
       "      <td>AAA</td>\n",
       "    </tr>\n",
       "    <tr>\n",
       "      <th>8</th>\n",
       "      <td>NaN</td>\n",
       "      <td>NaN</td>\n",
       "      <td>AA10</td>\n",
       "      <td>DDD</td>\n",
       "    </tr>\n",
       "  </tbody>\n",
       "</table>\n",
       "</div>"
      ],
      "text/plain": [
       "  Cust_id   Age CustID Account Type\n",
       "0     AA1  17.0    AA1          AAA\n",
       "1     AA2  18.0    NaN          NaN\n",
       "2     AA3  33.0    NaN          NaN\n",
       "3     AA4  21.0    AA4            B\n",
       "4     AA5  14.0    NaN          NaN\n",
       "5     AA6  81.0    AA6           AA\n",
       "6     NaN   NaN    AA7          CCC\n",
       "7     NaN   NaN   AA12          AAA\n",
       "8     NaN   NaN   AA10          DDD"
      ]
     },
     "execution_count": 121,
     "metadata": {},
     "output_type": "execute_result"
    }
   ],
   "source": [
    "## Outer Join\n",
    "pd.merge(customers,accounts,how=\"outer\",left_on=\"Cust_id\",right_on=\"CustID\")"
   ]
  },
  {
   "cell_type": "code",
   "execution_count": 127,
   "id": "43f85b3b-7ab5-4a3b-8966-fed0e7f9d84e",
   "metadata": {},
   "outputs": [],
   "source": [
    "accounts.to_csv(\"accounts.csv\")"
   ]
  },
  {
   "cell_type": "markdown",
   "id": "83fafdf3-73bf-4e7a-a41d-0b6c829e40a7",
   "metadata": {},
   "source": [
    "### Class Excercise (Joins)\n",
    "\n",
    "- Use the files contributions.csv and candidates.csv. The file contributions.csv contains data on contributions made to political parties. The file candidates.csv contains data on the demographics of candidates belonging to different political parties. What was the highest contribution made on a Sunday?\n",
    "\n",
    "- Use the files contributions.csv and candidates.csv. The file contributions.csv contains data on contributions made to political parties. The file candidates.csv contains data on the demographics of candidates belonging to different political parties. Is there a difference between the average donations received by Democrats on weekdays vs weekends? (In the column party, R stands for Republican and D stands for Democrats)\n",
    "\n",
    "- Use the files contributions.csv and candidates.csv. The file contributions.csv contains data on contributions made to political parties. The file candidates.csv contains data on the demographics of candidates belonging to different political parties. The highest amount contributed on weekdays towards Democrats is?  (In the column party, R stands for Republican and D stands for Democrats)"
   ]
  },
  {
   "cell_type": "code",
   "execution_count": 2,
   "id": "229bbdc8-461d-414c-bc17-a58a98dbb9d3",
   "metadata": {},
   "outputs": [],
   "source": [
    "path1 = \"/Users/gunnvantsaini/Library/CloudStorage/OneDrive-Personal/Work/Vired/Content/corp_trainings/tiger_analytics/data/candidates.csv\"\n",
    "path2 = \"/Users/gunnvantsaini/Library/CloudStorage/OneDrive-Personal/Work/Vired/Content/corp_trainings/tiger_analytics/data/contributions.csv\"\n",
    "candidates = pd.read_csv(path1)\n",
    "contributions = pd.read_csv(path2)"
   ]
  },
  {
   "cell_type": "code",
   "execution_count": 3,
   "id": "7ae9c4d5-6869-4cbc-a0e5-7cc11765e5a2",
   "metadata": {},
   "outputs": [
    {
     "data": {
      "text/html": [
       "<div>\n",
       "<style scoped>\n",
       "    .dataframe tbody tr th:only-of-type {\n",
       "        vertical-align: middle;\n",
       "    }\n",
       "\n",
       "    .dataframe tbody tr th {\n",
       "        vertical-align: top;\n",
       "    }\n",
       "\n",
       "    .dataframe thead th {\n",
       "        text-align: right;\n",
       "    }\n",
       "</style>\n",
       "<table border=\"1\" class=\"dataframe\">\n",
       "  <thead>\n",
       "    <tr style=\"text-align: right;\">\n",
       "      <th></th>\n",
       "      <th>id</th>\n",
       "      <th>first_name</th>\n",
       "      <th>last_name</th>\n",
       "      <th>middle_name</th>\n",
       "      <th>party</th>\n",
       "    </tr>\n",
       "  </thead>\n",
       "  <tbody>\n",
       "    <tr>\n",
       "      <th>0</th>\n",
       "      <td>33</td>\n",
       "      <td>Joseph</td>\n",
       "      <td>Biden</td>\n",
       "      <td>NaN</td>\n",
       "      <td>D</td>\n",
       "    </tr>\n",
       "    <tr>\n",
       "      <th>1</th>\n",
       "      <td>36</td>\n",
       "      <td>Samuel</td>\n",
       "      <td>Brownback</td>\n",
       "      <td>NaN</td>\n",
       "      <td>R</td>\n",
       "    </tr>\n",
       "  </tbody>\n",
       "</table>\n",
       "</div>"
      ],
      "text/plain": [
       "   id first_name  last_name middle_name party\n",
       "0  33     Joseph      Biden         NaN     D\n",
       "1  36     Samuel  Brownback         NaN     R"
      ]
     },
     "execution_count": 3,
     "metadata": {},
     "output_type": "execute_result"
    }
   ],
   "source": [
    "candidates.head(2)"
   ]
  },
  {
   "cell_type": "code",
   "execution_count": 4,
   "id": "ef9d23e1-a6d8-4a45-84b6-04b254d1c24c",
   "metadata": {},
   "outputs": [
    {
     "data": {
      "text/html": [
       "<div>\n",
       "<style scoped>\n",
       "    .dataframe tbody tr th:only-of-type {\n",
       "        vertical-align: middle;\n",
       "    }\n",
       "\n",
       "    .dataframe tbody tr th {\n",
       "        vertical-align: top;\n",
       "    }\n",
       "\n",
       "    .dataframe thead th {\n",
       "        text-align: right;\n",
       "    }\n",
       "</style>\n",
       "<table border=\"1\" class=\"dataframe\">\n",
       "  <thead>\n",
       "    <tr style=\"text-align: right;\">\n",
       "      <th></th>\n",
       "      <th>id</th>\n",
       "      <th>last_name</th>\n",
       "      <th>first_name</th>\n",
       "      <th>middle_name</th>\n",
       "      <th>street_1</th>\n",
       "      <th>street_2</th>\n",
       "      <th>city</th>\n",
       "      <th>state</th>\n",
       "      <th>zip</th>\n",
       "      <th>amount</th>\n",
       "      <th>date</th>\n",
       "      <th>candidate_id</th>\n",
       "    </tr>\n",
       "  </thead>\n",
       "  <tbody>\n",
       "    <tr>\n",
       "      <th>0</th>\n",
       "      <td>NaN</td>\n",
       "      <td>Agee</td>\n",
       "      <td>Steven</td>\n",
       "      <td>NaN</td>\n",
       "      <td>549 Laurel Branch Road</td>\n",
       "      <td>NaN</td>\n",
       "      <td>Floyd</td>\n",
       "      <td>VA</td>\n",
       "      <td>24091</td>\n",
       "      <td>500.0</td>\n",
       "      <td>2007-06-30</td>\n",
       "      <td>16</td>\n",
       "    </tr>\n",
       "    <tr>\n",
       "      <th>1</th>\n",
       "      <td>NaN</td>\n",
       "      <td>Ahrens</td>\n",
       "      <td>Don</td>\n",
       "      <td>NaN</td>\n",
       "      <td>4034 Rennellwood Way</td>\n",
       "      <td>NaN</td>\n",
       "      <td>Pleasanton</td>\n",
       "      <td>CA</td>\n",
       "      <td>94566</td>\n",
       "      <td>250.0</td>\n",
       "      <td>2007-05-16</td>\n",
       "      <td>16</td>\n",
       "    </tr>\n",
       "  </tbody>\n",
       "</table>\n",
       "</div>"
      ],
      "text/plain": [
       "   id last_name first_name middle_name                street_1 street_2  \\\n",
       "0 NaN      Agee     Steven         NaN  549 Laurel Branch Road      NaN   \n",
       "1 NaN    Ahrens        Don         NaN    4034 Rennellwood Way      NaN   \n",
       "\n",
       "         city state    zip  amount        date  candidate_id  \n",
       "0       Floyd    VA  24091   500.0  2007-06-30            16  \n",
       "1  Pleasanton    CA  94566   250.0  2007-05-16            16  "
      ]
     },
     "execution_count": 4,
     "metadata": {},
     "output_type": "execute_result"
    }
   ],
   "source": [
    "contributions.head(2)"
   ]
  },
  {
   "cell_type": "code",
   "execution_count": 5,
   "id": "004b74f0-7bc6-47d7-97b2-053bf2ed5125",
   "metadata": {},
   "outputs": [],
   "source": [
    "contributions['date'] = pd.to_datetime(contributions['date'])"
   ]
  },
  {
   "cell_type": "code",
   "execution_count": 6,
   "id": "9cf0495c-ddf7-42e1-9b77-3d452fb4ed5b",
   "metadata": {},
   "outputs": [],
   "source": [
    "contributions['dow'] = contributions['date'].dt.weekday"
   ]
  },
  {
   "cell_type": "code",
   "execution_count": 17,
   "id": "dae2941e-e575-4db0-acef-934211b9f94b",
   "metadata": {},
   "outputs": [
    {
     "data": {
      "text/plain": [
       "2300.0"
      ]
     },
     "execution_count": 17,
     "metadata": {},
     "output_type": "execute_result"
    }
   ],
   "source": [
    "## Q1\n",
    "contributions.query(\"dow==6\")['amount'].max()"
   ]
  },
  {
   "cell_type": "code",
   "execution_count": 9,
   "id": "a15ae832-5250-45ca-8302-e5589ab3c36a",
   "metadata": {},
   "outputs": [],
   "source": [
    "joined_table = pd.merge(contributions,candidates,how=\"inner\",left_on = \"candidate_id\", right_on=\"id\")"
   ]
  },
  {
   "cell_type": "code",
   "execution_count": 10,
   "id": "bcfaa394-d30f-4780-8e0e-03f6d2e9897d",
   "metadata": {},
   "outputs": [
    {
     "data": {
      "text/html": [
       "<div>\n",
       "<style scoped>\n",
       "    .dataframe tbody tr th:only-of-type {\n",
       "        vertical-align: middle;\n",
       "    }\n",
       "\n",
       "    .dataframe tbody tr th {\n",
       "        vertical-align: top;\n",
       "    }\n",
       "\n",
       "    .dataframe thead th {\n",
       "        text-align: right;\n",
       "    }\n",
       "</style>\n",
       "<table border=\"1\" class=\"dataframe\">\n",
       "  <thead>\n",
       "    <tr style=\"text-align: right;\">\n",
       "      <th></th>\n",
       "      <th>id_x</th>\n",
       "      <th>last_name_x</th>\n",
       "      <th>first_name_x</th>\n",
       "      <th>middle_name_x</th>\n",
       "      <th>street_1</th>\n",
       "      <th>street_2</th>\n",
       "      <th>city</th>\n",
       "      <th>state</th>\n",
       "      <th>zip</th>\n",
       "      <th>amount</th>\n",
       "      <th>date</th>\n",
       "      <th>candidate_id</th>\n",
       "      <th>dow</th>\n",
       "      <th>id_y</th>\n",
       "      <th>first_name_y</th>\n",
       "      <th>last_name_y</th>\n",
       "      <th>middle_name_y</th>\n",
       "      <th>party</th>\n",
       "    </tr>\n",
       "  </thead>\n",
       "  <tbody>\n",
       "    <tr>\n",
       "      <th>0</th>\n",
       "      <td>NaN</td>\n",
       "      <td>Agee</td>\n",
       "      <td>Steven</td>\n",
       "      <td>NaN</td>\n",
       "      <td>549 Laurel Branch Road</td>\n",
       "      <td>NaN</td>\n",
       "      <td>Floyd</td>\n",
       "      <td>VA</td>\n",
       "      <td>24091</td>\n",
       "      <td>500.0</td>\n",
       "      <td>2007-06-30</td>\n",
       "      <td>16</td>\n",
       "      <td>5</td>\n",
       "      <td>16</td>\n",
       "      <td>Mike</td>\n",
       "      <td>Huckabee</td>\n",
       "      <td>NaN</td>\n",
       "      <td>R</td>\n",
       "    </tr>\n",
       "    <tr>\n",
       "      <th>1</th>\n",
       "      <td>NaN</td>\n",
       "      <td>Ahrens</td>\n",
       "      <td>Don</td>\n",
       "      <td>NaN</td>\n",
       "      <td>4034 Rennellwood Way</td>\n",
       "      <td>NaN</td>\n",
       "      <td>Pleasanton</td>\n",
       "      <td>CA</td>\n",
       "      <td>94566</td>\n",
       "      <td>250.0</td>\n",
       "      <td>2007-05-16</td>\n",
       "      <td>16</td>\n",
       "      <td>2</td>\n",
       "      <td>16</td>\n",
       "      <td>Mike</td>\n",
       "      <td>Huckabee</td>\n",
       "      <td>NaN</td>\n",
       "      <td>R</td>\n",
       "    </tr>\n",
       "  </tbody>\n",
       "</table>\n",
       "</div>"
      ],
      "text/plain": [
       "   id_x last_name_x first_name_x middle_name_x                street_1  \\\n",
       "0   NaN        Agee       Steven           NaN  549 Laurel Branch Road   \n",
       "1   NaN      Ahrens          Don           NaN    4034 Rennellwood Way   \n",
       "\n",
       "  street_2        city state    zip  amount       date  candidate_id  dow  \\\n",
       "0      NaN       Floyd    VA  24091   500.0 2007-06-30            16    5   \n",
       "1      NaN  Pleasanton    CA  94566   250.0 2007-05-16            16    2   \n",
       "\n",
       "   id_y first_name_y last_name_y middle_name_y party  \n",
       "0    16         Mike    Huckabee           NaN     R  \n",
       "1    16         Mike    Huckabee           NaN     R  "
      ]
     },
     "execution_count": 10,
     "metadata": {},
     "output_type": "execute_result"
    }
   ],
   "source": [
    "joined_table.head(2)"
   ]
  },
  {
   "cell_type": "code",
   "execution_count": 20,
   "id": "856e85e3-e236-4fe4-9bd3-f6710e31bf5f",
   "metadata": {},
   "outputs": [
    {
     "data": {
      "text/plain": [
       "229.18571428571425"
      ]
     },
     "execution_count": 20,
     "metadata": {},
     "output_type": "execute_result"
    }
   ],
   "source": [
    "## weekday (Q2)\n",
    "joined_table.query(\"party == 'D' and dow <5\")['amount'].mean()"
   ]
  },
  {
   "cell_type": "code",
   "execution_count": 18,
   "id": "1f3eece2-020b-4aa1-bfa6-5721ecf6cc19",
   "metadata": {},
   "outputs": [
    {
     "data": {
      "text/plain": [
       "431.26125"
      ]
     },
     "execution_count": 18,
     "metadata": {},
     "output_type": "execute_result"
    }
   ],
   "source": [
    "## weekend (Q2)\n",
    "joined_table.query(\"party == 'D' and dow>=5\")['amount'].mean()"
   ]
  },
  {
   "cell_type": "code",
   "execution_count": 19,
   "id": "14b0e22b-6b49-4c11-a872-3382c1978de5",
   "metadata": {},
   "outputs": [
    {
     "data": {
      "text/plain": [
       "4600.0"
      ]
     },
     "execution_count": 19,
     "metadata": {},
     "output_type": "execute_result"
    }
   ],
   "source": [
    "## Q3\n",
    "joined_table.query(\"party == 'D' and dow <5\")['amount'].max()"
   ]
  },
  {
   "cell_type": "code",
   "execution_count": null,
   "id": "66241cc7-1110-4d24-b633-c2960e153a48",
   "metadata": {},
   "outputs": [],
   "source": []
  }
 ],
 "metadata": {
  "kernelspec": {
   "display_name": "Python 3 (ipykernel)",
   "language": "python",
   "name": "python3"
  },
  "language_info": {
   "codemirror_mode": {
    "name": "ipython",
    "version": 3
   },
   "file_extension": ".py",
   "mimetype": "text/x-python",
   "name": "python",
   "nbconvert_exporter": "python",
   "pygments_lexer": "ipython3",
   "version": "3.9.10"
  }
 },
 "nbformat": 4,
 "nbformat_minor": 5
}
