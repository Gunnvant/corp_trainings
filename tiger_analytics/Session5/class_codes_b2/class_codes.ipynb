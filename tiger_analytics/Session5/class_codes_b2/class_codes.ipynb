{
 "cells": [
  {
   "cell_type": "markdown",
   "id": "0a86e2f5-1cba-4f71-be23-497cc98ad73c",
   "metadata": {},
   "source": [
    "## Pandas (Contd..)\n",
    "\n",
    "- Date Manipulation\n",
    "- Work with strings\n",
    "- Join dataframes"
   ]
  },
  {
   "cell_type": "code",
   "execution_count": 1,
   "id": "55a76139-d6d5-44d8-b30e-0af4a0c0083d",
   "metadata": {},
   "outputs": [],
   "source": [
    "import pandas as pd\n",
    "path = \"/Users/gunnvantsaini/Library/CloudStorage/OneDrive-Personal/Work/Vired/Content/corp_trainings/tiger_analytics/data/stores.csv\"\n",
    "store = pd.read_csv(path)"
   ]
  },
  {
   "cell_type": "code",
   "execution_count": 2,
   "id": "eb9317af-7f28-41d1-8cfb-04c7558c2a11",
   "metadata": {},
   "outputs": [
    {
     "data": {
      "text/html": [
       "<div>\n",
       "<style scoped>\n",
       "    .dataframe tbody tr th:only-of-type {\n",
       "        vertical-align: middle;\n",
       "    }\n",
       "\n",
       "    .dataframe tbody tr th {\n",
       "        vertical-align: top;\n",
       "    }\n",
       "\n",
       "    .dataframe thead th {\n",
       "        text-align: right;\n",
       "    }\n",
       "</style>\n",
       "<table border=\"1\" class=\"dataframe\">\n",
       "  <thead>\n",
       "    <tr style=\"text-align: right;\">\n",
       "      <th></th>\n",
       "      <th>Row ID</th>\n",
       "      <th>Order ID</th>\n",
       "      <th>Order Date</th>\n",
       "      <th>Ship Date</th>\n",
       "      <th>Ship Mode</th>\n",
       "      <th>Customer ID</th>\n",
       "      <th>Customer Name</th>\n",
       "      <th>Segment</th>\n",
       "      <th>Country</th>\n",
       "      <th>City</th>\n",
       "      <th>...</th>\n",
       "      <th>Postal Code</th>\n",
       "      <th>Region</th>\n",
       "      <th>Product ID</th>\n",
       "      <th>Category</th>\n",
       "      <th>Sub-Category</th>\n",
       "      <th>Product Name</th>\n",
       "      <th>Sales</th>\n",
       "      <th>Quantity</th>\n",
       "      <th>Discount</th>\n",
       "      <th>Profit</th>\n",
       "    </tr>\n",
       "  </thead>\n",
       "  <tbody>\n",
       "    <tr>\n",
       "      <th>0</th>\n",
       "      <td>1</td>\n",
       "      <td>CA-2013-152156</td>\n",
       "      <td>11-09-2013</td>\n",
       "      <td>11-12-2013</td>\n",
       "      <td>Second Class</td>\n",
       "      <td>CG-12520</td>\n",
       "      <td>Claire Gute</td>\n",
       "      <td>Consumer</td>\n",
       "      <td>United States</td>\n",
       "      <td>Henderson</td>\n",
       "      <td>...</td>\n",
       "      <td>42420</td>\n",
       "      <td>South</td>\n",
       "      <td>FUR-BO-10001798</td>\n",
       "      <td>Furniture</td>\n",
       "      <td>Bookcases</td>\n",
       "      <td>Bush Somerset Collection Bookcase</td>\n",
       "      <td>261.96</td>\n",
       "      <td>2</td>\n",
       "      <td>0.0</td>\n",
       "      <td>41.9136</td>\n",
       "    </tr>\n",
       "    <tr>\n",
       "      <th>1</th>\n",
       "      <td>2</td>\n",
       "      <td>CA-2013-152156</td>\n",
       "      <td>11-09-2013</td>\n",
       "      <td>11-12-2013</td>\n",
       "      <td>Second Class</td>\n",
       "      <td>CG-12520</td>\n",
       "      <td>Claire Gute</td>\n",
       "      <td>Consumer</td>\n",
       "      <td>United States</td>\n",
       "      <td>Henderson</td>\n",
       "      <td>...</td>\n",
       "      <td>42420</td>\n",
       "      <td>South</td>\n",
       "      <td>FUR-CH-10000454</td>\n",
       "      <td>Furniture</td>\n",
       "      <td>Chairs</td>\n",
       "      <td>Hon Deluxe Fabric Upholstered Stacking Chairs,...</td>\n",
       "      <td>731.94</td>\n",
       "      <td>3</td>\n",
       "      <td>0.0</td>\n",
       "      <td>219.5820</td>\n",
       "    </tr>\n",
       "  </tbody>\n",
       "</table>\n",
       "<p>2 rows × 21 columns</p>\n",
       "</div>"
      ],
      "text/plain": [
       "   Row ID        Order ID  Order Date   Ship Date     Ship Mode Customer ID  \\\n",
       "0       1  CA-2013-152156  11-09-2013  11-12-2013  Second Class    CG-12520   \n",
       "1       2  CA-2013-152156  11-09-2013  11-12-2013  Second Class    CG-12520   \n",
       "\n",
       "  Customer Name   Segment        Country       City  ... Postal Code  Region  \\\n",
       "0   Claire Gute  Consumer  United States  Henderson  ...       42420   South   \n",
       "1   Claire Gute  Consumer  United States  Henderson  ...       42420   South   \n",
       "\n",
       "        Product ID   Category Sub-Category  \\\n",
       "0  FUR-BO-10001798  Furniture    Bookcases   \n",
       "1  FUR-CH-10000454  Furniture       Chairs   \n",
       "\n",
       "                                        Product Name   Sales  Quantity  \\\n",
       "0                  Bush Somerset Collection Bookcase  261.96         2   \n",
       "1  Hon Deluxe Fabric Upholstered Stacking Chairs,...  731.94         3   \n",
       "\n",
       "   Discount    Profit  \n",
       "0       0.0   41.9136  \n",
       "1       0.0  219.5820  \n",
       "\n",
       "[2 rows x 21 columns]"
      ]
     },
     "execution_count": 2,
     "metadata": {},
     "output_type": "execute_result"
    }
   ],
   "source": [
    "store.head(2)"
   ]
  },
  {
   "cell_type": "code",
   "execution_count": 3,
   "id": "e801bc15-4e44-4aae-9102-a9e70269854e",
   "metadata": {},
   "outputs": [],
   "source": [
    "### Month\n",
    "### Year\n",
    "### Weekday\n",
    "### Duration"
   ]
  },
  {
   "cell_type": "code",
   "execution_count": 4,
   "id": "f66e7600-d58b-478c-8eca-1c9055490de8",
   "metadata": {},
   "outputs": [
    {
     "data": {
      "text/plain": [
       "Row ID             int64\n",
       "Order ID          object\n",
       "Order Date        object\n",
       "Ship Date         object\n",
       "Ship Mode         object\n",
       "Customer ID       object\n",
       "Customer Name     object\n",
       "Segment           object\n",
       "Country           object\n",
       "City              object\n",
       "State             object\n",
       "Postal Code        int64\n",
       "Region            object\n",
       "Product ID        object\n",
       "Category          object\n",
       "Sub-Category      object\n",
       "Product Name      object\n",
       "Sales            float64\n",
       "Quantity           int64\n",
       "Discount         float64\n",
       "Profit           float64\n",
       "dtype: object"
      ]
     },
     "execution_count": 4,
     "metadata": {},
     "output_type": "execute_result"
    }
   ],
   "source": [
    "store.dtypes"
   ]
  },
  {
   "cell_type": "code",
   "execution_count": 5,
   "id": "230226e5-b4bd-4e2e-b07b-dbf3530ff361",
   "metadata": {},
   "outputs": [],
   "source": [
    "store['Order Date']=pd.to_datetime(store['Order Date'])"
   ]
  },
  {
   "cell_type": "code",
   "execution_count": 7,
   "id": "bd7576fa-133a-40f2-9f84-326b74b60c55",
   "metadata": {},
   "outputs": [],
   "source": [
    "store['Ship Date'] = pd.to_datetime(store['Ship Date'])"
   ]
  },
  {
   "cell_type": "code",
   "execution_count": 9,
   "id": "586c69bc-424f-4058-9f7c-927087dbf6fb",
   "metadata": {},
   "outputs": [
    {
     "data": {
      "text/plain": [
       "Row ID                    int64\n",
       "Order ID                 object\n",
       "Order Date       datetime64[ns]\n",
       "Ship Date        datetime64[ns]\n",
       "Ship Mode                object\n",
       "Customer ID              object\n",
       "Customer Name            object\n",
       "Segment                  object\n",
       "Country                  object\n",
       "City                     object\n",
       "State                    object\n",
       "Postal Code               int64\n",
       "Region                   object\n",
       "Product ID               object\n",
       "Category                 object\n",
       "Sub-Category             object\n",
       "Product Name             object\n",
       "Sales                   float64\n",
       "Quantity                  int64\n",
       "Discount                float64\n",
       "Profit                  float64\n",
       "dtype: object"
      ]
     },
     "execution_count": 9,
     "metadata": {},
     "output_type": "execute_result"
    }
   ],
   "source": [
    "store.dtypes"
   ]
  },
  {
   "cell_type": "code",
   "execution_count": 10,
   "id": "27e93493-2a03-4e92-a3ef-296744d5a4db",
   "metadata": {},
   "outputs": [
    {
     "data": {
      "text/plain": [
       "0       2013\n",
       "1       2013\n",
       "2       2013\n",
       "3       2012\n",
       "4       2012\n",
       "        ... \n",
       "9989    2011\n",
       "9990    2014\n",
       "9991    2014\n",
       "9992    2014\n",
       "9993    2014\n",
       "Name: Order Date, Length: 9994, dtype: int64"
      ]
     },
     "execution_count": 10,
     "metadata": {},
     "output_type": "execute_result"
    }
   ],
   "source": [
    "store['Order Date'].dt.year"
   ]
  },
  {
   "cell_type": "code",
   "execution_count": 11,
   "id": "d3959292-4972-4d6c-aab9-27e4df879da7",
   "metadata": {},
   "outputs": [
    {
     "data": {
      "text/plain": [
       "0       11\n",
       "1       11\n",
       "2        6\n",
       "3       10\n",
       "4       10\n",
       "        ..\n",
       "9989     1\n",
       "9990     2\n",
       "9991     2\n",
       "9992     2\n",
       "9993     5\n",
       "Name: Order Date, Length: 9994, dtype: int64"
      ]
     },
     "execution_count": 11,
     "metadata": {},
     "output_type": "execute_result"
    }
   ],
   "source": [
    "store['Order Date'].dt.month"
   ]
  },
  {
   "cell_type": "code",
   "execution_count": 12,
   "id": "a335c0dd-83e8-4c5a-91d5-17a6bd2e637c",
   "metadata": {},
   "outputs": [
    {
     "data": {
      "text/plain": [
       "0       5\n",
       "1       5\n",
       "2       3\n",
       "3       3\n",
       "4       3\n",
       "       ..\n",
       "9989    5\n",
       "9990    3\n",
       "9991    3\n",
       "9992    3\n",
       "9993    0\n",
       "Name: Order Date, Length: 9994, dtype: int64"
      ]
     },
     "execution_count": 12,
     "metadata": {},
     "output_type": "execute_result"
    }
   ],
   "source": [
    "store['Order Date'].dt.weekday ###0-> Monday, 6->Sunday"
   ]
  },
  {
   "cell_type": "markdown",
   "id": "71430749-4093-426f-bc79-fb93df26368e",
   "metadata": {},
   "source": [
    "### Class Excercise: Flight Delays Dataset\n",
    "\n",
    "**Load the data set FlightDelays, the data has information on the flights over the year 2004 and if a particular flight was delayed or not**\n",
    "\n",
    "1. Find out the number of delayed flights for all weekdays,\n",
    "2. Find the average distance, total distance and count for all delayed flights on Friday\n",
    "3. Find out how many flights were on time on Week days and Weekends (Consider Saturday and Sunday as weekends)\n",
    "4. Find out the number of flights for each destination across all weekdays\n",
    "5. Find out the number of times weather was bad across all weekdays. (1 indicates bad weather)"
   ]
  },
  {
   "cell_type": "code",
   "execution_count": 13,
   "id": "14611465-ea8f-428e-8f95-73e50e4904a7",
   "metadata": {},
   "outputs": [
    {
     "data": {
      "text/html": [
       "<div>\n",
       "<style scoped>\n",
       "    .dataframe tbody tr th:only-of-type {\n",
       "        vertical-align: middle;\n",
       "    }\n",
       "\n",
       "    .dataframe tbody tr th {\n",
       "        vertical-align: top;\n",
       "    }\n",
       "\n",
       "    .dataframe thead th {\n",
       "        text-align: right;\n",
       "    }\n",
       "</style>\n",
       "<table border=\"1\" class=\"dataframe\">\n",
       "  <thead>\n",
       "    <tr style=\"text-align: right;\">\n",
       "      <th></th>\n",
       "      <th>schedtime</th>\n",
       "      <th>carrier</th>\n",
       "      <th>deptime</th>\n",
       "      <th>dest</th>\n",
       "      <th>distance</th>\n",
       "      <th>date</th>\n",
       "      <th>flightnumber</th>\n",
       "      <th>origin</th>\n",
       "      <th>weather</th>\n",
       "      <th>tailnu</th>\n",
       "      <th>delay</th>\n",
       "    </tr>\n",
       "  </thead>\n",
       "  <tbody>\n",
       "    <tr>\n",
       "      <th>0</th>\n",
       "      <td>1455</td>\n",
       "      <td>OH</td>\n",
       "      <td>1455</td>\n",
       "      <td>JFK</td>\n",
       "      <td>184</td>\n",
       "      <td>01-01-2004</td>\n",
       "      <td>5935</td>\n",
       "      <td>BWI</td>\n",
       "      <td>0</td>\n",
       "      <td>N940CA</td>\n",
       "      <td>ontime</td>\n",
       "    </tr>\n",
       "    <tr>\n",
       "      <th>1</th>\n",
       "      <td>1640</td>\n",
       "      <td>DH</td>\n",
       "      <td>1640</td>\n",
       "      <td>JFK</td>\n",
       "      <td>213</td>\n",
       "      <td>01-01-2004</td>\n",
       "      <td>6155</td>\n",
       "      <td>DCA</td>\n",
       "      <td>0</td>\n",
       "      <td>N405FJ</td>\n",
       "      <td>ontime</td>\n",
       "    </tr>\n",
       "  </tbody>\n",
       "</table>\n",
       "</div>"
      ],
      "text/plain": [
       "   schedtime carrier  deptime dest  distance        date  flightnumber origin  \\\n",
       "0       1455      OH     1455  JFK       184  01-01-2004          5935    BWI   \n",
       "1       1640      DH     1640  JFK       213  01-01-2004          6155    DCA   \n",
       "\n",
       "   weather  tailnu   delay  \n",
       "0        0  N940CA  ontime  \n",
       "1        0  N405FJ  ontime  "
      ]
     },
     "execution_count": 13,
     "metadata": {},
     "output_type": "execute_result"
    }
   ],
   "source": [
    "path = \"/Users/gunnvantsaini/Library/CloudStorage/OneDrive-Personal/Work/Vired/Content/corp_trainings/tiger_analytics/data/FlightDelays.csv\"\n",
    "fd = pd.read_csv(path)\n",
    "fd.head(2)"
   ]
  },
  {
   "cell_type": "code",
   "execution_count": 14,
   "id": "21b37a2f-4e35-4cf6-90fb-5cd0bf58121a",
   "metadata": {},
   "outputs": [],
   "source": [
    "fd['date'] = pd.to_datetime(fd['date'])"
   ]
  },
  {
   "cell_type": "code",
   "execution_count": 16,
   "id": "5466d972-9331-4348-889f-40afd3ae60d4",
   "metadata": {},
   "outputs": [],
   "source": [
    "fd['day_of_week']=fd['date'].dt.weekday ## 0-> Monday, 6->Sunday"
   ]
  },
  {
   "cell_type": "code",
   "execution_count": 19,
   "id": "e388bda4-500b-414a-8bf6-3e8bef1607ea",
   "metadata": {},
   "outputs": [
    {
     "data": {
      "text/plain": [
       "336"
      ]
     },
     "execution_count": 19,
     "metadata": {},
     "output_type": "execute_result"
    }
   ],
   "source": [
    "##Q1\n",
    "fd.query(\"day_of_week<5 and delay!='ontime'\").shape[0]"
   ]
  },
  {
   "cell_type": "code",
   "execution_count": 21,
   "id": "4f5120d9-4e5b-4aa2-93eb-a88450336894",
   "metadata": {},
   "outputs": [
    {
     "data": {
      "text/plain": [
       "75"
      ]
     },
     "execution_count": 21,
     "metadata": {},
     "output_type": "execute_result"
    }
   ],
   "source": [
    "##Q2\n",
    "fd.query(\"delay=='delayed' and day_of_week==4\").shape[0] ## count"
   ]
  },
  {
   "cell_type": "code",
   "execution_count": 23,
   "id": "8a230fe3-6b42-46c2-b95f-e74c7d92edb1",
   "metadata": {},
   "outputs": [
    {
     "data": {
      "text/plain": [
       "15771"
      ]
     },
     "execution_count": 23,
     "metadata": {},
     "output_type": "execute_result"
    }
   ],
   "source": [
    "fd.query(\"delay=='delayed' and day_of_week==4\")['distance'].sum()"
   ]
  },
  {
   "cell_type": "code",
   "execution_count": 24,
   "id": "9553ad1a-d2a1-4f62-a7d6-b24696eb5cfe",
   "metadata": {},
   "outputs": [
    {
     "data": {
      "text/plain": [
       "210.28"
      ]
     },
     "execution_count": 24,
     "metadata": {},
     "output_type": "execute_result"
    }
   ],
   "source": [
    "fd.query(\"delay=='delayed' and day_of_week==4\")['distance'].mean()"
   ]
  },
  {
   "cell_type": "code",
   "execution_count": 26,
   "id": "92e3fd46-6797-444c-91d6-ab3317dbd9ba",
   "metadata": {},
   "outputs": [
    {
     "data": {
      "text/html": [
       "<div>\n",
       "<style scoped>\n",
       "    .dataframe tbody tr th:only-of-type {\n",
       "        vertical-align: middle;\n",
       "    }\n",
       "\n",
       "    .dataframe tbody tr th {\n",
       "        vertical-align: top;\n",
       "    }\n",
       "\n",
       "    .dataframe thead th {\n",
       "        text-align: right;\n",
       "    }\n",
       "</style>\n",
       "<table border=\"1\" class=\"dataframe\">\n",
       "  <thead>\n",
       "    <tr style=\"text-align: right;\">\n",
       "      <th></th>\n",
       "      <th>distance</th>\n",
       "    </tr>\n",
       "  </thead>\n",
       "  <tbody>\n",
       "    <tr>\n",
       "      <th>sum</th>\n",
       "      <td>15771.00</td>\n",
       "    </tr>\n",
       "    <tr>\n",
       "      <th>mean</th>\n",
       "      <td>210.28</td>\n",
       "    </tr>\n",
       "    <tr>\n",
       "      <th>count</th>\n",
       "      <td>75.00</td>\n",
       "    </tr>\n",
       "  </tbody>\n",
       "</table>\n",
       "</div>"
      ],
      "text/plain": [
       "       distance\n",
       "sum    15771.00\n",
       "mean     210.28\n",
       "count     75.00"
      ]
     },
     "execution_count": 26,
     "metadata": {},
     "output_type": "execute_result"
    }
   ],
   "source": [
    "fd.query(\"delay=='delayed' and day_of_week==4\").agg({'distance':['sum','mean','count']})"
   ]
  },
  {
   "cell_type": "code",
   "execution_count": 27,
   "id": "15a37dbe-7fbf-47aa-8ff3-bf9cf1693f9c",
   "metadata": {},
   "outputs": [
    {
     "data": {
      "text/plain": [
       "1362"
      ]
     },
     "execution_count": 27,
     "metadata": {},
     "output_type": "execute_result"
    }
   ],
   "source": [
    "##Q3\n",
    "#weekdays\n",
    "fd.query(\"delay=='ontime' and day_of_week<5\").shape[0]"
   ]
  },
  {
   "cell_type": "code",
   "execution_count": 28,
   "id": "4c8c5ad5-3a4f-4275-8954-0e8905cfeb62",
   "metadata": {},
   "outputs": [
    {
     "data": {
      "text/plain": [
       "411"
      ]
     },
     "execution_count": 28,
     "metadata": {},
     "output_type": "execute_result"
    }
   ],
   "source": [
    "## weekends\n",
    "fd.query(\"delay=='ontime' and day_of_week>=5\").shape[0]"
   ]
  },
  {
   "cell_type": "code",
   "execution_count": 30,
   "id": "12f147b4-71e2-4cf7-9154-83ebdb4ace0b",
   "metadata": {},
   "outputs": [
    {
     "data": {
      "text/html": [
       "<div>\n",
       "<style scoped>\n",
       "    .dataframe tbody tr th:only-of-type {\n",
       "        vertical-align: middle;\n",
       "    }\n",
       "\n",
       "    .dataframe tbody tr th {\n",
       "        vertical-align: top;\n",
       "    }\n",
       "\n",
       "    .dataframe thead th {\n",
       "        text-align: right;\n",
       "    }\n",
       "</style>\n",
       "<table border=\"1\" class=\"dataframe\">\n",
       "  <thead>\n",
       "    <tr style=\"text-align: right;\">\n",
       "      <th></th>\n",
       "      <th>dest</th>\n",
       "    </tr>\n",
       "    <tr>\n",
       "      <th>dest</th>\n",
       "      <th></th>\n",
       "    </tr>\n",
       "  </thead>\n",
       "  <tbody>\n",
       "    <tr>\n",
       "      <th>EWR</th>\n",
       "      <td>507</td>\n",
       "    </tr>\n",
       "    <tr>\n",
       "      <th>JFK</th>\n",
       "      <td>272</td>\n",
       "    </tr>\n",
       "    <tr>\n",
       "      <th>LGA</th>\n",
       "      <td>919</td>\n",
       "    </tr>\n",
       "  </tbody>\n",
       "</table>\n",
       "</div>"
      ],
      "text/plain": [
       "      dest\n",
       "dest      \n",
       "EWR    507\n",
       "JFK    272\n",
       "LGA    919"
      ]
     },
     "execution_count": 30,
     "metadata": {},
     "output_type": "execute_result"
    }
   ],
   "source": [
    "##Q4\n",
    "fd.query(\"day_of_week<5\").groupby('dest').agg({'dest':'count'})"
   ]
  },
  {
   "cell_type": "code",
   "execution_count": 31,
   "id": "820563d8-c388-4efe-afd1-c705c11b0623",
   "metadata": {},
   "outputs": [
    {
     "data": {
      "text/plain": [
       "30"
      ]
     },
     "execution_count": 31,
     "metadata": {},
     "output_type": "execute_result"
    }
   ],
   "source": [
    "##Q5\n",
    "fd.query(\"weather==1 and day_of_week<5\").shape[0]"
   ]
  },
  {
   "cell_type": "code",
   "execution_count": 32,
   "id": "dcfc25f5-d90d-4f38-8549-cb5360ccea5b",
   "metadata": {},
   "outputs": [
    {
     "data": {
      "text/html": [
       "<div>\n",
       "<style scoped>\n",
       "    .dataframe tbody tr th:only-of-type {\n",
       "        vertical-align: middle;\n",
       "    }\n",
       "\n",
       "    .dataframe tbody tr th {\n",
       "        vertical-align: top;\n",
       "    }\n",
       "\n",
       "    .dataframe thead th {\n",
       "        text-align: right;\n",
       "    }\n",
       "</style>\n",
       "<table border=\"1\" class=\"dataframe\">\n",
       "  <thead>\n",
       "    <tr style=\"text-align: right;\">\n",
       "      <th></th>\n",
       "      <th>Row ID</th>\n",
       "      <th>Order ID</th>\n",
       "      <th>Order Date</th>\n",
       "      <th>Ship Date</th>\n",
       "      <th>Ship Mode</th>\n",
       "      <th>Customer ID</th>\n",
       "      <th>Customer Name</th>\n",
       "      <th>Segment</th>\n",
       "      <th>Country</th>\n",
       "      <th>City</th>\n",
       "      <th>...</th>\n",
       "      <th>Postal Code</th>\n",
       "      <th>Region</th>\n",
       "      <th>Product ID</th>\n",
       "      <th>Category</th>\n",
       "      <th>Sub-Category</th>\n",
       "      <th>Product Name</th>\n",
       "      <th>Sales</th>\n",
       "      <th>Quantity</th>\n",
       "      <th>Discount</th>\n",
       "      <th>Profit</th>\n",
       "    </tr>\n",
       "  </thead>\n",
       "  <tbody>\n",
       "    <tr>\n",
       "      <th>0</th>\n",
       "      <td>1</td>\n",
       "      <td>CA-2013-152156</td>\n",
       "      <td>2013-11-09</td>\n",
       "      <td>2013-11-12</td>\n",
       "      <td>Second Class</td>\n",
       "      <td>CG-12520</td>\n",
       "      <td>Claire Gute</td>\n",
       "      <td>Consumer</td>\n",
       "      <td>United States</td>\n",
       "      <td>Henderson</td>\n",
       "      <td>...</td>\n",
       "      <td>42420</td>\n",
       "      <td>South</td>\n",
       "      <td>FUR-BO-10001798</td>\n",
       "      <td>Furniture</td>\n",
       "      <td>Bookcases</td>\n",
       "      <td>Bush Somerset Collection Bookcase</td>\n",
       "      <td>261.96</td>\n",
       "      <td>2</td>\n",
       "      <td>0.0</td>\n",
       "      <td>41.9136</td>\n",
       "    </tr>\n",
       "    <tr>\n",
       "      <th>1</th>\n",
       "      <td>2</td>\n",
       "      <td>CA-2013-152156</td>\n",
       "      <td>2013-11-09</td>\n",
       "      <td>2013-11-12</td>\n",
       "      <td>Second Class</td>\n",
       "      <td>CG-12520</td>\n",
       "      <td>Claire Gute</td>\n",
       "      <td>Consumer</td>\n",
       "      <td>United States</td>\n",
       "      <td>Henderson</td>\n",
       "      <td>...</td>\n",
       "      <td>42420</td>\n",
       "      <td>South</td>\n",
       "      <td>FUR-CH-10000454</td>\n",
       "      <td>Furniture</td>\n",
       "      <td>Chairs</td>\n",
       "      <td>Hon Deluxe Fabric Upholstered Stacking Chairs,...</td>\n",
       "      <td>731.94</td>\n",
       "      <td>3</td>\n",
       "      <td>0.0</td>\n",
       "      <td>219.5820</td>\n",
       "    </tr>\n",
       "  </tbody>\n",
       "</table>\n",
       "<p>2 rows × 21 columns</p>\n",
       "</div>"
      ],
      "text/plain": [
       "   Row ID        Order ID Order Date  Ship Date     Ship Mode Customer ID  \\\n",
       "0       1  CA-2013-152156 2013-11-09 2013-11-12  Second Class    CG-12520   \n",
       "1       2  CA-2013-152156 2013-11-09 2013-11-12  Second Class    CG-12520   \n",
       "\n",
       "  Customer Name   Segment        Country       City  ... Postal Code  Region  \\\n",
       "0   Claire Gute  Consumer  United States  Henderson  ...       42420   South   \n",
       "1   Claire Gute  Consumer  United States  Henderson  ...       42420   South   \n",
       "\n",
       "        Product ID   Category Sub-Category  \\\n",
       "0  FUR-BO-10001798  Furniture    Bookcases   \n",
       "1  FUR-CH-10000454  Furniture       Chairs   \n",
       "\n",
       "                                        Product Name   Sales  Quantity  \\\n",
       "0                  Bush Somerset Collection Bookcase  261.96         2   \n",
       "1  Hon Deluxe Fabric Upholstered Stacking Chairs,...  731.94         3   \n",
       "\n",
       "   Discount    Profit  \n",
       "0       0.0   41.9136  \n",
       "1       0.0  219.5820  \n",
       "\n",
       "[2 rows x 21 columns]"
      ]
     },
     "execution_count": 32,
     "metadata": {},
     "output_type": "execute_result"
    }
   ],
   "source": [
    "store.head(2)"
   ]
  },
  {
   "cell_type": "markdown",
   "id": "7e28160a-b363-40c5-bbe0-52a4f9d12f70",
   "metadata": {},
   "source": [
    "- if sales>5000, high\n",
    "- if 2000=<sales<=5000, medium\n",
    "- if sales<2000, low\n",
    "\n",
    "map(f,iterable)"
   ]
  },
  {
   "cell_type": "code",
   "execution_count": 33,
   "id": "d8332721-906f-4126-96ab-94a4b836c335",
   "metadata": {},
   "outputs": [],
   "source": [
    "def cat_sales(x):\n",
    "    result = None\n",
    "    if x > 5000:\n",
    "        result =  \"high\"\n",
    "    elif x<=5000 and x>=2000:\n",
    "        result =  \"medium\"\n",
    "    else:\n",
    "        result =  \"low\"\n",
    "    return result"
   ]
  },
  {
   "cell_type": "code",
   "execution_count": 37,
   "id": "380f63a6-82ff-4c80-b52e-d3549c100188",
   "metadata": {},
   "outputs": [],
   "source": [
    "store['sales_cat']=store['Sales'].map(cat_sales)"
   ]
  },
  {
   "cell_type": "code",
   "execution_count": 38,
   "id": "74df492b-c397-4ae5-8bfc-03d0466e9a82",
   "metadata": {},
   "outputs": [
    {
     "data": {
      "text/html": [
       "<div>\n",
       "<style scoped>\n",
       "    .dataframe tbody tr th:only-of-type {\n",
       "        vertical-align: middle;\n",
       "    }\n",
       "\n",
       "    .dataframe tbody tr th {\n",
       "        vertical-align: top;\n",
       "    }\n",
       "\n",
       "    .dataframe thead th {\n",
       "        text-align: right;\n",
       "    }\n",
       "</style>\n",
       "<table border=\"1\" class=\"dataframe\">\n",
       "  <thead>\n",
       "    <tr style=\"text-align: right;\">\n",
       "      <th></th>\n",
       "      <th>Row ID</th>\n",
       "      <th>Order ID</th>\n",
       "      <th>Order Date</th>\n",
       "      <th>Ship Date</th>\n",
       "      <th>Ship Mode</th>\n",
       "      <th>Customer ID</th>\n",
       "      <th>Customer Name</th>\n",
       "      <th>Segment</th>\n",
       "      <th>Country</th>\n",
       "      <th>City</th>\n",
       "      <th>...</th>\n",
       "      <th>Region</th>\n",
       "      <th>Product ID</th>\n",
       "      <th>Category</th>\n",
       "      <th>Sub-Category</th>\n",
       "      <th>Product Name</th>\n",
       "      <th>Sales</th>\n",
       "      <th>Quantity</th>\n",
       "      <th>Discount</th>\n",
       "      <th>Profit</th>\n",
       "      <th>sales_cat</th>\n",
       "    </tr>\n",
       "  </thead>\n",
       "  <tbody>\n",
       "    <tr>\n",
       "      <th>0</th>\n",
       "      <td>1</td>\n",
       "      <td>CA-2013-152156</td>\n",
       "      <td>2013-11-09</td>\n",
       "      <td>2013-11-12</td>\n",
       "      <td>Second Class</td>\n",
       "      <td>CG-12520</td>\n",
       "      <td>Claire Gute</td>\n",
       "      <td>Consumer</td>\n",
       "      <td>United States</td>\n",
       "      <td>Henderson</td>\n",
       "      <td>...</td>\n",
       "      <td>South</td>\n",
       "      <td>FUR-BO-10001798</td>\n",
       "      <td>Furniture</td>\n",
       "      <td>Bookcases</td>\n",
       "      <td>Bush Somerset Collection Bookcase</td>\n",
       "      <td>261.96</td>\n",
       "      <td>2</td>\n",
       "      <td>0.0</td>\n",
       "      <td>41.9136</td>\n",
       "      <td>low</td>\n",
       "    </tr>\n",
       "    <tr>\n",
       "      <th>1</th>\n",
       "      <td>2</td>\n",
       "      <td>CA-2013-152156</td>\n",
       "      <td>2013-11-09</td>\n",
       "      <td>2013-11-12</td>\n",
       "      <td>Second Class</td>\n",
       "      <td>CG-12520</td>\n",
       "      <td>Claire Gute</td>\n",
       "      <td>Consumer</td>\n",
       "      <td>United States</td>\n",
       "      <td>Henderson</td>\n",
       "      <td>...</td>\n",
       "      <td>South</td>\n",
       "      <td>FUR-CH-10000454</td>\n",
       "      <td>Furniture</td>\n",
       "      <td>Chairs</td>\n",
       "      <td>Hon Deluxe Fabric Upholstered Stacking Chairs,...</td>\n",
       "      <td>731.94</td>\n",
       "      <td>3</td>\n",
       "      <td>0.0</td>\n",
       "      <td>219.5820</td>\n",
       "      <td>low</td>\n",
       "    </tr>\n",
       "  </tbody>\n",
       "</table>\n",
       "<p>2 rows × 22 columns</p>\n",
       "</div>"
      ],
      "text/plain": [
       "   Row ID        Order ID Order Date  Ship Date     Ship Mode Customer ID  \\\n",
       "0       1  CA-2013-152156 2013-11-09 2013-11-12  Second Class    CG-12520   \n",
       "1       2  CA-2013-152156 2013-11-09 2013-11-12  Second Class    CG-12520   \n",
       "\n",
       "  Customer Name   Segment        Country       City  ... Region  \\\n",
       "0   Claire Gute  Consumer  United States  Henderson  ...  South   \n",
       "1   Claire Gute  Consumer  United States  Henderson  ...  South   \n",
       "\n",
       "        Product ID   Category Sub-Category  \\\n",
       "0  FUR-BO-10001798  Furniture    Bookcases   \n",
       "1  FUR-CH-10000454  Furniture       Chairs   \n",
       "\n",
       "                                        Product Name   Sales Quantity  \\\n",
       "0                  Bush Somerset Collection Bookcase  261.96        2   \n",
       "1  Hon Deluxe Fabric Upholstered Stacking Chairs,...  731.94        3   \n",
       "\n",
       "   Discount    Profit  sales_cat  \n",
       "0       0.0   41.9136        low  \n",
       "1       0.0  219.5820        low  \n",
       "\n",
       "[2 rows x 22 columns]"
      ]
     },
     "execution_count": 38,
     "metadata": {},
     "output_type": "execute_result"
    }
   ],
   "source": [
    "store.head(2)"
   ]
  },
  {
   "cell_type": "code",
   "execution_count": 39,
   "id": "e86e6ce1-e3e5-4f22-be18-9beb6dcac5af",
   "metadata": {},
   "outputs": [],
   "source": [
    "url = \"https://raw.githubusercontent.com/Gunnvant/corp_trainings/main/tiger_analytics/data/comey.csv\""
   ]
  },
  {
   "cell_type": "code",
   "execution_count": 41,
   "id": "99adf27a-fcd2-4f0f-8175-66e6ee80b3c8",
   "metadata": {},
   "outputs": [],
   "source": [
    "comey = pd.read_csv(url, encoding=\"latin1\")"
   ]
  },
  {
   "cell_type": "code",
   "execution_count": 42,
   "id": "7f1fac08-06ca-499d-89ad-459d257507a0",
   "metadata": {},
   "outputs": [
    {
     "data": {
      "text/html": [
       "<div>\n",
       "<style scoped>\n",
       "    .dataframe tbody tr th:only-of-type {\n",
       "        vertical-align: middle;\n",
       "    }\n",
       "\n",
       "    .dataframe tbody tr th {\n",
       "        vertical-align: top;\n",
       "    }\n",
       "\n",
       "    .dataframe thead th {\n",
       "        text-align: right;\n",
       "    }\n",
       "</style>\n",
       "<table border=\"1\" class=\"dataframe\">\n",
       "  <thead>\n",
       "    <tr style=\"text-align: right;\">\n",
       "      <th></th>\n",
       "      <th>Senator</th>\n",
       "      <th>Party Affiliation</th>\n",
       "      <th>Full Question</th>\n",
       "      <th>Comey</th>\n",
       "      <th>Comey Response</th>\n",
       "    </tr>\n",
       "  </thead>\n",
       "  <tbody>\n",
       "    <tr>\n",
       "      <th>0</th>\n",
       "      <td>BURR</td>\n",
       "      <td>Republican</td>\n",
       "      <td>Do you have any doubt that Russia attempted to...</td>\n",
       "      <td>COMEY</td>\n",
       "      <td>None.</td>\n",
       "    </tr>\n",
       "    <tr>\n",
       "      <th>1</th>\n",
       "      <td>BURR</td>\n",
       "      <td>Republican</td>\n",
       "      <td>Do you have any doubt that the Russian governm...</td>\n",
       "      <td>COMEY</td>\n",
       "      <td>No, no doubt.</td>\n",
       "    </tr>\n",
       "    <tr>\n",
       "      <th>2</th>\n",
       "      <td>BURR</td>\n",
       "      <td>Republican</td>\n",
       "      <td>Do you have any doubt the Russian government w...</td>\n",
       "      <td>COMEY</td>\n",
       "      <td>No.</td>\n",
       "    </tr>\n",
       "    <tr>\n",
       "      <th>3</th>\n",
       "      <td>BURR</td>\n",
       "      <td>Republican</td>\n",
       "      <td>Are you confident that no votes cast in the 20...</td>\n",
       "      <td>COMEY</td>\n",
       "      <td>I'm confident. When I left as director I had s...</td>\n",
       "    </tr>\n",
       "    <tr>\n",
       "      <th>4</th>\n",
       "      <td>BURR</td>\n",
       "      <td>Republican</td>\n",
       "      <td>Director Comey, did the president at any time ...</td>\n",
       "      <td>COMEY</td>\n",
       "      <td>Not to my understanding, no.</td>\n",
       "    </tr>\n",
       "  </tbody>\n",
       "</table>\n",
       "</div>"
      ],
      "text/plain": [
       "  Senator Party Affiliation  \\\n",
       "0    BURR        Republican   \n",
       "1    BURR        Republican   \n",
       "2    BURR        Republican   \n",
       "3    BURR        Republican   \n",
       "4    BURR        Republican   \n",
       "\n",
       "                                       Full Question  Comey  \\\n",
       "0  Do you have any doubt that Russia attempted to...  COMEY   \n",
       "1  Do you have any doubt that the Russian governm...  COMEY   \n",
       "2  Do you have any doubt the Russian government w...  COMEY   \n",
       "3  Are you confident that no votes cast in the 20...  COMEY   \n",
       "4  Director Comey, did the president at any time ...  COMEY   \n",
       "\n",
       "                                      Comey Response  \n",
       "0                                              None.  \n",
       "1                                      No, no doubt.  \n",
       "2                                                No.  \n",
       "3  I'm confident. When I left as director I had s...  \n",
       "4                       Not to my understanding, no.  "
      ]
     },
     "execution_count": 42,
     "metadata": {},
     "output_type": "execute_result"
    }
   ],
   "source": [
    "comey.head()"
   ]
  },
  {
   "cell_type": "code",
   "execution_count": 45,
   "id": "2b538b89-aff9-4a84-9ebe-1b45fa48e82d",
   "metadata": {},
   "outputs": [
    {
     "data": {
      "text/plain": [
       "0      Do you have any doubt that Russia attempted to...\n",
       "1      Do you have any doubt that the Russian governm...\n",
       "2      Do you have any doubt the Russian government w...\n",
       "3      Are you confident that no votes cast in the 20...\n",
       "4      Director Comey, did the president at any time ...\n",
       "                             ...                        \n",
       "293    So both President Trump and former candidate C...\n",
       "294                              Why didn't you ask him?\n",
       "295    Yeah, but I think it would intensity arouse my...\n",
       "296    We would have had conversation if that happene...\n",
       "297    But you reached that conclusion as far as Secr...\n",
       "Name: Full Question, Length: 298, dtype: object"
      ]
     },
     "execution_count": 45,
     "metadata": {},
     "output_type": "execute_result"
    }
   ],
   "source": [
    "### Is there any difference in the length of questions asked by people from diff political parties\n",
    "comey['Full Question']"
   ]
  },
  {
   "cell_type": "code",
   "execution_count": 46,
   "id": "de24456e-1a46-434a-83f0-2a93ac535904",
   "metadata": {},
   "outputs": [],
   "source": [
    "def get_len(x):\n",
    "    bow = x.split()\n",
    "    return len(bow)"
   ]
  },
  {
   "cell_type": "code",
   "execution_count": 48,
   "id": "4a89da22-a209-43b5-a79b-6180b67563d7",
   "metadata": {},
   "outputs": [],
   "source": [
    "comey['ques_len'] = comey[\"Full Question\"].map(get_len)"
   ]
  },
  {
   "cell_type": "code",
   "execution_count": 49,
   "id": "d8244546-53e3-4c09-af4f-ce996a30d9d3",
   "metadata": {},
   "outputs": [
    {
     "data": {
      "text/html": [
       "<div>\n",
       "<style scoped>\n",
       "    .dataframe tbody tr th:only-of-type {\n",
       "        vertical-align: middle;\n",
       "    }\n",
       "\n",
       "    .dataframe tbody tr th {\n",
       "        vertical-align: top;\n",
       "    }\n",
       "\n",
       "    .dataframe thead th {\n",
       "        text-align: right;\n",
       "    }\n",
       "</style>\n",
       "<table border=\"1\" class=\"dataframe\">\n",
       "  <thead>\n",
       "    <tr style=\"text-align: right;\">\n",
       "      <th></th>\n",
       "      <th>Senator</th>\n",
       "      <th>Party Affiliation</th>\n",
       "      <th>Full Question</th>\n",
       "      <th>Comey</th>\n",
       "      <th>Comey Response</th>\n",
       "      <th>ques_len</th>\n",
       "    </tr>\n",
       "  </thead>\n",
       "  <tbody>\n",
       "    <tr>\n",
       "      <th>0</th>\n",
       "      <td>BURR</td>\n",
       "      <td>Republican</td>\n",
       "      <td>Do you have any doubt that Russia attempted to...</td>\n",
       "      <td>COMEY</td>\n",
       "      <td>None.</td>\n",
       "      <td>14</td>\n",
       "    </tr>\n",
       "    <tr>\n",
       "      <th>1</th>\n",
       "      <td>BURR</td>\n",
       "      <td>Republican</td>\n",
       "      <td>Do you have any doubt that the Russian governm...</td>\n",
       "      <td>COMEY</td>\n",
       "      <td>No, no doubt.</td>\n",
       "      <td>26</td>\n",
       "    </tr>\n",
       "  </tbody>\n",
       "</table>\n",
       "</div>"
      ],
      "text/plain": [
       "  Senator Party Affiliation  \\\n",
       "0    BURR        Republican   \n",
       "1    BURR        Republican   \n",
       "\n",
       "                                       Full Question  Comey Comey Response  \\\n",
       "0  Do you have any doubt that Russia attempted to...  COMEY          None.   \n",
       "1  Do you have any doubt that the Russian governm...  COMEY  No, no doubt.   \n",
       "\n",
       "   ques_len  \n",
       "0        14  \n",
       "1        26  "
      ]
     },
     "execution_count": 49,
     "metadata": {},
     "output_type": "execute_result"
    }
   ],
   "source": [
    "comey.head(2)"
   ]
  },
  {
   "cell_type": "code",
   "execution_count": 50,
   "id": "1e18555c-3cc1-40a6-b07d-009338d45d0d",
   "metadata": {},
   "outputs": [
    {
     "data": {
      "text/html": [
       "<div>\n",
       "<style scoped>\n",
       "    .dataframe tbody tr th:only-of-type {\n",
       "        vertical-align: middle;\n",
       "    }\n",
       "\n",
       "    .dataframe tbody tr th {\n",
       "        vertical-align: top;\n",
       "    }\n",
       "\n",
       "    .dataframe thead th {\n",
       "        text-align: right;\n",
       "    }\n",
       "</style>\n",
       "<table border=\"1\" class=\"dataframe\">\n",
       "  <thead>\n",
       "    <tr style=\"text-align: right;\">\n",
       "      <th></th>\n",
       "      <th>ques_len</th>\n",
       "    </tr>\n",
       "    <tr>\n",
       "      <th>Party Affiliation</th>\n",
       "      <th></th>\n",
       "    </tr>\n",
       "  </thead>\n",
       "  <tbody>\n",
       "    <tr>\n",
       "      <th>Democrat</th>\n",
       "      <td>37.236364</td>\n",
       "    </tr>\n",
       "    <tr>\n",
       "      <th>Independent</th>\n",
       "      <td>29.500000</td>\n",
       "    </tr>\n",
       "    <tr>\n",
       "      <th>Republican</th>\n",
       "      <td>39.839286</td>\n",
       "    </tr>\n",
       "  </tbody>\n",
       "</table>\n",
       "</div>"
      ],
      "text/plain": [
       "                    ques_len\n",
       "Party Affiliation           \n",
       "Democrat           37.236364\n",
       "Independent        29.500000\n",
       "Republican         39.839286"
      ]
     },
     "execution_count": 50,
     "metadata": {},
     "output_type": "execute_result"
    }
   ],
   "source": [
    "comey.groupby('Party Affiliation').agg({'ques_len':'mean'})"
   ]
  },
  {
   "cell_type": "code",
   "execution_count": 52,
   "id": "6fbdf669-3b6d-4ed1-9d3b-c4c3fc554880",
   "metadata": {},
   "outputs": [
    {
     "data": {
      "text/html": [
       "<div>\n",
       "<style scoped>\n",
       "    .dataframe tbody tr th:only-of-type {\n",
       "        vertical-align: middle;\n",
       "    }\n",
       "\n",
       "    .dataframe tbody tr th {\n",
       "        vertical-align: top;\n",
       "    }\n",
       "\n",
       "    .dataframe thead th {\n",
       "        text-align: right;\n",
       "    }\n",
       "</style>\n",
       "<table border=\"1\" class=\"dataframe\">\n",
       "  <thead>\n",
       "    <tr style=\"text-align: right;\">\n",
       "      <th></th>\n",
       "      <th>Row ID</th>\n",
       "      <th>Order ID</th>\n",
       "      <th>Order Date</th>\n",
       "      <th>Ship Date</th>\n",
       "      <th>Ship Mode</th>\n",
       "      <th>Customer ID</th>\n",
       "      <th>Customer Name</th>\n",
       "      <th>Segment</th>\n",
       "      <th>Country</th>\n",
       "      <th>City</th>\n",
       "      <th>...</th>\n",
       "      <th>Region</th>\n",
       "      <th>Product ID</th>\n",
       "      <th>Category</th>\n",
       "      <th>Sub-Category</th>\n",
       "      <th>Product Name</th>\n",
       "      <th>Sales</th>\n",
       "      <th>Quantity</th>\n",
       "      <th>Discount</th>\n",
       "      <th>Profit</th>\n",
       "      <th>sales_cat</th>\n",
       "    </tr>\n",
       "  </thead>\n",
       "  <tbody>\n",
       "    <tr>\n",
       "      <th>0</th>\n",
       "      <td>1</td>\n",
       "      <td>CA-2013-152156</td>\n",
       "      <td>2013-11-09</td>\n",
       "      <td>2013-11-12</td>\n",
       "      <td>Second Class</td>\n",
       "      <td>CG-12520</td>\n",
       "      <td>Claire Gute</td>\n",
       "      <td>Consumer</td>\n",
       "      <td>United States</td>\n",
       "      <td>Henderson</td>\n",
       "      <td>...</td>\n",
       "      <td>South</td>\n",
       "      <td>FUR-BO-10001798</td>\n",
       "      <td>Furniture</td>\n",
       "      <td>Bookcases</td>\n",
       "      <td>Bush Somerset Collection Bookcase</td>\n",
       "      <td>261.96</td>\n",
       "      <td>2</td>\n",
       "      <td>0.0</td>\n",
       "      <td>41.9136</td>\n",
       "      <td>low</td>\n",
       "    </tr>\n",
       "    <tr>\n",
       "      <th>1</th>\n",
       "      <td>2</td>\n",
       "      <td>CA-2013-152156</td>\n",
       "      <td>2013-11-09</td>\n",
       "      <td>2013-11-12</td>\n",
       "      <td>Second Class</td>\n",
       "      <td>CG-12520</td>\n",
       "      <td>Claire Gute</td>\n",
       "      <td>Consumer</td>\n",
       "      <td>United States</td>\n",
       "      <td>Henderson</td>\n",
       "      <td>...</td>\n",
       "      <td>South</td>\n",
       "      <td>FUR-CH-10000454</td>\n",
       "      <td>Furniture</td>\n",
       "      <td>Chairs</td>\n",
       "      <td>Hon Deluxe Fabric Upholstered Stacking Chairs,...</td>\n",
       "      <td>731.94</td>\n",
       "      <td>3</td>\n",
       "      <td>0.0</td>\n",
       "      <td>219.5820</td>\n",
       "      <td>low</td>\n",
       "    </tr>\n",
       "  </tbody>\n",
       "</table>\n",
       "<p>2 rows × 22 columns</p>\n",
       "</div>"
      ],
      "text/plain": [
       "   Row ID        Order ID Order Date  Ship Date     Ship Mode Customer ID  \\\n",
       "0       1  CA-2013-152156 2013-11-09 2013-11-12  Second Class    CG-12520   \n",
       "1       2  CA-2013-152156 2013-11-09 2013-11-12  Second Class    CG-12520   \n",
       "\n",
       "  Customer Name   Segment        Country       City  ... Region  \\\n",
       "0   Claire Gute  Consumer  United States  Henderson  ...  South   \n",
       "1   Claire Gute  Consumer  United States  Henderson  ...  South   \n",
       "\n",
       "        Product ID   Category Sub-Category  \\\n",
       "0  FUR-BO-10001798  Furniture    Bookcases   \n",
       "1  FUR-CH-10000454  Furniture       Chairs   \n",
       "\n",
       "                                        Product Name   Sales Quantity  \\\n",
       "0                  Bush Somerset Collection Bookcase  261.96        2   \n",
       "1  Hon Deluxe Fabric Upholstered Stacking Chairs,...  731.94        3   \n",
       "\n",
       "   Discount    Profit  sales_cat  \n",
       "0       0.0   41.9136        low  \n",
       "1       0.0  219.5820        low  \n",
       "\n",
       "[2 rows x 22 columns]"
      ]
     },
     "execution_count": 52,
     "metadata": {},
     "output_type": "execute_result"
    }
   ],
   "source": [
    "store.head(2)"
   ]
  },
  {
   "cell_type": "code",
   "execution_count": 53,
   "id": "ab09ee6c-d20a-4de1-8e9e-5b1ed982c06c",
   "metadata": {},
   "outputs": [
    {
     "data": {
      "text/plain": [
       "array(['Second Class', 'Standard Class', 'First Class', 'Same Day'],\n",
       "      dtype=object)"
      ]
     },
     "execution_count": 53,
     "metadata": {},
     "output_type": "execute_result"
    }
   ],
   "source": [
    "store['Ship Mode'].unique()"
   ]
  },
  {
   "cell_type": "markdown",
   "id": "f18c4ca8-57b3-429e-a41a-83021ebc90ab",
   "metadata": {},
   "source": [
    "`First Class` costs more and we need to adjust the sales figure downwards by 200 in case\n",
    "the ship mode is `First Class`"
   ]
  },
  {
   "cell_type": "code",
   "execution_count": 54,
   "id": "b7a26efd-91b3-45e7-b491-1c9e1e95c0d1",
   "metadata": {},
   "outputs": [],
   "source": [
    "def correction(row):\n",
    "    if row['Ship Mode']=='First Class':\n",
    "        res = row['Sales'] = row['Sales']-200\n",
    "    else:\n",
    "        res = row['Sales']\n",
    "    return res"
   ]
  },
  {
   "cell_type": "markdown",
   "id": "403beca5-5ef5-4cf9-9524-3738fd00d329",
   "metadata": {},
   "source": [
    "store.apply(correction,axis = 1)"
   ]
  },
  {
   "cell_type": "markdown",
   "id": "ce98c808-0ec2-4732-805d-7c2df5366f98",
   "metadata": {},
   "source": [
    "### Joins"
   ]
  },
  {
   "cell_type": "code",
   "execution_count": 57,
   "id": "4bcbe70b-31bd-4d95-9f79-e73c9d5406ce",
   "metadata": {},
   "outputs": [],
   "source": [
    "path = \"https://raw.githubusercontent.com/Gunnvant/corp_trainings/main/tiger_analytics/data/customers.csv\"\n",
    "customers = pd.read_csv(path)\n",
    "path = \"https://raw.githubusercontent.com/Gunnvant/corp_trainings/main/tiger_analytics/data/accounts.csv\"\n",
    "accounts = pd.read_csv(path)"
   ]
  },
  {
   "cell_type": "code",
   "execution_count": 58,
   "id": "b6faf4ad-dd1c-4af4-9a5e-9d7eaed1d0ee",
   "metadata": {},
   "outputs": [
    {
     "data": {
      "text/html": [
       "<div>\n",
       "<style scoped>\n",
       "    .dataframe tbody tr th:only-of-type {\n",
       "        vertical-align: middle;\n",
       "    }\n",
       "\n",
       "    .dataframe tbody tr th {\n",
       "        vertical-align: top;\n",
       "    }\n",
       "\n",
       "    .dataframe thead th {\n",
       "        text-align: right;\n",
       "    }\n",
       "</style>\n",
       "<table border=\"1\" class=\"dataframe\">\n",
       "  <thead>\n",
       "    <tr style=\"text-align: right;\">\n",
       "      <th></th>\n",
       "      <th>Cust_id</th>\n",
       "      <th>Age</th>\n",
       "    </tr>\n",
       "  </thead>\n",
       "  <tbody>\n",
       "    <tr>\n",
       "      <th>0</th>\n",
       "      <td>AA1</td>\n",
       "      <td>17</td>\n",
       "    </tr>\n",
       "    <tr>\n",
       "      <th>1</th>\n",
       "      <td>AA2</td>\n",
       "      <td>18</td>\n",
       "    </tr>\n",
       "    <tr>\n",
       "      <th>2</th>\n",
       "      <td>AA3</td>\n",
       "      <td>33</td>\n",
       "    </tr>\n",
       "    <tr>\n",
       "      <th>3</th>\n",
       "      <td>AA4</td>\n",
       "      <td>21</td>\n",
       "    </tr>\n",
       "    <tr>\n",
       "      <th>4</th>\n",
       "      <td>AA5</td>\n",
       "      <td>14</td>\n",
       "    </tr>\n",
       "    <tr>\n",
       "      <th>5</th>\n",
       "      <td>AA6</td>\n",
       "      <td>81</td>\n",
       "    </tr>\n",
       "  </tbody>\n",
       "</table>\n",
       "</div>"
      ],
      "text/plain": [
       "  Cust_id  Age\n",
       "0     AA1   17\n",
       "1     AA2   18\n",
       "2     AA3   33\n",
       "3     AA4   21\n",
       "4     AA5   14\n",
       "5     AA6   81"
      ]
     },
     "execution_count": 58,
     "metadata": {},
     "output_type": "execute_result"
    }
   ],
   "source": [
    "customers"
   ]
  },
  {
   "cell_type": "code",
   "execution_count": 59,
   "id": "7c7238f4-51ed-42f0-9921-d30db9b2f9b1",
   "metadata": {},
   "outputs": [
    {
     "data": {
      "text/html": [
       "<div>\n",
       "<style scoped>\n",
       "    .dataframe tbody tr th:only-of-type {\n",
       "        vertical-align: middle;\n",
       "    }\n",
       "\n",
       "    .dataframe tbody tr th {\n",
       "        vertical-align: top;\n",
       "    }\n",
       "\n",
       "    .dataframe thead th {\n",
       "        text-align: right;\n",
       "    }\n",
       "</style>\n",
       "<table border=\"1\" class=\"dataframe\">\n",
       "  <thead>\n",
       "    <tr style=\"text-align: right;\">\n",
       "      <th></th>\n",
       "      <th>CustID</th>\n",
       "      <th>Account Type</th>\n",
       "    </tr>\n",
       "  </thead>\n",
       "  <tbody>\n",
       "    <tr>\n",
       "      <th>0</th>\n",
       "      <td>AA1</td>\n",
       "      <td>AAA</td>\n",
       "    </tr>\n",
       "    <tr>\n",
       "      <th>1</th>\n",
       "      <td>AA6</td>\n",
       "      <td>AA</td>\n",
       "    </tr>\n",
       "    <tr>\n",
       "      <th>2</th>\n",
       "      <td>AA4</td>\n",
       "      <td>B</td>\n",
       "    </tr>\n",
       "    <tr>\n",
       "      <th>3</th>\n",
       "      <td>AA7</td>\n",
       "      <td>CCC</td>\n",
       "    </tr>\n",
       "    <tr>\n",
       "      <th>4</th>\n",
       "      <td>AA12</td>\n",
       "      <td>AAA</td>\n",
       "    </tr>\n",
       "    <tr>\n",
       "      <th>5</th>\n",
       "      <td>AA10</td>\n",
       "      <td>DDD</td>\n",
       "    </tr>\n",
       "  </tbody>\n",
       "</table>\n",
       "</div>"
      ],
      "text/plain": [
       "  CustID Account Type\n",
       "0    AA1          AAA\n",
       "1    AA6           AA\n",
       "2    AA4            B\n",
       "3    AA7          CCC\n",
       "4   AA12          AAA\n",
       "5   AA10          DDD"
      ]
     },
     "execution_count": 59,
     "metadata": {},
     "output_type": "execute_result"
    }
   ],
   "source": [
    "accounts"
   ]
  },
  {
   "cell_type": "code",
   "execution_count": 60,
   "id": "e204465c-fa61-463d-8b35-aa9a14ab6081",
   "metadata": {},
   "outputs": [],
   "source": [
    "## Inner\n",
    "## Left outer\n",
    "## Right outer\n",
    "## Outer"
   ]
  },
  {
   "cell_type": "code",
   "execution_count": 61,
   "id": "611c2863-8212-4ad9-b312-435bb18b0863",
   "metadata": {},
   "outputs": [
    {
     "data": {
      "text/html": [
       "<div>\n",
       "<style scoped>\n",
       "    .dataframe tbody tr th:only-of-type {\n",
       "        vertical-align: middle;\n",
       "    }\n",
       "\n",
       "    .dataframe tbody tr th {\n",
       "        vertical-align: top;\n",
       "    }\n",
       "\n",
       "    .dataframe thead th {\n",
       "        text-align: right;\n",
       "    }\n",
       "</style>\n",
       "<table border=\"1\" class=\"dataframe\">\n",
       "  <thead>\n",
       "    <tr style=\"text-align: right;\">\n",
       "      <th></th>\n",
       "      <th>Cust_id</th>\n",
       "      <th>Age</th>\n",
       "      <th>CustID</th>\n",
       "      <th>Account Type</th>\n",
       "    </tr>\n",
       "  </thead>\n",
       "  <tbody>\n",
       "    <tr>\n",
       "      <th>0</th>\n",
       "      <td>AA1</td>\n",
       "      <td>17</td>\n",
       "      <td>AA1</td>\n",
       "      <td>AAA</td>\n",
       "    </tr>\n",
       "    <tr>\n",
       "      <th>1</th>\n",
       "      <td>AA4</td>\n",
       "      <td>21</td>\n",
       "      <td>AA4</td>\n",
       "      <td>B</td>\n",
       "    </tr>\n",
       "    <tr>\n",
       "      <th>2</th>\n",
       "      <td>AA6</td>\n",
       "      <td>81</td>\n",
       "      <td>AA6</td>\n",
       "      <td>AA</td>\n",
       "    </tr>\n",
       "  </tbody>\n",
       "</table>\n",
       "</div>"
      ],
      "text/plain": [
       "  Cust_id  Age CustID Account Type\n",
       "0     AA1   17    AA1          AAA\n",
       "1     AA4   21    AA4            B\n",
       "2     AA6   81    AA6           AA"
      ]
     },
     "execution_count": 61,
     "metadata": {},
     "output_type": "execute_result"
    }
   ],
   "source": [
    "## Inner\n",
    "pd.merge(customers,accounts,how=\"inner\",left_on=\"Cust_id\",\n",
    "        right_on = \"CustID\")"
   ]
  },
  {
   "cell_type": "code",
   "execution_count": 62,
   "id": "1a0eaec8-6136-41b7-9690-c4e1c388e0f2",
   "metadata": {},
   "outputs": [
    {
     "data": {
      "text/html": [
       "<div>\n",
       "<style scoped>\n",
       "    .dataframe tbody tr th:only-of-type {\n",
       "        vertical-align: middle;\n",
       "    }\n",
       "\n",
       "    .dataframe tbody tr th {\n",
       "        vertical-align: top;\n",
       "    }\n",
       "\n",
       "    .dataframe thead th {\n",
       "        text-align: right;\n",
       "    }\n",
       "</style>\n",
       "<table border=\"1\" class=\"dataframe\">\n",
       "  <thead>\n",
       "    <tr style=\"text-align: right;\">\n",
       "      <th></th>\n",
       "      <th>Cust_id</th>\n",
       "      <th>Age</th>\n",
       "      <th>CustID</th>\n",
       "      <th>Account Type</th>\n",
       "    </tr>\n",
       "  </thead>\n",
       "  <tbody>\n",
       "    <tr>\n",
       "      <th>0</th>\n",
       "      <td>AA1</td>\n",
       "      <td>17</td>\n",
       "      <td>AA1</td>\n",
       "      <td>AAA</td>\n",
       "    </tr>\n",
       "    <tr>\n",
       "      <th>1</th>\n",
       "      <td>AA2</td>\n",
       "      <td>18</td>\n",
       "      <td>NaN</td>\n",
       "      <td>NaN</td>\n",
       "    </tr>\n",
       "    <tr>\n",
       "      <th>2</th>\n",
       "      <td>AA3</td>\n",
       "      <td>33</td>\n",
       "      <td>NaN</td>\n",
       "      <td>NaN</td>\n",
       "    </tr>\n",
       "    <tr>\n",
       "      <th>3</th>\n",
       "      <td>AA4</td>\n",
       "      <td>21</td>\n",
       "      <td>AA4</td>\n",
       "      <td>B</td>\n",
       "    </tr>\n",
       "    <tr>\n",
       "      <th>4</th>\n",
       "      <td>AA5</td>\n",
       "      <td>14</td>\n",
       "      <td>NaN</td>\n",
       "      <td>NaN</td>\n",
       "    </tr>\n",
       "    <tr>\n",
       "      <th>5</th>\n",
       "      <td>AA6</td>\n",
       "      <td>81</td>\n",
       "      <td>AA6</td>\n",
       "      <td>AA</td>\n",
       "    </tr>\n",
       "  </tbody>\n",
       "</table>\n",
       "</div>"
      ],
      "text/plain": [
       "  Cust_id  Age CustID Account Type\n",
       "0     AA1   17    AA1          AAA\n",
       "1     AA2   18    NaN          NaN\n",
       "2     AA3   33    NaN          NaN\n",
       "3     AA4   21    AA4            B\n",
       "4     AA5   14    NaN          NaN\n",
       "5     AA6   81    AA6           AA"
      ]
     },
     "execution_count": 62,
     "metadata": {},
     "output_type": "execute_result"
    }
   ],
   "source": [
    "## Left\n",
    "pd.merge(customers,accounts,how=\"left\",left_on=\"Cust_id\",\n",
    "        right_on = \"CustID\")"
   ]
  },
  {
   "cell_type": "code",
   "execution_count": 63,
   "id": "cf0fe608-2f1e-4971-9a84-a2bd5290babc",
   "metadata": {},
   "outputs": [
    {
     "data": {
      "text/html": [
       "<div>\n",
       "<style scoped>\n",
       "    .dataframe tbody tr th:only-of-type {\n",
       "        vertical-align: middle;\n",
       "    }\n",
       "\n",
       "    .dataframe tbody tr th {\n",
       "        vertical-align: top;\n",
       "    }\n",
       "\n",
       "    .dataframe thead th {\n",
       "        text-align: right;\n",
       "    }\n",
       "</style>\n",
       "<table border=\"1\" class=\"dataframe\">\n",
       "  <thead>\n",
       "    <tr style=\"text-align: right;\">\n",
       "      <th></th>\n",
       "      <th>Cust_id</th>\n",
       "      <th>Age</th>\n",
       "      <th>CustID</th>\n",
       "      <th>Account Type</th>\n",
       "    </tr>\n",
       "  </thead>\n",
       "  <tbody>\n",
       "    <tr>\n",
       "      <th>0</th>\n",
       "      <td>AA1</td>\n",
       "      <td>17.0</td>\n",
       "      <td>AA1</td>\n",
       "      <td>AAA</td>\n",
       "    </tr>\n",
       "    <tr>\n",
       "      <th>1</th>\n",
       "      <td>AA6</td>\n",
       "      <td>81.0</td>\n",
       "      <td>AA6</td>\n",
       "      <td>AA</td>\n",
       "    </tr>\n",
       "    <tr>\n",
       "      <th>2</th>\n",
       "      <td>AA4</td>\n",
       "      <td>21.0</td>\n",
       "      <td>AA4</td>\n",
       "      <td>B</td>\n",
       "    </tr>\n",
       "    <tr>\n",
       "      <th>3</th>\n",
       "      <td>NaN</td>\n",
       "      <td>NaN</td>\n",
       "      <td>AA7</td>\n",
       "      <td>CCC</td>\n",
       "    </tr>\n",
       "    <tr>\n",
       "      <th>4</th>\n",
       "      <td>NaN</td>\n",
       "      <td>NaN</td>\n",
       "      <td>AA12</td>\n",
       "      <td>AAA</td>\n",
       "    </tr>\n",
       "    <tr>\n",
       "      <th>5</th>\n",
       "      <td>NaN</td>\n",
       "      <td>NaN</td>\n",
       "      <td>AA10</td>\n",
       "      <td>DDD</td>\n",
       "    </tr>\n",
       "  </tbody>\n",
       "</table>\n",
       "</div>"
      ],
      "text/plain": [
       "  Cust_id   Age CustID Account Type\n",
       "0     AA1  17.0    AA1          AAA\n",
       "1     AA6  81.0    AA6           AA\n",
       "2     AA4  21.0    AA4            B\n",
       "3     NaN   NaN    AA7          CCC\n",
       "4     NaN   NaN   AA12          AAA\n",
       "5     NaN   NaN   AA10          DDD"
      ]
     },
     "execution_count": 63,
     "metadata": {},
     "output_type": "execute_result"
    }
   ],
   "source": [
    "## Right\n",
    "pd.merge(customers,accounts,how=\"right\",left_on=\"Cust_id\",\n",
    "        right_on = \"CustID\")"
   ]
  },
  {
   "cell_type": "code",
   "execution_count": 64,
   "id": "c846287d-9319-4803-b6bf-b138363d43d2",
   "metadata": {},
   "outputs": [
    {
     "data": {
      "text/html": [
       "<div>\n",
       "<style scoped>\n",
       "    .dataframe tbody tr th:only-of-type {\n",
       "        vertical-align: middle;\n",
       "    }\n",
       "\n",
       "    .dataframe tbody tr th {\n",
       "        vertical-align: top;\n",
       "    }\n",
       "\n",
       "    .dataframe thead th {\n",
       "        text-align: right;\n",
       "    }\n",
       "</style>\n",
       "<table border=\"1\" class=\"dataframe\">\n",
       "  <thead>\n",
       "    <tr style=\"text-align: right;\">\n",
       "      <th></th>\n",
       "      <th>Cust_id</th>\n",
       "      <th>Age</th>\n",
       "      <th>CustID</th>\n",
       "      <th>Account Type</th>\n",
       "    </tr>\n",
       "  </thead>\n",
       "  <tbody>\n",
       "    <tr>\n",
       "      <th>0</th>\n",
       "      <td>AA1</td>\n",
       "      <td>17.0</td>\n",
       "      <td>AA1</td>\n",
       "      <td>AAA</td>\n",
       "    </tr>\n",
       "    <tr>\n",
       "      <th>1</th>\n",
       "      <td>AA2</td>\n",
       "      <td>18.0</td>\n",
       "      <td>NaN</td>\n",
       "      <td>NaN</td>\n",
       "    </tr>\n",
       "    <tr>\n",
       "      <th>2</th>\n",
       "      <td>AA3</td>\n",
       "      <td>33.0</td>\n",
       "      <td>NaN</td>\n",
       "      <td>NaN</td>\n",
       "    </tr>\n",
       "    <tr>\n",
       "      <th>3</th>\n",
       "      <td>AA4</td>\n",
       "      <td>21.0</td>\n",
       "      <td>AA4</td>\n",
       "      <td>B</td>\n",
       "    </tr>\n",
       "    <tr>\n",
       "      <th>4</th>\n",
       "      <td>AA5</td>\n",
       "      <td>14.0</td>\n",
       "      <td>NaN</td>\n",
       "      <td>NaN</td>\n",
       "    </tr>\n",
       "    <tr>\n",
       "      <th>5</th>\n",
       "      <td>AA6</td>\n",
       "      <td>81.0</td>\n",
       "      <td>AA6</td>\n",
       "      <td>AA</td>\n",
       "    </tr>\n",
       "    <tr>\n",
       "      <th>6</th>\n",
       "      <td>NaN</td>\n",
       "      <td>NaN</td>\n",
       "      <td>AA7</td>\n",
       "      <td>CCC</td>\n",
       "    </tr>\n",
       "    <tr>\n",
       "      <th>7</th>\n",
       "      <td>NaN</td>\n",
       "      <td>NaN</td>\n",
       "      <td>AA12</td>\n",
       "      <td>AAA</td>\n",
       "    </tr>\n",
       "    <tr>\n",
       "      <th>8</th>\n",
       "      <td>NaN</td>\n",
       "      <td>NaN</td>\n",
       "      <td>AA10</td>\n",
       "      <td>DDD</td>\n",
       "    </tr>\n",
       "  </tbody>\n",
       "</table>\n",
       "</div>"
      ],
      "text/plain": [
       "  Cust_id   Age CustID Account Type\n",
       "0     AA1  17.0    AA1          AAA\n",
       "1     AA2  18.0    NaN          NaN\n",
       "2     AA3  33.0    NaN          NaN\n",
       "3     AA4  21.0    AA4            B\n",
       "4     AA5  14.0    NaN          NaN\n",
       "5     AA6  81.0    AA6           AA\n",
       "6     NaN   NaN    AA7          CCC\n",
       "7     NaN   NaN   AA12          AAA\n",
       "8     NaN   NaN   AA10          DDD"
      ]
     },
     "execution_count": 64,
     "metadata": {},
     "output_type": "execute_result"
    }
   ],
   "source": [
    "## outer\n",
    "pd.merge(customers,accounts,how=\"outer\",left_on=\"Cust_id\",\n",
    "        right_on = \"CustID\")"
   ]
  },
  {
   "cell_type": "markdown",
   "id": "e70f996c-de3a-4c8e-b6ae-f500732fd7e7",
   "metadata": {},
   "source": [
    "### Class Excercise (Joins)\n",
    "    - Use the files contributions.csv and candidates.csv. The file contributions.csv contains data on contributions made to political parties. The file candidates.csv contains data on the demographics of candidates belonging to different political parties. What was the highest contribution made on a Sunday?\n",
    " \n",
    "    - Use the files contributions.csv and candidates.csv. The file contributions.csv contains data on contributions made to political parties. The file candidates.csv contains data on the demographics of candidates belonging to different political parties. Is there a difference between the average donations received by Democrats on weekdays vs weekends? (In the column party, R stands for Republican and D stands for Democrats)\n",
    " \n",
    "    - Use the files contributions.csv and candidates.csv. The file contributions.csv contains data on contributions made to political parties. The file candidates.csv contains data on the demographics of candidates belonging to different political parties. The highest amount contributed on weekdays towards Democrats is?  (In the column party, R stands for Republican and D stands for Democrats)"
   ]
  },
  {
   "cell_type": "code",
   "execution_count": 65,
   "id": "231de205-cca9-45a4-9aeb-a86ad16e323d",
   "metadata": {},
   "outputs": [],
   "source": [
    "path1 = \"/Users/gunnvantsaini/Library/CloudStorage/OneDrive-Personal/Work/Vired/Content/corp_trainings/tiger_analytics/data/candidates.csv\"\n",
    "path2 = \"/Users/gunnvantsaini/Library/CloudStorage/OneDrive-Personal/Work/Vired/Content/corp_trainings/tiger_analytics/data/contributions.csv\"\n",
    "candidates = pd.read_csv(path1)\n",
    "contributions = pd.read_csv(path2)"
   ]
  },
  {
   "cell_type": "code",
   "execution_count": 66,
   "id": "7d0fe29c-9faf-4402-833d-7bf562daf7c7",
   "metadata": {},
   "outputs": [
    {
     "data": {
      "text/html": [
       "<div>\n",
       "<style scoped>\n",
       "    .dataframe tbody tr th:only-of-type {\n",
       "        vertical-align: middle;\n",
       "    }\n",
       "\n",
       "    .dataframe tbody tr th {\n",
       "        vertical-align: top;\n",
       "    }\n",
       "\n",
       "    .dataframe thead th {\n",
       "        text-align: right;\n",
       "    }\n",
       "</style>\n",
       "<table border=\"1\" class=\"dataframe\">\n",
       "  <thead>\n",
       "    <tr style=\"text-align: right;\">\n",
       "      <th></th>\n",
       "      <th>id</th>\n",
       "      <th>first_name</th>\n",
       "      <th>last_name</th>\n",
       "      <th>middle_name</th>\n",
       "      <th>party</th>\n",
       "    </tr>\n",
       "  </thead>\n",
       "  <tbody>\n",
       "    <tr>\n",
       "      <th>0</th>\n",
       "      <td>33</td>\n",
       "      <td>Joseph</td>\n",
       "      <td>Biden</td>\n",
       "      <td>NaN</td>\n",
       "      <td>D</td>\n",
       "    </tr>\n",
       "    <tr>\n",
       "      <th>1</th>\n",
       "      <td>36</td>\n",
       "      <td>Samuel</td>\n",
       "      <td>Brownback</td>\n",
       "      <td>NaN</td>\n",
       "      <td>R</td>\n",
       "    </tr>\n",
       "  </tbody>\n",
       "</table>\n",
       "</div>"
      ],
      "text/plain": [
       "   id first_name  last_name middle_name party\n",
       "0  33     Joseph      Biden         NaN     D\n",
       "1  36     Samuel  Brownback         NaN     R"
      ]
     },
     "execution_count": 66,
     "metadata": {},
     "output_type": "execute_result"
    }
   ],
   "source": [
    "candidates.head(2)"
   ]
  },
  {
   "cell_type": "code",
   "execution_count": 67,
   "id": "0f4607b3-c7c0-4e4a-b487-a5242c41453c",
   "metadata": {},
   "outputs": [
    {
     "data": {
      "text/html": [
       "<div>\n",
       "<style scoped>\n",
       "    .dataframe tbody tr th:only-of-type {\n",
       "        vertical-align: middle;\n",
       "    }\n",
       "\n",
       "    .dataframe tbody tr th {\n",
       "        vertical-align: top;\n",
       "    }\n",
       "\n",
       "    .dataframe thead th {\n",
       "        text-align: right;\n",
       "    }\n",
       "</style>\n",
       "<table border=\"1\" class=\"dataframe\">\n",
       "  <thead>\n",
       "    <tr style=\"text-align: right;\">\n",
       "      <th></th>\n",
       "      <th>id</th>\n",
       "      <th>last_name</th>\n",
       "      <th>first_name</th>\n",
       "      <th>middle_name</th>\n",
       "      <th>street_1</th>\n",
       "      <th>street_2</th>\n",
       "      <th>city</th>\n",
       "      <th>state</th>\n",
       "      <th>zip</th>\n",
       "      <th>amount</th>\n",
       "      <th>date</th>\n",
       "      <th>candidate_id</th>\n",
       "    </tr>\n",
       "  </thead>\n",
       "  <tbody>\n",
       "    <tr>\n",
       "      <th>0</th>\n",
       "      <td>NaN</td>\n",
       "      <td>Agee</td>\n",
       "      <td>Steven</td>\n",
       "      <td>NaN</td>\n",
       "      <td>549 Laurel Branch Road</td>\n",
       "      <td>NaN</td>\n",
       "      <td>Floyd</td>\n",
       "      <td>VA</td>\n",
       "      <td>24091</td>\n",
       "      <td>500.0</td>\n",
       "      <td>2007-06-30</td>\n",
       "      <td>16</td>\n",
       "    </tr>\n",
       "    <tr>\n",
       "      <th>1</th>\n",
       "      <td>NaN</td>\n",
       "      <td>Ahrens</td>\n",
       "      <td>Don</td>\n",
       "      <td>NaN</td>\n",
       "      <td>4034 Rennellwood Way</td>\n",
       "      <td>NaN</td>\n",
       "      <td>Pleasanton</td>\n",
       "      <td>CA</td>\n",
       "      <td>94566</td>\n",
       "      <td>250.0</td>\n",
       "      <td>2007-05-16</td>\n",
       "      <td>16</td>\n",
       "    </tr>\n",
       "  </tbody>\n",
       "</table>\n",
       "</div>"
      ],
      "text/plain": [
       "   id last_name first_name middle_name                street_1 street_2  \\\n",
       "0 NaN      Agee     Steven         NaN  549 Laurel Branch Road      NaN   \n",
       "1 NaN    Ahrens        Don         NaN    4034 Rennellwood Way      NaN   \n",
       "\n",
       "         city state    zip  amount        date  candidate_id  \n",
       "0       Floyd    VA  24091   500.0  2007-06-30            16  \n",
       "1  Pleasanton    CA  94566   250.0  2007-05-16            16  "
      ]
     },
     "execution_count": 67,
     "metadata": {},
     "output_type": "execute_result"
    }
   ],
   "source": [
    "contributions.head(2)"
   ]
  },
  {
   "cell_type": "code",
   "execution_count": 68,
   "id": "55fd054d-eae0-4805-9927-54839565bfba",
   "metadata": {},
   "outputs": [],
   "source": [
    "contributions['date'] = pd.to_datetime(contributions['date'])"
   ]
  },
  {
   "cell_type": "code",
   "execution_count": 69,
   "id": "8676bd3f-4bd3-44cc-95e6-d343b1bab452",
   "metadata": {},
   "outputs": [],
   "source": [
    "contributions['day_of_week'] = contributions['date'].dt.weekday"
   ]
  },
  {
   "cell_type": "code",
   "execution_count": 70,
   "id": "68f1eb37-6946-42a2-87ad-6cba7c667660",
   "metadata": {},
   "outputs": [
    {
     "data": {
      "text/html": [
       "<div>\n",
       "<style scoped>\n",
       "    .dataframe tbody tr th:only-of-type {\n",
       "        vertical-align: middle;\n",
       "    }\n",
       "\n",
       "    .dataframe tbody tr th {\n",
       "        vertical-align: top;\n",
       "    }\n",
       "\n",
       "    .dataframe thead th {\n",
       "        text-align: right;\n",
       "    }\n",
       "</style>\n",
       "<table border=\"1\" class=\"dataframe\">\n",
       "  <thead>\n",
       "    <tr style=\"text-align: right;\">\n",
       "      <th></th>\n",
       "      <th>id</th>\n",
       "      <th>last_name</th>\n",
       "      <th>first_name</th>\n",
       "      <th>middle_name</th>\n",
       "      <th>street_1</th>\n",
       "      <th>street_2</th>\n",
       "      <th>city</th>\n",
       "      <th>state</th>\n",
       "      <th>zip</th>\n",
       "      <th>amount</th>\n",
       "      <th>date</th>\n",
       "      <th>candidate_id</th>\n",
       "      <th>day_of_week</th>\n",
       "    </tr>\n",
       "  </thead>\n",
       "  <tbody>\n",
       "    <tr>\n",
       "      <th>0</th>\n",
       "      <td>NaN</td>\n",
       "      <td>Agee</td>\n",
       "      <td>Steven</td>\n",
       "      <td>NaN</td>\n",
       "      <td>549 Laurel Branch Road</td>\n",
       "      <td>NaN</td>\n",
       "      <td>Floyd</td>\n",
       "      <td>VA</td>\n",
       "      <td>24091</td>\n",
       "      <td>500.0</td>\n",
       "      <td>2007-06-30</td>\n",
       "      <td>16</td>\n",
       "      <td>5</td>\n",
       "    </tr>\n",
       "    <tr>\n",
       "      <th>1</th>\n",
       "      <td>NaN</td>\n",
       "      <td>Ahrens</td>\n",
       "      <td>Don</td>\n",
       "      <td>NaN</td>\n",
       "      <td>4034 Rennellwood Way</td>\n",
       "      <td>NaN</td>\n",
       "      <td>Pleasanton</td>\n",
       "      <td>CA</td>\n",
       "      <td>94566</td>\n",
       "      <td>250.0</td>\n",
       "      <td>2007-05-16</td>\n",
       "      <td>16</td>\n",
       "      <td>2</td>\n",
       "    </tr>\n",
       "  </tbody>\n",
       "</table>\n",
       "</div>"
      ],
      "text/plain": [
       "   id last_name first_name middle_name                street_1 street_2  \\\n",
       "0 NaN      Agee     Steven         NaN  549 Laurel Branch Road      NaN   \n",
       "1 NaN    Ahrens        Don         NaN    4034 Rennellwood Way      NaN   \n",
       "\n",
       "         city state    zip  amount       date  candidate_id  day_of_week  \n",
       "0       Floyd    VA  24091   500.0 2007-06-30            16            5  \n",
       "1  Pleasanton    CA  94566   250.0 2007-05-16            16            2  "
      ]
     },
     "execution_count": 70,
     "metadata": {},
     "output_type": "execute_result"
    }
   ],
   "source": [
    "contributions.head(2)"
   ]
  },
  {
   "cell_type": "code",
   "execution_count": 72,
   "id": "0f0561e6-02f3-499c-a0d6-c79b405c1f81",
   "metadata": {},
   "outputs": [
    {
     "data": {
      "text/plain": [
       "2300.0"
      ]
     },
     "execution_count": 72,
     "metadata": {},
     "output_type": "execute_result"
    }
   ],
   "source": [
    "contributions.query(\"day_of_week==6\")['amount'].max()"
   ]
  },
  {
   "cell_type": "code",
   "execution_count": 73,
   "id": "2ef53c9d-8843-4481-939f-60323e56912f",
   "metadata": {},
   "outputs": [
    {
     "data": {
      "text/html": [
       "<div>\n",
       "<style scoped>\n",
       "    .dataframe tbody tr th:only-of-type {\n",
       "        vertical-align: middle;\n",
       "    }\n",
       "\n",
       "    .dataframe tbody tr th {\n",
       "        vertical-align: top;\n",
       "    }\n",
       "\n",
       "    .dataframe thead th {\n",
       "        text-align: right;\n",
       "    }\n",
       "</style>\n",
       "<table border=\"1\" class=\"dataframe\">\n",
       "  <thead>\n",
       "    <tr style=\"text-align: right;\">\n",
       "      <th></th>\n",
       "      <th>id</th>\n",
       "      <th>last_name</th>\n",
       "      <th>first_name</th>\n",
       "      <th>middle_name</th>\n",
       "      <th>street_1</th>\n",
       "      <th>street_2</th>\n",
       "      <th>city</th>\n",
       "      <th>state</th>\n",
       "      <th>zip</th>\n",
       "      <th>amount</th>\n",
       "      <th>date</th>\n",
       "      <th>candidate_id</th>\n",
       "      <th>day_of_week</th>\n",
       "    </tr>\n",
       "  </thead>\n",
       "  <tbody>\n",
       "    <tr>\n",
       "      <th>0</th>\n",
       "      <td>NaN</td>\n",
       "      <td>Agee</td>\n",
       "      <td>Steven</td>\n",
       "      <td>NaN</td>\n",
       "      <td>549 Laurel Branch Road</td>\n",
       "      <td>NaN</td>\n",
       "      <td>Floyd</td>\n",
       "      <td>VA</td>\n",
       "      <td>24091</td>\n",
       "      <td>500.0</td>\n",
       "      <td>2007-06-30</td>\n",
       "      <td>16</td>\n",
       "      <td>5</td>\n",
       "    </tr>\n",
       "    <tr>\n",
       "      <th>1</th>\n",
       "      <td>NaN</td>\n",
       "      <td>Ahrens</td>\n",
       "      <td>Don</td>\n",
       "      <td>NaN</td>\n",
       "      <td>4034 Rennellwood Way</td>\n",
       "      <td>NaN</td>\n",
       "      <td>Pleasanton</td>\n",
       "      <td>CA</td>\n",
       "      <td>94566</td>\n",
       "      <td>250.0</td>\n",
       "      <td>2007-05-16</td>\n",
       "      <td>16</td>\n",
       "      <td>2</td>\n",
       "    </tr>\n",
       "  </tbody>\n",
       "</table>\n",
       "</div>"
      ],
      "text/plain": [
       "   id last_name first_name middle_name                street_1 street_2  \\\n",
       "0 NaN      Agee     Steven         NaN  549 Laurel Branch Road      NaN   \n",
       "1 NaN    Ahrens        Don         NaN    4034 Rennellwood Way      NaN   \n",
       "\n",
       "         city state    zip  amount       date  candidate_id  day_of_week  \n",
       "0       Floyd    VA  24091   500.0 2007-06-30            16            5  \n",
       "1  Pleasanton    CA  94566   250.0 2007-05-16            16            2  "
      ]
     },
     "execution_count": 73,
     "metadata": {},
     "output_type": "execute_result"
    }
   ],
   "source": [
    "contributions.head(2)"
   ]
  },
  {
   "cell_type": "code",
   "execution_count": 75,
   "id": "35d72a9e-64d5-40b7-aac8-b9d1c9ea3d99",
   "metadata": {},
   "outputs": [],
   "source": [
    "def get_weekday(x):\n",
    "    if x<5:\n",
    "        return \"weekday\"\n",
    "    else:\n",
    "        return \"weekend\"\n",
    "contributions['weekend']=contributions['day_of_week'].map(get_weekday)"
   ]
  },
  {
   "cell_type": "code",
   "execution_count": 76,
   "id": "2b71b879-ea59-45de-a2cd-f92f41f9de6c",
   "metadata": {},
   "outputs": [
    {
     "data": {
      "text/html": [
       "<div>\n",
       "<style scoped>\n",
       "    .dataframe tbody tr th:only-of-type {\n",
       "        vertical-align: middle;\n",
       "    }\n",
       "\n",
       "    .dataframe tbody tr th {\n",
       "        vertical-align: top;\n",
       "    }\n",
       "\n",
       "    .dataframe thead th {\n",
       "        text-align: right;\n",
       "    }\n",
       "</style>\n",
       "<table border=\"1\" class=\"dataframe\">\n",
       "  <thead>\n",
       "    <tr style=\"text-align: right;\">\n",
       "      <th></th>\n",
       "      <th>id</th>\n",
       "      <th>last_name</th>\n",
       "      <th>first_name</th>\n",
       "      <th>middle_name</th>\n",
       "      <th>street_1</th>\n",
       "      <th>street_2</th>\n",
       "      <th>city</th>\n",
       "      <th>state</th>\n",
       "      <th>zip</th>\n",
       "      <th>amount</th>\n",
       "      <th>date</th>\n",
       "      <th>candidate_id</th>\n",
       "      <th>day_of_week</th>\n",
       "      <th>weekend</th>\n",
       "    </tr>\n",
       "  </thead>\n",
       "  <tbody>\n",
       "    <tr>\n",
       "      <th>0</th>\n",
       "      <td>NaN</td>\n",
       "      <td>Agee</td>\n",
       "      <td>Steven</td>\n",
       "      <td>NaN</td>\n",
       "      <td>549 Laurel Branch Road</td>\n",
       "      <td>NaN</td>\n",
       "      <td>Floyd</td>\n",
       "      <td>VA</td>\n",
       "      <td>24091</td>\n",
       "      <td>500.0</td>\n",
       "      <td>2007-06-30</td>\n",
       "      <td>16</td>\n",
       "      <td>5</td>\n",
       "      <td>weekend</td>\n",
       "    </tr>\n",
       "    <tr>\n",
       "      <th>1</th>\n",
       "      <td>NaN</td>\n",
       "      <td>Ahrens</td>\n",
       "      <td>Don</td>\n",
       "      <td>NaN</td>\n",
       "      <td>4034 Rennellwood Way</td>\n",
       "      <td>NaN</td>\n",
       "      <td>Pleasanton</td>\n",
       "      <td>CA</td>\n",
       "      <td>94566</td>\n",
       "      <td>250.0</td>\n",
       "      <td>2007-05-16</td>\n",
       "      <td>16</td>\n",
       "      <td>2</td>\n",
       "      <td>weekday</td>\n",
       "    </tr>\n",
       "  </tbody>\n",
       "</table>\n",
       "</div>"
      ],
      "text/plain": [
       "   id last_name first_name middle_name                street_1 street_2  \\\n",
       "0 NaN      Agee     Steven         NaN  549 Laurel Branch Road      NaN   \n",
       "1 NaN    Ahrens        Don         NaN    4034 Rennellwood Way      NaN   \n",
       "\n",
       "         city state    zip  amount       date  candidate_id  day_of_week  \\\n",
       "0       Floyd    VA  24091   500.0 2007-06-30            16            5   \n",
       "1  Pleasanton    CA  94566   250.0 2007-05-16            16            2   \n",
       "\n",
       "   weekend  \n",
       "0  weekend  \n",
       "1  weekday  "
      ]
     },
     "execution_count": 76,
     "metadata": {},
     "output_type": "execute_result"
    }
   ],
   "source": [
    "contributions.head(2)"
   ]
  },
  {
   "cell_type": "code",
   "execution_count": 80,
   "id": "793c0be6-05cb-4373-bdeb-83a7d2fb4add",
   "metadata": {},
   "outputs": [],
   "source": [
    "comb = pd.merge(candidates,contributions,how=\"right\",left_on=\"id\",right_on=\"candidate_id\")"
   ]
  },
  {
   "cell_type": "code",
   "execution_count": 83,
   "id": "4474d470-3df9-46d8-a583-6a15d882c024",
   "metadata": {},
   "outputs": [
    {
     "data": {
      "text/html": [
       "<div>\n",
       "<style scoped>\n",
       "    .dataframe tbody tr th:only-of-type {\n",
       "        vertical-align: middle;\n",
       "    }\n",
       "\n",
       "    .dataframe tbody tr th {\n",
       "        vertical-align: top;\n",
       "    }\n",
       "\n",
       "    .dataframe thead th {\n",
       "        text-align: right;\n",
       "    }\n",
       "</style>\n",
       "<table border=\"1\" class=\"dataframe\">\n",
       "  <thead>\n",
       "    <tr style=\"text-align: right;\">\n",
       "      <th></th>\n",
       "      <th>amount</th>\n",
       "    </tr>\n",
       "    <tr>\n",
       "      <th>weekend</th>\n",
       "      <th></th>\n",
       "    </tr>\n",
       "  </thead>\n",
       "  <tbody>\n",
       "    <tr>\n",
       "      <th>weekday</th>\n",
       "      <td>229.185714</td>\n",
       "    </tr>\n",
       "    <tr>\n",
       "      <th>weekend</th>\n",
       "      <td>431.261250</td>\n",
       "    </tr>\n",
       "  </tbody>\n",
       "</table>\n",
       "</div>"
      ],
      "text/plain": [
       "             amount\n",
       "weekend            \n",
       "weekday  229.185714\n",
       "weekend  431.261250"
      ]
     },
     "execution_count": 83,
     "metadata": {},
     "output_type": "execute_result"
    }
   ],
   "source": [
    "comb.query(\"party=='D'\").groupby('weekend').agg({'amount':'mean'})"
   ]
  },
  {
   "cell_type": "code",
   "execution_count": 86,
   "id": "860fb03b-a0e5-4b33-9925-5c4004859158",
   "metadata": {},
   "outputs": [
    {
     "data": {
      "text/plain": [
       "4600.0"
      ]
     },
     "execution_count": 86,
     "metadata": {},
     "output_type": "execute_result"
    }
   ],
   "source": [
    "comb.query(\"party=='D' and weekend == 'weekday'\")['amount'].max()"
   ]
  },
  {
   "cell_type": "markdown",
   "id": "01e170cc-06a5-47db-85b9-76d4018aec19",
   "metadata": {},
   "source": [
    "Use the dataset stored [here](https://github.com/Gunnvant/corp_trainings/blob/version2/tiger_analytics/Session2/class_exercise/writeup.md). The description of this dataset can be read from [here](https://github.com/Gunnvant/corp_trainings/blob/version2/tiger_analytics/Session2/class_exercise/writeup.md)\n",
    "\n",
    "Answer the questions raised below:\n",
    "1. How many incidents were reported for the month of March?\n",
    "    \n",
    "    A.\t54\n",
    "    B.\t45\n",
    "    C.\t35\n",
    "    D.\t25\n",
    "\n",
    "2. On an average how many hectares of area was destroyed by the fires in the month of August? \n",
    "   \n",
    "    A.\t12.48\n",
    "    B.\t12.67\n",
    "    C.\t12.40\n",
    "    D.\t11.48\n",
    "\n",
    "3. In the month of August, what was the week-day, when the area destroyed in the fires was maximum but the temperature was least.\n",
    "   \n",
    "    A.\tMonday\n",
    "    B.\tTuesday\n",
    "    C.\tThursday\n",
    "    D.\tWednesday\n",
    "\n",
    "4. Maximum rainfall happened on:\n",
    "   \n",
    "    A.\tTuesday\n",
    "    B.\tMonday\n",
    "    C.\tSunday\n",
    "    D.\tFriday\n"
   ]
  },
  {
   "cell_type": "code",
   "execution_count": 87,
   "id": "2f2f99e2-88c8-41dd-8132-b850d01d1990",
   "metadata": {},
   "outputs": [],
   "source": [
    "path = \"/Users/gunnvantsaini/Downloads/forest_fires.csv\"\n",
    "forest = pd.read_csv(path)"
   ]
  },
  {
   "cell_type": "code",
   "execution_count": 88,
   "id": "ea71dbd6-3548-4f0d-8553-b466b861bc4c",
   "metadata": {},
   "outputs": [
    {
     "data": {
      "text/html": [
       "<div>\n",
       "<style scoped>\n",
       "    .dataframe tbody tr th:only-of-type {\n",
       "        vertical-align: middle;\n",
       "    }\n",
       "\n",
       "    .dataframe tbody tr th {\n",
       "        vertical-align: top;\n",
       "    }\n",
       "\n",
       "    .dataframe thead th {\n",
       "        text-align: right;\n",
       "    }\n",
       "</style>\n",
       "<table border=\"1\" class=\"dataframe\">\n",
       "  <thead>\n",
       "    <tr style=\"text-align: right;\">\n",
       "      <th></th>\n",
       "      <th>X</th>\n",
       "      <th>Y</th>\n",
       "      <th>month</th>\n",
       "      <th>day</th>\n",
       "      <th>FFMC</th>\n",
       "      <th>DMC</th>\n",
       "      <th>DC</th>\n",
       "      <th>ISI</th>\n",
       "      <th>temp</th>\n",
       "      <th>RH</th>\n",
       "      <th>wind</th>\n",
       "      <th>rain</th>\n",
       "      <th>area</th>\n",
       "    </tr>\n",
       "  </thead>\n",
       "  <tbody>\n",
       "    <tr>\n",
       "      <th>0</th>\n",
       "      <td>7</td>\n",
       "      <td>5</td>\n",
       "      <td>mar</td>\n",
       "      <td>fri</td>\n",
       "      <td>86.2</td>\n",
       "      <td>26.2</td>\n",
       "      <td>94.3</td>\n",
       "      <td>5.1</td>\n",
       "      <td>8.2</td>\n",
       "      <td>51</td>\n",
       "      <td>6.7</td>\n",
       "      <td>0.0</td>\n",
       "      <td>0.0</td>\n",
       "    </tr>\n",
       "    <tr>\n",
       "      <th>1</th>\n",
       "      <td>7</td>\n",
       "      <td>4</td>\n",
       "      <td>oct</td>\n",
       "      <td>tue</td>\n",
       "      <td>90.6</td>\n",
       "      <td>35.4</td>\n",
       "      <td>669.1</td>\n",
       "      <td>6.7</td>\n",
       "      <td>18.0</td>\n",
       "      <td>33</td>\n",
       "      <td>0.9</td>\n",
       "      <td>0.0</td>\n",
       "      <td>0.0</td>\n",
       "    </tr>\n",
       "    <tr>\n",
       "      <th>2</th>\n",
       "      <td>7</td>\n",
       "      <td>4</td>\n",
       "      <td>oct</td>\n",
       "      <td>sat</td>\n",
       "      <td>90.6</td>\n",
       "      <td>43.7</td>\n",
       "      <td>686.9</td>\n",
       "      <td>6.7</td>\n",
       "      <td>14.6</td>\n",
       "      <td>33</td>\n",
       "      <td>1.3</td>\n",
       "      <td>0.0</td>\n",
       "      <td>0.0</td>\n",
       "    </tr>\n",
       "    <tr>\n",
       "      <th>3</th>\n",
       "      <td>8</td>\n",
       "      <td>6</td>\n",
       "      <td>mar</td>\n",
       "      <td>fri</td>\n",
       "      <td>91.7</td>\n",
       "      <td>33.3</td>\n",
       "      <td>77.5</td>\n",
       "      <td>9.0</td>\n",
       "      <td>8.3</td>\n",
       "      <td>97</td>\n",
       "      <td>4.0</td>\n",
       "      <td>0.2</td>\n",
       "      <td>0.0</td>\n",
       "    </tr>\n",
       "    <tr>\n",
       "      <th>4</th>\n",
       "      <td>8</td>\n",
       "      <td>6</td>\n",
       "      <td>mar</td>\n",
       "      <td>sun</td>\n",
       "      <td>89.3</td>\n",
       "      <td>51.3</td>\n",
       "      <td>102.2</td>\n",
       "      <td>9.6</td>\n",
       "      <td>11.4</td>\n",
       "      <td>99</td>\n",
       "      <td>1.8</td>\n",
       "      <td>0.0</td>\n",
       "      <td>0.0</td>\n",
       "    </tr>\n",
       "  </tbody>\n",
       "</table>\n",
       "</div>"
      ],
      "text/plain": [
       "   X  Y month  day  FFMC   DMC     DC  ISI  temp  RH  wind  rain  area\n",
       "0  7  5   mar  fri  86.2  26.2   94.3  5.1   8.2  51   6.7   0.0   0.0\n",
       "1  7  4   oct  tue  90.6  35.4  669.1  6.7  18.0  33   0.9   0.0   0.0\n",
       "2  7  4   oct  sat  90.6  43.7  686.9  6.7  14.6  33   1.3   0.0   0.0\n",
       "3  8  6   mar  fri  91.7  33.3   77.5  9.0   8.3  97   4.0   0.2   0.0\n",
       "4  8  6   mar  sun  89.3  51.3  102.2  9.6  11.4  99   1.8   0.0   0.0"
      ]
     },
     "execution_count": 88,
     "metadata": {},
     "output_type": "execute_result"
    }
   ],
   "source": [
    "forest.head()"
   ]
  },
  {
   "cell_type": "code",
   "execution_count": 89,
   "id": "9e72be06-2fb6-4f9a-a6b1-c0e7c5c5b3a4",
   "metadata": {},
   "outputs": [
    {
     "data": {
      "text/plain": [
       "54"
      ]
     },
     "execution_count": 89,
     "metadata": {},
     "output_type": "execute_result"
    }
   ],
   "source": [
    "##Q1\n",
    "forest.query(\"month=='mar'\").shape[0]"
   ]
  },
  {
   "cell_type": "code",
   "execution_count": 90,
   "id": "ddfcc678-ea80-4d86-8d42-4b3bf988b834",
   "metadata": {},
   "outputs": [
    {
     "data": {
      "text/plain": [
       "array(['mar', 'oct', 'aug', 'sep', 'apr', 'jun', 'jul', 'feb', 'jan',\n",
       "       'dec', 'may', 'nov'], dtype=object)"
      ]
     },
     "execution_count": 90,
     "metadata": {},
     "output_type": "execute_result"
    }
   ],
   "source": [
    "forest['month'].unique()"
   ]
  },
  {
   "cell_type": "code",
   "execution_count": 92,
   "id": "67d0f145-5857-425a-bd58-2d3677dfd386",
   "metadata": {},
   "outputs": [
    {
     "data": {
      "text/plain": [
       "12.489076086956521"
      ]
     },
     "execution_count": 92,
     "metadata": {},
     "output_type": "execute_result"
    }
   ],
   "source": [
    "##q2\n",
    "forest.query(\"month=='aug'\")['area'].mean()"
   ]
  },
  {
   "cell_type": "code",
   "execution_count": 94,
   "id": "b82922f7-9e3e-4d47-995f-a5839c85889f",
   "metadata": {},
   "outputs": [
    {
     "data": {
      "text/html": [
       "<div>\n",
       "<style scoped>\n",
       "    .dataframe tbody tr th:only-of-type {\n",
       "        vertical-align: middle;\n",
       "    }\n",
       "\n",
       "    .dataframe tbody tr th {\n",
       "        vertical-align: top;\n",
       "    }\n",
       "\n",
       "    .dataframe thead th {\n",
       "        text-align: right;\n",
       "    }\n",
       "</style>\n",
       "<table border=\"1\" class=\"dataframe\">\n",
       "  <thead>\n",
       "    <tr style=\"text-align: right;\">\n",
       "      <th></th>\n",
       "      <th>X</th>\n",
       "      <th>Y</th>\n",
       "      <th>month</th>\n",
       "      <th>day</th>\n",
       "      <th>FFMC</th>\n",
       "      <th>DMC</th>\n",
       "      <th>DC</th>\n",
       "      <th>ISI</th>\n",
       "      <th>temp</th>\n",
       "      <th>RH</th>\n",
       "      <th>wind</th>\n",
       "      <th>rain</th>\n",
       "      <th>area</th>\n",
       "    </tr>\n",
       "  </thead>\n",
       "  <tbody>\n",
       "    <tr>\n",
       "      <th>415</th>\n",
       "      <td>8</td>\n",
       "      <td>6</td>\n",
       "      <td>aug</td>\n",
       "      <td>thu</td>\n",
       "      <td>94.8</td>\n",
       "      <td>222.4</td>\n",
       "      <td>698.6</td>\n",
       "      <td>13.9</td>\n",
       "      <td>27.5</td>\n",
       "      <td>27</td>\n",
       "      <td>4.9</td>\n",
       "      <td>0.0</td>\n",
       "      <td>746.28</td>\n",
       "    </tr>\n",
       "  </tbody>\n",
       "</table>\n",
       "</div>"
      ],
      "text/plain": [
       "     X  Y month  day  FFMC    DMC     DC   ISI  temp  RH  wind  rain    area\n",
       "415  8  6   aug  thu  94.8  222.4  698.6  13.9  27.5  27   4.9   0.0  746.28"
      ]
     },
     "execution_count": 94,
     "metadata": {},
     "output_type": "execute_result"
    }
   ],
   "source": [
    "##Q3\n",
    "forest.query(\"month=='aug'\").sort_values(['area','temp'],ascending=[False,True]).head(1)"
   ]
  },
  {
   "cell_type": "code",
   "execution_count": 97,
   "id": "365572bf-d912-4c3a-a61c-37f406e96c82",
   "metadata": {},
   "outputs": [
    {
     "data": {
      "text/plain": [
       "499    tue\n",
       "Name: day, dtype: object"
      ]
     },
     "execution_count": 97,
     "metadata": {},
     "output_type": "execute_result"
    }
   ],
   "source": [
    "##Q4\n",
    "forest[forest['rain']==forest['rain'].max()]['day']"
   ]
  },
  {
   "cell_type": "code",
   "execution_count": null,
   "id": "4a51f055-5164-4ca6-87f9-559c4d1bf91b",
   "metadata": {},
   "outputs": [],
   "source": []
  }
 ],
 "metadata": {
  "kernelspec": {
   "display_name": "Python 3 (ipykernel)",
   "language": "python",
   "name": "python3"
  },
  "language_info": {
   "codemirror_mode": {
    "name": "ipython",
    "version": 3
   },
   "file_extension": ".py",
   "mimetype": "text/x-python",
   "name": "python",
   "nbconvert_exporter": "python",
   "pygments_lexer": "ipython3",
   "version": "3.9.10"
  }
 },
 "nbformat": 4,
 "nbformat_minor": 5
}
