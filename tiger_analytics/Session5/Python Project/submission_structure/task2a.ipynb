{
 "cells": [
  {
   "cell_type": "code",
   "execution_count": null,
   "id": "1ae2511b-d22c-4bbc-b150-f3dbcb6df819",
   "metadata": {},
   "outputs": [],
   "source": [
    "path = \"\" ## this is the path to the folder which has all the files"
   ]
  },
  {
   "cell_type": "code",
   "execution_count": null,
   "id": "5bb7e560-9a92-4405-9a0e-fd223bd8d82a",
   "metadata": {},
   "outputs": [],
   "source": [
    "## Your code goes here"
   ]
  }
 ],
 "metadata": {
  "kernelspec": {
   "display_name": "Python 3 (ipykernel)",
   "language": "python",
   "name": "python3"
  },
  "language_info": {
   "codemirror_mode": {
    "name": "ipython",
    "version": 3
   },
   "file_extension": ".py",
   "mimetype": "text/x-python",
   "name": "python",
   "nbconvert_exporter": "python",
   "pygments_lexer": "ipython3",
   "version": "3.9.10"
  }
 },
 "nbformat": 4,
 "nbformat_minor": 5
}
