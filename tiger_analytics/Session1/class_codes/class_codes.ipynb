{
 "cells": [
  {
   "cell_type": "code",
   "execution_count": 2,
   "id": "07268d43-f11b-4e14-98e7-1a56590ed78c",
   "metadata": {},
   "outputs": [],
   "source": [
    "a = 3 ##int\n",
    "b = 4.0"
   ]
  },
  {
   "cell_type": "code",
   "execution_count": 3,
   "id": "6e46dccb-9b71-46ce-a6ba-23d570386e3e",
   "metadata": {},
   "outputs": [
    {
     "name": "stdout",
     "output_type": "stream",
     "text": [
      "3\n"
     ]
    }
   ],
   "source": [
    "print(a)"
   ]
  },
  {
   "cell_type": "code",
   "execution_count": 4,
   "id": "78f2fb8f-0a89-4651-9706-677176882f83",
   "metadata": {},
   "outputs": [
    {
     "name": "stdout",
     "output_type": "stream",
     "text": [
      "4.0\n"
     ]
    }
   ],
   "source": [
    "print(b)"
   ]
  },
  {
   "cell_type": "code",
   "execution_count": 5,
   "id": "951f80a8-07b8-43f2-94e1-ab48d60217e5",
   "metadata": {},
   "outputs": [
    {
     "data": {
      "text/plain": [
       "int"
      ]
     },
     "execution_count": 5,
     "metadata": {},
     "output_type": "execute_result"
    }
   ],
   "source": [
    "type(a)"
   ]
  },
  {
   "cell_type": "code",
   "execution_count": 6,
   "id": "d0555edf-be0a-4d67-a359-72f45496cb24",
   "metadata": {},
   "outputs": [
    {
     "data": {
      "text/plain": [
       "float"
      ]
     },
     "execution_count": 6,
     "metadata": {},
     "output_type": "execute_result"
    }
   ],
   "source": [
    "type(b)"
   ]
  },
  {
   "cell_type": "code",
   "execution_count": 7,
   "id": "b7856ce8-bdad-49a7-894e-0df4d12f0abb",
   "metadata": {},
   "outputs": [],
   "source": [
    "b = 3.0 ##float"
   ]
  },
  {
   "cell_type": "code",
   "execution_count": 9,
   "id": "79b5c759-f640-4f58-b6a0-8eb35ddfe0b2",
   "metadata": {},
   "outputs": [
    {
     "data": {
      "text/plain": [
       "float"
      ]
     },
     "execution_count": 9,
     "metadata": {},
     "output_type": "execute_result"
    }
   ],
   "source": [
    "type(a/b)"
   ]
  },
  {
   "cell_type": "markdown",
   "id": "d1101e84-c768-4f66-b6a6-cec1a8297808",
   "metadata": {},
   "source": [
    "### Strings"
   ]
  },
  {
   "cell_type": "code",
   "execution_count": 10,
   "id": "b25a7d8d-c6d0-47d2-aa04-24d627841b1d",
   "metadata": {},
   "outputs": [],
   "source": [
    "s1 = \"this is a string1\"\n",
    "s2 = 'this is a string2'\n",
    "s3 = '''this is a string3'''"
   ]
  },
  {
   "cell_type": "code",
   "execution_count": 11,
   "id": "044122c2-c20f-477e-8e8c-b828dfe1a2de",
   "metadata": {},
   "outputs": [
    {
     "data": {
      "text/plain": [
       "'this is a string1'"
      ]
     },
     "execution_count": 11,
     "metadata": {},
     "output_type": "execute_result"
    }
   ],
   "source": [
    "s1"
   ]
  },
  {
   "cell_type": "code",
   "execution_count": 12,
   "id": "e1dbe5b7-81d1-44de-b5a5-aec11f261f7c",
   "metadata": {},
   "outputs": [
    {
     "data": {
      "text/plain": [
       "'this is a string2'"
      ]
     },
     "execution_count": 12,
     "metadata": {},
     "output_type": "execute_result"
    }
   ],
   "source": [
    "s2"
   ]
  },
  {
   "cell_type": "code",
   "execution_count": 13,
   "id": "2e41c06a-c235-4cc0-aa0b-c5a899ee33fe",
   "metadata": {},
   "outputs": [
    {
     "data": {
      "text/plain": [
       "'this is a string3'"
      ]
     },
     "execution_count": 13,
     "metadata": {},
     "output_type": "execute_result"
    }
   ],
   "source": [
    "s3"
   ]
  },
  {
   "cell_type": "code",
   "execution_count": 14,
   "id": "e92144bf-9f38-4629-a3cc-c8d6f3981289",
   "metadata": {},
   "outputs": [
    {
     "data": {
      "text/plain": [
       "str"
      ]
     },
     "execution_count": 14,
     "metadata": {},
     "output_type": "execute_result"
    }
   ],
   "source": [
    "type(s1)"
   ]
  },
  {
   "cell_type": "code",
   "execution_count": 15,
   "id": "462dee2d-8df7-428a-ba6d-3274413a923f",
   "metadata": {},
   "outputs": [],
   "source": [
    "s4 = '''this is line 1\n",
    "this is line 2\n",
    "this is line3\n",
    "'''"
   ]
  },
  {
   "cell_type": "code",
   "execution_count": 16,
   "id": "6cb9a2d7-204a-4691-8d73-ef94e0178074",
   "metadata": {},
   "outputs": [
    {
     "data": {
      "text/plain": [
       "'this is line 1\\nthis is line 2\\nthis is line3\\n'"
      ]
     },
     "execution_count": 16,
     "metadata": {},
     "output_type": "execute_result"
    }
   ],
   "source": [
    "s4"
   ]
  },
  {
   "cell_type": "markdown",
   "id": "1ee84c9c-91d0-45c4-885c-a513604144c9",
   "metadata": {},
   "source": [
    "Strings are iterables:\n",
    "- Index\n",
    "- Loop through them"
   ]
  },
  {
   "cell_type": "code",
   "execution_count": 17,
   "id": "d713a740-63c2-482d-90dd-a6e16e7b422b",
   "metadata": {},
   "outputs": [
    {
     "data": {
      "text/plain": [
       "'this is a string1'"
      ]
     },
     "execution_count": 17,
     "metadata": {},
     "output_type": "execute_result"
    }
   ],
   "source": [
    "s1"
   ]
  },
  {
   "cell_type": "code",
   "execution_count": 18,
   "id": "ceb7ce8e-81e9-4164-8c1c-57656e4fb746",
   "metadata": {},
   "outputs": [
    {
     "data": {
      "text/plain": [
       "17"
      ]
     },
     "execution_count": 18,
     "metadata": {},
     "output_type": "execute_result"
    }
   ],
   "source": [
    "len(s1)"
   ]
  },
  {
   "cell_type": "code",
   "execution_count": 19,
   "id": "98980fe0-25fe-4da5-9e8b-de6e9020bdec",
   "metadata": {},
   "outputs": [
    {
     "data": {
      "text/plain": [
       "'t'"
      ]
     },
     "execution_count": 19,
     "metadata": {},
     "output_type": "execute_result"
    }
   ],
   "source": [
    "s1[0]"
   ]
  },
  {
   "cell_type": "code",
   "execution_count": 20,
   "id": "a411d89e-574c-45b2-8af6-8a2b4e640cef",
   "metadata": {},
   "outputs": [
    {
     "data": {
      "text/plain": [
       "'h'"
      ]
     },
     "execution_count": 20,
     "metadata": {},
     "output_type": "execute_result"
    }
   ],
   "source": [
    "s1[1]"
   ]
  },
  {
   "cell_type": "code",
   "execution_count": 21,
   "id": "862019bd-70a9-4c13-bd72-2e67333c8eab",
   "metadata": {},
   "outputs": [
    {
     "data": {
      "text/plain": [
       "'i'"
      ]
     },
     "execution_count": 21,
     "metadata": {},
     "output_type": "execute_result"
    }
   ],
   "source": [
    "s1[5]"
   ]
  },
  {
   "cell_type": "code",
   "execution_count": 22,
   "id": "531c548f-2b4b-4ba0-ac18-5a22a0985dbd",
   "metadata": {},
   "outputs": [
    {
     "data": {
      "text/plain": [
       "'1'"
      ]
     },
     "execution_count": 22,
     "metadata": {},
     "output_type": "execute_result"
    }
   ],
   "source": [
    "s1[-1]"
   ]
  },
  {
   "cell_type": "code",
   "execution_count": 23,
   "id": "efd3e8e0-d086-4a15-9980-0ee9dcf50689",
   "metadata": {},
   "outputs": [
    {
     "name": "stdout",
     "output_type": "stream",
     "text": [
      "t\n",
      "h\n",
      "i\n",
      "s\n",
      " \n",
      "i\n",
      "s\n",
      " \n",
      "a\n",
      " \n",
      "s\n",
      "t\n",
      "r\n",
      "i\n",
      "n\n",
      "g\n",
      "1\n"
     ]
    }
   ],
   "source": [
    "for i in s1:\n",
    "    print(i)"
   ]
  },
  {
   "cell_type": "code",
   "execution_count": 24,
   "id": "c44302a7-71ed-42f8-acac-3d67267a4093",
   "metadata": {},
   "outputs": [
    {
     "data": {
      "text/plain": [
       "str"
      ]
     },
     "execution_count": 24,
     "metadata": {},
     "output_type": "execute_result"
    }
   ],
   "source": [
    "type(s1)"
   ]
  },
  {
   "cell_type": "code",
   "execution_count": 25,
   "id": "d541045c-3cd9-48db-922f-938c14d253b9",
   "metadata": {},
   "outputs": [
    {
     "data": {
      "text/plain": [
       "'this is a string1'"
      ]
     },
     "execution_count": 25,
     "metadata": {},
     "output_type": "execute_result"
    }
   ],
   "source": [
    "s1"
   ]
  },
  {
   "cell_type": "code",
   "execution_count": 26,
   "id": "a56e8afa-aaed-4410-8f79-6dc2f2a85fbc",
   "metadata": {},
   "outputs": [
    {
     "name": "stdout",
     "output_type": "stream",
     "text": [
      "['__add__', '__class__', '__contains__', '__delattr__', '__dir__', '__doc__', '__eq__', '__format__', '__ge__', '__getattribute__', '__getitem__', '__getnewargs__', '__gt__', '__hash__', '__init__', '__init_subclass__', '__iter__', '__le__', '__len__', '__lt__', '__mod__', '__mul__', '__ne__', '__new__', '__reduce__', '__reduce_ex__', '__repr__', '__rmod__', '__rmul__', '__setattr__', '__sizeof__', '__str__', '__subclasshook__', 'capitalize', 'casefold', 'center', 'count', 'encode', 'endswith', 'expandtabs', 'find', 'format', 'format_map', 'index', 'isalnum', 'isalpha', 'isascii', 'isdecimal', 'isdigit', 'isidentifier', 'islower', 'isnumeric', 'isprintable', 'isspace', 'istitle', 'isupper', 'join', 'ljust', 'lower', 'lstrip', 'maketrans', 'partition', 'removeprefix', 'removesuffix', 'replace', 'rfind', 'rindex', 'rjust', 'rpartition', 'rsplit', 'rstrip', 'split', 'splitlines', 'startswith', 'strip', 'swapcase', 'title', 'translate', 'upper', 'zfill']\n"
     ]
    }
   ],
   "source": [
    "print(dir(s1))"
   ]
  },
  {
   "cell_type": "code",
   "execution_count": 27,
   "id": "c222d74f-b682-4320-a8d9-8f4322c59eeb",
   "metadata": {},
   "outputs": [
    {
     "data": {
      "text/plain": [
       "\u001b[0;31mSignature:\u001b[0m \u001b[0ms1\u001b[0m\u001b[0;34m.\u001b[0m\u001b[0misupper\u001b[0m\u001b[0;34m(\u001b[0m\u001b[0;34m)\u001b[0m\u001b[0;34m\u001b[0m\u001b[0;34m\u001b[0m\u001b[0m\n",
       "\u001b[0;31mDocstring:\u001b[0m\n",
       "Return True if the string is an uppercase string, False otherwise.\n",
       "\n",
       "A string is uppercase if all cased characters in the string are uppercase and\n",
       "there is at least one cased character in the string.\n",
       "\u001b[0;31mType:\u001b[0m      builtin_function_or_method\n"
      ]
     },
     "metadata": {},
     "output_type": "display_data"
    }
   ],
   "source": [
    "?s1.isupper"
   ]
  },
  {
   "cell_type": "code",
   "execution_count": 28,
   "id": "7b7841f2-a111-4c16-835e-2c3615f4c0cc",
   "metadata": {},
   "outputs": [
    {
     "data": {
      "text/plain": [
       "False"
      ]
     },
     "execution_count": 28,
     "metadata": {},
     "output_type": "execute_result"
    }
   ],
   "source": [
    "s1.isupper()"
   ]
  },
  {
   "cell_type": "code",
   "execution_count": 29,
   "id": "dcd97232-ddff-42d4-9c13-00f77f48efd8",
   "metadata": {},
   "outputs": [
    {
     "data": {
      "text/plain": [
       "'this is a string1'"
      ]
     },
     "execution_count": 29,
     "metadata": {},
     "output_type": "execute_result"
    }
   ],
   "source": [
    "s1"
   ]
  },
  {
   "cell_type": "markdown",
   "id": "bc44cacd-8f9d-4fac-bfbc-12c8de8b5fdd",
   "metadata": {},
   "source": [
    "## Class Demonstration \n",
    "\n",
    "input : test_str = dino\n",
    "\n",
    "Output : diNO\n",
    "\n",
    "Explanation : Latter half of string is uppercased.\n",
    "\n",
    "Input : test_str = apples\n",
    "\n",
    "\n",
    "Output : appLES\n",
    "\n",
    "Explanation : Latter half of string is uppercased."
   ]
  },
  {
   "cell_type": "code",
   "execution_count": 31,
   "id": "7ac6ea15-f4e6-4a42-9629-891858cb3237",
   "metadata": {},
   "outputs": [],
   "source": [
    "s = \"apples\""
   ]
  },
  {
   "cell_type": "code",
   "execution_count": 36,
   "id": "905fbac2-7c7c-4529-8a36-ecb404ab8aa9",
   "metadata": {},
   "outputs": [],
   "source": [
    "mid_pt = int(len(s)/2)"
   ]
  },
  {
   "cell_type": "code",
   "execution_count": 37,
   "id": "8cbb85d7-f865-4b95-a0ae-a1859d670c3f",
   "metadata": {},
   "outputs": [
    {
     "data": {
      "text/plain": [
       "'app'"
      ]
     },
     "execution_count": 37,
     "metadata": {},
     "output_type": "execute_result"
    }
   ],
   "source": [
    "s[0:mid_pt]"
   ]
  },
  {
   "cell_type": "code",
   "execution_count": 38,
   "id": "140312bb-ecb4-4e59-9309-90252dcce707",
   "metadata": {},
   "outputs": [
    {
     "data": {
      "text/plain": [
       "'les'"
      ]
     },
     "execution_count": 38,
     "metadata": {},
     "output_type": "execute_result"
    }
   ],
   "source": [
    "s[mid_pt:]"
   ]
  },
  {
   "cell_type": "code",
   "execution_count": 39,
   "id": "e2ba8090-74d0-43ff-b280-d13886a36da7",
   "metadata": {},
   "outputs": [
    {
     "data": {
      "text/plain": [
       "'appLES'"
      ]
     },
     "execution_count": 39,
     "metadata": {},
     "output_type": "execute_result"
    }
   ],
   "source": [
    "s[0:mid_pt]+s[mid_pt:].upper()"
   ]
  },
  {
   "cell_type": "markdown",
   "id": "34c25769-4d68-4792-b5c6-f9bfd5f67b30",
   "metadata": {},
   "source": [
    "## Class Excercise source (Try to solve on your own)\n",
    "\n",
    "- Input: welcome2ourcountry34\n",
    "\n",
    "- Output: True\n",
    "\n",
    "- Input: stringwithoutnum\n",
    "\n",
    "- Output: False\n",
    "\n",
    "Hints: Look at the output of dir() for any string object and find out the methods which can help in finding which element is a string and which is a number"
   ]
  },
  {
   "cell_type": "code",
   "execution_count": 40,
   "id": "a1f05bb5-bd6e-42a8-a5fa-eb2d91dd1691",
   "metadata": {},
   "outputs": [],
   "source": [
    "s = \"welcome2ourcountry34\""
   ]
  },
  {
   "cell_type": "code",
   "execution_count": 41,
   "id": "3269d363-c7a6-417c-b5dc-64b8b30911f6",
   "metadata": {},
   "outputs": [
    {
     "data": {
      "text/plain": [
       "True"
      ]
     },
     "execution_count": 41,
     "metadata": {},
     "output_type": "execute_result"
    }
   ],
   "source": [
    "\"4\".isdigit()"
   ]
  },
  {
   "cell_type": "code",
   "execution_count": 42,
   "id": "ee165942-8b08-4232-a79b-5dabd3316112",
   "metadata": {},
   "outputs": [
    {
     "data": {
      "text/plain": [
       "False"
      ]
     },
     "execution_count": 42,
     "metadata": {},
     "output_type": "execute_result"
    }
   ],
   "source": [
    "\"a\".isdigit()"
   ]
  },
  {
   "cell_type": "code",
   "execution_count": 46,
   "id": "13948fd8-82ed-44c9-919b-873fae17036d",
   "metadata": {},
   "outputs": [
    {
     "data": {
      "text/plain": [
       "False"
      ]
     },
     "execution_count": 46,
     "metadata": {},
     "output_type": "execute_result"
    }
   ],
   "source": [
    "\"3\".isalpha()"
   ]
  },
  {
   "cell_type": "code",
   "execution_count": 49,
   "id": "9c7c5624-6c98-4bf7-a9d7-9804e250d34a",
   "metadata": {},
   "outputs": [
    {
     "name": "stdout",
     "output_type": "stream",
     "text": [
      "True\n"
     ]
    }
   ],
   "source": [
    "for ch in s:\n",
    "    if ch.isdigit():\n",
    "        Flag = True\n",
    "    else:\n",
    "        Flag = False\n",
    "print(Flag)"
   ]
  },
  {
   "cell_type": "markdown",
   "id": "9c7e0a2b-c474-47e3-82f4-fbdbe1fdaf0c",
   "metadata": {},
   "source": [
    "## Lists\n",
    "- Lists are buckets of data\n",
    "- Lists are also iterables"
   ]
  },
  {
   "cell_type": "code",
   "execution_count": 51,
   "id": "f2afdef6-6a0a-44e6-b520-71b817c969ac",
   "metadata": {},
   "outputs": [],
   "source": [
    "l1 = [4,5,67,90,'b','x',0,9,\"this is a string\"]"
   ]
  },
  {
   "cell_type": "code",
   "execution_count": 52,
   "id": "c707d539-d358-4c33-92e0-778ea18aa629",
   "metadata": {},
   "outputs": [
    {
     "data": {
      "text/plain": [
       "[4, 5, 67, 90, 'b', 'x', 0, 9, 'this is a string']"
      ]
     },
     "execution_count": 52,
     "metadata": {},
     "output_type": "execute_result"
    }
   ],
   "source": [
    "l1"
   ]
  },
  {
   "cell_type": "code",
   "execution_count": 53,
   "id": "6553f6a5-f569-4596-affb-4087aab59998",
   "metadata": {},
   "outputs": [
    {
     "data": {
      "text/plain": [
       "4"
      ]
     },
     "execution_count": 53,
     "metadata": {},
     "output_type": "execute_result"
    }
   ],
   "source": [
    "l1[0]"
   ]
  },
  {
   "cell_type": "code",
   "execution_count": 54,
   "id": "5c88bf9e-06c1-4f6b-8b28-1a25644450c7",
   "metadata": {},
   "outputs": [
    {
     "data": {
      "text/plain": [
       "'this is a string'"
      ]
     },
     "execution_count": 54,
     "metadata": {},
     "output_type": "execute_result"
    }
   ],
   "source": [
    "l1[-1]"
   ]
  },
  {
   "cell_type": "code",
   "execution_count": 55,
   "id": "51b5c69a-d72e-41f0-ae79-252ef44cee1d",
   "metadata": {},
   "outputs": [
    {
     "data": {
      "text/plain": [
       "'g'"
      ]
     },
     "execution_count": 55,
     "metadata": {},
     "output_type": "execute_result"
    }
   ],
   "source": [
    "l1[-1][-1]"
   ]
  },
  {
   "cell_type": "code",
   "execution_count": 56,
   "id": "b0f4709b-748a-49ea-9fcf-65eab11f4cc9",
   "metadata": {},
   "outputs": [
    {
     "name": "stdout",
     "output_type": "stream",
     "text": [
      "4\n",
      "5\n",
      "67\n",
      "90\n",
      "b\n",
      "x\n",
      "0\n",
      "9\n",
      "this is a string\n"
     ]
    }
   ],
   "source": [
    "for i in l1:\n",
    "    print(i)"
   ]
  },
  {
   "cell_type": "code",
   "execution_count": 57,
   "id": "348f171f-974c-4828-89b2-97ee5135011a",
   "metadata": {},
   "outputs": [],
   "source": [
    "l1.append(\"now this is at last\")"
   ]
  },
  {
   "cell_type": "code",
   "execution_count": 58,
   "id": "2ca96622-a0c8-41cc-ad74-397a55cd6926",
   "metadata": {},
   "outputs": [
    {
     "data": {
      "text/plain": [
       "[4, 5, 67, 90, 'b', 'x', 0, 9, 'this is a string', 'now this is at last']"
      ]
     },
     "execution_count": 58,
     "metadata": {},
     "output_type": "execute_result"
    }
   ],
   "source": [
    "l1"
   ]
  },
  {
   "cell_type": "code",
   "execution_count": 59,
   "id": "b11d583d-2878-4d0b-88c9-30617433a7be",
   "metadata": {},
   "outputs": [],
   "source": [
    "l1.append(56)"
   ]
  },
  {
   "cell_type": "code",
   "execution_count": 60,
   "id": "6f4d1f53-a1e4-4c1a-9a24-46e0fe241741",
   "metadata": {},
   "outputs": [
    {
     "data": {
      "text/plain": [
       "[4, 5, 67, 90, 'b', 'x', 0, 9, 'this is a string', 'now this is at last', 56]"
      ]
     },
     "execution_count": 60,
     "metadata": {},
     "output_type": "execute_result"
    }
   ],
   "source": [
    "l1"
   ]
  },
  {
   "cell_type": "code",
   "execution_count": 61,
   "id": "fa8424ac-49ee-4fcb-85d6-eaef9531f618",
   "metadata": {},
   "outputs": [],
   "source": [
    "l2 = []"
   ]
  },
  {
   "cell_type": "code",
   "execution_count": 62,
   "id": "c0d3aaf3-642a-4305-b152-7bc4edf03116",
   "metadata": {},
   "outputs": [],
   "source": [
    "l2.append(1)"
   ]
  },
  {
   "cell_type": "code",
   "execution_count": 63,
   "id": "1824bd24-c62d-44d2-8232-45d060eff744",
   "metadata": {},
   "outputs": [
    {
     "data": {
      "text/plain": [
       "[1]"
      ]
     },
     "execution_count": 63,
     "metadata": {},
     "output_type": "execute_result"
    }
   ],
   "source": [
    "l2"
   ]
  },
  {
   "cell_type": "code",
   "execution_count": 64,
   "id": "5973369c-2b6a-4cbb-aa76-edf360328066",
   "metadata": {},
   "outputs": [],
   "source": [
    "l2.append(5)"
   ]
  },
  {
   "cell_type": "code",
   "execution_count": 65,
   "id": "a0e9cd4c-e7d0-4418-9b2c-c638690793a5",
   "metadata": {},
   "outputs": [
    {
     "data": {
      "text/plain": [
       "[1, 5]"
      ]
     },
     "execution_count": 65,
     "metadata": {},
     "output_type": "execute_result"
    }
   ],
   "source": [
    "l2"
   ]
  },
  {
   "cell_type": "code",
   "execution_count": 66,
   "id": "da18ac5c-1bd5-47a6-a9d6-2f6359fdce09",
   "metadata": {},
   "outputs": [],
   "source": [
    "l2.append([6,7,8])"
   ]
  },
  {
   "cell_type": "code",
   "execution_count": 67,
   "id": "866b763d-b424-48c2-a332-fdace3a08807",
   "metadata": {},
   "outputs": [
    {
     "data": {
      "text/plain": [
       "[1, 5, [6, 7, 8]]"
      ]
     },
     "execution_count": 67,
     "metadata": {},
     "output_type": "execute_result"
    }
   ],
   "source": [
    "l2"
   ]
  },
  {
   "cell_type": "code",
   "execution_count": 69,
   "id": "48d451b6-451e-42e2-ad87-d2ebbe129ee1",
   "metadata": {},
   "outputs": [
    {
     "data": {
      "text/plain": [
       "6"
      ]
     },
     "execution_count": 69,
     "metadata": {},
     "output_type": "execute_result"
    }
   ],
   "source": [
    "l2[2][0]"
   ]
  },
  {
   "cell_type": "code",
   "execution_count": 71,
   "id": "1ce8eafd-b39a-496b-82df-760b9f20522b",
   "metadata": {},
   "outputs": [
    {
     "name": "stdout",
     "output_type": "stream",
     "text": [
      "['__add__', '__class__', '__class_getitem__', '__contains__', '__delattr__', '__delitem__', '__dir__', '__doc__', '__eq__', '__format__', '__ge__', '__getattribute__', '__getitem__', '__gt__', '__hash__', '__iadd__', '__imul__', '__init__', '__init_subclass__', '__iter__', '__le__', '__len__', '__lt__', '__mul__', '__ne__', '__new__', '__reduce__', '__reduce_ex__', '__repr__', '__reversed__', '__rmul__', '__setattr__', '__setitem__', '__sizeof__', '__str__', '__subclasshook__', 'append', 'clear', 'copy', 'count', 'extend', 'index', 'insert', 'pop', 'remove', 'reverse', 'sort']\n"
     ]
    }
   ],
   "source": [
    "print(dir(l2))"
   ]
  },
  {
   "cell_type": "code",
   "execution_count": 72,
   "id": "783ec346-3ecc-4895-847d-15ead707a068",
   "metadata": {},
   "outputs": [
    {
     "data": {
      "text/plain": [
       "11"
      ]
     },
     "execution_count": 72,
     "metadata": {},
     "output_type": "execute_result"
    }
   ],
   "source": [
    "len(l1)"
   ]
  },
  {
   "cell_type": "code",
   "execution_count": 73,
   "id": "49f5bf35-5463-4223-bff1-d384eb5dc3a4",
   "metadata": {},
   "outputs": [
    {
     "data": {
      "text/plain": [
       "[4, 5, 67, 90, 'b', 'x', 0, 9, 'this is a string', 'now this is at last', 56]"
      ]
     },
     "execution_count": 73,
     "metadata": {},
     "output_type": "execute_result"
    }
   ],
   "source": [
    "l1"
   ]
  },
  {
   "cell_type": "markdown",
   "id": "ef3625d8-2fd6-4b24-9dd9-b59eaf5fb404",
   "metadata": {},
   "source": [
    "## List Class Discussion"
   ]
  },
  {
   "cell_type": "code",
   "execution_count": 74,
   "id": "b211ed15-4ea4-4bfe-a61b-8f5e7fa9689f",
   "metadata": {},
   "outputs": [],
   "source": [
    "amazon_review = '''\n",
    "What can I say!\n",
    "SIMPLY SPECTACULAR.\n",
    "PUBG - smooth +90 FPS\n",
    "Smashing all the bench marks by some margin (140%~~)\n",
    "4 SPEAKERS are like home theatre.\n",
    "Battery backup is excellent\n",
    "Could have been better than 20 wts charger\n",
    "\n",
    "I will keep u guys posted...stay tuned\n",
    "\n",
    "'''"
   ]
  },
  {
   "cell_type": "code",
   "execution_count": 75,
   "id": "48d11bc3-d785-4bcb-8455-39dd6be90c9b",
   "metadata": {},
   "outputs": [
    {
     "data": {
      "text/plain": [
       "['',\n",
       " 'What can I say!',\n",
       " 'SIMPLY SPECTACULAR.',\n",
       " 'PUBG - smooth +90 FPS',\n",
       " 'Smashing all the bench marks by some margin (140%~~)',\n",
       " '4 SPEAKERS are like home theatre.',\n",
       " 'Battery backup is excellent',\n",
       " 'Could have been better than 20 wts charger',\n",
       " '',\n",
       " 'I will keep u guys posted...stay tuned',\n",
       " '',\n",
       " '']"
      ]
     },
     "execution_count": 75,
     "metadata": {},
     "output_type": "execute_result"
    }
   ],
   "source": [
    "amazon_review.split(\"\\n\")"
   ]
  },
  {
   "cell_type": "code",
   "execution_count": 76,
   "id": "e8e8c9e0-4c3a-495f-8398-edcb6b852549",
   "metadata": {},
   "outputs": [
    {
     "name": "stdout",
     "output_type": "stream",
     "text": [
      "8\n"
     ]
    }
   ],
   "source": [
    "count = 0\n",
    "for sent in amazon_review.split(\"\\n\"):\n",
    "    if sent!='':\n",
    "        count = count+1\n",
    "print(count)\n",
    "        "
   ]
  },
  {
   "cell_type": "code",
   "execution_count": 80,
   "id": "d5f1ce32-48ae-472b-9ae2-64d4333080f4",
   "metadata": {},
   "outputs": [
    {
     "name": "stdout",
     "output_type": "stream",
     "text": [
      "45\n"
     ]
    }
   ],
   "source": [
    "## Count the number of words?\n",
    "count = 0\n",
    "for sent in amazon_review.split(\"\\n\"):\n",
    "    if sent!='':\n",
    "        count = count + len(sent.split(\" \"))\n",
    "print(count)"
   ]
  },
  {
   "cell_type": "code",
   "execution_count": 82,
   "id": "6a4a1243-9dee-4118-b299-3bcc804d173b",
   "metadata": {},
   "outputs": [
    {
     "data": {
      "text/plain": [
       "4"
      ]
     },
     "execution_count": 82,
     "metadata": {},
     "output_type": "execute_result"
    }
   ],
   "source": [
    "len(\"What can I say!\".split(\" \"))"
   ]
  },
  {
   "cell_type": "code",
   "execution_count": 83,
   "id": "6b46e0d6-11dd-4f7e-ad6a-c96bafe30e65",
   "metadata": {},
   "outputs": [
    {
     "name": "stdout",
     "output_type": "stream",
     "text": [
      "['What can I say!', 'SIMPLY SPECTACULAR.', 'PUBG - smooth +90 FPS', 'Smashing all the bench marks by some margin (140%~~)', '4 SPEAKERS are like home theatre.', 'Battery backup is excellent', 'Could have been better than 20 wts charger', 'I will keep u guys posted...stay tuned']\n"
     ]
    }
   ],
   "source": [
    "## Extract non empty sentences in a separate list\n",
    "new_list = []\n",
    "for sent in amazon_review.split(\"\\n\"):\n",
    "    if sent!=\"\":\n",
    "        new_list.append(sent)\n",
    "print(new_list)"
   ]
  },
  {
   "cell_type": "markdown",
   "id": "855b4610-f4e6-4574-8ce6-b5f653a2b7c3",
   "metadata": {},
   "source": [
    "### List Class Excercise"
   ]
  },
  {
   "cell_type": "code",
   "execution_count": 84,
   "id": "e8807881-6291-4019-b356-58a38b0a2f87",
   "metadata": {},
   "outputs": [],
   "source": [
    "dinkar = '''\n",
    "वर्षों तक वन में घूम-घूम,\n",
    "बाधा-विघ्नों को चूम-चूम,\n",
    "सह धूप-घाम, पानी-पत्थर,\n",
    "पांडव आये कुछ और निखर।\n",
    "सौभाग्य न सब दिन सोता है,\n",
    "देखें, आगे क्या होता है।\n",
    "\n",
    "मैत्री की राह बताने को,\n",
    "सबको सुमार्ग पर लाने को,\n",
    "दुर्योधन को समझाने को,\n",
    "भीषण विध्वंस बचाने को,\n",
    "भगवान् हस्तिनापुर आये,\n",
    "पांडव का संदेशा लाये।\n",
    "\n",
    "‘दो न्याय अगर तो आधा दो,\n",
    "पर, इसमें भी यदि बाधा हो,\n",
    "तो दे दो केवल पाँच ग्राम,\n",
    "रक्खो अपनी धरती तमाम।\n",
    "हम वहीं खुशी से खायेंगे,\n",
    "परिजन पर असि न उठायेंगे!\n",
    "\n",
    "दुर्योधन वह भी दे ना सका,\n",
    "आशीष समाज की ले न सका,\n",
    "उलटे, हरि को बाँधने चला,\n",
    "जो था असाध्य, साधने चला।\n",
    "जब नाश मनुज पर छाता है,\n",
    "पहले विवेक मर जाता है।\n",
    "\n",
    "हरि ने भीषण हुंकार किया,\n",
    "अपना स्वरूप-विस्तार किया,\n",
    "डगमग-डगमग दिग्गज डोले,\n",
    "भगवान् कुपित होकर बोले-\n",
    "‘जंजीर बढ़ा कर साध मुझे,\n",
    "हाँ, हाँ दुर्योधन! बाँध मुझे।\n",
    "\n",
    "यह देख, गगन मुझमें लय है,\n",
    "यह देख, पवन मुझमें लय है,\n",
    "मुझमें विलीन झंकार सकल,\n",
    "मुझमें लय है संसार सकल।\n",
    "अमरत्व फूलता है मुझमें,\n",
    "संहार झूलता है मुझमें।\n",
    "'''"
   ]
  },
  {
   "cell_type": "markdown",
   "id": "e97088f6-2a01-4268-a869-bcff81226d6d",
   "metadata": {},
   "source": [
    "Q1. Programmatically find out how many paras/अनुच्छेद are there in the poem?\n",
    "\n",
    "Q2 Count the number of words in a paragraph and each sentence"
   ]
  },
  {
   "cell_type": "code",
   "execution_count": 86,
   "id": "3cba4418-4c0d-4da9-b96b-5f7678e88908",
   "metadata": {},
   "outputs": [
    {
     "data": {
      "text/plain": [
       "6"
      ]
     },
     "execution_count": 86,
     "metadata": {},
     "output_type": "execute_result"
    }
   ],
   "source": [
    "len(dinkar.split(\"\\n\\n\"))"
   ]
  },
  {
   "cell_type": "code",
   "execution_count": 95,
   "id": "0506c29e-81f9-484e-abf4-d91ad4927b1c",
   "metadata": {},
   "outputs": [
    {
     "data": {
      "text/plain": [
       "['\\nवर्षों तक वन में घूम-घूम,\\nबाधा-विघ्नों को चूम-चूम,\\nसह धूप-घाम, पानी-पत्थर,\\nपांडव आये कुछ और निखर।\\nसौभाग्य न सब दिन सोता है,\\nदेखें, आगे क्या होता है।',\n",
       " 'मैत्री की राह बताने को,\\nसबको सुमार्ग पर लाने को,\\nदुर्योधन को समझाने को,\\nभीषण विध्वंस बचाने को,\\nभगवान् हस्तिनापुर आये,\\nपांडव का संदेशा लाये।',\n",
       " '‘दो न्याय अगर तो आधा दो,\\nपर, इसमें भी यदि बाधा हो,\\nतो दे दो केवल पाँच ग्राम,\\nरक्खो अपनी धरती तमाम।\\nहम वहीं खुशी से खायेंगे,\\nपरिजन पर असि न उठायेंगे!',\n",
       " 'दुर्योधन वह भी दे ना सका,\\nआशीष समाज की ले न सका,\\nउलटे, हरि को बाँधने चला,\\nजो था असाध्य, साधने चला।\\nजब नाश मनुज पर छाता है,\\nपहले विवेक मर जाता है।',\n",
       " 'हरि ने भीषण हुंकार किया,\\nअपना स्वरूप-विस्तार किया,\\nडगमग-डगमग दिग्गज डोले,\\nभगवान् कुपित होकर बोले-\\n‘जंजीर बढ़ा कर साध मुझे,\\nहाँ, हाँ दुर्योधन! बाँध मुझे।',\n",
       " 'यह देख, गगन मुझमें लय है,\\nयह देख, पवन मुझमें लय है,\\nमुझमें विलीन झंकार सकल,\\nमुझमें लय है संसार सकल।\\nअमरत्व फूलता है मुझमें,\\nसंहार झूलता है मुझमें।\\n']"
      ]
     },
     "execution_count": 95,
     "metadata": {},
     "output_type": "execute_result"
    }
   ],
   "source": [
    "dinkar.split(\"\\n\\n\")"
   ]
  },
  {
   "cell_type": "code",
   "execution_count": 111,
   "id": "65c75ec3-cc50-45ae-a487-b7156d1bb551",
   "metadata": {},
   "outputs": [
    {
     "data": {
      "text/plain": [
       "[27, 25, 32, 33, 25, 29]"
      ]
     },
     "execution_count": 111,
     "metadata": {},
     "output_type": "execute_result"
    }
   ],
   "source": [
    "### Count of words in each paragraph\n",
    "word_len_para = []\n",
    "for para in dinkar.split(\"\\n\\n\"):\n",
    "    word_len_para.append(len(para.split()))\n",
    "word_len_para"
   ]
  },
  {
   "cell_type": "markdown",
   "id": "003874e7-b663-415f-8a82-67ced4371753",
   "metadata": {},
   "source": [
    "### How can we create python functions"
   ]
  },
  {
   "cell_type": "markdown",
   "id": "476cd2da-fe8b-4209-a37e-e04d080a246a",
   "metadata": {},
   "source": [
    "```python\n",
    "def name(args1,args2):\n",
    "    body\n",
    "    return None\n",
    "```"
   ]
  },
  {
   "cell_type": "code",
   "execution_count": 112,
   "id": "77efcac1-ad68-4dff-b5a8-6d662cf86138",
   "metadata": {},
   "outputs": [],
   "source": [
    "def get_word_len(text):\n",
    "    word_len_para = []\n",
    "    for para in text.split(\"\\n\\n\"):\n",
    "        word_len_para.append(len(para.split()))\n",
    "    return word_len_para"
   ]
  },
  {
   "cell_type": "code",
   "execution_count": 113,
   "id": "c2f707bb-7f5f-4e9e-a6a8-8ad68c246921",
   "metadata": {},
   "outputs": [
    {
     "data": {
      "text/plain": [
       "[27, 25, 32, 33, 25, 29]"
      ]
     },
     "execution_count": 113,
     "metadata": {},
     "output_type": "execute_result"
    }
   ],
   "source": [
    "get_word_len(dinkar)"
   ]
  },
  {
   "cell_type": "code",
   "execution_count": 114,
   "id": "b0c432ed-c255-4d9a-9c0f-a6e8b8c09f9b",
   "metadata": {},
   "outputs": [],
   "source": [
    "### Write a function which returns the number of paragraphs (num_paras())\n",
    "def num_paras(text):\n",
    "    return len(text.split(\"\\n\\n\"))"
   ]
  },
  {
   "cell_type": "code",
   "execution_count": 115,
   "id": "cedf5942-55c9-48fb-8fed-0b6697f4ecda",
   "metadata": {},
   "outputs": [
    {
     "data": {
      "text/plain": [
       "6"
      ]
     },
     "execution_count": 115,
     "metadata": {},
     "output_type": "execute_result"
    }
   ],
   "source": [
    "num_paras(dinkar)"
   ]
  },
  {
   "cell_type": "markdown",
   "id": "062d591d-4a02-446e-8b5b-471b4c28dca8",
   "metadata": {},
   "source": [
    "### Class Excercise"
   ]
  },
  {
   "cell_type": "code",
   "execution_count": 116,
   "id": "c6b084e6-22e3-4fd4-8301-ccc2a75dd69d",
   "metadata": {},
   "outputs": [],
   "source": [
    "job_description1 = '''We are a dominant engineering firm that boasts many leading clients. We are determined to stand apart from the competition.'''\n",
    "job_description2 = '''We are a community of engineers who have effective relationships with many satisfied clients. We are committed to understanding the engineer sector intimately. '''\n",
    "job_description3 = '''Strong communication and influencing skills. Ability to perform individually in a competitive environment. Superior ability to satisfy customers and manage company’s association with them.'''\n",
    "job_description4 = '''Proficient oral and written communications skills. Collaborates well in a team environment. Sensitive to clients’ needs, can develop warm client relationships.'''\n",
    "job_description5 = '''Direct project groups to manage project progress and ensure accurate task control. Determine compliance with client’s objectives.'''\n",
    "job_description6 = '''Provide general support to project team in a manner complimentary to the company. Help clients with construction activities.'''"
   ]
  },
  {
   "cell_type": "markdown",
   "id": "cc07cad0-dea6-459e-b7f0-5741568d9900",
   "metadata": {},
   "source": [
    "**Q1. Write the following functions:**\n",
    "\n",
    "get_sentences(): This takes job descriptions as an input and returns list of sentences as output\n",
    "\n",
    "get_words(): This takes a sentence as an input and returns a list of words in the sentence as an output"
   ]
  },
  {
   "cell_type": "code",
   "execution_count": 140,
   "id": "11f9239c-c209-43c0-b16d-8452c822af71",
   "metadata": {},
   "outputs": [
    {
     "data": {
      "text/plain": [
       "['We are a dominant engineering firm that boasts many leading clients',\n",
       " 'We are determined to stand apart from the competition']"
      ]
     },
     "execution_count": 140,
     "metadata": {},
     "output_type": "execute_result"
    }
   ],
   "source": [
    "sent_list = []\n",
    "for sent in job_description1.split(\".\"):\n",
    "    if sent!=\"\" and sent!=\" \":\n",
    "        sent_list.append(sent.strip())\n",
    "sent_list           "
   ]
  },
  {
   "cell_type": "code",
   "execution_count": 141,
   "id": "fe8b277a-477c-4538-98f3-e507341d3ca3",
   "metadata": {},
   "outputs": [],
   "source": [
    "def get_sentences(jd):\n",
    "    sent_list = []\n",
    "    for sent in jd.split(\".\"):\n",
    "        if sent!=\"\" and sent!=\" \":\n",
    "            sent_list.append(sent.strip())\n",
    "    return sent_list           "
   ]
  },
  {
   "cell_type": "code",
   "execution_count": 142,
   "id": "3cbf33b6-9252-4542-86b2-34d5a2feee27",
   "metadata": {},
   "outputs": [
    {
     "data": {
      "text/plain": [
       "['We are a dominant engineering firm that boasts many leading clients',\n",
       " 'We are determined to stand apart from the competition']"
      ]
     },
     "execution_count": 142,
     "metadata": {},
     "output_type": "execute_result"
    }
   ],
   "source": [
    "get_sentences(job_description1)"
   ]
  },
  {
   "cell_type": "code",
   "execution_count": 144,
   "id": "cc066cc0-084a-4ddc-9718-4775b8646d05",
   "metadata": {},
   "outputs": [
    {
     "data": {
      "text/plain": [
       "['We',\n",
       " 'are',\n",
       " 'determined',\n",
       " 'to',\n",
       " 'stand',\n",
       " 'apart',\n",
       " 'from',\n",
       " 'the',\n",
       " 'competition']"
      ]
     },
     "execution_count": 144,
     "metadata": {},
     "output_type": "execute_result"
    }
   ],
   "source": [
    "'We are determined to stand apart from the competition'.split()"
   ]
  },
  {
   "cell_type": "code",
   "execution_count": 145,
   "id": "9f3bd513-eb04-44b3-b0f4-08f06032d2da",
   "metadata": {},
   "outputs": [],
   "source": [
    "def get_words(sent):\n",
    "    return sent.split()"
   ]
  },
  {
   "cell_type": "code",
   "execution_count": 146,
   "id": "e0c5f6a0-1057-4710-acf6-00252bb9f622",
   "metadata": {},
   "outputs": [],
   "source": [
    "feminine_coded_words = [\n",
    "    \"agree\",\n",
    "    \"affectionate\",\n",
    "    \"child\",\n",
    "    \"cheer\",\n",
    "    \"collab\",\n",
    "    \"commit\",\n",
    "    \"communal\",\n",
    "    \"compassion\",\n",
    "    \"connect\",\n",
    "    \"considerate\",\n",
    "    \"cooperat\",\n",
    "    \"co-operat\",\n",
    "    \"depend\",\n",
    "    \"emotiona\",\n",
    "    \"empath\",\n",
    "    \"feel\",\n",
    "    \"flatterable\",\n",
    "    \"gentle\",\n",
    "    \"honest\",\n",
    "    \"interpersonal\",\n",
    "    \"interdependen\",\n",
    "    \"interpersona\",\n",
    "    \"inter-personal\",\n",
    "    \"inter-dependen\",\n",
    "    \"inter-persona\",\n",
    "    \"kind\",\n",
    "    \"kinship\",\n",
    "    \"loyal\",\n",
    "    \"modesty\",\n",
    "    \"nag\",\n",
    "    \"nurtur\",\n",
    "    \"pleasant\",\n",
    "    \"polite\",\n",
    "    \"quiet\",\n",
    "    \"respon\",\n",
    "    \"sensitiv\",\n",
    "    \"submissive\",\n",
    "    \"support\",\n",
    "    \"sympath\",\n",
    "    \"tender\",\n",
    "    \"together\",\n",
    "    \"trust\",\n",
    "    \"understand\",\n",
    "    \"warm\",\n",
    "    \"whin\",\n",
    "    \"enthusias\",\n",
    "    \"inclusive\",\n",
    "    \"yield\",\n",
    "    \"share\",\n",
    "    \"sharin\"\n",
    "]\n",
    "\n",
    "masculine_coded_words = [\n",
    "    \"active\",\n",
    "    \"adventurous\",\n",
    "    \"aggress\",\n",
    "    \"ambitio\",\n",
    "    \"analy\",\n",
    "    \"assert\",\n",
    "    \"athlet\",\n",
    "    \"autonom\",\n",
    "    \"battle\",\n",
    "    \"boast\",\n",
    "    \"challeng\",\n",
    "    \"champion\",\n",
    "    \"compet\",\n",
    "    \"confident\",\n",
    "    \"courag\",\n",
    "    \"decid\",\n",
    "    \"decision\",\n",
    "    \"decisive\",\n",
    "    \"defend\",\n",
    "    \"determin\",\n",
    "    \"domina\",\n",
    "    \"dominant\",\n",
    "    \"driven\",\n",
    "    \"fearless\",\n",
    "    \"fight\",\n",
    "    \"force\",\n",
    "    \"greedy\",\n",
    "    \"head-strong\",\n",
    "    \"headstrong\",\n",
    "    \"hierarch\",\n",
    "    \"hostil\",\n",
    "    \"impulsive\",\n",
    "    \"independen\",\n",
    "    \"individual\",\n",
    "    \"intellect\",\n",
    "    \"lead\",\n",
    "    \"logic\",\n",
    "    \"objective\",\n",
    "    \"opinion\",\n",
    "    \"outspoken\",\n",
    "    \"persist\",\n",
    "    \"principle\",\n",
    "    \"reckless\",\n",
    "    \"self-confiden\",\n",
    "    \"self-relian\",\n",
    "    \"self-sufficien\",\n",
    "    \"selfconfiden\",\n",
    "    \"selfrelian\",\n",
    "    \"selfsufficien\",\n",
    "    \"stubborn\",\n",
    "    \"superior\",\n",
    "    \"unreasonab\"\n",
    "]"
   ]
  },
  {
   "cell_type": "markdown",
   "id": "62eb2ce3-fffd-4886-9ae1-9d7dd01f9517",
   "metadata": {},
   "source": [
    "### Q2. Now write a function which can take a list of words in a sentence and match how many words start with the root form of either masculine or feminine words."
   ]
  },
  {
   "cell_type": "code",
   "execution_count": 147,
   "id": "081afcd4-3612-4e3b-9b21-443af351de4f",
   "metadata": {},
   "outputs": [],
   "source": [
    "low = ['We',\n",
    " 'are',\n",
    " 'determined',\n",
    " 'to',\n",
    " 'stand',\n",
    " 'apart',\n",
    " 'from',\n",
    " 'the',\n",
    " 'competition']"
   ]
  },
  {
   "cell_type": "code",
   "execution_count": 163,
   "id": "318c6135-c1a1-4a69-a081-661d96e6f626",
   "metadata": {},
   "outputs": [
    {
     "name": "stdout",
     "output_type": "stream",
     "text": [
      "2\n",
      "['determined', 'competition']\n"
     ]
    }
   ],
   "source": [
    "counter = 0\n",
    "words_list = []\n",
    "for w in low:\n",
    "    for mw in masculine_coded_words:\n",
    "        if w.lower().startswith(mw):\n",
    "            counter+=1\n",
    "            words_list.append(w.lower())\n",
    "print(counter)\n",
    "print(words_list)"
   ]
  },
  {
   "cell_type": "code",
   "execution_count": 165,
   "id": "9d539546-12b9-40b4-a435-cd682277e87a",
   "metadata": {},
   "outputs": [],
   "source": [
    "def get_coded_word_count(word_list,coded_word_list):\n",
    "    counter = 0\n",
    "    for w in word_list:\n",
    "        for cw in coded_word_list:\n",
    "            if w.lower().startswith(cw):\n",
    "                counter+=1\n",
    "    return counter"
   ]
  },
  {
   "cell_type": "code",
   "execution_count": 166,
   "id": "bc42913c-5628-4018-91f9-04eee61af77d",
   "metadata": {},
   "outputs": [
    {
     "data": {
      "text/plain": [
       "2"
      ]
     },
     "execution_count": 166,
     "metadata": {},
     "output_type": "execute_result"
    }
   ],
   "source": [
    "get_coded_word_count(low,masculine_coded_words)"
   ]
  },
  {
   "cell_type": "code",
   "execution_count": 167,
   "id": "79d01213-980a-45a4-8eca-51299be94522",
   "metadata": {},
   "outputs": [
    {
     "data": {
      "text/plain": [
       "0"
      ]
     },
     "execution_count": 167,
     "metadata": {},
     "output_type": "execute_result"
    }
   ],
   "source": [
    "get_coded_word_count(low,feminine_coded_words)"
   ]
  },
  {
   "cell_type": "code",
   "execution_count": 186,
   "id": "37f42638-455d-4b68-b5e0-b93eca3a94b2",
   "metadata": {},
   "outputs": [],
   "source": [
    "c = 0\n",
    "for sent in get_sentences(job_description6):\n",
    "    low = get_words(sent)\n",
    "    c = c + get_coded_word_count(low,masculine_coded_words)"
   ]
  },
  {
   "cell_type": "code",
   "execution_count": 187,
   "id": "90e27176-2611-4f1d-9cae-ee7083bbc9e9",
   "metadata": {},
   "outputs": [
    {
     "data": {
      "text/plain": [
       "0"
      ]
     },
     "execution_count": 187,
     "metadata": {},
     "output_type": "execute_result"
    }
   ],
   "source": [
    "c"
   ]
  },
  {
   "cell_type": "code",
   "execution_count": 192,
   "id": "3249cddc-ba37-42f1-9bc0-a6cbe9696bf3",
   "metadata": {},
   "outputs": [
    {
     "data": {
      "text/plain": [
       "['\\nवर्षों',\n",
       " 'तक',\n",
       " 'वन',\n",
       " 'में',\n",
       " 'घूम-घूम,\\nबाधा-विघ्नों',\n",
       " 'को',\n",
       " 'चूम-चूम,\\nसह',\n",
       " 'धूप-घाम,',\n",
       " 'पानी-पत्थर,\\nपांडव',\n",
       " 'आये',\n",
       " 'कुछ',\n",
       " 'और',\n",
       " 'निखर।\\nसौभाग्य',\n",
       " 'न',\n",
       " 'सब',\n",
       " 'दिन',\n",
       " 'सोता',\n",
       " 'है,\\nदेखें,',\n",
       " 'आगे',\n",
       " 'क्या',\n",
       " 'होता',\n",
       " 'है।']"
      ]
     },
     "execution_count": 192,
     "metadata": {},
     "output_type": "execute_result"
    }
   ],
   "source": [
    "dinkar.split(\"\\n\\n\")[0].split(\" \")"
   ]
  },
  {
   "cell_type": "code",
   "execution_count": 193,
   "id": "7cf4ef41-2432-4793-9e30-e41ef9f5c71c",
   "metadata": {},
   "outputs": [
    {
     "data": {
      "text/plain": [
       "['वर्षों',\n",
       " 'तक',\n",
       " 'वन',\n",
       " 'में',\n",
       " 'घूम-घूम,',\n",
       " 'बाधा-विघ्नों',\n",
       " 'को',\n",
       " 'चूम-चूम,',\n",
       " 'सह',\n",
       " 'धूप-घाम,',\n",
       " 'पानी-पत्थर,',\n",
       " 'पांडव',\n",
       " 'आये',\n",
       " 'कुछ',\n",
       " 'और',\n",
       " 'निखर।',\n",
       " 'सौभाग्य',\n",
       " 'न',\n",
       " 'सब',\n",
       " 'दिन',\n",
       " 'सोता',\n",
       " 'है,',\n",
       " 'देखें,',\n",
       " 'आगे',\n",
       " 'क्या',\n",
       " 'होता',\n",
       " 'है।']"
      ]
     },
     "execution_count": 193,
     "metadata": {},
     "output_type": "execute_result"
    }
   ],
   "source": [
    "dinkar.split(\"\\n\\n\")[0].split()"
   ]
  },
  {
   "cell_type": "markdown",
   "id": "e7a8bbb8-f22d-493e-adc8-82ab06da206b",
   "metadata": {},
   "source": [
    "### Revision\n",
    "- Numbers\n",
    "- Strings\n",
    "- Lists"
   ]
  },
  {
   "cell_type": "code",
   "execution_count": 194,
   "id": "cd73997d-af7f-4dbe-94a5-185ccb98bd61",
   "metadata": {},
   "outputs": [
    {
     "data": {
      "text/plain": [
       "7.2"
      ]
     },
     "execution_count": 194,
     "metadata": {},
     "output_type": "execute_result"
    }
   ],
   "source": [
    "a1 = 3 ##int\n",
    "b1 = 4.2 ##float\n",
    "a1+b1"
   ]
  },
  {
   "cell_type": "code",
   "execution_count": 195,
   "id": "55465f97-eef0-4061-9570-ab72aabb93e0",
   "metadata": {},
   "outputs": [
    {
     "data": {
      "text/plain": [
       "5.0"
      ]
     },
     "execution_count": 195,
     "metadata": {},
     "output_type": "execute_result"
    }
   ],
   "source": [
    "a1 = 1.0 ##float\n",
    "b1 = 4 ##int\n",
    "a1+b1"
   ]
  },
  {
   "cell_type": "code",
   "execution_count": 198,
   "id": "084f871c-de5e-4d0e-b80c-f87cbd4e7e7f",
   "metadata": {},
   "outputs": [
    {
     "data": {
      "text/plain": [
       "'s'"
      ]
     },
     "execution_count": 198,
     "metadata": {},
     "output_type": "execute_result"
    }
   ],
   "source": [
    "s = \"sting\"\n",
    "s[0]"
   ]
  },
  {
   "cell_type": "code",
   "execution_count": 199,
   "id": "5054a52a-bbc2-4f19-8df8-8924ebfcdf21",
   "metadata": {},
   "outputs": [
    {
     "data": {
      "text/plain": [
       "'st'"
      ]
     },
     "execution_count": 199,
     "metadata": {},
     "output_type": "execute_result"
    }
   ],
   "source": [
    "s[0:2]"
   ]
  },
  {
   "cell_type": "code",
   "execution_count": 202,
   "id": "9368be93-679e-448a-8fd6-47048e220864",
   "metadata": {},
   "outputs": [
    {
     "name": "stdout",
     "output_type": "stream",
     "text": [
      "i\n",
      "n\n"
     ]
    }
   ],
   "source": [
    "for i in s[2:-1]:\n",
    "    print(i)"
   ]
  },
  {
   "cell_type": "code",
   "execution_count": 203,
   "id": "6885d965-d143-4ba6-8557-450f3b5c863d",
   "metadata": {},
   "outputs": [
    {
     "name": "stdout",
     "output_type": "stream",
     "text": [
      "a\n"
     ]
    }
   ],
   "source": [
    "for i in \"a\":\n",
    "    print(i)"
   ]
  },
  {
   "cell_type": "code",
   "execution_count": 205,
   "id": "ed71ab0b-16a6-45e4-9cfa-10e202810cb1",
   "metadata": {},
   "outputs": [
    {
     "name": "stdout",
     "output_type": "stream",
     "text": [
      "['__add__', '__class__', '__contains__', '__delattr__', '__dir__', '__doc__', '__eq__', '__format__', '__ge__', '__getattribute__', '__getitem__', '__getnewargs__', '__gt__', '__hash__', '__init__', '__init_subclass__', '__iter__', '__le__', '__len__', '__lt__', '__mod__', '__mul__', '__ne__', '__new__', '__reduce__', '__reduce_ex__', '__repr__', '__rmod__', '__rmul__', '__setattr__', '__sizeof__', '__str__', '__subclasshook__', 'capitalize', 'casefold', 'center', 'count', 'encode', 'endswith', 'expandtabs', 'find', 'format', 'format_map', 'index', 'isalnum', 'isalpha', 'isascii', 'isdecimal', 'isdigit', 'isidentifier', 'islower', 'isnumeric', 'isprintable', 'isspace', 'istitle', 'isupper', 'join', 'ljust', 'lower', 'lstrip', 'maketrans', 'partition', 'removeprefix', 'removesuffix', 'replace', 'rfind', 'rindex', 'rjust', 'rpartition', 'rsplit', 'rstrip', 'split', 'splitlines', 'startswith', 'strip', 'swapcase', 'title', 'translate', 'upper', 'zfill']\n"
     ]
    }
   ],
   "source": [
    "print(dir(\"a\"))"
   ]
  },
  {
   "cell_type": "code",
   "execution_count": 206,
   "id": "b0705cc4-30ff-4663-8bcf-33f8b93b078d",
   "metadata": {},
   "outputs": [],
   "source": [
    "l =[[1,23,4],\"a\",1,2,3,4,5]"
   ]
  },
  {
   "cell_type": "code",
   "execution_count": 207,
   "id": "4a0eb946-baaf-40c3-a9fa-0f3f1557ade2",
   "metadata": {},
   "outputs": [
    {
     "data": {
      "text/plain": [
       "[1, 23, 4]"
      ]
     },
     "execution_count": 207,
     "metadata": {},
     "output_type": "execute_result"
    }
   ],
   "source": [
    "l[0]"
   ]
  },
  {
   "cell_type": "code",
   "execution_count": 208,
   "id": "0708361c-f422-46be-addb-1ddd578439fe",
   "metadata": {},
   "outputs": [
    {
     "data": {
      "text/plain": [
       "4"
      ]
     },
     "execution_count": 208,
     "metadata": {},
     "output_type": "execute_result"
    }
   ],
   "source": [
    "l[0][-1]"
   ]
  },
  {
   "cell_type": "code",
   "execution_count": 209,
   "id": "d4a1d814-eef5-455d-8c26-073a7e2f6f83",
   "metadata": {},
   "outputs": [
    {
     "data": {
      "text/plain": [
       "[1, 23, 4]"
      ]
     },
     "execution_count": 209,
     "metadata": {},
     "output_type": "execute_result"
    }
   ],
   "source": [
    "l[0]"
   ]
  },
  {
   "cell_type": "code",
   "execution_count": 210,
   "id": "e18582aa-88fc-4a25-9e00-f19be36e19fc",
   "metadata": {},
   "outputs": [
    {
     "data": {
      "text/plain": [
       "'a'"
      ]
     },
     "execution_count": 210,
     "metadata": {},
     "output_type": "execute_result"
    }
   ],
   "source": [
    "l[1]"
   ]
  },
  {
   "cell_type": "code",
   "execution_count": 211,
   "id": "e5680f9d-cb90-4c9d-a7e5-9553b5642f35",
   "metadata": {},
   "outputs": [],
   "source": [
    "l[1] = \"cat\""
   ]
  },
  {
   "cell_type": "code",
   "execution_count": 212,
   "id": "fc7074a7-9cbe-4704-b290-e15552cc3d7c",
   "metadata": {},
   "outputs": [
    {
     "data": {
      "text/plain": [
       "[[1, 23, 4], 'cat', 1, 2, 3, 4, 5]"
      ]
     },
     "execution_count": 212,
     "metadata": {},
     "output_type": "execute_result"
    }
   ],
   "source": [
    "l ## \"dog\""
   ]
  },
  {
   "cell_type": "code",
   "execution_count": 214,
   "id": "a41d8a66-bc6f-414f-a4c9-5569919d67e0",
   "metadata": {},
   "outputs": [],
   "source": [
    "l[0][1] = \"dog\""
   ]
  },
  {
   "cell_type": "code",
   "execution_count": 215,
   "id": "8e780d92-7c0e-4803-83fc-54e3a3adb151",
   "metadata": {},
   "outputs": [
    {
     "data": {
      "text/plain": [
       "[[1, 'dog', 4], 'cat', 1, 2, 3, 4, 5]"
      ]
     },
     "execution_count": 215,
     "metadata": {},
     "output_type": "execute_result"
    }
   ],
   "source": [
    "l"
   ]
  },
  {
   "cell_type": "code",
   "execution_count": 216,
   "id": "23d4ac04-86c7-41b2-a2b7-4481c1ecb8eb",
   "metadata": {},
   "outputs": [],
   "source": [
    "l = []"
   ]
  },
  {
   "cell_type": "markdown",
   "id": "95fa378d-4401-4a86-a453-bccb3bd693ab",
   "metadata": {},
   "source": [
    "```python\n",
    "def func_name(param1,param2...,param_n):\n",
    "    '''body goes here'''\n",
    "    return None\n",
    "\n",
    "```"
   ]
  },
  {
   "cell_type": "markdown",
   "id": "aaa144a7-7769-4f87-b4c8-2aa64bddbe81",
   "metadata": {},
   "source": [
    "For this exercise, write a Python function (`pig_latin`) that takes a string as input, assumed to be an English word. The function should return the translation of this word into Pig Latin. You may assume that the word contains no capital letters or punctuation.\n",
    "\n",
    "The rules for translating words from English into Pig Latin are quite simple:\n",
    "\n",
    "If the word begins with a vowel (a, e, i, o, or u), add “way” to the end of the word. So “air” becomes “airway” and “eat” becomes “eatway.”\n",
    "\n",
    "If the word begins with any other letter, then we take the first letter, put it on the end of the word, and then add “ay.” Thus, “python” becomes “ythonpay” and “computer” becomes “omputercay.”"
   ]
  },
  {
   "cell_type": "markdown",
   "id": "373112ba-47ce-4ef2-829d-65dac27c13e1",
   "metadata": {},
   "source": [
    "\"anything\" => \"anythingway\"\n",
    "\"batman\" =>atmanbay"
   ]
  },
  {
   "cell_type": "code",
   "execution_count": null,
   "id": "a7191311-6752-40b3-bdaf-645777f6569a",
   "metadata": {},
   "outputs": [],
   "source": []
  }
 ],
 "metadata": {
  "kernelspec": {
   "display_name": "Python 3 (ipykernel)",
   "language": "python",
   "name": "python3"
  },
  "language_info": {
   "codemirror_mode": {
    "name": "ipython",
    "version": 3
   },
   "file_extension": ".py",
   "mimetype": "text/x-python",
   "name": "python",
   "nbconvert_exporter": "python",
   "pygments_lexer": "ipython3",
   "version": "3.9.10"
  }
 },
 "nbformat": 4,
 "nbformat_minor": 5
}
