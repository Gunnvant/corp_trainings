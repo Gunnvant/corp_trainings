{
 "cells": [
  {
   "cell_type": "markdown",
   "id": "eb03d384-807d-409b-a4e4-2a06bb4aa2a8",
   "metadata": {},
   "source": [
    "### Python Data Structures:\n",
    "- Numbers\n",
    "- String\n",
    "- Lists\n",
    "- Dictionaries\n",
    "- Tuples\n",
    "- Files"
   ]
  },
  {
   "cell_type": "code",
   "execution_count": 1,
   "id": "ff624d09-7986-4482-81f9-f0504bcf41f8",
   "metadata": {},
   "outputs": [],
   "source": [
    "a = 3"
   ]
  },
  {
   "cell_type": "code",
   "execution_count": 2,
   "id": "eba36b45-278b-4298-9a2c-bb09edce88d6",
   "metadata": {},
   "outputs": [
    {
     "name": "stdout",
     "output_type": "stream",
     "text": [
      "3\n"
     ]
    }
   ],
   "source": [
    "print(a)"
   ]
  },
  {
   "cell_type": "code",
   "execution_count": 3,
   "id": "f6faaa24-a280-4dd6-8dd2-aab853051e95",
   "metadata": {},
   "outputs": [],
   "source": [
    "b = 3.0"
   ]
  },
  {
   "cell_type": "code",
   "execution_count": 4,
   "id": "e9f5e68a-a439-4a6e-ab24-3f82148b5fa8",
   "metadata": {},
   "outputs": [
    {
     "data": {
      "text/plain": [
       "int"
      ]
     },
     "execution_count": 4,
     "metadata": {},
     "output_type": "execute_result"
    }
   ],
   "source": [
    "type(a)"
   ]
  },
  {
   "cell_type": "code",
   "execution_count": 5,
   "id": "8e2d0d1d-bf3b-4eb3-a144-8b2e20fdfed3",
   "metadata": {},
   "outputs": [
    {
     "data": {
      "text/plain": [
       "float"
      ]
     },
     "execution_count": 5,
     "metadata": {},
     "output_type": "execute_result"
    }
   ],
   "source": [
    "type(b)"
   ]
  },
  {
   "cell_type": "code",
   "execution_count": 6,
   "id": "43e8571a-82b8-4c99-85a6-b76c4955833c",
   "metadata": {},
   "outputs": [
    {
     "data": {
      "text/plain": [
       "1.0"
      ]
     },
     "execution_count": 6,
     "metadata": {},
     "output_type": "execute_result"
    }
   ],
   "source": [
    "a/b"
   ]
  },
  {
   "cell_type": "code",
   "execution_count": 7,
   "id": "37ac084b-3eb1-477a-84f8-a031b753c436",
   "metadata": {},
   "outputs": [
    {
     "data": {
      "text/plain": [
       "float"
      ]
     },
     "execution_count": 7,
     "metadata": {},
     "output_type": "execute_result"
    }
   ],
   "source": [
    "type(a/b)"
   ]
  },
  {
   "cell_type": "code",
   "execution_count": 8,
   "id": "0c15d8c3-9197-422c-828c-3a640f6834c3",
   "metadata": {},
   "outputs": [
    {
     "data": {
      "text/plain": [
       "1.0"
      ]
     },
     "execution_count": 8,
     "metadata": {},
     "output_type": "execute_result"
    }
   ],
   "source": [
    "b/a"
   ]
  },
  {
   "cell_type": "code",
   "execution_count": 11,
   "id": "fbee8f4e-3ba4-429a-8bd1-d74f6f0bf7ff",
   "metadata": {},
   "outputs": [
    {
     "data": {
      "text/plain": [
       "float"
      ]
     },
     "execution_count": 11,
     "metadata": {},
     "output_type": "execute_result"
    }
   ],
   "source": [
    "type(a-b)"
   ]
  },
  {
   "cell_type": "code",
   "execution_count": 12,
   "id": "1edc93ec-9d94-4fa4-87fe-cfabcbda190e",
   "metadata": {},
   "outputs": [
    {
     "data": {
      "text/plain": [
       "float"
      ]
     },
     "execution_count": 12,
     "metadata": {},
     "output_type": "execute_result"
    }
   ],
   "source": [
    "type(a+b)"
   ]
  },
  {
   "cell_type": "markdown",
   "id": "9ccb28a0-dfec-4e82-9dae-884274770ff6",
   "metadata": {},
   "source": [
    "### Strings\n",
    "- Iterables\n",
    "- Immutable\n",
    "- Many interesting methods"
   ]
  },
  {
   "cell_type": "code",
   "execution_count": 15,
   "id": "625291c1-bf7e-4654-9df1-40d833ff1558",
   "metadata": {},
   "outputs": [],
   "source": [
    "s1 = \"This is awonderfull day\"\n",
    "s2 = 'this is alsoa string'\n",
    "s3 = '''this is again\n",
    "a string'''"
   ]
  },
  {
   "cell_type": "code",
   "execution_count": 16,
   "id": "b4dc93c8-5fcb-4966-aee2-a7bacf3ff5cf",
   "metadata": {},
   "outputs": [
    {
     "data": {
      "text/plain": [
       "23"
      ]
     },
     "execution_count": 16,
     "metadata": {},
     "output_type": "execute_result"
    }
   ],
   "source": [
    "len(s1)"
   ]
  },
  {
   "cell_type": "code",
   "execution_count": 17,
   "id": "3cb8155c-8066-4085-9484-08c4185b6762",
   "metadata": {},
   "outputs": [
    {
     "data": {
      "text/plain": [
       "'T'"
      ]
     },
     "execution_count": 17,
     "metadata": {},
     "output_type": "execute_result"
    }
   ],
   "source": [
    "s1[0]"
   ]
  },
  {
   "cell_type": "code",
   "execution_count": 18,
   "id": "bfa223a0-621b-4881-89d1-8ca31f89703f",
   "metadata": {},
   "outputs": [
    {
     "data": {
      "text/plain": [
       "'h'"
      ]
     },
     "execution_count": 18,
     "metadata": {},
     "output_type": "execute_result"
    }
   ],
   "source": [
    "s1[1]"
   ]
  },
  {
   "cell_type": "code",
   "execution_count": 19,
   "id": "177aa9af-c4e1-4038-a21d-ea52355887fd",
   "metadata": {},
   "outputs": [
    {
     "name": "stdout",
     "output_type": "stream",
     "text": [
      "T\n",
      "h\n",
      "i\n",
      "s\n",
      " \n",
      "i\n",
      "s\n",
      " \n",
      "a\n",
      "w\n",
      "o\n",
      "n\n",
      "d\n",
      "e\n",
      "r\n",
      "f\n",
      "u\n",
      "l\n",
      "l\n",
      " \n",
      "d\n",
      "a\n",
      "y\n"
     ]
    }
   ],
   "source": [
    "for i in s1:\n",
    "    print(i)"
   ]
  },
  {
   "cell_type": "code",
   "execution_count": 20,
   "id": "c941ba36-513d-40ae-83de-0f734aed8e8a",
   "metadata": {},
   "outputs": [
    {
     "data": {
      "text/plain": [
       "'This is awonderfull day'"
      ]
     },
     "execution_count": 20,
     "metadata": {},
     "output_type": "execute_result"
    }
   ],
   "source": [
    "s1"
   ]
  },
  {
   "cell_type": "code",
   "execution_count": 21,
   "id": "dc4af99c-82bf-436d-af0b-2276a3fce2dc",
   "metadata": {},
   "outputs": [
    {
     "data": {
      "text/plain": [
       "'T'"
      ]
     },
     "execution_count": 21,
     "metadata": {},
     "output_type": "execute_result"
    }
   ],
   "source": [
    "s1[0]"
   ]
  },
  {
   "cell_type": "code",
   "execution_count": 22,
   "id": "dcd4b4c3-b962-4e09-89ec-e8405171fa23",
   "metadata": {},
   "outputs": [
    {
     "ename": "TypeError",
     "evalue": "'str' object does not support item assignment",
     "output_type": "error",
     "traceback": [
      "\u001b[0;31m---------------------------------------------------------------------------\u001b[0m",
      "\u001b[0;31mTypeError\u001b[0m                                 Traceback (most recent call last)",
      "Input \u001b[0;32mIn [22]\u001b[0m, in \u001b[0;36m<module>\u001b[0;34m\u001b[0m\n\u001b[0;32m----> 1\u001b[0m s1[\u001b[38;5;241m0\u001b[39m]\u001b[38;5;241m=\u001b[39m\u001b[38;5;124m\"\u001b[39m\u001b[38;5;124mg\u001b[39m\u001b[38;5;124m\"\u001b[39m\n",
      "\u001b[0;31mTypeError\u001b[0m: 'str' object does not support item assignment"
     ]
    }
   ],
   "source": [
    "s1[0]=\"g\""
   ]
  },
  {
   "cell_type": "code",
   "execution_count": 23,
   "id": "92b9f3ce-1992-497d-b328-7da1079d10fd",
   "metadata": {},
   "outputs": [
    {
     "data": {
      "text/plain": [
       "'This is awonderfull day'"
      ]
     },
     "execution_count": 23,
     "metadata": {},
     "output_type": "execute_result"
    }
   ],
   "source": [
    "s1"
   ]
  },
  {
   "cell_type": "code",
   "execution_count": 24,
   "id": "45ee5616-6885-4ba5-a8b1-f98c48f78bf4",
   "metadata": {},
   "outputs": [],
   "source": [
    "s1 = \"new string\""
   ]
  },
  {
   "cell_type": "code",
   "execution_count": 25,
   "id": "83bb32df-06d2-437e-a89c-04ba849d4c98",
   "metadata": {},
   "outputs": [
    {
     "data": {
      "text/plain": [
       "'new string'"
      ]
     },
     "execution_count": 25,
     "metadata": {},
     "output_type": "execute_result"
    }
   ],
   "source": [
    "s1"
   ]
  },
  {
   "cell_type": "code",
   "execution_count": 26,
   "id": "feaa66e7-b676-43a8-bec9-fcd01578c719",
   "metadata": {},
   "outputs": [
    {
     "name": "stdout",
     "output_type": "stream",
     "text": [
      "['__add__', '__class__', '__contains__', '__delattr__', '__dir__', '__doc__', '__eq__', '__format__', '__ge__', '__getattribute__', '__getitem__', '__getnewargs__', '__gt__', '__hash__', '__init__', '__init_subclass__', '__iter__', '__le__', '__len__', '__lt__', '__mod__', '__mul__', '__ne__', '__new__', '__reduce__', '__reduce_ex__', '__repr__', '__rmod__', '__rmul__', '__setattr__', '__sizeof__', '__str__', '__subclasshook__', 'capitalize', 'casefold', 'center', 'count', 'encode', 'endswith', 'expandtabs', 'find', 'format', 'format_map', 'index', 'isalnum', 'isalpha', 'isascii', 'isdecimal', 'isdigit', 'isidentifier', 'islower', 'isnumeric', 'isprintable', 'isspace', 'istitle', 'isupper', 'join', 'ljust', 'lower', 'lstrip', 'maketrans', 'partition', 'removeprefix', 'removesuffix', 'replace', 'rfind', 'rindex', 'rjust', 'rpartition', 'rsplit', 'rstrip', 'split', 'splitlines', 'startswith', 'strip', 'swapcase', 'title', 'translate', 'upper', 'zfill']\n"
     ]
    }
   ],
   "source": [
    "print(dir(s1))"
   ]
  },
  {
   "cell_type": "code",
   "execution_count": 27,
   "id": "1ae57007-dc55-405e-b6c4-41578a8c8210",
   "metadata": {},
   "outputs": [
    {
     "data": {
      "text/plain": [
       "'new string'"
      ]
     },
     "execution_count": 27,
     "metadata": {},
     "output_type": "execute_result"
    }
   ],
   "source": [
    "s1"
   ]
  },
  {
   "cell_type": "code",
   "execution_count": 28,
   "id": "dc312ab0-5db8-45c4-8f5b-248649a03ca3",
   "metadata": {},
   "outputs": [
    {
     "data": {
      "text/plain": [
       "'NEW STRING'"
      ]
     },
     "execution_count": 28,
     "metadata": {},
     "output_type": "execute_result"
    }
   ],
   "source": [
    "s1.upper()"
   ]
  },
  {
   "cell_type": "code",
   "execution_count": 29,
   "id": "4c2ecf29-f785-48c3-bc4a-27523ba7c6cb",
   "metadata": {},
   "outputs": [
    {
     "data": {
      "text/plain": [
       "\u001b[0;31mSignature:\u001b[0m \u001b[0ms1\u001b[0m\u001b[0;34m.\u001b[0m\u001b[0misdecimal\u001b[0m\u001b[0;34m(\u001b[0m\u001b[0;34m)\u001b[0m\u001b[0;34m\u001b[0m\u001b[0;34m\u001b[0m\u001b[0m\n",
       "\u001b[0;31mDocstring:\u001b[0m\n",
       "Return True if the string is a decimal string, False otherwise.\n",
       "\n",
       "A string is a decimal string if all characters in the string are decimal and\n",
       "there is at least one character in the string.\n",
       "\u001b[0;31mType:\u001b[0m      builtin_function_or_method\n"
      ]
     },
     "metadata": {},
     "output_type": "display_data"
    }
   ],
   "source": [
    "?s1.isdecimal"
   ]
  },
  {
   "cell_type": "markdown",
   "id": "b84fcea6-096a-4e6c-bdcf-a13d959551f3",
   "metadata": {},
   "source": [
    "### Class Demonstration [Common Programming Interview problems](https://www.geeksforgeeks.org/python-uppercase-half-string/)\n",
    "- input : test_str = dino\n",
    "- Output : diNO\n",
    "- Explanation : Latter half of string is uppercased.\n",
    "\n",
    "- Input : test_str = apples\n",
    "- Output : appLES\n",
    "- Explanation : Latter half of string is uppercased."
   ]
  },
  {
   "cell_type": "code",
   "execution_count": 30,
   "id": "f19f409b-f869-451d-90f8-1b2985a0e38f",
   "metadata": {},
   "outputs": [],
   "source": [
    "s = \"dino\""
   ]
  },
  {
   "cell_type": "code",
   "execution_count": 31,
   "id": "a1812f82-9909-4786-99f7-00a73098e364",
   "metadata": {},
   "outputs": [
    {
     "data": {
      "text/plain": [
       "'diNO'"
      ]
     },
     "execution_count": 31,
     "metadata": {},
     "output_type": "execute_result"
    }
   ],
   "source": [
    "s1=\"di\"\n",
    "s2=\"NO\"\n",
    "s1+s2"
   ]
  },
  {
   "cell_type": "code",
   "execution_count": 32,
   "id": "82a6f70a-9697-4dea-b098-0a92ce47cfa7",
   "metadata": {},
   "outputs": [
    {
     "data": {
      "text/plain": [
       "2.0"
      ]
     },
     "execution_count": 32,
     "metadata": {},
     "output_type": "execute_result"
    }
   ],
   "source": [
    "len(s)/2"
   ]
  },
  {
   "cell_type": "code",
   "execution_count": 34,
   "id": "5c45bc38-bb90-466c-bb5e-0e2eda3290b3",
   "metadata": {},
   "outputs": [
    {
     "data": {
      "text/plain": [
       "'di'"
      ]
     },
     "execution_count": 34,
     "metadata": {},
     "output_type": "execute_result"
    }
   ],
   "source": [
    "mid_pt = int(len(s)/2)\n",
    "s[0:mid_pt]"
   ]
  },
  {
   "cell_type": "code",
   "execution_count": 38,
   "id": "894b8055-3f7d-4d71-8e6f-696eb51e6345",
   "metadata": {},
   "outputs": [
    {
     "data": {
      "text/plain": [
       "'NO'"
      ]
     },
     "execution_count": 38,
     "metadata": {},
     "output_type": "execute_result"
    }
   ],
   "source": [
    "s[mid_pt:].upper()"
   ]
  },
  {
   "cell_type": "code",
   "execution_count": 39,
   "id": "2696dbfb-2685-4e22-aa18-b97cda128251",
   "metadata": {},
   "outputs": [
    {
     "data": {
      "text/plain": [
       "'diNO'"
      ]
     },
     "execution_count": 39,
     "metadata": {},
     "output_type": "execute_result"
    }
   ],
   "source": [
    "s[0:mid_pt]+s[mid_pt:].upper()"
   ]
  },
  {
   "cell_type": "code",
   "execution_count": 43,
   "id": "d8c9cc49-d50c-414a-a678-f970f71a51ef",
   "metadata": {},
   "outputs": [
    {
     "data": {
      "text/plain": [
       "'diNO'"
      ]
     },
     "execution_count": 43,
     "metadata": {},
     "output_type": "execute_result"
    }
   ],
   "source": [
    "new_string = \"\"\n",
    "count = 0\n",
    "mid_pt = len(s)/2\n",
    "for i in s:\n",
    "    if count<mid_pt:\n",
    "        new_string = new_string+i.lower()\n",
    "    else:\n",
    "        new_string = new_string+i.upper()\n",
    "    count = count+1\n",
    "new_string"
   ]
  },
  {
   "cell_type": "markdown",
   "id": "6d27d300-399f-4619-8c14-3b115d85bad3",
   "metadata": {},
   "source": [
    "### Class Excercise [source](https://www.geeksforgeeks.org/python-program-to-check-if-a-string-has-at-least-one-letter-and-one-number/) (Try to solve on your own)\n",
    "\n",
    "- Input: welcome2ourcountry34\n",
    "- Output: True\n",
    "\n",
    "- Input: stringwithoutnum\n",
    "- Output: False\n",
    "\n",
    "- Hints: Look at the output of dir() for any string object and find out the methods which can help in finding which element is a string and which is a number\n",
    "\n"
   ]
  },
  {
   "cell_type": "code",
   "execution_count": 44,
   "id": "3cdf1280-c831-466f-8142-1af9251c19f4",
   "metadata": {},
   "outputs": [],
   "source": [
    "o1 = \"welcome2ourcountry34\""
   ]
  },
  {
   "cell_type": "code",
   "execution_count": 45,
   "id": "3354ec01-8aff-4030-b819-16ec1a1ff90b",
   "metadata": {},
   "outputs": [
    {
     "data": {
      "text/plain": [
       "False"
      ]
     },
     "execution_count": 45,
     "metadata": {},
     "output_type": "execute_result"
    }
   ],
   "source": [
    "o1.isdigit()"
   ]
  },
  {
   "cell_type": "code",
   "execution_count": 48,
   "id": "060d1ed4-f81f-41ac-bc64-38c8f6c9b4ab",
   "metadata": {},
   "outputs": [
    {
     "data": {
      "text/plain": [
       "False"
      ]
     },
     "execution_count": 48,
     "metadata": {},
     "output_type": "execute_result"
    }
   ],
   "source": [
    "\"24on\".isdigit()"
   ]
  },
  {
   "cell_type": "code",
   "execution_count": 49,
   "id": "2c3aee77-7292-4b0b-a9e1-faba4c1ae34f",
   "metadata": {},
   "outputs": [
    {
     "name": "stdout",
     "output_type": "stream",
     "text": [
      "True\n"
     ]
    }
   ],
   "source": [
    "flag = False\n",
    "for i in o1:\n",
    "    if i.isdigit():\n",
    "        flag=True\n",
    "        break\n",
    "print(flag)"
   ]
  },
  {
   "cell_type": "code",
   "execution_count": 50,
   "id": "a8c535df-d3da-40a1-b66d-44d267fc8fe0",
   "metadata": {},
   "outputs": [],
   "source": [
    "### f(s)->True/False\n",
    "def check_number_present(s):\n",
    "    flag = False\n",
    "    for i in s:\n",
    "        if i.isdigit():\n",
    "            flag=True\n",
    "            break\n",
    "    return flag"
   ]
  },
  {
   "cell_type": "code",
   "execution_count": 52,
   "id": "2c39375b-67f1-4f2c-bbf8-b9eff23c4ba5",
   "metadata": {},
   "outputs": [
    {
     "data": {
      "text/plain": [
       "False"
      ]
     },
     "execution_count": 52,
     "metadata": {},
     "output_type": "execute_result"
    }
   ],
   "source": [
    "check_number_present(\"stringwithoutnum\")"
   ]
  },
  {
   "cell_type": "code",
   "execution_count": 56,
   "id": "2eae6d8e-9882-46df-8767-3d59560fbf91",
   "metadata": {},
   "outputs": [],
   "source": [
    "## Put the logic of previous excercise in a function\n",
    "\n",
    "def case_change(s):\n",
    "    midpt = int(len(s)/2)\n",
    "    s_new = s[0:midpt].lower()+s[midpt:].upper()\n",
    "    return s_new"
   ]
  },
  {
   "cell_type": "code",
   "execution_count": 57,
   "id": "539ca1f6-22e3-4820-a116-04fc459df696",
   "metadata": {},
   "outputs": [
    {
     "data": {
      "text/plain": [
       "'diNO'"
      ]
     },
     "execution_count": 57,
     "metadata": {},
     "output_type": "execute_result"
    }
   ],
   "source": [
    "case_change(\"dino\")"
   ]
  },
  {
   "cell_type": "code",
   "execution_count": 58,
   "id": "379d1950-67f1-4f88-af63-851012a28aa7",
   "metadata": {},
   "outputs": [
    {
     "data": {
      "text/plain": [
       "'appLES'"
      ]
     },
     "execution_count": 58,
     "metadata": {},
     "output_type": "execute_result"
    }
   ],
   "source": [
    "case_change(\"apples\")"
   ]
  },
  {
   "cell_type": "code",
   "execution_count": 59,
   "id": "c50fe980-9003-44ae-84b1-e929295e7544",
   "metadata": {},
   "outputs": [],
   "source": [
    "from utils import case_change,check_number_present"
   ]
  },
  {
   "cell_type": "code",
   "execution_count": 60,
   "id": "333d0408-14be-44b4-acaa-be53a81e9a8f",
   "metadata": {},
   "outputs": [
    {
     "data": {
      "text/plain": [
       "'liON'"
      ]
     },
     "execution_count": 60,
     "metadata": {},
     "output_type": "execute_result"
    }
   ],
   "source": [
    "case_change(\"lion\")"
   ]
  },
  {
   "cell_type": "markdown",
   "id": "007b47c3-5a5f-4180-a9dc-101fc4125260",
   "metadata": {},
   "source": [
    "### List\n",
    "- General buckets\n",
    "- Store any kind of data\n",
    "- Iterables\n",
    "- Mutable"
   ]
  },
  {
   "cell_type": "code",
   "execution_count": 61,
   "id": "416b966b-4c47-42fd-9128-1a511c0ebd8c",
   "metadata": {},
   "outputs": [
    {
     "data": {
      "text/plain": [
       "'2342'"
      ]
     },
     "execution_count": 61,
     "metadata": {},
     "output_type": "execute_result"
    }
   ],
   "source": [
    "\"23\"+\"42\""
   ]
  },
  {
   "cell_type": "code",
   "execution_count": 62,
   "id": "986e0adc-7c4e-4a32-9951-e437e6bc87c9",
   "metadata": {},
   "outputs": [],
   "source": [
    "l1 = [1,2,3,4,'a','b','c',[45,'g']]"
   ]
  },
  {
   "cell_type": "code",
   "execution_count": 63,
   "id": "77ea5a16-fc90-4641-8343-1ce8b9931055",
   "metadata": {},
   "outputs": [
    {
     "data": {
      "text/plain": [
       "1"
      ]
     },
     "execution_count": 63,
     "metadata": {},
     "output_type": "execute_result"
    }
   ],
   "source": [
    "l1[0]"
   ]
  },
  {
   "cell_type": "code",
   "execution_count": 64,
   "id": "997a90d2-6715-4b7a-abb0-62a3fdeae1ef",
   "metadata": {},
   "outputs": [
    {
     "data": {
      "text/plain": [
       "[45, 'g']"
      ]
     },
     "execution_count": 64,
     "metadata": {},
     "output_type": "execute_result"
    }
   ],
   "source": [
    "l1[-1]"
   ]
  },
  {
   "cell_type": "code",
   "execution_count": 66,
   "id": "88c38547-2153-40f9-bf53-fa4f1dbc44e8",
   "metadata": {},
   "outputs": [
    {
     "data": {
      "text/plain": [
       "'g'"
      ]
     },
     "execution_count": 66,
     "metadata": {},
     "output_type": "execute_result"
    }
   ],
   "source": [
    "l1[-1][-1]"
   ]
  },
  {
   "cell_type": "code",
   "execution_count": 68,
   "id": "a4f77f4c-f5e4-415c-ac67-e87482fe25c6",
   "metadata": {},
   "outputs": [
    {
     "data": {
      "text/plain": [
       "'g'"
      ]
     },
     "execution_count": 68,
     "metadata": {},
     "output_type": "execute_result"
    }
   ],
   "source": [
    "l1[7][1]"
   ]
  },
  {
   "cell_type": "code",
   "execution_count": 69,
   "id": "14566682-f7b2-4bd1-98f6-7eb3c235b9f2",
   "metadata": {},
   "outputs": [
    {
     "name": "stdout",
     "output_type": "stream",
     "text": [
      "1\n",
      "2\n",
      "3\n",
      "4\n",
      "a\n",
      "b\n",
      "c\n",
      "[45, 'g']\n"
     ]
    }
   ],
   "source": [
    "for i in l1:\n",
    "    print(i)"
   ]
  },
  {
   "cell_type": "code",
   "execution_count": 70,
   "id": "bf38502e-3c66-4e22-a02d-fcc3414820bf",
   "metadata": {},
   "outputs": [
    {
     "data": {
      "text/plain": [
       "[1, 2, 3, 4, 'a', 'b', 'c', [45, 'g']]"
      ]
     },
     "execution_count": 70,
     "metadata": {},
     "output_type": "execute_result"
    }
   ],
   "source": [
    "l1"
   ]
  },
  {
   "cell_type": "code",
   "execution_count": 71,
   "id": "d5b23ed2-f53f-4efb-8d6b-1df616816ecf",
   "metadata": {},
   "outputs": [],
   "source": [
    "l1[0]='sun'"
   ]
  },
  {
   "cell_type": "code",
   "execution_count": 72,
   "id": "832703d5-5dd4-4608-b1a8-284308c7d6bd",
   "metadata": {},
   "outputs": [
    {
     "data": {
      "text/plain": [
       "['sun', 2, 3, 4, 'a', 'b', 'c', [45, 'g']]"
      ]
     },
     "execution_count": 72,
     "metadata": {},
     "output_type": "execute_result"
    }
   ],
   "source": [
    "l1"
   ]
  },
  {
   "cell_type": "code",
   "execution_count": 73,
   "id": "a00de2e0-fa41-46af-bd2e-28bc6f5757ed",
   "metadata": {},
   "outputs": [
    {
     "name": "stdout",
     "output_type": "stream",
     "text": [
      "['__add__', '__class__', '__class_getitem__', '__contains__', '__delattr__', '__delitem__', '__dir__', '__doc__', '__eq__', '__format__', '__ge__', '__getattribute__', '__getitem__', '__gt__', '__hash__', '__iadd__', '__imul__', '__init__', '__init_subclass__', '__iter__', '__le__', '__len__', '__lt__', '__mul__', '__ne__', '__new__', '__reduce__', '__reduce_ex__', '__repr__', '__reversed__', '__rmul__', '__setattr__', '__setitem__', '__sizeof__', '__str__', '__subclasshook__', 'append', 'clear', 'copy', 'count', 'extend', 'index', 'insert', 'pop', 'remove', 'reverse', 'sort']\n"
     ]
    }
   ],
   "source": [
    "print(dir(l1))"
   ]
  },
  {
   "cell_type": "code",
   "execution_count": 74,
   "id": "a28c43ca-eda8-45f1-b419-572f0409b586",
   "metadata": {},
   "outputs": [],
   "source": [
    "l2 = [45,89,-2,65,13]"
   ]
  },
  {
   "cell_type": "code",
   "execution_count": 75,
   "id": "c1179fc4-72d4-4946-8ca9-f1197e7339d0",
   "metadata": {},
   "outputs": [],
   "source": [
    "l2.sort()"
   ]
  },
  {
   "cell_type": "code",
   "execution_count": 76,
   "id": "444bdeb9-6a58-4675-934b-8e06c25ef112",
   "metadata": {},
   "outputs": [
    {
     "data": {
      "text/plain": [
       "[-2, 13, 45, 65, 89]"
      ]
     },
     "execution_count": 76,
     "metadata": {},
     "output_type": "execute_result"
    }
   ],
   "source": [
    "l2"
   ]
  },
  {
   "cell_type": "code",
   "execution_count": 77,
   "id": "c1b91eee-bcb7-4719-951a-1661f9a91a95",
   "metadata": {},
   "outputs": [],
   "source": [
    "l2.reverse()"
   ]
  },
  {
   "cell_type": "code",
   "execution_count": 78,
   "id": "0491f650-e48a-46f7-9301-8de3d82e0e56",
   "metadata": {},
   "outputs": [
    {
     "data": {
      "text/plain": [
       "[89, 65, 45, 13, -2]"
      ]
     },
     "execution_count": 78,
     "metadata": {},
     "output_type": "execute_result"
    }
   ],
   "source": [
    "l2"
   ]
  },
  {
   "cell_type": "code",
   "execution_count": 79,
   "id": "fd3b0b9a-07e9-429f-8a78-d6a94f6e843d",
   "metadata": {},
   "outputs": [],
   "source": [
    "l3 = []"
   ]
  },
  {
   "cell_type": "code",
   "execution_count": 80,
   "id": "22224d3a-90f7-4eef-b0e1-b1b91e0f86d8",
   "metadata": {},
   "outputs": [
    {
     "data": {
      "text/plain": [
       "[]"
      ]
     },
     "execution_count": 80,
     "metadata": {},
     "output_type": "execute_result"
    }
   ],
   "source": [
    "l3"
   ]
  },
  {
   "cell_type": "code",
   "execution_count": 81,
   "id": "46d1eab8-c5ea-47c7-aeba-e6ee595438b6",
   "metadata": {},
   "outputs": [],
   "source": [
    "l3.append(1)"
   ]
  },
  {
   "cell_type": "code",
   "execution_count": 82,
   "id": "6d685dda-c317-41de-bd57-015078297738",
   "metadata": {},
   "outputs": [
    {
     "data": {
      "text/plain": [
       "[1]"
      ]
     },
     "execution_count": 82,
     "metadata": {},
     "output_type": "execute_result"
    }
   ],
   "source": [
    "l3"
   ]
  },
  {
   "cell_type": "code",
   "execution_count": 83,
   "id": "a19cf0c2-391e-482b-a0f3-00c9b164d22b",
   "metadata": {},
   "outputs": [],
   "source": [
    "l3.append(\"sun\")"
   ]
  },
  {
   "cell_type": "code",
   "execution_count": 84,
   "id": "27f06237-7b41-41eb-8515-761d47aa7d57",
   "metadata": {},
   "outputs": [
    {
     "data": {
      "text/plain": [
       "[1, 'sun']"
      ]
     },
     "execution_count": 84,
     "metadata": {},
     "output_type": "execute_result"
    }
   ],
   "source": [
    "l3"
   ]
  },
  {
   "cell_type": "markdown",
   "id": "dda2543a-8650-4a93-8a56-5901f69d11e2",
   "metadata": {},
   "source": [
    "### Class Discussion"
   ]
  },
  {
   "cell_type": "code",
   "execution_count": 85,
   "id": "522d52e0-0022-41aa-ab7e-8aaefbfc137e",
   "metadata": {},
   "outputs": [],
   "source": [
    "amazon_review = '''\n",
    "What can I say!\n",
    "SIMPLY SPECTACULAR.\n",
    "PUBG - smooth +90 FPS\n",
    "Smashing all the bench marks by some margin (140%~~)\n",
    "4 SPEAKERS are like home theatre.\n",
    "Battery backup is excellent\n",
    "Could have been better than 20 wts charger\n",
    "\n",
    "I will keep u guys posted...stay tuned\n",
    "\n",
    "'''"
   ]
  },
  {
   "cell_type": "code",
   "execution_count": 86,
   "id": "078d6d09-425d-4221-ab1a-df93fe83879b",
   "metadata": {},
   "outputs": [],
   "source": [
    "### Count how many sentences I have?\n",
    "a = \"This|is|a|string\""
   ]
  },
  {
   "cell_type": "code",
   "execution_count": 87,
   "id": "5b316a3f-e42b-4710-aa6f-c13735849472",
   "metadata": {},
   "outputs": [
    {
     "name": "stdout",
     "output_type": "stream",
     "text": [
      "['__add__', '__class__', '__contains__', '__delattr__', '__dir__', '__doc__', '__eq__', '__format__', '__ge__', '__getattribute__', '__getitem__', '__getnewargs__', '__gt__', '__hash__', '__init__', '__init_subclass__', '__iter__', '__le__', '__len__', '__lt__', '__mod__', '__mul__', '__ne__', '__new__', '__reduce__', '__reduce_ex__', '__repr__', '__rmod__', '__rmul__', '__setattr__', '__sizeof__', '__str__', '__subclasshook__', 'capitalize', 'casefold', 'center', 'count', 'encode', 'endswith', 'expandtabs', 'find', 'format', 'format_map', 'index', 'isalnum', 'isalpha', 'isascii', 'isdecimal', 'isdigit', 'isidentifier', 'islower', 'isnumeric', 'isprintable', 'isspace', 'istitle', 'isupper', 'join', 'ljust', 'lower', 'lstrip', 'maketrans', 'partition', 'removeprefix', 'removesuffix', 'replace', 'rfind', 'rindex', 'rjust', 'rpartition', 'rsplit', 'rstrip', 'split', 'splitlines', 'startswith', 'strip', 'swapcase', 'title', 'translate', 'upper', 'zfill']\n"
     ]
    }
   ],
   "source": [
    "print(dir(a))"
   ]
  },
  {
   "cell_type": "code",
   "execution_count": 89,
   "id": "a5f4c607-6f61-4ec6-bbb9-1a40affc525e",
   "metadata": {},
   "outputs": [
    {
     "data": {
      "text/plain": [
       "['This', 'is', 'a', 'string']"
      ]
     },
     "execution_count": 89,
     "metadata": {},
     "output_type": "execute_result"
    }
   ],
   "source": [
    "a.split(\"|\")"
   ]
  },
  {
   "cell_type": "code",
   "execution_count": 90,
   "id": "c81ab5e6-402c-424f-9bae-79b307807499",
   "metadata": {},
   "outputs": [
    {
     "data": {
      "text/plain": [
       "['',\n",
       " 'What can I say!',\n",
       " 'SIMPLY SPECTACULAR.',\n",
       " 'PUBG - smooth +90 FPS',\n",
       " 'Smashing all the bench marks by some margin (140%~~)',\n",
       " '4 SPEAKERS are like home theatre.',\n",
       " 'Battery backup is excellent',\n",
       " 'Could have been better than 20 wts charger',\n",
       " '',\n",
       " 'I will keep u guys posted...stay tuned',\n",
       " '',\n",
       " '']"
      ]
     },
     "execution_count": 90,
     "metadata": {},
     "output_type": "execute_result"
    }
   ],
   "source": [
    "amazon_review.split(\"\\n\")"
   ]
  },
  {
   "cell_type": "code",
   "execution_count": 92,
   "id": "d8f1f073-a2ab-4d50-9ca9-8646a8515b5a",
   "metadata": {},
   "outputs": [
    {
     "name": "stdout",
     "output_type": "stream",
     "text": [
      "8\n"
     ]
    }
   ],
   "source": [
    "count = 0\n",
    "for i in amazon_review.split(\"\\n\"):\n",
    "    if i!=\"\":\n",
    "        count = count+1\n",
    "print(count)"
   ]
  },
  {
   "cell_type": "code",
   "execution_count": 93,
   "id": "546aadfa-7c79-4691-8ebf-eab435f66373",
   "metadata": {},
   "outputs": [
    {
     "name": "stdout",
     "output_type": "stream",
     "text": [
      "['What can I say!', 'SIMPLY SPECTACULAR.', 'PUBG - smooth +90 FPS', 'Smashing all the bench marks by some margin (140%~~)', '4 SPEAKERS are like home theatre.', 'Battery backup is excellent', 'Could have been better than 20 wts charger', 'I will keep u guys posted...stay tuned']\n"
     ]
    }
   ],
   "source": [
    "### list which only contains the non-empty sentences?\n",
    "new_list = []\n",
    "for i in amazon_review.split(\"\\n\"):\n",
    "    if i!=\"\":\n",
    "        new_list.append(i)\n",
    "print(new_list)"
   ]
  },
  {
   "cell_type": "code",
   "execution_count": 95,
   "id": "d1ee5c64-00ac-4e34-a17a-452be76625d8",
   "metadata": {},
   "outputs": [
    {
     "data": {
      "text/plain": [
       "4"
      ]
     },
     "execution_count": 95,
     "metadata": {},
     "output_type": "execute_result"
    }
   ],
   "source": [
    "## Count total number of words in the reviews\n",
    "len(\"What can I say!\".split())"
   ]
  },
  {
   "cell_type": "code",
   "execution_count": 96,
   "id": "722cf4ed-e3e0-4ee5-9529-d6d13cf80bc2",
   "metadata": {},
   "outputs": [],
   "source": [
    "count = 0\n",
    "for sent in new_list:\n",
    "    count = count + len(sent.split())"
   ]
  },
  {
   "cell_type": "code",
   "execution_count": 97,
   "id": "2d89dd32-3e57-4d64-b2f8-4f28be9eab5a",
   "metadata": {},
   "outputs": [
    {
     "data": {
      "text/plain": [
       "45"
      ]
     },
     "execution_count": 97,
     "metadata": {},
     "output_type": "execute_result"
    }
   ],
   "source": [
    "count"
   ]
  },
  {
   "cell_type": "code",
   "execution_count": 99,
   "id": "f8f18e53-be77-4efe-983c-b8df0fe8454e",
   "metadata": {},
   "outputs": [
    {
     "data": {
      "text/plain": [
       "45"
      ]
     },
     "execution_count": 99,
     "metadata": {},
     "output_type": "execute_result"
    }
   ],
   "source": [
    "len(amazon_review.split())"
   ]
  },
  {
   "cell_type": "markdown",
   "id": "6d0cc42e-c598-48bb-9cd6-79bd0732405d",
   "metadata": {},
   "source": [
    "### Class Excercise"
   ]
  },
  {
   "cell_type": "code",
   "execution_count": 100,
   "id": "11e07eda-20b8-4b04-8708-14d583e470b0",
   "metadata": {},
   "outputs": [],
   "source": [
    "dinkar = '''\n",
    "वर्षों तक वन में घूम-घूम,\n",
    "बाधा-विघ्नों को चूम-चूम,\n",
    "सह धूप-घाम, पानी-पत्थर,\n",
    "पांडव आये कुछ और निखर।\n",
    "सौभाग्य न सब दिन सोता है,\n",
    "देखें, आगे क्या होता है।\n",
    "\n",
    "मैत्री की राह बताने को,\n",
    "सबको सुमार्ग पर लाने को,\n",
    "दुर्योधन को समझाने को,\n",
    "भीषण विध्वंस बचाने को,\n",
    "भगवान् हस्तिनापुर आये,\n",
    "पांडव का संदेशा लाये।\n",
    "\n",
    "‘दो न्याय अगर तो आधा दो,\n",
    "पर, इसमें भी यदि बाधा हो,\n",
    "तो दे दो केवल पाँच ग्राम,\n",
    "रक्खो अपनी धरती तमाम।\n",
    "हम वहीं खुशी से खायेंगे,\n",
    "परिजन पर असि न उठायेंगे!\n",
    "\n",
    "दुर्योधन वह भी दे ना सका,\n",
    "आशीष समाज की ले न सका,\n",
    "उलटे, हरि को बाँधने चला,\n",
    "जो था असाध्य, साधने चला।\n",
    "जब नाश मनुज पर छाता है,\n",
    "पहले विवेक मर जाता है।\n",
    "\n",
    "हरि ने भीषण हुंकार किया,\n",
    "अपना स्वरूप-विस्तार किया,\n",
    "डगमग-डगमग दिग्गज डोले,\n",
    "भगवान् कुपित होकर बोले-\n",
    "‘जंजीर बढ़ा कर साध मुझे,\n",
    "हाँ, हाँ दुर्योधन! बाँध मुझे।\n",
    "\n",
    "यह देख, गगन मुझमें लय है,\n",
    "यह देख, पवन मुझमें लय है,\n",
    "मुझमें विलीन झंकार सकल,\n",
    "मुझमें लय है संसार सकल।\n",
    "अमरत्व फूलता है मुझमें,\n",
    "संहार झूलता है मुझमें।\n",
    "'''"
   ]
  },
  {
   "cell_type": "markdown",
   "id": "1590839d-36a3-4c19-bbed-6c9f67c41434",
   "metadata": {},
   "source": [
    "1. Find out how many paragraphs are there\n",
    "2. Count number of words in each paragraphs"
   ]
  },
  {
   "cell_type": "code",
   "execution_count": 103,
   "id": "65642175-b9fa-4416-b2a1-8504f8b8c208",
   "metadata": {},
   "outputs": [
    {
     "data": {
      "text/plain": [
       "6"
      ]
     },
     "execution_count": 103,
     "metadata": {},
     "output_type": "execute_result"
    }
   ],
   "source": [
    "len(dinkar.split(\"\\n\\n\"))"
   ]
  },
  {
   "cell_type": "code",
   "execution_count": 108,
   "id": "e05593e4-cd71-4d63-a57e-e57854f5c8ba",
   "metadata": {},
   "outputs": [
    {
     "name": "stdout",
     "output_type": "stream",
     "text": [
      "27\n",
      "....\n",
      "25\n",
      "....\n",
      "32\n",
      "....\n",
      "33\n",
      "....\n",
      "25\n",
      "....\n",
      "29\n",
      "....\n"
     ]
    }
   ],
   "source": [
    "num_words=[]\n",
    "for para in dinkar.split(\"\\n\\n\"):\n",
    "    num_words.append(len(para.split()))\n",
    "    print(len(para.split()))\n",
    "    print(\"....\")"
   ]
  },
  {
   "cell_type": "code",
   "execution_count": 109,
   "id": "7d7c445f-a4a5-4ace-b261-3353563ac9a4",
   "metadata": {},
   "outputs": [
    {
     "data": {
      "text/plain": [
       "[27, 25, 32, 33, 25, 29]"
      ]
     },
     "execution_count": 109,
     "metadata": {},
     "output_type": "execute_result"
    }
   ],
   "source": [
    "num_words"
   ]
  },
  {
   "cell_type": "markdown",
   "id": "0f86ee90-8ede-4173-bba0-462219d57a0f",
   "metadata": {},
   "source": [
    "### Class Problem"
   ]
  },
  {
   "cell_type": "code",
   "execution_count": 110,
   "id": "0b3b23fc-74e7-4f61-aa9b-674f3f87224d",
   "metadata": {},
   "outputs": [],
   "source": [
    "job_description1 = '''We are a dominant engineering firm that boasts many leading clients. We are determined to stand apart from the competition.'''\n",
    "job_description2 = '''We are a community of engineers who have effective relationships with many satisfied clients. We are committed to understanding the engineer sector intimately. '''\n",
    "job_description3 = '''Strong communication and influencing skills. Ability to perform individually in a competitive environment. Superior ability to satisfy customers and manage company’s association with them.'''\n",
    "job_description4 = '''Proficient oral and written communications skills. Collaborates well in a team environment. Sensitive to clients’ needs, can develop warm client relationships.'''\n",
    "job_description5 = '''Direct project groups to manage project progress and ensure accurate task control. Determine compliance with client’s objectives.'''\n",
    "job_description6 = '''Provide general support to project team in a manner complimentary to the company. Help clients with construction activities.'''"
   ]
  },
  {
   "cell_type": "markdown",
   "id": "f7723e9a-fc7f-4054-81c6-c34254734e6f",
   "metadata": {},
   "source": [
    "```python\n",
    "get_sentences(): take a jd and produce a list of sentences\n",
    "get_words(): take a sentence and produce a list of words\n",
    "```"
   ]
  },
  {
   "cell_type": "code",
   "execution_count": 138,
   "id": "c831ab52-b816-4017-8732-02afa3104f69",
   "metadata": {},
   "outputs": [],
   "source": [
    "new_data = []\n",
    "for sent in job_description1.strip().split(\".\"):\n",
    "    if sent!=\"\":\n",
    "        new_data.append(sent.strip())"
   ]
  },
  {
   "cell_type": "code",
   "execution_count": 168,
   "id": "7a8ffa06-8c51-4b43-bd3d-abbb6863efea",
   "metadata": {},
   "outputs": [
    {
     "data": {
      "text/plain": [
       "['We are a community of engineers who have effective relationships with many satisfied clients',\n",
       " ' We are committed to understanding the engineer sector intimately',\n",
       " ' ']"
      ]
     },
     "execution_count": 168,
     "metadata": {},
     "output_type": "execute_result"
    }
   ],
   "source": [
    "job_description2.split(\".\")"
   ]
  },
  {
   "cell_type": "code",
   "execution_count": 166,
   "id": "25594499-d8e3-44e4-abb2-296acc043406",
   "metadata": {},
   "outputs": [
    {
     "name": "stdout",
     "output_type": "stream",
     "text": [
      "['__add__', '__class__', '__class_getitem__', '__contains__', '__delattr__', '__delitem__', '__dir__', '__doc__', '__eq__', '__format__', '__ge__', '__getattribute__', '__getitem__', '__gt__', '__hash__', '__iadd__', '__imul__', '__init__', '__init_subclass__', '__iter__', '__le__', '__len__', '__lt__', '__mul__', '__ne__', '__new__', '__reduce__', '__reduce_ex__', '__repr__', '__reversed__', '__rmul__', '__setattr__', '__setitem__', '__sizeof__', '__str__', '__subclasshook__', 'append', 'clear', 'copy', 'count', 'extend', 'index', 'insert', 'pop', 'remove', 'reverse', 'sort']\n"
     ]
    }
   ],
   "source": [
    "print(dir([]))"
   ]
  },
  {
   "cell_type": "code",
   "execution_count": 152,
   "id": "fa204f16-7a7c-449a-b03a-93a188491d71",
   "metadata": {},
   "outputs": [
    {
     "data": {
      "text/plain": [
       "['We are a community of engineers who have effective relationships with many satisfied clients',\n",
       " ' We are committed to understanding the engineer sector intimately',\n",
       " ' ']"
      ]
     },
     "execution_count": 152,
     "metadata": {},
     "output_type": "execute_result"
    }
   ],
   "source": [
    "job_description2.split(\".\")"
   ]
  },
  {
   "cell_type": "code",
   "execution_count": 153,
   "id": "5c4f1cae-b2d2-4a77-9f20-cb6a707493aa",
   "metadata": {},
   "outputs": [
    {
     "data": {
      "text/plain": [
       "['We are a community of engineers who have effective relationships with many satisfied clients',\n",
       " ' We are committed to understanding the engineer sector intimately',\n",
       " '']"
      ]
     },
     "execution_count": 153,
     "metadata": {},
     "output_type": "execute_result"
    }
   ],
   "source": [
    "job_description2.strip().split(\".\")"
   ]
  },
  {
   "cell_type": "code",
   "execution_count": 156,
   "id": "47ae899c-f2b9-4a9f-9b26-b7e20e5610f9",
   "metadata": {},
   "outputs": [
    {
     "data": {
      "text/plain": [
       "'We are a community of engineers who have effective relationships with many satisfied clients. We are committed to understanding the engineer sector intimately. '"
      ]
     },
     "execution_count": 156,
     "metadata": {},
     "output_type": "execute_result"
    }
   ],
   "source": [
    "job_description2"
   ]
  },
  {
   "cell_type": "code",
   "execution_count": 139,
   "id": "9bdce7a2-80cc-4179-8323-ea0cd1167e13",
   "metadata": {},
   "outputs": [
    {
     "data": {
      "text/plain": [
       "['We are a dominant engineering firm that boasts many leading clients',\n",
       " 'We are determined to stand apart from the competition']"
      ]
     },
     "execution_count": 139,
     "metadata": {},
     "output_type": "execute_result"
    }
   ],
   "source": [
    "new_data"
   ]
  },
  {
   "cell_type": "code",
   "execution_count": 140,
   "id": "17668a45-8000-45ae-a3b2-14e7d4449c54",
   "metadata": {},
   "outputs": [],
   "source": [
    "def get_sentences(jd):\n",
    "    new_data = []\n",
    "    for sent in jd.strip().split(\".\"):\n",
    "        if sent!=\"\":\n",
    "            new_data.append(sent.strip())\n",
    "    return new_data"
   ]
  },
  {
   "cell_type": "code",
   "execution_count": 142,
   "id": "c04fff0c-99ec-4154-8d2a-96defe6eeaa0",
   "metadata": {},
   "outputs": [
    {
     "data": {
      "text/plain": [
       "['Provide general support to project team in a manner complimentary to the company',\n",
       " 'Help clients with construction activities']"
      ]
     },
     "execution_count": 142,
     "metadata": {},
     "output_type": "execute_result"
    }
   ],
   "source": [
    "get_sentences(job_description6)"
   ]
  },
  {
   "cell_type": "code",
   "execution_count": 143,
   "id": "75bac43f-3190-4af6-8baa-4d094334a60b",
   "metadata": {},
   "outputs": [],
   "source": [
    "def get_words(sent):\n",
    "    return sent.split()"
   ]
  },
  {
   "cell_type": "code",
   "execution_count": 144,
   "id": "c02622f4-8093-4a30-9f4b-dd8f879c2c7b",
   "metadata": {},
   "outputs": [
    {
     "data": {
      "text/plain": [
       "['Provide',\n",
       " 'general',\n",
       " 'support',\n",
       " 'to',\n",
       " 'project',\n",
       " 'team',\n",
       " 'in',\n",
       " 'a',\n",
       " 'manner',\n",
       " 'complimentary',\n",
       " 'to',\n",
       " 'the',\n",
       " 'company']"
      ]
     },
     "execution_count": 144,
     "metadata": {},
     "output_type": "execute_result"
    }
   ],
   "source": [
    "get_words(\"Provide general support to project team in a manner complimentary to the company\")"
   ]
  },
  {
   "cell_type": "markdown",
   "id": "c97bb77c-6e26-41b4-bf33-e06d48bcc338",
   "metadata": {},
   "source": [
    "```python\n",
    "get_coded_words(list_coded_words, jd):\n",
    "    ...\n",
    "    ...\n",
    "    ...\n",
    "    return num_coded_words\n",
    "```"
   ]
  },
  {
   "cell_type": "markdown",
   "id": "49401a79-dbe4-44f7-b07c-d6ae2a2625b9",
   "metadata": {},
   "source": [
    "\"empathy\"\n",
    "\"empathetic\"  ==> begin with empath"
   ]
  },
  {
   "cell_type": "code",
   "execution_count": 146,
   "id": "ca4f17fb-5a74-4f75-b6ad-ade3bf3606cc",
   "metadata": {},
   "outputs": [
    {
     "name": "stdout",
     "output_type": "stream",
     "text": [
      "['__add__', '__class__', '__contains__', '__delattr__', '__dir__', '__doc__', '__eq__', '__format__', '__ge__', '__getattribute__', '__getitem__', '__getnewargs__', '__gt__', '__hash__', '__init__', '__init_subclass__', '__iter__', '__le__', '__len__', '__lt__', '__mod__', '__mul__', '__ne__', '__new__', '__reduce__', '__reduce_ex__', '__repr__', '__rmod__', '__rmul__', '__setattr__', '__sizeof__', '__str__', '__subclasshook__', 'capitalize', 'casefold', 'center', 'count', 'encode', 'endswith', 'expandtabs', 'find', 'format', 'format_map', 'index', 'isalnum', 'isalpha', 'isascii', 'isdecimal', 'isdigit', 'isidentifier', 'islower', 'isnumeric', 'isprintable', 'isspace', 'istitle', 'isupper', 'join', 'ljust', 'lower', 'lstrip', 'maketrans', 'partition', 'removeprefix', 'removesuffix', 'replace', 'rfind', 'rindex', 'rjust', 'rpartition', 'rsplit', 'rstrip', 'split', 'splitlines', 'startswith', 'strip', 'swapcase', 'title', 'translate', 'upper', 'zfill']\n"
     ]
    }
   ],
   "source": [
    "print(dir(\"empathetic\"))"
   ]
  },
  {
   "cell_type": "code",
   "execution_count": 147,
   "id": "9259f3e7-2d22-4d20-b7fe-dec9e4efae98",
   "metadata": {},
   "outputs": [],
   "source": [
    "s1 = \" This is a sentence with leading space and trailing space \""
   ]
  },
  {
   "cell_type": "code",
   "execution_count": 149,
   "id": "e428b85c-e603-412b-820f-21ccf5441c52",
   "metadata": {},
   "outputs": [
    {
     "data": {
      "text/plain": [
       "' This is a sentence with leading space and trailing space '"
      ]
     },
     "execution_count": 149,
     "metadata": {},
     "output_type": "execute_result"
    }
   ],
   "source": [
    "s1"
   ]
  },
  {
   "cell_type": "code",
   "execution_count": 148,
   "id": "3d2a2451-4e56-4fed-8e7a-ddb1097a284f",
   "metadata": {},
   "outputs": [
    {
     "data": {
      "text/plain": [
       "'This is a sentence with leading space and trailing space'"
      ]
     },
     "execution_count": 148,
     "metadata": {},
     "output_type": "execute_result"
    }
   ],
   "source": [
    "s1.strip()"
   ]
  },
  {
   "cell_type": "code",
   "execution_count": 157,
   "id": "c816910f-14b6-4e45-87dc-4259531a120a",
   "metadata": {},
   "outputs": [],
   "source": [
    "s2 = \" This is a very very ver long string. This is its second part \""
   ]
  },
  {
   "cell_type": "code",
   "execution_count": 158,
   "id": "613461e9-fba6-4211-a804-30699bda17a1",
   "metadata": {},
   "outputs": [
    {
     "data": {
      "text/plain": [
       "'This is a very very ver long string. This is its second part'"
      ]
     },
     "execution_count": 158,
     "metadata": {},
     "output_type": "execute_result"
    }
   ],
   "source": [
    "s2.strip()"
   ]
  },
  {
   "cell_type": "code",
   "execution_count": 169,
   "id": "e52e0f56-dd3c-49f6-a4f8-e5f537fe3fd7",
   "metadata": {},
   "outputs": [],
   "source": [
    "job_description1 = '''We are a dominant engineering firm that boasts many leading clients. We are determined to stand apart from the competition.'''\n",
    "job_description2 = '''We are a community of engineers who have effective relationships with many satisfied clients. We are committed to understanding the engineer sector intimately. '''\n",
    "job_description3 = '''Strong communication and influencing skills. Ability to perform individually in a competitive environment. Superior ability to satisfy customers and manage company’s association with them.'''\n",
    "job_description4 = '''Proficient oral and written communications skills. Collaborates well in a team environment. Sensitive to clients’ needs, can develop warm client relationships.'''\n",
    "job_description5 = '''Direct project groups to manage project progress and ensure accurate task control. Determine compliance with client’s objectives.'''\n",
    "job_description6 = '''Provide general support to project team in a manner complimentary to the company. Help clients with construction activities.'''"
   ]
  },
  {
   "cell_type": "code",
   "execution_count": 172,
   "id": "afee40b6-4b9d-4ed4-bdcf-32ed725ba846",
   "metadata": {},
   "outputs": [],
   "source": [
    "feminine_coded_words = [\n",
    "    \"agree\",\n",
    "    \"affectionate\",\n",
    "    \"child\",\n",
    "    \"cheer\",\n",
    "    \"collab\",\n",
    "    \"commit\",\n",
    "    \"communal\",\n",
    "    \"compassion\",\n",
    "    \"connect\",\n",
    "    \"considerate\",\n",
    "    \"cooperat\",\n",
    "    \"co-operat\",\n",
    "    \"depend\",\n",
    "    \"emotiona\",\n",
    "    \"empath\",\n",
    "    \"feel\",\n",
    "    \"flatterable\",\n",
    "    \"gentle\",\n",
    "    \"honest\",\n",
    "    \"interpersonal\",\n",
    "    \"interdependen\",\n",
    "    \"interpersona\",\n",
    "    \"inter-personal\",\n",
    "    \"inter-dependen\",\n",
    "    \"inter-persona\",\n",
    "    \"kind\",\n",
    "    \"kinship\",\n",
    "    \"loyal\",\n",
    "    \"modesty\",\n",
    "    \"nag\",\n",
    "    \"nurtur\",\n",
    "    \"pleasant\",\n",
    "    \"polite\",\n",
    "    \"quiet\",\n",
    "    \"respon\",\n",
    "    \"sensitiv\",\n",
    "    \"submissive\",\n",
    "    \"support\",\n",
    "    \"sympath\",\n",
    "    \"tender\",\n",
    "    \"together\",\n",
    "    \"trust\",\n",
    "    \"understand\",\n",
    "    \"warm\",\n",
    "    \"whin\",\n",
    "    \"enthusias\",\n",
    "    \"inclusive\",\n",
    "    \"yield\",\n",
    "    \"share\",\n",
    "    \"sharin\"\n",
    "]\n",
    "\n",
    "masculine_coded_words = [\n",
    "    \"active\",\n",
    "    \"adventurous\",\n",
    "    \"aggress\",\n",
    "    \"ambitio\",\n",
    "    \"analy\",\n",
    "    \"assert\",\n",
    "    \"athlet\",\n",
    "    \"autonom\",\n",
    "    \"battle\",\n",
    "    \"boast\",\n",
    "    \"challeng\",\n",
    "    \"champion\",\n",
    "    \"compet\",\n",
    "    \"confident\",\n",
    "    \"courag\",\n",
    "    \"decid\",\n",
    "    \"decision\",\n",
    "    \"decisive\",\n",
    "    \"defend\",\n",
    "    \"determin\",\n",
    "    \"domina\",\n",
    "    \"dominant\",\n",
    "    \"driven\",\n",
    "    \"fearless\",\n",
    "    \"fight\",\n",
    "    \"force\",\n",
    "    \"greedy\",\n",
    "    \"head-strong\",\n",
    "    \"headstrong\",\n",
    "    \"hierarch\",\n",
    "    \"hostil\",\n",
    "    \"impulsive\",\n",
    "    \"independen\",\n",
    "    \"individual\",\n",
    "    \"intellect\",\n",
    "    \"lead\",\n",
    "    \"logic\",\n",
    "    \"objective\",\n",
    "    \"opinion\",\n",
    "    \"outspoken\",\n",
    "    \"persist\",\n",
    "    \"principle\",\n",
    "    \"reckless\",\n",
    "    \"self-confiden\",\n",
    "    \"self-relian\",\n",
    "    \"self-sufficien\",\n",
    "    \"selfconfiden\",\n",
    "    \"selfrelian\",\n",
    "    \"selfsufficien\",\n",
    "    \"stubborn\",\n",
    "    \"superior\",\n",
    "    \"unreasonab\"\n",
    "]"
   ]
  },
  {
   "cell_type": "code",
   "execution_count": 170,
   "id": "bf6ec74c-9550-4901-8b6a-0a0ec6c85c64",
   "metadata": {},
   "outputs": [
    {
     "data": {
      "text/plain": [
       "['We are a dominant engineering firm that boasts many leading clients',\n",
       " 'We are determined to stand apart from the competition']"
      ]
     },
     "execution_count": 170,
     "metadata": {},
     "output_type": "execute_result"
    }
   ],
   "source": [
    "get_sentences(job_description1)"
   ]
  },
  {
   "cell_type": "code",
   "execution_count": 171,
   "id": "e45838f8-4f92-4c23-90d7-5ed7e4c75a67",
   "metadata": {},
   "outputs": [
    {
     "data": {
      "text/plain": [
       "['We',\n",
       " 'are',\n",
       " 'a',\n",
       " 'dominant',\n",
       " 'engineering',\n",
       " 'firm',\n",
       " 'that',\n",
       " 'boasts',\n",
       " 'many',\n",
       " 'leading',\n",
       " 'clients']"
      ]
     },
     "execution_count": 171,
     "metadata": {},
     "output_type": "execute_result"
    }
   ],
   "source": [
    "get_words('We are a dominant engineering firm that boasts many leading clients')"
   ]
  },
  {
   "cell_type": "code",
   "execution_count": 175,
   "id": "5d141c74-722b-47eb-baca-ea4ddf02843e",
   "metadata": {},
   "outputs": [],
   "source": [
    "def get_coded_words(coded_word_list,jd):\n",
    "    count = 0\n",
    "    words = []\n",
    "    sents = get_sentences(jd)\n",
    "    for sent in sents:\n",
    "        low = get_words(sent)\n",
    "        for w in low:\n",
    "            for cw in coded_word_list:\n",
    "                if w.lower().startswith(cw):\n",
    "                    count=count+1\n",
    "                    words.append(w.lower())\n",
    "    return [count,words]               "
   ]
  },
  {
   "cell_type": "code",
   "execution_count": 176,
   "id": "e6834fd6-ffc6-478a-b847-c0abbac1fa26",
   "metadata": {},
   "outputs": [
    {
     "data": {
      "text/plain": [
       "[6, ['dominant', 'dominant', 'boasts', 'leading', 'determined', 'competition']]"
      ]
     },
     "execution_count": 176,
     "metadata": {},
     "output_type": "execute_result"
    }
   ],
   "source": [
    "get_coded_words(masculine_coded_words,job_description1)"
   ]
  },
  {
   "cell_type": "code",
   "execution_count": 177,
   "id": "762df4fa-9e35-4b76-b428-6c91b405243f",
   "metadata": {},
   "outputs": [
    {
     "data": {
      "text/plain": [
       "'We are a dominant engineering firm that boasts many leading clients. We are determined to stand apart from the competition.'"
      ]
     },
     "execution_count": 177,
     "metadata": {},
     "output_type": "execute_result"
    }
   ],
   "source": [
    "job_description1"
   ]
  },
  {
   "cell_type": "markdown",
   "id": "1b501b3d-e2db-4ddb-8862-8ded1d737e53",
   "metadata": {},
   "source": [
    "## Class Excercise\n",
    "\n",
    "For this exercise, write a Python function (`pig_latin`) that takes a string as input, assumed to be an English word. The function should return the translation of this word into Pig Latin. You may assume that the word contains no capital letters or punctuation.\n",
    "\n",
    "The rules for translating words from English into Pig Latin are quite simple:\n",
    "\n",
    "- If the word begins with a vowel (a, e, i, o, or u), add “way” to the end of the word. So “air” becomes “airway” and “eat” becomes “eatway.”\n",
    "- If the word begins with any other letter, then we take the first letter, put it on the end of the word, and then add “ay.” Thus, “python” becomes “ythonpay” and “computer” becomes “omputercay.”"
   ]
  },
  {
   "cell_type": "code",
   "execution_count": 178,
   "id": "d2c5a301-1a68-4a42-a338-8fafa33c4e38",
   "metadata": {},
   "outputs": [],
   "source": [
    "w = \"air\"\n",
    "def pig_latin(w):\n",
    "    if w[0] in \"aieou\":\n",
    "        word = w+\"way\"\n",
    "    else:\n",
    "        word = w[1:]+w[0]+\"ay\"\n",
    "    return word"
   ]
  },
  {
   "cell_type": "code",
   "execution_count": 179,
   "id": "9aebd3ec-58ae-4a1c-a85e-67e46f02ca1c",
   "metadata": {},
   "outputs": [
    {
     "data": {
      "text/plain": [
       "'airway'"
      ]
     },
     "execution_count": 179,
     "metadata": {},
     "output_type": "execute_result"
    }
   ],
   "source": [
    "pig_latin(\"air\")"
   ]
  },
  {
   "cell_type": "code",
   "execution_count": 180,
   "id": "2435c8f0-c28f-463d-8a36-456740fd2b64",
   "metadata": {},
   "outputs": [
    {
     "data": {
      "text/plain": [
       "'ythonpay'"
      ]
     },
     "execution_count": 180,
     "metadata": {},
     "output_type": "execute_result"
    }
   ],
   "source": [
    "pig_latin(\"python\")"
   ]
  },
  {
   "cell_type": "code",
   "execution_count": 181,
   "id": "46285abc-24f2-46d9-bf6e-a93192c439f5",
   "metadata": {},
   "outputs": [
    {
     "data": {
      "text/plain": [
       "'omputercay'"
      ]
     },
     "execution_count": 181,
     "metadata": {},
     "output_type": "execute_result"
    }
   ],
   "source": [
    "pig_latin(\"computer\")"
   ]
  },
  {
   "cell_type": "code",
   "execution_count": 182,
   "id": "0f810910-ef7f-4682-a51d-f4aa49c1d0b1",
   "metadata": {},
   "outputs": [],
   "source": [
    "s=\"this is a string\""
   ]
  },
  {
   "cell_type": "code",
   "execution_count": 183,
   "id": "fc33d347-cf11-4ea7-a294-0d30ea8d1e80",
   "metadata": {},
   "outputs": [
    {
     "data": {
      "text/plain": [
       "'t'"
      ]
     },
     "execution_count": 183,
     "metadata": {},
     "output_type": "execute_result"
    }
   ],
   "source": [
    "s[0]"
   ]
  },
  {
   "cell_type": "code",
   "execution_count": 185,
   "id": "e0b6f4f6-41e1-4c0b-abd6-ac52e3ee1ba6",
   "metadata": {},
   "outputs": [
    {
     "data": {
      "text/plain": [
       "'his is a string'"
      ]
     },
     "execution_count": 185,
     "metadata": {},
     "output_type": "execute_result"
    }
   ],
   "source": [
    "s[1:]"
   ]
  },
  {
   "cell_type": "code",
   "execution_count": 187,
   "id": "f4ef4b8b-ccb5-4018-a260-7aec5a656730",
   "metadata": {},
   "outputs": [
    {
     "data": {
      "text/plain": [
       "'h'"
      ]
     },
     "execution_count": 187,
     "metadata": {},
     "output_type": "execute_result"
    }
   ],
   "source": [
    "s[1:2] ## give letter at index 1 excluding whatever is at index 1"
   ]
  },
  {
   "cell_type": "code",
   "execution_count": null,
   "id": "5f623497-d06c-44ec-a1bc-69eac9022797",
   "metadata": {},
   "outputs": [],
   "source": []
  }
 ],
 "metadata": {
  "kernelspec": {
   "display_name": "Python 3 (ipykernel)",
   "language": "python",
   "name": "python3"
  },
  "language_info": {
   "codemirror_mode": {
    "name": "ipython",
    "version": 3
   },
   "file_extension": ".py",
   "mimetype": "text/x-python",
   "name": "python",
   "nbconvert_exporter": "python",
   "pygments_lexer": "ipython3",
   "version": "3.9.10"
  }
 },
 "nbformat": 4,
 "nbformat_minor": 5
}
