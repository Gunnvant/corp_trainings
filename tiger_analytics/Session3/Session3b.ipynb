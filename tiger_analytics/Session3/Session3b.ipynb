{
 "cells": [
  {
   "cell_type": "markdown",
   "id": "07820741-28dc-4291-8ba0-e4f9344ad152",
   "metadata": {},
   "source": [
    "----\n",
    "**Author**: Gunnvant\n",
    "\n",
    "**Description**: OOPs for Data Science\n",
    "\n",
    "**Audience**: Beginner\n",
    "\n",
    "**Pre-requisites**: Python 101, Working with flat files\n",
    "\n",
    "---\n",
    "\n",
    "\n",
    "\n",
    "## TOC:\n",
    "\n",
    "- Creating simple classes\n",
    "- Methods vs attributes\n",
    "- Inheritance\n",
    "- Class Assignment and Excercise\n",
    "\n",
    "There are two main reasons why you should learn about Object Oriented Programming. \n",
    "\n",
    "1. Many popular python libraries that help in creating ML models and building data pipelines provide object oriented interface.\n",
    "2. Many ML/DS positions these days require some software development skills, knowledge of OOPs will help a learner greatly there.\n",
    "\n",
    "The focus of this notebook is to introduce enough OOPs so that you can understand and write code written by other people, create your own custom classes or modify classes created by some-one else."
   ]
  },
  {
   "cell_type": "markdown",
   "id": "e03e11a6-cbbe-4ac2-ad98-e25f5305fa47",
   "metadata": {},
   "source": [
    "### Motivating Example:\n",
    "- Write a function to read a csv file\n",
    "- Write another function to find the number of rows and columns in the file read"
   ]
  },
  {
   "cell_type": "code",
   "execution_count": 1,
   "id": "7c6ad4e0-fcd9-4c5b-a906-a28d39a382b4",
   "metadata": {},
   "outputs": [],
   "source": [
    "import csv\n",
    "path = \"../data/file_data.csv\"\n",
    "\n",
    "def read_csv(path=path):\n",
    "    rows = []\n",
    "    with open(path,'r',encoding='utf-8') as f:\n",
    "        reader = csv.reader(f,delimiter = \",\")\n",
    "        for row in reader:\n",
    "            rows.append(row)\n",
    "    return rows\n",
    "            \n",
    "def shape(rows):\n",
    "    num_cols = len(rows[0])\n",
    "    num_rows = len(rows)\n",
    "    return num_cols,num_rows"
   ]
  },
  {
   "cell_type": "code",
   "execution_count": 2,
   "id": "bf502a6a-10a5-46bf-92e9-e82207a44391",
   "metadata": {},
   "outputs": [],
   "source": [
    "table = read_csv(path)"
   ]
  },
  {
   "cell_type": "code",
   "execution_count": 3,
   "id": "b4cd474e-af1e-4679-aef8-8a15fd05ccee",
   "metadata": {},
   "outputs": [
    {
     "data": {
      "text/plain": [
       "(11, 808)"
      ]
     },
     "execution_count": 3,
     "metadata": {},
     "output_type": "execute_result"
    }
   ],
   "source": [
    "shape(table)"
   ]
  },
  {
   "cell_type": "markdown",
   "id": "6d3c8c72-927e-49e9-b18c-7c4395f02c5a",
   "metadata": {},
   "source": [
    "This at the outset looks like a decent interface to work with. Now imagine you need to also handle reading a json or an xml or a yaml file.\n",
    "\n",
    "Think about the following questions critically:\n",
    "\n",
    "1. Will you now write a read_json function?\n",
    "2. How will you organize all the different methods.\n",
    "\n",
    "\n",
    "One of the motivations of using object oriented programming is to arrange similar functionality under one roof. What we can do is we can impliment both \n",
    "`read_csv` and `read_json` methods in one `class`."
   ]
  },
  {
   "cell_type": "code",
   "execution_count": 4,
   "id": "5697e4dc-21aa-49f1-bbf6-ae981b04e27f",
   "metadata": {},
   "outputs": [],
   "source": [
    "import json\n",
    "class Reader():\n",
    "    def read_csv(self,path):\n",
    "        rows = []\n",
    "        with open(path,'r',encoding='utf-8') as f:\n",
    "            reader = csv.reader(f,delimiter = \",\")\n",
    "            for row in reader:\n",
    "                rows.append(row)\n",
    "        return rows\n",
    "    \n",
    "    def read_json(self,path):\n",
    "        with open(path,'r',encoding='utf-8') as f:\n",
    "            data = json.loads(f.read())\n",
    "        return data"
   ]
  },
  {
   "cell_type": "code",
   "execution_count": 5,
   "id": "693aa5c7-2113-46e9-9882-5a5616fb81b0",
   "metadata": {},
   "outputs": [],
   "source": [
    "r = Reader() ## r is the object of the class Reader()"
   ]
  },
  {
   "cell_type": "code",
   "execution_count": 6,
   "id": "ad3e198e-e801-476d-bbeb-81e27bc1a886",
   "metadata": {},
   "outputs": [
    {
     "name": "stdout",
     "output_type": "stream",
     "text": [
      "['__class__', '__delattr__', '__dict__', '__dir__', '__doc__', '__eq__', '__format__', '__ge__', '__getattribute__', '__gt__', '__hash__', '__init__', '__init_subclass__', '__le__', '__lt__', '__module__', '__ne__', '__new__', '__reduce__', '__reduce_ex__', '__repr__', '__setattr__', '__sizeof__', '__str__', '__subclasshook__', '__weakref__', 'read_csv', 'read_json']\n"
     ]
    }
   ],
   "source": [
    "print(dir(r))"
   ]
  },
  {
   "cell_type": "code",
   "execution_count": 7,
   "id": "7eee9431-c234-4bb6-93db-8090919140ca",
   "metadata": {},
   "outputs": [],
   "source": [
    "data=r.read_csv(path)"
   ]
  },
  {
   "cell_type": "code",
   "execution_count": 8,
   "id": "e4da070b-01ff-424c-9a89-7a1e4495bc4c",
   "metadata": {},
   "outputs": [
    {
     "data": {
      "text/plain": [
       "[['',\n",
       "  'sensor_id',\n",
       "  'time',\n",
       "  'incoming',\n",
       "  'outgoing',\n",
       "  'range',\n",
       "  'date',\n",
       "  'hour',\n",
       "  'minute',\n",
       "  'total',\n",
       "  'location_name'],\n",
       " ['0',\n",
       "  '52',\n",
       "  '2021-06-17 07:07:11.937082+00:00',\n",
       "  '0',\n",
       "  '2',\n",
       "  '1min',\n",
       "  '2021-06-17',\n",
       "  '7',\n",
       "  '7',\n",
       "  '2',\n",
       "  'reitan_7eleven_carlberner']]"
      ]
     },
     "execution_count": 8,
     "metadata": {},
     "output_type": "execute_result"
    }
   ],
   "source": [
    "data[0:2]"
   ]
  },
  {
   "cell_type": "code",
   "execution_count": 9,
   "id": "86492bca-6351-4cac-b1ff-f2e64a3a57df",
   "metadata": {},
   "outputs": [],
   "source": [
    "path = \"../data/sample_json.json\"\n",
    "data = r.read_json(path)"
   ]
  },
  {
   "cell_type": "code",
   "execution_count": 10,
   "id": "1235aa06-6592-44b1-b166-29c6afb10347",
   "metadata": {},
   "outputs": [
    {
     "data": {
      "text/plain": [
       "dict_keys(['type', 'metadata', 'features', 'bbox'])"
      ]
     },
     "execution_count": 10,
     "metadata": {},
     "output_type": "execute_result"
    }
   ],
   "source": [
    "data.keys()"
   ]
  },
  {
   "cell_type": "markdown",
   "id": "bb4f2757-acc1-4b31-ab7f-d87c6fd94061",
   "metadata": {},
   "source": [
    "```python\n",
    "class Reader():\n",
    "    def read_csv(self,path):----> ### This is a method\n",
    "        rows = []\n",
    "        with open(path,'r',encoding='utf-8') as f:\n",
    "            reader = csv.reader(f,delimiter = \",\")\n",
    "            for row in reader:\n",
    "                rows.append(row)\n",
    "        return rows\n",
    "    \n",
    "    def read_json(self,path):----> ### This is a method\n",
    "        with open(path,'r',encoding='utf-8') as f:\n",
    "            data = json.loads(f.read())\n",
    "        return data\n",
    "```\n",
    "\n",
    "Classes can also have attributes, attributes usually contain pre-computed data. Eg, we can add an attribute that shows the shape of the object read in"
   ]
  },
  {
   "cell_type": "code",
   "execution_count": 11,
   "id": "5bbc460f-f787-4f71-9b9f-1c59f016d744",
   "metadata": {},
   "outputs": [
    {
     "name": "stdout",
     "output_type": "stream",
     "text": [
      "{'type': 'csv', 'ncols': 11, 'nrows': 808}\n",
      "{'type': 'json', 'len': 4}\n"
     ]
    }
   ],
   "source": [
    "class Reader():\n",
    "    def read_csv(self,path):\n",
    "        rows = []\n",
    "        with open(path,'r',encoding='utf-8') as f:\n",
    "            reader = csv.reader(f,delimiter = \",\")\n",
    "            for row in reader:\n",
    "                rows.append(row)\n",
    "        self.shape = {'type':'csv','ncols':len(rows[0]),'nrows':len(rows)}\n",
    "        return rows\n",
    "    \n",
    "    def read_json(self,path):\n",
    "        with open(path,'r',encoding='utf-8') as f:\n",
    "            data = json.loads(f.read())\n",
    "        self.shape = {'type':'json','len':len(data)}\n",
    "        return data\n",
    "\n",
    "path_csv = \"../data/file_data.csv\"\n",
    "path_json = \"../data/sample_json.json\"\n",
    "\n",
    "r = Reader()\n",
    "data_csv = r.read_csv(path_csv)\n",
    "print(r.shape)\n",
    "data_json = r.read_json(path_json)\n",
    "print(r.shape)"
   ]
  },
  {
   "cell_type": "markdown",
   "id": "02aa8163-68ad-4cbf-af3b-807083a6ead5",
   "metadata": {},
   "source": [
    "There are some common methods in a class that we can impliment. Some of the common default methods are:\n",
    "\n",
    "1. `__init__()`: Used to initialize the object of the class with some default values\n",
    "2. `__len__()`: This method helps in finding the length of an object using `len()` function"
   ]
  },
  {
   "cell_type": "code",
   "execution_count": 12,
   "id": "bdbc14a7-1929-4e69-b2c2-710b4a49e8dd",
   "metadata": {},
   "outputs": [],
   "source": [
    "class Reader():\n",
    "    def __init__(self):\n",
    "        self.shape = {}\n",
    "    \n",
    "    def __len__(self):\n",
    "        if 'nrows' in self.shape:\n",
    "            return self.shape['nrows']\n",
    "        elif 'len' in self.shape:\n",
    "            return self.shape['len']\n",
    "        else:\n",
    "            return 0\n",
    "        \n",
    "    def read_csv(self,path):\n",
    "        rows = []\n",
    "        with open(path,'r',encoding='utf-8') as f:\n",
    "            reader = csv.reader(f,delimiter = \",\")\n",
    "            for row in reader:\n",
    "                rows.append(row)\n",
    "        self.shape = {'type':'csv','ncols':len(rows[0]),'nrows':len(rows)}\n",
    "        return rows\n",
    "    \n",
    "    def read_json(self,path):\n",
    "        with open(path,'r',encoding='utf-8') as f:\n",
    "            data = json.loads(f.read())\n",
    "        self.shape = {'type':'json','len':len(data)}\n",
    "        return data"
   ]
  },
  {
   "cell_type": "code",
   "execution_count": 13,
   "id": "aee22bb2-6a00-4f2d-9800-fbbb2d580445",
   "metadata": {},
   "outputs": [
    {
     "name": "stdout",
     "output_type": "stream",
     "text": [
      "{}\n",
      "0\n",
      "{'type': 'csv', 'ncols': 11, 'nrows': 808}\n",
      "808\n",
      "{'type': 'json', 'len': 4}\n",
      "4\n"
     ]
    }
   ],
   "source": [
    "path_csv = \"../data/file_data.csv\"\n",
    "path_json = \"../data/sample_json.json\"\n",
    "\n",
    "r = Reader()\n",
    "print(r.shape)\n",
    "print(len(r))\n",
    "data_csv = r.read_csv(path_csv)\n",
    "print(r.shape)\n",
    "print(len(r))\n",
    "data_json = r.read_json(path_json)\n",
    "print(r.shape)\n",
    "print(len(r))"
   ]
  },
  {
   "cell_type": "markdown",
   "id": "e753e8cf-7475-47ba-b624-fce467bd99b5",
   "metadata": {},
   "source": [
    "### Class Case Study:\n",
    "\n",
    "1. Create a `class Reader()` which will support reading csv, tsv or pipe-delimited files"
   ]
  },
  {
   "cell_type": "code",
   "execution_count": 14,
   "id": "8cc19b0d-99d0-4c7c-ab4d-963ba6d0b421",
   "metadata": {},
   "outputs": [],
   "source": [
    "class Reader():\n",
    "    def __init__(self):\n",
    "        self.shape = () ## ncols,nrows\n",
    "        self.data = None\n",
    "        self.columns = None\n",
    "    def __len__(self):\n",
    "        if len(self.shape)!=0:\n",
    "            return self.shape[1]\n",
    "        else:\n",
    "            return 0\n",
    "    def read_csv(self,path,delimiter=\",\"):\n",
    "        rows = []\n",
    "        with open(path,'r',encoding='utf-8') as f:\n",
    "            reader = csv.reader(f,delimiter=delimiter)\n",
    "            for row in reader:\n",
    "                rows.append(row)\n",
    "        self.columns = rows[0]\n",
    "        self.data = rows[1:]\n",
    "        self.shape = (len(self.columns),len(rows)) "
   ]
  },
  {
   "cell_type": "code",
   "execution_count": 15,
   "id": "45ee3ec1-831c-47df-bd3b-5bd8cee39c41",
   "metadata": {},
   "outputs": [
    {
     "name": "stdout",
     "output_type": "stream",
     "text": [
      "0\n",
      "()\n",
      "None\n",
      "None\n",
      "808\n",
      "(11, 808)\n",
      "['', 'sensor_id', 'time', 'incoming', 'outgoing', 'range', 'date', 'hour', 'minute', 'total', 'location_name']\n",
      "[['0', '52', '2021-06-17 07:07:11.937082+00:00', '0', '2', '1min', '2021-06-17', '7', '7', '2', 'reitan_7eleven_carlberner'], ['1', '52', '2021-06-17 07:07:51.166361+00:00', '1', '0', '1min', '2021-06-17', '7', '7', '1', 'reitan_7eleven_carlberner']]\n"
     ]
    }
   ],
   "source": [
    "r = Reader()\n",
    "print(len(r))\n",
    "print(r.shape)\n",
    "print(r.columns)\n",
    "print(r.data)\n",
    "r.read_csv(path_csv)\n",
    "print(len(r))\n",
    "print(r.shape)\n",
    "print(r.columns)\n",
    "print(r.data[0:2])"
   ]
  },
  {
   "cell_type": "markdown",
   "id": "ede612d3-f0ca-4121-ae10-4f403af11559",
   "metadata": {},
   "source": [
    "*Example Continued ...*\n",
    "\n",
    "2. Now lets extend the class `Reader`, check for datatypes, make sure anything which is a number is converted to a int. At this point in time we don't know enough python to check if a string is a float value or not, so in this example we will not handle it"
   ]
  },
  {
   "cell_type": "code",
   "execution_count": 16,
   "id": "e9b4b2a5-49f8-47d0-9dd5-3880b427116a",
   "metadata": {},
   "outputs": [],
   "source": [
    "class Reader():\n",
    "    \n",
    "    def __init__(self):\n",
    "        self.shape = () ## ncols,nrows\n",
    "        self.data = None\n",
    "        self.columns = None\n",
    "    \n",
    "    def __len__(self):\n",
    "        if len(self.shape)!=0:\n",
    "            return self.shape[1]\n",
    "        else:\n",
    "            return 0\n",
    "    \n",
    "    def convert_float(self,value):\n",
    "        if value.isdigit():\n",
    "            return float(value)\n",
    "        else:\n",
    "            return value\n",
    "    \n",
    "    def read_csv(self,path,delimiter=\",\"):\n",
    "        rows = []\n",
    "        with open(path,'r',encoding='utf-8') as f:\n",
    "            reader = csv.reader(f,delimiter=delimiter)\n",
    "            for row in reader:\n",
    "                rows.append([self.convert_float(i) for i in row])\n",
    "        self.columns = rows[0]\n",
    "        self.data = rows[1:]\n",
    "        self.shape = (len(self.columns),len(rows)) "
   ]
  },
  {
   "cell_type": "code",
   "execution_count": 17,
   "id": "e678b5c7-7cfc-42be-96d7-b039c65938b6",
   "metadata": {},
   "outputs": [
    {
     "name": "stdout",
     "output_type": "stream",
     "text": [
      "0\n",
      "()\n",
      "None\n",
      "None\n",
      "808\n",
      "(11, 808)\n",
      "['', 'sensor_id', 'time', 'incoming', 'outgoing', 'range', 'date', 'hour', 'minute', 'total', 'location_name']\n",
      "[[0.0, 52.0, '2021-06-17 07:07:11.937082+00:00', 0.0, 2.0, '1min', '2021-06-17', 7.0, 7.0, 2.0, 'reitan_7eleven_carlberner'], [1.0, 52.0, '2021-06-17 07:07:51.166361+00:00', 1.0, 0.0, '1min', '2021-06-17', 7.0, 7.0, 1.0, 'reitan_7eleven_carlberner']]\n"
     ]
    }
   ],
   "source": [
    "r = Reader()\n",
    "print(len(r))\n",
    "print(r.shape)\n",
    "print(r.columns)\n",
    "print(r.data)\n",
    "r.read_csv(path_csv)\n",
    "print(len(r))\n",
    "print(r.shape)\n",
    "print(r.columns)\n",
    "print(r.data[0:2])"
   ]
  },
  {
   "cell_type": "markdown",
   "id": "ac8a34d6-8d34-407b-8eb9-19a3a0d20487",
   "metadata": {},
   "source": [
    "*Example Continued ...*\n",
    "\n",
    "3. Now lets change the data attribute to a dictionary"
   ]
  },
  {
   "cell_type": "code",
   "execution_count": 18,
   "id": "2fcedec2-2d6d-4561-9903-f6a6c4a258fd",
   "metadata": {},
   "outputs": [],
   "source": [
    "class Reader():\n",
    "    \n",
    "    def __init__(self):\n",
    "        self.shape = () ## ncols,nrows\n",
    "        self.data = None\n",
    "        self.columns = None\n",
    "    \n",
    "    def __len__(self):\n",
    "        if len(self.shape)!=0:\n",
    "            return self.shape[1]\n",
    "        else:\n",
    "            return 0\n",
    "    \n",
    "    def convert_float(self,value):\n",
    "        if value.isdigit():\n",
    "            return float(value)\n",
    "        else:\n",
    "            return value\n",
    "    \n",
    "    def read_csv(self,path,delimiter=\",\"):\n",
    "        rows = []\n",
    "        with open(path,'r',encoding='utf-8') as f:\n",
    "            reader = csv.reader(f,delimiter=delimiter)\n",
    "            for row in reader:\n",
    "                rows.append([self.convert_float(i) for i in row])\n",
    "        self.columns = rows[0]\n",
    "        self.data = {}\n",
    "        for idx,col in enumerate(self.columns):\n",
    "            self.data[col] = []\n",
    "            for row in rows[1:]:\n",
    "                self.data[col].append(row[idx])\n",
    "        self.shape = (len(self.columns),len(rows)) "
   ]
  },
  {
   "cell_type": "code",
   "execution_count": 19,
   "id": "4c16a01f-1920-4474-a580-558dc4456b2d",
   "metadata": {},
   "outputs": [
    {
     "name": "stdout",
     "output_type": "stream",
     "text": [
      "0\n",
      "()\n",
      "None\n",
      "None\n",
      "808\n",
      "(11, 808)\n",
      "['', 'sensor_id', 'time', 'incoming', 'outgoing', 'range', 'date', 'hour', 'minute', 'total', 'location_name']\n",
      "[52.0, 52.0, 52.0, 52.0, 52.0, 52.0, 52.0, 52.0, 52.0, 52.0]\n"
     ]
    }
   ],
   "source": [
    "r = Reader()\n",
    "print(len(r))\n",
    "print(r.shape)\n",
    "print(r.columns)\n",
    "print(r.data)\n",
    "r.read_csv(path_csv)\n",
    "print(len(r))\n",
    "print(r.shape)\n",
    "print(r.columns)\n",
    "print(r.data['sensor_id'][0:10])"
   ]
  },
  {
   "cell_type": "markdown",
   "id": "36f7021e-c600-44e9-ad6d-46e5c6948876",
   "metadata": {},
   "source": [
    "*Example Continued...*\n",
    "\n",
    "Lets extend this class to also keep a mapping of datatypes for each of the columns"
   ]
  },
  {
   "cell_type": "code",
   "execution_count": 20,
   "id": "6ae78c59-1b6f-42e8-ac71-f54a36c2cfe8",
   "metadata": {},
   "outputs": [],
   "source": [
    "class Reader():\n",
    "    \n",
    "    def __init__(self):\n",
    "        self.shape = () ## ncols,nrows\n",
    "        self.data = None\n",
    "        self.columns = None\n",
    "        self.dtypes = None\n",
    "    \n",
    "    def __len__(self):\n",
    "        if len(self.shape)!=0:\n",
    "            return self.shape[1]\n",
    "        else:\n",
    "            return 0\n",
    "    \n",
    "    def convert_float(self,value):\n",
    "        if value.isdigit():\n",
    "            return float(value)\n",
    "        else:\n",
    "            return value\n",
    "        \n",
    "    def get_dtypes(self,rows):\n",
    "        self.dtypes = {}\n",
    "        for idx,value in enumerate(rows[1]):\n",
    "            self.dtypes[self.columns[idx]] = \"num\" if type(value)==float else \"str\"\n",
    "            \n",
    "    def read_csv(self,path,delimiter=\",\"):\n",
    "        rows = []\n",
    "        with open(path,'r',encoding='utf-8') as f:\n",
    "            reader = csv.reader(f,delimiter=delimiter)\n",
    "            for row in reader:\n",
    "                rows.append([self.convert_float(i) for i in row])\n",
    "        self.columns = rows[0]\n",
    "        self.data = {}\n",
    "        for idx,col in enumerate(self.columns):\n",
    "            self.data[col] = []\n",
    "            for row in rows[1:]:\n",
    "                self.data[col].append(row[idx])\n",
    "        self.get_dtypes(rows)\n",
    "        self.shape = (len(self.columns),len(rows)) "
   ]
  },
  {
   "cell_type": "code",
   "execution_count": 21,
   "id": "eb53050a-b276-4ccf-b95b-5ea571d2647d",
   "metadata": {},
   "outputs": [
    {
     "name": "stdout",
     "output_type": "stream",
     "text": [
      "0\n",
      "()\n",
      "None\n",
      "None\n",
      "None\n",
      "808\n",
      "(11, 808)\n",
      "{'': 'num', 'sensor_id': 'num', 'time': 'str', 'incoming': 'num', 'outgoing': 'num', 'range': 'str', 'date': 'str', 'hour': 'num', 'minute': 'num', 'total': 'num', 'location_name': 'str'}\n",
      "['', 'sensor_id', 'time', 'incoming', 'outgoing', 'range', 'date', 'hour', 'minute', 'total', 'location_name']\n",
      "[52.0, 52.0, 52.0, 52.0, 52.0, 52.0, 52.0, 52.0, 52.0, 52.0]\n"
     ]
    }
   ],
   "source": [
    "r = Reader()\n",
    "print(len(r))\n",
    "print(r.shape)\n",
    "print(r.dtypes)\n",
    "print(r.columns)\n",
    "print(r.data)\n",
    "r.read_csv(path_csv)\n",
    "print(len(r))\n",
    "print(r.shape)\n",
    "print(r.dtypes)\n",
    "print(r.columns)\n",
    "print(r.data['sensor_id'][0:10])"
   ]
  },
  {
   "cell_type": "markdown",
   "id": "a4e1f2be-e83d-45b7-a0e8-9f2acbaf8377",
   "metadata": {},
   "source": [
    "## Motivatiing example:\n",
    "\n",
    "1. Imagine now that have the `Reader()` class, we would want to include a functionality that will help us in analyzing the data.\n",
    "2. Instead of adding functions to the `Reader()` class we can create a new class using `Reader()` class"
   ]
  },
  {
   "cell_type": "code",
   "execution_count": 22,
   "id": "14caca1a-f7bc-4568-b739-3f0f358fba29",
   "metadata": {},
   "outputs": [],
   "source": [
    "class Table(Reader):\n",
    "    def get_num_cols(self):\n",
    "        cols = []\n",
    "        for col in self.dtypes:\n",
    "            if self.dtypes[col]=='num':\n",
    "                cols.append(col)\n",
    "        return cols\n",
    "    def summary(self):\n",
    "        cols = self.get_num_cols()\n",
    "        results = {}\n",
    "        for col in cols:\n",
    "            results[col]={'mean':sum(self.data[col])/len(self.data[col]),'min':min(self.data[col]),'max':max(self.data[col])}\n",
    "        return results"
   ]
  },
  {
   "cell_type": "code",
   "execution_count": 23,
   "id": "124fb8d9-9020-495f-bc28-4743f147976d",
   "metadata": {},
   "outputs": [
    {
     "name": "stdout",
     "output_type": "stream",
     "text": [
      "0\n",
      "()\n",
      "None\n",
      "None\n",
      "None\n",
      "808\n",
      "(11, 808)\n",
      "{'': 'num', 'sensor_id': 'num', 'time': 'str', 'incoming': 'num', 'outgoing': 'num', 'range': 'str', 'date': 'str', 'hour': 'num', 'minute': 'num', 'total': 'num', 'location_name': 'str'}\n",
      "['', 'sensor_id', 'time', 'incoming', 'outgoing', 'range', 'date', 'hour', 'minute', 'total', 'location_name']\n",
      "[52.0, 52.0, 52.0, 52.0, 52.0, 52.0, 52.0, 52.0, 52.0, 52.0]\n",
      "{'': {'mean': 403.0, 'min': 0.0, 'max': 806.0}, 'sensor_id': {'mean': 52.0, 'min': 52.0, 'max': 52.0}, 'incoming': {'mean': 164.96034696406443, 'min': 0.0, 'max': 13406.0}, 'outgoing': {'mean': 253.70879801734822, 'min': 0.0, 'max': 20561.0}, 'hour': {'mean': 13.53903345724907, 'min': 0.0, 'max': 23.0}, 'minute': {'mean': 29.71251548946716, 'min': 0.0, 'max': 59.0}, 'total': {'mean': 418.6691449814126, 'min': 1.0, 'max': 33967.0}}\n"
     ]
    }
   ],
   "source": [
    "r = Table()\n",
    "print(len(r))\n",
    "print(r.shape)\n",
    "print(r.dtypes)\n",
    "print(r.columns)\n",
    "print(r.data)\n",
    "r.read_csv(path_csv)\n",
    "print(len(r))\n",
    "print(r.shape)\n",
    "print(r.dtypes)\n",
    "print(r.columns)\n",
    "print(r.data['sensor_id'][0:10])\n",
    "print(r.summary())"
   ]
  },
  {
   "cell_type": "code",
   "execution_count": null,
   "id": "9e675693-c309-4e5d-b79d-1f64b81c55ca",
   "metadata": {},
   "outputs": [],
   "source": []
  }
 ],
 "metadata": {
  "kernelspec": {
   "display_name": "Python 3 (ipykernel)",
   "language": "python",
   "name": "python3"
  },
  "language_info": {
   "codemirror_mode": {
    "name": "ipython",
    "version": 3
   },
   "file_extension": ".py",
   "mimetype": "text/x-python",
   "name": "python",
   "nbconvert_exporter": "python",
   "pygments_lexer": "ipython3",
   "version": "3.9.10"
  }
 },
 "nbformat": 4,
 "nbformat_minor": 5
}
