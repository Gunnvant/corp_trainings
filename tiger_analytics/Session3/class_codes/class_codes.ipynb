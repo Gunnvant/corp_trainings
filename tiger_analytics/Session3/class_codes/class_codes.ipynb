{
 "cells": [
  {
   "cell_type": "markdown",
   "id": "7ab618c4-b5c0-4105-803c-aab9cfaa9a0e",
   "metadata": {},
   "source": [
    "## File objects\n",
    "- Read and manipulate files using `open()`"
   ]
  },
  {
   "cell_type": "code",
   "execution_count": 1,
   "id": "7c7fdacd-6c32-46f0-b8d1-5af03c127913",
   "metadata": {},
   "outputs": [],
   "source": [
    "path = r\"/Users/gunnvantsaini/Library/CloudStorage/OneDrive-Personal/Work/Vired/Content/corp_trainings/tiger_analytics/data/file_data.csv\"\n",
    "file = open(path,\"r\")\n",
    "data_string = file.read() ## this will read the content of the file\n",
    "file.close()"
   ]
  },
  {
   "cell_type": "markdown",
   "id": "e41064f1-9e6c-4fbc-91b6-c83e468b2953",
   "metadata": {},
   "source": [
    "```python\n",
    "open(path,\"r\") ===> read mode\n",
    "open(path,\"w\") ===> write mode\n",
    "open(path,\"rb\") ====> read binary \n",
    "open(path,\"wb\") ====> write binary\n",
    "     \n",
    "```"
   ]
  },
  {
   "cell_type": "code",
   "execution_count": 2,
   "id": "604826b6-e8fb-4746-a40c-a12920ed2f90",
   "metadata": {},
   "outputs": [
    {
     "data": {
      "text/plain": [
       "str"
      ]
     },
     "execution_count": 2,
     "metadata": {},
     "output_type": "execute_result"
    }
   ],
   "source": [
    "type(data_string)"
   ]
  },
  {
   "cell_type": "code",
   "execution_count": 3,
   "id": "2665cfb9-4395-446d-9c43-add9fcb800cc",
   "metadata": {},
   "outputs": [
    {
     "name": "stdout",
     "output_type": "stream",
     "text": [
      ",sensor_id,time,incoming,outgoing,range,date,hour,minute,total,location_name\n",
      "0,52,2021-06-17 07:07:11.937082+00:00,0,2,1min,2021-06-17,7,7,2,reitan_7eleven_carlberner\n",
      "1,52,2021-06-17 07:07:51.166361+00:00,1,0,1min,2021-06-17,7,7,1,reitan_7eleven_carlberner\n",
      "2,52,2021-06-17 07:09:48.861997+00:00,0,1,1min,2021-06-17,7,9,1,reitan_7eleven_carlberner\n",
      "3,52,2021-06-17 07:10:40.197648+00:00,1,0,1min,2021-06-17,7,10,1,reitan_7eleven_carlberner\n",
      "4,52,2021-06-17 07:11:49.664105+00:00,0,1,1min,2021-06-17,7,11,1,reitan_7eleven_carlberner\n",
      "5,52,2021-06-17 07:14:20.731722+00:00,1,0,1min,2021-06-17,7,14,1,reitan_7eleven_carlberner\n",
      "6,52,2021-06-17 07:16:27.575491+00:00,0,1,1min,2021-06-17,7,16,1,reitan_7eleven_carlberner\n",
      "7,52,2021-06-17 07:17:21.919449+00:00,1,0,1min,2021-06-17,7,17,1,reitan_7eleven_carlberner\n",
      "8,52,2021-06-17 07:17:52.122774+00:00,0,1,1min,2021-06-17,7,17,1,reitan_7eleven_carlberner\n",
      "9,52,2021-06-17 07:19:58.885012+00:00,1,0,1min,2021-06-17,7,19,1,reitan_7eleven_carlberner\n",
      "10,52,2021-06-17\n"
     ]
    }
   ],
   "source": [
    "print(data_string[0:1000])"
   ]
  },
  {
   "cell_type": "code",
   "execution_count": 6,
   "id": "63e81bc6-079b-422a-ad1e-01250a605249",
   "metadata": {},
   "outputs": [],
   "source": [
    "file = open(path,\"r\")\n",
    "data_lines = file.readlines()\n",
    "file.close()"
   ]
  },
  {
   "cell_type": "code",
   "execution_count": 7,
   "id": "9616b850-44a7-40de-bd5a-99235f94cee8",
   "metadata": {},
   "outputs": [
    {
     "data": {
      "text/plain": [
       "list"
      ]
     },
     "execution_count": 7,
     "metadata": {},
     "output_type": "execute_result"
    }
   ],
   "source": [
    "type(data_lines)"
   ]
  },
  {
   "cell_type": "code",
   "execution_count": 9,
   "id": "9b563042-6eec-4a9c-80f4-7ee4207740c2",
   "metadata": {},
   "outputs": [
    {
     "data": {
      "text/plain": [
       "[',sensor_id,time,incoming,outgoing,range,date,hour,minute,total,location_name\\n',\n",
       " '0,52,2021-06-17 07:07:11.937082+00:00,0,2,1min,2021-06-17,7,7,2,reitan_7eleven_carlberner\\n',\n",
       " '1,52,2021-06-17 07:07:51.166361+00:00,1,0,1min,2021-06-17,7,7,1,reitan_7eleven_carlberner\\n']"
      ]
     },
     "execution_count": 9,
     "metadata": {},
     "output_type": "execute_result"
    }
   ],
   "source": [
    "data_lines[0:3]"
   ]
  },
  {
   "cell_type": "code",
   "execution_count": 10,
   "id": "7a383551-4d69-45f3-ba5a-ab79b10cf9ff",
   "metadata": {},
   "outputs": [
    {
     "data": {
      "text/plain": [
       "',sensor_id,time,incoming,outgoing,range,date,hour,minute,total,location_name\\n'"
      ]
     },
     "execution_count": 10,
     "metadata": {},
     "output_type": "execute_result"
    }
   ],
   "source": [
    "## Extract column names?\n",
    "data_lines[0]"
   ]
  },
  {
   "cell_type": "code",
   "execution_count": 19,
   "id": "f2e42f38-2e88-4724-b83d-176bfb841108",
   "metadata": {},
   "outputs": [
    {
     "data": {
      "text/plain": [
       "['',\n",
       " 'sensor_id',\n",
       " 'time',\n",
       " 'incoming',\n",
       " 'outgoing',\n",
       " 'range',\n",
       " 'date',\n",
       " 'hour',\n",
       " 'minute',\n",
       " 'total',\n",
       " 'location_name']"
      ]
     },
     "execution_count": 19,
     "metadata": {},
     "output_type": "execute_result"
    }
   ],
   "source": [
    "data_lines[0].strip().split(\",\")"
   ]
  },
  {
   "cell_type": "code",
   "execution_count": 20,
   "id": "fc9de884-4fcd-4be9-aa06-8464f2bafff2",
   "metadata": {},
   "outputs": [
    {
     "data": {
      "text/plain": [
       "',sensor_id,time,incoming,outgoing,range,date,hour,minute,total,location_name\\n'"
      ]
     },
     "execution_count": 20,
     "metadata": {},
     "output_type": "execute_result"
    }
   ],
   "source": [
    "data_lines[0]"
   ]
  },
  {
   "cell_type": "markdown",
   "id": "1f8a6bb3-d43c-4f64-adf4-171cb2b95adb",
   "metadata": {},
   "source": [
    "```python\n",
    "def get_values(row:str)->list:\n",
    "    pass\n",
    "```"
   ]
  },
  {
   "cell_type": "code",
   "execution_count": 21,
   "id": "be8f1140-de6c-4ebe-bc55-2a8c92f31392",
   "metadata": {},
   "outputs": [],
   "source": [
    "from utils import get_values"
   ]
  },
  {
   "cell_type": "code",
   "execution_count": 22,
   "id": "dc57cfca-908c-4f9e-ae66-3b86ca17c4bf",
   "metadata": {},
   "outputs": [
    {
     "data": {
      "text/plain": [
       "['0',\n",
       " '52',\n",
       " '2021-06-17 07:07:11.937082+00:00',\n",
       " '0',\n",
       " '2',\n",
       " '1min',\n",
       " '2021-06-17',\n",
       " '7',\n",
       " '7',\n",
       " '2',\n",
       " 'reitan_7eleven_carlberner']"
      ]
     },
     "execution_count": 22,
     "metadata": {},
     "output_type": "execute_result"
    }
   ],
   "source": [
    "### Store the values of each column in a separate list. You can use the function you've just defined.\n",
    "get_values(data_lines[1])"
   ]
  },
  {
   "cell_type": "code",
   "execution_count": 25,
   "id": "edb50bbc-d8b6-4cfa-b651-8d57703437e4",
   "metadata": {},
   "outputs": [],
   "source": [
    "sensor_id = []\n",
    "time = []\n",
    "incoming = []\n",
    "outgoing = []\n",
    "rng = []\n",
    "date = []\n",
    "hr = []\n",
    "mnt = []\n",
    "total = []\n",
    "loc = []\n",
    "for row in data_lines[1:]:\n",
    "    vals = get_values(row)\n",
    "    sensor_id.append(vals[1])\n",
    "    time.append(vals[2])\n",
    "    incoming.append(vals[3])\n",
    "    outgoing.append(vals[4])\n",
    "    rng.append(vals[5])\n",
    "    date.append(vals[6])\n",
    "    hr.append(vals[7])\n",
    "    mnt.append(vals[8])\n",
    "    total.append(vals[9])\n",
    "    loc.append(vals[10])\n"
   ]
  },
  {
   "cell_type": "markdown",
   "id": "9af689c3-656e-48ae-b9cc-478122c77b92",
   "metadata": {},
   "source": [
    "### Count the number of times the outgoing was more than incoming?"
   ]
  },
  {
   "cell_type": "code",
   "execution_count": 28,
   "id": "9267d506-1cf6-46e4-8bf7-16045a2f1542",
   "metadata": {},
   "outputs": [
    {
     "name": "stdout",
     "output_type": "stream",
     "text": [
      "1 5\n",
      "2 4\n",
      "3 3\n",
      "4 2\n",
      "5 1\n"
     ]
    }
   ],
   "source": [
    "l1 = [1,2,3,4,5]\n",
    "l2 = [5,4,3,2,1]\n",
    "for i,j in zip(l1,l2):\n",
    "    print(i,j)"
   ]
  },
  {
   "cell_type": "code",
   "execution_count": 37,
   "id": "6fdf8246-cec7-42a4-bbb7-8a4a66b9f9b2",
   "metadata": {},
   "outputs": [
    {
     "name": "stdout",
     "output_type": "stream",
     "text": [
      "426\n"
     ]
    }
   ],
   "source": [
    "counter = 0\n",
    "for out,inc in zip(outgoing,incoming):\n",
    "    if int(out)>int(inc):\n",
    "        counter = counter+1\n",
    "print(counter)"
   ]
  },
  {
   "cell_type": "markdown",
   "id": "2c5a5877-f9a3-4651-812b-7e9bf2fb4765",
   "metadata": {},
   "source": [
    "### Find the average of the column total from 11 PM to 11:45 PM on 2021-06-18?"
   ]
  },
  {
   "cell_type": "code",
   "execution_count": 40,
   "id": "a00e3cc8-67d7-4117-8933-c05d2c338def",
   "metadata": {},
   "outputs": [],
   "source": [
    "counter = 0\n",
    "tot = []\n",
    "for d,h,m,t in zip(date,hr,mnt,total):\n",
    "    if d == \"2021-06-18\" and int(h) == 23 and int(m)<=45:\n",
    "        counter = counter+1\n",
    "        tot.append(t)       "
   ]
  },
  {
   "cell_type": "code",
   "execution_count": 43,
   "id": "0c679568-019b-49d4-b265-e715bf1f8ffe",
   "metadata": {},
   "outputs": [
    {
     "data": {
      "text/plain": [
       "5"
      ]
     },
     "execution_count": 43,
     "metadata": {},
     "output_type": "execute_result"
    }
   ],
   "source": [
    "t = 0\n",
    "for val in tot:\n",
    "    t = t+int(val)\n",
    "t    "
   ]
  },
  {
   "cell_type": "code",
   "execution_count": 42,
   "id": "a9b4b217-7555-4784-ad43-00523bc8ab8f",
   "metadata": {},
   "outputs": [
    {
     "data": {
      "text/plain": [
       "5"
      ]
     },
     "execution_count": 42,
     "metadata": {},
     "output_type": "execute_result"
    }
   ],
   "source": [
    "counter"
   ]
  },
  {
   "cell_type": "code",
   "execution_count": 44,
   "id": "1724b97a-baa8-4aa7-b343-9b2f98869b04",
   "metadata": {},
   "outputs": [
    {
     "data": {
      "text/plain": [
       "1.0"
      ]
     },
     "execution_count": 44,
     "metadata": {},
     "output_type": "execute_result"
    }
   ],
   "source": [
    "t/counter"
   ]
  },
  {
   "cell_type": "markdown",
   "id": "09531c6a-349d-4b09-9206-d5dc1b48bfd9",
   "metadata": {},
   "source": [
    "### Working with flat files\n",
    "\n",
    "- csv module to make the task of reading and writting files easier\n",
    "- json files and how to process them\n",
    "- intro to oops in python"
   ]
  },
  {
   "cell_type": "markdown",
   "id": "0532870f-60f3-478b-827c-77e6e8f044ec",
   "metadata": {},
   "source": [
    "```python\n",
    "f = open() ## file handler has to be closed\n",
    "f.close()\n",
    "```"
   ]
  },
  {
   "cell_type": "code",
   "execution_count": 47,
   "id": "be62bf9c-5161-44b6-a400-ab703b1354af",
   "metadata": {},
   "outputs": [],
   "source": [
    "with open(path,\"r\") as f: ## Using a context manager, \n",
    "    data = f.readlines()"
   ]
  },
  {
   "cell_type": "markdown",
   "id": "21280735-5bcf-4313-a14d-a1f519fbace5",
   "metadata": {},
   "source": [
    "#### `csv` module to read flat files"
   ]
  },
  {
   "cell_type": "code",
   "execution_count": 48,
   "id": "f5a209f1-1d0f-4909-825b-9d18a37b8ed8",
   "metadata": {},
   "outputs": [],
   "source": [
    "import csv"
   ]
  },
  {
   "cell_type": "code",
   "execution_count": 50,
   "id": "da3fd917-a135-4c30-8832-fed30288b5c0",
   "metadata": {},
   "outputs": [
    {
     "name": "stdout",
     "output_type": "stream",
     "text": [
      "['', 'sensor_id', 'time', 'incoming', 'outgoing', 'range', 'date', 'hour', 'minute', 'total', 'location_name']\n",
      "['0', '52', '2021-06-17 07:07:11.937082+00:00', '0', '2', '1min', '2021-06-17', '7', '7', '2', 'reitan_7eleven_carlberner']\n",
      "['1', '52', '2021-06-17 07:07:51.166361+00:00', '1', '0', '1min', '2021-06-17', '7', '7', '1', 'reitan_7eleven_carlberner']\n",
      "['2', '52', '2021-06-17 07:09:48.861997+00:00', '0', '1', '1min', '2021-06-17', '7', '9', '1', 'reitan_7eleven_carlberner']\n",
      "['3', '52', '2021-06-17 07:10:40.197648+00:00', '1', '0', '1min', '2021-06-17', '7', '10', '1', 'reitan_7eleven_carlberner']\n"
     ]
    }
   ],
   "source": [
    "counter = 0\n",
    "with open(path,\"r\") as f:\n",
    "    r = csv.reader(f,delimiter = \",\")\n",
    "    for row in r:\n",
    "        counter+=1\n",
    "        print(row)\n",
    "        if counter == 5:\n",
    "            break"
   ]
  },
  {
   "cell_type": "code",
   "execution_count": 55,
   "id": "901128cb-60e7-4a14-a286-1ba113b6dc34",
   "metadata": {},
   "outputs": [
    {
     "name": "stdout",
     "output_type": "stream",
     "text": [
      "2021-06-17 2\n",
      "2021-06-17 0\n",
      "2021-06-17 1\n",
      "2021-06-17 0\n",
      "2021-06-17 1\n"
     ]
    }
   ],
   "source": [
    "counter = 0\n",
    "with open(path,\"r\") as f:\n",
    "    r = csv.DictReader(f,delimiter = \",\")\n",
    "    for row in r:\n",
    "        counter += 1\n",
    "        print(row['date'],row['outgoing'])\n",
    "        if counter == 5:\n",
    "            break"
   ]
  },
  {
   "cell_type": "markdown",
   "id": "04f5f81c-f2ad-438d-9750-eb7ac41c4c93",
   "metadata": {},
   "source": [
    "## Class Assignment\n",
    "\n",
    "- Use the data tweets_assignment.txt\n",
    "\n",
    "- Find out how many tweets were tweeted on each day, i.e. how many tweets were made on 26th December, how many on 25th December and so on."
   ]
  },
  {
   "cell_type": "code",
   "execution_count": 59,
   "id": "eef4eab8-468b-4a01-92cc-37e6ccc4d830",
   "metadata": {},
   "outputs": [],
   "source": [
    "counter = {'Dec 26':0,'Dec 25':0,\"Dec 24\":0,'Dec 23':0}\n",
    "path = \"/Users/gunnvantsaini/Library/CloudStorage/OneDrive-Personal/Work/Vired/Content/corp_trainings/tiger_analytics/data/tweets_assignment.txt\"\n",
    "with open(path,\"r\") as f:\n",
    "    r = csv.DictReader(f,delimiter = \"|\")\n",
    "    for row in r:\n",
    "        if row['Tweet_Date'].startswith(\"Thu Dec 26\"):\n",
    "            counter['Dec 26']+=1     "
   ]
  },
  {
   "cell_type": "code",
   "execution_count": 60,
   "id": "8914c150-5b94-4f82-873e-c4d7cb8d6571",
   "metadata": {},
   "outputs": [
    {
     "data": {
      "text/plain": [
       "{'Dec 26': 1999, 'Dec 25': 0, 'Dec 24': 0, 'Dec 23': 0}"
      ]
     },
     "execution_count": 60,
     "metadata": {},
     "output_type": "execute_result"
    }
   ],
   "source": [
    "counter"
   ]
  },
  {
   "cell_type": "code",
   "execution_count": 70,
   "id": "dc41cc33-2831-41cd-9b72-0945465ca4a2",
   "metadata": {},
   "outputs": [],
   "source": [
    "dates = []\n",
    "with open(path,\"r\") as f:\n",
    "    r = csv.DictReader(f,delimiter = \"|\")\n",
    "    for row in r:\n",
    "        dates.append(\",\".join(row['Tweet_Date'].split(\" \")[1:3]))"
   ]
  },
  {
   "cell_type": "code",
   "execution_count": 73,
   "id": "199c919f-63ad-49a9-a959-3033b30047ed",
   "metadata": {},
   "outputs": [],
   "source": [
    "c = {}\n",
    "for i in list(set(dates)):\n",
    "    c[i] = 0\n",
    "    "
   ]
  },
  {
   "cell_type": "code",
   "execution_count": 74,
   "id": "a5ac5e73-6441-4801-8bbe-0873267eacfe",
   "metadata": {},
   "outputs": [
    {
     "data": {
      "text/plain": [
       "{'Dec,25': 0, 'Dec,26': 0, 'Dec,23': 0, 'Dec,24': 0}"
      ]
     },
     "execution_count": 74,
     "metadata": {},
     "output_type": "execute_result"
    }
   ],
   "source": [
    "c"
   ]
  },
  {
   "cell_type": "markdown",
   "id": "d4390f8d-6b15-44d4-8227-f3aa111fb2eb",
   "metadata": {},
   "source": [
    "### JSON data\n",
    "\n",
    "- Reading json data \n",
    "    - 1. Read the raw json as a string \n",
    "    - 2. System library to convert the string into a python dict"
   ]
  },
  {
   "cell_type": "code",
   "execution_count": 79,
   "id": "ee4a2ca0-da4e-45e8-be92-0347cfc092c9",
   "metadata": {},
   "outputs": [],
   "source": [
    "## Read the raw json as a string\n",
    "path = \"/Users/gunnvantsaini/Library/CloudStorage/OneDrive-Personal/Work/Vired/Content/corp_trainings/tiger_analytics/data/sample_json.json\"\n",
    "with open(path,\"r\",encoding=\"utf-8\") as f:\n",
    "    raw_json = f.read()"
   ]
  },
  {
   "cell_type": "code",
   "execution_count": 77,
   "id": "08dd5102-0d57-4f2f-bd30-8157c04bbd0a",
   "metadata": {},
   "outputs": [
    {
     "data": {
      "text/plain": [
       "'{\\n  \"type\": \"FeatureCollection\",\\n  \"metadata\": {\\n    \"generated\": 1626859520000,\\n    \"url\": \"https://earthquake.usgs.gov/earthquakes/feed/v1.0/summary/all_hour.geojson\",\\n    \"title\": \"USGS All Earthquakes, Past Hour\",\\n    \"status\": 200,\\n    \"api\": \"1.10.3\",\\n    \"count\": 14\\n  },\\n  \"features\": [\\n    {\\n      \"type\": \"Feature\",\\n      \"properties\": {\\n        \"mag\": 2.1500001,\\n        \"place\": \"3 km ENE of Pāhala, Hawaii\",\\n        \"time\": 1626859250480,\\n        \"updated\": 1626859447300,\\n        \"tz\": null,\\n        \"url\": \"https://earthquake.usgs.gov/earthquakes/eventpage/hv72595567\",\\n        \"detail\": \"https://earthquake.usgs.gov/earthquakes/feed/v1.0/detail/hv72595567.geojson\",\\n        \"felt\": null,\\n        \"cdi\": null,\\n        \"mmi\": null,\\n        \"alert\": null,\\n        \"status\": \"automatic\",\\n        \"tsunami\": 0,\\n        \"sig\": 71,\\n        \"net\": \"hv\",\\n        \"code\": \"72595567\",\\n        \"ids\": \",hv72595567,\",\\n        \"sources\": \",hv,\",\\n        \"types\": \",origin,phase-data,\",\\n        \"nst'"
      ]
     },
     "execution_count": 77,
     "metadata": {},
     "output_type": "execute_result"
    }
   ],
   "source": [
    "raw_json[0:1000]"
   ]
  },
  {
   "cell_type": "code",
   "execution_count": 80,
   "id": "6f42d1f3-4f58-4322-b4fb-7612c3d1d22d",
   "metadata": {},
   "outputs": [],
   "source": [
    "import json"
   ]
  },
  {
   "cell_type": "code",
   "execution_count": 81,
   "id": "8e63d53a-bde2-4057-9d7d-1ed0602b3d23",
   "metadata": {},
   "outputs": [],
   "source": [
    "json_data = json.loads(raw_json)"
   ]
  },
  {
   "cell_type": "code",
   "execution_count": 82,
   "id": "1e711cbc-60f4-4731-9896-262f1b3ccfd5",
   "metadata": {},
   "outputs": [
    {
     "data": {
      "text/plain": [
       "dict"
      ]
     },
     "execution_count": 82,
     "metadata": {},
     "output_type": "execute_result"
    }
   ],
   "source": [
    "type(json_data)"
   ]
  },
  {
   "cell_type": "code",
   "execution_count": 83,
   "id": "f9fb301f-0b27-4431-b0e5-6d3eed5cf5b0",
   "metadata": {},
   "outputs": [
    {
     "data": {
      "text/plain": [
       "str"
      ]
     },
     "execution_count": 83,
     "metadata": {},
     "output_type": "execute_result"
    }
   ],
   "source": [
    "type(raw_json)"
   ]
  },
  {
   "cell_type": "code",
   "execution_count": 87,
   "id": "c49288d4-db32-4de4-b086-9f9f664bfef3",
   "metadata": {},
   "outputs": [
    {
     "data": {
      "text/plain": [
       "'FeatureCollection'"
      ]
     },
     "execution_count": 87,
     "metadata": {},
     "output_type": "execute_result"
    }
   ],
   "source": [
    "json_data['type']"
   ]
  },
  {
   "cell_type": "code",
   "execution_count": 88,
   "id": "02982b1f-e1cf-4e17-80f5-3fb2b241ca15",
   "metadata": {},
   "outputs": [
    {
     "data": {
      "text/plain": [
       "{'generated': 1626859520000,\n",
       " 'url': 'https://earthquake.usgs.gov/earthquakes/feed/v1.0/summary/all_hour.geojson',\n",
       " 'title': 'USGS All Earthquakes, Past Hour',\n",
       " 'status': 200,\n",
       " 'api': '1.10.3',\n",
       " 'count': 14}"
      ]
     },
     "execution_count": 88,
     "metadata": {},
     "output_type": "execute_result"
    }
   ],
   "source": [
    "json_data['metadata']"
   ]
  },
  {
   "cell_type": "code",
   "execution_count": 106,
   "id": "d68bac26-7473-4c54-b4c5-fdda8e471767",
   "metadata": {},
   "outputs": [],
   "source": [
    "mag = []\n",
    "loc = []\n",
    "lat = []\n",
    "lon = []\n",
    "for row in json_data['features']:\n",
    "    mag.append(row['properties']['mag'])\n",
    "    loc.append(row['properties']['place'])\n",
    "    lat.append(row['geometry']['coordinates'][1])\n",
    "    lon.append(row['geometry']['coordinates'][2])"
   ]
  },
  {
   "cell_type": "code",
   "execution_count": 118,
   "id": "987cb7f0-931a-4f2a-81a8-767a8161ab2c",
   "metadata": {},
   "outputs": [
    {
     "data": {
      "text/plain": [
       "2.1500001"
      ]
     },
     "execution_count": 118,
     "metadata": {},
     "output_type": "execute_result"
    }
   ],
   "source": [
    "json_data['features'][0]['properties']['mag']"
   ]
  },
  {
   "cell_type": "code",
   "execution_count": 121,
   "id": "d6a84e0a-a703-4558-bdb2-51ad83b0ddff",
   "metadata": {},
   "outputs": [
    {
     "data": {
      "text/plain": [
       "'3 km ENE of Pāhala, Hawaii'"
      ]
     },
     "execution_count": 121,
     "metadata": {},
     "output_type": "execute_result"
    }
   ],
   "source": [
    "json_data['features'][0]['properties']['place']"
   ]
  },
  {
   "cell_type": "code",
   "execution_count": 125,
   "id": "e53c595a-977c-4515-a856-10d2bf5323a0",
   "metadata": {},
   "outputs": [
    {
     "data": {
      "text/plain": [
       "19.2175006866455"
      ]
     },
     "execution_count": 125,
     "metadata": {},
     "output_type": "execute_result"
    }
   ],
   "source": [
    "json_data['features'][0]['geometry']['coordinates'][1]"
   ]
  },
  {
   "cell_type": "code",
   "execution_count": 126,
   "id": "8a7b9db1-5a29-46e2-b0b6-749d81e08b72",
   "metadata": {},
   "outputs": [
    {
     "data": {
      "text/plain": [
       "35.3600006103516"
      ]
     },
     "execution_count": 126,
     "metadata": {},
     "output_type": "execute_result"
    }
   ],
   "source": [
    "json_data['features'][0]['geometry']['coordinates'][2]"
   ]
  },
  {
   "cell_type": "code",
   "execution_count": 131,
   "id": "407598ba-cce4-48b9-a8f1-cdf81633cd38",
   "metadata": {},
   "outputs": [
    {
     "data": {
      "text/plain": [
       "{'type': 'Feature',\n",
       " 'properties': {'mag': 2.1500001,\n",
       "  'place': '3 km ENE of Pāhala, Hawaii',\n",
       "  'time': 1626859250480,\n",
       "  'updated': 1626859447300,\n",
       "  'tz': None,\n",
       "  'url': 'https://earthquake.usgs.gov/earthquakes/eventpage/hv72595567',\n",
       "  'detail': 'https://earthquake.usgs.gov/earthquakes/feed/v1.0/detail/hv72595567.geojson',\n",
       "  'felt': None,\n",
       "  'cdi': None,\n",
       "  'mmi': None,\n",
       "  'alert': None,\n",
       "  'status': 'automatic',\n",
       "  'tsunami': 0,\n",
       "  'sig': 71,\n",
       "  'net': 'hv',\n",
       "  'code': '72595567',\n",
       "  'ids': ',hv72595567,',\n",
       "  'sources': ',hv,',\n",
       "  'types': ',origin,phase-data,',\n",
       "  'nst': 44,\n",
       "  'dmin': None,\n",
       "  'rms': 0.100000001,\n",
       "  'gap': 113,\n",
       "  'magType': 'md',\n",
       "  'type': 'earthquake',\n",
       "  'title': 'M 2.2 - 3 km ENE of Pāhala, Hawaii'},\n",
       " 'geometry': {'type': 'Point',\n",
       "  'coordinates': [-155.451171875, 19.2175006866455, 35.3600006103516]},\n",
       " 'id': 'hv72595567'}"
      ]
     },
     "execution_count": 131,
     "metadata": {},
     "output_type": "execute_result"
    }
   ],
   "source": [
    "json_data['features'][0]"
   ]
  },
  {
   "cell_type": "code",
   "execution_count": null,
   "id": "e6df4055-38f4-4e06-af2b-08270b3d15a6",
   "metadata": {},
   "outputs": [],
   "source": []
  }
 ],
 "metadata": {
  "kernelspec": {
   "display_name": "Python 3 (ipykernel)",
   "language": "python",
   "name": "python3"
  },
  "language_info": {
   "codemirror_mode": {
    "name": "ipython",
    "version": 3
   },
   "file_extension": ".py",
   "mimetype": "text/x-python",
   "name": "python",
   "nbconvert_exporter": "python",
   "pygments_lexer": "ipython3",
   "version": "3.9.10"
  }
 },
 "nbformat": 4,
 "nbformat_minor": 5
}
