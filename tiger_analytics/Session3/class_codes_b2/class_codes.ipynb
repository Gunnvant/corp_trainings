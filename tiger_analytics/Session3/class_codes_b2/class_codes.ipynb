{
 "cells": [
  {
   "cell_type": "markdown",
   "id": "787bd3dc-e295-49d4-b186-c28b4757b660",
   "metadata": {},
   "source": [
    "## File objects\n",
    "- How to read files (text) files using `open()`\n",
    "- How to read files and manipulate data using `csv` module\n",
    "- How to handle raw json files and convert them into a table"
   ]
  },
  {
   "cell_type": "code",
   "execution_count": 1,
   "id": "7444ff1b-6ae6-4627-9aca-847f1a84f6e7",
   "metadata": {},
   "outputs": [],
   "source": [
    "path=r\"/Users/gunnvantsaini/Library/CloudStorage/OneDrive-Personal/Work/Vired/Content/corp_trainings/tiger_analytics/data/file_data.csv\"\n",
    "con = open(path,\"r\")"
   ]
  },
  {
   "cell_type": "markdown",
   "id": "8cc9c273-8433-4837-9b99-0ed1259c9868",
   "metadata": {},
   "source": [
    "r-> read connection\n",
    "\n",
    "w -> write\n",
    "\n",
    "rb->read binary\n",
    "\n",
    "wb->write binary"
   ]
  },
  {
   "cell_type": "code",
   "execution_count": 2,
   "id": "f59b34c4-4251-465a-a0d6-b379007e920b",
   "metadata": {},
   "outputs": [],
   "source": [
    "data = con.read()"
   ]
  },
  {
   "cell_type": "code",
   "execution_count": 3,
   "id": "8f9ec458-7edc-4405-9c09-bd05644db974",
   "metadata": {},
   "outputs": [],
   "source": [
    "con.close()"
   ]
  },
  {
   "cell_type": "code",
   "execution_count": 4,
   "id": "f4555105-7108-4c53-ae3a-bb0e34268a1e",
   "metadata": {},
   "outputs": [
    {
     "data": {
      "text/plain": [
       "str"
      ]
     },
     "execution_count": 4,
     "metadata": {},
     "output_type": "execute_result"
    }
   ],
   "source": [
    "type(data)"
   ]
  },
  {
   "cell_type": "code",
   "execution_count": 5,
   "id": "01d2c8a4-dc33-4831-85f4-dccb7cfc0fbd",
   "metadata": {},
   "outputs": [
    {
     "data": {
      "text/plain": [
       "',sensor_id,time,incoming,outgoing,range,date,hour,minute,total,location_name\\n0,52,2021-06-17 07:07:11.937082+00:00,0,2,1min,2021-06-17,7,7,2,reitan_7eleven_carlberner\\n1,52,2021-06-17 07:07:51.166361+00:00,1,0,1min,2021-06-17,7,7,1,reitan_7eleven_carlberner\\n2,52,2021-06-17 07:09:48.861997+00:00,0,1,1min,2021-06-17,7,9,1,reitan_7eleven_carlberner\\n3,52,2021-06-17 07:10:40.197648+00:00,1,0,1min,2021-06-17,7,10,1,reitan_7eleven_carlberner\\n4,52,2021-06-17 07:11:49.664105+00:00,0,1,1min,2021-06-17,7,11,1,reitan_7eleven_carlberner\\n5,52,2021-06-17 07:14:20.731722+00:00,1,0,1min,2021-06-17,7,14,1,reitan_7eleven_carlberner\\n6,52,2021-06-17 07:16:27.575491+00:00,0,1,1min,2021-06-17,7,16,1,reitan_7eleven_carlberner\\n7,52,2021-06-17 07:17:21.919449+00:00,1,0,1min,2021-06-17,7,17,1,reitan_7eleven_carlberner\\n8,52,2021-06-17 07:17:52.122774+00:00,0,1,1min,2021-06-17,7,17,1,reitan_7eleven_carlberner\\n9,52,2021-06-17 07:19:58.885012+00:00,1,0,1min,2021-06-17,7,19,1,reitan_7eleven_carlberner\\n10,52,2021-06-17'"
      ]
     },
     "execution_count": 5,
     "metadata": {},
     "output_type": "execute_result"
    }
   ],
   "source": [
    "data[0:1000] ## fetch data for row 2."
   ]
  },
  {
   "cell_type": "code",
   "execution_count": 9,
   "id": "7c3cd1e9-2eb0-48db-8803-448f4a15fc96",
   "metadata": {},
   "outputs": [
    {
     "data": {
      "text/plain": [
       "'1,52,2021-06-17 07:07:51.166361+00:00,1,0,1min,2021-06-17,7,7,1,reitan_7eleven_carlberner'"
      ]
     },
     "execution_count": 9,
     "metadata": {},
     "output_type": "execute_result"
    }
   ],
   "source": [
    "data[0:1000].split(\"\\n\")[2]"
   ]
  },
  {
   "cell_type": "code",
   "execution_count": 11,
   "id": "c91ec8f7-41a1-4ee4-a8a7-dc9aed3b3bb1",
   "metadata": {},
   "outputs": [
    {
     "data": {
      "text/plain": [
       "'52'"
      ]
     },
     "execution_count": 11,
     "metadata": {},
     "output_type": "execute_result"
    }
   ],
   "source": [
    "data[0:1000].split(\"\\n\")[2].split(\",\")[1]"
   ]
  },
  {
   "cell_type": "code",
   "execution_count": 6,
   "id": "7ae53689-c34f-4a74-b2b6-cba6244c0021",
   "metadata": {},
   "outputs": [
    {
     "name": "stdout",
     "output_type": "stream",
     "text": [
      ",sensor_id,time,incoming,outgoing,range,date,hour,minute,total,location_name\n",
      "0,52,2021-06-17 07:07:11.937082+00:00,0,2,1min,2021-06-17,7,7,2,reitan_7eleven_carlberner\n",
      "1,52,2021-06-17 07:07:51.166361+00:00,1,0,1min,2021-06-17,7,7,1,reitan_7eleven_carlberner\n",
      "2,52,2021-06-17 07:09:48.861997+00:00,0,1,1min,2021-06-17,7,9,1,reitan_7eleven_carlberner\n",
      "3,52,2021-06-17 07:10:40.197648+00:00,1,0,1min,2021-06-17,7,10,1,reitan_7eleven_carlberner\n",
      "4,52,2021-06-17 07:11:49.664105+00:00,0,1,1min,2021-06-17,7,11,1,reitan_7eleven_carlberner\n",
      "5,52,2021-06-17 07:14:20.731722+00:00,1,0,1min,2021-06-17,7,14,1,reitan_7eleven_carlberner\n",
      "6,52,2021-06-17 07:16:27.575491+00:00,0,1,1min,2021-06-17,7,16,1,reitan_7eleven_carlberner\n",
      "7,52,2021-06-17 07:17:21.919449+00:00,1,0,1min,2021-06-17,7,17,1,reitan_7eleven_carlberner\n",
      "8,52,2021-06-17 07:17:52.122774+00:00,0,1,1min,2021-06-17,7,17,1,reitan_7eleven_carlberner\n",
      "9,52,2021-06-17 07:19:58.885012+00:00,1,0,1min,2021-06-17,7,19,1,reitan_7eleven_carlberner\n",
      "10,52,2021-06-17\n"
     ]
    }
   ],
   "source": [
    "print(data[0:1000])"
   ]
  },
  {
   "cell_type": "code",
   "execution_count": 12,
   "id": "0f8823b7-9ac3-43bf-9979-2213ed544def",
   "metadata": {},
   "outputs": [],
   "source": [
    "con = open(path,\"r\")\n",
    "data = con.readlines()\n",
    "con.close()"
   ]
  },
  {
   "cell_type": "code",
   "execution_count": 13,
   "id": "0435eb2d-f128-40bd-a5a9-191f3a306d81",
   "metadata": {},
   "outputs": [
    {
     "data": {
      "text/plain": [
       "list"
      ]
     },
     "execution_count": 13,
     "metadata": {},
     "output_type": "execute_result"
    }
   ],
   "source": [
    "type(data)"
   ]
  },
  {
   "cell_type": "code",
   "execution_count": 14,
   "id": "ee2f5964-2c0d-4d1f-b21c-8a0d7e858143",
   "metadata": {},
   "outputs": [
    {
     "data": {
      "text/plain": [
       "[',sensor_id,time,incoming,outgoing,range,date,hour,minute,total,location_name\\n',\n",
       " '0,52,2021-06-17 07:07:11.937082+00:00,0,2,1min,2021-06-17,7,7,2,reitan_7eleven_carlberner\\n',\n",
       " '1,52,2021-06-17 07:07:51.166361+00:00,1,0,1min,2021-06-17,7,7,1,reitan_7eleven_carlberner\\n',\n",
       " '2,52,2021-06-17 07:09:48.861997+00:00,0,1,1min,2021-06-17,7,9,1,reitan_7eleven_carlberner\\n',\n",
       " '3,52,2021-06-17 07:10:40.197648+00:00,1,0,1min,2021-06-17,7,10,1,reitan_7eleven_carlberner\\n']"
      ]
     },
     "execution_count": 14,
     "metadata": {},
     "output_type": "execute_result"
    }
   ],
   "source": [
    "data[0:5]"
   ]
  },
  {
   "cell_type": "code",
   "execution_count": 24,
   "id": "1917b289-9c7e-488a-9c96-113e2c4f7325",
   "metadata": {},
   "outputs": [],
   "source": [
    "### write a function to get only the column names?\n",
    "def get_columns(data):\n",
    "    return data[0].strip().split(\",\")    "
   ]
  },
  {
   "cell_type": "code",
   "execution_count": 25,
   "id": "42c9b8cf-590e-4095-9319-5a10db654540",
   "metadata": {},
   "outputs": [
    {
     "data": {
      "text/plain": [
       "['',\n",
       " 'sensor_id',\n",
       " 'time',\n",
       " 'incoming',\n",
       " 'outgoing',\n",
       " 'range',\n",
       " 'date',\n",
       " 'hour',\n",
       " 'minute',\n",
       " 'total',\n",
       " 'location_name']"
      ]
     },
     "execution_count": 25,
     "metadata": {},
     "output_type": "execute_result"
    }
   ],
   "source": [
    "get_columns(data)"
   ]
  },
  {
   "cell_type": "markdown",
   "id": "f597578f-d44b-401a-ad3b-850c7f6db587",
   "metadata": {},
   "source": [
    "### Store the data in separate lists for:\n",
    "- sensor_id\n",
    "- time\n",
    "- incoming\n",
    "- ..."
   ]
  },
  {
   "cell_type": "code",
   "execution_count": 30,
   "id": "a58d2c70-9b69-4cc4-8a4b-2c3a81a7d47a",
   "metadata": {},
   "outputs": [],
   "source": [
    "sensor_id = []\n",
    "time = []\n",
    "incoming = []\n",
    "outgoing = []\n",
    "Range = []\n",
    "date = []\n",
    "hr = []\n",
    "minute = []\n",
    "total = []\n",
    "loc = []\n",
    "for row in data[1:]:\n",
    "    row_vals = row.strip().split(\",\")\n",
    "    sensor_id.append(int(row_vals[1]))\n",
    "    time.append(row_vals[2])\n",
    "    incoming.append(int(row_vals[3]))\n",
    "    outgoing.append(int(row_vals[4]))\n",
    "    Range.append(row_vals[5])\n",
    "    date.append(row_vals[6])\n",
    "    hr.append(row_vals[7])\n",
    "    minute.append(row_vals[8])\n",
    "    total.append(row_vals[9])\n",
    "    loc.append(row_vals[10])"
   ]
  },
  {
   "cell_type": "code",
   "execution_count": 41,
   "id": "b0bdb58b-a185-478b-a9c5-4390b45841e8",
   "metadata": {},
   "outputs": [],
   "source": [
    "d = {}\n",
    "for i in get_columns(data):\n",
    "    d[i] = []"
   ]
  },
  {
   "cell_type": "code",
   "execution_count": 42,
   "id": "7f7c8d07-2db9-46e1-a6a8-7c3eaa1f584a",
   "metadata": {},
   "outputs": [
    {
     "data": {
      "text/plain": [
       "{'': [],\n",
       " 'sensor_id': [],\n",
       " 'time': [],\n",
       " 'incoming': [],\n",
       " 'outgoing': [],\n",
       " 'range': [],\n",
       " 'date': [],\n",
       " 'hour': [],\n",
       " 'minute': [],\n",
       " 'total': [],\n",
       " 'location_name': []}"
      ]
     },
     "execution_count": 42,
     "metadata": {},
     "output_type": "execute_result"
    }
   ],
   "source": [
    "d"
   ]
  },
  {
   "cell_type": "code",
   "execution_count": 38,
   "id": "03cf0256-71c9-49f7-be85-05c4b2150322",
   "metadata": {},
   "outputs": [
    {
     "name": "stdout",
     "output_type": "stream",
     "text": [
      "a d\n",
      "b e\n",
      "c f\n"
     ]
    }
   ],
   "source": [
    "l1=['a','b','c']\n",
    "l2 = ['d','e','f']\n",
    "for v1,v2 in zip(l1,l2):\n",
    "    print(v1,v2)"
   ]
  },
  {
   "cell_type": "code",
   "execution_count": 43,
   "id": "8a86606d-4ef8-4ea3-a116-7f85a43eb79a",
   "metadata": {},
   "outputs": [],
   "source": [
    "d = {}\n",
    "for i in get_columns(data):\n",
    "    d[i] = []\n",
    "for row in data[1:]:\n",
    "    row_values = row.split(\",\")\n",
    "    for val,col_name in zip(row_values,get_columns(data)):\n",
    "        d[col_name].append(val)"
   ]
  },
  {
   "cell_type": "code",
   "execution_count": 48,
   "id": "2e574547-f922-447b-99fc-4181811ba07a",
   "metadata": {},
   "outputs": [
    {
     "name": "stdout",
     "output_type": "stream",
     "text": [
      "age 26\n",
      "name abc\n",
      "gender f\n"
     ]
    }
   ],
   "source": [
    "col_name = ['age','name','gender']\n",
    "row =[26,'abc','f']\n",
    "for name,val in zip(col_name,row):\n",
    "    print(name,val)"
   ]
  },
  {
   "cell_type": "markdown",
   "id": "4feb7bc7-a91e-4459-8024-a0c4abc499e3",
   "metadata": {},
   "source": [
    "### Count the number of times the outgoing was more than incoming"
   ]
  },
  {
   "cell_type": "code",
   "execution_count": 53,
   "id": "58ecedd3-20cc-4123-aa23-5fb06d9ffd53",
   "metadata": {},
   "outputs": [
    {
     "name": "stdout",
     "output_type": "stream",
     "text": [
      "426\n"
     ]
    }
   ],
   "source": [
    "count = 0\n",
    "for In, Out in zip(incoming,outgoing):\n",
    "    if Out>In:\n",
    "        count = count+1\n",
    "print(count)    "
   ]
  },
  {
   "cell_type": "markdown",
   "id": "f3de93e2-7381-4dc2-9378-44d31b5891fd",
   "metadata": {},
   "source": [
    "### Find the average of the column total from 11PM to 11:45 PM on 2021-06-18?"
   ]
  },
  {
   "cell_type": "code",
   "execution_count": 65,
   "id": "7a08d7f1-c4eb-4276-b7df-2da14c495cc5",
   "metadata": {},
   "outputs": [],
   "source": [
    "## total, date, hour and minute\n",
    "## Average = sum(total)/n, counter\n",
    "c=0\n",
    "tot = 0\n",
    "for t,d,h,m in zip(total,date,hr,minute):\n",
    "    if d == '2021-06-18' and int(h)==23 and int(m)<=45:\n",
    "        c=c+1\n",
    "        tot=tot+int(t)        "
   ]
  },
  {
   "cell_type": "code",
   "execution_count": 66,
   "id": "d7843aee-3c15-46ae-bf9a-a4679f79ebc9",
   "metadata": {},
   "outputs": [
    {
     "data": {
      "text/plain": [
       "5"
      ]
     },
     "execution_count": 66,
     "metadata": {},
     "output_type": "execute_result"
    }
   ],
   "source": [
    "c"
   ]
  },
  {
   "cell_type": "code",
   "execution_count": 67,
   "id": "fee7cd41-b74d-4d2e-89da-db22eb59071d",
   "metadata": {},
   "outputs": [
    {
     "data": {
      "text/plain": [
       "5"
      ]
     },
     "execution_count": 67,
     "metadata": {},
     "output_type": "execute_result"
    }
   ],
   "source": [
    "tot"
   ]
  },
  {
   "cell_type": "code",
   "execution_count": 68,
   "id": "67fd6845-b222-4666-a22f-ae08094ab50d",
   "metadata": {},
   "outputs": [
    {
     "data": {
      "text/plain": [
       "1.0"
      ]
     },
     "execution_count": 68,
     "metadata": {},
     "output_type": "execute_result"
    }
   ],
   "source": [
    "tot/c"
   ]
  },
  {
   "cell_type": "markdown",
   "id": "cb199ecb-6249-403a-abc6-ef164db35a00",
   "metadata": {},
   "source": [
    "### `csv` module"
   ]
  },
  {
   "cell_type": "code",
   "execution_count": 69,
   "id": "8b385e1f-2073-4430-9e11-9f6694ba24e5",
   "metadata": {},
   "outputs": [],
   "source": [
    "import csv"
   ]
  },
  {
   "cell_type": "markdown",
   "id": "3d637e19-79a8-4b8e-8382-9e8705f1654b",
   "metadata": {},
   "source": [
    "```python\n",
    "con = open(path,\"r\")\n",
    "....\n",
    "con.close\n",
    "```"
   ]
  },
  {
   "cell_type": "code",
   "execution_count": 71,
   "id": "83b66592-c548-4bd6-98d6-d79188204423",
   "metadata": {},
   "outputs": [],
   "source": [
    "with open(path,\"r\") as con:\n",
    "    data1 = con.read()\n",
    "## I don't have to close the connection manually"
   ]
  },
  {
   "cell_type": "code",
   "execution_count": 72,
   "id": "b694e6a0-728e-49bd-926e-46f59e24c6c0",
   "metadata": {},
   "outputs": [
    {
     "name": "stdout",
     "output_type": "stream",
     "text": [
      "['', 'sensor_id', 'time', 'incoming', 'outgoing', 'range', 'date', 'hour', 'minute', 'total', 'location_name']\n",
      "['0', '52', '2021-06-17 07:07:11.937082+00:00', '0', '2', '1min', '2021-06-17', '7', '7', '2', 'reitan_7eleven_carlberner']\n",
      "['1', '52', '2021-06-17 07:07:51.166361+00:00', '1', '0', '1min', '2021-06-17', '7', '7', '1', 'reitan_7eleven_carlberner']\n",
      "['2', '52', '2021-06-17 07:09:48.861997+00:00', '0', '1', '1min', '2021-06-17', '7', '9', '1', 'reitan_7eleven_carlberner']\n",
      "['3', '52', '2021-06-17 07:10:40.197648+00:00', '1', '0', '1min', '2021-06-17', '7', '10', '1', 'reitan_7eleven_carlberner']\n"
     ]
    }
   ],
   "source": [
    "counter = 0\n",
    "with open(path,\"r\") as con:\n",
    "    reader = csv.reader(con,delimiter = \",\")\n",
    "    for row in reader:\n",
    "        counter = counter+1\n",
    "        print(row)\n",
    "        if counter == 5:\n",
    "            break"
   ]
  },
  {
   "cell_type": "code",
   "execution_count": 74,
   "id": "e3417b2c-48cc-4ef4-9cb6-cd2069654229",
   "metadata": {},
   "outputs": [
    {
     "name": "stdout",
     "output_type": "stream",
     "text": [
      "2021-06-17 07:07:11.937082+00:00 0 1min\n",
      "2021-06-17 07:07:51.166361+00:00 1 1min\n",
      "2021-06-17 07:09:48.861997+00:00 0 1min\n",
      "2021-06-17 07:10:40.197648+00:00 1 1min\n",
      "2021-06-17 07:11:49.664105+00:00 0 1min\n"
     ]
    }
   ],
   "source": [
    "counter = 0\n",
    "with open(path,\"r\") as con:\n",
    "    reader = csv.DictReader(con,delimiter = \",\")\n",
    "    for row in reader:\n",
    "        counter = counter+1\n",
    "        print(row['time'],row['incoming'],row['range'])\n",
    "        if counter == 5:\n",
    "            break"
   ]
  },
  {
   "cell_type": "code",
   "execution_count": 76,
   "id": "8e358114-07ee-4761-958e-e5653b16b569",
   "metadata": {},
   "outputs": [
    {
     "name": "stdout",
     "output_type": "stream",
     "text": [
      "{'Tweet_Date': 'Thu Dec 26 123415 0000 2013', 'Tweet_Text': 'ashdubey ratigirl FirstpostBiz First economic move by AamAadmiParty  How come it has gone down in Guj', 'Tweet_Handle': 'maverickenator'}\n",
      "{'Tweet_Date': 'Thu Dec 26 123413 0000 2013', 'Tweet_Text': 'RT anandpassion Growing popularity can seen as AAP websites Rank 275 in India highest ever for a political party JoinAAP ankitlal Aam', 'Tweet_Handle': 'aapkask'}\n",
      "{'Tweet_Date': 'Thu Dec 26 123402 0000 2013', 'Tweet_Text': 'RT anandpassion Growing popularity can seen as AAP websites Rank 275 in India highest ever for a political party JoinAAP ankitlal Aam', 'Tweet_Handle': 'arpshalder'}\n",
      "{'Tweet_Date': 'Thu Dec 26 123354 0000 2013', 'Tweet_Text': 'ArvindKejriwal AapYogendra AamAadmiParty I hope your party realizes why the likes of alkalamba are trying to join AAP now Be careful', 'Tweet_Handle': 'GargaC'}\n",
      "{'Tweet_Date': 'Thu Dec 26 123351 0000 2013', 'Tweet_Text': 'RT ssttuuttii Press Conference AamAadmiParty Application form for candidature for LS2014 is being uploaded at website AAP4India http', 'Tweet_Handle': 'kejriwalfanclub'}\n"
     ]
    }
   ],
   "source": [
    "path = \"/Users/gunnvantsaini/Library/CloudStorage/OneDrive-Personal/Work/Vired/Content/corp_trainings/tiger_analytics/data/tweets_assignment.txt\"\n",
    "counter = 0\n",
    "with open(path,\"r\") as con:\n",
    "    reader = csv.DictReader(con,delimiter = \"|\")\n",
    "    for row in reader:\n",
    "        counter = counter+1\n",
    "        print(row)\n",
    "        if counter == 5:\n",
    "            break"
   ]
  },
  {
   "cell_type": "code",
   "execution_count": 88,
   "id": "bceec28e-0236-442e-acfe-38b917ac06ce",
   "metadata": {},
   "outputs": [],
   "source": [
    "### Find out the distinct/unique days peresent in the \"Tweet Date column\"\n",
    "Days = []\n",
    "path = \"/Users/gunnvantsaini/Library/CloudStorage/OneDrive-Personal/Work/Vired/Content/corp_trainings/tiger_analytics/data/tweets_assignment.txt\"\n",
    "with open(path,\"r\") as con:\n",
    "    reader = csv.DictReader(con,delimiter = \"|\")\n",
    "    for row in reader:\n",
    "        day_list = row['Tweet_Date'].split()[0:3]\n",
    "        day_vals = day_list[0]+\" \"+day_list[1]+\" \"+day_list[2]\n",
    "        if day_vals not in Days:\n",
    "            Days.append(day_vals)\n",
    "    "
   ]
  },
  {
   "cell_type": "code",
   "execution_count": 87,
   "id": "b1b735fd-5450-43b2-99bb-56c44755ef8b",
   "metadata": {},
   "outputs": [
    {
     "data": {
      "text/plain": [
       "{'Mon Dec 23', 'Thu Dec 26', 'Tue Dec 24', 'Wed Dec 25'}"
      ]
     },
     "execution_count": 87,
     "metadata": {},
     "output_type": "execute_result"
    }
   ],
   "source": [
    "set(Days) ## if we populate the list with all row values"
   ]
  },
  {
   "cell_type": "code",
   "execution_count": 89,
   "id": "d9970f0b-53d6-4140-97bb-b8f4365d0cde",
   "metadata": {},
   "outputs": [
    {
     "data": {
      "text/plain": [
       "['Thu Dec 26', 'Wed Dec 25', 'Tue Dec 24', 'Mon Dec 23']"
      ]
     },
     "execution_count": 89,
     "metadata": {},
     "output_type": "execute_result"
    }
   ],
   "source": [
    "Days"
   ]
  },
  {
   "cell_type": "code",
   "execution_count": 96,
   "id": "39c19122-6292-4c0a-853f-6796b6879069",
   "metadata": {},
   "outputs": [],
   "source": [
    "counts = {k:0 for k in Days}"
   ]
  },
  {
   "cell_type": "code",
   "execution_count": 97,
   "id": "8f14cbe3-0311-4ae9-a926-5567bb5add24",
   "metadata": {},
   "outputs": [
    {
     "data": {
      "text/plain": [
       "{'Thu Dec 26': 0, 'Wed Dec 25': 0, 'Tue Dec 24': 0, 'Mon Dec 23': 0}"
      ]
     },
     "execution_count": 97,
     "metadata": {},
     "output_type": "execute_result"
    }
   ],
   "source": [
    "counts"
   ]
  },
  {
   "cell_type": "code",
   "execution_count": 98,
   "id": "76146d37-03ba-4995-a76a-d0c24b52ca6f",
   "metadata": {},
   "outputs": [],
   "source": [
    "## Count how many tweets were done in each day\n",
    "path = \"/Users/gunnvantsaini/Library/CloudStorage/OneDrive-Personal/Work/Vired/Content/corp_trainings/tiger_analytics/data/tweets_assignment.txt\"\n",
    "with open(path,\"r\") as con:\n",
    "    reader = csv.DictReader(con,delimiter = \"|\")\n",
    "    for row in reader:\n",
    "        if row['Tweet_Date'].startswith(\"Thu Dec 26\"):\n",
    "            counts['Thu Dec 26']=counts['Thu Dec 26']+1\n",
    "        if row['Tweet_Date'].startswith(\"Wed Dec 25\"):\n",
    "            counts['Wed Dec 25']=counts['Wed Dec 25']+1\n",
    "        if row['Tweet_Date'].startswith(\"Tue Dec 24\"):\n",
    "            counts['Tue Dec 24']=counts['Tue Dec 24']+1\n",
    "        if row['Tweet_Date'].startswith(\"Mon Dec 23\"):\n",
    "            counts['Mon Dec 23']=counts['Mon Dec 23']+1      "
   ]
  },
  {
   "cell_type": "code",
   "execution_count": 99,
   "id": "b6ab6def-261d-421f-940c-e780b29ee405",
   "metadata": {},
   "outputs": [
    {
     "data": {
      "text/plain": [
       "{'Thu Dec 26': 1999,\n",
       " 'Wed Dec 25': 3103,\n",
       " 'Tue Dec 24': 4079,\n",
       " 'Mon Dec 23': 5092}"
      ]
     },
     "execution_count": 99,
     "metadata": {},
     "output_type": "execute_result"
    }
   ],
   "source": [
    "counts"
   ]
  },
  {
   "cell_type": "markdown",
   "id": "cb1b7a97-d262-4638-a023-ed30c88a578e",
   "metadata": {},
   "source": [
    "### JSON Data"
   ]
  },
  {
   "cell_type": "code",
   "execution_count": 100,
   "id": "e66bd1d4-93b1-4116-95bc-3e5ece7607ba",
   "metadata": {},
   "outputs": [],
   "source": [
    "import json"
   ]
  },
  {
   "cell_type": "code",
   "execution_count": 101,
   "id": "eed72892-d6e1-42c9-b70b-f8fec163ccb7",
   "metadata": {},
   "outputs": [],
   "source": [
    "path = \"/Users/gunnvantsaini/Library/CloudStorage/OneDrive-Personal/Work/Vired/Content/corp_trainings/tiger_analytics/data/sample_json.json\""
   ]
  },
  {
   "cell_type": "code",
   "execution_count": 104,
   "id": "3f441efa-c139-4755-8f6c-6047e4151925",
   "metadata": {},
   "outputs": [],
   "source": [
    "with open(path,\"r\",encoding=\"utf-8\") as con:\n",
    "    raw_data = con.read()"
   ]
  },
  {
   "cell_type": "code",
   "execution_count": 107,
   "id": "1c69633b-d344-412c-849d-c75ad3b10caf",
   "metadata": {},
   "outputs": [
    {
     "data": {
      "text/plain": [
       "str"
      ]
     },
     "execution_count": 107,
     "metadata": {},
     "output_type": "execute_result"
    }
   ],
   "source": [
    "type(raw_data)"
   ]
  },
  {
   "cell_type": "code",
   "execution_count": 108,
   "id": "0f4f8283-08b8-4b21-957a-22ebc8dac5af",
   "metadata": {},
   "outputs": [],
   "source": [
    "data=json.loads(raw_data)"
   ]
  },
  {
   "cell_type": "code",
   "execution_count": 109,
   "id": "fa59893a-f749-4c8e-8c62-253026fbfe01",
   "metadata": {},
   "outputs": [
    {
     "data": {
      "text/plain": [
       "dict"
      ]
     },
     "execution_count": 109,
     "metadata": {},
     "output_type": "execute_result"
    }
   ],
   "source": [
    "type(data)"
   ]
  },
  {
   "cell_type": "code",
   "execution_count": 111,
   "id": "f3a54702-2b26-45ec-8f8d-b2c7a215dfb3",
   "metadata": {},
   "outputs": [
    {
     "data": {
      "text/plain": [
       "'FeatureCollection'"
      ]
     },
     "execution_count": 111,
     "metadata": {},
     "output_type": "execute_result"
    }
   ],
   "source": [
    "data['type']"
   ]
  },
  {
   "cell_type": "code",
   "execution_count": 112,
   "id": "d97202c1-69e6-429b-ac84-f65afcbb6a26",
   "metadata": {},
   "outputs": [
    {
     "data": {
      "text/plain": [
       "dict_keys(['type', 'metadata', 'features', 'bbox'])"
      ]
     },
     "execution_count": 112,
     "metadata": {},
     "output_type": "execute_result"
    }
   ],
   "source": [
    "data.keys()"
   ]
  },
  {
   "cell_type": "code",
   "execution_count": 113,
   "id": "7f37f69a-f899-4915-9b2c-f6aed6c389a5",
   "metadata": {},
   "outputs": [
    {
     "data": {
      "text/plain": [
       "{'generated': 1626859520000,\n",
       " 'url': 'https://earthquake.usgs.gov/earthquakes/feed/v1.0/summary/all_hour.geojson',\n",
       " 'title': 'USGS All Earthquakes, Past Hour',\n",
       " 'status': 200,\n",
       " 'api': '1.10.3',\n",
       " 'count': 14}"
      ]
     },
     "execution_count": 113,
     "metadata": {},
     "output_type": "execute_result"
    }
   ],
   "source": [
    "data['metadata']"
   ]
  },
  {
   "cell_type": "code",
   "execution_count": 115,
   "id": "5407487d-1908-4366-96bc-bbe8c205c7cb",
   "metadata": {},
   "outputs": [
    {
     "data": {
      "text/plain": [
       "list"
      ]
     },
     "execution_count": 115,
     "metadata": {},
     "output_type": "execute_result"
    }
   ],
   "source": [
    "type(data['features'])"
   ]
  },
  {
   "cell_type": "code",
   "execution_count": 117,
   "id": "3f0d945d-31a5-449f-8ced-88ec709cc698",
   "metadata": {},
   "outputs": [
    {
     "data": {
      "text/plain": [
       "14"
      ]
     },
     "execution_count": 117,
     "metadata": {},
     "output_type": "execute_result"
    }
   ],
   "source": [
    "len(data['features'])"
   ]
  },
  {
   "cell_type": "code",
   "execution_count": 116,
   "id": "2d459ab0-994a-4b17-b63b-ba47d714354f",
   "metadata": {},
   "outputs": [
    {
     "data": {
      "text/plain": [
       "{'type': 'Feature',\n",
       " 'properties': {'mag': 2.1500001,\n",
       "  'place': '3 km ENE of Pāhala, Hawaii',\n",
       "  'time': 1626859250480,\n",
       "  'updated': 1626859447300,\n",
       "  'tz': None,\n",
       "  'url': 'https://earthquake.usgs.gov/earthquakes/eventpage/hv72595567',\n",
       "  'detail': 'https://earthquake.usgs.gov/earthquakes/feed/v1.0/detail/hv72595567.geojson',\n",
       "  'felt': None,\n",
       "  'cdi': None,\n",
       "  'mmi': None,\n",
       "  'alert': None,\n",
       "  'status': 'automatic',\n",
       "  'tsunami': 0,\n",
       "  'sig': 71,\n",
       "  'net': 'hv',\n",
       "  'code': '72595567',\n",
       "  'ids': ',hv72595567,',\n",
       "  'sources': ',hv,',\n",
       "  'types': ',origin,phase-data,',\n",
       "  'nst': 44,\n",
       "  'dmin': None,\n",
       "  'rms': 0.100000001,\n",
       "  'gap': 113,\n",
       "  'magType': 'md',\n",
       "  'type': 'earthquake',\n",
       "  'title': 'M 2.2 - 3 km ENE of Pāhala, Hawaii'},\n",
       " 'geometry': {'type': 'Point',\n",
       "  'coordinates': [-155.451171875, 19.2175006866455, 35.3600006103516]},\n",
       " 'id': 'hv72595567'}"
      ]
     },
     "execution_count": 116,
     "metadata": {},
     "output_type": "execute_result"
    }
   ],
   "source": [
    "data['features'][0]"
   ]
  },
  {
   "cell_type": "code",
   "execution_count": 121,
   "id": "8fd49042-20e4-458e-a10b-09787f15263e",
   "metadata": {},
   "outputs": [
    {
     "name": "stdout",
     "output_type": "stream",
     "text": [
      "2.1500001\n",
      "1.71\n",
      "2.16000009\n",
      "1.2\n",
      "1\n",
      "1.62\n",
      "0.9\n",
      "1.7\n",
      "1.45\n",
      "1\n",
      "0.8\n",
      "2.04\n",
      "1.1\n",
      "0.38\n"
     ]
    }
   ],
   "source": [
    "## Magnitude, url and name of place\n",
    "for i in data['features']:\n",
    "    print(i['properties']['mag'])"
   ]
  },
  {
   "cell_type": "code",
   "execution_count": null,
   "id": "85442a90-96fb-4725-bf40-00101142b3d0",
   "metadata": {},
   "outputs": [],
   "source": []
  }
 ],
 "metadata": {
  "kernelspec": {
   "display_name": "Python 3 (ipykernel)",
   "language": "python",
   "name": "python3"
  },
  "language_info": {
   "codemirror_mode": {
    "name": "ipython",
    "version": 3
   },
   "file_extension": ".py",
   "mimetype": "text/x-python",
   "name": "python",
   "nbconvert_exporter": "python",
   "pygments_lexer": "ipython3",
   "version": "3.9.10"
  }
 },
 "nbformat": 4,
 "nbformat_minor": 5
}
