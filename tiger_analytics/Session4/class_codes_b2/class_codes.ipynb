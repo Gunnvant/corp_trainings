{
 "cells": [
  {
   "cell_type": "markdown",
   "id": "cc1d14ca-992f-43d9-bee9-660d5d60acd5",
   "metadata": {},
   "source": [
    "### OOPs in python\n",
    "- methods\n",
    "- attributes\n",
    "- constructor\n",
    "- examples (ETL)\n",
    "\n",
    "### Pandas: SQL like tasks in python"
   ]
  },
  {
   "cell_type": "code",
   "execution_count": 1,
   "id": "aded5bfd-0d2a-4d25-bd4c-7e6708a6c0a0",
   "metadata": {},
   "outputs": [],
   "source": [
    "#### Create a class that can\n",
    "# stores the balance information\n",
    "# name\n",
    "\n",
    "class Account():\n",
    "    def __init__(self,balance,name):\n",
    "        self.balance = balance\n",
    "        self.name = name"
   ]
  },
  {
   "cell_type": "code",
   "execution_count": 2,
   "id": "1544a002-57fa-4a2f-9a18-13c78a2a91d7",
   "metadata": {},
   "outputs": [],
   "source": [
    "p1 = Account(balance = 400, name=\"abc\")\n",
    "p2 = Account(balance = 600, name=\"def\")"
   ]
  },
  {
   "cell_type": "code",
   "execution_count": 3,
   "id": "85ef7f81-93d4-49df-90f8-30815b3c5135",
   "metadata": {},
   "outputs": [
    {
     "data": {
      "text/plain": [
       "400"
      ]
     },
     "execution_count": 3,
     "metadata": {},
     "output_type": "execute_result"
    }
   ],
   "source": [
    "p1.balance"
   ]
  },
  {
   "cell_type": "code",
   "execution_count": 4,
   "id": "7a10470b-a35d-4814-8a8c-1b28204aea5d",
   "metadata": {},
   "outputs": [
    {
     "data": {
      "text/plain": [
       "600"
      ]
     },
     "execution_count": 4,
     "metadata": {},
     "output_type": "execute_result"
    }
   ],
   "source": [
    "p2.balance"
   ]
  },
  {
   "cell_type": "code",
   "execution_count": 5,
   "id": "d765683d-9d8e-4c60-8948-2b4a27be6453",
   "metadata": {},
   "outputs": [
    {
     "data": {
      "text/plain": [
       "'abc'"
      ]
     },
     "execution_count": 5,
     "metadata": {},
     "output_type": "execute_result"
    }
   ],
   "source": [
    "p1.name"
   ]
  },
  {
   "cell_type": "code",
   "execution_count": 6,
   "id": "8b76706a-6d3d-4e86-9349-2986b06ce4f9",
   "metadata": {},
   "outputs": [
    {
     "data": {
      "text/plain": [
       "'def'"
      ]
     },
     "execution_count": 6,
     "metadata": {},
     "output_type": "execute_result"
    }
   ],
   "source": [
    "p2.name"
   ]
  },
  {
   "cell_type": "code",
   "execution_count": 7,
   "id": "cf16339f-f816-4a13-b843-fc4dd97f726c",
   "metadata": {},
   "outputs": [],
   "source": [
    "class Account():\n",
    "    def __init__(this,balance,name):\n",
    "        this.balance = balance\n",
    "        this.name = name"
   ]
  },
  {
   "cell_type": "code",
   "execution_count": 8,
   "id": "43ae346e-0bcc-4fc4-88ef-50a108fc8471",
   "metadata": {},
   "outputs": [],
   "source": [
    "p1 = Account(balance = 400, name=\"abc\")"
   ]
  },
  {
   "cell_type": "code",
   "execution_count": 9,
   "id": "1e572ea5-1dd2-497b-bafc-aaab61984d14",
   "metadata": {},
   "outputs": [
    {
     "data": {
      "text/plain": [
       "400"
      ]
     },
     "execution_count": 9,
     "metadata": {},
     "output_type": "execute_result"
    }
   ],
   "source": [
    "p1.balance"
   ]
  },
  {
   "cell_type": "code",
   "execution_count": 10,
   "id": "2caa585c-d878-4c3e-a6a0-b9babefafceb",
   "metadata": {},
   "outputs": [
    {
     "name": "stdout",
     "output_type": "stream",
     "text": [
      "['__class__', '__delattr__', '__dict__', '__dir__', '__doc__', '__eq__', '__format__', '__ge__', '__getattribute__', '__gt__', '__hash__', '__init__', '__init_subclass__', '__le__', '__lt__', '__module__', '__ne__', '__new__', '__reduce__', '__reduce_ex__', '__repr__', '__setattr__', '__sizeof__', '__str__', '__subclasshook__', '__weakref__', 'balance', 'name']\n"
     ]
    }
   ],
   "source": [
    "print(dir(p1))"
   ]
  },
  {
   "cell_type": "code",
   "execution_count": 11,
   "id": "17a1e0a6-a5cb-47f1-9a9f-b08103e83f13",
   "metadata": {},
   "outputs": [],
   "source": [
    "## Add methods: have a method that prints out the balance in the account\n",
    "class Account():\n",
    "    def __init__(self,balance,name):\n",
    "        self.balance = balance\n",
    "        self.name = name\n",
    "    def show_balance(self):\n",
    "        print(\"The balance is \"+str(self.balance))"
   ]
  },
  {
   "cell_type": "code",
   "execution_count": 12,
   "id": "0ecb3d56-ac8b-4826-9a53-b05069b412cf",
   "metadata": {},
   "outputs": [],
   "source": [
    "p1 = Account(balance = 400, name=\"abc\")"
   ]
  },
  {
   "cell_type": "code",
   "execution_count": 13,
   "id": "3ea8f9ca-c2d7-4f26-ac36-f150be36d737",
   "metadata": {},
   "outputs": [
    {
     "name": "stdout",
     "output_type": "stream",
     "text": [
      "The balance is 400\n"
     ]
    }
   ],
   "source": [
    "p1.show_balance()"
   ]
  },
  {
   "cell_type": "code",
   "execution_count": 14,
   "id": "b2b23d0e-0391-4e25-a9b9-c95296e94b25",
   "metadata": {},
   "outputs": [],
   "source": [
    "p2 = Account(balance = 700, name=\"abc\")"
   ]
  },
  {
   "cell_type": "code",
   "execution_count": 15,
   "id": "17f14cbf-1b36-4c2a-bfc6-a00ad4322ccb",
   "metadata": {},
   "outputs": [
    {
     "name": "stdout",
     "output_type": "stream",
     "text": [
      "The balance is 700\n"
     ]
    }
   ],
   "source": [
    "p2.show_balance()"
   ]
  },
  {
   "cell_type": "code",
   "execution_count": 16,
   "id": "3a92f3aa-9d3d-4e10-967b-fe95ce7f58e2",
   "metadata": {},
   "outputs": [
    {
     "name": "stdout",
     "output_type": "stream",
     "text": [
      "['__class__', '__delattr__', '__dict__', '__dir__', '__doc__', '__eq__', '__format__', '__ge__', '__getattribute__', '__gt__', '__hash__', '__init__', '__init_subclass__', '__le__', '__lt__', '__module__', '__ne__', '__new__', '__reduce__', '__reduce_ex__', '__repr__', '__setattr__', '__sizeof__', '__str__', '__subclasshook__', '__weakref__', 'balance', 'name', 'show_balance']\n"
     ]
    }
   ],
   "source": [
    "print(dir(p2))"
   ]
  },
  {
   "cell_type": "code",
   "execution_count": 17,
   "id": "cc3fe63d-38d0-40b8-8125-cbe89724aead",
   "metadata": {},
   "outputs": [],
   "source": [
    "### Extend the class: Impliment a withdraw method: take an amount\n",
    "## as an input and also update the balance\n",
    "\n",
    "class Account():\n",
    "    def __init__(self,balance,name):\n",
    "        self.balance = balance\n",
    "        self.name = name\n",
    "    def show_balance(self):\n",
    "        print(\"The balance is \"+str(self.balance))\n",
    "    def withdraw(self,amount):\n",
    "        if amount>self.balance:\n",
    "            print(\"Insufficient funds\")\n",
    "        else:\n",
    "            self.balance = self.balance-amount\n",
    "            print(\"An amount of \"+str(amount)+\" was withdrawn\")"
   ]
  },
  {
   "cell_type": "code",
   "execution_count": 18,
   "id": "58b31a23-8db3-4938-a10e-3a23502b8720",
   "metadata": {},
   "outputs": [],
   "source": [
    "p2 = Account(balance = 700, name=\"abc\")"
   ]
  },
  {
   "cell_type": "code",
   "execution_count": 19,
   "id": "855e1309-20d0-4e7a-b5e4-f4aced44d146",
   "metadata": {},
   "outputs": [
    {
     "name": "stdout",
     "output_type": "stream",
     "text": [
      "Insufficient funds\n"
     ]
    }
   ],
   "source": [
    "p2.withdraw(1000)"
   ]
  },
  {
   "cell_type": "code",
   "execution_count": 20,
   "id": "e24fc28e-b92b-434e-a158-f8acb156aa78",
   "metadata": {},
   "outputs": [
    {
     "data": {
      "text/plain": [
       "700"
      ]
     },
     "execution_count": 20,
     "metadata": {},
     "output_type": "execute_result"
    }
   ],
   "source": [
    "p2.balance"
   ]
  },
  {
   "cell_type": "code",
   "execution_count": 21,
   "id": "e5afafc5-7bb9-4c74-9f23-e7da60337bd3",
   "metadata": {},
   "outputs": [
    {
     "name": "stdout",
     "output_type": "stream",
     "text": [
      "An amount of 100was withdrawn\n"
     ]
    }
   ],
   "source": [
    "p2.withdraw(100)"
   ]
  },
  {
   "cell_type": "code",
   "execution_count": 22,
   "id": "4e28162a-e52e-4d01-9342-213f55855761",
   "metadata": {},
   "outputs": [
    {
     "name": "stdout",
     "output_type": "stream",
     "text": [
      "The balance is 600\n"
     ]
    }
   ],
   "source": [
    "p2.show_balance()"
   ]
  },
  {
   "cell_type": "code",
   "execution_count": 23,
   "id": "4ed4c988-4be1-4a15-8ea1-3d7b7814e454",
   "metadata": {},
   "outputs": [],
   "source": [
    "### Impliment a deposit method\n",
    "class Account():\n",
    "    def __init__(self,balance,name):\n",
    "        self.balance = balance\n",
    "        self.name = name\n",
    "    def show_balance(self):\n",
    "        print(\"The balance is \"+str(self.balance))\n",
    "    def withdraw(self,amount):\n",
    "        if amount>self.balance:\n",
    "            print(\"Insufficient funds\")\n",
    "        else:\n",
    "            self.balance = self.balance-amount\n",
    "            print(\"An amount of \"+str(amount)+\" was withdrawn\")\n",
    "    def deposit(self,amount):\n",
    "        self.balance = self.balance+amount\n",
    "        print(f\"An amount of {amount} was deposited\")"
   ]
  },
  {
   "cell_type": "code",
   "execution_count": 24,
   "id": "c7904792-f57c-447b-a45a-b329b57f589c",
   "metadata": {},
   "outputs": [],
   "source": [
    "p2 = Account(balance = 700, name=\"abc\")"
   ]
  },
  {
   "cell_type": "code",
   "execution_count": 25,
   "id": "1d0384bf-6511-46ad-96bc-afd343be6d8e",
   "metadata": {},
   "outputs": [
    {
     "data": {
      "text/plain": [
       "700"
      ]
     },
     "execution_count": 25,
     "metadata": {},
     "output_type": "execute_result"
    }
   ],
   "source": [
    "p2.balance"
   ]
  },
  {
   "cell_type": "code",
   "execution_count": 26,
   "id": "ddea997e-3df1-4128-8ad5-ba66d90f5ea8",
   "metadata": {},
   "outputs": [
    {
     "name": "stdout",
     "output_type": "stream",
     "text": [
      "An amount of 150 was deposited\n"
     ]
    }
   ],
   "source": [
    "p2.deposit(150)"
   ]
  },
  {
   "cell_type": "code",
   "execution_count": 27,
   "id": "31e523c4-bdd1-410f-b0b3-cc59d862243d",
   "metadata": {},
   "outputs": [
    {
     "name": "stdout",
     "output_type": "stream",
     "text": [
      "The balance is 850\n"
     ]
    }
   ],
   "source": [
    "p2.show_balance()"
   ]
  },
  {
   "cell_type": "code",
   "execution_count": 28,
   "id": "43a22eb6-9939-4142-9f46-5ead78a76d71",
   "metadata": {},
   "outputs": [],
   "source": [
    "## Extend this class to add transaction history\n",
    "class Account():\n",
    "    def __init__(self,balance,name):\n",
    "        self.balance = balance\n",
    "        self.name = name\n",
    "        self.transaction_hist = []\n",
    "    def show_balance(self):\n",
    "        print(\"The balance is \"+str(self.balance))\n",
    "    def withdraw(self,amount):\n",
    "        if amount>self.balance:\n",
    "            print(\"Insufficient funds\")\n",
    "        else:\n",
    "            self.transaction_hist.append({'withdrawl':amount})\n",
    "            self.balance = self.balance-amount\n",
    "            print(\"An amount of \"+str(amount)+\" was withdrawn\")\n",
    "    def deposit(self,amount):\n",
    "        self.balance = self.balance+amount\n",
    "        self.transaction_hist.append({'deposit':amount})\n",
    "        print(f\"An amount of {amount} was deposited\")"
   ]
  },
  {
   "cell_type": "code",
   "execution_count": 29,
   "id": "000a0144-f763-45b8-86fb-f47df2fb179d",
   "metadata": {},
   "outputs": [],
   "source": [
    "p2 = Account(balance = 700, name=\"abc\")"
   ]
  },
  {
   "cell_type": "code",
   "execution_count": 30,
   "id": "eb20cb82-bd31-438b-8644-2c866e52d5c4",
   "metadata": {},
   "outputs": [
    {
     "data": {
      "text/plain": [
       "[]"
      ]
     },
     "execution_count": 30,
     "metadata": {},
     "output_type": "execute_result"
    }
   ],
   "source": [
    "p2.transaction_hist"
   ]
  },
  {
   "cell_type": "code",
   "execution_count": 31,
   "id": "4efbba65-4108-4479-b8ed-32a7647b0797",
   "metadata": {},
   "outputs": [
    {
     "name": "stdout",
     "output_type": "stream",
     "text": [
      "An amount of 20 was deposited\n"
     ]
    }
   ],
   "source": [
    "p2.deposit(20)"
   ]
  },
  {
   "cell_type": "code",
   "execution_count": 32,
   "id": "41940422-0936-4060-9932-1d148df5e749",
   "metadata": {},
   "outputs": [
    {
     "data": {
      "text/plain": [
       "[{'deposit': 20}]"
      ]
     },
     "execution_count": 32,
     "metadata": {},
     "output_type": "execute_result"
    }
   ],
   "source": [
    "p2.transaction_hist"
   ]
  },
  {
   "cell_type": "code",
   "execution_count": 33,
   "id": "fc4af65f-235a-4225-a7c3-774deca4ace8",
   "metadata": {},
   "outputs": [
    {
     "name": "stdout",
     "output_type": "stream",
     "text": [
      "An amount of 10 was withdrawn\n"
     ]
    }
   ],
   "source": [
    "p2.withdraw(10)"
   ]
  },
  {
   "cell_type": "code",
   "execution_count": 34,
   "id": "e129abf8-3b05-40c6-bfa6-007b243c0b35",
   "metadata": {},
   "outputs": [
    {
     "data": {
      "text/plain": [
       "[{'deposit': 20}, {'withdrawl': 10}]"
      ]
     },
     "execution_count": 34,
     "metadata": {},
     "output_type": "execute_result"
    }
   ],
   "source": [
    "p2.transaction_hist"
   ]
  },
  {
   "cell_type": "markdown",
   "id": "80dc6f27-8c5c-495c-b68f-e3aa2c373cfa",
   "metadata": {},
   "source": [
    "### Create a class-> Reader\n",
    "\n",
    "- Method to read a flat file with any delimiter, method should return data\n",
    "- Method to read a json file, method should return data"
   ]
  },
  {
   "cell_type": "code",
   "execution_count": 40,
   "id": "b9b4681c-c8bf-40cb-b967-713c3bc770f9",
   "metadata": {},
   "outputs": [],
   "source": [
    "### extend the class: how many rows and columns are there in a delimited file\n",
    "## names of the columns\n",
    "## if the file is json: store the keys\n",
    "import csv\n",
    "import json\n",
    "\n",
    "class Reader():\n",
    "    def __init__(self,path):\n",
    "        self.path = path\n",
    "        \n",
    "    def read_csv(self,delimiter):\n",
    "        data = []\n",
    "        with open(self.path,\"r\") as con:\n",
    "            reader = csv.DictReader(con,delimiter=delimiter)\n",
    "            for row in reader:\n",
    "                data.append(row)\n",
    "        return data\n",
    "    def read_json(self):\n",
    "        with open(self.path,'r',encoding='utf-8') as con:\n",
    "            raw_string = con.read()\n",
    "        json_data = json.loads(raw_string)\n",
    "        return json_data"
   ]
  },
  {
   "cell_type": "code",
   "execution_count": 36,
   "id": "5e3e5e05-f5ac-4598-aca1-40677a46d81a",
   "metadata": {},
   "outputs": [],
   "source": [
    "path = \"/Users/gunnvantsaini/Library/CloudStorage/OneDrive-Personal/Work/Vired/Content/corp_trainings/tiger_analytics/data/tweets_assignment.txt\""
   ]
  },
  {
   "cell_type": "code",
   "execution_count": 37,
   "id": "37f963a1-da0b-43e7-9e49-74ad4d3594a0",
   "metadata": {},
   "outputs": [],
   "source": [
    "r = Reader(path)"
   ]
  },
  {
   "cell_type": "code",
   "execution_count": 39,
   "id": "290deb63-12bb-48a4-ac27-8f6905f73299",
   "metadata": {},
   "outputs": [],
   "source": [
    "d = r.read_csv(delimiter=\"|\")"
   ]
  },
  {
   "cell_type": "code",
   "execution_count": 41,
   "id": "a557e27e-f2b0-4b47-9dfb-d857c8249ff7",
   "metadata": {},
   "outputs": [],
   "source": [
    "path = \"/Users/gunnvantsaini/Library/CloudStorage/OneDrive-Personal/Work/Vired/Content/corp_trainings/tiger_analytics/data/sample_json.json\"\n"
   ]
  },
  {
   "cell_type": "code",
   "execution_count": 42,
   "id": "cc83153c-53d2-4186-9ab8-8724e8760630",
   "metadata": {},
   "outputs": [],
   "source": [
    "r = Reader(path)"
   ]
  },
  {
   "cell_type": "code",
   "execution_count": 45,
   "id": "7d8fea76-48e8-4bd8-bae7-7752106eda0a",
   "metadata": {},
   "outputs": [],
   "source": [
    "d = r.read_json()"
   ]
  },
  {
   "cell_type": "code",
   "execution_count": 46,
   "id": "50145041-cce0-4418-a7ab-99887a130229",
   "metadata": {},
   "outputs": [],
   "source": [
    "import csv\n",
    "import json\n",
    "\n",
    "class Reader():\n",
    "    def __init__(self,path):\n",
    "        self.path = path\n",
    "        self.rows = None\n",
    "        self.num_cols = None\n",
    "        self.cols = None\n",
    "        \n",
    "    def read_csv(self,delimiter):\n",
    "        data = []\n",
    "        with open(self.path,\"r\") as con:\n",
    "            reader = csv.DictReader(con,delimiter=delimiter)\n",
    "            for row in reader:\n",
    "                data.append(row)\n",
    "        self.cols = row.keys()\n",
    "        self.num_cols = len(row.keys())\n",
    "        self.rows = len(data)\n",
    "        return data\n",
    "    def read_json(self):\n",
    "        with open(self.path,'r',encoding='utf-8') as con:\n",
    "            raw_string = con.read()\n",
    "        json_data = json.loads(raw_string)\n",
    "        self.cols = json_data.keys()\n",
    "        return json_data"
   ]
  },
  {
   "cell_type": "code",
   "execution_count": 47,
   "id": "85e2c496-bb65-4873-b6b7-0805749f5a87",
   "metadata": {},
   "outputs": [],
   "source": [
    "path = \"/Users/gunnvantsaini/Library/CloudStorage/OneDrive-Personal/Work/Vired/Content/corp_trainings/tiger_analytics/data/tweets_assignment.txt\"\n",
    "r = Reader(path)"
   ]
  },
  {
   "cell_type": "code",
   "execution_count": 49,
   "id": "f052ea8c-31a1-4146-b0c1-24a73a984780",
   "metadata": {},
   "outputs": [],
   "source": [
    "d = r.read_csv(delimiter=\"|\")"
   ]
  },
  {
   "cell_type": "code",
   "execution_count": 50,
   "id": "d25299f3-1613-4aee-8f2e-41032c27d809",
   "metadata": {},
   "outputs": [
    {
     "data": {
      "text/plain": [
       "dict_keys(['Tweet_Date', 'Tweet_Text', 'Tweet_Handle'])"
      ]
     },
     "execution_count": 50,
     "metadata": {},
     "output_type": "execute_result"
    }
   ],
   "source": [
    "r.cols"
   ]
  },
  {
   "cell_type": "code",
   "execution_count": 51,
   "id": "8ed30144-daf2-4b9c-a971-6461ef12340f",
   "metadata": {},
   "outputs": [
    {
     "data": {
      "text/plain": [
       "3"
      ]
     },
     "execution_count": 51,
     "metadata": {},
     "output_type": "execute_result"
    }
   ],
   "source": [
    "r.num_cols"
   ]
  },
  {
   "cell_type": "code",
   "execution_count": 52,
   "id": "c77ad072-6de0-4a0f-9045-cbcf480c285f",
   "metadata": {},
   "outputs": [
    {
     "data": {
      "text/plain": [
       "14273"
      ]
     },
     "execution_count": 52,
     "metadata": {},
     "output_type": "execute_result"
    }
   ],
   "source": [
    "r.rows"
   ]
  },
  {
   "cell_type": "code",
   "execution_count": 53,
   "id": "a3a5c068-c7c9-442a-9bad-ab3d5510c04f",
   "metadata": {},
   "outputs": [],
   "source": [
    "path = \"/Users/gunnvantsaini/Library/CloudStorage/OneDrive-Personal/Work/Vired/Content/corp_trainings/tiger_analytics/data/sample_json.json\"\n",
    "r = Reader(path)\n",
    "d = r.read_json()"
   ]
  },
  {
   "cell_type": "code",
   "execution_count": 54,
   "id": "d6bdc2f5-bb49-449a-90ba-e9dc5764375e",
   "metadata": {},
   "outputs": [
    {
     "data": {
      "text/plain": [
       "dict_keys(['type', 'metadata', 'features', 'bbox'])"
      ]
     },
     "execution_count": 54,
     "metadata": {},
     "output_type": "execute_result"
    }
   ],
   "source": [
    "r.cols"
   ]
  },
  {
   "cell_type": "code",
   "execution_count": 55,
   "id": "3bd66eab-830b-4ffa-aeec-057f284b9b75",
   "metadata": {},
   "outputs": [],
   "source": [
    "path = \"/Users/gunnvantsaini/Library/CloudStorage/OneDrive-Personal/Work/Vired/Content/corp_trainings/tiger_analytics/data/sample_json.json\"\n",
    "with open(path,'r',encoding='utf-8') as con:\n",
    "            raw_string = con.read()"
   ]
  },
  {
   "cell_type": "code",
   "execution_count": 56,
   "id": "f7863001-92a2-4396-b352-a9242daa127a",
   "metadata": {},
   "outputs": [],
   "source": [
    "json_data = json.loads(raw_string)"
   ]
  },
  {
   "cell_type": "code",
   "execution_count": 57,
   "id": "70d73ffd-b296-40fd-8212-bc5aff33ded4",
   "metadata": {},
   "outputs": [
    {
     "data": {
      "text/plain": [
       "dict"
      ]
     },
     "execution_count": 57,
     "metadata": {},
     "output_type": "execute_result"
    }
   ],
   "source": [
    "type(json_data)"
   ]
  },
  {
   "cell_type": "code",
   "execution_count": 58,
   "id": "0de01902-2970-4838-86c4-1470800c6e19",
   "metadata": {},
   "outputs": [
    {
     "data": {
      "text/plain": [
       "dict_keys(['type', 'metadata', 'features', 'bbox'])"
      ]
     },
     "execution_count": 58,
     "metadata": {},
     "output_type": "execute_result"
    }
   ],
   "source": [
    "json_data.keys()"
   ]
  },
  {
   "cell_type": "code",
   "execution_count": 59,
   "id": "f2932aac-1a78-4254-a79e-cb02e32285b9",
   "metadata": {},
   "outputs": [],
   "source": [
    "d = {'a':1,\"v\":0}"
   ]
  },
  {
   "cell_type": "code",
   "execution_count": 60,
   "id": "e784673e-995f-48f6-a66b-02bf9375f223",
   "metadata": {},
   "outputs": [
    {
     "data": {
      "text/plain": [
       "dict_keys(['a', 'v'])"
      ]
     },
     "execution_count": 60,
     "metadata": {},
     "output_type": "execute_result"
    }
   ],
   "source": [
    "d.keys()"
   ]
  },
  {
   "cell_type": "code",
   "execution_count": 63,
   "id": "888a354a-4980-4d49-af8b-032a013ccea2",
   "metadata": {},
   "outputs": [
    {
     "name": "stdout",
     "output_type": "stream",
     "text": [
      "{'Tweet_Date': 'Thu Dec 26 123415 0000 2013', 'Tweet_Text': 'ashdubey ratigirl FirstpostBiz First economic move by AamAadmiParty  How come it has gone down in Guj', 'Tweet_Handle': 'maverickenator'}\n",
      "....\n",
      "<class 'dict'>\n",
      "....\n",
      "dict_keys(['Tweet_Date', 'Tweet_Text', 'Tweet_Handle'])\n",
      "{'Tweet_Date': 'Thu Dec 26 123413 0000 2013', 'Tweet_Text': 'RT anandpassion Growing popularity can seen as AAP websites Rank 275 in India highest ever for a political party JoinAAP ankitlal Aam', 'Tweet_Handle': 'aapkask'}\n",
      "....\n",
      "<class 'dict'>\n",
      "....\n",
      "dict_keys(['Tweet_Date', 'Tweet_Text', 'Tweet_Handle'])\n",
      "{'Tweet_Date': 'Thu Dec 26 123402 0000 2013', 'Tweet_Text': 'RT anandpassion Growing popularity can seen as AAP websites Rank 275 in India highest ever for a political party JoinAAP ankitlal Aam', 'Tweet_Handle': 'arpshalder'}\n",
      "....\n",
      "<class 'dict'>\n",
      "....\n",
      "dict_keys(['Tweet_Date', 'Tweet_Text', 'Tweet_Handle'])\n",
      "{'Tweet_Date': 'Thu Dec 26 123354 0000 2013', 'Tweet_Text': 'ArvindKejriwal AapYogendra AamAadmiParty I hope your party realizes why the likes of alkalamba are trying to join AAP now Be careful', 'Tweet_Handle': 'GargaC'}\n",
      "....\n",
      "<class 'dict'>\n",
      "....\n",
      "dict_keys(['Tweet_Date', 'Tweet_Text', 'Tweet_Handle'])\n",
      "{'Tweet_Date': 'Thu Dec 26 123351 0000 2013', 'Tweet_Text': 'RT ssttuuttii Press Conference AamAadmiParty Application form for candidature for LS2014 is being uploaded at website AAP4India http', 'Tweet_Handle': 'kejriwalfanclub'}\n",
      "....\n",
      "<class 'dict'>\n",
      "....\n",
      "dict_keys(['Tweet_Date', 'Tweet_Text', 'Tweet_Handle'])\n"
     ]
    }
   ],
   "source": [
    "path = \"/Users/gunnvantsaini/Library/CloudStorage/OneDrive-Personal/Work/Vired/Content/corp_trainings/tiger_analytics/data/tweets_assignment.txt\"\n",
    "counter = 0\n",
    "with open(path,\"r\") as con:\n",
    "            reader = csv.DictReader(con,delimiter=\"|\")\n",
    "            for row in reader:\n",
    "                counter = counter+1\n",
    "                print(row)\n",
    "                print(\"....\")\n",
    "                print(type(row))\n",
    "                print(\"....\")\n",
    "                print(row.keys())\n",
    "                if counter==5:\n",
    "                    break"
   ]
  },
  {
   "cell_type": "markdown",
   "id": "76ee717d-6626-4e5b-8397-2146753a0ee7",
   "metadata": {},
   "source": [
    "### SQL like tasks in python\n",
    "\n",
    "- Read data from various sources inside pandas (dataframe)\n",
    "- Data Analysis:\n",
    "    - groupby+aggregations\n",
    "    - sort\n",
    "    - joins\n",
    "    - filter data/columns"
   ]
  },
  {
   "cell_type": "code",
   "execution_count": 64,
   "id": "b72d8c95-2351-4f52-84a2-b4432bec4080",
   "metadata": {},
   "outputs": [],
   "source": [
    "import pandas as pd"
   ]
  },
  {
   "cell_type": "code",
   "execution_count": 65,
   "id": "161c46e9-c718-4972-9186-7a1d0eb241a3",
   "metadata": {},
   "outputs": [],
   "source": [
    "path = \"/Users/gunnvantsaini/Library/CloudStorage/OneDrive-Personal/Work/Vired/Content/corp_trainings/tiger_analytics/data/athlete_events.csv\"\n",
    "data = pd.read_csv(path)"
   ]
  },
  {
   "cell_type": "code",
   "execution_count": 68,
   "id": "13f36f51-82a2-425b-9220-cf82ae50a308",
   "metadata": {},
   "outputs": [
    {
     "data": {
      "text/html": [
       "<div>\n",
       "<style scoped>\n",
       "    .dataframe tbody tr th:only-of-type {\n",
       "        vertical-align: middle;\n",
       "    }\n",
       "\n",
       "    .dataframe tbody tr th {\n",
       "        vertical-align: top;\n",
       "    }\n",
       "\n",
       "    .dataframe thead th {\n",
       "        text-align: right;\n",
       "    }\n",
       "</style>\n",
       "<table border=\"1\" class=\"dataframe\">\n",
       "  <thead>\n",
       "    <tr style=\"text-align: right;\">\n",
       "      <th></th>\n",
       "      <th>ID</th>\n",
       "      <th>Name</th>\n",
       "      <th>Sex</th>\n",
       "      <th>Age</th>\n",
       "      <th>Height</th>\n",
       "      <th>Weight</th>\n",
       "      <th>Team</th>\n",
       "      <th>NOC</th>\n",
       "      <th>Games</th>\n",
       "      <th>Year</th>\n",
       "      <th>Season</th>\n",
       "      <th>City</th>\n",
       "      <th>Sport</th>\n",
       "      <th>Event</th>\n",
       "      <th>Medal</th>\n",
       "    </tr>\n",
       "  </thead>\n",
       "  <tbody>\n",
       "    <tr>\n",
       "      <th>0</th>\n",
       "      <td>1</td>\n",
       "      <td>A Dijiang</td>\n",
       "      <td>M</td>\n",
       "      <td>24.0</td>\n",
       "      <td>180.0</td>\n",
       "      <td>80.0</td>\n",
       "      <td>China</td>\n",
       "      <td>CHN</td>\n",
       "      <td>1992 Summer</td>\n",
       "      <td>1992</td>\n",
       "      <td>Summer</td>\n",
       "      <td>Barcelona</td>\n",
       "      <td>Basketball</td>\n",
       "      <td>Basketball Men's Basketball</td>\n",
       "      <td>NaN</td>\n",
       "    </tr>\n",
       "    <tr>\n",
       "      <th>1</th>\n",
       "      <td>2</td>\n",
       "      <td>A Lamusi</td>\n",
       "      <td>M</td>\n",
       "      <td>23.0</td>\n",
       "      <td>170.0</td>\n",
       "      <td>60.0</td>\n",
       "      <td>China</td>\n",
       "      <td>CHN</td>\n",
       "      <td>2012 Summer</td>\n",
       "      <td>2012</td>\n",
       "      <td>Summer</td>\n",
       "      <td>London</td>\n",
       "      <td>Judo</td>\n",
       "      <td>Judo Men's Extra-Lightweight</td>\n",
       "      <td>NaN</td>\n",
       "    </tr>\n",
       "  </tbody>\n",
       "</table>\n",
       "</div>"
      ],
      "text/plain": [
       "   ID       Name Sex   Age  Height  Weight   Team  NOC        Games  Year  \\\n",
       "0   1  A Dijiang   M  24.0   180.0    80.0  China  CHN  1992 Summer  1992   \n",
       "1   2   A Lamusi   M  23.0   170.0    60.0  China  CHN  2012 Summer  2012   \n",
       "\n",
       "   Season       City       Sport                         Event Medal  \n",
       "0  Summer  Barcelona  Basketball   Basketball Men's Basketball   NaN  \n",
       "1  Summer     London        Judo  Judo Men's Extra-Lightweight   NaN  "
      ]
     },
     "execution_count": 68,
     "metadata": {},
     "output_type": "execute_result"
    }
   ],
   "source": [
    "## select * from table limit 2;\n",
    "data.head(2) ## dataframe -> SQL Table"
   ]
  },
  {
   "cell_type": "code",
   "execution_count": 69,
   "id": "0371e15f-369c-4344-a290-8e994e4df249",
   "metadata": {},
   "outputs": [
    {
     "data": {
      "text/plain": [
       "Index(['ID', 'Name', 'Sex', 'Age', 'Height', 'Weight', 'Team', 'NOC', 'Games',\n",
       "       'Year', 'Season', 'City', 'Sport', 'Event', 'Medal'],\n",
       "      dtype='object')"
      ]
     },
     "execution_count": 69,
     "metadata": {},
     "output_type": "execute_result"
    }
   ],
   "source": [
    "data.columns"
   ]
  },
  {
   "cell_type": "code",
   "execution_count": 72,
   "id": "553c3a6f-8e7e-46ef-9655-20ef72a8d1ae",
   "metadata": {},
   "outputs": [
    {
     "data": {
      "text/html": [
       "<div>\n",
       "<style scoped>\n",
       "    .dataframe tbody tr th:only-of-type {\n",
       "        vertical-align: middle;\n",
       "    }\n",
       "\n",
       "    .dataframe tbody tr th {\n",
       "        vertical-align: top;\n",
       "    }\n",
       "\n",
       "    .dataframe thead th {\n",
       "        text-align: right;\n",
       "    }\n",
       "</style>\n",
       "<table border=\"1\" class=\"dataframe\">\n",
       "  <thead>\n",
       "    <tr style=\"text-align: right;\">\n",
       "      <th></th>\n",
       "      <th>Name</th>\n",
       "      <th>Age</th>\n",
       "      <th>Event</th>\n",
       "    </tr>\n",
       "  </thead>\n",
       "  <tbody>\n",
       "    <tr>\n",
       "      <th>0</th>\n",
       "      <td>A Dijiang</td>\n",
       "      <td>24.0</td>\n",
       "      <td>Basketball Men's Basketball</td>\n",
       "    </tr>\n",
       "    <tr>\n",
       "      <th>1</th>\n",
       "      <td>A Lamusi</td>\n",
       "      <td>23.0</td>\n",
       "      <td>Judo Men's Extra-Lightweight</td>\n",
       "    </tr>\n",
       "    <tr>\n",
       "      <th>2</th>\n",
       "      <td>Gunnar Nielsen Aaby</td>\n",
       "      <td>24.0</td>\n",
       "      <td>Football Men's Football</td>\n",
       "    </tr>\n",
       "    <tr>\n",
       "      <th>3</th>\n",
       "      <td>Edgar Lindenau Aabye</td>\n",
       "      <td>34.0</td>\n",
       "      <td>Tug-Of-War Men's Tug-Of-War</td>\n",
       "    </tr>\n",
       "    <tr>\n",
       "      <th>4</th>\n",
       "      <td>Christine Jacoba Aaftink</td>\n",
       "      <td>21.0</td>\n",
       "      <td>Speed Skating Women's 500 metres</td>\n",
       "    </tr>\n",
       "    <tr>\n",
       "      <th>...</th>\n",
       "      <td>...</td>\n",
       "      <td>...</td>\n",
       "      <td>...</td>\n",
       "    </tr>\n",
       "    <tr>\n",
       "      <th>271111</th>\n",
       "      <td>Andrzej ya</td>\n",
       "      <td>29.0</td>\n",
       "      <td>Luge Mixed (Men)'s Doubles</td>\n",
       "    </tr>\n",
       "    <tr>\n",
       "      <th>271112</th>\n",
       "      <td>Piotr ya</td>\n",
       "      <td>27.0</td>\n",
       "      <td>Ski Jumping Men's Large Hill, Individual</td>\n",
       "    </tr>\n",
       "    <tr>\n",
       "      <th>271113</th>\n",
       "      <td>Piotr ya</td>\n",
       "      <td>27.0</td>\n",
       "      <td>Ski Jumping Men's Large Hill, Team</td>\n",
       "    </tr>\n",
       "    <tr>\n",
       "      <th>271114</th>\n",
       "      <td>Tomasz Ireneusz ya</td>\n",
       "      <td>30.0</td>\n",
       "      <td>Bobsleigh Men's Four</td>\n",
       "    </tr>\n",
       "    <tr>\n",
       "      <th>271115</th>\n",
       "      <td>Tomasz Ireneusz ya</td>\n",
       "      <td>34.0</td>\n",
       "      <td>Bobsleigh Men's Four</td>\n",
       "    </tr>\n",
       "  </tbody>\n",
       "</table>\n",
       "<p>271116 rows × 3 columns</p>\n",
       "</div>"
      ],
      "text/plain": [
       "                            Name   Age  \\\n",
       "0                      A Dijiang  24.0   \n",
       "1                       A Lamusi  23.0   \n",
       "2            Gunnar Nielsen Aaby  24.0   \n",
       "3           Edgar Lindenau Aabye  34.0   \n",
       "4       Christine Jacoba Aaftink  21.0   \n",
       "...                          ...   ...   \n",
       "271111                Andrzej ya  29.0   \n",
       "271112                  Piotr ya  27.0   \n",
       "271113                  Piotr ya  27.0   \n",
       "271114        Tomasz Ireneusz ya  30.0   \n",
       "271115        Tomasz Ireneusz ya  34.0   \n",
       "\n",
       "                                           Event  \n",
       "0                    Basketball Men's Basketball  \n",
       "1                   Judo Men's Extra-Lightweight  \n",
       "2                        Football Men's Football  \n",
       "3                    Tug-Of-War Men's Tug-Of-War  \n",
       "4               Speed Skating Women's 500 metres  \n",
       "...                                          ...  \n",
       "271111                Luge Mixed (Men)'s Doubles  \n",
       "271112  Ski Jumping Men's Large Hill, Individual  \n",
       "271113        Ski Jumping Men's Large Hill, Team  \n",
       "271114                      Bobsleigh Men's Four  \n",
       "271115                      Bobsleigh Men's Four  \n",
       "\n",
       "[271116 rows x 3 columns]"
      ]
     },
     "execution_count": 72,
     "metadata": {},
     "output_type": "execute_result"
    }
   ],
   "source": [
    "## select name from data \n",
    "data[['Name','Age','Event']]"
   ]
  },
  {
   "cell_type": "code",
   "execution_count": 74,
   "id": "69064479-b3fc-4455-92e0-5b03cac97df8",
   "metadata": {},
   "outputs": [
    {
     "data": {
      "text/html": [
       "<div>\n",
       "<style scoped>\n",
       "    .dataframe tbody tr th:only-of-type {\n",
       "        vertical-align: middle;\n",
       "    }\n",
       "\n",
       "    .dataframe tbody tr th {\n",
       "        vertical-align: top;\n",
       "    }\n",
       "\n",
       "    .dataframe thead th {\n",
       "        text-align: right;\n",
       "    }\n",
       "</style>\n",
       "<table border=\"1\" class=\"dataframe\">\n",
       "  <thead>\n",
       "    <tr style=\"text-align: right;\">\n",
       "      <th></th>\n",
       "      <th>Name</th>\n",
       "      <th>Event</th>\n",
       "      <th>Medal</th>\n",
       "    </tr>\n",
       "  </thead>\n",
       "  <tbody>\n",
       "    <tr>\n",
       "      <th>0</th>\n",
       "      <td>A Dijiang</td>\n",
       "      <td>Basketball Men's Basketball</td>\n",
       "      <td>NaN</td>\n",
       "    </tr>\n",
       "    <tr>\n",
       "      <th>1</th>\n",
       "      <td>A Lamusi</td>\n",
       "      <td>Judo Men's Extra-Lightweight</td>\n",
       "      <td>NaN</td>\n",
       "    </tr>\n",
       "    <tr>\n",
       "      <th>2</th>\n",
       "      <td>Gunnar Nielsen Aaby</td>\n",
       "      <td>Football Men's Football</td>\n",
       "      <td>NaN</td>\n",
       "    </tr>\n",
       "    <tr>\n",
       "      <th>3</th>\n",
       "      <td>Edgar Lindenau Aabye</td>\n",
       "      <td>Tug-Of-War Men's Tug-Of-War</td>\n",
       "      <td>Gold</td>\n",
       "    </tr>\n",
       "    <tr>\n",
       "      <th>4</th>\n",
       "      <td>Christine Jacoba Aaftink</td>\n",
       "      <td>Speed Skating Women's 500 metres</td>\n",
       "      <td>NaN</td>\n",
       "    </tr>\n",
       "  </tbody>\n",
       "</table>\n",
       "</div>"
      ],
      "text/plain": [
       "                       Name                             Event Medal\n",
       "0                 A Dijiang       Basketball Men's Basketball   NaN\n",
       "1                  A Lamusi      Judo Men's Extra-Lightweight   NaN\n",
       "2       Gunnar Nielsen Aaby           Football Men's Football   NaN\n",
       "3      Edgar Lindenau Aabye       Tug-Of-War Men's Tug-Of-War  Gold\n",
       "4  Christine Jacoba Aaftink  Speed Skating Women's 500 metres   NaN"
      ]
     },
     "execution_count": 74,
     "metadata": {},
     "output_type": "execute_result"
    }
   ],
   "source": [
    "### Write a query which selects the following columns:\n",
    "# Name\n",
    "# Event\n",
    "# Medal\n",
    "## Show just the first 60 rows\n",
    "data[[\"Name\",\"Event\",\"Medal\"]].head(5)"
   ]
  },
  {
   "cell_type": "code",
   "execution_count": 75,
   "id": "444a0adc-0478-4855-b553-a175c9487b76",
   "metadata": {},
   "outputs": [
    {
     "data": {
      "text/html": [
       "<div>\n",
       "<style scoped>\n",
       "    .dataframe tbody tr th:only-of-type {\n",
       "        vertical-align: middle;\n",
       "    }\n",
       "\n",
       "    .dataframe tbody tr th {\n",
       "        vertical-align: top;\n",
       "    }\n",
       "\n",
       "    .dataframe thead th {\n",
       "        text-align: right;\n",
       "    }\n",
       "</style>\n",
       "<table border=\"1\" class=\"dataframe\">\n",
       "  <thead>\n",
       "    <tr style=\"text-align: right;\">\n",
       "      <th></th>\n",
       "      <th>ID</th>\n",
       "      <th>Name</th>\n",
       "      <th>Sex</th>\n",
       "      <th>Age</th>\n",
       "      <th>Height</th>\n",
       "      <th>Weight</th>\n",
       "      <th>Team</th>\n",
       "      <th>NOC</th>\n",
       "      <th>Games</th>\n",
       "      <th>Year</th>\n",
       "      <th>Season</th>\n",
       "      <th>City</th>\n",
       "      <th>Sport</th>\n",
       "      <th>Event</th>\n",
       "      <th>Medal</th>\n",
       "    </tr>\n",
       "  </thead>\n",
       "  <tbody>\n",
       "    <tr>\n",
       "      <th>0</th>\n",
       "      <td>1</td>\n",
       "      <td>A Dijiang</td>\n",
       "      <td>M</td>\n",
       "      <td>24.0</td>\n",
       "      <td>180.0</td>\n",
       "      <td>80.0</td>\n",
       "      <td>China</td>\n",
       "      <td>CHN</td>\n",
       "      <td>1992 Summer</td>\n",
       "      <td>1992</td>\n",
       "      <td>Summer</td>\n",
       "      <td>Barcelona</td>\n",
       "      <td>Basketball</td>\n",
       "      <td>Basketball Men's Basketball</td>\n",
       "      <td>NaN</td>\n",
       "    </tr>\n",
       "    <tr>\n",
       "      <th>1</th>\n",
       "      <td>2</td>\n",
       "      <td>A Lamusi</td>\n",
       "      <td>M</td>\n",
       "      <td>23.0</td>\n",
       "      <td>170.0</td>\n",
       "      <td>60.0</td>\n",
       "      <td>China</td>\n",
       "      <td>CHN</td>\n",
       "      <td>2012 Summer</td>\n",
       "      <td>2012</td>\n",
       "      <td>Summer</td>\n",
       "      <td>London</td>\n",
       "      <td>Judo</td>\n",
       "      <td>Judo Men's Extra-Lightweight</td>\n",
       "      <td>NaN</td>\n",
       "    </tr>\n",
       "    <tr>\n",
       "      <th>2</th>\n",
       "      <td>3</td>\n",
       "      <td>Gunnar Nielsen Aaby</td>\n",
       "      <td>M</td>\n",
       "      <td>24.0</td>\n",
       "      <td>NaN</td>\n",
       "      <td>NaN</td>\n",
       "      <td>Denmark</td>\n",
       "      <td>DEN</td>\n",
       "      <td>1920 Summer</td>\n",
       "      <td>1920</td>\n",
       "      <td>Summer</td>\n",
       "      <td>Antwerpen</td>\n",
       "      <td>Football</td>\n",
       "      <td>Football Men's Football</td>\n",
       "      <td>NaN</td>\n",
       "    </tr>\n",
       "    <tr>\n",
       "      <th>3</th>\n",
       "      <td>4</td>\n",
       "      <td>Edgar Lindenau Aabye</td>\n",
       "      <td>M</td>\n",
       "      <td>34.0</td>\n",
       "      <td>NaN</td>\n",
       "      <td>NaN</td>\n",
       "      <td>Denmark/Sweden</td>\n",
       "      <td>DEN</td>\n",
       "      <td>1900 Summer</td>\n",
       "      <td>1900</td>\n",
       "      <td>Summer</td>\n",
       "      <td>Paris</td>\n",
       "      <td>Tug-Of-War</td>\n",
       "      <td>Tug-Of-War Men's Tug-Of-War</td>\n",
       "      <td>Gold</td>\n",
       "    </tr>\n",
       "    <tr>\n",
       "      <th>4</th>\n",
       "      <td>5</td>\n",
       "      <td>Christine Jacoba Aaftink</td>\n",
       "      <td>F</td>\n",
       "      <td>21.0</td>\n",
       "      <td>185.0</td>\n",
       "      <td>82.0</td>\n",
       "      <td>Netherlands</td>\n",
       "      <td>NED</td>\n",
       "      <td>1988 Winter</td>\n",
       "      <td>1988</td>\n",
       "      <td>Winter</td>\n",
       "      <td>Calgary</td>\n",
       "      <td>Speed Skating</td>\n",
       "      <td>Speed Skating Women's 500 metres</td>\n",
       "      <td>NaN</td>\n",
       "    </tr>\n",
       "  </tbody>\n",
       "</table>\n",
       "</div>"
      ],
      "text/plain": [
       "   ID                      Name Sex   Age  Height  Weight            Team  \\\n",
       "0   1                 A Dijiang   M  24.0   180.0    80.0           China   \n",
       "1   2                  A Lamusi   M  23.0   170.0    60.0           China   \n",
       "2   3       Gunnar Nielsen Aaby   M  24.0     NaN     NaN         Denmark   \n",
       "3   4      Edgar Lindenau Aabye   M  34.0     NaN     NaN  Denmark/Sweden   \n",
       "4   5  Christine Jacoba Aaftink   F  21.0   185.0    82.0     Netherlands   \n",
       "\n",
       "   NOC        Games  Year  Season       City          Sport  \\\n",
       "0  CHN  1992 Summer  1992  Summer  Barcelona     Basketball   \n",
       "1  CHN  2012 Summer  2012  Summer     London           Judo   \n",
       "2  DEN  1920 Summer  1920  Summer  Antwerpen       Football   \n",
       "3  DEN  1900 Summer  1900  Summer      Paris     Tug-Of-War   \n",
       "4  NED  1988 Winter  1988  Winter    Calgary  Speed Skating   \n",
       "\n",
       "                              Event Medal  \n",
       "0       Basketball Men's Basketball   NaN  \n",
       "1      Judo Men's Extra-Lightweight   NaN  \n",
       "2           Football Men's Football   NaN  \n",
       "3       Tug-Of-War Men's Tug-Of-War  Gold  \n",
       "4  Speed Skating Women's 500 metres   NaN  "
      ]
     },
     "execution_count": 75,
     "metadata": {},
     "output_type": "execute_result"
    }
   ],
   "source": [
    "data.head(5)"
   ]
  },
  {
   "cell_type": "code",
   "execution_count": 77,
   "id": "79350df5-9bea-4a03-a3f0-cf18ce10226f",
   "metadata": {},
   "outputs": [
    {
     "data": {
      "text/html": [
       "<div>\n",
       "<style scoped>\n",
       "    .dataframe tbody tr th:only-of-type {\n",
       "        vertical-align: middle;\n",
       "    }\n",
       "\n",
       "    .dataframe tbody tr th {\n",
       "        vertical-align: top;\n",
       "    }\n",
       "\n",
       "    .dataframe thead th {\n",
       "        text-align: right;\n",
       "    }\n",
       "</style>\n",
       "<table border=\"1\" class=\"dataframe\">\n",
       "  <thead>\n",
       "    <tr style=\"text-align: right;\">\n",
       "      <th></th>\n",
       "      <th>ID</th>\n",
       "      <th>Name</th>\n",
       "      <th>Sex</th>\n",
       "      <th>Age</th>\n",
       "      <th>Height</th>\n",
       "      <th>Weight</th>\n",
       "      <th>Team</th>\n",
       "      <th>NOC</th>\n",
       "      <th>Games</th>\n",
       "      <th>Year</th>\n",
       "      <th>Season</th>\n",
       "      <th>City</th>\n",
       "      <th>Sport</th>\n",
       "      <th>Event</th>\n",
       "      <th>Medal</th>\n",
       "    </tr>\n",
       "  </thead>\n",
       "  <tbody>\n",
       "    <tr>\n",
       "      <th>0</th>\n",
       "      <td>1</td>\n",
       "      <td>A Dijiang</td>\n",
       "      <td>M</td>\n",
       "      <td>24.0</td>\n",
       "      <td>180.0</td>\n",
       "      <td>80.0</td>\n",
       "      <td>China</td>\n",
       "      <td>CHN</td>\n",
       "      <td>1992 Summer</td>\n",
       "      <td>1992</td>\n",
       "      <td>Summer</td>\n",
       "      <td>Barcelona</td>\n",
       "      <td>Basketball</td>\n",
       "      <td>Basketball Men's Basketball</td>\n",
       "      <td>NaN</td>\n",
       "    </tr>\n",
       "    <tr>\n",
       "      <th>96</th>\n",
       "      <td>33</td>\n",
       "      <td>Mika Lauri Aarnikka</td>\n",
       "      <td>M</td>\n",
       "      <td>24.0</td>\n",
       "      <td>187.0</td>\n",
       "      <td>76.0</td>\n",
       "      <td>Finland</td>\n",
       "      <td>FIN</td>\n",
       "      <td>1992 Summer</td>\n",
       "      <td>1992</td>\n",
       "      <td>Summer</td>\n",
       "      <td>Barcelona</td>\n",
       "      <td>Sailing</td>\n",
       "      <td>Sailing Men's Two Person Dinghy</td>\n",
       "      <td>NaN</td>\n",
       "    </tr>\n",
       "  </tbody>\n",
       "</table>\n",
       "</div>"
      ],
      "text/plain": [
       "    ID                 Name Sex   Age  Height  Weight     Team  NOC  \\\n",
       "0    1            A Dijiang   M  24.0   180.0    80.0    China  CHN   \n",
       "96  33  Mika Lauri Aarnikka   M  24.0   187.0    76.0  Finland  FIN   \n",
       "\n",
       "          Games  Year  Season       City       Sport  \\\n",
       "0   1992 Summer  1992  Summer  Barcelona  Basketball   \n",
       "96  1992 Summer  1992  Summer  Barcelona     Sailing   \n",
       "\n",
       "                              Event Medal  \n",
       "0       Basketball Men's Basketball   NaN  \n",
       "96  Sailing Men's Two Person Dinghy   NaN  "
      ]
     },
     "execution_count": 77,
     "metadata": {},
     "output_type": "execute_result"
    }
   ],
   "source": [
    "## find only those rows where the value in the games column is 1992 Summer\n",
    "## table[logical condition]\n",
    "data[data[\"Games\"]==\"1992 Summer\"].head(2)"
   ]
  },
  {
   "cell_type": "code",
   "execution_count": 79,
   "id": "dab620f5-c0ea-4224-a589-59aa013abaf1",
   "metadata": {},
   "outputs": [
    {
     "data": {
      "text/html": [
       "<div>\n",
       "<style scoped>\n",
       "    .dataframe tbody tr th:only-of-type {\n",
       "        vertical-align: middle;\n",
       "    }\n",
       "\n",
       "    .dataframe tbody tr th {\n",
       "        vertical-align: top;\n",
       "    }\n",
       "\n",
       "    .dataframe thead th {\n",
       "        text-align: right;\n",
       "    }\n",
       "</style>\n",
       "<table border=\"1\" class=\"dataframe\">\n",
       "  <thead>\n",
       "    <tr style=\"text-align: right;\">\n",
       "      <th></th>\n",
       "      <th>ID</th>\n",
       "      <th>Name</th>\n",
       "      <th>Sex</th>\n",
       "      <th>Age</th>\n",
       "      <th>Height</th>\n",
       "      <th>Weight</th>\n",
       "      <th>Team</th>\n",
       "      <th>NOC</th>\n",
       "      <th>Games</th>\n",
       "      <th>Year</th>\n",
       "      <th>Season</th>\n",
       "      <th>City</th>\n",
       "      <th>Sport</th>\n",
       "      <th>Event</th>\n",
       "      <th>Medal</th>\n",
       "    </tr>\n",
       "  </thead>\n",
       "  <tbody>\n",
       "    <tr>\n",
       "      <th>0</th>\n",
       "      <td>1</td>\n",
       "      <td>A Dijiang</td>\n",
       "      <td>M</td>\n",
       "      <td>24.0</td>\n",
       "      <td>180.0</td>\n",
       "      <td>80.0</td>\n",
       "      <td>China</td>\n",
       "      <td>CHN</td>\n",
       "      <td>1992 Summer</td>\n",
       "      <td>1992</td>\n",
       "      <td>Summer</td>\n",
       "      <td>Barcelona</td>\n",
       "      <td>Basketball</td>\n",
       "      <td>Basketball Men's Basketball</td>\n",
       "      <td>NaN</td>\n",
       "    </tr>\n",
       "    <tr>\n",
       "      <th>1</th>\n",
       "      <td>2</td>\n",
       "      <td>A Lamusi</td>\n",
       "      <td>M</td>\n",
       "      <td>23.0</td>\n",
       "      <td>170.0</td>\n",
       "      <td>60.0</td>\n",
       "      <td>China</td>\n",
       "      <td>CHN</td>\n",
       "      <td>2012 Summer</td>\n",
       "      <td>2012</td>\n",
       "      <td>Summer</td>\n",
       "      <td>London</td>\n",
       "      <td>Judo</td>\n",
       "      <td>Judo Men's Extra-Lightweight</td>\n",
       "      <td>NaN</td>\n",
       "    </tr>\n",
       "  </tbody>\n",
       "</table>\n",
       "</div>"
      ],
      "text/plain": [
       "   ID       Name Sex   Age  Height  Weight   Team  NOC        Games  Year  \\\n",
       "0   1  A Dijiang   M  24.0   180.0    80.0  China  CHN  1992 Summer  1992   \n",
       "1   2   A Lamusi   M  23.0   170.0    60.0  China  CHN  2012 Summer  2012   \n",
       "\n",
       "   Season       City       Sport                         Event Medal  \n",
       "0  Summer  Barcelona  Basketball   Basketball Men's Basketball   NaN  \n",
       "1  Summer     London        Judo  Judo Men's Extra-Lightweight   NaN  "
      ]
     },
     "execution_count": 79,
     "metadata": {},
     "output_type": "execute_result"
    }
   ],
   "source": [
    "### Find out the subset of data where the team was from china?\n",
    "data[data[\"Team\"]==\"China\"].head(2)"
   ]
  },
  {
   "cell_type": "code",
   "execution_count": 81,
   "id": "db52e77a-6bbd-4f48-81c8-30b75adb9a24",
   "metadata": {},
   "outputs": [
    {
     "data": {
      "text/html": [
       "<div>\n",
       "<style scoped>\n",
       "    .dataframe tbody tr th:only-of-type {\n",
       "        vertical-align: middle;\n",
       "    }\n",
       "\n",
       "    .dataframe tbody tr th {\n",
       "        vertical-align: top;\n",
       "    }\n",
       "\n",
       "    .dataframe thead th {\n",
       "        text-align: right;\n",
       "    }\n",
       "</style>\n",
       "<table border=\"1\" class=\"dataframe\">\n",
       "  <thead>\n",
       "    <tr style=\"text-align: right;\">\n",
       "      <th></th>\n",
       "      <th>ID</th>\n",
       "      <th>Name</th>\n",
       "      <th>Sex</th>\n",
       "      <th>Age</th>\n",
       "      <th>Height</th>\n",
       "      <th>Weight</th>\n",
       "      <th>Team</th>\n",
       "      <th>NOC</th>\n",
       "      <th>Games</th>\n",
       "      <th>Year</th>\n",
       "      <th>Season</th>\n",
       "      <th>City</th>\n",
       "      <th>Sport</th>\n",
       "      <th>Event</th>\n",
       "      <th>Medal</th>\n",
       "    </tr>\n",
       "  </thead>\n",
       "  <tbody>\n",
       "    <tr>\n",
       "      <th>0</th>\n",
       "      <td>1</td>\n",
       "      <td>A Dijiang</td>\n",
       "      <td>M</td>\n",
       "      <td>24.0</td>\n",
       "      <td>180.0</td>\n",
       "      <td>80.0</td>\n",
       "      <td>China</td>\n",
       "      <td>CHN</td>\n",
       "      <td>1992 Summer</td>\n",
       "      <td>1992</td>\n",
       "      <td>Summer</td>\n",
       "      <td>Barcelona</td>\n",
       "      <td>Basketball</td>\n",
       "      <td>Basketball Men's Basketball</td>\n",
       "      <td>NaN</td>\n",
       "    </tr>\n",
       "    <tr>\n",
       "      <th>12569</th>\n",
       "      <td>6848</td>\n",
       "      <td>Bai Chongguang</td>\n",
       "      <td>M</td>\n",
       "      <td>21.0</td>\n",
       "      <td>184.0</td>\n",
       "      <td>83.0</td>\n",
       "      <td>China</td>\n",
       "      <td>CHN</td>\n",
       "      <td>1992 Summer</td>\n",
       "      <td>1992</td>\n",
       "      <td>Summer</td>\n",
       "      <td>Barcelona</td>\n",
       "      <td>Boxing</td>\n",
       "      <td>Boxing Men's Light-Heavyweight</td>\n",
       "      <td>NaN</td>\n",
       "    </tr>\n",
       "  </tbody>\n",
       "</table>\n",
       "</div>"
      ],
      "text/plain": [
       "         ID            Name Sex   Age  Height  Weight   Team  NOC  \\\n",
       "0         1       A Dijiang   M  24.0   180.0    80.0  China  CHN   \n",
       "12569  6848  Bai Chongguang   M  21.0   184.0    83.0  China  CHN   \n",
       "\n",
       "             Games  Year  Season       City       Sport  \\\n",
       "0      1992 Summer  1992  Summer  Barcelona  Basketball   \n",
       "12569  1992 Summer  1992  Summer  Barcelona      Boxing   \n",
       "\n",
       "                                Event Medal  \n",
       "0         Basketball Men's Basketball   NaN  \n",
       "12569  Boxing Men's Light-Heavyweight   NaN  "
      ]
     },
     "execution_count": 81,
     "metadata": {},
     "output_type": "execute_result"
    }
   ],
   "source": [
    "## table[(cond1)op(cond2)op...(condn)]\n",
    "data[(data[\"Games\"]==\"1992 Summer\")&(data[\"Team\"]==\"China\")].head(2)"
   ]
  },
  {
   "cell_type": "code",
   "execution_count": 84,
   "id": "f014c3e0-3363-46c4-abfa-626b3a850149",
   "metadata": {},
   "outputs": [
    {
     "data": {
      "text/html": [
       "<div>\n",
       "<style scoped>\n",
       "    .dataframe tbody tr th:only-of-type {\n",
       "        vertical-align: middle;\n",
       "    }\n",
       "\n",
       "    .dataframe tbody tr th {\n",
       "        vertical-align: top;\n",
       "    }\n",
       "\n",
       "    .dataframe thead th {\n",
       "        text-align: right;\n",
       "    }\n",
       "</style>\n",
       "<table border=\"1\" class=\"dataframe\">\n",
       "  <thead>\n",
       "    <tr style=\"text-align: right;\">\n",
       "      <th></th>\n",
       "      <th>ID</th>\n",
       "      <th>Name</th>\n",
       "      <th>Sex</th>\n",
       "      <th>Age</th>\n",
       "      <th>Height</th>\n",
       "      <th>Weight</th>\n",
       "      <th>Team</th>\n",
       "      <th>NOC</th>\n",
       "      <th>Games</th>\n",
       "      <th>Year</th>\n",
       "      <th>Season</th>\n",
       "      <th>City</th>\n",
       "      <th>Sport</th>\n",
       "      <th>Event</th>\n",
       "      <th>Medal</th>\n",
       "    </tr>\n",
       "  </thead>\n",
       "  <tbody>\n",
       "    <tr>\n",
       "      <th>0</th>\n",
       "      <td>1</td>\n",
       "      <td>A Dijiang</td>\n",
       "      <td>M</td>\n",
       "      <td>24.0</td>\n",
       "      <td>180.0</td>\n",
       "      <td>80.0</td>\n",
       "      <td>China</td>\n",
       "      <td>CHN</td>\n",
       "      <td>1992 Summer</td>\n",
       "      <td>1992</td>\n",
       "      <td>Summer</td>\n",
       "      <td>Barcelona</td>\n",
       "      <td>Basketball</td>\n",
       "      <td>Basketball Men's Basketball</td>\n",
       "      <td>NaN</td>\n",
       "    </tr>\n",
       "    <tr>\n",
       "      <th>1</th>\n",
       "      <td>2</td>\n",
       "      <td>A Lamusi</td>\n",
       "      <td>M</td>\n",
       "      <td>23.0</td>\n",
       "      <td>170.0</td>\n",
       "      <td>60.0</td>\n",
       "      <td>China</td>\n",
       "      <td>CHN</td>\n",
       "      <td>2012 Summer</td>\n",
       "      <td>2012</td>\n",
       "      <td>Summer</td>\n",
       "      <td>London</td>\n",
       "      <td>Judo</td>\n",
       "      <td>Judo Men's Extra-Lightweight</td>\n",
       "      <td>NaN</td>\n",
       "    </tr>\n",
       "  </tbody>\n",
       "</table>\n",
       "</div>"
      ],
      "text/plain": [
       "   ID       Name Sex   Age  Height  Weight   Team  NOC        Games  Year  \\\n",
       "0   1  A Dijiang   M  24.0   180.0    80.0  China  CHN  1992 Summer  1992   \n",
       "1   2   A Lamusi   M  23.0   170.0    60.0  China  CHN  2012 Summer  2012   \n",
       "\n",
       "   Season       City       Sport                         Event Medal  \n",
       "0  Summer  Barcelona  Basketball   Basketball Men's Basketball   NaN  \n",
       "1  Summer     London        Judo  Judo Men's Extra-Lightweight   NaN  "
      ]
     },
     "execution_count": 84,
     "metadata": {},
     "output_type": "execute_result"
    }
   ],
   "source": [
    "data.query(\"Team=='China'\").head(2)"
   ]
  },
  {
   "cell_type": "code",
   "execution_count": 86,
   "id": "1cb64971-1ea1-4736-bc1b-13c5cec4745d",
   "metadata": {},
   "outputs": [
    {
     "data": {
      "text/html": [
       "<div>\n",
       "<style scoped>\n",
       "    .dataframe tbody tr th:only-of-type {\n",
       "        vertical-align: middle;\n",
       "    }\n",
       "\n",
       "    .dataframe tbody tr th {\n",
       "        vertical-align: top;\n",
       "    }\n",
       "\n",
       "    .dataframe thead th {\n",
       "        text-align: right;\n",
       "    }\n",
       "</style>\n",
       "<table border=\"1\" class=\"dataframe\">\n",
       "  <thead>\n",
       "    <tr style=\"text-align: right;\">\n",
       "      <th></th>\n",
       "      <th>ID</th>\n",
       "      <th>Name</th>\n",
       "      <th>Sex</th>\n",
       "      <th>Age</th>\n",
       "      <th>Height</th>\n",
       "      <th>Weight</th>\n",
       "      <th>Team</th>\n",
       "      <th>NOC</th>\n",
       "      <th>Games</th>\n",
       "      <th>Year</th>\n",
       "      <th>Season</th>\n",
       "      <th>City</th>\n",
       "      <th>Sport</th>\n",
       "      <th>Event</th>\n",
       "      <th>Medal</th>\n",
       "    </tr>\n",
       "  </thead>\n",
       "  <tbody>\n",
       "    <tr>\n",
       "      <th>0</th>\n",
       "      <td>1</td>\n",
       "      <td>A Dijiang</td>\n",
       "      <td>M</td>\n",
       "      <td>24.0</td>\n",
       "      <td>180.0</td>\n",
       "      <td>80.0</td>\n",
       "      <td>China</td>\n",
       "      <td>CHN</td>\n",
       "      <td>1992 Summer</td>\n",
       "      <td>1992</td>\n",
       "      <td>Summer</td>\n",
       "      <td>Barcelona</td>\n",
       "      <td>Basketball</td>\n",
       "      <td>Basketball Men's Basketball</td>\n",
       "      <td>NaN</td>\n",
       "    </tr>\n",
       "    <tr>\n",
       "      <th>12569</th>\n",
       "      <td>6848</td>\n",
       "      <td>Bai Chongguang</td>\n",
       "      <td>M</td>\n",
       "      <td>21.0</td>\n",
       "      <td>184.0</td>\n",
       "      <td>83.0</td>\n",
       "      <td>China</td>\n",
       "      <td>CHN</td>\n",
       "      <td>1992 Summer</td>\n",
       "      <td>1992</td>\n",
       "      <td>Summer</td>\n",
       "      <td>Barcelona</td>\n",
       "      <td>Boxing</td>\n",
       "      <td>Boxing Men's Light-Heavyweight</td>\n",
       "      <td>NaN</td>\n",
       "    </tr>\n",
       "  </tbody>\n",
       "</table>\n",
       "</div>"
      ],
      "text/plain": [
       "         ID            Name Sex   Age  Height  Weight   Team  NOC  \\\n",
       "0         1       A Dijiang   M  24.0   180.0    80.0  China  CHN   \n",
       "12569  6848  Bai Chongguang   M  21.0   184.0    83.0  China  CHN   \n",
       "\n",
       "             Games  Year  Season       City       Sport  \\\n",
       "0      1992 Summer  1992  Summer  Barcelona  Basketball   \n",
       "12569  1992 Summer  1992  Summer  Barcelona      Boxing   \n",
       "\n",
       "                                Event Medal  \n",
       "0         Basketball Men's Basketball   NaN  \n",
       "12569  Boxing Men's Light-Heavyweight   NaN  "
      ]
     },
     "execution_count": 86,
     "metadata": {},
     "output_type": "execute_result"
    }
   ],
   "source": [
    "data.query(\"Games=='1992 Summer' and Team == 'China'\").head(2)"
   ]
  },
  {
   "cell_type": "code",
   "execution_count": 88,
   "id": "4cb6b0a5-55e1-48cd-ad59-dea3383a89d3",
   "metadata": {},
   "outputs": [
    {
     "data": {
      "text/html": [
       "<div>\n",
       "<style scoped>\n",
       "    .dataframe tbody tr th:only-of-type {\n",
       "        vertical-align: middle;\n",
       "    }\n",
       "\n",
       "    .dataframe tbody tr th {\n",
       "        vertical-align: top;\n",
       "    }\n",
       "\n",
       "    .dataframe thead th {\n",
       "        text-align: right;\n",
       "    }\n",
       "</style>\n",
       "<table border=\"1\" class=\"dataframe\">\n",
       "  <thead>\n",
       "    <tr style=\"text-align: right;\">\n",
       "      <th></th>\n",
       "      <th>ID</th>\n",
       "      <th>Name</th>\n",
       "      <th>Sex</th>\n",
       "      <th>Age</th>\n",
       "      <th>Height</th>\n",
       "      <th>Weight</th>\n",
       "      <th>Team</th>\n",
       "      <th>NOC</th>\n",
       "      <th>Games</th>\n",
       "      <th>Year</th>\n",
       "      <th>Season</th>\n",
       "      <th>City</th>\n",
       "      <th>Sport</th>\n",
       "      <th>Event</th>\n",
       "      <th>Medal</th>\n",
       "    </tr>\n",
       "  </thead>\n",
       "  <tbody>\n",
       "    <tr>\n",
       "      <th>0</th>\n",
       "      <td>1</td>\n",
       "      <td>A Dijiang</td>\n",
       "      <td>M</td>\n",
       "      <td>24.0</td>\n",
       "      <td>180.0</td>\n",
       "      <td>80.0</td>\n",
       "      <td>China</td>\n",
       "      <td>CHN</td>\n",
       "      <td>1992 Summer</td>\n",
       "      <td>1992</td>\n",
       "      <td>Summer</td>\n",
       "      <td>Barcelona</td>\n",
       "      <td>Basketball</td>\n",
       "      <td>Basketball Men's Basketball</td>\n",
       "      <td>NaN</td>\n",
       "    </tr>\n",
       "    <tr>\n",
       "      <th>6</th>\n",
       "      <td>5</td>\n",
       "      <td>Christine Jacoba Aaftink</td>\n",
       "      <td>F</td>\n",
       "      <td>25.0</td>\n",
       "      <td>185.0</td>\n",
       "      <td>82.0</td>\n",
       "      <td>Netherlands</td>\n",
       "      <td>NED</td>\n",
       "      <td>1992 Winter</td>\n",
       "      <td>1992</td>\n",
       "      <td>Winter</td>\n",
       "      <td>Albertville</td>\n",
       "      <td>Speed Skating</td>\n",
       "      <td>Speed Skating Women's 500 metres</td>\n",
       "      <td>NaN</td>\n",
       "    </tr>\n",
       "  </tbody>\n",
       "</table>\n",
       "</div>"
      ],
      "text/plain": [
       "   ID                      Name Sex   Age  Height  Weight         Team  NOC  \\\n",
       "0   1                 A Dijiang   M  24.0   180.0    80.0        China  CHN   \n",
       "6   5  Christine Jacoba Aaftink   F  25.0   185.0    82.0  Netherlands  NED   \n",
       "\n",
       "         Games  Year  Season         City          Sport  \\\n",
       "0  1992 Summer  1992  Summer    Barcelona     Basketball   \n",
       "6  1992 Winter  1992  Winter  Albertville  Speed Skating   \n",
       "\n",
       "                              Event Medal  \n",
       "0       Basketball Men's Basketball   NaN  \n",
       "6  Speed Skating Women's 500 metres   NaN  "
      ]
     },
     "execution_count": 88,
     "metadata": {},
     "output_type": "execute_result"
    }
   ],
   "source": [
    "### Rows where age is <26 years and Year = 1992 (use both the methods)\n",
    "## Method 1\n",
    "data[(data['Age']<26)&(data['Year']==1992)].head(2)"
   ]
  },
  {
   "cell_type": "code",
   "execution_count": 90,
   "id": "596f4c70-bd1a-4ff1-be7a-ed0b24d4727c",
   "metadata": {},
   "outputs": [
    {
     "data": {
      "text/html": [
       "<div>\n",
       "<style scoped>\n",
       "    .dataframe tbody tr th:only-of-type {\n",
       "        vertical-align: middle;\n",
       "    }\n",
       "\n",
       "    .dataframe tbody tr th {\n",
       "        vertical-align: top;\n",
       "    }\n",
       "\n",
       "    .dataframe thead th {\n",
       "        text-align: right;\n",
       "    }\n",
       "</style>\n",
       "<table border=\"1\" class=\"dataframe\">\n",
       "  <thead>\n",
       "    <tr style=\"text-align: right;\">\n",
       "      <th></th>\n",
       "      <th>ID</th>\n",
       "      <th>Name</th>\n",
       "      <th>Sex</th>\n",
       "      <th>Age</th>\n",
       "      <th>Height</th>\n",
       "      <th>Weight</th>\n",
       "      <th>Team</th>\n",
       "      <th>NOC</th>\n",
       "      <th>Games</th>\n",
       "      <th>Year</th>\n",
       "      <th>Season</th>\n",
       "      <th>City</th>\n",
       "      <th>Sport</th>\n",
       "      <th>Event</th>\n",
       "      <th>Medal</th>\n",
       "    </tr>\n",
       "  </thead>\n",
       "  <tbody>\n",
       "    <tr>\n",
       "      <th>0</th>\n",
       "      <td>1</td>\n",
       "      <td>A Dijiang</td>\n",
       "      <td>M</td>\n",
       "      <td>24.0</td>\n",
       "      <td>180.0</td>\n",
       "      <td>80.0</td>\n",
       "      <td>China</td>\n",
       "      <td>CHN</td>\n",
       "      <td>1992 Summer</td>\n",
       "      <td>1992</td>\n",
       "      <td>Summer</td>\n",
       "      <td>Barcelona</td>\n",
       "      <td>Basketball</td>\n",
       "      <td>Basketball Men's Basketball</td>\n",
       "      <td>NaN</td>\n",
       "    </tr>\n",
       "    <tr>\n",
       "      <th>6</th>\n",
       "      <td>5</td>\n",
       "      <td>Christine Jacoba Aaftink</td>\n",
       "      <td>F</td>\n",
       "      <td>25.0</td>\n",
       "      <td>185.0</td>\n",
       "      <td>82.0</td>\n",
       "      <td>Netherlands</td>\n",
       "      <td>NED</td>\n",
       "      <td>1992 Winter</td>\n",
       "      <td>1992</td>\n",
       "      <td>Winter</td>\n",
       "      <td>Albertville</td>\n",
       "      <td>Speed Skating</td>\n",
       "      <td>Speed Skating Women's 500 metres</td>\n",
       "      <td>NaN</td>\n",
       "    </tr>\n",
       "  </tbody>\n",
       "</table>\n",
       "</div>"
      ],
      "text/plain": [
       "   ID                      Name Sex   Age  Height  Weight         Team  NOC  \\\n",
       "0   1                 A Dijiang   M  24.0   180.0    80.0        China  CHN   \n",
       "6   5  Christine Jacoba Aaftink   F  25.0   185.0    82.0  Netherlands  NED   \n",
       "\n",
       "         Games  Year  Season         City          Sport  \\\n",
       "0  1992 Summer  1992  Summer    Barcelona     Basketball   \n",
       "6  1992 Winter  1992  Winter  Albertville  Speed Skating   \n",
       "\n",
       "                              Event Medal  \n",
       "0       Basketball Men's Basketball   NaN  \n",
       "6  Speed Skating Women's 500 metres   NaN  "
      ]
     },
     "execution_count": 90,
     "metadata": {},
     "output_type": "execute_result"
    }
   ],
   "source": [
    "## Method 2\n",
    "data.query(\"Age<26 and Year==1992\").head(2)"
   ]
  },
  {
   "cell_type": "code",
   "execution_count": 96,
   "id": "a0807e75-ad87-40fc-9e6e-3d8b5a0ad62a",
   "metadata": {},
   "outputs": [
    {
     "data": {
      "text/plain": [
       "10633"
      ]
     },
     "execution_count": 96,
     "metadata": {},
     "output_type": "execute_result"
    }
   ],
   "source": [
    "data.query(\"Age<26 and Year==1992\").shape[0]"
   ]
  },
  {
   "cell_type": "code",
   "execution_count": 103,
   "id": "4d35fa47-2819-444a-8806-3fe1daf9fd16",
   "metadata": {},
   "outputs": [
    {
     "data": {
      "text/plain": [
       "271116"
      ]
     },
     "execution_count": 103,
     "metadata": {},
     "output_type": "execute_result"
    }
   ],
   "source": [
    "data.shape[0]"
   ]
  },
  {
   "cell_type": "markdown",
   "id": "701883b2-5f70-4fd1-bf49-502604a80997",
   "metadata": {},
   "source": [
    "### Sorting"
   ]
  },
  {
   "cell_type": "code",
   "execution_count": 102,
   "id": "f980c57e-9d2a-4f13-871e-85d7c302e180",
   "metadata": {},
   "outputs": [
    {
     "data": {
      "text/html": [
       "<div>\n",
       "<style scoped>\n",
       "    .dataframe tbody tr th:only-of-type {\n",
       "        vertical-align: middle;\n",
       "    }\n",
       "\n",
       "    .dataframe tbody tr th {\n",
       "        vertical-align: top;\n",
       "    }\n",
       "\n",
       "    .dataframe thead th {\n",
       "        text-align: right;\n",
       "    }\n",
       "</style>\n",
       "<table border=\"1\" class=\"dataframe\">\n",
       "  <thead>\n",
       "    <tr style=\"text-align: right;\">\n",
       "      <th></th>\n",
       "      <th>ID</th>\n",
       "      <th>Name</th>\n",
       "      <th>Sex</th>\n",
       "      <th>Age</th>\n",
       "      <th>Height</th>\n",
       "      <th>Weight</th>\n",
       "      <th>Team</th>\n",
       "      <th>NOC</th>\n",
       "      <th>Games</th>\n",
       "      <th>Year</th>\n",
       "      <th>Season</th>\n",
       "      <th>City</th>\n",
       "      <th>Sport</th>\n",
       "      <th>Event</th>\n",
       "      <th>Medal</th>\n",
       "    </tr>\n",
       "  </thead>\n",
       "  <tbody>\n",
       "    <tr>\n",
       "      <th>0</th>\n",
       "      <td>1</td>\n",
       "      <td>A Dijiang</td>\n",
       "      <td>M</td>\n",
       "      <td>24.0</td>\n",
       "      <td>180.0</td>\n",
       "      <td>80.0</td>\n",
       "      <td>China</td>\n",
       "      <td>CHN</td>\n",
       "      <td>1992 Summer</td>\n",
       "      <td>1992</td>\n",
       "      <td>Summer</td>\n",
       "      <td>Barcelona</td>\n",
       "      <td>Basketball</td>\n",
       "      <td>Basketball Men's Basketball</td>\n",
       "      <td>NaN</td>\n",
       "    </tr>\n",
       "    <tr>\n",
       "      <th>1</th>\n",
       "      <td>2</td>\n",
       "      <td>A Lamusi</td>\n",
       "      <td>M</td>\n",
       "      <td>23.0</td>\n",
       "      <td>170.0</td>\n",
       "      <td>60.0</td>\n",
       "      <td>China</td>\n",
       "      <td>CHN</td>\n",
       "      <td>2012 Summer</td>\n",
       "      <td>2012</td>\n",
       "      <td>Summer</td>\n",
       "      <td>London</td>\n",
       "      <td>Judo</td>\n",
       "      <td>Judo Men's Extra-Lightweight</td>\n",
       "      <td>NaN</td>\n",
       "    </tr>\n",
       "  </tbody>\n",
       "</table>\n",
       "</div>"
      ],
      "text/plain": [
       "   ID       Name Sex   Age  Height  Weight   Team  NOC        Games  Year  \\\n",
       "0   1  A Dijiang   M  24.0   180.0    80.0  China  CHN  1992 Summer  1992   \n",
       "1   2   A Lamusi   M  23.0   170.0    60.0  China  CHN  2012 Summer  2012   \n",
       "\n",
       "   Season       City       Sport                         Event Medal  \n",
       "0  Summer  Barcelona  Basketball   Basketball Men's Basketball   NaN  \n",
       "1  Summer     London        Judo  Judo Men's Extra-Lightweight   NaN  "
      ]
     },
     "execution_count": 102,
     "metadata": {},
     "output_type": "execute_result"
    }
   ],
   "source": [
    "data.head(2)"
   ]
  },
  {
   "cell_type": "code",
   "execution_count": 105,
   "id": "303d14ed-8e06-4197-a5f8-d4bb476610bf",
   "metadata": {},
   "outputs": [
    {
     "data": {
      "text/html": [
       "<div>\n",
       "<style scoped>\n",
       "    .dataframe tbody tr th:only-of-type {\n",
       "        vertical-align: middle;\n",
       "    }\n",
       "\n",
       "    .dataframe tbody tr th {\n",
       "        vertical-align: top;\n",
       "    }\n",
       "\n",
       "    .dataframe thead th {\n",
       "        text-align: right;\n",
       "    }\n",
       "</style>\n",
       "<table border=\"1\" class=\"dataframe\">\n",
       "  <thead>\n",
       "    <tr style=\"text-align: right;\">\n",
       "      <th></th>\n",
       "      <th>Name</th>\n",
       "      <th>Age</th>\n",
       "    </tr>\n",
       "  </thead>\n",
       "  <tbody>\n",
       "    <tr>\n",
       "      <th>257054</th>\n",
       "      <td>John Quincy Adams Ward</td>\n",
       "      <td>97.0</td>\n",
       "    </tr>\n",
       "    <tr>\n",
       "      <th>98118</th>\n",
       "      <td>Winslow Homer</td>\n",
       "      <td>96.0</td>\n",
       "    </tr>\n",
       "    <tr>\n",
       "      <th>60863</th>\n",
       "      <td>Thomas Cowperthwait Eakins</td>\n",
       "      <td>88.0</td>\n",
       "    </tr>\n",
       "    <tr>\n",
       "      <th>9371</th>\n",
       "      <td>George Denholm Armour</td>\n",
       "      <td>84.0</td>\n",
       "    </tr>\n",
       "    <tr>\n",
       "      <th>236912</th>\n",
       "      <td>Louis Tauzin</td>\n",
       "      <td>81.0</td>\n",
       "    </tr>\n",
       "    <tr>\n",
       "      <th>154855</th>\n",
       "      <td>Robert Tait McKenzie</td>\n",
       "      <td>81.0</td>\n",
       "    </tr>\n",
       "    <tr>\n",
       "      <th>138812</th>\n",
       "      <td>Max Liebermann</td>\n",
       "      <td>80.0</td>\n",
       "    </tr>\n",
       "    <tr>\n",
       "      <th>170994</th>\n",
       "      <td>Charles Henry Niehaus</td>\n",
       "      <td>77.0</td>\n",
       "    </tr>\n",
       "    <tr>\n",
       "      <th>56599</th>\n",
       "      <td>Albin Dbrich</td>\n",
       "      <td>76.0</td>\n",
       "    </tr>\n",
       "    <tr>\n",
       "      <th>170798</th>\n",
       "      <td>William Newzam Prior Nicholson</td>\n",
       "      <td>76.0</td>\n",
       "    </tr>\n",
       "  </tbody>\n",
       "</table>\n",
       "</div>"
      ],
      "text/plain": [
       "                                  Name   Age\n",
       "257054          John Quincy Adams Ward  97.0\n",
       "98118                    Winslow Homer  96.0\n",
       "60863       Thomas Cowperthwait Eakins  88.0\n",
       "9371             George Denholm Armour  84.0\n",
       "236912                    Louis Tauzin  81.0\n",
       "154855            Robert Tait McKenzie  81.0\n",
       "138812                  Max Liebermann  80.0\n",
       "170994           Charles Henry Niehaus  77.0\n",
       "56599                     Albin Dbrich  76.0\n",
       "170798  William Newzam Prior Nicholson  76.0"
      ]
     },
     "execution_count": 105,
     "metadata": {},
     "output_type": "execute_result"
    }
   ],
   "source": [
    "### Find out the names of top 10 oldest people/.\n",
    "data.sort_values(by=\"Age\", ascending=False)[['Name','Age']].drop_duplicates().head(10)"
   ]
  },
  {
   "cell_type": "markdown",
   "id": "c9dfce1f-a2f6-418d-8369-8e80f6250f36",
   "metadata": {},
   "source": [
    "**Class Excercise:**\n",
    "\n",
    "Read the data called `starbucks_final.csv` An ideal diet should contain optimum level of nutrients can you find out the names of the items on menu that contain:\n",
    "\n",
    "- Upto 450 calories\n",
    "\n",
    "- Upto 40 g protein\n",
    "\n",
    "- Upto 10 g fat\n",
    "\n",
    "- Upto 40 g Carbs\n",
    "\n",
    "- Upto 5 g fibre"
   ]
  },
  {
   "cell_type": "code",
   "execution_count": 106,
   "id": "17843720-ad59-4830-96cb-02919ff1c5fe",
   "metadata": {},
   "outputs": [
    {
     "data": {
      "text/html": [
       "<div>\n",
       "<style scoped>\n",
       "    .dataframe tbody tr th:only-of-type {\n",
       "        vertical-align: middle;\n",
       "    }\n",
       "\n",
       "    .dataframe tbody tr th {\n",
       "        vertical-align: top;\n",
       "    }\n",
       "\n",
       "    .dataframe thead th {\n",
       "        text-align: right;\n",
       "    }\n",
       "</style>\n",
       "<table border=\"1\" class=\"dataframe\">\n",
       "  <thead>\n",
       "    <tr style=\"text-align: right;\">\n",
       "      <th></th>\n",
       "      <th>Name</th>\n",
       "      <th>Calories</th>\n",
       "      <th>Fat</th>\n",
       "      <th>Carb</th>\n",
       "      <th>Fiber</th>\n",
       "      <th>Protein</th>\n",
       "    </tr>\n",
       "  </thead>\n",
       "  <tbody>\n",
       "    <tr>\n",
       "      <th>0</th>\n",
       "      <td>Chonga Bagel</td>\n",
       "      <td>300</td>\n",
       "      <td>5.0</td>\n",
       "      <td>50</td>\n",
       "      <td>3</td>\n",
       "      <td>12</td>\n",
       "    </tr>\n",
       "    <tr>\n",
       "      <th>1</th>\n",
       "      <td>8-Grain Roll</td>\n",
       "      <td>380</td>\n",
       "      <td>6.0</td>\n",
       "      <td>70</td>\n",
       "      <td>7</td>\n",
       "      <td>10</td>\n",
       "    </tr>\n",
       "    <tr>\n",
       "      <th>2</th>\n",
       "      <td>Almond Croissant</td>\n",
       "      <td>410</td>\n",
       "      <td>22.0</td>\n",
       "      <td>45</td>\n",
       "      <td>3</td>\n",
       "      <td>10</td>\n",
       "    </tr>\n",
       "    <tr>\n",
       "      <th>3</th>\n",
       "      <td>Apple Fritter</td>\n",
       "      <td>460</td>\n",
       "      <td>23.0</td>\n",
       "      <td>56</td>\n",
       "      <td>2</td>\n",
       "      <td>7</td>\n",
       "    </tr>\n",
       "    <tr>\n",
       "      <th>4</th>\n",
       "      <td>Banana Nut Bread</td>\n",
       "      <td>420</td>\n",
       "      <td>22.0</td>\n",
       "      <td>52</td>\n",
       "      <td>2</td>\n",
       "      <td>6</td>\n",
       "    </tr>\n",
       "  </tbody>\n",
       "</table>\n",
       "</div>"
      ],
      "text/plain": [
       "               Name  Calories   Fat  Carb  Fiber  Protein\n",
       "0      Chonga Bagel       300   5.0    50      3       12\n",
       "1      8-Grain Roll       380   6.0    70      7       10\n",
       "2  Almond Croissant       410  22.0    45      3       10\n",
       "3     Apple Fritter       460  23.0    56      2        7\n",
       "4  Banana Nut Bread       420  22.0    52      2        6"
      ]
     },
     "execution_count": 106,
     "metadata": {},
     "output_type": "execute_result"
    }
   ],
   "source": [
    "path = \"/Users/gunnvantsaini/Library/CloudStorage/OneDrive-Personal/Work/Vired/Content/corp_trainings/tiger_analytics/data/starbucks.csv\"\n",
    "star = pd.read_csv(path)\n",
    "star.head()"
   ]
  },
  {
   "cell_type": "code",
   "execution_count": 107,
   "id": "7df9770c-936c-4de8-82eb-6ea45bf22c73",
   "metadata": {},
   "outputs": [
    {
     "data": {
      "text/plain": [
       "10                                Chewy Chocolate Cookie\n",
       "25          Everybody's Favorite - Bantam Bagel (2 Pack)\n",
       "27                             Frappuccino® Cookie Straw\n",
       "28                 French Toast - Bantam Bagels (2 Pack)\n",
       "39                             Petite Vanilla Bean Scone\n",
       "48                                   Strawberry Cake Pop\n",
       "49                  The Classic - Bantam Bagels (2 Pack)\n",
       "77                                     Birthday Cake Pop\n",
       "78                                    Chocolate Cake Pop\n",
       "79                  Chocolate Chip Cookie Dough Cake Pop\n",
       "80                                       Pirate Cake Pop\n",
       "83                           Classic Whole-Grain Oatmeal\n",
       "87     Reduced-Fat Turkey Bacon & Cage Free Egg White...\n",
       "92           Sous Vide Egg Bites: Egg White & Red Pepper\n",
       "106                                    Berry Trio Yogurt\n",
       "111                             Organic Avocado (Spread)\n",
       "Name: Name, dtype: object"
      ]
     },
     "execution_count": 107,
     "metadata": {},
     "output_type": "execute_result"
    }
   ],
   "source": [
    "f = \"Calories<450 and Protein<=40 and Fat<=10 and Carb<=40 and Fiber<=5\"\n",
    "star.query(f)['Name']"
   ]
  },
  {
   "cell_type": "code",
   "execution_count": 108,
   "id": "d56e4ddc-12a2-4304-bb80-0edbdaba14c0",
   "metadata": {},
   "outputs": [],
   "source": [
    "## read stores data\n",
    "path = \"/Users/gunnvantsaini/Library/CloudStorage/OneDrive-Personal/Work/Vired/Content/corp_trainings/tiger_analytics/data/stores.csv\"\n",
    "store = pd.read_csv(path)"
   ]
  },
  {
   "cell_type": "code",
   "execution_count": 109,
   "id": "6ea82e11-2586-4d71-9200-561071478c6b",
   "metadata": {},
   "outputs": [
    {
     "data": {
      "text/html": [
       "<div>\n",
       "<style scoped>\n",
       "    .dataframe tbody tr th:only-of-type {\n",
       "        vertical-align: middle;\n",
       "    }\n",
       "\n",
       "    .dataframe tbody tr th {\n",
       "        vertical-align: top;\n",
       "    }\n",
       "\n",
       "    .dataframe thead th {\n",
       "        text-align: right;\n",
       "    }\n",
       "</style>\n",
       "<table border=\"1\" class=\"dataframe\">\n",
       "  <thead>\n",
       "    <tr style=\"text-align: right;\">\n",
       "      <th></th>\n",
       "      <th>Row ID</th>\n",
       "      <th>Order ID</th>\n",
       "      <th>Order Date</th>\n",
       "      <th>Ship Date</th>\n",
       "      <th>Ship Mode</th>\n",
       "      <th>Customer ID</th>\n",
       "      <th>Customer Name</th>\n",
       "      <th>Segment</th>\n",
       "      <th>Country</th>\n",
       "      <th>City</th>\n",
       "      <th>...</th>\n",
       "      <th>Postal Code</th>\n",
       "      <th>Region</th>\n",
       "      <th>Product ID</th>\n",
       "      <th>Category</th>\n",
       "      <th>Sub-Category</th>\n",
       "      <th>Product Name</th>\n",
       "      <th>Sales</th>\n",
       "      <th>Quantity</th>\n",
       "      <th>Discount</th>\n",
       "      <th>Profit</th>\n",
       "    </tr>\n",
       "  </thead>\n",
       "  <tbody>\n",
       "    <tr>\n",
       "      <th>0</th>\n",
       "      <td>1</td>\n",
       "      <td>CA-2013-152156</td>\n",
       "      <td>11-09-2013</td>\n",
       "      <td>11-12-2013</td>\n",
       "      <td>Second Class</td>\n",
       "      <td>CG-12520</td>\n",
       "      <td>Claire Gute</td>\n",
       "      <td>Consumer</td>\n",
       "      <td>United States</td>\n",
       "      <td>Henderson</td>\n",
       "      <td>...</td>\n",
       "      <td>42420</td>\n",
       "      <td>South</td>\n",
       "      <td>FUR-BO-10001798</td>\n",
       "      <td>Furniture</td>\n",
       "      <td>Bookcases</td>\n",
       "      <td>Bush Somerset Collection Bookcase</td>\n",
       "      <td>261.96</td>\n",
       "      <td>2</td>\n",
       "      <td>0.0</td>\n",
       "      <td>41.9136</td>\n",
       "    </tr>\n",
       "    <tr>\n",
       "      <th>1</th>\n",
       "      <td>2</td>\n",
       "      <td>CA-2013-152156</td>\n",
       "      <td>11-09-2013</td>\n",
       "      <td>11-12-2013</td>\n",
       "      <td>Second Class</td>\n",
       "      <td>CG-12520</td>\n",
       "      <td>Claire Gute</td>\n",
       "      <td>Consumer</td>\n",
       "      <td>United States</td>\n",
       "      <td>Henderson</td>\n",
       "      <td>...</td>\n",
       "      <td>42420</td>\n",
       "      <td>South</td>\n",
       "      <td>FUR-CH-10000454</td>\n",
       "      <td>Furniture</td>\n",
       "      <td>Chairs</td>\n",
       "      <td>Hon Deluxe Fabric Upholstered Stacking Chairs,...</td>\n",
       "      <td>731.94</td>\n",
       "      <td>3</td>\n",
       "      <td>0.0</td>\n",
       "      <td>219.5820</td>\n",
       "    </tr>\n",
       "  </tbody>\n",
       "</table>\n",
       "<p>2 rows × 21 columns</p>\n",
       "</div>"
      ],
      "text/plain": [
       "   Row ID        Order ID  Order Date   Ship Date     Ship Mode Customer ID  \\\n",
       "0       1  CA-2013-152156  11-09-2013  11-12-2013  Second Class    CG-12520   \n",
       "1       2  CA-2013-152156  11-09-2013  11-12-2013  Second Class    CG-12520   \n",
       "\n",
       "  Customer Name   Segment        Country       City  ... Postal Code  Region  \\\n",
       "0   Claire Gute  Consumer  United States  Henderson  ...       42420   South   \n",
       "1   Claire Gute  Consumer  United States  Henderson  ...       42420   South   \n",
       "\n",
       "        Product ID   Category Sub-Category  \\\n",
       "0  FUR-BO-10001798  Furniture    Bookcases   \n",
       "1  FUR-CH-10000454  Furniture       Chairs   \n",
       "\n",
       "                                        Product Name   Sales  Quantity  \\\n",
       "0                  Bush Somerset Collection Bookcase  261.96         2   \n",
       "1  Hon Deluxe Fabric Upholstered Stacking Chairs,...  731.94         3   \n",
       "\n",
       "   Discount    Profit  \n",
       "0       0.0   41.9136  \n",
       "1       0.0  219.5820  \n",
       "\n",
       "[2 rows x 21 columns]"
      ]
     },
     "execution_count": 109,
     "metadata": {},
     "output_type": "execute_result"
    }
   ],
   "source": [
    "store.head(2)"
   ]
  },
  {
   "cell_type": "code",
   "execution_count": 114,
   "id": "928772ab-0065-430d-bdf7-51e149ea7107",
   "metadata": {},
   "outputs": [
    {
     "data": {
      "text/html": [
       "<div>\n",
       "<style scoped>\n",
       "    .dataframe tbody tr th:only-of-type {\n",
       "        vertical-align: middle;\n",
       "    }\n",
       "\n",
       "    .dataframe tbody tr th {\n",
       "        vertical-align: top;\n",
       "    }\n",
       "\n",
       "    .dataframe thead tr th {\n",
       "        text-align: left;\n",
       "    }\n",
       "\n",
       "    .dataframe thead tr:last-of-type th {\n",
       "        text-align: right;\n",
       "    }\n",
       "</style>\n",
       "<table border=\"1\" class=\"dataframe\">\n",
       "  <thead>\n",
       "    <tr>\n",
       "      <th></th>\n",
       "      <th colspan=\"2\" halign=\"left\">Profit</th>\n",
       "      <th>Sales</th>\n",
       "    </tr>\n",
       "    <tr>\n",
       "      <th></th>\n",
       "      <th>mean</th>\n",
       "      <th>sum</th>\n",
       "      <th>max</th>\n",
       "    </tr>\n",
       "    <tr>\n",
       "      <th>City</th>\n",
       "      <th></th>\n",
       "      <th></th>\n",
       "      <th></th>\n",
       "    </tr>\n",
       "  </thead>\n",
       "  <tbody>\n",
       "    <tr>\n",
       "      <th>Aberdeen</th>\n",
       "      <td>6.630000</td>\n",
       "      <td>6.6300</td>\n",
       "      <td>25.500</td>\n",
       "    </tr>\n",
       "    <tr>\n",
       "      <th>Abilene</th>\n",
       "      <td>-3.758400</td>\n",
       "      <td>-3.7584</td>\n",
       "      <td>1.392</td>\n",
       "    </tr>\n",
       "    <tr>\n",
       "      <th>Akron</th>\n",
       "      <td>-8.887410</td>\n",
       "      <td>-186.6356</td>\n",
       "      <td>665.408</td>\n",
       "    </tr>\n",
       "    <tr>\n",
       "      <th>Albuquerque</th>\n",
       "      <td>45.292007</td>\n",
       "      <td>634.0881</td>\n",
       "      <td>595.000</td>\n",
       "    </tr>\n",
       "    <tr>\n",
       "      <th>Alexandria</th>\n",
       "      <td>19.913644</td>\n",
       "      <td>318.6183</td>\n",
       "      <td>4164.050</td>\n",
       "    </tr>\n",
       "    <tr>\n",
       "      <th>...</th>\n",
       "      <td>...</td>\n",
       "      <td>...</td>\n",
       "      <td>...</td>\n",
       "    </tr>\n",
       "    <tr>\n",
       "      <th>Woonsocket</th>\n",
       "      <td>19.669775</td>\n",
       "      <td>78.6791</td>\n",
       "      <td>52.960</td>\n",
       "    </tr>\n",
       "    <tr>\n",
       "      <th>Yonkers</th>\n",
       "      <td>184.517047</td>\n",
       "      <td>2767.7557</td>\n",
       "      <td>4899.930</td>\n",
       "    </tr>\n",
       "    <tr>\n",
       "      <th>York</th>\n",
       "      <td>-20.433840</td>\n",
       "      <td>-102.1692</td>\n",
       "      <td>422.058</td>\n",
       "    </tr>\n",
       "    <tr>\n",
       "      <th>Yucaipa</th>\n",
       "      <td>13.208000</td>\n",
       "      <td>13.2080</td>\n",
       "      <td>50.800</td>\n",
       "    </tr>\n",
       "    <tr>\n",
       "      <th>Yuma</th>\n",
       "      <td>-116.497725</td>\n",
       "      <td>-465.9909</td>\n",
       "      <td>599.985</td>\n",
       "    </tr>\n",
       "  </tbody>\n",
       "</table>\n",
       "<p>531 rows × 3 columns</p>\n",
       "</div>"
      ],
      "text/plain": [
       "                 Profit                Sales\n",
       "                   mean        sum       max\n",
       "City                                        \n",
       "Aberdeen       6.630000     6.6300    25.500\n",
       "Abilene       -3.758400    -3.7584     1.392\n",
       "Akron         -8.887410  -186.6356   665.408\n",
       "Albuquerque   45.292007   634.0881   595.000\n",
       "Alexandria    19.913644   318.6183  4164.050\n",
       "...                 ...        ...       ...\n",
       "Woonsocket    19.669775    78.6791    52.960\n",
       "Yonkers      184.517047  2767.7557  4899.930\n",
       "York         -20.433840  -102.1692   422.058\n",
       "Yucaipa       13.208000    13.2080    50.800\n",
       "Yuma        -116.497725  -465.9909   599.985\n",
       "\n",
       "[531 rows x 3 columns]"
      ]
     },
     "execution_count": 114,
     "metadata": {},
     "output_type": "execute_result"
    }
   ],
   "source": [
    "## groupby\n",
    "## Undertand the average profit by each city\n",
    "store.groupby('City').agg({'Profit':['mean','sum'],'Sales':'max'})"
   ]
  },
  {
   "cell_type": "code",
   "execution_count": 115,
   "id": "2bed3d9e-6e9d-462f-8161-d84c53aa2e79",
   "metadata": {},
   "outputs": [
    {
     "data": {
      "text/html": [
       "<div>\n",
       "<style scoped>\n",
       "    .dataframe tbody tr th:only-of-type {\n",
       "        vertical-align: middle;\n",
       "    }\n",
       "\n",
       "    .dataframe tbody tr th {\n",
       "        vertical-align: top;\n",
       "    }\n",
       "\n",
       "    .dataframe thead th {\n",
       "        text-align: right;\n",
       "    }\n",
       "</style>\n",
       "<table border=\"1\" class=\"dataframe\">\n",
       "  <thead>\n",
       "    <tr style=\"text-align: right;\">\n",
       "      <th></th>\n",
       "      <th></th>\n",
       "      <th>Profit</th>\n",
       "    </tr>\n",
       "    <tr>\n",
       "      <th>Region</th>\n",
       "      <th>City</th>\n",
       "      <th></th>\n",
       "    </tr>\n",
       "  </thead>\n",
       "  <tbody>\n",
       "    <tr>\n",
       "      <th rowspan=\"5\" valign=\"top\">Central</th>\n",
       "      <th>Aberdeen</th>\n",
       "      <td>6.630000</td>\n",
       "    </tr>\n",
       "    <tr>\n",
       "      <th>Abilene</th>\n",
       "      <td>-3.758400</td>\n",
       "    </tr>\n",
       "    <tr>\n",
       "      <th>Allen</th>\n",
       "      <td>-9.969375</td>\n",
       "    </tr>\n",
       "    <tr>\n",
       "      <th>Amarillo</th>\n",
       "      <td>-38.796830</td>\n",
       "    </tr>\n",
       "    <tr>\n",
       "      <th>Ann Arbor</th>\n",
       "      <td>45.783160</td>\n",
       "    </tr>\n",
       "    <tr>\n",
       "      <th>...</th>\n",
       "      <th>...</th>\n",
       "      <td>...</td>\n",
       "    </tr>\n",
       "    <tr>\n",
       "      <th rowspan=\"5\" valign=\"top\">West</th>\n",
       "      <th>Westminster</th>\n",
       "      <td>44.922859</td>\n",
       "    </tr>\n",
       "    <tr>\n",
       "      <th>Whittier</th>\n",
       "      <td>44.476800</td>\n",
       "    </tr>\n",
       "    <tr>\n",
       "      <th>Woodland</th>\n",
       "      <td>11.128267</td>\n",
       "    </tr>\n",
       "    <tr>\n",
       "      <th>Yucaipa</th>\n",
       "      <td>13.208000</td>\n",
       "    </tr>\n",
       "    <tr>\n",
       "      <th>Yuma</th>\n",
       "      <td>-116.497725</td>\n",
       "    </tr>\n",
       "  </tbody>\n",
       "</table>\n",
       "<p>583 rows × 1 columns</p>\n",
       "</div>"
      ],
      "text/plain": [
       "                         Profit\n",
       "Region  City                   \n",
       "Central Aberdeen       6.630000\n",
       "        Abilene       -3.758400\n",
       "        Allen         -9.969375\n",
       "        Amarillo     -38.796830\n",
       "        Ann Arbor     45.783160\n",
       "...                         ...\n",
       "West    Westminster   44.922859\n",
       "        Whittier      44.476800\n",
       "        Woodland      11.128267\n",
       "        Yucaipa       13.208000\n",
       "        Yuma        -116.497725\n",
       "\n",
       "[583 rows x 1 columns]"
      ]
     },
     "execution_count": 115,
     "metadata": {},
     "output_type": "execute_result"
    }
   ],
   "source": [
    "## find out the avg profit by region and city\n",
    "store.groupby(['Region','City']).agg({'Profit':'mean'})"
   ]
  },
  {
   "cell_type": "markdown",
   "id": "58d08b70-60bf-441d-9645-f642ce64ab76",
   "metadata": {},
   "source": [
    "### Consider the data set audit.csv, it has characteristics of 2000 tax returns, the data set includes the following variables:\n",
    "\n",
    "- ID: Unique Identifier for each person\n",
    "- Age: Age of person\n",
    "- Employment: Type of Employment\n",
    "- Education: Highest level of education\n",
    "- Marital: Current Marital Status\n",
    "- Occupation: Type of occupation\n",
    "- Income: Amount of Income declared\n",
    "- Gender: Gender of Person\n",
    "- Deductions: Total amount of expenses that a person claims in their financial statements\n",
    "- Hours: Average hours worked on a weekly basis\n",
    "- RISK_Adjustment: The continuous target variable; this variable records the monetary amount of any adjustment to the person’s financial claims as a result of a productive audit. This variable is a measure of the size of the risk associated with the person.\n",
    "- TARGET_Adjusted: The binary target variable for classification modeling (0/1), indicating nonproductive and productive audits, respectively. Productive audits are those that result in an adjustment being made to a client’s financial statement.\n",
    "\n",
    "**Q1. Compute the %age of productive audits across**\n",
    "\n",
    "(a) Gender (b) Marital Status (c) Education level\n",
    "\n"
   ]
  },
  {
   "cell_type": "code",
   "execution_count": 116,
   "id": "735e014c-fece-4c11-b1be-f0e8c26440fb",
   "metadata": {},
   "outputs": [
    {
     "data": {
      "text/html": [
       "<div>\n",
       "<style scoped>\n",
       "    .dataframe tbody tr th:only-of-type {\n",
       "        vertical-align: middle;\n",
       "    }\n",
       "\n",
       "    .dataframe tbody tr th {\n",
       "        vertical-align: top;\n",
       "    }\n",
       "\n",
       "    .dataframe thead th {\n",
       "        text-align: right;\n",
       "    }\n",
       "</style>\n",
       "<table border=\"1\" class=\"dataframe\">\n",
       "  <thead>\n",
       "    <tr style=\"text-align: right;\">\n",
       "      <th></th>\n",
       "      <th>ID</th>\n",
       "      <th>Age</th>\n",
       "      <th>Employment</th>\n",
       "      <th>Education</th>\n",
       "      <th>Marital</th>\n",
       "      <th>Occupation</th>\n",
       "      <th>Income</th>\n",
       "      <th>Gender</th>\n",
       "      <th>Deductions</th>\n",
       "      <th>Hours</th>\n",
       "      <th>RISK_Adjustment</th>\n",
       "      <th>TARGET_Adjusted</th>\n",
       "    </tr>\n",
       "  </thead>\n",
       "  <tbody>\n",
       "    <tr>\n",
       "      <th>0</th>\n",
       "      <td>1004641</td>\n",
       "      <td>38</td>\n",
       "      <td>Private</td>\n",
       "      <td>College</td>\n",
       "      <td>Unmarried</td>\n",
       "      <td>Service</td>\n",
       "      <td>81838.0</td>\n",
       "      <td>Female</td>\n",
       "      <td>0.0</td>\n",
       "      <td>72</td>\n",
       "      <td>0</td>\n",
       "      <td>0</td>\n",
       "    </tr>\n",
       "    <tr>\n",
       "      <th>1</th>\n",
       "      <td>1010229</td>\n",
       "      <td>35</td>\n",
       "      <td>Private</td>\n",
       "      <td>Associate</td>\n",
       "      <td>Absent</td>\n",
       "      <td>Transport</td>\n",
       "      <td>72099.0</td>\n",
       "      <td>Male</td>\n",
       "      <td>0.0</td>\n",
       "      <td>30</td>\n",
       "      <td>0</td>\n",
       "      <td>0</td>\n",
       "    </tr>\n",
       "  </tbody>\n",
       "</table>\n",
       "</div>"
      ],
      "text/plain": [
       "        ID  Age Employment  Education    Marital Occupation   Income  Gender  \\\n",
       "0  1004641   38    Private    College  Unmarried    Service  81838.0  Female   \n",
       "1  1010229   35    Private  Associate     Absent  Transport  72099.0    Male   \n",
       "\n",
       "   Deductions  Hours  RISK_Adjustment  TARGET_Adjusted  \n",
       "0         0.0     72                0                0  \n",
       "1         0.0     30                0                0  "
      ]
     },
     "execution_count": 116,
     "metadata": {},
     "output_type": "execute_result"
    }
   ],
   "source": [
    "url = \"https://raw.githubusercontent.com/Gunnvant/PythonForModellers/master/Data/audit.csv\"\n",
    "audit = pd.read_csv(url)\n",
    "audit.head(2)"
   ]
  },
  {
   "cell_type": "code",
   "execution_count": 117,
   "id": "dbb81aec-a3b8-4c02-8762-2347a910dec4",
   "metadata": {},
   "outputs": [
    {
     "data": {
      "text/plain": [
       "0       0\n",
       "1       0\n",
       "2       0\n",
       "3       1\n",
       "4       1\n",
       "       ..\n",
       "1995    0\n",
       "1996    0\n",
       "1997    0\n",
       "1998    0\n",
       "1999    0\n",
       "Name: TARGET_Adjusted, Length: 2000, dtype: int64"
      ]
     },
     "execution_count": 117,
     "metadata": {},
     "output_type": "execute_result"
    }
   ],
   "source": [
    "audit['TARGET_Adjusted']"
   ]
  },
  {
   "cell_type": "code",
   "execution_count": 118,
   "id": "019bc622-9c31-45ea-a838-af3c7306539d",
   "metadata": {},
   "outputs": [
    {
     "data": {
      "text/plain": [
       "4"
      ]
     },
     "execution_count": 118,
     "metadata": {},
     "output_type": "execute_result"
    }
   ],
   "source": [
    "sum([0,1,0,1,0,1,1])"
   ]
  },
  {
   "cell_type": "code",
   "execution_count": 119,
   "id": "ea91790b-a626-465d-ac74-70afba10691e",
   "metadata": {},
   "outputs": [
    {
     "data": {
      "text/html": [
       "<div>\n",
       "<style scoped>\n",
       "    .dataframe tbody tr th:only-of-type {\n",
       "        vertical-align: middle;\n",
       "    }\n",
       "\n",
       "    .dataframe tbody tr th {\n",
       "        vertical-align: top;\n",
       "    }\n",
       "\n",
       "    .dataframe thead th {\n",
       "        text-align: right;\n",
       "    }\n",
       "</style>\n",
       "<table border=\"1\" class=\"dataframe\">\n",
       "  <thead>\n",
       "    <tr style=\"text-align: right;\">\n",
       "      <th></th>\n",
       "      <th>TARGET_Adjusted</th>\n",
       "    </tr>\n",
       "    <tr>\n",
       "      <th>Gender</th>\n",
       "      <th></th>\n",
       "    </tr>\n",
       "  </thead>\n",
       "  <tbody>\n",
       "    <tr>\n",
       "      <th>Female</th>\n",
       "      <td>0.107595</td>\n",
       "    </tr>\n",
       "    <tr>\n",
       "      <th>Male</th>\n",
       "      <td>0.288743</td>\n",
       "    </tr>\n",
       "  </tbody>\n",
       "</table>\n",
       "</div>"
      ],
      "text/plain": [
       "        TARGET_Adjusted\n",
       "Gender                 \n",
       "Female         0.107595\n",
       "Male           0.288743"
      ]
     },
     "execution_count": 119,
     "metadata": {},
     "output_type": "execute_result"
    }
   ],
   "source": [
    "### average=sum/count, \n",
    "### percentage = (achieved/total)\n",
    "### sum[0,1,0,0,1,1] = #Productive Audits\n",
    "### Percentage =  #Productive Audits/Total = sum()/Total=average\n",
    "audit.groupby('Gender').agg({'TARGET_Adjusted':'mean'})"
   ]
  },
  {
   "cell_type": "code",
   "execution_count": 120,
   "id": "d44ab084-0175-4bd6-97ff-35410f043044",
   "metadata": {},
   "outputs": [
    {
     "data": {
      "text/html": [
       "<div>\n",
       "<style scoped>\n",
       "    .dataframe tbody tr th:only-of-type {\n",
       "        vertical-align: middle;\n",
       "    }\n",
       "\n",
       "    .dataframe tbody tr th {\n",
       "        vertical-align: top;\n",
       "    }\n",
       "\n",
       "    .dataframe thead th {\n",
       "        text-align: right;\n",
       "    }\n",
       "</style>\n",
       "<table border=\"1\" class=\"dataframe\">\n",
       "  <thead>\n",
       "    <tr style=\"text-align: right;\">\n",
       "      <th></th>\n",
       "      <th>TARGET_Adjusted</th>\n",
       "    </tr>\n",
       "    <tr>\n",
       "      <th>Marital</th>\n",
       "      <th></th>\n",
       "    </tr>\n",
       "  </thead>\n",
       "  <tbody>\n",
       "    <tr>\n",
       "      <th>Absent</th>\n",
       "      <td>0.044843</td>\n",
       "    </tr>\n",
       "    <tr>\n",
       "      <th>Divorced</th>\n",
       "      <td>0.075188</td>\n",
       "    </tr>\n",
       "    <tr>\n",
       "      <th>Married</th>\n",
       "      <td>0.438386</td>\n",
       "    </tr>\n",
       "    <tr>\n",
       "      <th>Married-spouse-absent</th>\n",
       "      <td>0.090909</td>\n",
       "    </tr>\n",
       "    <tr>\n",
       "      <th>Unmarried</th>\n",
       "      <td>0.074627</td>\n",
       "    </tr>\n",
       "    <tr>\n",
       "      <th>Widowed</th>\n",
       "      <td>0.067797</td>\n",
       "    </tr>\n",
       "  </tbody>\n",
       "</table>\n",
       "</div>"
      ],
      "text/plain": [
       "                       TARGET_Adjusted\n",
       "Marital                               \n",
       "Absent                        0.044843\n",
       "Divorced                      0.075188\n",
       "Married                       0.438386\n",
       "Married-spouse-absent         0.090909\n",
       "Unmarried                     0.074627\n",
       "Widowed                       0.067797"
      ]
     },
     "execution_count": 120,
     "metadata": {},
     "output_type": "execute_result"
    }
   ],
   "source": [
    "audit.groupby('Marital').agg({'TARGET_Adjusted':'mean'})"
   ]
  },
  {
   "cell_type": "code",
   "execution_count": 121,
   "id": "8f3069c6-47a4-46e5-bf28-8be6cce1b9f1",
   "metadata": {},
   "outputs": [
    {
     "data": {
      "text/html": [
       "<div>\n",
       "<style scoped>\n",
       "    .dataframe tbody tr th:only-of-type {\n",
       "        vertical-align: middle;\n",
       "    }\n",
       "\n",
       "    .dataframe tbody tr th {\n",
       "        vertical-align: top;\n",
       "    }\n",
       "\n",
       "    .dataframe thead th {\n",
       "        text-align: right;\n",
       "    }\n",
       "</style>\n",
       "<table border=\"1\" class=\"dataframe\">\n",
       "  <thead>\n",
       "    <tr style=\"text-align: right;\">\n",
       "      <th></th>\n",
       "      <th>TARGET_Adjusted</th>\n",
       "    </tr>\n",
       "    <tr>\n",
       "      <th>Education</th>\n",
       "      <th></th>\n",
       "    </tr>\n",
       "  </thead>\n",
       "  <tbody>\n",
       "    <tr>\n",
       "      <th>Associate</th>\n",
       "      <td>0.304348</td>\n",
       "    </tr>\n",
       "    <tr>\n",
       "      <th>Bachelor</th>\n",
       "      <td>0.423188</td>\n",
       "    </tr>\n",
       "    <tr>\n",
       "      <th>College</th>\n",
       "      <td>0.178733</td>\n",
       "    </tr>\n",
       "    <tr>\n",
       "      <th>Doctorate</th>\n",
       "      <td>0.629630</td>\n",
       "    </tr>\n",
       "    <tr>\n",
       "      <th>HSgrad</th>\n",
       "      <td>0.151515</td>\n",
       "    </tr>\n",
       "    <tr>\n",
       "      <th>Master</th>\n",
       "      <td>0.558824</td>\n",
       "    </tr>\n",
       "    <tr>\n",
       "      <th>Preschool</th>\n",
       "      <td>0.000000</td>\n",
       "    </tr>\n",
       "    <tr>\n",
       "      <th>Professional</th>\n",
       "      <td>0.708333</td>\n",
       "    </tr>\n",
       "    <tr>\n",
       "      <th>Vocational</th>\n",
       "      <td>0.174419</td>\n",
       "    </tr>\n",
       "    <tr>\n",
       "      <th>Yr10</th>\n",
       "      <td>0.068966</td>\n",
       "    </tr>\n",
       "    <tr>\n",
       "      <th>Yr11</th>\n",
       "      <td>0.040541</td>\n",
       "    </tr>\n",
       "    <tr>\n",
       "      <th>Yr12</th>\n",
       "      <td>0.058824</td>\n",
       "    </tr>\n",
       "    <tr>\n",
       "      <th>Yr1t4</th>\n",
       "      <td>0.000000</td>\n",
       "    </tr>\n",
       "    <tr>\n",
       "      <th>Yr5t6</th>\n",
       "      <td>0.086957</td>\n",
       "    </tr>\n",
       "    <tr>\n",
       "      <th>Yr7t8</th>\n",
       "      <td>0.000000</td>\n",
       "    </tr>\n",
       "    <tr>\n",
       "      <th>Yr9</th>\n",
       "      <td>0.037037</td>\n",
       "    </tr>\n",
       "  </tbody>\n",
       "</table>\n",
       "</div>"
      ],
      "text/plain": [
       "              TARGET_Adjusted\n",
       "Education                    \n",
       "Associate            0.304348\n",
       "Bachelor             0.423188\n",
       "College              0.178733\n",
       "Doctorate            0.629630\n",
       "HSgrad               0.151515\n",
       "Master               0.558824\n",
       "Preschool            0.000000\n",
       "Professional         0.708333\n",
       "Vocational           0.174419\n",
       "Yr10                 0.068966\n",
       "Yr11                 0.040541\n",
       "Yr12                 0.058824\n",
       "Yr1t4                0.000000\n",
       "Yr5t6                0.086957\n",
       "Yr7t8                0.000000\n",
       "Yr9                  0.037037"
      ]
     },
     "execution_count": 121,
     "metadata": {},
     "output_type": "execute_result"
    }
   ],
   "source": [
    "audit.groupby('Education').agg({'TARGET_Adjusted':'mean'})"
   ]
  },
  {
   "cell_type": "markdown",
   "id": "5153ac5d-90ac-43bc-a31f-a1bcec5edfad",
   "metadata": {},
   "source": [
    "Use the dataset stored [here](https://drive.google.com/file/d/1WShGELaUTe_NsMvLfDl10OVQJgNgkFwg/view?usp=sharing)\n",
    "\n",
    "Once you download the data you will end up with a zip file. You will need to unzip it and you will find that there are several csv files. These files contain the data on pollution level collected by IOT sensors. You will observe that many files have same latitude and longitude data. Your task is the following:\n",
    "\n",
    "1. Find out how many total csv files are there?\n",
    "2. Club all the files that belong to each location together. One simple way to do this is to generate a dictionary that has lat-longs as keys and files with same location as values.\n",
    "3. Find out which location has the maximum number of files clubbed together. "
   ]
  },
  {
   "cell_type": "code",
   "execution_count": 5,
   "id": "3fd1107f-dafc-4d15-a725-f5f0fd91062f",
   "metadata": {},
   "outputs": [],
   "source": [
    "import os\n",
    "import csv"
   ]
  },
  {
   "cell_type": "code",
   "execution_count": 2,
   "id": "54c95e72-0a5b-447b-8025-5debcecac339",
   "metadata": {},
   "outputs": [],
   "source": [
    "path = \"/Users/gunnvantsaini/Downloads/pollution\"\n",
    "file_names = os.listdir(path)"
   ]
  },
  {
   "cell_type": "code",
   "execution_count": 3,
   "id": "f059e7ba-e5ae-455a-a5bd-1e8c8f7f6dc1",
   "metadata": {},
   "outputs": [
    {
     "data": {
      "text/plain": [
       "449"
      ]
     },
     "execution_count": 3,
     "metadata": {},
     "output_type": "execute_result"
    }
   ],
   "source": [
    "len(file_names)"
   ]
  },
  {
   "cell_type": "markdown",
   "id": "7b090450-54d5-46a4-8b6e-657dae0b1838",
   "metadata": {},
   "source": [
    "- Create an empty dict\n",
    "- Loop and read each file\n",
    "- Read the lat-long record in row1\n",
    "- Make lat-long as a key in the dict if lat-long is not present with an empty list as value, append the file name to the list\n",
    "- In case-long is present, append the name of the file in the list"
   ]
  },
  {
   "cell_type": "code",
   "execution_count": 14,
   "id": "387628de-20b0-478b-8cfb-96969764ad48",
   "metadata": {
    "tags": []
   },
   "outputs": [],
   "source": [
    "mapping = {}\n",
    "base_path = \"/Users/gunnvantsaini/Downloads/pollution/\"\n",
    "for file_name in file_names:\n",
    "    path = base_path+file_name\n",
    "    with open(path, \"r\") as con:\n",
    "        reader = csv.DictReader(con,delimiter=\",\")\n",
    "        for row in reader:\n",
    "            long_lat = row['longitude']+\"_\"+row['latitude']\n",
    "            break\n",
    "        if long_lat not in mapping:\n",
    "            mapping[long_lat]=[]\n",
    "            mapping[long_lat].append(file_name)\n",
    "        else:\n",
    "            mapping[long_lat].append(file_name)              "
   ]
  },
  {
   "cell_type": "code",
   "execution_count": 16,
   "id": "682c09e0-9046-4e5c-9f27-fb9c5d3bbe7a",
   "metadata": {},
   "outputs": [
    {
     "data": {
      "text/plain": [
       "{'10.182944170639075_56.1589844936963': ['pollutionData188013.csv',\n",
       "  'pollutionData188066.csv',\n",
       "  'pollutionData181006.csv'],\n",
       " '10.267762215938546_56.22020076302727': ['pollutionData190853.csv',\n",
       "  'pollutionData190825.csv',\n",
       "  'pollutionData209907.csv'],\n",
       " '10.179336344162948_56.138322977998705': ['pollutionData190338.csv',\n",
       "  'pollutionData184703.csv',\n",
       "  'pollutionData190232.csv'],\n",
       " '10.189980711639464_56.13458495857738': ['pollutionData209748.csv',\n",
       "  'pollutionData209721.csv'],\n",
       " '10.192906038028696_56.141835968071454': ['pollutionData209774.csv',\n",
       "  'pollutionData206051.csv',\n",
       "  'pollutionData206104.csv'],\n",
       " '10.179150601188667_56.13844851575673': ['pollutionData209827.csv',\n",
       "  'pollutionData184675.csv',\n",
       "  'pollutionData203795.csv'],\n",
       " '10.149547918402732_56.170886798880105': ['pollutionData195446.csv',\n",
       "  'pollutionData195499.csv'],\n",
       " '10.176133542327875_56.15591411050229': ['pollutionData188198.csv',\n",
       "  'pollutionData183117.csv',\n",
       "  'pollutionData188145.csv'],\n",
       " '10.173161614749915_56.210756242190286': ['pollutionData158805.csv'],\n",
       " '10.158060728836062_56.14774074192765': ['pollutionData187297.csv',\n",
       "  'pollutionData184758.csv',\n",
       "  'pollutionData187244.csv'],\n",
       " '10.19604842460626_56.184659561973874': ['pollutionData210146.csv',\n",
       "  'pollutionData192653.csv'],\n",
       " '10.212341355819717_56.187071255964284': ['pollutionData179148.csv'],\n",
       " '10.200790644180302_56.18324423193787': ['pollutionData179174.csv'],\n",
       " '10.182841611114554_56.15499691392427': ['pollutionData188172.csv',\n",
       "  'pollutionData181060.csv'],\n",
       " '10.141663381614649_56.124304277059785': ['pollutionData197734.csv',\n",
       "  'pollutionData201749.csv',\n",
       "  'pollutionData201802.csv'],\n",
       " '10.183499758266407_56.149807565419565': ['pollutionData181142.csv'],\n",
       " '10.215389695770227_56.161597269074186': ['pollutionData190073.csv',\n",
       "  'pollutionData178929.csv',\n",
       "  'pollutionData178901.csv'],\n",
       " '10.187763760747885_56.159418709313904': ['pollutionData182846.csv',\n",
       "  'pollutionData188092.csv',\n",
       "  'pollutionData187986.csv'],\n",
       " '10.206927436840033_56.105069529457616': ['pollutionData201507.csv',\n",
       "  'pollutionData204166.csv',\n",
       "  'pollutionData201535.csv'],\n",
       " '10.177203408737114_56.13953206657349': ['pollutionData190259.csv',\n",
       "  'pollutionData190312.csv',\n",
       "  'pollutionData179119.csv'],\n",
       " '10.17926542270186_56.2049938543326': ['pollutionData192466.csv',\n",
       "  'pollutionData192438.csv'],\n",
       " '10.200700790178303_56.1833360361296': ['pollutionData179202.csv',\n",
       "  'pollutionData185025.csv',\n",
       "  'pollutionData184972.csv'],\n",
       " '10.218120143516558_56.16631645387974': ['pollutionData178875.csv'],\n",
       " '10.148353690807198_56.118198830180894': ['pollutionData201881.csv',\n",
       "  'pollutionData201908.csv',\n",
       "  'pollutionData197760.csv'],\n",
       " '10.241989084655756_56.20043625463636': ['pollutionData190663.csv'],\n",
       " '10.182659856483497_56.15898299999999': ['pollutionData181034.csv',\n",
       "  'pollutionData188119.csv'],\n",
       " '10.11966875826647_56.169454614092764': ['pollutionData195041.csv',\n",
       "  'pollutionData206396.csv',\n",
       "  'pollutionData206369.csv'],\n",
       " '10.130153804893553_56.17941549701764': ['pollutionData193430.csv',\n",
       "  'pollutionData195843.csv',\n",
       "  'pollutionData193402.csv'],\n",
       " '10.17948788343233_56.13417989322382': ['pollutionData203716.csv',\n",
       "  'pollutionData203822.csv',\n",
       "  'pollutionData203769.csv',\n",
       "  'pollutionData198330.csv',\n",
       "  'pollutionData203875.csv'],\n",
       " '10.109984271163967_56.16459887184971': ['pollutionData195096.csv',\n",
       "  'pollutionData195124.csv',\n",
       "  'pollutionData206343.csv',\n",
       "  'pollutionData195896.csv'],\n",
       " '10.277436490737955_56.21163929866206': ['pollutionData190475.csv',\n",
       "  'pollutionData192760.csv'],\n",
       " '10.192906008598356_56.181353258286634': ['pollutionData185078.csv',\n",
       "  'pollutionData179228.csv',\n",
       "  'pollutionData185131.csv'],\n",
       " '10.1515794551907_56.167867187555736': ['pollutionData195525.csv',\n",
       "  'pollutionData186953.csv',\n",
       "  'pollutionData185396.csv',\n",
       "  'pollutionData179444.csv'],\n",
       " '10.18461071717934_56.178623267668705': ['pollutionData204247.csv',\n",
       "  'pollutionData179282.csv'],\n",
       " '10.267323856483472_56.206985193530365': ['pollutionData190501.csv',\n",
       "  'pollutionData192813.csv'],\n",
       " '10.267205839286817_56.207098572394976': ['pollutionData190529.csv'],\n",
       " '10.104986076057457_56.23172069428216': ['pollutionData158386.csv',\n",
       "  'pollutionData158324.csv'],\n",
       " '10.186944694442786_56.1457221852484': ['pollutionData181168.csv'],\n",
       " '10.228639215938529_56.19765179702361': ['pollutionData190717.csv',\n",
       "  'pollutionData192972.csv'],\n",
       " '10.157709017196566_56.125829583613914': ['pollutionData201934.csv',\n",
       "  'pollutionData201828.csv',\n",
       "  'pollutionData197705.csv'],\n",
       " '10.167441665012348_56.12004117576438': ['pollutionData203689.csv',\n",
       "  'pollutionData198167.csv',\n",
       "  'pollutionData198113.csv',\n",
       "  'pollutionData203583.csv',\n",
       "  'pollutionData198085.csv'],\n",
       " '10.195804343585905_56.18461478101305': ['pollutionData181197.csv',\n",
       "  'pollutionData184998.csv',\n",
       "  'pollutionData185104.csv'],\n",
       " '10.096344851520598_56.18546282170713': ['pollutionData195684.csv',\n",
       "  'pollutionData193322.csv',\n",
       "  'pollutionData193294.csv'],\n",
       " '10.212459373016372_56.18696229571611': ['pollutionData184945.csv',\n",
       "  'pollutionData192707.csv',\n",
       "  'pollutionData184892.csv'],\n",
       " '10.246642527612721_56.20913963031665': ['pollutionData192840.csv',\n",
       "  'pollutionData192546.csv',\n",
       "  'pollutionData210173.csv'],\n",
       " '10.162728804893504_56.10986429894997': ['pollutionData203663.csv',\n",
       "  'pollutionData197814.csv',\n",
       "  'pollutionData203636.csv',\n",
       "  'pollutionData197842.csv'],\n",
       " '10.10711200000003_56.21731711429131': ['pollutionData158595.csv',\n",
       "  'pollutionData158446.csv'],\n",
       " '10.246299305557386_56.22521120818609': ['pollutionData209986.csv',\n",
       "  'pollutionData209933.csv'],\n",
       " '10.19893292642405_56.1803125039424': ['pollutionData185051.csv',\n",
       "  'pollutionData181223.csv',\n",
       "  'pollutionData185157.csv'],\n",
       " '10.161757688325906_56.17312782176926': ['pollutionData185290.csv',\n",
       "  'pollutionData185343.csv',\n",
       "  'pollutionData179418.csv',\n",
       "  'pollutionData195472.csv'],\n",
       " '10.269670626983498_56.210806441766366': ['pollutionData190879.csv'],\n",
       " '10.145073305557275_56.21399075104399': ['pollutionData172156.csv',\n",
       "  'pollutionData158624.csv',\n",
       "  'pollutionData171969.csv',\n",
       "  'pollutionData158565.csv'],\n",
       " '10.143036390212956_56.11906158966682': ['pollutionData201855.csv',\n",
       "  'pollutionData197679.csv',\n",
       "  'pollutionData201775.csv'],\n",
       " '10.20776318039134_56.136738858609256': ['pollutionData204087.csv',\n",
       "  'pollutionData204034.csv',\n",
       "  'pollutionData201291.csv',\n",
       "  'pollutionData201319.csv'],\n",
       " '10.178335597553314_56.162369287665825': ['pollutionData188039.csv',\n",
       "  'pollutionData182820.csv',\n",
       "  'pollutionData187933.csv'],\n",
       " '10.161157250404358_56.208646307573304': ['pollutionData158744.csv',\n",
       "  'pollutionData172602.csv'],\n",
       " '10.21197608217426_56.161017815103236': ['pollutionData190100.csv',\n",
       "  'pollutionData190047.csv'],\n",
       " '10.192723647815683_56.1417522836526': ['pollutionData206131.csv',\n",
       "  'pollutionData206184.csv'],\n",
       " '10.157454995037142_56.13199024175818': ['pollutionData187483.csv',\n",
       "  'pollutionData187430.csv'],\n",
       " '10.161062711639374_56.169148028055325': ['pollutionData186979.csv',\n",
       "  'pollutionData182738.csv',\n",
       "  'pollutionData185369.csv',\n",
       "  'pollutionData182766.csv'],\n",
       " '10.209219127208598_56.17243586196818': ['pollutionData187642.csv',\n",
       "  'pollutionData180818.csv',\n",
       "  'pollutionData187589.csv'],\n",
       " '10.153436152114864_56.17262995803033': ['pollutionData182712.csv',\n",
       "  'pollutionData185422.csv',\n",
       "  'pollutionData185316.csv'],\n",
       " '10.201447428241636_56.171122550932225': ['pollutionData187695.csv',\n",
       "  'pollutionData180844.csv',\n",
       "  'pollutionData187748.csv'],\n",
       " '10.093612498182324_56.16718933444926': ['pollutionData194986.csv'],\n",
       " '10.202164315973278_56.11692219631463': ['pollutionData206290.csv',\n",
       "  'pollutionData201237.csv',\n",
       "  'pollutionData206263.csv'],\n",
       " '10.236217525131224_56.205074': ['pollutionData192893.csv',\n",
       "  'pollutionData190934.csv',\n",
       "  'pollutionData192946.csv'],\n",
       " '10.233619432540877_56.21728389714838': ['pollutionData190908.csv',\n",
       "  'pollutionData209854.csv'],\n",
       " '10.093516609210042_56.16716656043954': ['pollutionData195870.csv',\n",
       "  'pollutionData195923.csv'],\n",
       " '10.186880262565637_56.14251885276732': ['pollutionData206078.csv',\n",
       "  'pollutionData190020.csv'],\n",
       " '10.166163050262412_56.131053962866226': ['pollutionData187509.csv',\n",
       "  'pollutionData184621.csv'],\n",
       " '10.139025504299298_56.153267352820414': ['pollutionData183009.csv'],\n",
       " '10.171526038028787_56.17505006362324': ['pollutionData179364.csv'],\n",
       " '10.189355309192706_56.18210217593679': ['pollutionData205997.csv',\n",
       "  'pollutionData204273.csv'],\n",
       " '10.062790576721227_56.100713387988804': ['pollutionData197518.csv'],\n",
       " '10.116589665412903_56.22579478256016': ['pollutionData158355.csv',\n",
       "  'pollutionData171572.csv'],\n",
       " '10.140579996364522_56.10097260933967': ['pollutionData198005.csv',\n",
       "  'pollutionData197977.csv'],\n",
       " '10.241876431877131_56.20056009742038': ['pollutionData192919.csv',\n",
       "  'pollutionData190691.csv'],\n",
       " '10.142859364417973_56.11919616177176': ['pollutionData197652.csv'],\n",
       " '10.113531440475526_56.182637286706964': ['pollutionData195737.csv',\n",
       "  'pollutionData195790.csv',\n",
       "  'pollutionData193348.csv',\n",
       "  'pollutionData193376.csv'],\n",
       " '10.1989185595246_56.14063267124548': ['pollutionData179038.csv',\n",
       "  'pollutionData204113.csv'],\n",
       " '10.087895233135214_56.15286327729632': ['pollutionData195286.csv'],\n",
       " '10.218303812914883_56.186546268439095': ['pollutionData193185.csv',\n",
       "  'pollutionData184919.csv',\n",
       "  'pollutionData178600.csv'],\n",
       " '10.228593618385275_56.19774431284465': ['pollutionData193026.csv',\n",
       "  'pollutionData190744.csv'],\n",
       " '10.201616660049467_56.176038754874654': ['pollutionData187721.csv',\n",
       "  'pollutionData181305.csv',\n",
       "  'pollutionData187615.csv'],\n",
       " '10.208600965029746_56.14472622987757': ['pollutionData201265.csv',\n",
       "  'pollutionData206449.csv'],\n",
       " '10.139060373016491_56.153135887760996': ['pollutionData183037.csv',\n",
       "  'pollutionData187032.csv',\n",
       "  'pollutionData187138.csv'],\n",
       " '10.21780255092608_56.18290049276627': ['pollutionData187536.csv',\n",
       "  'pollutionData178767.csv'],\n",
       " '10.185844404928275_56.163969409207326': ['pollutionData187907.csv',\n",
       "  'pollutionData187960.csv',\n",
       "  'pollutionData180980.csv'],\n",
       " '10.157440224536913_56.154610138216704': ['pollutionData187085.csv',\n",
       "  'pollutionData183091.csv',\n",
       "  'pollutionData187191.csv',\n",
       "  'pollutionData183063.csv'],\n",
       " '10.194338714120931_56.16945046812791': ['pollutionData180926.csv',\n",
       "  'pollutionData187801.csv'],\n",
       " '10.207060089618722_56.16816672029917': ['pollutionData187668.csv',\n",
       "  'pollutionData181331.csv',\n",
       "  'pollutionData187774.csv'],\n",
       " '10.15788067857352_56.125743621869944': ['pollutionData187456.csv',\n",
       "  'pollutionData184595.csv'],\n",
       " '10.154132957008414_56.1404960893661': ['pollutionData187324.csv',\n",
       "  'pollutionData180709.csv'],\n",
       " '10.190940219574031_56.18950967440927': ['pollutionData210093.csv',\n",
       "  'pollutionData192627.csv'],\n",
       " '10.303667644180337_56.25625595964834': ['pollutionData190367.csv'],\n",
       " '10.072391914016862_56.15457258895634': ['pollutionData197408.csv',\n",
       "  'pollutionData197355.csv'],\n",
       " '10.087875116567602_56.1529230346212': ['pollutionData197434.csv',\n",
       "  'pollutionData195259.csv'],\n",
       " '10.221273033065813_56.175432085860464': ['pollutionData178793.csv'],\n",
       " '10.144907008598352_56.21385651069573': ['pollutionData158655.csv',\n",
       "  'pollutionData158715.csv'],\n",
       " '10.198804084655762_56.10480213435411': ['pollutionData204193.csv',\n",
       "  'pollutionData204140.csv',\n",
       "  'pollutionData197922.csv'],\n",
       " '10.207113017196662_56.117828971777826': ['pollutionData206237.csv',\n",
       "  'pollutionData201399.csv',\n",
       "  'pollutionData201427.csv'],\n",
       " '10.171611868717264_56.174917180024806': ['pollutionData195418.csv',\n",
       "  'pollutionData185237.csv',\n",
       "  'pollutionData179336.csv'],\n",
       " '10.186632644180236_56.13959744418457': ['pollutionData190206.csv',\n",
       "  'pollutionData190153.csv',\n",
       "  'pollutionData179093.csv'],\n",
       " '10.125013142824173_56.23489759702643': ['pollutionData158536.csv',\n",
       "  'pollutionData172329.csv',\n",
       "  'pollutionData158475.csv',\n",
       "  'pollutionData173225.csv'],\n",
       " '10.151387677246134_56.16798814878688': ['pollutionData195578.csv',\n",
       "  'pollutionData180547.csv'],\n",
       " '10.166318618385276_56.13096577062022': ['pollutionData184649.csv',\n",
       "  'pollutionData203742.csv'],\n",
       " '10.198852845403735_56.1407940671622': ['pollutionData206157.csv'],\n",
       " '10.139154364418005_56.162574351819416': ['pollutionData195552.csv',\n",
       "  'pollutionData195605.csv'],\n",
       " '10.184485323907893_56.17871060412596': ['pollutionData185184.csv',\n",
       "  'pollutionData179310.csv',\n",
       "  'pollutionData195365.csv'],\n",
       " '10.143520804893456_56.16018043015113': ['pollutionData180573.csv',\n",
       "  'pollutionData195631.csv'],\n",
       " '10.186756880950952_56.14258759218248': ['pollutionData184729.csv',\n",
       "  'pollutionData190179.csv',\n",
       "  'pollutionData190285.csv'],\n",
       " '10.175406949737521_56.20417258212644': ['pollutionData158865.csv',\n",
       "  'pollutionData158954.csv'],\n",
       " '10.12084169080731_56.178402535294865': ['pollutionData195817.csv',\n",
       "  'pollutionData195015.csv',\n",
       "  'pollutionData195764.csv'],\n",
       " '10.189857330024779_56.13458495857738': ['pollutionData198301.csv'],\n",
       " '10.07666460978703_56.18959388227456': ['pollutionData193268.csv'],\n",
       " '10.17614185152047_56.151949698562795': ['pollutionData189967.csv',\n",
       "  'pollutionData188251.csv',\n",
       "  'pollutionData184784.csv'],\n",
       " '10.213484466270415_56.17405423428392': ['pollutionData180764.csv',\n",
       "  'pollutionData187562.csv'],\n",
       " '10.209020390213027_56.09926842434083': ['pollutionData204219.csv',\n",
       "  'pollutionData201589.csv',\n",
       "  'pollutionData201561.csv'],\n",
       " '10.187329678573633_56.12994000000001': ['pollutionData198275.csv',\n",
       "  'pollutionData204007.csv',\n",
       "  'pollutionData198247.csv',\n",
       "  'pollutionData203901.csv'],\n",
       " '10.204370307865133_56.141823496238665': ['pollutionData179064.csv'],\n",
       " '10.154807944774575_55.988031499663315': ['pollutionData201615.csv'],\n",
       " '10.218878251485876_56.19371107014121': ['pollutionData193132.csv',\n",
       "  'pollutionData184866.csv',\n",
       "  'pollutionData178548.csv'],\n",
       " '10.13978019262504_56.21508593264829': ['pollutionData173011.csv',\n",
       "  'pollutionData158505.csv',\n",
       "  'pollutionData158415.csv'],\n",
       " '10.125912580356612_56.16254304778694': ['pollutionData206422.csv',\n",
       "  'pollutionData195150.csv',\n",
       "  'pollutionData195178.csv'],\n",
       " '10.175338207340246_56.179322409643085': ['pollutionData195392.csv',\n",
       "  'pollutionData193213.csv',\n",
       "  'pollutionData195339.csv'],\n",
       " '10.185914784061424_56.12391430736949': ['pollutionData201211.csv',\n",
       "  'pollutionData203981.csv',\n",
       "  'pollutionData203954.csv',\n",
       "  'pollutionData201183.csv'],\n",
       " '10.191119927578029_56.18958131478287': ['pollutionData192600.csv'],\n",
       " '10.246154466270468_56.22537224883195': ['pollutionData158684.csv',\n",
       "  'pollutionData209880.csv'],\n",
       " '10.153714822090137_56.1102508220387': ['pollutionData203610.csv',\n",
       "  'pollutionData198059.csv',\n",
       "  'pollutionData203530.csv'],\n",
       " '10.21908612268453_56.19369241581476': ['pollutionData190770.csv',\n",
       "  'pollutionData193079.csv'],\n",
       " '10.149694601188685_56.148158423711955': ['pollutionData187218.csv',\n",
       "  'pollutionData180655.csv'],\n",
       " '10.18616224669654_56.16389697427008': ['pollutionData180952.csv',\n",
       "  'pollutionData187854.csv'],\n",
       " '10.175128_56.20391': ['pollutionData159014.csv'],\n",
       " '10.216211542327983_56.19677547153966': ['pollutionData193053.csv',\n",
       "  'pollutionData193000.csv'],\n",
       " '10.143257948409996_56.1601908856982': ['pollutionData180601.csv',\n",
       "  'pollutionData187006.csv',\n",
       "  'pollutionData187059.csv'],\n",
       " '10.198778699405693_56.18028339302693': ['pollutionData181251.csv'],\n",
       " '10.177235595245293_56.13962771141822': ['pollutionData187350.csv',\n",
       "  'pollutionData187403.csv'],\n",
       " '10.131331836805202_56.152757286457955': ['pollutionData182955.csv',\n",
       "  'pollutionData182983.csv'],\n",
       " '10.153508571758266_56.17267848588397': ['pollutionData194931.csv'],\n",
       " '10.261365288360594_56.242032790256985': ['pollutionData190799.csv',\n",
       "  'pollutionData209960.csv'],\n",
       " '10.186762304229774_56.14563850929': ['pollutionData206025.csv',\n",
       "  'pollutionData189994.csv',\n",
       "  'pollutionData206502.csv'],\n",
       " '10.216251775463206_56.196878435033454': ['pollutionData210120.csv',\n",
       "  'pollutionData210067.csv',\n",
       "  'pollutionData210013.csv'],\n",
       " '10.174677478504236_56.13241046310714': ['pollutionData198139.csv',\n",
       "  'pollutionData209801.csv'],\n",
       " '10.114700495700845_56.10806431410453': ['pollutionData197544.csv',\n",
       "  'pollutionData197572.csv',\n",
       "  'pollutionData201669.csv'],\n",
       " '10.211722754631069_56.13236396838821': ['pollutionData201373.csv',\n",
       "  'pollutionData201345.csv'],\n",
       " '10.138403402446784_56.17741297116948': ['pollutionData194878.csv'],\n",
       " '10.064734635581999_56.152447520476194': ['pollutionData197381.csv',\n",
       "  'pollutionData195233.csv'],\n",
       " '10.182238219573946_56.19920218884512': ['pollutionData192574.csv'],\n",
       " '10.182444749668093_56.19922307868954': ['pollutionData210040.csv',\n",
       "  'pollutionData159043.csv'],\n",
       " '10.122408752149568_56.110590119560015': ['pollutionData197626.csv'],\n",
       " '10.149874309192683_56.148242094184255': ['pollutionData180627.csv',\n",
       "  'pollutionData187165.csv',\n",
       "  'pollutionData187112.csv'],\n",
       " '10.201770887067823_56.17606861552515': ['pollutionData181277.csv'],\n",
       " '10.259470361936565_56.20496203409241': ['pollutionData190583.csv',\n",
       "  'pollutionData192866.csv'],\n",
       " '10.209275766864721_56.17235120664372': ['pollutionData180790.csv'],\n",
       " '10.148131067458962_56.11814500000001': ['pollutionData201961.csv',\n",
       "  'pollutionData197788.csv',\n",
       "  'pollutionData203557.csv'],\n",
       " '10.124126151537894_56.0855852379219': ['pollutionData197951.csv'],\n",
       " '10.183679466270405_56.14984790483175': ['pollutionData181114.csv',\n",
       "  'pollutionData189941.csv'],\n",
       " '10.259584355819698_56.20482701617347': ['pollutionData190555.csv'],\n",
       " '10.293740482139583_56.230013292978384': ['pollutionData190421.csv'],\n",
       " '10.157658842922274_56.13203209461566': ['pollutionData187377.csv',\n",
       "  'pollutionData180735.csv'],\n",
       " '10.25068287483407_56.2026461982616': ['pollutionData190637.csv'],\n",
       " '10.250786139881143_56.20251117218925': ['pollutionData190609.csv',\n",
       "  'pollutionData210199.csv'],\n",
       " '10.182183959489976_56.17389164456407': ['pollutionData185210.csv',\n",
       "  'pollutionData184813.csv',\n",
       "  'pollutionData185263.csv',\n",
       "  'pollutionData193239.csv'],\n",
       " '10.269519082174156_56.2107989833621': ['pollutionData192787.csv',\n",
       "  'pollutionData192734.csv'],\n",
       " '10.161186577298167_56.20869704245814': ['pollutionData158924.csv'],\n",
       " '10.221176473541277_56.17540521083046': ['pollutionData178821.csv'],\n",
       " '10.192792014715224_56.181459995226994': ['pollutionData179256.csv',\n",
       "  'pollutionData204300.csv'],\n",
       " '10.209599775463175_56.14892750591274': ['pollutionData178955.csv',\n",
       "  'pollutionData178983.csv',\n",
       "  'pollutionData190126.csv'],\n",
       " '10.293955058860774_56.229971546821645': ['pollutionData190393.csv'],\n",
       " '10.182616305557303_56.15498346925998': ['pollutionData181088.csv',\n",
       "  'pollutionData188225.csv'],\n",
       " '10.139116813491796_56.1627072781356': ['pollutionData195204.csv'],\n",
       " '10.186652602364234_56.170278565367': ['pollutionData187827.csv',\n",
       "  'pollutionData187880.csv',\n",
       "  'pollutionData184839.csv'],\n",
       " '10.12228671163939_56.11067162844458': ['pollutionData197598.csv',\n",
       "  'pollutionData201722.csv'],\n",
       " '10.169078780426162_56.20103008023493': ['pollutionData190963.csv'],\n",
       " '10.186664830688414_56.139477887997344': ['pollutionData206210.csv'],\n",
       " '10.17839594725615_56.162446952950255': ['pollutionData182792.csv'],\n",
       " '10.223110775463056_56.190387445286476': ['pollutionData193106.csv',\n",
       "  'pollutionData192681.csv',\n",
       "  'pollutionData193159.csv'],\n",
       " '10.13969570304107_56.2149789163549': ['pollutionData158895.csv',\n",
       "  'pollutionData173118.csv'],\n",
       " '10.138347076057471_56.17734056158762': ['pollutionData194905.csv'],\n",
       " '10.180056017196648_56.12437832738177': ['pollutionData198221.csv',\n",
       "  'pollutionData203848.csv',\n",
       "  'pollutionData198193.csv',\n",
       "  'pollutionData203928.csv'],\n",
       " '10.101720288360639_56.18271715899992': ['pollutionData195711.csv',\n",
       "  'pollutionData195658.csv'],\n",
       " '10.083678288360602_56.11996007421442': ['pollutionData197489.csv',\n",
       "  'pollutionData201643.csv',\n",
       "  'pollutionData201696.csv'],\n",
       " '10.207854230653766_56.114487000000004': ['pollutionData201453.csv',\n",
       "  'pollutionData206316.csv',\n",
       "  'pollutionData201481.csv'],\n",
       " '10.218124775463139_56.18655111946821': ['pollutionData178713.csv'],\n",
       " '10.2121812711639_56.16107681293822': ['pollutionData182683.csv'],\n",
       " '10.066129804893535_56.121379546124246': ['pollutionData197463.csv'],\n",
       " '10.20872971106246_56.144719132186395': ['pollutionData179009.csv'],\n",
       " '10.167189431877205_56.21831017223658': ['pollutionData158776.csv'],\n",
       " '10.21333293005955_56.210237386910975': ['pollutionData192492.csv',\n",
       "  'pollutionData192520.csv'],\n",
       " '10.217978235616556_56.18290049276627': ['pollutionData178739.csv'],\n",
       " '10.101564720237775_56.18277313796047': ['pollutionData194960.csv'],\n",
       " '10.20690854480938_56.16813760017301': ['pollutionData182657.csv'],\n",
       " '10.182395559524593_56.108951357622736': ['pollutionData197896.csv',\n",
       "  'pollutionData197868.csv'],\n",
       " '10.072890804893518_56.15469209819657': ['pollutionData197302.csv'],\n",
       " '10.153642402446735_56.110288211786354': ['pollutionData198031.csv'],\n",
       " '10.218226090772646_56.166317200585326': ['pollutionData178847.csv'],\n",
       " '10.154338145998054_56.14051551675728': ['pollutionData180681.csv',\n",
       "  'pollutionData187271.csv'],\n",
       " '10.173023480985648_56.21071820426365': ['pollutionData158836.csv'],\n",
       " '10.110953550926183_56.15328110479527': ['pollutionData182875.csv',\n",
       "  'pollutionData195312.csv'],\n",
       " '10.123139046627102_56.15256095040008': ['pollutionData182929.csv',\n",
       "  'pollutionData182901.csv'],\n",
       " '10.204415905418273_56.14171141881423': ['pollutionData206475.csv',\n",
       "  'pollutionData204060.csv'],\n",
       " '10.077223474868788_56.15962240514419': ['pollutionData195070.csv',\n",
       "  'pollutionData197274.csv'],\n",
       " '10.201380373016264_56.17122707649042': ['pollutionData180872.csv'],\n",
       " '10.161823402446771_56.17304495205962': ['pollutionData179390.csv'],\n",
       " '10.194526468751974_56.16929516572502': ['pollutionData180898.csv'],\n",
       " '10.07716983068849_56.15966870893221': ['pollutionData197328.csv'],\n",
       " '10.27770202943043_56.21155278296297': ['pollutionData190447.csv'],\n",
       " '10.161038385250095_56.20852026816215': ['pollutionData158983.csv']}"
      ]
     },
     "execution_count": 16,
     "metadata": {},
     "output_type": "execute_result"
    }
   ],
   "source": [
    "mapping"
   ]
  },
  {
   "cell_type": "code",
   "execution_count": null,
   "id": "b6d71da8-7c5f-4d52-a410-27fe26d25771",
   "metadata": {},
   "outputs": [],
   "source": []
  }
 ],
 "metadata": {
  "kernelspec": {
   "display_name": "Python 3 (ipykernel)",
   "language": "python",
   "name": "python3"
  },
  "language_info": {
   "codemirror_mode": {
    "name": "ipython",
    "version": 3
   },
   "file_extension": ".py",
   "mimetype": "text/x-python",
   "name": "python",
   "nbconvert_exporter": "python",
   "pygments_lexer": "ipython3",
   "version": "3.9.10"
  }
 },
 "nbformat": 4,
 "nbformat_minor": 5
}
