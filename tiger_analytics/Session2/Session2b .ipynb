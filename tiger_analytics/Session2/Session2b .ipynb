{
 "cells": [
  {
   "cell_type": "markdown",
   "id": "24c60942-0735-4aa4-9d3d-50f5c6615cbb",
   "metadata": {},
   "source": [
    "## [File objects](https://docs.python.org/3/tutorial/inputoutput.html#reading-and-writing-files)\n",
    "\n",
    "- They help in disk based i/o. \n",
    "- Help you read text as well as binary files."
   ]
  },
  {
   "cell_type": "code",
   "execution_count": 1,
   "id": "54566f20-1b10-42b9-b739-6876f010bcdf",
   "metadata": {},
   "outputs": [],
   "source": [
    "f = open(\"../data/file_data.csv\",\"r\")\n",
    "data_string = f.read()\n",
    "f.close()\n",
    "f = open(\"../data/file_data.csv\",\"r\")\n",
    "data_lines = f.readlines()\n",
    "f.close()"
   ]
  },
  {
   "cell_type": "code",
   "execution_count": 2,
   "id": "282aae5e-7aa7-4b9c-af9d-caedc43ab346",
   "metadata": {},
   "outputs": [
    {
     "data": {
      "text/plain": [
       "',sensor_id,time,incoming,outgoing,range,date,hour,minute,total,location_name\\n0,52,2021-06-17 07:07:1'"
      ]
     },
     "execution_count": 2,
     "metadata": {},
     "output_type": "execute_result"
    }
   ],
   "source": [
    "data_string[0:100]"
   ]
  },
  {
   "cell_type": "code",
   "execution_count": 3,
   "id": "1e2a2d26-ec0b-4301-a47f-2f15f2cbffc1",
   "metadata": {},
   "outputs": [
    {
     "data": {
      "text/plain": [
       "[',sensor_id,time,incoming,outgoing,range,date,hour,minute,total,location_name\\n',\n",
       " '0,52,2021-06-17 07:07:11.937082+00:00,0,2,1min,2021-06-17,7,7,2,reitan_7eleven_carlberner\\n']"
      ]
     },
     "execution_count": 3,
     "metadata": {},
     "output_type": "execute_result"
    }
   ],
   "source": [
    "data_lines[0:2]"
   ]
  },
  {
   "cell_type": "code",
   "execution_count": 4,
   "id": "d2d0d28e-0c70-4191-ab2c-f83d1d369e85",
   "metadata": {},
   "outputs": [],
   "source": [
    "headers = data_lines[0].replace(\"\\n\",\"\").split(\",\")"
   ]
  },
  {
   "cell_type": "code",
   "execution_count": 5,
   "id": "a5d194bc-3384-4ff0-936d-64ede285e175",
   "metadata": {},
   "outputs": [
    {
     "data": {
      "text/plain": [
       "['',\n",
       " 'sensor_id',\n",
       " 'time',\n",
       " 'incoming',\n",
       " 'outgoing',\n",
       " 'range',\n",
       " 'date',\n",
       " 'hour',\n",
       " 'minute',\n",
       " 'total',\n",
       " 'location_name']"
      ]
     },
     "execution_count": 5,
     "metadata": {},
     "output_type": "execute_result"
    }
   ],
   "source": [
    "headers"
   ]
  },
  {
   "cell_type": "code",
   "execution_count": 6,
   "id": "9a1c2ede-961b-4bd2-b6f5-031ef5e34308",
   "metadata": {},
   "outputs": [],
   "source": [
    "sensor_id = []\n",
    "time = [] \n",
    "incoming = []\n",
    "outgoing = []\n",
    "rnge = []\n",
    "date = [] \n",
    "hour = []\n",
    "minute = [] \n",
    "total = [] \n",
    "location_name = []\n",
    "\n",
    "for row in data_lines[1:]:\n",
    "    values = row.replace(\"\\n\",\"\").split(\",\")[1:]\n",
    "    sensor_id.append(values[0])\n",
    "    time.append(values[1])\n",
    "    incoming.append(values[2])\n",
    "    outgoing.append(values[3])\n",
    "    rnge.append(values[4])\n",
    "    date.append(values[5])\n",
    "    hour.append(values[6])\n",
    "    minute.append(values[7])\n",
    "    total.append(values[8])\n",
    "    location_name.append(values[9])"
   ]
  },
  {
   "cell_type": "code",
   "execution_count": 7,
   "id": "4311abed-0fbf-4650-b915-783fa589c1b1",
   "metadata": {},
   "outputs": [
    {
     "data": {
      "text/plain": [
       "['52', '52', '52', '52', '52']"
      ]
     },
     "execution_count": 7,
     "metadata": {},
     "output_type": "execute_result"
    }
   ],
   "source": [
    "sensor_id[0:5]"
   ]
  },
  {
   "cell_type": "code",
   "execution_count": 8,
   "id": "e910b887-550b-47c1-b28b-6f884429f138",
   "metadata": {},
   "outputs": [
    {
     "data": {
      "text/plain": [
       "['2', '1', '1', '1', '1']"
      ]
     },
     "execution_count": 8,
     "metadata": {},
     "output_type": "execute_result"
    }
   ],
   "source": [
    "total[0:5]"
   ]
  },
  {
   "cell_type": "code",
   "execution_count": 9,
   "id": "9bc68101-27f4-4850-b85b-ef74a428531e",
   "metadata": {},
   "outputs": [],
   "source": [
    "sensor_id = []\n",
    "time = [] \n",
    "incoming = []\n",
    "outgoing = []\n",
    "rnge = []\n",
    "date = [] \n",
    "hour = []\n",
    "minute = [] \n",
    "total = [] \n",
    "location_name = []\n",
    "\n",
    "for row in data_lines[1:]:\n",
    "    values = row.replace(\"\\n\",\"\").split(\",\")[1:]\n",
    "    sensor_id.append(int(values[0]))\n",
    "    time.append(values[1])\n",
    "    incoming.append(int(values[2]))\n",
    "    outgoing.append(int(values[3]))\n",
    "    rnge.append(values[4])\n",
    "    date.append(values[5])\n",
    "    hour.append(int(values[6]))\n",
    "    minute.append(int(values[7]))\n",
    "    total.append(int(values[8]))\n",
    "    location_name.append(values[9])"
   ]
  },
  {
   "cell_type": "code",
   "execution_count": 10,
   "id": "d000d95b-2e6f-46dd-ab13-16cc9fca67c8",
   "metadata": {},
   "outputs": [
    {
     "data": {
      "text/plain": [
       "[2, 1, 1]"
      ]
     },
     "execution_count": 10,
     "metadata": {},
     "output_type": "execute_result"
    }
   ],
   "source": [
    "total[0:3]"
   ]
  },
  {
   "cell_type": "markdown",
   "id": "604d9c51-b7a4-4f03-bea0-b8e146ee0faa",
   "metadata": {},
   "source": [
    "### Q1 Find out the average of the column total from 11 PM to 11:45 PM on 2021-06-18."
   ]
  },
  {
   "cell_type": "code",
   "execution_count": 11,
   "id": "40eaaae3-3685-4adc-b331-1007392769fd",
   "metadata": {},
   "outputs": [
    {
     "name": "stdout",
     "output_type": "stream",
     "text": [
      "('2021-06-17', 7, 7, 2)\n",
      "('2021-06-17', 7, 7, 1)\n",
      "('2021-06-17', 7, 9, 1)\n",
      "('2021-06-17', 7, 10, 1)\n",
      "('2021-06-17', 7, 11, 1)\n",
      "('2021-06-17', 7, 14, 1)\n",
      "('2021-06-17', 7, 16, 1)\n",
      "('2021-06-17', 7, 17, 1)\n",
      "('2021-06-17', 7, 17, 1)\n",
      "('2021-06-17', 7, 19, 1)\n"
     ]
    }
   ],
   "source": [
    "cnt = 0\n",
    "for values in zip(date,hour,minute,total):\n",
    "    print(values)\n",
    "    cnt+=1\n",
    "    if cnt==10:\n",
    "        break"
   ]
  },
  {
   "cell_type": "code",
   "execution_count": 12,
   "id": "1be29ee9-4c95-49e4-9329-3a5567f710b5",
   "metadata": {},
   "outputs": [],
   "source": [
    "cnt = 0\n",
    "totals = []\n",
    "for values in zip(date,hour,minute,total):\n",
    "    if values[0]==\"2021-06-18\" and values[1]==23 and values[2]<=45:\n",
    "        cnt+=1\n",
    "        totals.append(values[3])"
   ]
  },
  {
   "cell_type": "code",
   "execution_count": 13,
   "id": "400e01f8-72d5-402d-be00-a0670123671c",
   "metadata": {},
   "outputs": [
    {
     "data": {
      "text/plain": [
       "5"
      ]
     },
     "execution_count": 13,
     "metadata": {},
     "output_type": "execute_result"
    }
   ],
   "source": [
    "cnt"
   ]
  },
  {
   "cell_type": "code",
   "execution_count": 14,
   "id": "515b09c3-f828-4066-a8a7-3aa416be054f",
   "metadata": {},
   "outputs": [
    {
     "data": {
      "text/plain": [
       "[1, 1, 1, 1, 1]"
      ]
     },
     "execution_count": 14,
     "metadata": {},
     "output_type": "execute_result"
    }
   ],
   "source": [
    "totals"
   ]
  },
  {
   "cell_type": "code",
   "execution_count": 15,
   "id": "a0b5a195-6e43-4b1f-907c-eb6258183160",
   "metadata": {},
   "outputs": [
    {
     "data": {
      "text/plain": [
       "1.0"
      ]
     },
     "execution_count": 15,
     "metadata": {},
     "output_type": "execute_result"
    }
   ],
   "source": [
    "sum(totals)/cnt"
   ]
  },
  {
   "cell_type": "markdown",
   "id": "62e62a59-8ed5-49a2-ae9d-90e792b63034",
   "metadata": {},
   "source": [
    "### Q2. Count the number of times the incoming is more than outgoing in the whole file."
   ]
  },
  {
   "cell_type": "code",
   "execution_count": 16,
   "id": "2ec30c79-acfa-4324-b371-5c173af2e37b",
   "metadata": {},
   "outputs": [
    {
     "name": "stdout",
     "output_type": "stream",
     "text": [
      "324\n"
     ]
    }
   ],
   "source": [
    "cnt = 0\n",
    "for values in zip(incoming,outgoing):\n",
    "    if values[0]>values[1]:\n",
    "        cnt+=1\n",
    "print(cnt)"
   ]
  },
  {
   "cell_type": "markdown",
   "id": "90043095-0992-41e2-b04e-77c0c2232f1c",
   "metadata": {},
   "source": [
    "## Class Assignment \n",
    "\n",
    "- Use the data tweets_assignment.txt\n",
    "- Find out how many tweets were tweeted on each day, i.e. how many tweets were made on 26th December, how many on 25th December and so on."
   ]
  },
  {
   "cell_type": "markdown",
   "id": "e61fd3ab-0f8e-4923-911f-9b457a7d1fe0",
   "metadata": {},
   "source": [
    "## Context Manager: open()\n",
    "- We need to close the file connection every time we open a file\n",
    "- Context managers do some of the tasks implicitly for us\n",
    "- While using `open()` with a context manager the file connection automatically closes\n",
    "- We use `with` statement to use a context manager while working with file objects"
   ]
  },
  {
   "cell_type": "code",
   "execution_count": 17,
   "id": "d91c5a91-9fc9-403d-9458-37d13f783955",
   "metadata": {},
   "outputs": [
    {
     "data": {
      "text/plain": [
       "[',sensor_id,time,incoming,outgoing,range,date,hour,minute,total,location_name\\n',\n",
       " '0,52,2021-06-17 07:07:11.937082+00:00,0,2,1min,2021-06-17,7,7,2,reitan_7eleven_carlberner\\n',\n",
       " '1,52,2021-06-17 07:07:51.166361+00:00,1,0,1min,2021-06-17,7,7,1,reitan_7eleven_carlberner\\n',\n",
       " '2,52,2021-06-17 07:09:48.861997+00:00,0,1,1min,2021-06-17,7,9,1,reitan_7eleven_carlberner\\n',\n",
       " '3,52,2021-06-17 07:10:40.197648+00:00,1,0,1min,2021-06-17,7,10,1,reitan_7eleven_carlberner\\n',\n",
       " '4,52,2021-06-17 07:11:49.664105+00:00,0,1,1min,2021-06-17,7,11,1,reitan_7eleven_carlberner\\n',\n",
       " '5,52,2021-06-17 07:14:20.731722+00:00,1,0,1min,2021-06-17,7,14,1,reitan_7eleven_carlberner\\n',\n",
       " '6,52,2021-06-17 07:16:27.575491+00:00,0,1,1min,2021-06-17,7,16,1,reitan_7eleven_carlberner\\n',\n",
       " '7,52,2021-06-17 07:17:21.919449+00:00,1,0,1min,2021-06-17,7,17,1,reitan_7eleven_carlberner\\n',\n",
       " '8,52,2021-06-17 07:17:52.122774+00:00,0,1,1min,2021-06-17,7,17,1,reitan_7eleven_carlberner\\n']"
      ]
     },
     "execution_count": 17,
     "metadata": {},
     "output_type": "execute_result"
    }
   ],
   "source": [
    "with open(\"../data/file_data.csv\",\"r\") as f:\n",
    "    data_list = f.readlines()\n",
    "data_list[0:10]"
   ]
  },
  {
   "cell_type": "code",
   "execution_count": null,
   "id": "0ca048f3-9d11-4589-ba45-34481646592c",
   "metadata": {},
   "outputs": [],
   "source": []
  }
 ],
 "metadata": {
  "kernelspec": {
   "display_name": "Python 3 (ipykernel)",
   "language": "python",
   "name": "python3"
  },
  "language_info": {
   "codemirror_mode": {
    "name": "ipython",
    "version": 3
   },
   "file_extension": ".py",
   "mimetype": "text/x-python",
   "name": "python",
   "nbconvert_exporter": "python",
   "pygments_lexer": "ipython3",
   "version": "3.9.10"
  }
 },
 "nbformat": 4,
 "nbformat_minor": 5
}
