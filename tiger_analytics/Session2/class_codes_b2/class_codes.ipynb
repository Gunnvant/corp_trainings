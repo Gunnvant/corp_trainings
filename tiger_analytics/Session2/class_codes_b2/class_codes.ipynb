{
 "cells": [
  {
   "cell_type": "markdown",
   "id": "e8d3139a-87e6-43ac-bec4-042efe9c739d",
   "metadata": {},
   "source": [
    "## Agenda\n",
    "- Tuples\n",
    "- Sets\n",
    "- Dictionaries\n",
    "- Regex\n",
    "- Maps and list comprehension"
   ]
  },
  {
   "cell_type": "code",
   "execution_count": 1,
   "id": "1761891e-1942-4668-b8db-a4f5c7337fc1",
   "metadata": {},
   "outputs": [],
   "source": [
    "t1 = (1,2,3,'a','b',[78,20,'bc'],(56,89,91))"
   ]
  },
  {
   "cell_type": "code",
   "execution_count": 2,
   "id": "39300d68-8472-4669-a460-0a8c0d6fd4d5",
   "metadata": {},
   "outputs": [
    {
     "name": "stdout",
     "output_type": "stream",
     "text": [
      "1\n",
      "2\n",
      "3\n",
      "a\n",
      "b\n",
      "[78, 20, 'bc']\n",
      "(56, 89, 91)\n"
     ]
    }
   ],
   "source": [
    "for i in t1:\n",
    "    print(i)"
   ]
  },
  {
   "cell_type": "code",
   "execution_count": 3,
   "id": "775289ba-1a75-4a6e-a747-7827fcadf5f5",
   "metadata": {},
   "outputs": [
    {
     "data": {
      "text/plain": [
       "1"
      ]
     },
     "execution_count": 3,
     "metadata": {},
     "output_type": "execute_result"
    }
   ],
   "source": [
    "t1[0]"
   ]
  },
  {
   "cell_type": "code",
   "execution_count": 4,
   "id": "4ef7aa9f-23e7-4847-b191-6ebdb68c4777",
   "metadata": {},
   "outputs": [
    {
     "data": {
      "text/plain": [
       "(56, 89, 91)"
      ]
     },
     "execution_count": 4,
     "metadata": {},
     "output_type": "execute_result"
    }
   ],
   "source": [
    "t1[-1]"
   ]
  },
  {
   "cell_type": "code",
   "execution_count": 28,
   "id": "f5b3cd29-6d34-421f-9bd7-14e3647a6bc1",
   "metadata": {},
   "outputs": [],
   "source": [
    "l1 = [1,2,3,4]"
   ]
  },
  {
   "cell_type": "code",
   "execution_count": 6,
   "id": "19ffb0f5-c064-4bd3-bb92-e3c43efc00cb",
   "metadata": {},
   "outputs": [
    {
     "data": {
      "text/plain": [
       "1"
      ]
     },
     "execution_count": 6,
     "metadata": {},
     "output_type": "execute_result"
    }
   ],
   "source": [
    "l1[0]"
   ]
  },
  {
   "cell_type": "code",
   "execution_count": 7,
   "id": "cdcc98fc-310d-4ea2-b81f-274a057edd02",
   "metadata": {},
   "outputs": [],
   "source": [
    "l1[0]=\"a\""
   ]
  },
  {
   "cell_type": "code",
   "execution_count": 8,
   "id": "210b4394-58a0-4d25-a600-ab1254c78160",
   "metadata": {},
   "outputs": [
    {
     "data": {
      "text/plain": [
       "['a', 2, 3, 4]"
      ]
     },
     "execution_count": 8,
     "metadata": {},
     "output_type": "execute_result"
    }
   ],
   "source": [
    "l1"
   ]
  },
  {
   "cell_type": "code",
   "execution_count": 9,
   "id": "2ccc36de-1599-47ab-8b59-7837dd6ac21e",
   "metadata": {},
   "outputs": [
    {
     "data": {
      "text/plain": [
       "1"
      ]
     },
     "execution_count": 9,
     "metadata": {},
     "output_type": "execute_result"
    }
   ],
   "source": [
    "t1[0]"
   ]
  },
  {
   "cell_type": "code",
   "execution_count": 10,
   "id": "501a6305-d23d-40d8-a235-a8ae74286c6c",
   "metadata": {},
   "outputs": [
    {
     "ename": "TypeError",
     "evalue": "'tuple' object does not support item assignment",
     "output_type": "error",
     "traceback": [
      "\u001b[0;31m---------------------------------------------------------------------------\u001b[0m",
      "\u001b[0;31mTypeError\u001b[0m                                 Traceback (most recent call last)",
      "Input \u001b[0;32mIn [10]\u001b[0m, in \u001b[0;36m<module>\u001b[0;34m\u001b[0m\n\u001b[0;32m----> 1\u001b[0m t1[\u001b[38;5;241m0\u001b[39m]\u001b[38;5;241m=\u001b[39m\u001b[38;5;124m\"\u001b[39m\u001b[38;5;124ma\u001b[39m\u001b[38;5;124m\"\u001b[39m\n",
      "\u001b[0;31mTypeError\u001b[0m: 'tuple' object does not support item assignment"
     ]
    }
   ],
   "source": [
    "t1[0]=\"a\""
   ]
  },
  {
   "cell_type": "code",
   "execution_count": 11,
   "id": "bdf519cf-b5fa-41a7-bab5-a8348c265da1",
   "metadata": {},
   "outputs": [],
   "source": [
    "t1 = (1,2,3)"
   ]
  },
  {
   "cell_type": "code",
   "execution_count": 12,
   "id": "5c719bf2-9227-4d22-b3a6-f359e367ecd8",
   "metadata": {},
   "outputs": [
    {
     "data": {
      "text/plain": [
       "(1, 2, 3)"
      ]
     },
     "execution_count": 12,
     "metadata": {},
     "output_type": "execute_result"
    }
   ],
   "source": [
    "t1"
   ]
  },
  {
   "cell_type": "markdown",
   "id": "ae671027-7cdb-4837-8d5f-cf3598d7292f",
   "metadata": {},
   "source": [
    "### Sets\n",
    "- Similar in behaviour to mathematical sets\n",
    "- Set operations: union, intersection, difference"
   ]
  },
  {
   "cell_type": "code",
   "execution_count": 13,
   "id": "5512cd59-1442-4bc5-9ab5-99d0981e8b5a",
   "metadata": {},
   "outputs": [],
   "source": [
    "city = ['blr','del','blr','mum','mum']"
   ]
  },
  {
   "cell_type": "code",
   "execution_count": 14,
   "id": "f8b6b709-6242-4af8-852d-bf4b0b72b880",
   "metadata": {},
   "outputs": [
    {
     "data": {
      "text/plain": [
       "{'blr', 'del', 'mum'}"
      ]
     },
     "execution_count": 14,
     "metadata": {},
     "output_type": "execute_result"
    }
   ],
   "source": [
    "set(city) ## distinct"
   ]
  },
  {
   "cell_type": "code",
   "execution_count": 15,
   "id": "68fc3823-3b99-4422-a400-69c72765622e",
   "metadata": {},
   "outputs": [],
   "source": [
    "city = {'blr','del','blr','mum','mum'} ##[]->list, ()->tuple, {}->set, dict"
   ]
  },
  {
   "cell_type": "code",
   "execution_count": 16,
   "id": "a1083638-a107-4ba7-9524-0cee48362a68",
   "metadata": {},
   "outputs": [
    {
     "data": {
      "text/plain": [
       "{'blr', 'del', 'mum'}"
      ]
     },
     "execution_count": 16,
     "metadata": {},
     "output_type": "execute_result"
    }
   ],
   "source": [
    "city"
   ]
  },
  {
   "cell_type": "code",
   "execution_count": 17,
   "id": "f3f679bc-38e3-4c3e-836b-abf9e7333b03",
   "metadata": {},
   "outputs": [
    {
     "name": "stdout",
     "output_type": "stream",
     "text": [
      "blr\n",
      "mum\n",
      "del\n"
     ]
    }
   ],
   "source": [
    "for i in city:\n",
    "    print(i)"
   ]
  },
  {
   "cell_type": "code",
   "execution_count": 18,
   "id": "a55c033d-9897-4b7d-9679-51b11c77df91",
   "metadata": {},
   "outputs": [
    {
     "ename": "TypeError",
     "evalue": "'set' object is not subscriptable",
     "output_type": "error",
     "traceback": [
      "\u001b[0;31m---------------------------------------------------------------------------\u001b[0m",
      "\u001b[0;31mTypeError\u001b[0m                                 Traceback (most recent call last)",
      "Input \u001b[0;32mIn [18]\u001b[0m, in \u001b[0;36m<module>\u001b[0;34m\u001b[0m\n\u001b[0;32m----> 1\u001b[0m \u001b[43mcity\u001b[49m\u001b[43m[\u001b[49m\u001b[38;5;241;43m0\u001b[39;49m\u001b[43m]\u001b[49m\n",
      "\u001b[0;31mTypeError\u001b[0m: 'set' object is not subscriptable"
     ]
    }
   ],
   "source": [
    "city[0]"
   ]
  },
  {
   "cell_type": "code",
   "execution_count": 19,
   "id": "e2426d63-737f-4553-a643-db7ce7274de5",
   "metadata": {},
   "outputs": [],
   "source": [
    "set1 = {'a','b','c'}\n",
    "set2 = {'b','c','d'}"
   ]
  },
  {
   "cell_type": "code",
   "execution_count": 20,
   "id": "17ddc396-46b0-4a77-aac7-cb86037cd229",
   "metadata": {},
   "outputs": [
    {
     "data": {
      "text/plain": [
       "{'b', 'c'}"
      ]
     },
     "execution_count": 20,
     "metadata": {},
     "output_type": "execute_result"
    }
   ],
   "source": [
    "set1.intersection(set2)"
   ]
  },
  {
   "cell_type": "code",
   "execution_count": 21,
   "id": "b7fe9ff8-c578-4c2a-a3ba-936bbb201c2b",
   "metadata": {},
   "outputs": [
    {
     "data": {
      "text/plain": [
       "{'a'}"
      ]
     },
     "execution_count": 21,
     "metadata": {},
     "output_type": "execute_result"
    }
   ],
   "source": [
    "set1.difference(set2)"
   ]
  },
  {
   "cell_type": "code",
   "execution_count": 3,
   "id": "9cc999f1-9b4c-4600-b6f9-824357a58971",
   "metadata": {},
   "outputs": [],
   "source": [
    "import pickle\n",
    "path = \"/Users/gunnvantsaini/Library/CloudStorage/OneDrive-Personal/consulting/dono/idma_pt_public/Python Essentials/data/ner_dataset_list\"\n",
    "with open(path,\"rb\") as f:    \n",
    "    new_data = pickle.load(f)"
   ]
  },
  {
   "cell_type": "code",
   "execution_count": 4,
   "id": "5061c258-875b-42c3-b2d6-d7c6bf35be3e",
   "metadata": {},
   "outputs": [
    {
     "data": {
      "text/plain": [
       "list"
      ]
     },
     "execution_count": 4,
     "metadata": {},
     "output_type": "execute_result"
    }
   ],
   "source": [
    "type(new_data)"
   ]
  },
  {
   "cell_type": "code",
   "execution_count": 16,
   "id": "cee66179-1c4f-4df5-ad5b-4f6e6d6eaf59",
   "metadata": {},
   "outputs": [
    {
     "data": {
      "text/plain": [
       "[('Pierre', 'PERSON'),\n",
       " ('Vinken', 'ORGANIZATION'),\n",
       " (',', ''),\n",
       " ('61', ''),\n",
       " ('years', ''),\n",
       " ('old', ''),\n",
       " (',', ''),\n",
       " ('will', ''),\n",
       " ('join', ''),\n",
       " ('the', ''),\n",
       " ('board', ''),\n",
       " ('as', ''),\n",
       " ('a', ''),\n",
       " ('nonexecutive', ''),\n",
       " ('director', ''),\n",
       " ('Nov.', ''),\n",
       " ('29', ''),\n",
       " ('.', '')]"
      ]
     },
     "execution_count": 16,
     "metadata": {},
     "output_type": "execute_result"
    }
   ],
   "source": [
    "new_data[0]"
   ]
  },
  {
   "cell_type": "code",
   "execution_count": 17,
   "id": "5b8fc409-6005-49dc-9439-2be6c72f8688",
   "metadata": {},
   "outputs": [
    {
     "data": {
      "text/plain": [
       "('Pierre', 'PERSON')"
      ]
     },
     "execution_count": 17,
     "metadata": {},
     "output_type": "execute_result"
    }
   ],
   "source": [
    "new_data[0][0]"
   ]
  },
  {
   "cell_type": "code",
   "execution_count": 18,
   "id": "01d83d39-f29b-40b2-8810-4adb00705fe6",
   "metadata": {},
   "outputs": [
    {
     "data": {
      "text/plain": [
       "'PERSON'"
      ]
     },
     "execution_count": 18,
     "metadata": {},
     "output_type": "execute_result"
    }
   ],
   "source": [
    "new_data[0][0][1]"
   ]
  },
  {
   "cell_type": "code",
   "execution_count": 19,
   "id": "b4cc7f21-889d-48dc-bb88-9235e76e7ed0",
   "metadata": {},
   "outputs": [],
   "source": [
    "gpes = []\n",
    "for row in new_data:\n",
    "    for item in row:\n",
    "        if item[1]==\"GPE\":\n",
    "            gpes.append(item[0])           "
   ]
  },
  {
   "cell_type": "code",
   "execution_count": 21,
   "id": "516b1e60-2447-4d99-98d5-be5c00fd333c",
   "metadata": {},
   "outputs": [
    {
     "data": {
      "text/plain": [
       "['Dutch', 'Agnew', 'British', 'New']"
      ]
     },
     "execution_count": 21,
     "metadata": {},
     "output_type": "execute_result"
    }
   ],
   "source": [
    "gpes[0:4]"
   ]
  },
  {
   "cell_type": "code",
   "execution_count": 22,
   "id": "c41a8e8e-7687-4871-9b5f-9848b33ed8d4",
   "metadata": {},
   "outputs": [
    {
     "data": {
      "text/plain": [
       "558"
      ]
     },
     "execution_count": 22,
     "metadata": {},
     "output_type": "execute_result"
    }
   ],
   "source": [
    "### Find out the number of unique values in the object gpe?\n",
    "### The number of values which were duplicated?\n",
    "\n",
    "len(set(gpes))"
   ]
  },
  {
   "cell_type": "code",
   "execution_count": 24,
   "id": "9efa0df3-73dc-48e5-84dd-ca9eabb63dde",
   "metadata": {},
   "outputs": [
    {
     "data": {
      "text/plain": [
       "1337"
      ]
     },
     "execution_count": 24,
     "metadata": {},
     "output_type": "execute_result"
    }
   ],
   "source": [
    "len(gpes)-len(set(gpes))"
   ]
  },
  {
   "cell_type": "markdown",
   "id": "cade1aab-e2a1-4379-9a74-b9a726af977b",
   "metadata": {},
   "source": [
    "### Dictionary\n",
    "- json format\n",
    "- key-value"
   ]
  },
  {
   "cell_type": "code",
   "execution_count": 25,
   "id": "13a81a0a-9b98-433c-ba09-0e9fafa2e01f",
   "metadata": {},
   "outputs": [],
   "source": [
    "d1 = {\"age\":[19,18,17,16],\n",
    "     \"name\":(\"a\",\"b\",\"c\",\"d\"),\n",
    "     \"misc\":False}"
   ]
  },
  {
   "cell_type": "code",
   "execution_count": 26,
   "id": "ca34c4dd-9513-46b6-aa87-0d20a3148795",
   "metadata": {},
   "outputs": [
    {
     "data": {
      "text/plain": [
       "{'age': [19, 18, 17, 16], 'name': ('a', 'b', 'c', 'd'), 'misc': False}"
      ]
     },
     "execution_count": 26,
     "metadata": {},
     "output_type": "execute_result"
    }
   ],
   "source": [
    "d1"
   ]
  },
  {
   "cell_type": "code",
   "execution_count": 32,
   "id": "a1d2e15f-a2f4-42e4-bfa9-59382f2cd3db",
   "metadata": {},
   "outputs": [
    {
     "data": {
      "text/plain": [
       "[19, 18, 17, 16]"
      ]
     },
     "execution_count": 32,
     "metadata": {},
     "output_type": "execute_result"
    }
   ],
   "source": [
    "d1['age']"
   ]
  },
  {
   "cell_type": "code",
   "execution_count": 29,
   "id": "13e62381-ab15-45fc-bea4-9b9a391f1e80",
   "metadata": {},
   "outputs": [
    {
     "data": {
      "text/plain": [
       "[1, 2, 3, 4]"
      ]
     },
     "execution_count": 29,
     "metadata": {},
     "output_type": "execute_result"
    }
   ],
   "source": [
    "l1"
   ]
  },
  {
   "cell_type": "code",
   "execution_count": 30,
   "id": "c58ef09e-d753-4552-a0c2-e78bb5117c74",
   "metadata": {},
   "outputs": [
    {
     "data": {
      "text/plain": [
       "1"
      ]
     },
     "execution_count": 30,
     "metadata": {},
     "output_type": "execute_result"
    }
   ],
   "source": [
    "l1[0]"
   ]
  },
  {
   "cell_type": "code",
   "execution_count": 33,
   "id": "df00a46a-d6b1-4087-84f2-227276d70b8e",
   "metadata": {},
   "outputs": [
    {
     "data": {
      "text/plain": [
       "('a', 'b', 'c', 'd')"
      ]
     },
     "execution_count": 33,
     "metadata": {},
     "output_type": "execute_result"
    }
   ],
   "source": [
    "d1['name']"
   ]
  },
  {
   "cell_type": "code",
   "execution_count": 34,
   "id": "af5219d5-d085-4292-bc80-60aae4c1bab6",
   "metadata": {},
   "outputs": [
    {
     "data": {
      "text/plain": [
       "False"
      ]
     },
     "execution_count": 34,
     "metadata": {},
     "output_type": "execute_result"
    }
   ],
   "source": [
    "d1['misc']"
   ]
  },
  {
   "cell_type": "code",
   "execution_count": 35,
   "id": "8e1d5344-3bc5-4980-b3e7-a9c2a759b5f1",
   "metadata": {},
   "outputs": [
    {
     "name": "stdout",
     "output_type": "stream",
     "text": [
      "age\n",
      "name\n",
      "misc\n"
     ]
    }
   ],
   "source": [
    "for i in d1:\n",
    "    print(i)"
   ]
  },
  {
   "cell_type": "code",
   "execution_count": 36,
   "id": "fdf5d666-dded-44f2-9de7-78847a904b9b",
   "metadata": {},
   "outputs": [
    {
     "name": "stdout",
     "output_type": "stream",
     "text": [
      "age [19, 18, 17, 16]\n",
      "name ('a', 'b', 'c', 'd')\n",
      "misc False\n"
     ]
    }
   ],
   "source": [
    "for i in d1:\n",
    "    print(i, d1[i])"
   ]
  },
  {
   "cell_type": "code",
   "execution_count": 37,
   "id": "5885cfde-4dd4-43df-8365-c0d264fef732",
   "metadata": {},
   "outputs": [],
   "source": [
    "d2 = {}"
   ]
  },
  {
   "cell_type": "code",
   "execution_count": 38,
   "id": "8e1f30e6-b4a2-452b-8bba-8b81ae710fab",
   "metadata": {},
   "outputs": [
    {
     "data": {
      "text/plain": [
       "{}"
      ]
     },
     "execution_count": 38,
     "metadata": {},
     "output_type": "execute_result"
    }
   ],
   "source": [
    "d2"
   ]
  },
  {
   "cell_type": "code",
   "execution_count": 39,
   "id": "ddd14aed-5549-4d4e-be13-d23aca026554",
   "metadata": {},
   "outputs": [],
   "source": [
    "d2['key1']=45"
   ]
  },
  {
   "cell_type": "code",
   "execution_count": 40,
   "id": "d2dd276b-30f9-42c1-a83f-2bdef66a4d4c",
   "metadata": {},
   "outputs": [
    {
     "data": {
      "text/plain": [
       "{'key1': 45}"
      ]
     },
     "execution_count": 40,
     "metadata": {},
     "output_type": "execute_result"
    }
   ],
   "source": [
    "d2"
   ]
  },
  {
   "cell_type": "code",
   "execution_count": 41,
   "id": "3b15fc19-291e-4f59-9617-00da2fd16678",
   "metadata": {},
   "outputs": [],
   "source": [
    "d2['key2']=['abc','def']"
   ]
  },
  {
   "cell_type": "code",
   "execution_count": 42,
   "id": "5ff01532-4ac4-433a-93df-ead5f4ccbd5f",
   "metadata": {},
   "outputs": [
    {
     "data": {
      "text/plain": [
       "{'key1': 45, 'key2': ['abc', 'def']}"
      ]
     },
     "execution_count": 42,
     "metadata": {},
     "output_type": "execute_result"
    }
   ],
   "source": [
    "d2"
   ]
  },
  {
   "cell_type": "code",
   "execution_count": 43,
   "id": "87daafd7-a9a7-4a6a-91cc-7fbb41e15469",
   "metadata": {},
   "outputs": [
    {
     "data": {
      "text/plain": [
       "True"
      ]
     },
     "execution_count": 43,
     "metadata": {},
     "output_type": "execute_result"
    }
   ],
   "source": [
    "\"key1\" in d2"
   ]
  },
  {
   "cell_type": "code",
   "execution_count": 44,
   "id": "81375f51-84a5-459a-b91a-dcd662cc62f7",
   "metadata": {},
   "outputs": [
    {
     "data": {
      "text/plain": [
       "False"
      ]
     },
     "execution_count": 44,
     "metadata": {},
     "output_type": "execute_result"
    }
   ],
   "source": [
    "\"key3\" in d2"
   ]
  },
  {
   "cell_type": "code",
   "execution_count": 45,
   "id": "d831ae2a-d956-44b3-b898-6d985e1cd2dc",
   "metadata": {},
   "outputs": [],
   "source": [
    "s = set()"
   ]
  },
  {
   "cell_type": "code",
   "execution_count": 46,
   "id": "636b5569-5026-47de-a210-b5a526e75104",
   "metadata": {},
   "outputs": [
    {
     "data": {
      "text/plain": [
       "set()"
      ]
     },
     "execution_count": 46,
     "metadata": {},
     "output_type": "execute_result"
    }
   ],
   "source": [
    "s"
   ]
  },
  {
   "cell_type": "code",
   "execution_count": 47,
   "id": "3c7231a3-5435-45bf-8d5d-80abc758e4f1",
   "metadata": {},
   "outputs": [
    {
     "data": {
      "text/plain": [
       "[('Pierre', 'PERSON'),\n",
       " ('Vinken', 'ORGANIZATION'),\n",
       " (',', ''),\n",
       " ('61', ''),\n",
       " ('years', ''),\n",
       " ('old', ''),\n",
       " (',', ''),\n",
       " ('will', ''),\n",
       " ('join', ''),\n",
       " ('the', ''),\n",
       " ('board', ''),\n",
       " ('as', ''),\n",
       " ('a', ''),\n",
       " ('nonexecutive', ''),\n",
       " ('director', ''),\n",
       " ('Nov.', ''),\n",
       " ('29', ''),\n",
       " ('.', '')]"
      ]
     },
     "execution_count": 47,
     "metadata": {},
     "output_type": "execute_result"
    }
   ],
   "source": [
    "new_data[0]"
   ]
  },
  {
   "cell_type": "markdown",
   "id": "6f2717a0-2aa6-4e97-bd68-a210739d62e4",
   "metadata": {},
   "source": [
    "```python\n",
    "{'PERSON':[..,..,.,,.,..,..],\n",
    "'ORGANIZATION':[..,...,.,,.,,.,,.,,],\n",
    "'GPE':[,..,..,..,..,..,..,..]}\n",
    "```"
   ]
  },
  {
   "cell_type": "code",
   "execution_count": 50,
   "id": "e6798c22-d46c-4534-8864-bff3ffb350d6",
   "metadata": {},
   "outputs": [],
   "source": [
    "gpes = []\n",
    "persons = []\n",
    "organizations = []\n",
    "for row in new_data:\n",
    "    for item in row:\n",
    "        if item[1]==\"GPE\":\n",
    "            gpes.append(item[0]) \n",
    "        if item[1]==\"PERSON\":\n",
    "            persons.append(item[0])\n",
    "        if item[1]==\"ORGANIZATION\":\n",
    "            organizations.append(item[0])"
   ]
  },
  {
   "cell_type": "code",
   "execution_count": 51,
   "id": "c9874638-3398-4c9f-a744-785555e9df05",
   "metadata": {},
   "outputs": [],
   "source": [
    "data = {'PERSON':persons,\n",
    "       'ORGANIZATION':organizations,\n",
    "       'GPE':gpes}"
   ]
  },
  {
   "cell_type": "markdown",
   "id": "49145f8f-30c6-42d7-9ebc-7e54ba0cfa4c",
   "metadata": {},
   "source": [
    "### Class Excercise"
   ]
  },
  {
   "cell_type": "code",
   "execution_count": 55,
   "id": "dfd9bb76-b41a-40ad-aed1-b618890ff0a2",
   "metadata": {},
   "outputs": [],
   "source": [
    "ghalib = [\n",
    "'''\n",
    "It’s only my heart, not unfeeling stone,\n",
    "so why be dismayed when it throbs with pain?\n",
    "It was made to suffer ten thousand darts;\n",
    "why let one more torment impede us?\n",
    "''',\n",
    "\n",
    "'''\n",
    "The miracle of your absence\n",
    "is that I found myself endlessly searching for you.\n",
    "''',\n",
    "\n",
    "'''\n",
    "On the subject of mystic philosophy, Ghalib,\n",
    "your words might have struck us as deeply profound\n",
    "and we might have pronounced you a saint ...\n",
    "Yes, if only we hadn't found\n",
    "you drunk\n",
    "as a skunk!\n",
    "''',\n",
    "    \n",
    "'''\n",
    "Not the blossomings of songs nor the adornments of music:\n",
    "I am the voice of my own heart breaking.\n",
    "You toy with your long, dark curls\n",
    "while I remain captive to my dark, pensive thoughts.\n",
    "We congratulate ourselves that we two are different:\n",
    "that this weakness has not burdened us both with inchoate grief.\n",
    "Now you are here, and I find myself bowing—\n",
    "as if sadness is a blessing, and longing a sacrament.\n",
    "I am a fragment of sound rebounding;\n",
    "you are the walls impounding my echoes.\n",
    "''',\n",
    "    \n",
    "'''\n",
    "All your life, O Ghalib,\n",
    "You kept repeating the same mistake:\n",
    "Your face was dirty\n",
    "But you were obsessed with cleaning the mirror!\n",
    "'''\n",
    "]"
   ]
  },
  {
   "cell_type": "markdown",
   "id": "c5a3c299-56bb-48fe-866c-42f7df30f2b6",
   "metadata": {},
   "source": [
    "### Create a dictionary that will contain the count of words\n",
    "\n",
    "```python\n",
    "{'word1':56,'word2':450,'you':10}\n",
    "```\n",
    "\n",
    "- Generate a list of all the words\n",
    "- Loop through 1, and populate an empty dictonary with words and their counts\n",
    "\n",
    "```python\n",
    "[\"w1\",\"w2\",\"w1\",\"w4\",\"w3\",\"w2\"]\n",
    "```\n",
    "\n",
    "- Start with an empty dict\n",
    "- Loop over the list\n",
    "- Check if w_i is already present:\n",
    "        - If not present, d[w_i]=1\n",
    "        - Else update the count of words"
   ]
  },
  {
   "cell_type": "code",
   "execution_count": 56,
   "id": "976c8b43-a833-40ec-8841-97752d72c199",
   "metadata": {},
   "outputs": [],
   "source": [
    "words = [\"w1\",\"w2\",\"w1\",\"w4\",\"w3\",\"w2\"]"
   ]
  },
  {
   "cell_type": "code",
   "execution_count": 57,
   "id": "4f638c83-d180-4f1c-a085-73e9591a7645",
   "metadata": {},
   "outputs": [],
   "source": [
    "count = {}"
   ]
  },
  {
   "cell_type": "code",
   "execution_count": 59,
   "id": "f9815335-dc64-4d9e-8e68-e1f6be64ed19",
   "metadata": {},
   "outputs": [
    {
     "data": {
      "text/plain": [
       "False"
      ]
     },
     "execution_count": 59,
     "metadata": {},
     "output_type": "execute_result"
    }
   ],
   "source": [
    "## iter1\n",
    "\"w1\" in count"
   ]
  },
  {
   "cell_type": "code",
   "execution_count": 60,
   "id": "c025b920-fdc1-4e2d-91ef-ef5a6c8434f5",
   "metadata": {},
   "outputs": [],
   "source": [
    "count[\"w1\"]=1"
   ]
  },
  {
   "cell_type": "code",
   "execution_count": 61,
   "id": "c8295811-7698-497b-a47e-7b4fd0ebea5f",
   "metadata": {},
   "outputs": [
    {
     "data": {
      "text/plain": [
       "{'w1': 1}"
      ]
     },
     "execution_count": 61,
     "metadata": {},
     "output_type": "execute_result"
    }
   ],
   "source": [
    "count"
   ]
  },
  {
   "cell_type": "code",
   "execution_count": 62,
   "id": "c334ab71-17eb-4ffa-851d-590da1587b8e",
   "metadata": {},
   "outputs": [
    {
     "data": {
      "text/plain": [
       "False"
      ]
     },
     "execution_count": 62,
     "metadata": {},
     "output_type": "execute_result"
    }
   ],
   "source": [
    "## iter2\n",
    "\"w2\" in count"
   ]
  },
  {
   "cell_type": "code",
   "execution_count": 63,
   "id": "ff3f5382-1194-46f1-a301-0c761e20f060",
   "metadata": {},
   "outputs": [],
   "source": [
    "count[\"w2\"]=1"
   ]
  },
  {
   "cell_type": "code",
   "execution_count": 64,
   "id": "5fc9f1ec-1263-40ba-b0cc-a335d9a4f86a",
   "metadata": {},
   "outputs": [
    {
     "data": {
      "text/plain": [
       "True"
      ]
     },
     "execution_count": 64,
     "metadata": {},
     "output_type": "execute_result"
    }
   ],
   "source": [
    "## iter3\n",
    "\"w1\" in count"
   ]
  },
  {
   "cell_type": "code",
   "execution_count": 67,
   "id": "b6f54115-e670-456e-9790-94251f6dc2e0",
   "metadata": {},
   "outputs": [],
   "source": [
    "count[\"w1\"]=count[\"w1\"]+1"
   ]
  },
  {
   "cell_type": "code",
   "execution_count": 68,
   "id": "1ed2d56d-18dd-42b7-a472-734173fb5aba",
   "metadata": {},
   "outputs": [
    {
     "data": {
      "text/plain": [
       "{'w1': 2, 'w2': 1}"
      ]
     },
     "execution_count": 68,
     "metadata": {},
     "output_type": "execute_result"
    }
   ],
   "source": [
    "count"
   ]
  },
  {
   "cell_type": "code",
   "execution_count": 69,
   "id": "e1d88076-7221-4859-b34e-ee2bda03ad09",
   "metadata": {},
   "outputs": [],
   "source": [
    "words = []\n",
    "for para in ghalib:\n",
    "    words=words+para.split()"
   ]
  },
  {
   "cell_type": "code",
   "execution_count": 71,
   "id": "227d94bd-822c-446d-9390-dae4b1225730",
   "metadata": {},
   "outputs": [],
   "source": [
    "count = {}\n",
    "for word in words:\n",
    "    if word in count:\n",
    "        count[word]=count[word]+1\n",
    "    else:\n",
    "        count[word]=1"
   ]
  },
  {
   "cell_type": "markdown",
   "id": "e9eb686b-0916-4a5d-a9f5-efd6492762d4",
   "metadata": {},
   "source": [
    "### For loop variation\n",
    "\n",
    "- Maps\n",
    "- List comprehensions"
   ]
  },
  {
   "cell_type": "code",
   "execution_count": 77,
   "id": "a4508237-fd69-4108-a56c-61fc6f009f7d",
   "metadata": {},
   "outputs": [],
   "source": [
    "###\n",
    "l1 = [1,2,3,4,5,5,2,2] ###=> A new list which will contain the squared values of the original data,[1,4,9,16,25]\n",
    "sq = []\n",
    "for i in l1:\n",
    "    sq.append(i**2)"
   ]
  },
  {
   "cell_type": "code",
   "execution_count": 78,
   "id": "687233d2-b5ec-4bdd-a825-554087f3391c",
   "metadata": {},
   "outputs": [
    {
     "data": {
      "text/plain": [
       "[1, 4, 9, 16, 25, 25, 4, 4]"
      ]
     },
     "execution_count": 78,
     "metadata": {},
     "output_type": "execute_result"
    }
   ],
   "source": [
    "sq"
   ]
  },
  {
   "cell_type": "markdown",
   "id": "a0c4d908-de0b-42f7-ba2b-896625e69c25",
   "metadata": {},
   "source": [
    "Maps: I apply a function on each element of the original object and produce an output"
   ]
  },
  {
   "cell_type": "code",
   "execution_count": 79,
   "id": "f40ab96c-019c-4626-a6bd-906c7c337426",
   "metadata": {},
   "outputs": [],
   "source": [
    "def square(x):\n",
    "    return x**2"
   ]
  },
  {
   "cell_type": "code",
   "execution_count": 80,
   "id": "410e73ab-daec-461e-8415-2cc638d60f54",
   "metadata": {},
   "outputs": [
    {
     "data": {
      "text/plain": [
       "[1, 4, 9, 16, 25, 25, 4, 4]"
      ]
     },
     "execution_count": 80,
     "metadata": {},
     "output_type": "execute_result"
    }
   ],
   "source": [
    "list(map(square,l1))"
   ]
  },
  {
   "cell_type": "markdown",
   "id": "0ab851f9-0f31-4ba5-9d43-238171cb03b0",
   "metadata": {},
   "source": [
    "### List Comprehension\n",
    "\n",
    "{x: x $\\in$ $R$}"
   ]
  },
  {
   "cell_type": "code",
   "execution_count": 81,
   "id": "418c8920-60d0-40c0-92cf-afcfc86e88d5",
   "metadata": {},
   "outputs": [
    {
     "data": {
      "text/plain": [
       "[1, 4, 9, 16, 25, 25, 4, 4]"
      ]
     },
     "execution_count": 81,
     "metadata": {},
     "output_type": "execute_result"
    }
   ],
   "source": [
    "[x**2 for x in l1]"
   ]
  },
  {
   "cell_type": "markdown",
   "id": "afbb3867-b1c3-41d3-a230-586185e3e735",
   "metadata": {},
   "source": [
    "### Regular Expressions\n",
    "\n",
    "- Define patters in your text data\n",
    "- email_ids, you need to extract just the email id"
   ]
  },
  {
   "cell_type": "code",
   "execution_count": 82,
   "id": "d6c28566-53bf-42ce-8d13-5186f39d4bee",
   "metadata": {},
   "outputs": [],
   "source": [
    "import re ## used to define and manipulate regex"
   ]
  },
  {
   "cell_type": "code",
   "execution_count": 83,
   "id": "d30a8f46-cbbf-44b2-a666-4e51f3b6c6d1",
   "metadata": {},
   "outputs": [],
   "source": [
    "text = '''Hello, my name is Ben. Please visit\n",
    "my website at http://www.forta.com/.'''"
   ]
  },
  {
   "cell_type": "code",
   "execution_count": 84,
   "id": "59ed01bb-8b67-4eae-99b2-c2efed1ae7e3",
   "metadata": {},
   "outputs": [
    {
     "data": {
      "text/plain": [
       "['Ben']"
      ]
     },
     "execution_count": 84,
     "metadata": {},
     "output_type": "execute_result"
    }
   ],
   "source": [
    "pattern = re.compile(r\"Ben\")\n",
    "re.findall(pattern, text)"
   ]
  },
  {
   "cell_type": "code",
   "execution_count": 85,
   "id": "157bff4e-5aa5-4f7c-bd8c-2d0ede7f4338",
   "metadata": {},
   "outputs": [
    {
     "data": {
      "text/plain": [
       "['my', 'my']"
      ]
     },
     "execution_count": 85,
     "metadata": {},
     "output_type": "execute_result"
    }
   ],
   "source": [
    "### Define a pattern for word \"my\"\n",
    "pattern = re.compile(r\"my\")\n",
    "re.findall(pattern, text)"
   ]
  },
  {
   "cell_type": "markdown",
   "id": "7884b861-18f0-4043-a2a1-3b1bc68c86bf",
   "metadata": {},
   "source": [
    "```bash\n",
    "sales1.xls\n",
    "orders3.xls\n",
    "sales2.xls\n",
    "sales3.xls\n",
    "apac1.xls\n",
    "europe2.xls\n",
    "na1.xls\n",
    "na2.xls\n",
    "sa1.xls\n",
    "```\n",
    "\n",
    "\".\" operator in regex\n",
    "It matches any one character, preceeding the word"
   ]
  },
  {
   "cell_type": "code",
   "execution_count": 86,
   "id": "cff60cec-5a28-4417-b759-b39a346d5d8a",
   "metadata": {},
   "outputs": [],
   "source": [
    "text = '''sales1.xls\n",
    "orders3.xls\n",
    "sales2.xls\n",
    "sales3.xls\n",
    "apac1.xls\n",
    "europe2.xls\n",
    "na1.xls\n",
    "na2.xls\n",
    "sa1.xls'''"
   ]
  },
  {
   "cell_type": "code",
   "execution_count": 87,
   "id": "e73ff702-792f-4a25-bf55-ddf405a5e94b",
   "metadata": {},
   "outputs": [
    {
     "data": {
      "text/plain": [
       "['sales1', 'sales2', 'sales3']"
      ]
     },
     "execution_count": 87,
     "metadata": {},
     "output_type": "execute_result"
    }
   ],
   "source": [
    "pattern = re.compile(r'sales.')\n",
    "re.findall(pattern,text)"
   ]
  },
  {
   "cell_type": "code",
   "execution_count": 88,
   "id": "424b5e9c-222b-488d-ae6b-454c0e6caa9f",
   "metadata": {},
   "outputs": [
    {
     "data": {
      "text/plain": [
       "['sal', 'sal', 'sal', 'pac', 'na1', 'na2', 'sa1']"
      ]
     },
     "execution_count": 88,
     "metadata": {},
     "output_type": "execute_result"
    }
   ],
   "source": [
    "## Match all the occurences where you have any character before a and any character after\n",
    "pattern = re.compile(r\".a.\")\n",
    "re.findall(pattern,text)"
   ]
  },
  {
   "cell_type": "code",
   "execution_count": 89,
   "id": "a3de90d0-811e-4dc5-9b6d-a1ce4c78df52",
   "metadata": {},
   "outputs": [],
   "source": [
    "## Show all .xls files that have one character before a and one after a, also show the file extention\n",
    "pattern = re.compile(r'.a.\\.xls')\n",
    "antipattern = re.compile(r'.a..xls')\n",
    "text1 = \"salpxls\""
   ]
  },
  {
   "cell_type": "code",
   "execution_count": 90,
   "id": "17e3f832-a91e-48fc-bb0b-4c3080eb4c78",
   "metadata": {},
   "outputs": [
    {
     "data": {
      "text/plain": [
       "['na1.xls', 'na2.xls', 'sa1.xls']"
      ]
     },
     "execution_count": 90,
     "metadata": {},
     "output_type": "execute_result"
    }
   ],
   "source": [
    "re.findall(pattern, text)"
   ]
  },
  {
   "cell_type": "code",
   "execution_count": 91,
   "id": "0a2385b5-b46b-452a-8f78-850d83bc2bbc",
   "metadata": {},
   "outputs": [
    {
     "data": {
      "text/plain": [
       "[]"
      ]
     },
     "execution_count": 91,
     "metadata": {},
     "output_type": "execute_result"
    }
   ],
   "source": [
    "re.findall(pattern, text1)"
   ]
  },
  {
   "cell_type": "code",
   "execution_count": 93,
   "id": "8a970cba-970d-424c-b679-c1192e6a8d71",
   "metadata": {},
   "outputs": [
    {
     "data": {
      "text/plain": [
       "['salpxls']"
      ]
     },
     "execution_count": 93,
     "metadata": {},
     "output_type": "execute_result"
    }
   ],
   "source": [
    "re.findall(antipattern, text1)"
   ]
  },
  {
   "cell_type": "code",
   "execution_count": 94,
   "id": "48ed7e87-a42f-4909-961c-e9f35c222a4a",
   "metadata": {},
   "outputs": [],
   "source": [
    "text = \"This text contains a digit 99 here and another digit 111 here\""
   ]
  },
  {
   "cell_type": "markdown",
   "id": "9434428e-de0c-431b-8b6d-844fb946dcea",
   "metadata": {},
   "source": [
    "Number extraction:\n",
    "- \\d -> digits between 0-9\n",
    "- [0-9]-> digits between 0-9"
   ]
  },
  {
   "cell_type": "code",
   "execution_count": 96,
   "id": "f49bc92f-7ce6-4e6d-b366-b01bd66439f4",
   "metadata": {},
   "outputs": [
    {
     "name": "stdout",
     "output_type": "stream",
     "text": [
      "['9', '9', '1', '1', '1']\n",
      "['9', '9', '1', '1', '1']\n"
     ]
    }
   ],
   "source": [
    "pattern = re.compile(r'\\d')\n",
    "pattern1 = re.compile(r'[0-9]')\n",
    "print(re.findall(pattern,text))\n",
    "print(re.findall(pattern1,text))"
   ]
  },
  {
   "cell_type": "markdown",
   "id": "e85a859e-b34f-4747-950e-e0a5b3a152f7",
   "metadata": {},
   "source": [
    "Use a + sign to signify that you want to match 1 or more occurences of the token"
   ]
  },
  {
   "cell_type": "code",
   "execution_count": 97,
   "id": "ece1c3bc-4b28-4fab-b4c4-4fa7cf90c31c",
   "metadata": {},
   "outputs": [
    {
     "name": "stdout",
     "output_type": "stream",
     "text": [
      "['99', '111']\n"
     ]
    }
   ],
   "source": [
    "pattern = re.compile(r'\\d+')\n",
    "print(re.findall(pattern,text))"
   ]
  },
  {
   "cell_type": "code",
   "execution_count": 98,
   "id": "e43209e1-9be7-4f35-886a-8901a13d3cbb",
   "metadata": {},
   "outputs": [],
   "source": [
    "text = \"This text contains a digit 99 here and another digit 111 here\""
   ]
  },
  {
   "cell_type": "code",
   "execution_count": 100,
   "id": "b9bc2d20-9100-4ad1-81bd-28590bb3f3e6",
   "metadata": {},
   "outputs": [
    {
     "name": "stdout",
     "output_type": "stream",
     "text": [
      "['This', 'text', 'contains', 'a', 'digit', '99', 'here', 'and', 'another', 'digit', '111', 'here']\n"
     ]
    }
   ],
   "source": [
    "### How will you match only words\n",
    "pattern = re.compile(r'\\w+')\n",
    "print(re.findall(pattern,text))"
   ]
  },
  {
   "cell_type": "code",
   "execution_count": 101,
   "id": "2335fec4-9a1e-4036-ace3-938a3e3eca4b",
   "metadata": {},
   "outputs": [
    {
     "name": "stdout",
     "output_type": "stream",
     "text": [
      "['This', 'text', 'contains', 'a', 'digit', 'here', 'and', 'another', 'digit', 'here']\n"
     ]
    }
   ],
   "source": [
    "pattern = re.compile(r'[a-zA-Z]+')\n",
    "print(re.findall(pattern,text))"
   ]
  },
  {
   "cell_type": "code",
   "execution_count": 102,
   "id": "6f767e03-c72b-4218-b967-b70b55aae215",
   "metadata": {},
   "outputs": [],
   "source": [
    "text = '''\n",
    "11213\n",
    "A1C2E3\n",
    "48075\n",
    "48237\n",
    "M1B4F2\n",
    "90046\n",
    "H1H2H2\n",
    "'''\n",
    "## Find out all alphanumeric expressions"
   ]
  },
  {
   "cell_type": "code",
   "execution_count": 103,
   "id": "b834218f-0427-4f0a-a1fe-dca3eda21b76",
   "metadata": {},
   "outputs": [
    {
     "data": {
      "text/plain": [
       "['A1C2E3', 'M1B4F2', 'H1H2H2']"
      ]
     },
     "execution_count": 103,
     "metadata": {},
     "output_type": "execute_result"
    }
   ],
   "source": [
    "pattern = re.compile(r\"\\w\\d\\w\\d\\w\\d\")\n",
    "re.findall(pattern,text)"
   ]
  },
  {
   "cell_type": "code",
   "execution_count": 104,
   "id": "1fecf93e-76cc-4710-a1fa-2935741a4a05",
   "metadata": {},
   "outputs": [
    {
     "data": {
      "text/plain": [
       "['11213', '48075', '48237', '90046']"
      ]
     },
     "execution_count": 104,
     "metadata": {},
     "output_type": "execute_result"
    }
   ],
   "source": [
    "## Find only numbers?\n",
    "pattern = re.compile(r\"\\d\\d\\d\\d\\d\")\n",
    "re.findall(pattern,text)"
   ]
  },
  {
   "cell_type": "code",
   "execution_count": 105,
   "id": "686f3c16-c44a-4260-9b5c-30d608c80344",
   "metadata": {},
   "outputs": [
    {
     "data": {
      "text/plain": [
       "['11213', '48075', '48237', '90046']"
      ]
     },
     "execution_count": 105,
     "metadata": {},
     "output_type": "execute_result"
    }
   ],
   "source": [
    "## Find only numbers?\n",
    "pattern = re.compile(r\"\\d{5}\")\n",
    "re.findall(pattern,text)"
   ]
  },
  {
   "cell_type": "code",
   "execution_count": 106,
   "id": "13b89bd0-262a-4a77-904a-418b7d783e8f",
   "metadata": {},
   "outputs": [],
   "source": [
    "text = '''\n",
    "var myArray = new Array();\n",
    "∙∙∙\n",
    "if (myArray[0] == 0) {\n",
    "∙∙∙\n",
    "}\n",
    "var myArray = new Array();\n",
    "∙∙∙\n",
    "if (myArray[1] == 0) {\n",
    "∙∙∙\n",
    "}\n",
    "var myArray = new Array();\n",
    "∙∙∙\n",
    "if (myArray[2] == 0) {\n",
    "∙∙∙\n",
    "}\n",
    "var myArray = new Array();\n",
    "∙∙∙\n",
    "if (myArray[3] == 0) {\n",
    "∙∙∙\n",
    "}\n",
    "var myArray = new Array();\n",
    "∙∙∙\n",
    "if (myArray[4] == 0) {\n",
    "∙∙∙\n",
    "}\n",
    "'''"
   ]
  },
  {
   "cell_type": "code",
   "execution_count": 109,
   "id": "7a9108c9-d331-433b-904f-3d589a75def6",
   "metadata": {},
   "outputs": [],
   "source": [
    "pattern = re.compile(r\"myArray\\[.\\]\")"
   ]
  },
  {
   "cell_type": "code",
   "execution_count": 111,
   "id": "21072c57-ed77-43c4-9de4-811ed43fd6dd",
   "metadata": {},
   "outputs": [],
   "source": [
    "pattern = re.compile(r\"myArray\\[\\d\\]\")"
   ]
  },
  {
   "cell_type": "code",
   "execution_count": 113,
   "id": "8a0f073d-e991-4757-8b8f-83cea43dc2ce",
   "metadata": {},
   "outputs": [],
   "source": [
    "pattern = re.compile(r\"\\w+\\[\\d\\]\")"
   ]
  },
  {
   "cell_type": "code",
   "execution_count": 119,
   "id": "00aa7ba3-3718-4c77-825a-a9aaa6feb4ed",
   "metadata": {},
   "outputs": [],
   "source": [
    "pattern = re.compile(r\"\\w{7}\\[\\d\\]\")"
   ]
  },
  {
   "cell_type": "code",
   "execution_count": 120,
   "id": "84b3423a-045c-46d7-81e9-c7c8b85a5273",
   "metadata": {},
   "outputs": [
    {
     "data": {
      "text/plain": [
       "['myArray[0]', 'myArray[1]', 'myArray[2]', 'myArray[3]', 'myArray[4]']"
      ]
     },
     "execution_count": 120,
     "metadata": {},
     "output_type": "execute_result"
    }
   ],
   "source": [
    "re.findall(pattern,text)"
   ]
  },
  {
   "cell_type": "code",
   "execution_count": 121,
   "id": "c119a643-ce27-400e-a0cd-5508b90275bd",
   "metadata": {},
   "outputs": [],
   "source": [
    "text = '''Send personal email to ben@forta.com or\n",
    "ben.forta@forta.com. For questions about a\n",
    "book use support@forta.com. If your message\n",
    "is urgent try ben@urgent.forta.com. Feel\n",
    "free to send unsolicited email to\n",
    "spam@forta.com (wouldn't it be nice if\n",
    "it were that simple, huh?).'''"
   ]
  },
  {
   "cell_type": "code",
   "execution_count": 129,
   "id": "67ea9c6f-1512-441c-ae6f-a612bf54f9f2",
   "metadata": {},
   "outputs": [
    {
     "data": {
      "text/plain": [
       "['ben@forta.com',\n",
       " 'forta@forta.com',\n",
       " 'support@forta.com',\n",
       " 'ben@urgent.forta',\n",
       " 'spam@forta.com']"
      ]
     },
     "execution_count": 129,
     "metadata": {},
     "output_type": "execute_result"
    }
   ],
   "source": [
    "pattern = re.compile(r'\\w+@\\w+\\.\\w+')\n",
    "re.findall(pattern,text)"
   ]
  },
  {
   "cell_type": "code",
   "execution_count": 130,
   "id": "0d1927a9-6abb-4765-a794-fa6fe57683bd",
   "metadata": {},
   "outputs": [],
   "source": [
    "text='''\n",
    "1001: $496.80\n",
    "1002: $1290.69\n",
    "1003: $26.43\n",
    "1004: $613.42\n",
    "1005: $7.61\n",
    "1006: $414.90\n",
    "1007: $25.00'''"
   ]
  },
  {
   "cell_type": "code",
   "execution_count": 135,
   "id": "d3faaa03-0cb2-49b7-8923-f38e0fb74b58",
   "metadata": {},
   "outputs": [
    {
     "data": {
      "text/plain": [
       "['$496.80', '$1290.69', '$26.43', '$613.42', '$7.61', '$414.90', '$25.00']"
      ]
     },
     "execution_count": 135,
     "metadata": {},
     "output_type": "execute_result"
    }
   ],
   "source": [
    "pattern = re.compile(r'\\$\\d+\\.\\d+')\n",
    "re.findall(pattern,text)"
   ]
  },
  {
   "cell_type": "markdown",
   "id": "e2ec5e78-360e-4f34-a73b-bc7ae0969363",
   "metadata": {},
   "source": [
    "1. Replace all occurrences of 5 with five for the given string.\n",
    "\n",
    "    ```python\n",
    "    ip = 'They ate 5 apples and 5 oranges'\n",
    "    ```\n",
    "\n",
    "2. For the given list, filter all elements that do not contain e.\n",
    "\n",
    "    ```python\n",
    "    items = ['goal', 'new', 'user', 'sit', 'eat', 'dinner']\n",
    "    ```\n",
    "\n",
    "3.  For the given input string, display all lines not containing start irrespective of case.\n",
    "\n",
    "    ```python\n",
    "    para = '''good start\n",
    "    Start working on that\n",
    "    project you always wanted\n",
    "    stars are shining brightly\n",
    "    hi there\n",
    "    start and try to\n",
    "    finish the book\n",
    "    bye'''\n",
    "    ```\n",
    "    "
   ]
  },
  {
   "cell_type": "code",
   "execution_count": 136,
   "id": "26acf36f-68ab-4089-9cfd-1126cb5b012d",
   "metadata": {},
   "outputs": [
    {
     "data": {
      "text/plain": [
       "'They ate five apples and five oranges'"
      ]
     },
     "execution_count": 136,
     "metadata": {},
     "output_type": "execute_result"
    }
   ],
   "source": [
    "## 1\n",
    "ip = 'They ate 5 apples and 5 oranges'\n",
    "pattern = re.compile(r'5')\n",
    "re.sub(pattern,\"five\",ip)"
   ]
  },
  {
   "cell_type": "code",
   "execution_count": 140,
   "id": "787b6c43-b2b9-42dd-b064-3ae175894a62",
   "metadata": {},
   "outputs": [],
   "source": [
    "pattern = re.compile(r'e')\n",
    "items = ['goal', 'new', 'user', 'sit', 'eat', 'dinner']\n",
    "new_items = []\n",
    "for item in items:\n",
    "    if len(re.findall(pattern,item))!=0:\n",
    "        new_items.append(item)\n",
    "        "
   ]
  },
  {
   "cell_type": "code",
   "execution_count": 141,
   "id": "003d8a5f-1a3b-4524-80c4-fca5d90803e4",
   "metadata": {},
   "outputs": [
    {
     "data": {
      "text/plain": [
       "['new', 'user', 'eat', 'dinner']"
      ]
     },
     "execution_count": 141,
     "metadata": {},
     "output_type": "execute_result"
    }
   ],
   "source": [
    "new_items"
   ]
  },
  {
   "cell_type": "code",
   "execution_count": 142,
   "id": "ff402bdf-3375-4564-9582-b3cc09a13707",
   "metadata": {},
   "outputs": [],
   "source": [
    "para = '''good start\n",
    "Start working on that\n",
    "project you always wanted\n",
    "stars are shining brightly\n",
    "hi there\n",
    "start and try to\n",
    "finish the book\n",
    "bye'''"
   ]
  },
  {
   "cell_type": "code",
   "execution_count": 147,
   "id": "94a14e8d-6265-493a-ac4f-c8c51965da1f",
   "metadata": {},
   "outputs": [
    {
     "name": "stdout",
     "output_type": "stream",
     "text": [
      "project you always wanted\n",
      "stars are shining brightly\n",
      "hi there\n",
      "finish the book\n",
      "bye\n"
     ]
    }
   ],
   "source": [
    "pattern = re.compile(r'start',re.IGNORECASE)\n",
    "for sent in para.split(\"\\n\"):\n",
    "    if len(re.findall(pattern,sent))==0:\n",
    "        print(sent)"
   ]
  },
  {
   "cell_type": "code",
   "execution_count": null,
   "id": "4a7d8ad4-bd4b-4012-a584-8c73098ea017",
   "metadata": {},
   "outputs": [],
   "source": []
  }
 ],
 "metadata": {
  "kernelspec": {
   "display_name": "Python 3 (ipykernel)",
   "language": "python",
   "name": "python3"
  },
  "language_info": {
   "codemirror_mode": {
    "name": "ipython",
    "version": 3
   },
   "file_extension": ".py",
   "mimetype": "text/x-python",
   "name": "python",
   "nbconvert_exporter": "python",
   "pygments_lexer": "ipython3",
   "version": "3.9.10"
  }
 },
 "nbformat": 4,
 "nbformat_minor": 5
}
