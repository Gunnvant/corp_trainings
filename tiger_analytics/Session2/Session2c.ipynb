{
 "cells": [
  {
   "cell_type": "markdown",
   "id": "50e3ee46-1f2c-4c6d-b072-bcd7c35b997f",
   "metadata": {},
   "source": [
    "----\n",
    "**Author**: Gunnvant\n",
    "\n",
    "**Description**: Working with flat files\n",
    "\n",
    "**Audience**: Beginner\n",
    "\n",
    "**Pre-requitisites**: Python 101\n",
    "\n",
    "---\n",
    "\n",
    "\n",
    "\n",
    "\n",
    "\n",
    "## TOC\n",
    "- Using open() to manipulate text files is not very scalable\n",
    "- csv reader: Read and easily manipulate flat files\n",
    "- json reader: Read and manipulate json files\n",
    "\n",
    "\n",
    "A couple of previous examples that we saw where the `open()` directive was used to handle text files. We saw that reading a row was usually not a very trivial excercise. Recall the class problem on twitter dataset, the following piece of code was written:\n",
    "\n",
    "```python\n",
    "day = '26'\n",
    "cnt = 0\n",
    "for tweet in tweets_list[1:]:\n",
    "    date = tweet.split(\"|\")[0] ###-> This split is not trivial, one has to know the delimiter, also here finding the date value in a row is again a little painful one has to know the position of columns in the table/dataset\n",
    "    date = date.replace('\"',\"\")\n",
    "    if date.startswith(date_mapping[day]):\n",
    "        cnt+=1\n",
    "```\n",
    "\n",
    "A lot of the unnecessary details are handled by a python module called [`csv`](https://docs.python.org/3/library/csv.html). We will use this module to see how it can make our life easy. Also if you do appear for data engineering interviews or even data science interviews you can expect first principle questions on your ability to work with simple flat files"
   ]
  },
  {
   "cell_type": "code",
   "execution_count": null,
   "id": "d7ef4538-b90d-453a-92f4-eb25baf23f18",
   "metadata": {},
   "outputs": [],
   "source": []
  }
 ],
 "metadata": {
  "kernelspec": {
   "display_name": "Python 3 (ipykernel)",
   "language": "python",
   "name": "python3"
  },
  "language_info": {
   "codemirror_mode": {
    "name": "ipython",
    "version": 3
   },
   "file_extension": ".py",
   "mimetype": "text/x-python",
   "name": "python",
   "nbconvert_exporter": "python",
   "pygments_lexer": "ipython3",
   "version": "3.9.10"
  }
 },
 "nbformat": 4,
 "nbformat_minor": 5
}
