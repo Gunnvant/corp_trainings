{
 "cells": [
  {
   "cell_type": "markdown",
   "id": "830d2940-190b-491e-8c72-39ae2f527c9f",
   "metadata": {},
   "source": [
    "## Data Structures Contd..\n",
    "- Tuples\n",
    "- Sets\n",
    "- Dictionaries\n",
    "\n",
    "## Misc:\n",
    "- Map function\n",
    "- For loop in a list comprehension"
   ]
  },
  {
   "cell_type": "markdown",
   "id": "1652418d-ce93-41e6-9676-6f6bcdfb9e59",
   "metadata": {},
   "source": [
    "### Tuples:\n",
    "- Similar to lists\n",
    "- Values in Tuples can't be changed in place"
   ]
  },
  {
   "cell_type": "code",
   "execution_count": 1,
   "id": "c557be8a-cdfb-4b09-ad26-75142c24d44b",
   "metadata": {},
   "outputs": [],
   "source": [
    "t = (1,2,3,'abc',('alpha'))"
   ]
  },
  {
   "cell_type": "code",
   "execution_count": 2,
   "id": "0fe50a5b-7f26-4339-83f0-3be0fc9fd755",
   "metadata": {},
   "outputs": [
    {
     "name": "stdout",
     "output_type": "stream",
     "text": [
      "1\n",
      "2\n",
      "3\n",
      "abc\n",
      "alpha\n"
     ]
    }
   ],
   "source": [
    "for i in t:\n",
    "    print(i)"
   ]
  },
  {
   "cell_type": "code",
   "execution_count": 3,
   "id": "a37d229c-9c5d-4a08-ad74-0cc275e32d11",
   "metadata": {},
   "outputs": [
    {
     "data": {
      "text/plain": [
       "1"
      ]
     },
     "execution_count": 3,
     "metadata": {},
     "output_type": "execute_result"
    }
   ],
   "source": [
    "t[0]"
   ]
  },
  {
   "cell_type": "code",
   "execution_count": 4,
   "id": "bbcd884e-1967-48cb-9029-ae76a68caa33",
   "metadata": {},
   "outputs": [
    {
     "data": {
      "text/plain": [
       "'alpha'"
      ]
     },
     "execution_count": 4,
     "metadata": {},
     "output_type": "execute_result"
    }
   ],
   "source": [
    "t[-1]"
   ]
  },
  {
   "cell_type": "code",
   "execution_count": 5,
   "id": "e0ff6924-3a21-44e4-b1b5-30ef90294fea",
   "metadata": {},
   "outputs": [],
   "source": [
    "l1 = [1,2,3,5,'abc']"
   ]
  },
  {
   "cell_type": "code",
   "execution_count": 6,
   "id": "708755e5-c6b2-4ac5-a071-e650d543dc61",
   "metadata": {},
   "outputs": [],
   "source": [
    "l1[2] = 400"
   ]
  },
  {
   "cell_type": "code",
   "execution_count": 7,
   "id": "9a7547f8-a18b-4426-abbe-a9831516f996",
   "metadata": {},
   "outputs": [
    {
     "data": {
      "text/plain": [
       "[1, 2, 400, 5, 'abc']"
      ]
     },
     "execution_count": 7,
     "metadata": {},
     "output_type": "execute_result"
    }
   ],
   "source": [
    "l1"
   ]
  },
  {
   "cell_type": "code",
   "execution_count": 8,
   "id": "774a8e7e-eb5a-4e07-9e59-96c399b80094",
   "metadata": {},
   "outputs": [
    {
     "ename": "TypeError",
     "evalue": "'tuple' object does not support item assignment",
     "output_type": "error",
     "traceback": [
      "\u001b[0;31m---------------------------------------------------------------------------\u001b[0m",
      "\u001b[0;31mTypeError\u001b[0m                                 Traceback (most recent call last)",
      "Input \u001b[0;32mIn [8]\u001b[0m, in \u001b[0;36m<module>\u001b[0;34m\u001b[0m\n\u001b[0;32m----> 1\u001b[0m t[\u001b[38;5;241m2\u001b[39m] \u001b[38;5;241m=\u001b[39m \u001b[38;5;241m400\u001b[39m\n",
      "\u001b[0;31mTypeError\u001b[0m: 'tuple' object does not support item assignment"
     ]
    }
   ],
   "source": [
    "t[2] = 400"
   ]
  },
  {
   "cell_type": "code",
   "execution_count": 9,
   "id": "254decb5-7552-42c0-ad9e-71dbda274cb5",
   "metadata": {},
   "outputs": [
    {
     "data": {
      "text/plain": [
       "(1, 2, 3, 'abc', 'alpha')"
      ]
     },
     "execution_count": 9,
     "metadata": {},
     "output_type": "execute_result"
    }
   ],
   "source": [
    "t"
   ]
  },
  {
   "cell_type": "code",
   "execution_count": 10,
   "id": "18d293c6-c3ea-4ea7-918c-97818a0d024d",
   "metadata": {},
   "outputs": [
    {
     "data": {
      "text/plain": [
       "[1, 2, 3, 'abc', 'alpha']"
      ]
     },
     "execution_count": 10,
     "metadata": {},
     "output_type": "execute_result"
    }
   ],
   "source": [
    "list(t)"
   ]
  },
  {
   "cell_type": "code",
   "execution_count": 11,
   "id": "65cb089d-a1bb-4917-8022-f0d8037358c7",
   "metadata": {},
   "outputs": [
    {
     "data": {
      "text/plain": [
       "(1, 2, 3, 'abc', 'alpha')"
      ]
     },
     "execution_count": 11,
     "metadata": {},
     "output_type": "execute_result"
    }
   ],
   "source": [
    "t"
   ]
  },
  {
   "cell_type": "code",
   "execution_count": 12,
   "id": "9601cad5-a2d8-4ae8-96b3-d59f5db4a943",
   "metadata": {},
   "outputs": [],
   "source": [
    "t1 = ([1,2,3,4],'abv',123)"
   ]
  },
  {
   "cell_type": "code",
   "execution_count": 13,
   "id": "4a576af2-52e3-45f1-92c3-472e758e94e0",
   "metadata": {},
   "outputs": [
    {
     "data": {
      "text/plain": [
       "([1, 2, 3, 4], 'abv', 123)"
      ]
     },
     "execution_count": 13,
     "metadata": {},
     "output_type": "execute_result"
    }
   ],
   "source": [
    "t1"
   ]
  },
  {
   "cell_type": "code",
   "execution_count": 15,
   "id": "fb9c10b3-1a38-427e-9281-fe3eff8abfb1",
   "metadata": {},
   "outputs": [],
   "source": [
    "t1[0][1]='a'"
   ]
  },
  {
   "cell_type": "code",
   "execution_count": 16,
   "id": "00302776-1328-4a12-b618-2d8184eaec38",
   "metadata": {},
   "outputs": [
    {
     "data": {
      "text/plain": [
       "([1, 'a', 3, 4], 'abv', 123)"
      ]
     },
     "execution_count": 16,
     "metadata": {},
     "output_type": "execute_result"
    }
   ],
   "source": [
    "t1"
   ]
  },
  {
   "cell_type": "code",
   "execution_count": 18,
   "id": "5248705b-44f7-47b2-84b4-aa678f31853a",
   "metadata": {},
   "outputs": [
    {
     "ename": "TypeError",
     "evalue": "'tuple' object does not support item assignment",
     "output_type": "error",
     "traceback": [
      "\u001b[0;31m---------------------------------------------------------------------------\u001b[0m",
      "\u001b[0;31mTypeError\u001b[0m                                 Traceback (most recent call last)",
      "Input \u001b[0;32mIn [18]\u001b[0m, in \u001b[0;36m<module>\u001b[0;34m\u001b[0m\n\u001b[0;32m----> 1\u001b[0m t1[\u001b[38;5;241m0\u001b[39m] \u001b[38;5;241m=\u001b[39m [\u001b[38;5;241m1\u001b[39m,\u001b[38;5;241m2\u001b[39m]\n",
      "\u001b[0;31mTypeError\u001b[0m: 'tuple' object does not support item assignment"
     ]
    }
   ],
   "source": [
    "t1[0] = [1,2]"
   ]
  },
  {
   "cell_type": "code",
   "execution_count": 32,
   "id": "50954ab8-ac06-4ed2-bd9a-d8d9a69cc4c2",
   "metadata": {},
   "outputs": [
    {
     "name": "stdout",
     "output_type": "stream",
     "text": [
      "['__add__', '__class__', '__class_getitem__', '__contains__', '__delattr__', '__dir__', '__doc__', '__eq__', '__format__', '__ge__', '__getattribute__', '__getitem__', '__getnewargs__', '__gt__', '__hash__', '__init__', '__init_subclass__', '__iter__', '__le__', '__len__', '__lt__', '__mul__', '__ne__', '__new__', '__reduce__', '__reduce_ex__', '__repr__', '__rmul__', '__setattr__', '__sizeof__', '__str__', '__subclasshook__', 'count', 'index']\n"
     ]
    }
   ],
   "source": [
    "print(dir(t))"
   ]
  },
  {
   "cell_type": "code",
   "execution_count": 34,
   "id": "ad82c0ab-fa02-4500-8e3a-035b6dc254cc",
   "metadata": {},
   "outputs": [],
   "source": [
    "t = list(t)"
   ]
  },
  {
   "cell_type": "code",
   "execution_count": 35,
   "id": "15d8e7ab-9bfe-4db0-903c-940352c775f0",
   "metadata": {},
   "outputs": [],
   "source": [
    "t.append(46)"
   ]
  },
  {
   "cell_type": "code",
   "execution_count": 36,
   "id": "80b6c1a7-6e74-49ba-a7e1-875d9050f492",
   "metadata": {},
   "outputs": [
    {
     "data": {
      "text/plain": [
       "(1, 2, 3, 'abc', 'alpha', 46)"
      ]
     },
     "execution_count": 36,
     "metadata": {},
     "output_type": "execute_result"
    }
   ],
   "source": [
    "tuple(t)"
   ]
  },
  {
   "cell_type": "markdown",
   "id": "581287d4-57d8-4ac0-b183-13f2423ba849",
   "metadata": {},
   "source": [
    "### Sets\n",
    "- Non duplicated collections, common items between arrays, that are in one array but not in other"
   ]
  },
  {
   "cell_type": "code",
   "execution_count": 37,
   "id": "0a764e2b-fa72-4b07-866e-2d5071a635d6",
   "metadata": {},
   "outputs": [],
   "source": [
    "set1 = {'a','b','c','d'}\n",
    "set2 = set([1,1,2,3,4,5])"
   ]
  },
  {
   "cell_type": "code",
   "execution_count": 38,
   "id": "5ef74e0e-0bec-4d9f-baf1-7ce55138fc66",
   "metadata": {},
   "outputs": [
    {
     "data": {
      "text/plain": [
       "{'a', 'b', 'c', 'd'}"
      ]
     },
     "execution_count": 38,
     "metadata": {},
     "output_type": "execute_result"
    }
   ],
   "source": [
    "set1"
   ]
  },
  {
   "cell_type": "code",
   "execution_count": 39,
   "id": "cc9db92a-9963-4e9a-a87d-c26c567b86b5",
   "metadata": {},
   "outputs": [
    {
     "data": {
      "text/plain": [
       "{1, 2, 3, 4, 5}"
      ]
     },
     "execution_count": 39,
     "metadata": {},
     "output_type": "execute_result"
    }
   ],
   "source": [
    "set2"
   ]
  },
  {
   "cell_type": "code",
   "execution_count": 42,
   "id": "92958f7a-7325-4580-9dd9-3d9f651d2d01",
   "metadata": {},
   "outputs": [
    {
     "name": "stdout",
     "output_type": "stream",
     "text": [
      "c\n",
      "d\n",
      "b\n",
      "a\n"
     ]
    }
   ],
   "source": [
    "for i in set1:\n",
    "    print(i)"
   ]
  },
  {
   "cell_type": "code",
   "execution_count": 43,
   "id": "27688a05-e1a1-4820-8c53-8c7c265d5949",
   "metadata": {},
   "outputs": [
    {
     "ename": "TypeError",
     "evalue": "'set' object is not subscriptable",
     "output_type": "error",
     "traceback": [
      "\u001b[0;31m---------------------------------------------------------------------------\u001b[0m",
      "\u001b[0;31mTypeError\u001b[0m                                 Traceback (most recent call last)",
      "Input \u001b[0;32mIn [43]\u001b[0m, in \u001b[0;36m<module>\u001b[0;34m\u001b[0m\n\u001b[0;32m----> 1\u001b[0m \u001b[43mset1\u001b[49m\u001b[43m[\u001b[49m\u001b[38;5;241;43m0\u001b[39;49m\u001b[43m]\u001b[49m\n",
      "\u001b[0;31mTypeError\u001b[0m: 'set' object is not subscriptable"
     ]
    }
   ],
   "source": [
    "set1[0]"
   ]
  },
  {
   "cell_type": "code",
   "execution_count": 44,
   "id": "fdf75bc4-e037-4a8b-998d-c6b63512ef9f",
   "metadata": {},
   "outputs": [],
   "source": [
    "set1 = {'a','b','c'}\n",
    "set2 = {'b','c','d'}"
   ]
  },
  {
   "cell_type": "code",
   "execution_count": 45,
   "id": "6ba75e7a-c34b-4edd-95e0-ec98173f2c64",
   "metadata": {},
   "outputs": [
    {
     "data": {
      "text/plain": [
       "{'b', 'c'}"
      ]
     },
     "execution_count": 45,
     "metadata": {},
     "output_type": "execute_result"
    }
   ],
   "source": [
    "set1.intersection(set2)"
   ]
  },
  {
   "cell_type": "code",
   "execution_count": 46,
   "id": "5c13fd83-cea4-4f8a-9372-f491e5d659f7",
   "metadata": {},
   "outputs": [
    {
     "data": {
      "text/plain": [
       "{'a'}"
      ]
     },
     "execution_count": 46,
     "metadata": {},
     "output_type": "execute_result"
    }
   ],
   "source": [
    "set1.difference(set2)"
   ]
  },
  {
   "cell_type": "code",
   "execution_count": 47,
   "id": "17249a82-d6f3-4518-89bd-65e8c5e08960",
   "metadata": {},
   "outputs": [
    {
     "name": "stdout",
     "output_type": "stream",
     "text": [
      "['__and__', '__class__', '__class_getitem__', '__contains__', '__delattr__', '__dir__', '__doc__', '__eq__', '__format__', '__ge__', '__getattribute__', '__gt__', '__hash__', '__iand__', '__init__', '__init_subclass__', '__ior__', '__isub__', '__iter__', '__ixor__', '__le__', '__len__', '__lt__', '__ne__', '__new__', '__or__', '__rand__', '__reduce__', '__reduce_ex__', '__repr__', '__ror__', '__rsub__', '__rxor__', '__setattr__', '__sizeof__', '__str__', '__sub__', '__subclasshook__', '__xor__', 'add', 'clear', 'copy', 'difference', 'difference_update', 'discard', 'intersection', 'intersection_update', 'isdisjoint', 'issubset', 'issuperset', 'pop', 'remove', 'symmetric_difference', 'symmetric_difference_update', 'union', 'update']\n"
     ]
    }
   ],
   "source": [
    "print(dir(set1))"
   ]
  },
  {
   "cell_type": "code",
   "execution_count": 48,
   "id": "2676b9db-cf85-4bf1-9332-eb95235e338b",
   "metadata": {},
   "outputs": [],
   "source": [
    "set1.update('e')"
   ]
  },
  {
   "cell_type": "code",
   "execution_count": 49,
   "id": "fcf8ee0b-6bd7-4a9f-8e2f-a1b84c6c8b56",
   "metadata": {},
   "outputs": [
    {
     "data": {
      "text/plain": [
       "{'a', 'b', 'c', 'e'}"
      ]
     },
     "execution_count": 49,
     "metadata": {},
     "output_type": "execute_result"
    }
   ],
   "source": [
    "set1"
   ]
  },
  {
   "cell_type": "code",
   "execution_count": 50,
   "id": "b09c1d12-6939-4aff-9e2a-fcb9a91bf8c7",
   "metadata": {},
   "outputs": [],
   "source": [
    "import pickle ## ignore this for the while\n",
    "with open(\"/Users/gunnvantsaini/Library/CloudStorage/OneDrive-Personal/Work/Vired/Content/corp_trainings/tiger_analytics/data/ner_dataset_list\",\"rb\") as f:\n",
    "    ner_data = pickle.load(f)"
   ]
  },
  {
   "cell_type": "code",
   "execution_count": 54,
   "id": "d5770a4a-25b2-4376-b7d6-bea81c72c6c8",
   "metadata": {},
   "outputs": [
    {
     "data": {
      "text/plain": [
       "[[('Pierre', 'PERSON'),\n",
       "  ('Vinken', 'ORGANIZATION'),\n",
       "  (',', ''),\n",
       "  ('61', ''),\n",
       "  ('years', ''),\n",
       "  ('old', ''),\n",
       "  (',', ''),\n",
       "  ('will', ''),\n",
       "  ('join', ''),\n",
       "  ('the', ''),\n",
       "  ('board', ''),\n",
       "  ('as', ''),\n",
       "  ('a', ''),\n",
       "  ('nonexecutive', ''),\n",
       "  ('director', ''),\n",
       "  ('Nov.', ''),\n",
       "  ('29', ''),\n",
       "  ('.', '')]]"
      ]
     },
     "execution_count": 54,
     "metadata": {},
     "output_type": "execute_result"
    }
   ],
   "source": [
    "ner_data[0:1]"
   ]
  },
  {
   "cell_type": "markdown",
   "id": "9fe9071d-7557-4826-a58d-dccabf8d1d5f",
   "metadata": {},
   "source": [
    "### Extract all the words where the category is GPE."
   ]
  },
  {
   "cell_type": "code",
   "execution_count": 55,
   "id": "6bd031f2-f568-4012-8543-4e6e6647d147",
   "metadata": {},
   "outputs": [
    {
     "data": {
      "text/plain": [
       "list"
      ]
     },
     "execution_count": 55,
     "metadata": {},
     "output_type": "execute_result"
    }
   ],
   "source": [
    "type(ner_data)"
   ]
  },
  {
   "cell_type": "code",
   "execution_count": 59,
   "id": "f202e40e-8c71-421b-89d4-4daa6e6b7229",
   "metadata": {},
   "outputs": [
    {
     "data": {
      "text/plain": [
       "3914"
      ]
     },
     "execution_count": 59,
     "metadata": {},
     "output_type": "execute_result"
    }
   ],
   "source": [
    "len(ner_data)"
   ]
  },
  {
   "cell_type": "code",
   "execution_count": 71,
   "id": "409ecb35-494f-4693-bbf3-556677539b02",
   "metadata": {},
   "outputs": [],
   "source": [
    "gpes = []\n",
    "for dat in ner_data:\n",
    "    for items in dat:\n",
    "        if items[1]==\"GPE\":\n",
    "            gpes.append(items[0])"
   ]
  },
  {
   "cell_type": "code",
   "execution_count": 74,
   "id": "83b58b91-e13f-45b3-a200-e04a7a03df9e",
   "metadata": {},
   "outputs": [
    {
     "data": {
      "text/plain": [
       "558"
      ]
     },
     "execution_count": 74,
     "metadata": {},
     "output_type": "execute_result"
    }
   ],
   "source": [
    "len(set(gpes)) ## to caculate how many unique items are there in the list gpes?"
   ]
  },
  {
   "cell_type": "markdown",
   "id": "f683014c-ed3e-40eb-a2d4-fa19475da47d",
   "metadata": {},
   "source": [
    "### Dictionary\n",
    "- Help us in dealing with json or xml or any other kind of nested key-value pair data"
   ]
  },
  {
   "cell_type": "code",
   "execution_count": 75,
   "id": "fc4a2f5e-9f71-4759-826d-df6798ad2ea3",
   "metadata": {},
   "outputs": [],
   "source": [
    "d1 = {'name':'def','age':45,'gender':'F'}"
   ]
  },
  {
   "cell_type": "code",
   "execution_count": 77,
   "id": "5dddb36d-a8ab-414a-96b3-33063f36af6c",
   "metadata": {},
   "outputs": [
    {
     "data": {
      "text/plain": [
       "1"
      ]
     },
     "execution_count": 77,
     "metadata": {},
     "output_type": "execute_result"
    }
   ],
   "source": [
    "l1[0]"
   ]
  },
  {
   "cell_type": "code",
   "execution_count": 78,
   "id": "1e812e91-9a3a-49b7-b6aa-95a6be225c84",
   "metadata": {},
   "outputs": [
    {
     "data": {
      "text/plain": [
       "2"
      ]
     },
     "execution_count": 78,
     "metadata": {},
     "output_type": "execute_result"
    }
   ],
   "source": [
    "l1[1]"
   ]
  },
  {
   "cell_type": "code",
   "execution_count": 79,
   "id": "77ec0228-346f-4423-8d88-621674b538af",
   "metadata": {},
   "outputs": [
    {
     "data": {
      "text/plain": [
       "3"
      ]
     },
     "execution_count": 79,
     "metadata": {},
     "output_type": "execute_result"
    }
   ],
   "source": [
    "l1[-1]"
   ]
  },
  {
   "cell_type": "code",
   "execution_count": 81,
   "id": "66ee55c8-a735-408c-b16c-baf2301a57b1",
   "metadata": {},
   "outputs": [
    {
     "data": {
      "text/plain": [
       "'def'"
      ]
     },
     "execution_count": 81,
     "metadata": {},
     "output_type": "execute_result"
    }
   ],
   "source": [
    "d1['name']"
   ]
  },
  {
   "cell_type": "code",
   "execution_count": 82,
   "id": "1483fae7-faab-42fd-a509-a99e494cc723",
   "metadata": {},
   "outputs": [
    {
     "data": {
      "text/plain": [
       "45"
      ]
     },
     "execution_count": 82,
     "metadata": {},
     "output_type": "execute_result"
    }
   ],
   "source": [
    "d1['age']"
   ]
  },
  {
   "cell_type": "code",
   "execution_count": 83,
   "id": "6c354db9-2a6f-4b64-bb2a-fad273b13ab3",
   "metadata": {},
   "outputs": [
    {
     "data": {
      "text/plain": [
       "'F'"
      ]
     },
     "execution_count": 83,
     "metadata": {},
     "output_type": "execute_result"
    }
   ],
   "source": [
    "d1['gender']"
   ]
  },
  {
   "cell_type": "code",
   "execution_count": 85,
   "id": "51e591c6-caaf-4793-904f-c6a0aa9fa8bd",
   "metadata": {},
   "outputs": [
    {
     "name": "stdout",
     "output_type": "stream",
     "text": [
      "name def\n",
      "age 45\n",
      "gender F\n"
     ]
    }
   ],
   "source": [
    "for i in d1:\n",
    "    print(i,d1[i])"
   ]
  },
  {
   "cell_type": "code",
   "execution_count": 86,
   "id": "ba41616e-852c-41e5-8ac3-d7db7df4f623",
   "metadata": {},
   "outputs": [
    {
     "data": {
      "text/plain": [
       "{'name': 'def', 'age': 45, 'gender': 'F'}"
      ]
     },
     "execution_count": 86,
     "metadata": {},
     "output_type": "execute_result"
    }
   ],
   "source": [
    "d1"
   ]
  },
  {
   "cell_type": "code",
   "execution_count": 87,
   "id": "1e1e1bf5-8d78-40e3-850d-b82ab1902fff",
   "metadata": {},
   "outputs": [],
   "source": [
    "d1['salary'] = 40"
   ]
  },
  {
   "cell_type": "code",
   "execution_count": 88,
   "id": "849b447b-2654-44c3-8789-4bb3b7b35ade",
   "metadata": {},
   "outputs": [
    {
     "data": {
      "text/plain": [
       "{'name': 'def', 'age': 45, 'gender': 'F', 'salary': 40}"
      ]
     },
     "execution_count": 88,
     "metadata": {},
     "output_type": "execute_result"
    }
   ],
   "source": [
    "d1"
   ]
  },
  {
   "cell_type": "code",
   "execution_count": 89,
   "id": "6146e80c-25f6-436c-b079-278b8242a67f",
   "metadata": {},
   "outputs": [
    {
     "data": {
      "text/plain": [
       "dict_keys(['name', 'age', 'gender', 'salary'])"
      ]
     },
     "execution_count": 89,
     "metadata": {},
     "output_type": "execute_result"
    }
   ],
   "source": [
    "d1.keys()"
   ]
  },
  {
   "cell_type": "code",
   "execution_count": 90,
   "id": "ea15f400-1fb5-4a22-92ec-17082a5a2a31",
   "metadata": {},
   "outputs": [
    {
     "data": {
      "text/plain": [
       "dict_values(['def', 45, 'F', 40])"
      ]
     },
     "execution_count": 90,
     "metadata": {},
     "output_type": "execute_result"
    }
   ],
   "source": [
    "d1.values()"
   ]
  },
  {
   "cell_type": "code",
   "execution_count": 91,
   "id": "3b7f4fe6-fa81-43d2-a0c6-815bfc7d7b27",
   "metadata": {},
   "outputs": [
    {
     "data": {
      "text/plain": [
       "True"
      ]
     },
     "execution_count": 91,
     "metadata": {},
     "output_type": "execute_result"
    }
   ],
   "source": [
    "\"name\" in d1"
   ]
  },
  {
   "cell_type": "code",
   "execution_count": 92,
   "id": "12f2e627-fd62-4053-b106-f14cff0c4183",
   "metadata": {},
   "outputs": [
    {
     "data": {
      "text/plain": [
       "False"
      ]
     },
     "execution_count": 92,
     "metadata": {},
     "output_type": "execute_result"
    }
   ],
   "source": [
    "\"department\" in d1"
   ]
  },
  {
   "cell_type": "code",
   "execution_count": 93,
   "id": "920bbfbb-6225-415b-aee5-ed58404c31e2",
   "metadata": {},
   "outputs": [],
   "source": [
    "d2 = {}"
   ]
  },
  {
   "cell_type": "code",
   "execution_count": 94,
   "id": "cc903a05-ad2d-4686-b25f-66c273b525bd",
   "metadata": {},
   "outputs": [],
   "source": [
    "d2['key1'] = [12,34,56,78]"
   ]
  },
  {
   "cell_type": "code",
   "execution_count": 95,
   "id": "1707a7c5-2e34-4647-b6b3-887f4e453c70",
   "metadata": {},
   "outputs": [
    {
     "data": {
      "text/plain": [
       "{'key1': [12, 34, 56, 78]}"
      ]
     },
     "execution_count": 95,
     "metadata": {},
     "output_type": "execute_result"
    }
   ],
   "source": [
    "d2"
   ]
  },
  {
   "cell_type": "code",
   "execution_count": 97,
   "id": "0a9147bf-2794-454a-bbe3-8cae9b2ae4c4",
   "metadata": {},
   "outputs": [],
   "source": [
    "d2['key2'] = \"this is a string\""
   ]
  },
  {
   "cell_type": "code",
   "execution_count": 98,
   "id": "7cb6ce23-8e25-48c5-bca2-a7542e4b30e6",
   "metadata": {},
   "outputs": [
    {
     "data": {
      "text/plain": [
       "{'key1': [12, 34, 56, 78], 'key2': 'this is a string'}"
      ]
     },
     "execution_count": 98,
     "metadata": {},
     "output_type": "execute_result"
    }
   ],
   "source": [
    "d2"
   ]
  },
  {
   "cell_type": "code",
   "execution_count": 99,
   "id": "471d2d13-b167-44f6-8d36-914eb0490b4f",
   "metadata": {},
   "outputs": [],
   "source": [
    "ghalib = [\n",
    "'''\n",
    "It’s only my heart, not unfeeling stone,\n",
    "so why be dismayed when it throbs with pain?\n",
    "It was made to suffer ten thousand darts;\n",
    "why let one more torment impede us?\n",
    "''',\n",
    "\n",
    "'''\n",
    "The miracle of your absence\n",
    "is that I found myself endlessly searching for you.\n",
    "''',\n",
    "\n",
    "'''\n",
    "On the subject of mystic philosophy, Ghalib,\n",
    "your words might have struck us as deeply profound\n",
    "and we might have pronounced you a saint ...\n",
    "Yes, if only we hadn't found\n",
    "you drunk\n",
    "as a skunk!\n",
    "''',\n",
    "    \n",
    "'''\n",
    "Not the blossomings of songs nor the adornments of music:\n",
    "I am the voice of my own heart breaking.\n",
    "You toy with your long, dark curls\n",
    "while I remain captive to my dark, pensive thoughts.\n",
    "We congratulate ourselves that we two are different:\n",
    "that this weakness has not burdened us both with inchoate grief.\n",
    "Now you are here, and I find myself bowing—\n",
    "as if sadness is a blessing, and longing a sacrament.\n",
    "I am a fragment of sound rebounding;\n",
    "you are the walls impounding my echoes.\n",
    "''',\n",
    "    \n",
    "'''\n",
    "All your life, O Ghalib,\n",
    "You kept repeating the same mistake:\n",
    "Your face was dirty\n",
    "But you were obsessed with cleaning the mirror!\n",
    "'''\n",
    "]"
   ]
  },
  {
   "cell_type": "markdown",
   "id": "ef10736e-8c2d-4d81-b432-72105dd84144",
   "metadata": {},
   "source": [
    "```python\n",
    "{'word1':56,'word2':2}\n",
    "```"
   ]
  },
  {
   "cell_type": "code",
   "execution_count": 100,
   "id": "1eb4735f-5e50-42d3-8c56-0777e7b67de2",
   "metadata": {},
   "outputs": [],
   "source": [
    "sent = \"It’s only my heart, not unfeeling stone\""
   ]
  },
  {
   "cell_type": "code",
   "execution_count": 102,
   "id": "c870214d-cee3-4361-b8b5-541fdc16edae",
   "metadata": {},
   "outputs": [],
   "source": [
    "words = sent.split()"
   ]
  },
  {
   "cell_type": "code",
   "execution_count": 103,
   "id": "90a9b944-4324-41d8-a345-81f4087b5add",
   "metadata": {},
   "outputs": [
    {
     "data": {
      "text/plain": [
       "['It’s', 'only', 'my', 'heart,', 'not', 'unfeeling', 'stone']"
      ]
     },
     "execution_count": 103,
     "metadata": {},
     "output_type": "execute_result"
    }
   ],
   "source": [
    "words"
   ]
  },
  {
   "cell_type": "code",
   "execution_count": 101,
   "id": "dba7025d-d908-4131-88ad-749269eee627",
   "metadata": {},
   "outputs": [],
   "source": [
    "count = {}"
   ]
  },
  {
   "cell_type": "code",
   "execution_count": 104,
   "id": "e9ad2d1c-3bf6-4fda-9eb0-8e45ca91848e",
   "metadata": {},
   "outputs": [],
   "source": [
    "## is word 1 part of the dict?\n",
    "## increase the count of the word to 1 more\n",
    "## if word 1 was never a part of dict, then the word was neverseen\n",
    "## give the count of the word as 1  "
   ]
  },
  {
   "cell_type": "code",
   "execution_count": 105,
   "id": "93e6652c-6c35-4182-b4f5-bb119f2a7361",
   "metadata": {},
   "outputs": [
    {
     "data": {
      "text/plain": [
       "False"
      ]
     },
     "execution_count": 105,
     "metadata": {},
     "output_type": "execute_result"
    }
   ],
   "source": [
    "words[0] in count"
   ]
  },
  {
   "cell_type": "code",
   "execution_count": 107,
   "id": "a62d87af-a12c-4437-86a7-2d4031bb96f6",
   "metadata": {},
   "outputs": [],
   "source": [
    "count[words[0]] = 1"
   ]
  },
  {
   "cell_type": "code",
   "execution_count": 108,
   "id": "826d274e-a09c-4bf7-8af5-3ffbe6eef545",
   "metadata": {},
   "outputs": [
    {
     "data": {
      "text/plain": [
       "{'It’s': 1}"
      ]
     },
     "execution_count": 108,
     "metadata": {},
     "output_type": "execute_result"
    }
   ],
   "source": [
    "count"
   ]
  },
  {
   "cell_type": "code",
   "execution_count": 109,
   "id": "202ca6cb-b66c-457a-b317-e4af12e4c206",
   "metadata": {},
   "outputs": [
    {
     "data": {
      "text/plain": [
       "False"
      ]
     },
     "execution_count": 109,
     "metadata": {},
     "output_type": "execute_result"
    }
   ],
   "source": [
    "words[1] in count"
   ]
  },
  {
   "cell_type": "code",
   "execution_count": 110,
   "id": "e9c5b628-4427-439e-83b4-ddfb37c0b0f8",
   "metadata": {},
   "outputs": [],
   "source": [
    "count[words[1]] = 1"
   ]
  },
  {
   "cell_type": "code",
   "execution_count": 111,
   "id": "970832c9-42ee-469d-8a85-cc59f6e47ebc",
   "metadata": {},
   "outputs": [
    {
     "data": {
      "text/plain": [
       "{'It’s': 1, 'only': 1}"
      ]
     },
     "execution_count": 111,
     "metadata": {},
     "output_type": "execute_result"
    }
   ],
   "source": [
    "count"
   ]
  },
  {
   "cell_type": "code",
   "execution_count": 113,
   "id": "82c2bf4f-6c49-4aa2-8a99-1569071f93dd",
   "metadata": {},
   "outputs": [
    {
     "data": {
      "text/plain": [
       "True"
      ]
     },
     "execution_count": 113,
     "metadata": {},
     "output_type": "execute_result"
    }
   ],
   "source": [
    "\"only\" in count"
   ]
  },
  {
   "cell_type": "code",
   "execution_count": 115,
   "id": "9e177a9f-7910-460f-8922-983c13bd29db",
   "metadata": {},
   "outputs": [],
   "source": [
    "count['only'] = count['only'] + 1"
   ]
  },
  {
   "cell_type": "code",
   "execution_count": 116,
   "id": "08af9a60-00dc-4239-926a-48c80da4e630",
   "metadata": {},
   "outputs": [
    {
     "data": {
      "text/plain": [
       "{'It’s': 1, 'only': 2}"
      ]
     },
     "execution_count": 116,
     "metadata": {},
     "output_type": "execute_result"
    }
   ],
   "source": [
    "count"
   ]
  },
  {
   "cell_type": "code",
   "execution_count": 117,
   "id": "e9b97fce-bb59-48bc-abaf-9ac811a12951",
   "metadata": {},
   "outputs": [],
   "source": [
    "count = {}\n",
    "for word in words:\n",
    "    if word in count:\n",
    "        count[word] = count[word]+1\n",
    "    else:\n",
    "        count[word] = 1\n",
    "    "
   ]
  },
  {
   "cell_type": "code",
   "execution_count": 118,
   "id": "fd5a10f9-fe7c-485d-9ce8-0f893d0c406c",
   "metadata": {},
   "outputs": [
    {
     "data": {
      "text/plain": [
       "{'It’s': 1,\n",
       " 'only': 1,\n",
       " 'my': 1,\n",
       " 'heart,': 1,\n",
       " 'not': 1,\n",
       " 'unfeeling': 1,\n",
       " 'stone': 1}"
      ]
     },
     "execution_count": 118,
     "metadata": {},
     "output_type": "execute_result"
    }
   ],
   "source": [
    "count"
   ]
  },
  {
   "cell_type": "code",
   "execution_count": 123,
   "id": "28462eb8-2a2f-4377-be9b-a159778502a7",
   "metadata": {},
   "outputs": [],
   "source": [
    "l1 = ['abc','def','ghi']\n",
    "l2 = ['abc','def','ghi']\n",
    "l3 = ['abc','def','ghi']\n",
    "l4 = ['abc','def','ghi']"
   ]
  },
  {
   "cell_type": "code",
   "execution_count": 124,
   "id": "0469434c-f8ad-4f47-af79-c5f1a94c3624",
   "metadata": {},
   "outputs": [],
   "source": [
    "d = {'k1':l1,'k2':l2,'k3':l3,'k4':l4}"
   ]
  },
  {
   "cell_type": "code",
   "execution_count": 126,
   "id": "7c41f071-572c-41ae-8f66-a948f1d0bde4",
   "metadata": {},
   "outputs": [
    {
     "data": {
      "text/plain": [
       "{'k1': ['abc', 'def', 'ghi'],\n",
       " 'k2': ['abc', 'def', 'ghi'],\n",
       " 'k3': ['abc', 'def', 'ghi'],\n",
       " 'k4': ['abc', 'def', 'ghi']}"
      ]
     },
     "execution_count": 126,
     "metadata": {},
     "output_type": "execute_result"
    }
   ],
   "source": [
    "d"
   ]
  },
  {
   "cell_type": "markdown",
   "id": "d3936d40-bf4c-403d-a311-e328bb31194f",
   "metadata": {},
   "source": [
    "```python\n",
    "{\n",
    "    \"PERSON\":['Pierre'...],\n",
    "    \"ORGANIZATION\":['Boeing'.....],\n",
    "    \"GPE\":['DUTCH'.....],\n",
    "    \"LOCATION\":['Missisipi'.....]\n",
    "}\n",
    "```"
   ]
  },
  {
   "cell_type": "code",
   "execution_count": 134,
   "id": "1b073e70-bf81-482e-8a33-aea9c309c0a6",
   "metadata": {},
   "outputs": [],
   "source": [
    "data = {'PERSON':[],'ORGANIZATION':[],\"GPE\":[],\"LOCATION\":[]}\n",
    "for doc in ner_data:\n",
    "    for ent in doc:\n",
    "        if ent[1]=='PERSON':\n",
    "            data['PERSON'].append(ent[0])\n",
    "        if ent[1] == \"ORGANIZATION\":\n",
    "            data['ORGANIZATION'].append(ent[0])\n",
    "        if ent[1] == \"GPE\":\n",
    "            data['GPE'].append(ent[0])\n",
    "        if ent[1]==\"LOCATION\":\n",
    "            data['LOCATION'].append(ent[0])"
   ]
  },
  {
   "cell_type": "markdown",
   "id": "ed439fad-155e-4d58-a83f-0980333bfd18",
   "metadata": {},
   "source": [
    "l1, storing data for all the categories"
   ]
  },
  {
   "cell_type": "code",
   "execution_count": 135,
   "id": "3334f10a-9006-48f3-a42d-79222fb22d51",
   "metadata": {},
   "outputs": [
    {
     "data": {
      "text/plain": [
       "'a'"
      ]
     },
     "execution_count": 135,
     "metadata": {},
     "output_type": "execute_result"
    }
   ],
   "source": [
    "\"a\""
   ]
  },
  {
   "cell_type": "code",
   "execution_count": 136,
   "id": "36bb4117-7cb2-4697-8d1b-6c67a0f453e9",
   "metadata": {},
   "outputs": [
    {
     "data": {
      "text/plain": [
       "'a'"
      ]
     },
     "execution_count": 136,
     "metadata": {},
     "output_type": "execute_result"
    }
   ],
   "source": [
    "'a'"
   ]
  },
  {
   "cell_type": "code",
   "execution_count": 137,
   "id": "af65874e-17fa-4539-9fbb-712201b5198b",
   "metadata": {},
   "outputs": [
    {
     "data": {
      "text/plain": [
       "[[('Pierre', 'PERSON'),\n",
       "  ('Vinken', 'ORGANIZATION'),\n",
       "  (',', ''),\n",
       "  ('61', ''),\n",
       "  ('years', ''),\n",
       "  ('old', ''),\n",
       "  (',', ''),\n",
       "  ('will', ''),\n",
       "  ('join', ''),\n",
       "  ('the', ''),\n",
       "  ('board', ''),\n",
       "  ('as', ''),\n",
       "  ('a', ''),\n",
       "  ('nonexecutive', ''),\n",
       "  ('director', ''),\n",
       "  ('Nov.', ''),\n",
       "  ('29', ''),\n",
       "  ('.', '')],\n",
       " [('Mr.', 'PERSON'),\n",
       "  ('Vinken', 'PERSON'),\n",
       "  ('is', ''),\n",
       "  ('chairman', ''),\n",
       "  ('of', ''),\n",
       "  ('Elsevier', 'ORGANIZATION'),\n",
       "  ('N.V.', ''),\n",
       "  (',', ''),\n",
       "  ('the', ''),\n",
       "  ('Dutch', 'GPE'),\n",
       "  ('publishing', ''),\n",
       "  ('group', ''),\n",
       "  ('.', '')],\n",
       " [('Rudolph', 'PERSON'),\n",
       "  ('Agnew', 'GPE'),\n",
       "  (',', ''),\n",
       "  ('55', ''),\n",
       "  ('years', ''),\n",
       "  ('old', ''),\n",
       "  ('and', ''),\n",
       "  ('former', ''),\n",
       "  ('chairman', ''),\n",
       "  ('of', ''),\n",
       "  ('Consolidated', 'ORGANIZATION'),\n",
       "  ('PLC', ''),\n",
       "  (',', ''),\n",
       "  ('was', ''),\n",
       "  ('named', ''),\n",
       "  ('*-1', ''),\n",
       "  ('a', ''),\n",
       "  ('nonexecutive', ''),\n",
       "  ('director', ''),\n",
       "  ('of', ''),\n",
       "  ('this', ''),\n",
       "  ('British', 'GPE'),\n",
       "  ('industrial', ''),\n",
       "  ('conglomerate', ''),\n",
       "  ('.', '')]]"
      ]
     },
     "execution_count": 137,
     "metadata": {},
     "output_type": "execute_result"
    }
   ],
   "source": [
    "ner_data[0:3]"
   ]
  },
  {
   "cell_type": "markdown",
   "id": "efe4c7bd-5f96-474f-b5b5-8e7f16a0e53d",
   "metadata": {},
   "source": [
    "### For loop abstraction:\n",
    "- map \n",
    "- list comprehension\n",
    "\n",
    "(matter of your personal preference)"
   ]
  },
  {
   "cell_type": "code",
   "execution_count": 138,
   "id": "cd6e40fe-bf21-4175-b706-9573bfe82fd8",
   "metadata": {},
   "outputs": [],
   "source": [
    "list_nums = [1,2,3,4,5,6,7,8,9] ## square and store these numbers"
   ]
  },
  {
   "cell_type": "code",
   "execution_count": 139,
   "id": "0ec612fc-cc04-46a6-a48c-1ab9d5db25ee",
   "metadata": {},
   "outputs": [],
   "source": [
    "squared_list = []\n",
    "for num in list_nums:\n",
    "    squared_list.append(num**2)"
   ]
  },
  {
   "cell_type": "code",
   "execution_count": 140,
   "id": "7355744a-e4b8-4020-8d3a-12d0d12d7666",
   "metadata": {},
   "outputs": [
    {
     "data": {
      "text/plain": [
       "[1, 4, 9, 16, 25, 36, 49, 64, 81]"
      ]
     },
     "execution_count": 140,
     "metadata": {},
     "output_type": "execute_result"
    }
   ],
   "source": [
    "squared_list"
   ]
  },
  {
   "cell_type": "code",
   "execution_count": 141,
   "id": "908e8c89-1139-4677-9ce5-7dde5bbab464",
   "metadata": {},
   "outputs": [],
   "source": [
    "def square(x):\n",
    "    return x**2"
   ]
  },
  {
   "cell_type": "code",
   "execution_count": 142,
   "id": "d6355d6a-ee28-4293-ad84-d809386aa7e3",
   "metadata": {},
   "outputs": [
    {
     "data": {
      "text/plain": [
       "[1, 4, 9, 16, 25, 36, 49, 64, 81]"
      ]
     },
     "execution_count": 142,
     "metadata": {},
     "output_type": "execute_result"
    }
   ],
   "source": [
    "list(map(square,list_nums)) ## square(list_nums[0]), square(list_nums[1])....."
   ]
  },
  {
   "cell_type": "code",
   "execution_count": 143,
   "id": "da3438fb-f004-4c62-ae05-0100fd628696",
   "metadata": {},
   "outputs": [],
   "source": [
    "list_nums = (1,2,3,4,5,6,7,8,9)"
   ]
  },
  {
   "cell_type": "code",
   "execution_count": 145,
   "id": "687c0d0d-f48f-4ec8-8d9e-526b90d4dd47",
   "metadata": {},
   "outputs": [
    {
     "data": {
      "text/plain": [
       "(1, 4, 9, 16, 25, 36, 49, 64, 81)"
      ]
     },
     "execution_count": 145,
     "metadata": {},
     "output_type": "execute_result"
    }
   ],
   "source": [
    "tuple(map(square,list_nums)) "
   ]
  },
  {
   "cell_type": "markdown",
   "id": "a55d5cf2-88b1-4e00-aa3d-5fca6dcf1fb7",
   "metadata": {},
   "source": [
    "[R is a set of all real numbers st R>=56]"
   ]
  },
  {
   "cell_type": "markdown",
   "id": "1e200447-fa69-4be6-a1db-627dd7aa5c38",
   "metadata": {},
   "source": [
    "### List Comprehension"
   ]
  },
  {
   "cell_type": "code",
   "execution_count": 147,
   "id": "3cd5a56e-3c96-4da3-a0f4-4595c01126e7",
   "metadata": {},
   "outputs": [
    {
     "data": {
      "text/plain": [
       "[1, 4, 9, 16, 25, 36, 49, 64, 81]"
      ]
     },
     "execution_count": 147,
     "metadata": {},
     "output_type": "execute_result"
    }
   ],
   "source": [
    "[x**2 for x in list_nums] ## [\"what op your are doing on single data element\" for \"single data element\" in iterable]"
   ]
  },
  {
   "cell_type": "code",
   "execution_count": 149,
   "id": "7b8ff374-a164-4a27-aeee-8ce4f3648f43",
   "metadata": {},
   "outputs": [
    {
     "data": {
      "text/plain": [
       "[('Mr.', 'PERSON'),\n",
       " ('Vinken', 'PERSON'),\n",
       " ('is', ''),\n",
       " ('chairman', ''),\n",
       " ('of', ''),\n",
       " ('Elsevier', 'ORGANIZATION'),\n",
       " ('N.V.', ''),\n",
       " (',', ''),\n",
       " ('the', ''),\n",
       " ('Dutch', 'GPE'),\n",
       " ('publishing', ''),\n",
       " ('group', ''),\n",
       " ('.', '')]"
      ]
     },
     "execution_count": 149,
     "metadata": {},
     "output_type": "execute_result"
    }
   ],
   "source": [
    "ner_data[1]"
   ]
  },
  {
   "cell_type": "code",
   "execution_count": 152,
   "id": "80789fdd-c879-4401-95c0-048df776e225",
   "metadata": {},
   "outputs": [],
   "source": [
    "## Use list comprehension to extract all the ent with class \"PERSON\" from the data\n",
    "#[x[0] for x in ner_data[1] if x[1]==\"PERSON\"]"
   ]
  },
  {
   "cell_type": "code",
   "execution_count": 156,
   "id": "0ea4c3ba-a5cb-40f4-906a-e8257d9a28a8",
   "metadata": {},
   "outputs": [
    {
     "data": {
      "text/plain": [
       "['Mr.', 'Vinken']"
      ]
     },
     "execution_count": 156,
     "metadata": {},
     "output_type": "execute_result"
    }
   ],
   "source": [
    "## Use list comprehension to extract all the names from ner_data[1]\n",
    "[x[0] for x in ner_data[1] if x[1]==\"PERSON\"]"
   ]
  },
  {
   "cell_type": "markdown",
   "id": "564c4a71-2f1a-4e2c-b5a1-5972a07e3c58",
   "metadata": {},
   "source": [
    "### Regular Expressions:\n",
    "- Clean the data\n",
    "- Data is just a string\n",
    "- Handle a lot of text cleaning"
   ]
  },
  {
   "cell_type": "code",
   "execution_count": 158,
   "id": "b733541b-859b-4138-b93d-e9d67da81eca",
   "metadata": {},
   "outputs": [],
   "source": [
    "import re ## define the pattern to be searched, find the pattern, replace the pattern with something else"
   ]
  },
  {
   "cell_type": "markdown",
   "id": "5ceea221-63b0-4645-91d1-819bfe8304f8",
   "metadata": {},
   "source": [
    "I am abc and my email id is abc@gmail.com\n",
    "\n",
    "I am def and my website is hosted at https://def-geg.com"
   ]
  },
  {
   "cell_type": "code",
   "execution_count": 159,
   "id": "deb60158-dd40-4a03-abff-6033b39ed918",
   "metadata": {},
   "outputs": [],
   "source": [
    "text = '''Hello, my name is Ben. Please visit\n",
    "my website at http://www.forta.com/.'''"
   ]
  },
  {
   "cell_type": "code",
   "execution_count": 160,
   "id": "cb9565b3-c745-4bd6-b501-84dee5875fef",
   "metadata": {},
   "outputs": [],
   "source": [
    "## I want to search for 'Ben'"
   ]
  },
  {
   "cell_type": "code",
   "execution_count": 161,
   "id": "27de2b5a-eed8-4f16-9ae7-6644819194b8",
   "metadata": {},
   "outputs": [],
   "source": [
    "## Step 1: Define the pattern to be searched\n",
    "pattern = re.compile(r'Ben')"
   ]
  },
  {
   "cell_type": "code",
   "execution_count": 162,
   "id": "51603209-81f6-4688-aec0-5f55ec76430b",
   "metadata": {},
   "outputs": [
    {
     "data": {
      "text/plain": [
       "['Ben']"
      ]
     },
     "execution_count": 162,
     "metadata": {},
     "output_type": "execute_result"
    }
   ],
   "source": [
    "## Step 2: Search for the pattern\n",
    "re.findall(pattern,text)"
   ]
  },
  {
   "cell_type": "code",
   "execution_count": 163,
   "id": "1003e4d5-763f-4abd-9964-1b69360fbdae",
   "metadata": {},
   "outputs": [],
   "source": [
    "## It is case sensitive\n",
    "pattern = re.compile(r'ben')"
   ]
  },
  {
   "cell_type": "code",
   "execution_count": 164,
   "id": "64205043-bf30-4741-be84-409592f630bc",
   "metadata": {},
   "outputs": [
    {
     "data": {
      "text/plain": [
       "[]"
      ]
     },
     "execution_count": 164,
     "metadata": {},
     "output_type": "execute_result"
    }
   ],
   "source": [
    "re.findall(pattern,text)"
   ]
  },
  {
   "cell_type": "code",
   "execution_count": 165,
   "id": "09a8a5fe-5c43-49fd-8767-2b59538db32f",
   "metadata": {},
   "outputs": [],
   "source": [
    "## If you want to ignore the case\n",
    "pattern = re.compile(r'ben',re.IGNORECASE)"
   ]
  },
  {
   "cell_type": "code",
   "execution_count": 166,
   "id": "79db1a11-8524-4db6-a2b0-65f69d4a1c77",
   "metadata": {},
   "outputs": [
    {
     "data": {
      "text/plain": [
       "['Ben']"
      ]
     },
     "execution_count": 166,
     "metadata": {},
     "output_type": "execute_result"
    }
   ],
   "source": [
    "re.findall(pattern,text)"
   ]
  },
  {
   "cell_type": "markdown",
   "id": "9e2363fc-b5e8-4fae-b24d-ef68f85d30a9",
   "metadata": {},
   "source": [
    "**Use the text object and define a pattern for 'my' and search for it**"
   ]
  },
  {
   "cell_type": "code",
   "execution_count": 167,
   "id": "682c240e-9e32-43f0-b793-ef2cbbcc0602",
   "metadata": {},
   "outputs": [
    {
     "data": {
      "text/plain": [
       "['my', 'my']"
      ]
     },
     "execution_count": 167,
     "metadata": {},
     "output_type": "execute_result"
    }
   ],
   "source": [
    "pattern = re.compile(r\"my\")\n",
    "re.findall(pattern,text)"
   ]
  },
  {
   "cell_type": "markdown",
   "id": "77b8e1f6-ba88-4cb9-a5e1-817e1f130ecf",
   "metadata": {},
   "source": [
    "**What function will you use to replace \"my\" with \"yours\"**"
   ]
  },
  {
   "cell_type": "code",
   "execution_count": 168,
   "id": "e3af1ee9-58d4-4416-93a4-c40e36be40bb",
   "metadata": {},
   "outputs": [
    {
     "data": {
      "text/plain": [
       "'Hello, yours name is Ben. Please visit\\nyours website at http://www.forta.com/.'"
      ]
     },
     "execution_count": 168,
     "metadata": {},
     "output_type": "execute_result"
    }
   ],
   "source": [
    "re.sub(pattern,\"yours\",text)"
   ]
  },
  {
   "cell_type": "code",
   "execution_count": 169,
   "id": "91e0068d-b82f-457b-b610-97912b342644",
   "metadata": {},
   "outputs": [],
   "source": [
    "text = '''sales1.xls\n",
    "orders3.xls\n",
    "sales2.xls\n",
    "sales3.xls\n",
    "apac1.xls\n",
    "europe2.xls\n",
    "na1.xls\n",
    "na2.xls\n",
    "sa1.xls'''"
   ]
  },
  {
   "cell_type": "markdown",
   "id": "41b533b2-e44d-480c-98fa-0bd9094555d1",
   "metadata": {},
   "source": [
    "**I wanted to match all the file names that start with sales**\n",
    "\n",
    "- \".\" operator"
   ]
  },
  {
   "cell_type": "markdown",
   "id": "2033f6a9-139d-4d38-b9e7-f3767d280607",
   "metadata": {},
   "source": [
    "pattern = \"Sales.\" ==> Match any string that has \"Sales\" in it and will also match anything that follows the token \"Sales\""
   ]
  },
  {
   "cell_type": "code",
   "execution_count": 170,
   "id": "9c9a0cde-4d9e-4331-b61c-5c5f3a9c6af5",
   "metadata": {},
   "outputs": [],
   "source": [
    "pattern = re.compile(r\"Sales.\",re.IGNORECASE)"
   ]
  },
  {
   "cell_type": "code",
   "execution_count": 171,
   "id": "58aeaf6b-3f66-478a-af04-3c868253dd3a",
   "metadata": {},
   "outputs": [
    {
     "data": {
      "text/plain": [
       "['sales1', 'sales2', 'sales3']"
      ]
     },
     "execution_count": 171,
     "metadata": {},
     "output_type": "execute_result"
    }
   ],
   "source": [
    "re.findall(pattern, text)"
   ]
  },
  {
   "cell_type": "markdown",
   "id": "599654c5-ec20-4fec-8a2f-c7417e4fd4c3",
   "metadata": {},
   "source": [
    "**Match any file name that contains 'a' and a letter before 'a' and after 'a'. Find the regex for it**"
   ]
  },
  {
   "cell_type": "code",
   "execution_count": 172,
   "id": "5564ad06-6da1-4a6d-a202-595698da959c",
   "metadata": {},
   "outputs": [],
   "source": [
    "pattern = re.compile(r\".a.\")"
   ]
  },
  {
   "cell_type": "code",
   "execution_count": 173,
   "id": "e832c68a-a0ea-470c-9946-d63ccd03a855",
   "metadata": {},
   "outputs": [
    {
     "data": {
      "text/plain": [
       "['sal', 'sal', 'sal', 'pac', 'na1', 'na2', 'sa1']"
      ]
     },
     "execution_count": 173,
     "metadata": {},
     "output_type": "execute_result"
    }
   ],
   "source": [
    "re.findall(pattern, text)"
   ]
  },
  {
   "cell_type": "markdown",
   "id": "8177c9f7-aa7b-4789-9435-096aeab9e786",
   "metadata": {},
   "source": [
    "**Match parts of filename, such that there are any two letters before \"e\" and any one letter after \"e\"**"
   ]
  },
  {
   "cell_type": "code",
   "execution_count": 174,
   "id": "992deb10-9b5c-4e50-9e4b-191de233705a",
   "metadata": {},
   "outputs": [
    {
     "data": {
      "text/plain": [
       "['ales', 'rder', 'ales', 'ales', 'ope2']"
      ]
     },
     "execution_count": 174,
     "metadata": {},
     "output_type": "execute_result"
    }
   ],
   "source": [
    "pattern = re.compile(r\"..e.\")\n",
    "re.findall(pattern,text)"
   ]
  },
  {
   "cell_type": "markdown",
   "id": "2dcf807d-bae4-4e6c-b157-cabec25faf0e",
   "metadata": {},
   "source": [
    "**Extract the letter before the file extension begins**\n",
    "\"Sales.xls\"==> s"
   ]
  },
  {
   "cell_type": "code",
   "execution_count": 175,
   "id": "e29db482-14c2-4391-b681-92aaa11c4629",
   "metadata": {},
   "outputs": [
    {
     "data": {
      "text/plain": [
       "['1.xls',\n",
       " '3.xls',\n",
       " '2.xls',\n",
       " '3.xls',\n",
       " '1.xls',\n",
       " '2.xls',\n",
       " '1.xls',\n",
       " '2.xls',\n",
       " '1.xls']"
      ]
     },
     "execution_count": 175,
     "metadata": {},
     "output_type": "execute_result"
    }
   ],
   "source": [
    "pattern = re.compile(r\"..xls\")\n",
    "re.findall(pattern, text)"
   ]
  },
  {
   "cell_type": "markdown",
   "id": "3dd8348b-9d99-41a7-8743-e84df02934d4",
   "metadata": {},
   "source": [
    "\".\" is a regex operator. If you have to match \".\", you will need to escape it."
   ]
  },
  {
   "cell_type": "code",
   "execution_count": 176,
   "id": "3bda1b71-afe2-4ea3-8aaf-4edf4e86301d",
   "metadata": {},
   "outputs": [],
   "source": [
    "pattern = re.compile(r\".\\.\")"
   ]
  },
  {
   "cell_type": "code",
   "execution_count": 177,
   "id": "c71db397-478c-4586-b67e-921e0045d6df",
   "metadata": {},
   "outputs": [
    {
     "data": {
      "text/plain": [
       "['1.', '3.', '2.', '3.', '1.', '2.', '1.', '2.', '1.']"
      ]
     },
     "execution_count": 177,
     "metadata": {},
     "output_type": "execute_result"
    }
   ],
   "source": [
    "re.findall(pattern,text)"
   ]
  },
  {
   "cell_type": "markdown",
   "id": "f2c999a0-a315-48fc-b24d-cce44500a02c",
   "metadata": {},
   "source": [
    "1. Define the pattern ====> `re.compile`\n",
    "2. Search for the pattern ===> `re.findall`, replace the pattern ===> `re.sub`\n",
    "3. \".\" operator\n",
    "4. \"\\.\" to match the period in text"
   ]
  },
  {
   "cell_type": "markdown",
   "id": "98cd5438-09f1-44f1-99c1-312ce4a37a4f",
   "metadata": {},
   "source": [
    "#### How to match digits\n",
    "\n",
    "- `\\d` ===> match a single digit. 9999, one 9.\n",
    "- `\\d+` ====> `+` match one or more occurence of the preceeding pattern\n",
    "\n",
    "- `[0-9]`==== `\\d`\n",
    "- `[0-9]+`\n"
   ]
  },
  {
   "cell_type": "code",
   "execution_count": 178,
   "id": "0eded325-6f47-4ac5-99dc-eb1b1cf019b7",
   "metadata": {},
   "outputs": [
    {
     "data": {
      "text/plain": [
       "['4', '3', '8', '8', '9']"
      ]
     },
     "execution_count": 178,
     "metadata": {},
     "output_type": "execute_result"
    }
   ],
   "source": [
    "text = \"This text contains a number 43 and 889\"\n",
    "pattern = re.compile(r\"\\d\")\n",
    "re.findall(pattern,text)"
   ]
  },
  {
   "cell_type": "code",
   "execution_count": 179,
   "id": "05e87499-497d-410e-88cb-fc55c44d4e79",
   "metadata": {},
   "outputs": [
    {
     "data": {
      "text/plain": [
       "['43', '889']"
      ]
     },
     "execution_count": 179,
     "metadata": {},
     "output_type": "execute_result"
    }
   ],
   "source": [
    "pattern = re.compile(r\"\\d+\")\n",
    "re.findall(pattern, text)"
   ]
  },
  {
   "cell_type": "code",
   "execution_count": 180,
   "id": "b83083d9-301a-4e3b-abe8-931626aebff6",
   "metadata": {},
   "outputs": [
    {
     "data": {
      "text/plain": [
       "['4', '3', '8', '8', '9']"
      ]
     },
     "execution_count": 180,
     "metadata": {},
     "output_type": "execute_result"
    }
   ],
   "source": [
    "pattern = re.compile(r'[0-9]')\n",
    "re.findall(pattern, text)"
   ]
  },
  {
   "cell_type": "code",
   "execution_count": 181,
   "id": "ab20fd25-6c23-449a-9ff8-9a0f969d8dc6",
   "metadata": {},
   "outputs": [
    {
     "data": {
      "text/plain": [
       "['43', '889']"
      ]
     },
     "execution_count": 181,
     "metadata": {},
     "output_type": "execute_result"
    }
   ],
   "source": [
    "pattern = re.compile(r'[0-9]+')\n",
    "re.findall(pattern, text)"
   ]
  },
  {
   "cell_type": "markdown",
   "id": "6b7082da-4943-4fef-8c90-ce3ab379d28b",
   "metadata": {},
   "source": [
    "#### How to match an alphabet\n",
    "- `\\w`, this will match only one alphabet\n",
    "- `\\w+`, this will match one or more alphabet\n",
    "- `[a-zA-Z0-9]`, this will match only one alphabet\n",
    "- `[a-zA-Z0-9]+`, this will match one to more alphabets"
   ]
  },
  {
   "cell_type": "code",
   "execution_count": 183,
   "id": "eed1c743-5a0c-46d1-bcc6-32b1b7969379",
   "metadata": {},
   "outputs": [
    {
     "data": {
      "text/plain": [
       "['This', 'text', 'contains', 'a', 'number', '43', 'and', '889']"
      ]
     },
     "execution_count": 183,
     "metadata": {},
     "output_type": "execute_result"
    }
   ],
   "source": [
    "pattern = re.compile(r\"\\w+\")\n",
    "re.findall(pattern,text)"
   ]
  },
  {
   "cell_type": "code",
   "execution_count": 187,
   "id": "96497a98-cfa5-4397-862e-dbafee608c77",
   "metadata": {},
   "outputs": [
    {
     "data": {
      "text/plain": [
       "['This', 'text', 'contains', 'a', 'number', 'and']"
      ]
     },
     "execution_count": 187,
     "metadata": {},
     "output_type": "execute_result"
    }
   ],
   "source": [
    "pattern = re.compile(r'[a-zA-Z]+')\n",
    "re.findall(pattern,text)"
   ]
  },
  {
   "cell_type": "markdown",
   "id": "87a077e7-d7aa-4037-a9eb-778859f93fc4",
   "metadata": {},
   "source": [
    "**Find out only the postal codes which have numbers in them and no alphanumeric character**"
   ]
  },
  {
   "cell_type": "code",
   "execution_count": 191,
   "id": "400eedfe-0129-423a-b055-360fef95a3de",
   "metadata": {},
   "outputs": [],
   "source": [
    "text = '''11213\n",
    "A1C2E3\n",
    "48075\n",
    "48237\n",
    "M1B4F2\n",
    "90046\n",
    "H1H2H2'''"
   ]
  },
  {
   "cell_type": "code",
   "execution_count": 195,
   "id": "5aeb8619-7626-48c7-be51-d05831919b26",
   "metadata": {},
   "outputs": [
    {
     "data": {
      "text/plain": [
       "['11213', '48075', '48237', '90046']"
      ]
     },
     "execution_count": 195,
     "metadata": {},
     "output_type": "execute_result"
    }
   ],
   "source": [
    "pattern = re.compile(r\"\\d\\d\\d\\d\\d\")\n",
    "re.findall(pattern,text)"
   ]
  },
  {
   "cell_type": "markdown",
   "id": "11812cd9-17ac-41d0-ac18-02af0e6d1427",
   "metadata": {},
   "source": [
    "**Extract all the mentions of string myArray[0], myArray[1], myArray[2]..**"
   ]
  },
  {
   "cell_type": "code",
   "execution_count": 196,
   "id": "67a8c01e-12ac-4552-ae75-87d5d9ad3e8c",
   "metadata": {},
   "outputs": [],
   "source": [
    "text = '''\n",
    "var myArray = new Array();\n",
    "∙∙∙\n",
    "if (myArray[0] == 0) {\n",
    "∙∙∙\n",
    "}\n",
    "var myArray = new Array();\n",
    "∙∙∙\n",
    "if (myArray[1] == 0) {\n",
    "∙∙∙\n",
    "}\n",
    "var myArray = new Array();\n",
    "∙∙∙\n",
    "if (myArray[2] == 0) {\n",
    "∙∙∙\n",
    "}\n",
    "var myArray = new Array();\n",
    "∙∙∙\n",
    "if (myArray[3] == 0) {\n",
    "∙∙∙\n",
    "}\n",
    "var myArray = new Array();\n",
    "∙∙∙\n",
    "if (myArray[4] == 0) {\n",
    "∙∙∙\n",
    "}\n",
    "'''"
   ]
  },
  {
   "cell_type": "code",
   "execution_count": 198,
   "id": "64f07dd8-8b4d-4ff0-abf7-82983db63c84",
   "metadata": {},
   "outputs": [
    {
     "data": {
      "text/plain": [
       "['myArray[0]', 'myArray[1]', 'myArray[2]', 'myArray[3]', 'myArray[4]']"
      ]
     },
     "execution_count": 198,
     "metadata": {},
     "output_type": "execute_result"
    }
   ],
   "source": [
    "pattern = re.compile(r\"\\w{7}.\\d.\")\n",
    "re.findall(pattern,text)"
   ]
  },
  {
   "cell_type": "code",
   "execution_count": 201,
   "id": "ff35b029-088a-497c-ad56-695fe69eb37e",
   "metadata": {},
   "outputs": [],
   "source": [
    "text = '''Send personal email to ben@forta.com or\n",
    "ben.forta@forta.com. For questions about a\n",
    "book use support@forta.com. If your message\n",
    "is urgent try ben@urgent.forta.com. Feel\n",
    "free to send unsolicited email to\n",
    "spam@forta.com (wouldn't it be nice if\n",
    "it were that simple, huh?).'''"
   ]
  },
  {
   "cell_type": "markdown",
   "id": "c7f4928e-af9f-44de-91d3-e67b89b7ef73",
   "metadata": {},
   "source": [
    "**Extract email ids**"
   ]
  },
  {
   "cell_type": "code",
   "execution_count": null,
   "id": "c211759d-2bad-48c1-a2ca-cef0ccd98c79",
   "metadata": {},
   "outputs": [],
   "source": []
  }
 ],
 "metadata": {
  "kernelspec": {
   "display_name": "Python 3 (ipykernel)",
   "language": "python",
   "name": "python3"
  },
  "language_info": {
   "codemirror_mode": {
    "name": "ipython",
    "version": 3
   },
   "file_extension": ".py",
   "mimetype": "text/x-python",
   "name": "python",
   "nbconvert_exporter": "python",
   "pygments_lexer": "ipython3",
   "version": "3.9.10"
  }
 },
 "nbformat": 4,
 "nbformat_minor": 5
}
